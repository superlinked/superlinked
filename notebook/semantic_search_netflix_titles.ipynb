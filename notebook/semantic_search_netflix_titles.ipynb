{
 "cells": [
  {
   "cell_type": "markdown",
   "id": "9b043a5f-b961-4c6c-9107-f9ae8f0778f3",
   "metadata": {},
   "source": [
    "# Netflix movie search\n",
    "\n",
    "Finding out what to watch is tough choice mainly because of the abundance of options and the scarcity of time.\n",
    "Let's follow a data-driven approach to arrive at a decision!\n",
    "\n",
    "In our [dataset](https://www.kaggle.com/datasets/dgoenrique/netflix-movies-and-tv-shows) of movies, we know the\n",
    "- description,\n",
    "- genre\n",
    "- title\n",
    "- and the release_year\n",
    "of the movie.\n",
    "\n",
    "Putting together a vector index on top of these embedded inputs will create a space where we can search semantically to find our movie choice for tonight.\n",
    "\n",
    "We are going to browse the movies\n",
    "\n",
    "- searching with an idea (heartfelt romantic comedy)\n",
    "- tweak around the results giving more importance to matches in certain input fields\n",
    "- search in description, genre and title with different search terms for each\n",
    "- and after finding a close enough movie (that is not quite it), search around utilizing that one, too"
   ]
  },
  {
   "cell_type": "markdown",
   "id": "80fdfc22-58c9-4355-97e9-685ced8a8a1e",
   "metadata": {},
   "source": [
    "## Boilerplate\n",
    "\n",
    "### Installation"
   ]
  },
  {
   "cell_type": "code",
   "execution_count": 20,
   "id": "782788ff-ea73-4e06-8fd2-b4a114b5f25d",
   "metadata": {
    "scrolled": true
   },
   "outputs": [],
   "source": [
    "%pip install superlinked==36.1.0"
   ]
  },
  {
   "cell_type": "markdown",
   "id": "cb50885c-536e-480a-b3a1-3c0d4449d64b",
   "metadata": {},
   "source": [
    "### Imports and constants"
   ]
  },
  {
   "cell_type": "code",
   "execution_count": 21,
   "id": "f641dd4c-2df4-460d-bd96-f0b654e1bd05",
   "metadata": {},
   "outputs": [],
   "source": [
    "import ast\n",
    "from datetime import timedelta, datetime\n",
    "import os\n",
    "import sys\n",
    "\n",
    "import altair as alt\n",
    "import pandas as pd\n",
    "from superlinked import framework as sl\n",
    "\n",
    "alt.renderers.enable(sl.get_altair_renderer())\n",
    "alt.data_transformers.disable_max_rows()\n",
    "pd.set_option(\"display.max_colwidth\", 190)"
   ]
  },
  {
   "cell_type": "code",
   "execution_count": 22,
   "id": "2b55a3d8-dbe3-4f35-be21-11864226252d",
   "metadata": {},
   "outputs": [],
   "source": [
    "YEAR_IN_DAYS = 365\n",
    "TOP_N = 10\n",
    "DATASET_URL = \"https://storage.googleapis.com/superlinked-notebook-netflix-shows-dataset/titles.csv\"\n",
    "# as our latest movie is from 2022 we can set this as the time of the analysis\n",
    "END_OF_2022_TS = int(datetime(2022, 12, 31, 23, 59).timestamp())\n",
    "EXECUTOR_DATA = {sl.CONTEXT_COMMON: {sl.CONTEXT_COMMON_NOW: END_OF_2022_TS}}"
   ]
  },
  {
   "cell_type": "markdown",
   "id": "480739b3-b03f-426d-9eec-affb54d86228",
   "metadata": {},
   "source": [
    "## Prepare dataset"
   ]
  },
  {
   "cell_type": "code",
   "execution_count": 23,
   "id": "339d4fcf-50d2-4d5c-a800-14807a2d4cfb",
   "metadata": {},
   "outputs": [
    {
     "data": {
      "text/html": [
       "<div>\n",
       "<style scoped>\n",
       "    .dataframe tbody tr th:only-of-type {\n",
       "        vertical-align: middle;\n",
       "    }\n",
       "\n",
       "    .dataframe tbody tr th {\n",
       "        vertical-align: top;\n",
       "    }\n",
       "\n",
       "    .dataframe thead th {\n",
       "        text-align: right;\n",
       "    }\n",
       "</style>\n",
       "<table border=\"1\" class=\"dataframe\">\n",
       "  <thead>\n",
       "    <tr style=\"text-align: right;\">\n",
       "      <th></th>\n",
       "      <th>description</th>\n",
       "      <th>genres</th>\n",
       "      <th>title</th>\n",
       "      <th>release_year</th>\n",
       "      <th>id</th>\n",
       "      <th>timestamp</th>\n",
       "    </tr>\n",
       "  </thead>\n",
       "  <tbody>\n",
       "    <tr>\n",
       "      <th>0</th>\n",
       "      <td>This collection includes 12 World War II-era propaganda films — many of which are graphic and offensive — discussed in the docuseries \"Five Came Back.\"</td>\n",
       "      <td>documentation</td>\n",
       "      <td>Five Came Back: The Reference Films</td>\n",
       "      <td>1945</td>\n",
       "      <td>ts300399</td>\n",
       "      <td>-788918400</td>\n",
       "    </tr>\n",
       "    <tr>\n",
       "      <th>1</th>\n",
       "      <td>A mentally unstable Vietnam War veteran works as a night-time taxi driver in New York City where the perceived decadence and sleaze feed his urge for violent action.</td>\n",
       "      <td>drama crime</td>\n",
       "      <td>Taxi Driver</td>\n",
       "      <td>1976</td>\n",
       "      <td>tm84618</td>\n",
       "      <td>189302400</td>\n",
       "    </tr>\n",
       "    <tr>\n",
       "      <th>2</th>\n",
       "      <td>Intent on seeing the Cahulawassee River before it's turned into one huge lake, outdoor fanatic Lewis Medlock takes his friends on a river-rafting trip they'll never forget into the dange...</td>\n",
       "      <td>drama action thriller european</td>\n",
       "      <td>Deliverance</td>\n",
       "      <td>1972</td>\n",
       "      <td>tm154986</td>\n",
       "      <td>63072000</td>\n",
       "    </tr>\n",
       "    <tr>\n",
       "      <th>3</th>\n",
       "      <td>King Arthur, accompanied by his squire, recruits his Knights of the Round Table, including Sir Bedevere the Wise, Sir Lancelot the Brave, Sir Robin the Not-Quite-So-Brave-As-Sir-Lancelot...</td>\n",
       "      <td>fantasy action comedy</td>\n",
       "      <td>Monty Python and the Holy Grail</td>\n",
       "      <td>1975</td>\n",
       "      <td>tm127384</td>\n",
       "      <td>157766400</td>\n",
       "    </tr>\n",
       "    <tr>\n",
       "      <th>4</th>\n",
       "      <td>12 American military prisoners in World War II are ordered to infiltrate a well-guarded enemy château and kill the Nazi officers vacationing there. The soldiers, most of whom are facing ...</td>\n",
       "      <td>war action</td>\n",
       "      <td>The Dirty Dozen</td>\n",
       "      <td>1967</td>\n",
       "      <td>tm120801</td>\n",
       "      <td>-94694400</td>\n",
       "    </tr>\n",
       "  </tbody>\n",
       "</table>\n",
       "</div>"
      ],
      "text/plain": [
       "                                                                                                                                                                                     description  \\\n",
       "0                                        This collection includes 12 World War II-era propaganda films — many of which are graphic and offensive — discussed in the docuseries \"Five Came Back.\"   \n",
       "1                          A mentally unstable Vietnam War veteran works as a night-time taxi driver in New York City where the perceived decadence and sleaze feed his urge for violent action.   \n",
       "2  Intent on seeing the Cahulawassee River before it's turned into one huge lake, outdoor fanatic Lewis Medlock takes his friends on a river-rafting trip they'll never forget into the dange...   \n",
       "3  King Arthur, accompanied by his squire, recruits his Knights of the Round Table, including Sir Bedevere the Wise, Sir Lancelot the Brave, Sir Robin the Not-Quite-So-Brave-As-Sir-Lancelot...   \n",
       "4  12 American military prisoners in World War II are ordered to infiltrate a well-guarded enemy château and kill the Nazi officers vacationing there. The soldiers, most of whom are facing ...   \n",
       "\n",
       "                           genres                                title  \\\n",
       "0                   documentation  Five Came Back: The Reference Films   \n",
       "1                     drama crime                          Taxi Driver   \n",
       "2  drama action thriller european                          Deliverance   \n",
       "3           fantasy action comedy      Monty Python and the Holy Grail   \n",
       "4                      war action                      The Dirty Dozen   \n",
       "\n",
       "   release_year        id  timestamp  \n",
       "0          1945  ts300399 -788918400  \n",
       "1          1976   tm84618  189302400  \n",
       "2          1972  tm154986   63072000  \n",
       "3          1975  tm127384  157766400  \n",
       "4          1967  tm120801  -94694400  "
      ]
     },
     "execution_count": 23,
     "metadata": {},
     "output_type": "execute_result"
    }
   ],
   "source": [
    "NROWS = int(os.getenv(\"NOTEBOOK_TEST_ROW_LIMIT\", str(sys.maxsize)))\n",
    "movie_df = pd.read_csv(DATASET_URL, nrows=NROWS)\n",
    "# keep only relevant columns\n",
    "movie_df = (\n",
    "    pd.DataFrame(movie_df[[\"description\", \"genres\", \"title\", \"release_year\", \"id\"]])\n",
    "    .drop_duplicates(subset=[\"description\"])\n",
    "    .dropna(how=\"any\")\n",
    ")\n",
    "# join genres to create a textual column\n",
    "movie_df[\"genres\"] = movie_df[\"genres\"].apply(lambda x: \" \".join(ast.literal_eval(x)))\n",
    "# convert release year to a timestamp - always the 1st of January\n",
    "movie_df[\"timestamp\"] = [\n",
    "    int(pd.Timestamp(year=year, month=1, day=1).timestamp()) for year in movie_df[\"release_year\"].tolist()\n",
    "]\n",
    "movie_df.head()"
   ]
  },
  {
   "cell_type": "code",
   "execution_count": 24,
   "id": "4cfe8e4b-a22d-4b79-acf3-e1dc91bb3ec7",
   "metadata": {},
   "outputs": [
    {
     "data": {
      "application/vnd.vegalite.v5+json": {
       "$schema": "https://vega.github.io/schema/vega-lite/v5.16.3.json",
       "config": {
        "view": {
         "continuousHeight": 300,
         "continuousWidth": 300
        }
       },
       "data": {
        "name": "data-1193ce539508db5243d364ac44c0c4ed"
       },
       "datasets": {
        "data-1193ce539508db5243d364ac44c0c4ed": [
         {
          "release_year": "1945"
         },
         {
          "release_year": "1976"
         },
         {
          "release_year": "1972"
         },
         {
          "release_year": "1975"
         },
         {
          "release_year": "1967"
         },
         {
          "release_year": "1969"
         },
         {
          "release_year": "1979"
         },
         {
          "release_year": "1971"
         },
         {
          "release_year": "1967"
         },
         {
          "release_year": "1980"
         },
         {
          "release_year": "1961"
         },
         {
          "release_year": "1966"
         },
         {
          "release_year": "1979"
         },
         {
          "release_year": "1954"
         },
         {
          "release_year": "1958"
         },
         {
          "release_year": "1977"
         },
         {
          "release_year": "1972"
         },
         {
          "release_year": "1979"
         },
         {
          "release_year": "1969"
         },
         {
          "release_year": "1980"
         },
         {
          "release_year": "1963"
         },
         {
          "release_year": "1979"
         },
         {
          "release_year": "1954"
         },
         {
          "release_year": "1956"
         },
         {
          "release_year": "1979"
         },
         {
          "release_year": "1960"
         },
         {
          "release_year": "1972"
         },
         {
          "release_year": "1975"
         },
         {
          "release_year": "1976"
         },
         {
          "release_year": "1973"
         },
         {
          "release_year": "1974"
         },
         {
          "release_year": "1959"
         },
         {
          "release_year": "1980"
         },
         {
          "release_year": "1976"
         },
         {
          "release_year": "1978"
         },
         {
          "release_year": "1989"
         },
         {
          "release_year": "1990"
         },
         {
          "release_year": "1987"
         },
         {
          "release_year": "1984"
         },
         {
          "release_year": "1989"
         },
         {
          "release_year": "1984"
         },
         {
          "release_year": "1989"
         },
         {
          "release_year": "1984"
         },
         {
          "release_year": "1983"
         },
         {
          "release_year": "1982"
         },
         {
          "release_year": "1984"
         },
         {
          "release_year": "1989"
         },
         {
          "release_year": "1990"
         },
         {
          "release_year": "1983"
         },
         {
          "release_year": "1989"
         },
         {
          "release_year": "1989"
         },
         {
          "release_year": "1987"
         },
         {
          "release_year": "1986"
         },
         {
          "release_year": "1989"
         },
         {
          "release_year": "1981"
         },
         {
          "release_year": "1981"
         },
         {
          "release_year": "1983"
         },
         {
          "release_year": "1988"
         },
         {
          "release_year": "1981"
         },
         {
          "release_year": "1987"
         },
         {
          "release_year": "1987"
         },
         {
          "release_year": "1985"
         },
         {
          "release_year": "1990"
         },
         {
          "release_year": "1982"
         },
         {
          "release_year": "1982"
         },
         {
          "release_year": "1982"
         },
         {
          "release_year": "1990"
         },
         {
          "release_year": "1989"
         },
         {
          "release_year": "1988"
         },
         {
          "release_year": "1988"
         },
         {
          "release_year": "1989"
         },
         {
          "release_year": "1990"
         },
         {
          "release_year": "1986"
         },
         {
          "release_year": "1988"
         },
         {
          "release_year": "1990"
         },
         {
          "release_year": "1989"
         },
         {
          "release_year": "1989"
         },
         {
          "release_year": "1988"
         },
         {
          "release_year": "1989"
         },
         {
          "release_year": "1984"
         },
         {
          "release_year": "1987"
         },
         {
          "release_year": "1986"
         },
         {
          "release_year": "1988"
         },
         {
          "release_year": "1988"
         },
         {
          "release_year": "1987"
         },
         {
          "release_year": "1986"
         },
         {
          "release_year": "1984"
         },
         {
          "release_year": "1983"
         },
         {
          "release_year": "1982"
         },
         {
          "release_year": "1982"
         },
         {
          "release_year": "1990"
         },
         {
          "release_year": "2000"
         },
         {
          "release_year": "1996"
         },
         {
          "release_year": "1997"
         },
         {
          "release_year": "1995"
         },
         {
          "release_year": "1997"
         },
         {
          "release_year": "1997"
         },
         {
          "release_year": "1994"
         },
         {
          "release_year": "2000"
         },
         {
          "release_year": "1999"
         },
         {
          "release_year": "1999"
         },
         {
          "release_year": "1998"
         },
         {
          "release_year": "1997"
         },
         {
          "release_year": "1998"
         },
         {
          "release_year": "1997"
         },
         {
          "release_year": "2000"
         },
         {
          "release_year": "1994"
         },
         {
          "release_year": "1995"
         },
         {
          "release_year": "1997"
         },
         {
          "release_year": "1994"
         },
         {
          "release_year": "2000"
         },
         {
          "release_year": "1994"
         },
         {
          "release_year": "1995"
         },
         {
          "release_year": "1998"
         },
         {
          "release_year": "1993"
         },
         {
          "release_year": "1999"
         },
         {
          "release_year": "1998"
         },
         {
          "release_year": "1998"
         },
         {
          "release_year": "1997"
         },
         {
          "release_year": "1994"
         },
         {
          "release_year": "1995"
         },
         {
          "release_year": "2000"
         },
         {
          "release_year": "1992"
         },
         {
          "release_year": "1999"
         },
         {
          "release_year": "1993"
         },
         {
          "release_year": "1994"
         },
         {
          "release_year": "1991"
         },
         {
          "release_year": "1994"
         },
         {
          "release_year": "1996"
         },
         {
          "release_year": "1997"
         },
         {
          "release_year": "1997"
         },
         {
          "release_year": "1993"
         },
         {
          "release_year": "1994"
         },
         {
          "release_year": "1998"
         },
         {
          "release_year": "1992"
         },
         {
          "release_year": "1997"
         },
         {
          "release_year": "1996"
         },
         {
          "release_year": "2000"
         },
         {
          "release_year": "1997"
         },
         {
          "release_year": "1995"
         },
         {
          "release_year": "1993"
         },
         {
          "release_year": "1993"
         },
         {
          "release_year": "1995"
         },
         {
          "release_year": "1994"
         },
         {
          "release_year": "1998"
         },
         {
          "release_year": "1991"
         },
         {
          "release_year": "1997"
         },
         {
          "release_year": "1998"
         },
         {
          "release_year": "1997"
         },
         {
          "release_year": "1993"
         },
         {
          "release_year": "1998"
         },
         {
          "release_year": "2000"
         },
         {
          "release_year": "1994"
         },
         {
          "release_year": "1993"
         },
         {
          "release_year": "1997"
         },
         {
          "release_year": "1995"
         },
         {
          "release_year": "1998"
         },
         {
          "release_year": "1999"
         },
         {
          "release_year": "1994"
         },
         {
          "release_year": "1996"
         },
         {
          "release_year": "1994"
         },
         {
          "release_year": "1999"
         },
         {
          "release_year": "1998"
         },
         {
          "release_year": "1994"
         },
         {
          "release_year": "1991"
         },
         {
          "release_year": "2000"
         },
         {
          "release_year": "1994"
         },
         {
          "release_year": "1998"
         },
         {
          "release_year": "1998"
         },
         {
          "release_year": "1998"
         },
         {
          "release_year": "1993"
         },
         {
          "release_year": "1999"
         },
         {
          "release_year": "1993"
         },
         {
          "release_year": "1998"
         },
         {
          "release_year": "1991"
         },
         {
          "release_year": "1993"
         },
         {
          "release_year": "1995"
         },
         {
          "release_year": "1991"
         },
         {
          "release_year": "1999"
         },
         {
          "release_year": "1998"
         },
         {
          "release_year": "1991"
         },
         {
          "release_year": "1996"
         },
         {
          "release_year": "1993"
         },
         {
          "release_year": "1999"
         },
         {
          "release_year": "1997"
         },
         {
          "release_year": "1996"
         },
         {
          "release_year": "1995"
         },
         {
          "release_year": "1998"
         },
         {
          "release_year": "1998"
         },
         {
          "release_year": "1997"
         },
         {
          "release_year": "1998"
         },
         {
          "release_year": "1996"
         },
         {
          "release_year": "1994"
         },
         {
          "release_year": "1991"
         },
         {
          "release_year": "2000"
         },
         {
          "release_year": "1999"
         },
         {
          "release_year": "1992"
         },
         {
          "release_year": "1991"
         },
         {
          "release_year": "1991"
         },
         {
          "release_year": "1998"
         },
         {
          "release_year": "1993"
         },
         {
          "release_year": "1991"
         },
         {
          "release_year": "1993"
         },
         {
          "release_year": "1998"
         },
         {
          "release_year": "1993"
         },
         {
          "release_year": "2000"
         },
         {
          "release_year": "2000"
         },
         {
          "release_year": "1999"
         },
         {
          "release_year": "1991"
         },
         {
          "release_year": "1994"
         },
         {
          "release_year": "1999"
         },
         {
          "release_year": "1995"
         },
         {
          "release_year": "1998"
         },
         {
          "release_year": "1991"
         },
         {
          "release_year": "1999"
         },
         {
          "release_year": "1991"
         },
         {
          "release_year": "2008"
         },
         {
          "release_year": "2002"
         },
         {
          "release_year": "2010"
         },
         {
          "release_year": "2005"
         },
         {
          "release_year": "2007"
         },
         {
          "release_year": "2004"
         },
         {
          "release_year": "2010"
         },
         {
          "release_year": "2006"
         },
         {
          "release_year": "2010"
         },
         {
          "release_year": "2009"
         },
         {
          "release_year": "2002"
         },
         {
          "release_year": "2005"
         },
         {
          "release_year": "2003"
         },
         {
          "release_year": "2007"
         },
         {
          "release_year": "2004"
         },
         {
          "release_year": "2003"
         },
         {
          "release_year": "2003"
         },
         {
          "release_year": "2005"
         },
         {
          "release_year": "2004"
         },
         {
          "release_year": "2006"
         },
         {
          "release_year": "2006"
         },
         {
          "release_year": "2010"
         },
         {
          "release_year": "2008"
         },
         {
          "release_year": "2006"
         },
         {
          "release_year": "2005"
         },
         {
          "release_year": "2010"
         },
         {
          "release_year": "2005"
         },
         {
          "release_year": "2006"
         },
         {
          "release_year": "2009"
         },
         {
          "release_year": "2002"
         },
         {
          "release_year": "2008"
         },
         {
          "release_year": "2006"
         },
         {
          "release_year": "2010"
         },
         {
          "release_year": "2007"
         },
         {
          "release_year": "2003"
         },
         {
          "release_year": "2004"
         },
         {
          "release_year": "2007"
         },
         {
          "release_year": "2002"
         },
         {
          "release_year": "2010"
         },
         {
          "release_year": "2003"
         },
         {
          "release_year": "2008"
         },
         {
          "release_year": "2004"
         },
         {
          "release_year": "2009"
         },
         {
          "release_year": "2001"
         },
         {
          "release_year": "2003"
         },
         {
          "release_year": "2003"
         },
         {
          "release_year": "2008"
         },
         {
          "release_year": "2008"
         },
         {
          "release_year": "2009"
         },
         {
          "release_year": "2001"
         },
         {
          "release_year": "2003"
         },
         {
          "release_year": "2007"
         },
         {
          "release_year": "2001"
         },
         {
          "release_year": "2010"
         },
         {
          "release_year": "2004"
         },
         {
          "release_year": "2004"
         },
         {
          "release_year": "2010"
         },
         {
          "release_year": "2009"
         },
         {
          "release_year": "2001"
         },
         {
          "release_year": "2001"
         },
         {
          "release_year": "2008"
         },
         {
          "release_year": "2007"
         },
         {
          "release_year": "2006"
         },
         {
          "release_year": "2003"
         },
         {
          "release_year": "2008"
         },
         {
          "release_year": "2003"
         },
         {
          "release_year": "2004"
         },
         {
          "release_year": "2001"
         },
         {
          "release_year": "2008"
         },
         {
          "release_year": "2010"
         },
         {
          "release_year": "2009"
         },
         {
          "release_year": "2001"
         },
         {
          "release_year": "2010"
         },
         {
          "release_year": "2007"
         },
         {
          "release_year": "2006"
         },
         {
          "release_year": "2002"
         },
         {
          "release_year": "2008"
         },
         {
          "release_year": "2006"
         },
         {
          "release_year": "2007"
         },
         {
          "release_year": "2010"
         },
         {
          "release_year": "2006"
         },
         {
          "release_year": "2005"
         },
         {
          "release_year": "2008"
         },
         {
          "release_year": "2008"
         },
         {
          "release_year": "2009"
         },
         {
          "release_year": "2007"
         },
         {
          "release_year": "2010"
         },
         {
          "release_year": "2008"
         },
         {
          "release_year": "2010"
         },
         {
          "release_year": "2004"
         },
         {
          "release_year": "2005"
         },
         {
          "release_year": "2007"
         },
         {
          "release_year": "2010"
         },
         {
          "release_year": "2003"
         },
         {
          "release_year": "2006"
         },
         {
          "release_year": "2002"
         },
         {
          "release_year": "2010"
         },
         {
          "release_year": "2007"
         },
         {
          "release_year": "2005"
         },
         {
          "release_year": "2002"
         },
         {
          "release_year": "2009"
         },
         {
          "release_year": "2001"
         },
         {
          "release_year": "2006"
         },
         {
          "release_year": "2003"
         },
         {
          "release_year": "2002"
         },
         {
          "release_year": "2003"
         },
         {
          "release_year": "2003"
         },
         {
          "release_year": "2010"
         },
         {
          "release_year": "2008"
         },
         {
          "release_year": "2006"
         },
         {
          "release_year": "2009"
         },
         {
          "release_year": "2003"
         },
         {
          "release_year": "2007"
         },
         {
          "release_year": "2004"
         },
         {
          "release_year": "2009"
         },
         {
          "release_year": "2003"
         },
         {
          "release_year": "2007"
         },
         {
          "release_year": "2007"
         },
         {
          "release_year": "2008"
         },
         {
          "release_year": "2009"
         },
         {
          "release_year": "2006"
         },
         {
          "release_year": "2007"
         },
         {
          "release_year": "2008"
         },
         {
          "release_year": "2010"
         },
         {
          "release_year": "2005"
         },
         {
          "release_year": "2004"
         },
         {
          "release_year": "2004"
         },
         {
          "release_year": "2005"
         },
         {
          "release_year": "2002"
         },
         {
          "release_year": "2006"
         },
         {
          "release_year": "2009"
         },
         {
          "release_year": "2001"
         },
         {
          "release_year": "2005"
         },
         {
          "release_year": "2007"
         },
         {
          "release_year": "2002"
         },
         {
          "release_year": "2005"
         },
         {
          "release_year": "2006"
         },
         {
          "release_year": "2010"
         },
         {
          "release_year": "2010"
         },
         {
          "release_year": "2010"
         },
         {
          "release_year": "2005"
         },
         {
          "release_year": "2007"
         },
         {
          "release_year": "2007"
         },
         {
          "release_year": "2004"
         },
         {
          "release_year": "2004"
         },
         {
          "release_year": "2006"
         },
         {
          "release_year": "2007"
         },
         {
          "release_year": "2006"
         },
         {
          "release_year": "2009"
         },
         {
          "release_year": "2010"
         },
         {
          "release_year": "2010"
         },
         {
          "release_year": "2008"
         },
         {
          "release_year": "2006"
         },
         {
          "release_year": "2010"
         },
         {
          "release_year": "2008"
         },
         {
          "release_year": "2009"
         },
         {
          "release_year": "2007"
         },
         {
          "release_year": "2009"
         },
         {
          "release_year": "2002"
         },
         {
          "release_year": "2009"
         },
         {
          "release_year": "2009"
         },
         {
          "release_year": "2002"
         },
         {
          "release_year": "2003"
         },
         {
          "release_year": "2010"
         },
         {
          "release_year": "2004"
         },
         {
          "release_year": "2006"
         },
         {
          "release_year": "2009"
         },
         {
          "release_year": "2010"
         },
         {
          "release_year": "2003"
         },
         {
          "release_year": "2008"
         },
         {
          "release_year": "2007"
         },
         {
          "release_year": "2008"
         },
         {
          "release_year": "2005"
         },
         {
          "release_year": "2007"
         },
         {
          "release_year": "2009"
         },
         {
          "release_year": "2007"
         },
         {
          "release_year": "2009"
         },
         {
          "release_year": "2005"
         },
         {
          "release_year": "2006"
         },
         {
          "release_year": "2010"
         },
         {
          "release_year": "2006"
         },
         {
          "release_year": "2005"
         },
         {
          "release_year": "2004"
         },
         {
          "release_year": "2010"
         },
         {
          "release_year": "2006"
         },
         {
          "release_year": "2007"
         },
         {
          "release_year": "2010"
         },
         {
          "release_year": "2007"
         },
         {
          "release_year": "2009"
         },
         {
          "release_year": "2002"
         },
         {
          "release_year": "2001"
         },
         {
          "release_year": "2003"
         },
         {
          "release_year": "2007"
         },
         {
          "release_year": "2008"
         },
         {
          "release_year": "2004"
         },
         {
          "release_year": "2008"
         },
         {
          "release_year": "2008"
         },
         {
          "release_year": "2007"
         },
         {
          "release_year": "2010"
         },
         {
          "release_year": "2007"
         },
         {
          "release_year": "2008"
         },
         {
          "release_year": "2001"
         },
         {
          "release_year": "2001"
         },
         {
          "release_year": "2004"
         },
         {
          "release_year": "2006"
         },
         {
          "release_year": "2006"
         },
         {
          "release_year": "2010"
         },
         {
          "release_year": "2006"
         },
         {
          "release_year": "2009"
         },
         {
          "release_year": "2006"
         },
         {
          "release_year": "2009"
         },
         {
          "release_year": "2009"
         },
         {
          "release_year": "2007"
         },
         {
          "release_year": "2010"
         },
         {
          "release_year": "2007"
         },
         {
          "release_year": "2009"
         },
         {
          "release_year": "2008"
         },
         {
          "release_year": "2010"
         },
         {
          "release_year": "2001"
         },
         {
          "release_year": "2003"
         },
         {
          "release_year": "2001"
         },
         {
          "release_year": "2008"
         },
         {
          "release_year": "2006"
         },
         {
          "release_year": "2008"
         },
         {
          "release_year": "2007"
         },
         {
          "release_year": "2009"
         },
         {
          "release_year": "2006"
         },
         {
          "release_year": "2010"
         },
         {
          "release_year": "2002"
         },
         {
          "release_year": "2005"
         },
         {
          "release_year": "2004"
         },
         {
          "release_year": "2009"
         },
         {
          "release_year": "2010"
         },
         {
          "release_year": "2008"
         },
         {
          "release_year": "2006"
         },
         {
          "release_year": "2006"
         },
         {
          "release_year": "2009"
         },
         {
          "release_year": "2008"
         },
         {
          "release_year": "2004"
         },
         {
          "release_year": "2009"
         },
         {
          "release_year": "2010"
         },
         {
          "release_year": "2004"
         },
         {
          "release_year": "2009"
         },
         {
          "release_year": "2001"
         },
         {
          "release_year": "2004"
         },
         {
          "release_year": "2005"
         },
         {
          "release_year": "2008"
         },
         {
          "release_year": "2007"
         },
         {
          "release_year": "2002"
         },
         {
          "release_year": "2008"
         },
         {
          "release_year": "2002"
         },
         {
          "release_year": "2004"
         },
         {
          "release_year": "2010"
         },
         {
          "release_year": "2005"
         },
         {
          "release_year": "2010"
         },
         {
          "release_year": "2008"
         },
         {
          "release_year": "2008"
         },
         {
          "release_year": "2009"
         },
         {
          "release_year": "2006"
         },
         {
          "release_year": "2003"
         },
         {
          "release_year": "2004"
         },
         {
          "release_year": "2006"
         },
         {
          "release_year": "2004"
         },
         {
          "release_year": "2005"
         },
         {
          "release_year": "2008"
         },
         {
          "release_year": "2009"
         },
         {
          "release_year": "2008"
         },
         {
          "release_year": "2002"
         },
         {
          "release_year": "2006"
         },
         {
          "release_year": "2005"
         },
         {
          "release_year": "2006"
         },
         {
          "release_year": "2010"
         },
         {
          "release_year": "2007"
         },
         {
          "release_year": "2007"
         },
         {
          "release_year": "2006"
         },
         {
          "release_year": "2010"
         },
         {
          "release_year": "2004"
         },
         {
          "release_year": "2009"
         },
         {
          "release_year": "2005"
         },
         {
          "release_year": "2008"
         },
         {
          "release_year": "2010"
         },
         {
          "release_year": "2007"
         },
         {
          "release_year": "2010"
         },
         {
          "release_year": "2009"
         },
         {
          "release_year": "2006"
         },
         {
          "release_year": "2005"
         },
         {
          "release_year": "2009"
         },
         {
          "release_year": "2008"
         },
         {
          "release_year": "2008"
         },
         {
          "release_year": "2005"
         },
         {
          "release_year": "2007"
         },
         {
          "release_year": "2007"
         },
         {
          "release_year": "2010"
         },
         {
          "release_year": "2004"
         },
         {
          "release_year": "2008"
         },
         {
          "release_year": "2009"
         },
         {
          "release_year": "2010"
         },
         {
          "release_year": "2008"
         },
         {
          "release_year": "2001"
         },
         {
          "release_year": "2010"
         },
         {
          "release_year": "2009"
         },
         {
          "release_year": "2002"
         },
         {
          "release_year": "2010"
         },
         {
          "release_year": "2009"
         },
         {
          "release_year": "2003"
         },
         {
          "release_year": "2005"
         },
         {
          "release_year": "2008"
         },
         {
          "release_year": "2008"
         },
         {
          "release_year": "2005"
         },
         {
          "release_year": "2007"
         },
         {
          "release_year": "2002"
         },
         {
          "release_year": "2004"
         },
         {
          "release_year": "2009"
         },
         {
          "release_year": "2009"
         },
         {
          "release_year": "2005"
         },
         {
          "release_year": "2007"
         },
         {
          "release_year": "2009"
         },
         {
          "release_year": "2006"
         },
         {
          "release_year": "2009"
         },
         {
          "release_year": "2009"
         },
         {
          "release_year": "2006"
         },
         {
          "release_year": "2008"
         },
         {
          "release_year": "2004"
         },
         {
          "release_year": "2001"
         },
         {
          "release_year": "2006"
         },
         {
          "release_year": "2008"
         },
         {
          "release_year": "2010"
         },
         {
          "release_year": "2004"
         },
         {
          "release_year": "2008"
         },
         {
          "release_year": "2005"
         },
         {
          "release_year": "2003"
         },
         {
          "release_year": "2008"
         },
         {
          "release_year": "2008"
         },
         {
          "release_year": "2010"
         },
         {
          "release_year": "2010"
         },
         {
          "release_year": "2009"
         },
         {
          "release_year": "2004"
         },
         {
          "release_year": "2004"
         },
         {
          "release_year": "2003"
         },
         {
          "release_year": "2010"
         },
         {
          "release_year": "2008"
         },
         {
          "release_year": "2009"
         },
         {
          "release_year": "2001"
         },
         {
          "release_year": "2010"
         },
         {
          "release_year": "2008"
         },
         {
          "release_year": "2010"
         },
         {
          "release_year": "2002"
         },
         {
          "release_year": "2005"
         },
         {
          "release_year": "2009"
         },
         {
          "release_year": "2009"
         },
         {
          "release_year": "2003"
         },
         {
          "release_year": "2008"
         },
         {
          "release_year": "2007"
         },
         {
          "release_year": "2007"
         },
         {
          "release_year": "2008"
         },
         {
          "release_year": "2005"
         },
         {
          "release_year": "2003"
         },
         {
          "release_year": "2003"
         },
         {
          "release_year": "2010"
         },
         {
          "release_year": "2010"
         },
         {
          "release_year": "2002"
         },
         {
          "release_year": "2009"
         },
         {
          "release_year": "2008"
         },
         {
          "release_year": "2009"
         },
         {
          "release_year": "2003"
         },
         {
          "release_year": "2008"
         },
         {
          "release_year": "2008"
         },
         {
          "release_year": "2006"
         },
         {
          "release_year": "2008"
         },
         {
          "release_year": "2004"
         },
         {
          "release_year": "2008"
         },
         {
          "release_year": "2008"
         },
         {
          "release_year": "2009"
         },
         {
          "release_year": "2003"
         },
         {
          "release_year": "2004"
         },
         {
          "release_year": "2010"
         },
         {
          "release_year": "2010"
         },
         {
          "release_year": "2007"
         },
         {
          "release_year": "2004"
         },
         {
          "release_year": "2008"
         },
         {
          "release_year": "2008"
         },
         {
          "release_year": "2008"
         },
         {
          "release_year": "2009"
         },
         {
          "release_year": "2007"
         },
         {
          "release_year": "2001"
         },
         {
          "release_year": "2005"
         },
         {
          "release_year": "2007"
         },
         {
          "release_year": "2010"
         },
         {
          "release_year": "2010"
         },
         {
          "release_year": "2009"
         },
         {
          "release_year": "2010"
         },
         {
          "release_year": "2004"
         },
         {
          "release_year": "2009"
         },
         {
          "release_year": "2009"
         },
         {
          "release_year": "2009"
         },
         {
          "release_year": "2008"
         },
         {
          "release_year": "2010"
         },
         {
          "release_year": "2007"
         },
         {
          "release_year": "2009"
         },
         {
          "release_year": "2006"
         },
         {
          "release_year": "2007"
         },
         {
          "release_year": "2002"
         },
         {
          "release_year": "2003"
         },
         {
          "release_year": "2009"
         },
         {
          "release_year": "2005"
         },
         {
          "release_year": "2010"
         },
         {
          "release_year": "2009"
         },
         {
          "release_year": "2010"
         },
         {
          "release_year": "2009"
         },
         {
          "release_year": "2008"
         },
         {
          "release_year": "2010"
         },
         {
          "release_year": "2007"
         },
         {
          "release_year": "2010"
         },
         {
          "release_year": "2001"
         },
         {
          "release_year": "2007"
         },
         {
          "release_year": "2004"
         },
         {
          "release_year": "2010"
         },
         {
          "release_year": "2008"
         },
         {
          "release_year": "2010"
         },
         {
          "release_year": "2006"
         },
         {
          "release_year": "2004"
         },
         {
          "release_year": "2006"
         },
         {
          "release_year": "2003"
         },
         {
          "release_year": "2011"
         },
         {
          "release_year": "2012"
         },
         {
          "release_year": "2012"
         },
         {
          "release_year": "2012"
         },
         {
          "release_year": "2012"
         },
         {
          "release_year": "2012"
         },
         {
          "release_year": "2011"
         },
         {
          "release_year": "2011"
         },
         {
          "release_year": "2012"
         },
         {
          "release_year": "2011"
         },
         {
          "release_year": "2011"
         },
         {
          "release_year": "2012"
         },
         {
          "release_year": "2012"
         },
         {
          "release_year": "2011"
         },
         {
          "release_year": "2012"
         },
         {
          "release_year": "2012"
         },
         {
          "release_year": "2012"
         },
         {
          "release_year": "2012"
         },
         {
          "release_year": "2012"
         },
         {
          "release_year": "2011"
         },
         {
          "release_year": "2011"
         },
         {
          "release_year": "2012"
         },
         {
          "release_year": "2012"
         },
         {
          "release_year": "2012"
         },
         {
          "release_year": "2012"
         },
         {
          "release_year": "2011"
         },
         {
          "release_year": "2012"
         },
         {
          "release_year": "2012"
         },
         {
          "release_year": "2011"
         },
         {
          "release_year": "2012"
         },
         {
          "release_year": "2011"
         },
         {
          "release_year": "2012"
         },
         {
          "release_year": "2012"
         },
         {
          "release_year": "2012"
         },
         {
          "release_year": "2012"
         },
         {
          "release_year": "2011"
         },
         {
          "release_year": "2011"
         },
         {
          "release_year": "2012"
         },
         {
          "release_year": "2011"
         },
         {
          "release_year": "2012"
         },
         {
          "release_year": "2011"
         },
         {
          "release_year": "2012"
         },
         {
          "release_year": "2012"
         },
         {
          "release_year": "2011"
         },
         {
          "release_year": "2012"
         },
         {
          "release_year": "2011"
         },
         {
          "release_year": "2012"
         },
         {
          "release_year": "2012"
         },
         {
          "release_year": "2011"
         },
         {
          "release_year": "2011"
         },
         {
          "release_year": "2012"
         },
         {
          "release_year": "2011"
         },
         {
          "release_year": "2011"
         },
         {
          "release_year": "2011"
         },
         {
          "release_year": "2012"
         },
         {
          "release_year": "2012"
         },
         {
          "release_year": "2012"
         },
         {
          "release_year": "2012"
         },
         {
          "release_year": "2011"
         },
         {
          "release_year": "2011"
         },
         {
          "release_year": "2012"
         },
         {
          "release_year": "2011"
         },
         {
          "release_year": "2012"
         },
         {
          "release_year": "2011"
         },
         {
          "release_year": "2011"
         },
         {
          "release_year": "2011"
         },
         {
          "release_year": "2012"
         },
         {
          "release_year": "2011"
         },
         {
          "release_year": "2012"
         },
         {
          "release_year": "2011"
         },
         {
          "release_year": "2012"
         },
         {
          "release_year": "2011"
         },
         {
          "release_year": "2011"
         },
         {
          "release_year": "2012"
         },
         {
          "release_year": "2012"
         },
         {
          "release_year": "2011"
         },
         {
          "release_year": "2012"
         },
         {
          "release_year": "2011"
         },
         {
          "release_year": "2012"
         },
         {
          "release_year": "2011"
         },
         {
          "release_year": "2012"
         },
         {
          "release_year": "2011"
         },
         {
          "release_year": "2012"
         },
         {
          "release_year": "2012"
         },
         {
          "release_year": "2012"
         },
         {
          "release_year": "2012"
         },
         {
          "release_year": "2011"
         },
         {
          "release_year": "2012"
         },
         {
          "release_year": "2011"
         },
         {
          "release_year": "2012"
         },
         {
          "release_year": "2012"
         },
         {
          "release_year": "2011"
         },
         {
          "release_year": "2011"
         },
         {
          "release_year": "2011"
         },
         {
          "release_year": "2011"
         },
         {
          "release_year": "2012"
         },
         {
          "release_year": "2012"
         },
         {
          "release_year": "2011"
         },
         {
          "release_year": "2011"
         },
         {
          "release_year": "2012"
         },
         {
          "release_year": "2011"
         },
         {
          "release_year": "2011"
         },
         {
          "release_year": "2012"
         },
         {
          "release_year": "2011"
         },
         {
          "release_year": "2012"
         },
         {
          "release_year": "2012"
         },
         {
          "release_year": "2011"
         },
         {
          "release_year": "2011"
         },
         {
          "release_year": "2012"
         },
         {
          "release_year": "2011"
         },
         {
          "release_year": "2011"
         },
         {
          "release_year": "2012"
         },
         {
          "release_year": "2011"
         },
         {
          "release_year": "2012"
         },
         {
          "release_year": "2012"
         },
         {
          "release_year": "2011"
         },
         {
          "release_year": "2012"
         },
         {
          "release_year": "2011"
         },
         {
          "release_year": "2011"
         },
         {
          "release_year": "2011"
         },
         {
          "release_year": "2012"
         },
         {
          "release_year": "2012"
         },
         {
          "release_year": "2012"
         },
         {
          "release_year": "2011"
         },
         {
          "release_year": "2011"
         },
         {
          "release_year": "2012"
         },
         {
          "release_year": "2012"
         },
         {
          "release_year": "2012"
         },
         {
          "release_year": "2012"
         },
         {
          "release_year": "2011"
         },
         {
          "release_year": "2012"
         },
         {
          "release_year": "2011"
         },
         {
          "release_year": "2012"
         },
         {
          "release_year": "2011"
         },
         {
          "release_year": "2011"
         },
         {
          "release_year": "2012"
         },
         {
          "release_year": "2012"
         },
         {
          "release_year": "2011"
         },
         {
          "release_year": "2012"
         },
         {
          "release_year": "2012"
         },
         {
          "release_year": "2011"
         },
         {
          "release_year": "2012"
         },
         {
          "release_year": "2011"
         },
         {
          "release_year": "2011"
         },
         {
          "release_year": "2012"
         },
         {
          "release_year": "2012"
         },
         {
          "release_year": "2011"
         },
         {
          "release_year": "2012"
         },
         {
          "release_year": "2012"
         },
         {
          "release_year": "2011"
         },
         {
          "release_year": "2012"
         },
         {
          "release_year": "2012"
         },
         {
          "release_year": "2011"
         },
         {
          "release_year": "2012"
         },
         {
          "release_year": "2011"
         },
         {
          "release_year": "2011"
         },
         {
          "release_year": "2011"
         },
         {
          "release_year": "2012"
         },
         {
          "release_year": "2012"
         },
         {
          "release_year": "2012"
         },
         {
          "release_year": "2011"
         },
         {
          "release_year": "2012"
         },
         {
          "release_year": "2012"
         },
         {
          "release_year": "2011"
         },
         {
          "release_year": "2011"
         },
         {
          "release_year": "2012"
         },
         {
          "release_year": "2012"
         },
         {
          "release_year": "2011"
         },
         {
          "release_year": "2011"
         },
         {
          "release_year": "2012"
         },
         {
          "release_year": "2012"
         },
         {
          "release_year": "2012"
         },
         {
          "release_year": "2012"
         },
         {
          "release_year": "2012"
         },
         {
          "release_year": "2012"
         },
         {
          "release_year": "2012"
         },
         {
          "release_year": "2012"
         },
         {
          "release_year": "2011"
         },
         {
          "release_year": "2012"
         },
         {
          "release_year": "2011"
         },
         {
          "release_year": "2011"
         },
         {
          "release_year": "2011"
         },
         {
          "release_year": "2012"
         },
         {
          "release_year": "2011"
         },
         {
          "release_year": "2012"
         },
         {
          "release_year": "2011"
         },
         {
          "release_year": "2011"
         },
         {
          "release_year": "2011"
         },
         {
          "release_year": "2012"
         },
         {
          "release_year": "2012"
         },
         {
          "release_year": "2012"
         },
         {
          "release_year": "2012"
         },
         {
          "release_year": "2011"
         },
         {
          "release_year": "2013"
         },
         {
          "release_year": "2014"
         },
         {
          "release_year": "2013"
         },
         {
          "release_year": "2013"
         },
         {
          "release_year": "2013"
         },
         {
          "release_year": "2014"
         },
         {
          "release_year": "2014"
         },
         {
          "release_year": "2014"
         },
         {
          "release_year": "2013"
         },
         {
          "release_year": "2014"
         },
         {
          "release_year": "2014"
         },
         {
          "release_year": "2014"
         },
         {
          "release_year": "2013"
         },
         {
          "release_year": "2014"
         },
         {
          "release_year": "2014"
         },
         {
          "release_year": "2014"
         },
         {
          "release_year": "2013"
         },
         {
          "release_year": "2014"
         },
         {
          "release_year": "2014"
         },
         {
          "release_year": "2013"
         },
         {
          "release_year": "2013"
         },
         {
          "release_year": "2014"
         },
         {
          "release_year": "2013"
         },
         {
          "release_year": "2014"
         },
         {
          "release_year": "2014"
         },
         {
          "release_year": "2013"
         },
         {
          "release_year": "2013"
         },
         {
          "release_year": "2014"
         },
         {
          "release_year": "2013"
         },
         {
          "release_year": "2013"
         },
         {
          "release_year": "2014"
         },
         {
          "release_year": "2014"
         },
         {
          "release_year": "2013"
         },
         {
          "release_year": "2014"
         },
         {
          "release_year": "2014"
         },
         {
          "release_year": "2013"
         },
         {
          "release_year": "2014"
         },
         {
          "release_year": "2013"
         },
         {
          "release_year": "2013"
         },
         {
          "release_year": "2013"
         },
         {
          "release_year": "2014"
         },
         {
          "release_year": "2013"
         },
         {
          "release_year": "2013"
         },
         {
          "release_year": "2014"
         },
         {
          "release_year": "2014"
         },
         {
          "release_year": "2014"
         },
         {
          "release_year": "2013"
         },
         {
          "release_year": "2013"
         },
         {
          "release_year": "2014"
         },
         {
          "release_year": "2013"
         },
         {
          "release_year": "2013"
         },
         {
          "release_year": "2013"
         },
         {
          "release_year": "2014"
         },
         {
          "release_year": "2014"
         },
         {
          "release_year": "2013"
         },
         {
          "release_year": "2013"
         },
         {
          "release_year": "2013"
         },
         {
          "release_year": "2013"
         },
         {
          "release_year": "2013"
         },
         {
          "release_year": "2013"
         },
         {
          "release_year": "2014"
         },
         {
          "release_year": "2014"
         },
         {
          "release_year": "2014"
         },
         {
          "release_year": "2013"
         },
         {
          "release_year": "2014"
         },
         {
          "release_year": "2013"
         },
         {
          "release_year": "2013"
         },
         {
          "release_year": "2014"
         },
         {
          "release_year": "2014"
         },
         {
          "release_year": "2014"
         },
         {
          "release_year": "2013"
         },
         {
          "release_year": "2013"
         },
         {
          "release_year": "2013"
         },
         {
          "release_year": "2013"
         },
         {
          "release_year": "2014"
         },
         {
          "release_year": "2013"
         },
         {
          "release_year": "2014"
         },
         {
          "release_year": "2014"
         },
         {
          "release_year": "2014"
         },
         {
          "release_year": "2013"
         },
         {
          "release_year": "2014"
         },
         {
          "release_year": "2014"
         },
         {
          "release_year": "2013"
         },
         {
          "release_year": "2014"
         },
         {
          "release_year": "2014"
         },
         {
          "release_year": "2014"
         },
         {
          "release_year": "2014"
         },
         {
          "release_year": "2013"
         },
         {
          "release_year": "2013"
         },
         {
          "release_year": "2013"
         },
         {
          "release_year": "2013"
         },
         {
          "release_year": "2014"
         },
         {
          "release_year": "2014"
         },
         {
          "release_year": "2013"
         },
         {
          "release_year": "2013"
         },
         {
          "release_year": "2013"
         },
         {
          "release_year": "2014"
         },
         {
          "release_year": "2014"
         },
         {
          "release_year": "2013"
         },
         {
          "release_year": "2014"
         },
         {
          "release_year": "2013"
         },
         {
          "release_year": "2013"
         },
         {
          "release_year": "2013"
         },
         {
          "release_year": "2014"
         },
         {
          "release_year": "2013"
         },
         {
          "release_year": "2013"
         },
         {
          "release_year": "2013"
         },
         {
          "release_year": "2014"
         },
         {
          "release_year": "2013"
         },
         {
          "release_year": "2013"
         },
         {
          "release_year": "2014"
         },
         {
          "release_year": "2014"
         },
         {
          "release_year": "2013"
         },
         {
          "release_year": "2014"
         },
         {
          "release_year": "2013"
         },
         {
          "release_year": "2014"
         },
         {
          "release_year": "2013"
         },
         {
          "release_year": "2014"
         },
         {
          "release_year": "2014"
         },
         {
          "release_year": "2014"
         },
         {
          "release_year": "2014"
         },
         {
          "release_year": "2014"
         },
         {
          "release_year": "2014"
         },
         {
          "release_year": "2013"
         },
         {
          "release_year": "2013"
         },
         {
          "release_year": "2014"
         },
         {
          "release_year": "2014"
         },
         {
          "release_year": "2013"
         },
         {
          "release_year": "2014"
         },
         {
          "release_year": "2014"
         },
         {
          "release_year": "2013"
         },
         {
          "release_year": "2014"
         },
         {
          "release_year": "2013"
         },
         {
          "release_year": "2014"
         },
         {
          "release_year": "2013"
         },
         {
          "release_year": "2013"
         },
         {
          "release_year": "2013"
         },
         {
          "release_year": "2014"
         },
         {
          "release_year": "2014"
         },
         {
          "release_year": "2013"
         },
         {
          "release_year": "2013"
         },
         {
          "release_year": "2013"
         },
         {
          "release_year": "2014"
         },
         {
          "release_year": "2013"
         },
         {
          "release_year": "2013"
         },
         {
          "release_year": "2013"
         },
         {
          "release_year": "2014"
         },
         {
          "release_year": "2014"
         },
         {
          "release_year": "2014"
         },
         {
          "release_year": "2013"
         },
         {
          "release_year": "2014"
         },
         {
          "release_year": "2014"
         },
         {
          "release_year": "2014"
         },
         {
          "release_year": "2014"
         },
         {
          "release_year": "2014"
         },
         {
          "release_year": "2013"
         },
         {
          "release_year": "2013"
         },
         {
          "release_year": "2014"
         },
         {
          "release_year": "2014"
         },
         {
          "release_year": "2013"
         },
         {
          "release_year": "2013"
         },
         {
          "release_year": "2014"
         },
         {
          "release_year": "2014"
         },
         {
          "release_year": "2014"
         },
         {
          "release_year": "2013"
         },
         {
          "release_year": "2014"
         },
         {
          "release_year": "2013"
         },
         {
          "release_year": "2013"
         },
         {
          "release_year": "2013"
         },
         {
          "release_year": "2013"
         },
         {
          "release_year": "2014"
         },
         {
          "release_year": "2014"
         },
         {
          "release_year": "2014"
         },
         {
          "release_year": "2014"
         },
         {
          "release_year": "2014"
         },
         {
          "release_year": "2013"
         },
         {
          "release_year": "2013"
         },
         {
          "release_year": "2014"
         },
         {
          "release_year": "2014"
         },
         {
          "release_year": "2014"
         },
         {
          "release_year": "2013"
         },
         {
          "release_year": "2014"
         },
         {
          "release_year": "2013"
         },
         {
          "release_year": "2013"
         },
         {
          "release_year": "2014"
         },
         {
          "release_year": "2014"
         },
         {
          "release_year": "2014"
         },
         {
          "release_year": "2014"
         },
         {
          "release_year": "2014"
         },
         {
          "release_year": "2014"
         },
         {
          "release_year": "2013"
         },
         {
          "release_year": "2014"
         },
         {
          "release_year": "2013"
         },
         {
          "release_year": "2014"
         },
         {
          "release_year": "2014"
         },
         {
          "release_year": "2014"
         },
         {
          "release_year": "2014"
         },
         {
          "release_year": "2014"
         },
         {
          "release_year": "2013"
         },
         {
          "release_year": "2013"
         },
         {
          "release_year": "2014"
         },
         {
          "release_year": "2014"
         },
         {
          "release_year": "2014"
         },
         {
          "release_year": "2014"
         },
         {
          "release_year": "2014"
         },
         {
          "release_year": "2014"
         },
         {
          "release_year": "2014"
         },
         {
          "release_year": "2013"
         },
         {
          "release_year": "2013"
         },
         {
          "release_year": "2014"
         },
         {
          "release_year": "2014"
         },
         {
          "release_year": "2014"
         },
         {
          "release_year": "2014"
         },
         {
          "release_year": "2013"
         },
         {
          "release_year": "2014"
         },
         {
          "release_year": "2014"
         },
         {
          "release_year": "2013"
         },
         {
          "release_year": "2013"
         },
         {
          "release_year": "2014"
         },
         {
          "release_year": "2013"
         },
         {
          "release_year": "2013"
         },
         {
          "release_year": "2014"
         },
         {
          "release_year": "2013"
         },
         {
          "release_year": "2014"
         },
         {
          "release_year": "2014"
         },
         {
          "release_year": "2013"
         },
         {
          "release_year": "2013"
         },
         {
          "release_year": "2013"
         },
         {
          "release_year": "2014"
         },
         {
          "release_year": "2013"
         },
         {
          "release_year": "2014"
         },
         {
          "release_year": "2013"
         },
         {
          "release_year": "2014"
         },
         {
          "release_year": "2013"
         },
         {
          "release_year": "2013"
         },
         {
          "release_year": "2014"
         },
         {
          "release_year": "2013"
         },
         {
          "release_year": "2013"
         },
         {
          "release_year": "2013"
         },
         {
          "release_year": "2014"
         },
         {
          "release_year": "2014"
         },
         {
          "release_year": "2014"
         },
         {
          "release_year": "2014"
         },
         {
          "release_year": "2014"
         },
         {
          "release_year": "2013"
         },
         {
          "release_year": "2013"
         },
         {
          "release_year": "2013"
         },
         {
          "release_year": "2013"
         },
         {
          "release_year": "2014"
         },
         {
          "release_year": "2014"
         },
         {
          "release_year": "2014"
         },
         {
          "release_year": "2013"
         },
         {
          "release_year": "2014"
         },
         {
          "release_year": "2013"
         },
         {
          "release_year": "2013"
         },
         {
          "release_year": "2013"
         },
         {
          "release_year": "2014"
         },
         {
          "release_year": "2014"
         },
         {
          "release_year": "2013"
         },
         {
          "release_year": "2013"
         },
         {
          "release_year": "2013"
         },
         {
          "release_year": "2014"
         },
         {
          "release_year": "2014"
         },
         {
          "release_year": "2013"
         },
         {
          "release_year": "2013"
         },
         {
          "release_year": "2014"
         },
         {
          "release_year": "2014"
         },
         {
          "release_year": "2013"
         },
         {
          "release_year": "2013"
         },
         {
          "release_year": "2013"
         },
         {
          "release_year": "2013"
         },
         {
          "release_year": "2014"
         },
         {
          "release_year": "2014"
         },
         {
          "release_year": "2014"
         },
         {
          "release_year": "2014"
         },
         {
          "release_year": "2014"
         },
         {
          "release_year": "2013"
         },
         {
          "release_year": "2014"
         },
         {
          "release_year": "2013"
         },
         {
          "release_year": "2013"
         },
         {
          "release_year": "2014"
         },
         {
          "release_year": "2014"
         },
         {
          "release_year": "2014"
         },
         {
          "release_year": "2013"
         },
         {
          "release_year": "2014"
         },
         {
          "release_year": "2013"
         },
         {
          "release_year": "2015"
         },
         {
          "release_year": "2015"
         },
         {
          "release_year": "2016"
         },
         {
          "release_year": "2015"
         },
         {
          "release_year": "2016"
         },
         {
          "release_year": "2015"
         },
         {
          "release_year": "2016"
         },
         {
          "release_year": "2015"
         },
         {
          "release_year": "2015"
         },
         {
          "release_year": "2016"
         },
         {
          "release_year": "2016"
         },
         {
          "release_year": "2015"
         },
         {
          "release_year": "2015"
         },
         {
          "release_year": "2016"
         },
         {
          "release_year": "2016"
         },
         {
          "release_year": "2016"
         },
         {
          "release_year": "2015"
         },
         {
          "release_year": "2016"
         },
         {
          "release_year": "2015"
         },
         {
          "release_year": "2016"
         },
         {
          "release_year": "2016"
         },
         {
          "release_year": "2016"
         },
         {
          "release_year": "2015"
         },
         {
          "release_year": "2015"
         },
         {
          "release_year": "2015"
         },
         {
          "release_year": "2016"
         },
         {
          "release_year": "2015"
         },
         {
          "release_year": "2016"
         },
         {
          "release_year": "2016"
         },
         {
          "release_year": "2016"
         },
         {
          "release_year": "2015"
         },
         {
          "release_year": "2015"
         },
         {
          "release_year": "2016"
         },
         {
          "release_year": "2015"
         },
         {
          "release_year": "2015"
         },
         {
          "release_year": "2015"
         },
         {
          "release_year": "2016"
         },
         {
          "release_year": "2016"
         },
         {
          "release_year": "2015"
         },
         {
          "release_year": "2015"
         },
         {
          "release_year": "2015"
         },
         {
          "release_year": "2016"
         },
         {
          "release_year": "2016"
         },
         {
          "release_year": "2016"
         },
         {
          "release_year": "2016"
         },
         {
          "release_year": "2015"
         },
         {
          "release_year": "2016"
         },
         {
          "release_year": "2015"
         },
         {
          "release_year": "2015"
         },
         {
          "release_year": "2015"
         },
         {
          "release_year": "2015"
         },
         {
          "release_year": "2015"
         },
         {
          "release_year": "2015"
         },
         {
          "release_year": "2016"
         },
         {
          "release_year": "2016"
         },
         {
          "release_year": "2016"
         },
         {
          "release_year": "2015"
         },
         {
          "release_year": "2015"
         },
         {
          "release_year": "2016"
         },
         {
          "release_year": "2015"
         },
         {
          "release_year": "2016"
         },
         {
          "release_year": "2016"
         },
         {
          "release_year": "2016"
         },
         {
          "release_year": "2015"
         },
         {
          "release_year": "2015"
         },
         {
          "release_year": "2016"
         },
         {
          "release_year": "2016"
         },
         {
          "release_year": "2015"
         },
         {
          "release_year": "2016"
         },
         {
          "release_year": "2016"
         },
         {
          "release_year": "2015"
         },
         {
          "release_year": "2016"
         },
         {
          "release_year": "2015"
         },
         {
          "release_year": "2016"
         },
         {
          "release_year": "2015"
         },
         {
          "release_year": "2015"
         },
         {
          "release_year": "2016"
         },
         {
          "release_year": "2015"
         },
         {
          "release_year": "2016"
         },
         {
          "release_year": "2016"
         },
         {
          "release_year": "2015"
         },
         {
          "release_year": "2015"
         },
         {
          "release_year": "2016"
         },
         {
          "release_year": "2015"
         },
         {
          "release_year": "2016"
         },
         {
          "release_year": "2016"
         },
         {
          "release_year": "2016"
         },
         {
          "release_year": "2016"
         },
         {
          "release_year": "2015"
         },
         {
          "release_year": "2016"
         },
         {
          "release_year": "2016"
         },
         {
          "release_year": "2015"
         },
         {
          "release_year": "2015"
         },
         {
          "release_year": "2015"
         },
         {
          "release_year": "2016"
         },
         {
          "release_year": "2016"
         },
         {
          "release_year": "2015"
         },
         {
          "release_year": "2016"
         },
         {
          "release_year": "2016"
         },
         {
          "release_year": "2016"
         },
         {
          "release_year": "2015"
         },
         {
          "release_year": "2016"
         },
         {
          "release_year": "2015"
         },
         {
          "release_year": "2016"
         },
         {
          "release_year": "2015"
         },
         {
          "release_year": "2015"
         },
         {
          "release_year": "2016"
         },
         {
          "release_year": "2015"
         },
         {
          "release_year": "2016"
         },
         {
          "release_year": "2015"
         },
         {
          "release_year": "2016"
         },
         {
          "release_year": "2016"
         },
         {
          "release_year": "2015"
         },
         {
          "release_year": "2016"
         },
         {
          "release_year": "2016"
         },
         {
          "release_year": "2015"
         },
         {
          "release_year": "2016"
         },
         {
          "release_year": "2015"
         },
         {
          "release_year": "2015"
         },
         {
          "release_year": "2015"
         },
         {
          "release_year": "2015"
         },
         {
          "release_year": "2016"
         },
         {
          "release_year": "2016"
         },
         {
          "release_year": "2015"
         },
         {
          "release_year": "2016"
         },
         {
          "release_year": "2016"
         },
         {
          "release_year": "2016"
         },
         {
          "release_year": "2016"
         },
         {
          "release_year": "2015"
         },
         {
          "release_year": "2016"
         },
         {
          "release_year": "2016"
         },
         {
          "release_year": "2016"
         },
         {
          "release_year": "2016"
         },
         {
          "release_year": "2015"
         },
         {
          "release_year": "2016"
         },
         {
          "release_year": "2016"
         },
         {
          "release_year": "2016"
         },
         {
          "release_year": "2015"
         },
         {
          "release_year": "2015"
         },
         {
          "release_year": "2016"
         },
         {
          "release_year": "2016"
         },
         {
          "release_year": "2016"
         },
         {
          "release_year": "2016"
         },
         {
          "release_year": "2015"
         },
         {
          "release_year": "2016"
         },
         {
          "release_year": "2016"
         },
         {
          "release_year": "2016"
         },
         {
          "release_year": "2015"
         },
         {
          "release_year": "2016"
         },
         {
          "release_year": "2015"
         },
         {
          "release_year": "2015"
         },
         {
          "release_year": "2016"
         },
         {
          "release_year": "2016"
         },
         {
          "release_year": "2016"
         },
         {
          "release_year": "2016"
         },
         {
          "release_year": "2015"
         },
         {
          "release_year": "2016"
         },
         {
          "release_year": "2016"
         },
         {
          "release_year": "2016"
         },
         {
          "release_year": "2016"
         },
         {
          "release_year": "2015"
         },
         {
          "release_year": "2016"
         },
         {
          "release_year": "2016"
         },
         {
          "release_year": "2015"
         },
         {
          "release_year": "2016"
         },
         {
          "release_year": "2015"
         },
         {
          "release_year": "2016"
         },
         {
          "release_year": "2016"
         },
         {
          "release_year": "2015"
         },
         {
          "release_year": "2015"
         },
         {
          "release_year": "2016"
         },
         {
          "release_year": "2015"
         },
         {
          "release_year": "2016"
         },
         {
          "release_year": "2016"
         },
         {
          "release_year": "2016"
         },
         {
          "release_year": "2016"
         },
         {
          "release_year": "2016"
         },
         {
          "release_year": "2016"
         },
         {
          "release_year": "2016"
         },
         {
          "release_year": "2015"
         },
         {
          "release_year": "2015"
         },
         {
          "release_year": "2016"
         },
         {
          "release_year": "2016"
         },
         {
          "release_year": "2016"
         },
         {
          "release_year": "2015"
         },
         {
          "release_year": "2015"
         },
         {
          "release_year": "2015"
         },
         {
          "release_year": "2016"
         },
         {
          "release_year": "2016"
         },
         {
          "release_year": "2016"
         },
         {
          "release_year": "2015"
         },
         {
          "release_year": "2015"
         },
         {
          "release_year": "2016"
         },
         {
          "release_year": "2015"
         },
         {
          "release_year": "2016"
         },
         {
          "release_year": "2015"
         },
         {
          "release_year": "2016"
         },
         {
          "release_year": "2015"
         },
         {
          "release_year": "2016"
         },
         {
          "release_year": "2016"
         },
         {
          "release_year": "2016"
         },
         {
          "release_year": "2016"
         },
         {
          "release_year": "2016"
         },
         {
          "release_year": "2016"
         },
         {
          "release_year": "2015"
         },
         {
          "release_year": "2016"
         },
         {
          "release_year": "2015"
         },
         {
          "release_year": "2015"
         },
         {
          "release_year": "2015"
         },
         {
          "release_year": "2016"
         },
         {
          "release_year": "2015"
         },
         {
          "release_year": "2015"
         },
         {
          "release_year": "2016"
         },
         {
          "release_year": "2015"
         },
         {
          "release_year": "2015"
         },
         {
          "release_year": "2016"
         },
         {
          "release_year": "2015"
         },
         {
          "release_year": "2015"
         },
         {
          "release_year": "2016"
         },
         {
          "release_year": "2016"
         },
         {
          "release_year": "2016"
         },
         {
          "release_year": "2016"
         },
         {
          "release_year": "2016"
         },
         {
          "release_year": "2016"
         },
         {
          "release_year": "2015"
         },
         {
          "release_year": "2016"
         },
         {
          "release_year": "2015"
         },
         {
          "release_year": "2016"
         },
         {
          "release_year": "2016"
         },
         {
          "release_year": "2016"
         },
         {
          "release_year": "2015"
         },
         {
          "release_year": "2015"
         },
         {
          "release_year": "2016"
         },
         {
          "release_year": "2016"
         },
         {
          "release_year": "2016"
         },
         {
          "release_year": "2015"
         },
         {
          "release_year": "2016"
         },
         {
          "release_year": "2015"
         },
         {
          "release_year": "2016"
         },
         {
          "release_year": "2016"
         },
         {
          "release_year": "2015"
         },
         {
          "release_year": "2016"
         },
         {
          "release_year": "2016"
         },
         {
          "release_year": "2016"
         },
         {
          "release_year": "2016"
         },
         {
          "release_year": "2016"
         },
         {
          "release_year": "2015"
         },
         {
          "release_year": "2015"
         },
         {
          "release_year": "2016"
         },
         {
          "release_year": "2016"
         },
         {
          "release_year": "2015"
         },
         {
          "release_year": "2016"
         },
         {
          "release_year": "2016"
         },
         {
          "release_year": "2016"
         },
         {
          "release_year": "2015"
         },
         {
          "release_year": "2016"
         },
         {
          "release_year": "2016"
         },
         {
          "release_year": "2016"
         },
         {
          "release_year": "2015"
         },
         {
          "release_year": "2015"
         },
         {
          "release_year": "2016"
         },
         {
          "release_year": "2016"
         },
         {
          "release_year": "2015"
         },
         {
          "release_year": "2016"
         },
         {
          "release_year": "2016"
         },
         {
          "release_year": "2015"
         },
         {
          "release_year": "2015"
         },
         {
          "release_year": "2015"
         },
         {
          "release_year": "2016"
         },
         {
          "release_year": "2016"
         },
         {
          "release_year": "2016"
         },
         {
          "release_year": "2016"
         },
         {
          "release_year": "2016"
         },
         {
          "release_year": "2015"
         },
         {
          "release_year": "2016"
         },
         {
          "release_year": "2016"
         },
         {
          "release_year": "2016"
         },
         {
          "release_year": "2015"
         },
         {
          "release_year": "2016"
         },
         {
          "release_year": "2016"
         },
         {
          "release_year": "2015"
         },
         {
          "release_year": "2015"
         },
         {
          "release_year": "2016"
         },
         {
          "release_year": "2015"
         },
         {
          "release_year": "2016"
         },
         {
          "release_year": "2015"
         },
         {
          "release_year": "2016"
         },
         {
          "release_year": "2016"
         },
         {
          "release_year": "2016"
         },
         {
          "release_year": "2015"
         },
         {
          "release_year": "2016"
         },
         {
          "release_year": "2016"
         },
         {
          "release_year": "2016"
         },
         {
          "release_year": "2016"
         },
         {
          "release_year": "2015"
         },
         {
          "release_year": "2016"
         },
         {
          "release_year": "2015"
         },
         {
          "release_year": "2015"
         },
         {
          "release_year": "2015"
         },
         {
          "release_year": "2015"
         },
         {
          "release_year": "2016"
         },
         {
          "release_year": "2015"
         },
         {
          "release_year": "2016"
         },
         {
          "release_year": "2016"
         },
         {
          "release_year": "2016"
         },
         {
          "release_year": "2016"
         },
         {
          "release_year": "2016"
         },
         {
          "release_year": "2015"
         },
         {
          "release_year": "2016"
         },
         {
          "release_year": "2015"
         },
         {
          "release_year": "2016"
         },
         {
          "release_year": "2015"
         },
         {
          "release_year": "2016"
         },
         {
          "release_year": "2016"
         },
         {
          "release_year": "2016"
         },
         {
          "release_year": "2016"
         },
         {
          "release_year": "2015"
         },
         {
          "release_year": "2016"
         },
         {
          "release_year": "2016"
         },
         {
          "release_year": "2016"
         },
         {
          "release_year": "2016"
         },
         {
          "release_year": "2015"
         },
         {
          "release_year": "2016"
         },
         {
          "release_year": "2015"
         },
         {
          "release_year": "2015"
         },
         {
          "release_year": "2015"
         },
         {
          "release_year": "2015"
         },
         {
          "release_year": "2016"
         },
         {
          "release_year": "2016"
         },
         {
          "release_year": "2015"
         },
         {
          "release_year": "2015"
         },
         {
          "release_year": "2016"
         },
         {
          "release_year": "2015"
         },
         {
          "release_year": "2016"
         },
         {
          "release_year": "2015"
         },
         {
          "release_year": "2015"
         },
         {
          "release_year": "2016"
         },
         {
          "release_year": "2015"
         },
         {
          "release_year": "2015"
         },
         {
          "release_year": "2016"
         },
         {
          "release_year": "2015"
         },
         {
          "release_year": "2015"
         },
         {
          "release_year": "2015"
         },
         {
          "release_year": "2016"
         },
         {
          "release_year": "2016"
         },
         {
          "release_year": "2016"
         },
         {
          "release_year": "2015"
         },
         {
          "release_year": "2016"
         },
         {
          "release_year": "2015"
         },
         {
          "release_year": "2016"
         },
         {
          "release_year": "2016"
         },
         {
          "release_year": "2016"
         },
         {
          "release_year": "2016"
         },
         {
          "release_year": "2015"
         },
         {
          "release_year": "2016"
         },
         {
          "release_year": "2016"
         },
         {
          "release_year": "2016"
         },
         {
          "release_year": "2015"
         },
         {
          "release_year": "2016"
         },
         {
          "release_year": "2016"
         },
         {
          "release_year": "2016"
         },
         {
          "release_year": "2016"
         },
         {
          "release_year": "2015"
         },
         {
          "release_year": "2015"
         },
         {
          "release_year": "2016"
         },
         {
          "release_year": "2016"
         },
         {
          "release_year": "2016"
         },
         {
          "release_year": "2016"
         },
         {
          "release_year": "2016"
         },
         {
          "release_year": "2016"
         },
         {
          "release_year": "2016"
         },
         {
          "release_year": "2016"
         },
         {
          "release_year": "2016"
         },
         {
          "release_year": "2015"
         },
         {
          "release_year": "2016"
         },
         {
          "release_year": "2016"
         },
         {
          "release_year": "2016"
         },
         {
          "release_year": "2015"
         },
         {
          "release_year": "2016"
         },
         {
          "release_year": "2016"
         },
         {
          "release_year": "2015"
         },
         {
          "release_year": "2016"
         },
         {
          "release_year": "2016"
         },
         {
          "release_year": "2016"
         },
         {
          "release_year": "2016"
         },
         {
          "release_year": "2015"
         },
         {
          "release_year": "2015"
         },
         {
          "release_year": "2016"
         },
         {
          "release_year": "2016"
         },
         {
          "release_year": "2015"
         },
         {
          "release_year": "2016"
         },
         {
          "release_year": "2016"
         },
         {
          "release_year": "2016"
         },
         {
          "release_year": "2016"
         },
         {
          "release_year": "2015"
         },
         {
          "release_year": "2016"
         },
         {
          "release_year": "2015"
         },
         {
          "release_year": "2016"
         },
         {
          "release_year": "2015"
         },
         {
          "release_year": "2016"
         },
         {
          "release_year": "2015"
         },
         {
          "release_year": "2016"
         },
         {
          "release_year": "2016"
         },
         {
          "release_year": "2016"
         },
         {
          "release_year": "2016"
         },
         {
          "release_year": "2016"
         },
         {
          "release_year": "2016"
         },
         {
          "release_year": "2016"
         },
         {
          "release_year": "2015"
         },
         {
          "release_year": "2016"
         },
         {
          "release_year": "2016"
         },
         {
          "release_year": "2016"
         },
         {
          "release_year": "2016"
         },
         {
          "release_year": "2015"
         },
         {
          "release_year": "2016"
         },
         {
          "release_year": "2016"
         },
         {
          "release_year": "2016"
         },
         {
          "release_year": "2016"
         },
         {
          "release_year": "2016"
         },
         {
          "release_year": "2016"
         },
         {
          "release_year": "2016"
         },
         {
          "release_year": "2016"
         },
         {
          "release_year": "2016"
         },
         {
          "release_year": "2015"
         },
         {
          "release_year": "2016"
         },
         {
          "release_year": "2016"
         },
         {
          "release_year": "2016"
         },
         {
          "release_year": "2016"
         },
         {
          "release_year": "2015"
         },
         {
          "release_year": "2016"
         },
         {
          "release_year": "2015"
         },
         {
          "release_year": "2015"
         },
         {
          "release_year": "2015"
         },
         {
          "release_year": "2016"
         },
         {
          "release_year": "2015"
         },
         {
          "release_year": "2015"
         },
         {
          "release_year": "2016"
         },
         {
          "release_year": "2015"
         },
         {
          "release_year": "2015"
         },
         {
          "release_year": "2015"
         },
         {
          "release_year": "2016"
         },
         {
          "release_year": "2016"
         },
         {
          "release_year": "2016"
         },
         {
          "release_year": "2016"
         },
         {
          "release_year": "2016"
         },
         {
          "release_year": "2016"
         },
         {
          "release_year": "2016"
         },
         {
          "release_year": "2015"
         },
         {
          "release_year": "2016"
         },
         {
          "release_year": "2016"
         },
         {
          "release_year": "2016"
         },
         {
          "release_year": "2016"
         },
         {
          "release_year": "2016"
         },
         {
          "release_year": "2016"
         },
         {
          "release_year": "2015"
         },
         {
          "release_year": "2016"
         },
         {
          "release_year": "2016"
         },
         {
          "release_year": "2015"
         },
         {
          "release_year": "2016"
         },
         {
          "release_year": "2016"
         },
         {
          "release_year": "2015"
         },
         {
          "release_year": "2015"
         },
         {
          "release_year": "2016"
         },
         {
          "release_year": "2015"
         },
         {
          "release_year": "2016"
         },
         {
          "release_year": "2015"
         },
         {
          "release_year": "2016"
         },
         {
          "release_year": "2015"
         },
         {
          "release_year": "2016"
         },
         {
          "release_year": "2016"
         },
         {
          "release_year": "2016"
         },
         {
          "release_year": "2016"
         },
         {
          "release_year": "2016"
         },
         {
          "release_year": "2015"
         },
         {
          "release_year": "2016"
         },
         {
          "release_year": "2015"
         },
         {
          "release_year": "2016"
         },
         {
          "release_year": "2016"
         },
         {
          "release_year": "2016"
         },
         {
          "release_year": "2015"
         },
         {
          "release_year": "2015"
         },
         {
          "release_year": "2015"
         },
         {
          "release_year": "2015"
         },
         {
          "release_year": "2016"
         },
         {
          "release_year": "2015"
         },
         {
          "release_year": "2015"
         },
         {
          "release_year": "2016"
         },
         {
          "release_year": "2016"
         },
         {
          "release_year": "2016"
         },
         {
          "release_year": "2015"
         },
         {
          "release_year": "2016"
         },
         {
          "release_year": "2015"
         },
         {
          "release_year": "2016"
         },
         {
          "release_year": "2016"
         },
         {
          "release_year": "2016"
         },
         {
          "release_year": "2015"
         },
         {
          "release_year": "2016"
         },
         {
          "release_year": "2016"
         },
         {
          "release_year": "2015"
         },
         {
          "release_year": "2016"
         },
         {
          "release_year": "2016"
         },
         {
          "release_year": "2015"
         },
         {
          "release_year": "2015"
         },
         {
          "release_year": "2016"
         },
         {
          "release_year": "2016"
         },
         {
          "release_year": "2016"
         },
         {
          "release_year": "2015"
         },
         {
          "release_year": "2016"
         },
         {
          "release_year": "2016"
         },
         {
          "release_year": "2016"
         },
         {
          "release_year": "2016"
         },
         {
          "release_year": "2016"
         },
         {
          "release_year": "2016"
         },
         {
          "release_year": "2015"
         },
         {
          "release_year": "2016"
         },
         {
          "release_year": "2016"
         },
         {
          "release_year": "2016"
         },
         {
          "release_year": "2015"
         },
         {
          "release_year": "2016"
         },
         {
          "release_year": "2016"
         },
         {
          "release_year": "2016"
         },
         {
          "release_year": "2016"
         },
         {
          "release_year": "2015"
         },
         {
          "release_year": "2016"
         },
         {
          "release_year": "2016"
         },
         {
          "release_year": "2016"
         },
         {
          "release_year": "2016"
         },
         {
          "release_year": "2016"
         },
         {
          "release_year": "2016"
         },
         {
          "release_year": "2015"
         },
         {
          "release_year": "2015"
         },
         {
          "release_year": "2016"
         },
         {
          "release_year": "2016"
         },
         {
          "release_year": "2015"
         },
         {
          "release_year": "2016"
         },
         {
          "release_year": "2016"
         },
         {
          "release_year": "2016"
         },
         {
          "release_year": "2015"
         },
         {
          "release_year": "2016"
         },
         {
          "release_year": "2016"
         },
         {
          "release_year": "2015"
         },
         {
          "release_year": "2016"
         },
         {
          "release_year": "2015"
         },
         {
          "release_year": "2015"
         },
         {
          "release_year": "2016"
         },
         {
          "release_year": "2015"
         },
         {
          "release_year": "2015"
         },
         {
          "release_year": "2015"
         },
         {
          "release_year": "2015"
         },
         {
          "release_year": "2016"
         },
         {
          "release_year": "2016"
         },
         {
          "release_year": "2016"
         },
         {
          "release_year": "2015"
         },
         {
          "release_year": "2016"
         },
         {
          "release_year": "2016"
         },
         {
          "release_year": "2015"
         },
         {
          "release_year": "2015"
         },
         {
          "release_year": "2016"
         },
         {
          "release_year": "2016"
         },
         {
          "release_year": "2016"
         },
         {
          "release_year": "2016"
         },
         {
          "release_year": "2016"
         },
         {
          "release_year": "2016"
         },
         {
          "release_year": "2016"
         },
         {
          "release_year": "2016"
         },
         {
          "release_year": "2016"
         },
         {
          "release_year": "2015"
         },
         {
          "release_year": "2015"
         },
         {
          "release_year": "2016"
         },
         {
          "release_year": "2015"
         },
         {
          "release_year": "2015"
         },
         {
          "release_year": "2015"
         },
         {
          "release_year": "2015"
         },
         {
          "release_year": "2015"
         },
         {
          "release_year": "2016"
         },
         {
          "release_year": "2015"
         },
         {
          "release_year": "2016"
         },
         {
          "release_year": "2016"
         },
         {
          "release_year": "2016"
         },
         {
          "release_year": "2016"
         },
         {
          "release_year": "2016"
         },
         {
          "release_year": "2016"
         },
         {
          "release_year": "2016"
         },
         {
          "release_year": "2015"
         },
         {
          "release_year": "2018"
         },
         {
          "release_year": "2017"
         },
         {
          "release_year": "2018"
         },
         {
          "release_year": "2017"
         },
         {
          "release_year": "2017"
         },
         {
          "release_year": "2017"
         },
         {
          "release_year": "2018"
         },
         {
          "release_year": "2017"
         },
         {
          "release_year": "2018"
         },
         {
          "release_year": "2018"
         },
         {
          "release_year": "2017"
         },
         {
          "release_year": "2017"
         },
         {
          "release_year": "2018"
         },
         {
          "release_year": "2017"
         },
         {
          "release_year": "2018"
         },
         {
          "release_year": "2018"
         },
         {
          "release_year": "2017"
         },
         {
          "release_year": "2017"
         },
         {
          "release_year": "2017"
         },
         {
          "release_year": "2018"
         },
         {
          "release_year": "2018"
         },
         {
          "release_year": "2017"
         },
         {
          "release_year": "2018"
         },
         {
          "release_year": "2018"
         },
         {
          "release_year": "2018"
         },
         {
          "release_year": "2018"
         },
         {
          "release_year": "2017"
         },
         {
          "release_year": "2017"
         },
         {
          "release_year": "2018"
         },
         {
          "release_year": "2017"
         },
         {
          "release_year": "2018"
         },
         {
          "release_year": "2017"
         },
         {
          "release_year": "2018"
         },
         {
          "release_year": "2017"
         },
         {
          "release_year": "2018"
         },
         {
          "release_year": "2017"
         },
         {
          "release_year": "2018"
         },
         {
          "release_year": "2017"
         },
         {
          "release_year": "2017"
         },
         {
          "release_year": "2018"
         },
         {
          "release_year": "2018"
         },
         {
          "release_year": "2017"
         },
         {
          "release_year": "2017"
         },
         {
          "release_year": "2017"
         },
         {
          "release_year": "2018"
         },
         {
          "release_year": "2018"
         },
         {
          "release_year": "2017"
         },
         {
          "release_year": "2017"
         },
         {
          "release_year": "2017"
         },
         {
          "release_year": "2017"
         },
         {
          "release_year": "2018"
         },
         {
          "release_year": "2017"
         },
         {
          "release_year": "2018"
         },
         {
          "release_year": "2017"
         },
         {
          "release_year": "2018"
         },
         {
          "release_year": "2017"
         },
         {
          "release_year": "2018"
         },
         {
          "release_year": "2017"
         },
         {
          "release_year": "2017"
         },
         {
          "release_year": "2017"
         },
         {
          "release_year": "2017"
         },
         {
          "release_year": "2018"
         },
         {
          "release_year": "2018"
         },
         {
          "release_year": "2017"
         },
         {
          "release_year": "2018"
         },
         {
          "release_year": "2017"
         },
         {
          "release_year": "2018"
         },
         {
          "release_year": "2017"
         },
         {
          "release_year": "2018"
         },
         {
          "release_year": "2017"
         },
         {
          "release_year": "2018"
         },
         {
          "release_year": "2017"
         },
         {
          "release_year": "2018"
         },
         {
          "release_year": "2018"
         },
         {
          "release_year": "2017"
         },
         {
          "release_year": "2018"
         },
         {
          "release_year": "2017"
         },
         {
          "release_year": "2018"
         },
         {
          "release_year": "2017"
         },
         {
          "release_year": "2017"
         },
         {
          "release_year": "2017"
         },
         {
          "release_year": "2017"
         },
         {
          "release_year": "2018"
         },
         {
          "release_year": "2018"
         },
         {
          "release_year": "2018"
         },
         {
          "release_year": "2018"
         },
         {
          "release_year": "2017"
         },
         {
          "release_year": "2017"
         },
         {
          "release_year": "2018"
         },
         {
          "release_year": "2018"
         },
         {
          "release_year": "2018"
         },
         {
          "release_year": "2017"
         },
         {
          "release_year": "2018"
         },
         {
          "release_year": "2017"
         },
         {
          "release_year": "2017"
         },
         {
          "release_year": "2018"
         },
         {
          "release_year": "2017"
         },
         {
          "release_year": "2017"
         },
         {
          "release_year": "2018"
         },
         {
          "release_year": "2018"
         },
         {
          "release_year": "2018"
         },
         {
          "release_year": "2018"
         },
         {
          "release_year": "2018"
         },
         {
          "release_year": "2018"
         },
         {
          "release_year": "2018"
         },
         {
          "release_year": "2017"
         },
         {
          "release_year": "2018"
         },
         {
          "release_year": "2018"
         },
         {
          "release_year": "2018"
         },
         {
          "release_year": "2018"
         },
         {
          "release_year": "2018"
         },
         {
          "release_year": "2018"
         },
         {
          "release_year": "2018"
         },
         {
          "release_year": "2018"
         },
         {
          "release_year": "2017"
         },
         {
          "release_year": "2018"
         },
         {
          "release_year": "2017"
         },
         {
          "release_year": "2018"
         },
         {
          "release_year": "2018"
         },
         {
          "release_year": "2017"
         },
         {
          "release_year": "2018"
         },
         {
          "release_year": "2018"
         },
         {
          "release_year": "2018"
         },
         {
          "release_year": "2018"
         },
         {
          "release_year": "2018"
         },
         {
          "release_year": "2018"
         },
         {
          "release_year": "2018"
         },
         {
          "release_year": "2017"
         },
         {
          "release_year": "2018"
         },
         {
          "release_year": "2018"
         },
         {
          "release_year": "2018"
         },
         {
          "release_year": "2017"
         },
         {
          "release_year": "2017"
         },
         {
          "release_year": "2017"
         },
         {
          "release_year": "2017"
         },
         {
          "release_year": "2018"
         },
         {
          "release_year": "2018"
         },
         {
          "release_year": "2018"
         },
         {
          "release_year": "2017"
         },
         {
          "release_year": "2017"
         },
         {
          "release_year": "2018"
         },
         {
          "release_year": "2018"
         },
         {
          "release_year": "2018"
         },
         {
          "release_year": "2018"
         },
         {
          "release_year": "2018"
         },
         {
          "release_year": "2017"
         },
         {
          "release_year": "2018"
         },
         {
          "release_year": "2018"
         },
         {
          "release_year": "2017"
         },
         {
          "release_year": "2017"
         },
         {
          "release_year": "2018"
         },
         {
          "release_year": "2018"
         },
         {
          "release_year": "2018"
         },
         {
          "release_year": "2017"
         },
         {
          "release_year": "2017"
         },
         {
          "release_year": "2018"
         },
         {
          "release_year": "2018"
         },
         {
          "release_year": "2018"
         },
         {
          "release_year": "2017"
         },
         {
          "release_year": "2018"
         },
         {
          "release_year": "2018"
         },
         {
          "release_year": "2017"
         },
         {
          "release_year": "2017"
         },
         {
          "release_year": "2018"
         },
         {
          "release_year": "2018"
         },
         {
          "release_year": "2017"
         },
         {
          "release_year": "2017"
         },
         {
          "release_year": "2017"
         },
         {
          "release_year": "2018"
         },
         {
          "release_year": "2018"
         },
         {
          "release_year": "2018"
         },
         {
          "release_year": "2018"
         },
         {
          "release_year": "2017"
         },
         {
          "release_year": "2017"
         },
         {
          "release_year": "2018"
         },
         {
          "release_year": "2018"
         },
         {
          "release_year": "2018"
         },
         {
          "release_year": "2018"
         },
         {
          "release_year": "2018"
         },
         {
          "release_year": "2018"
         },
         {
          "release_year": "2018"
         },
         {
          "release_year": "2018"
         },
         {
          "release_year": "2018"
         },
         {
          "release_year": "2017"
         },
         {
          "release_year": "2017"
         },
         {
          "release_year": "2017"
         },
         {
          "release_year": "2017"
         },
         {
          "release_year": "2018"
         },
         {
          "release_year": "2018"
         },
         {
          "release_year": "2018"
         },
         {
          "release_year": "2018"
         },
         {
          "release_year": "2017"
         },
         {
          "release_year": "2018"
         },
         {
          "release_year": "2018"
         },
         {
          "release_year": "2017"
         },
         {
          "release_year": "2017"
         },
         {
          "release_year": "2017"
         },
         {
          "release_year": "2018"
         },
         {
          "release_year": "2018"
         },
         {
          "release_year": "2018"
         },
         {
          "release_year": "2018"
         },
         {
          "release_year": "2018"
         },
         {
          "release_year": "2017"
         },
         {
          "release_year": "2018"
         },
         {
          "release_year": "2018"
         },
         {
          "release_year": "2017"
         },
         {
          "release_year": "2018"
         },
         {
          "release_year": "2017"
         },
         {
          "release_year": "2017"
         },
         {
          "release_year": "2018"
         },
         {
          "release_year": "2018"
         },
         {
          "release_year": "2017"
         },
         {
          "release_year": "2017"
         },
         {
          "release_year": "2017"
         },
         {
          "release_year": "2018"
         },
         {
          "release_year": "2018"
         },
         {
          "release_year": "2017"
         },
         {
          "release_year": "2018"
         },
         {
          "release_year": "2018"
         },
         {
          "release_year": "2018"
         },
         {
          "release_year": "2017"
         },
         {
          "release_year": "2017"
         },
         {
          "release_year": "2018"
         },
         {
          "release_year": "2017"
         },
         {
          "release_year": "2017"
         },
         {
          "release_year": "2018"
         },
         {
          "release_year": "2017"
         },
         {
          "release_year": "2017"
         },
         {
          "release_year": "2018"
         },
         {
          "release_year": "2018"
         },
         {
          "release_year": "2018"
         },
         {
          "release_year": "2017"
         },
         {
          "release_year": "2018"
         },
         {
          "release_year": "2018"
         },
         {
          "release_year": "2018"
         },
         {
          "release_year": "2017"
         },
         {
          "release_year": "2018"
         },
         {
          "release_year": "2018"
         },
         {
          "release_year": "2017"
         },
         {
          "release_year": "2018"
         },
         {
          "release_year": "2017"
         },
         {
          "release_year": "2018"
         },
         {
          "release_year": "2017"
         },
         {
          "release_year": "2018"
         },
         {
          "release_year": "2018"
         },
         {
          "release_year": "2018"
         },
         {
          "release_year": "2017"
         },
         {
          "release_year": "2018"
         },
         {
          "release_year": "2018"
         },
         {
          "release_year": "2017"
         },
         {
          "release_year": "2017"
         },
         {
          "release_year": "2018"
         },
         {
          "release_year": "2017"
         },
         {
          "release_year": "2017"
         },
         {
          "release_year": "2017"
         },
         {
          "release_year": "2018"
         },
         {
          "release_year": "2018"
         },
         {
          "release_year": "2017"
         },
         {
          "release_year": "2017"
         },
         {
          "release_year": "2017"
         },
         {
          "release_year": "2017"
         },
         {
          "release_year": "2018"
         },
         {
          "release_year": "2018"
         },
         {
          "release_year": "2018"
         },
         {
          "release_year": "2018"
         },
         {
          "release_year": "2017"
         },
         {
          "release_year": "2018"
         },
         {
          "release_year": "2017"
         },
         {
          "release_year": "2018"
         },
         {
          "release_year": "2018"
         },
         {
          "release_year": "2018"
         },
         {
          "release_year": "2018"
         },
         {
          "release_year": "2018"
         },
         {
          "release_year": "2018"
         },
         {
          "release_year": "2018"
         },
         {
          "release_year": "2018"
         },
         {
          "release_year": "2018"
         },
         {
          "release_year": "2017"
         },
         {
          "release_year": "2017"
         },
         {
          "release_year": "2017"
         },
         {
          "release_year": "2018"
         },
         {
          "release_year": "2017"
         },
         {
          "release_year": "2017"
         },
         {
          "release_year": "2017"
         },
         {
          "release_year": "2018"
         },
         {
          "release_year": "2017"
         },
         {
          "release_year": "2018"
         },
         {
          "release_year": "2017"
         },
         {
          "release_year": "2018"
         },
         {
          "release_year": "2018"
         },
         {
          "release_year": "2018"
         },
         {
          "release_year": "2018"
         },
         {
          "release_year": "2018"
         },
         {
          "release_year": "2017"
         },
         {
          "release_year": "2017"
         },
         {
          "release_year": "2018"
         },
         {
          "release_year": "2017"
         },
         {
          "release_year": "2018"
         },
         {
          "release_year": "2018"
         },
         {
          "release_year": "2017"
         },
         {
          "release_year": "2018"
         },
         {
          "release_year": "2017"
         },
         {
          "release_year": "2018"
         },
         {
          "release_year": "2018"
         },
         {
          "release_year": "2017"
         },
         {
          "release_year": "2018"
         },
         {
          "release_year": "2018"
         },
         {
          "release_year": "2018"
         },
         {
          "release_year": "2018"
         },
         {
          "release_year": "2017"
         },
         {
          "release_year": "2017"
         },
         {
          "release_year": "2018"
         },
         {
          "release_year": "2017"
         },
         {
          "release_year": "2017"
         },
         {
          "release_year": "2018"
         },
         {
          "release_year": "2017"
         },
         {
          "release_year": "2018"
         },
         {
          "release_year": "2018"
         },
         {
          "release_year": "2018"
         },
         {
          "release_year": "2018"
         },
         {
          "release_year": "2017"
         },
         {
          "release_year": "2017"
         },
         {
          "release_year": "2017"
         },
         {
          "release_year": "2017"
         },
         {
          "release_year": "2018"
         },
         {
          "release_year": "2018"
         },
         {
          "release_year": "2018"
         },
         {
          "release_year": "2017"
         },
         {
          "release_year": "2018"
         },
         {
          "release_year": "2018"
         },
         {
          "release_year": "2017"
         },
         {
          "release_year": "2018"
         },
         {
          "release_year": "2017"
         },
         {
          "release_year": "2017"
         },
         {
          "release_year": "2017"
         },
         {
          "release_year": "2017"
         },
         {
          "release_year": "2017"
         },
         {
          "release_year": "2017"
         },
         {
          "release_year": "2017"
         },
         {
          "release_year": "2018"
         },
         {
          "release_year": "2018"
         },
         {
          "release_year": "2018"
         },
         {
          "release_year": "2017"
         },
         {
          "release_year": "2018"
         },
         {
          "release_year": "2017"
         },
         {
          "release_year": "2017"
         },
         {
          "release_year": "2017"
         },
         {
          "release_year": "2018"
         },
         {
          "release_year": "2018"
         },
         {
          "release_year": "2018"
         },
         {
          "release_year": "2018"
         },
         {
          "release_year": "2017"
         },
         {
          "release_year": "2018"
         },
         {
          "release_year": "2018"
         },
         {
          "release_year": "2018"
         },
         {
          "release_year": "2017"
         },
         {
          "release_year": "2018"
         },
         {
          "release_year": "2018"
         },
         {
          "release_year": "2018"
         },
         {
          "release_year": "2018"
         },
         {
          "release_year": "2018"
         },
         {
          "release_year": "2018"
         },
         {
          "release_year": "2018"
         },
         {
          "release_year": "2018"
         },
         {
          "release_year": "2017"
         },
         {
          "release_year": "2018"
         },
         {
          "release_year": "2017"
         },
         {
          "release_year": "2017"
         },
         {
          "release_year": "2017"
         },
         {
          "release_year": "2018"
         },
         {
          "release_year": "2017"
         },
         {
          "release_year": "2018"
         },
         {
          "release_year": "2018"
         },
         {
          "release_year": "2017"
         },
         {
          "release_year": "2018"
         },
         {
          "release_year": "2018"
         },
         {
          "release_year": "2018"
         },
         {
          "release_year": "2017"
         },
         {
          "release_year": "2018"
         },
         {
          "release_year": "2017"
         },
         {
          "release_year": "2018"
         },
         {
          "release_year": "2017"
         },
         {
          "release_year": "2018"
         },
         {
          "release_year": "2017"
         },
         {
          "release_year": "2018"
         },
         {
          "release_year": "2018"
         },
         {
          "release_year": "2018"
         },
         {
          "release_year": "2017"
         },
         {
          "release_year": "2018"
         },
         {
          "release_year": "2017"
         },
         {
          "release_year": "2018"
         },
         {
          "release_year": "2017"
         },
         {
          "release_year": "2017"
         },
         {
          "release_year": "2017"
         },
         {
          "release_year": "2018"
         },
         {
          "release_year": "2017"
         },
         {
          "release_year": "2017"
         },
         {
          "release_year": "2018"
         },
         {
          "release_year": "2017"
         },
         {
          "release_year": "2017"
         },
         {
          "release_year": "2018"
         },
         {
          "release_year": "2018"
         },
         {
          "release_year": "2018"
         },
         {
          "release_year": "2017"
         },
         {
          "release_year": "2017"
         },
         {
          "release_year": "2018"
         },
         {
          "release_year": "2017"
         },
         {
          "release_year": "2018"
         },
         {
          "release_year": "2017"
         },
         {
          "release_year": "2017"
         },
         {
          "release_year": "2017"
         },
         {
          "release_year": "2018"
         },
         {
          "release_year": "2017"
         },
         {
          "release_year": "2018"
         },
         {
          "release_year": "2018"
         },
         {
          "release_year": "2018"
         },
         {
          "release_year": "2017"
         },
         {
          "release_year": "2018"
         },
         {
          "release_year": "2017"
         },
         {
          "release_year": "2018"
         },
         {
          "release_year": "2018"
         },
         {
          "release_year": "2018"
         },
         {
          "release_year": "2018"
         },
         {
          "release_year": "2018"
         },
         {
          "release_year": "2018"
         },
         {
          "release_year": "2017"
         },
         {
          "release_year": "2017"
         },
         {
          "release_year": "2018"
         },
         {
          "release_year": "2018"
         },
         {
          "release_year": "2018"
         },
         {
          "release_year": "2017"
         },
         {
          "release_year": "2018"
         },
         {
          "release_year": "2018"
         },
         {
          "release_year": "2017"
         },
         {
          "release_year": "2018"
         },
         {
          "release_year": "2018"
         },
         {
          "release_year": "2018"
         },
         {
          "release_year": "2018"
         },
         {
          "release_year": "2017"
         },
         {
          "release_year": "2018"
         },
         {
          "release_year": "2017"
         },
         {
          "release_year": "2017"
         },
         {
          "release_year": "2017"
         },
         {
          "release_year": "2017"
         },
         {
          "release_year": "2018"
         },
         {
          "release_year": "2018"
         },
         {
          "release_year": "2017"
         },
         {
          "release_year": "2017"
         },
         {
          "release_year": "2018"
         },
         {
          "release_year": "2017"
         },
         {
          "release_year": "2018"
         },
         {
          "release_year": "2018"
         },
         {
          "release_year": "2018"
         },
         {
          "release_year": "2018"
         },
         {
          "release_year": "2017"
         },
         {
          "release_year": "2017"
         },
         {
          "release_year": "2018"
         },
         {
          "release_year": "2017"
         },
         {
          "release_year": "2018"
         },
         {
          "release_year": "2018"
         },
         {
          "release_year": "2018"
         },
         {
          "release_year": "2018"
         },
         {
          "release_year": "2018"
         },
         {
          "release_year": "2017"
         },
         {
          "release_year": "2017"
         },
         {
          "release_year": "2017"
         },
         {
          "release_year": "2017"
         },
         {
          "release_year": "2017"
         },
         {
          "release_year": "2018"
         },
         {
          "release_year": "2018"
         },
         {
          "release_year": "2018"
         },
         {
          "release_year": "2017"
         },
         {
          "release_year": "2018"
         },
         {
          "release_year": "2018"
         },
         {
          "release_year": "2018"
         },
         {
          "release_year": "2018"
         },
         {
          "release_year": "2017"
         },
         {
          "release_year": "2017"
         },
         {
          "release_year": "2018"
         },
         {
          "release_year": "2018"
         },
         {
          "release_year": "2018"
         },
         {
          "release_year": "2017"
         },
         {
          "release_year": "2018"
         },
         {
          "release_year": "2018"
         },
         {
          "release_year": "2018"
         },
         {
          "release_year": "2018"
         },
         {
          "release_year": "2017"
         },
         {
          "release_year": "2018"
         },
         {
          "release_year": "2018"
         },
         {
          "release_year": "2018"
         },
         {
          "release_year": "2017"
         },
         {
          "release_year": "2018"
         },
         {
          "release_year": "2017"
         },
         {
          "release_year": "2017"
         },
         {
          "release_year": "2018"
         },
         {
          "release_year": "2018"
         },
         {
          "release_year": "2017"
         },
         {
          "release_year": "2018"
         },
         {
          "release_year": "2017"
         },
         {
          "release_year": "2018"
         },
         {
          "release_year": "2017"
         },
         {
          "release_year": "2018"
         },
         {
          "release_year": "2018"
         },
         {
          "release_year": "2017"
         },
         {
          "release_year": "2018"
         },
         {
          "release_year": "2017"
         },
         {
          "release_year": "2017"
         },
         {
          "release_year": "2018"
         },
         {
          "release_year": "2017"
         },
         {
          "release_year": "2018"
         },
         {
          "release_year": "2017"
         },
         {
          "release_year": "2017"
         },
         {
          "release_year": "2018"
         },
         {
          "release_year": "2017"
         },
         {
          "release_year": "2017"
         },
         {
          "release_year": "2018"
         },
         {
          "release_year": "2018"
         },
         {
          "release_year": "2018"
         },
         {
          "release_year": "2018"
         },
         {
          "release_year": "2017"
         },
         {
          "release_year": "2017"
         },
         {
          "release_year": "2018"
         },
         {
          "release_year": "2017"
         },
         {
          "release_year": "2017"
         },
         {
          "release_year": "2018"
         },
         {
          "release_year": "2017"
         },
         {
          "release_year": "2017"
         },
         {
          "release_year": "2018"
         },
         {
          "release_year": "2017"
         },
         {
          "release_year": "2017"
         },
         {
          "release_year": "2017"
         },
         {
          "release_year": "2018"
         },
         {
          "release_year": "2018"
         },
         {
          "release_year": "2018"
         },
         {
          "release_year": "2018"
         },
         {
          "release_year": "2017"
         },
         {
          "release_year": "2018"
         },
         {
          "release_year": "2018"
         },
         {
          "release_year": "2018"
         },
         {
          "release_year": "2018"
         },
         {
          "release_year": "2018"
         },
         {
          "release_year": "2018"
         },
         {
          "release_year": "2018"
         },
         {
          "release_year": "2017"
         },
         {
          "release_year": "2017"
         },
         {
          "release_year": "2017"
         },
         {
          "release_year": "2017"
         },
         {
          "release_year": "2018"
         },
         {
          "release_year": "2018"
         },
         {
          "release_year": "2018"
         },
         {
          "release_year": "2018"
         },
         {
          "release_year": "2017"
         },
         {
          "release_year": "2017"
         },
         {
          "release_year": "2018"
         },
         {
          "release_year": "2017"
         },
         {
          "release_year": "2018"
         },
         {
          "release_year": "2018"
         },
         {
          "release_year": "2018"
         },
         {
          "release_year": "2018"
         },
         {
          "release_year": "2017"
         },
         {
          "release_year": "2018"
         },
         {
          "release_year": "2018"
         },
         {
          "release_year": "2018"
         },
         {
          "release_year": "2018"
         },
         {
          "release_year": "2017"
         },
         {
          "release_year": "2018"
         },
         {
          "release_year": "2017"
         },
         {
          "release_year": "2017"
         },
         {
          "release_year": "2018"
         },
         {
          "release_year": "2017"
         },
         {
          "release_year": "2018"
         },
         {
          "release_year": "2017"
         },
         {
          "release_year": "2018"
         },
         {
          "release_year": "2017"
         },
         {
          "release_year": "2018"
         },
         {
          "release_year": "2017"
         },
         {
          "release_year": "2017"
         },
         {
          "release_year": "2018"
         },
         {
          "release_year": "2017"
         },
         {
          "release_year": "2017"
         },
         {
          "release_year": "2017"
         },
         {
          "release_year": "2017"
         },
         {
          "release_year": "2017"
         },
         {
          "release_year": "2018"
         },
         {
          "release_year": "2017"
         },
         {
          "release_year": "2018"
         },
         {
          "release_year": "2017"
         },
         {
          "release_year": "2018"
         },
         {
          "release_year": "2018"
         },
         {
          "release_year": "2017"
         },
         {
          "release_year": "2018"
         },
         {
          "release_year": "2018"
         },
         {
          "release_year": "2018"
         },
         {
          "release_year": "2018"
         },
         {
          "release_year": "2018"
         },
         {
          "release_year": "2017"
         },
         {
          "release_year": "2018"
         },
         {
          "release_year": "2018"
         },
         {
          "release_year": "2017"
         },
         {
          "release_year": "2018"
         },
         {
          "release_year": "2017"
         },
         {
          "release_year": "2017"
         },
         {
          "release_year": "2018"
         },
         {
          "release_year": "2017"
         },
         {
          "release_year": "2017"
         },
         {
          "release_year": "2017"
         },
         {
          "release_year": "2017"
         },
         {
          "release_year": "2017"
         },
         {
          "release_year": "2018"
         },
         {
          "release_year": "2018"
         },
         {
          "release_year": "2018"
         },
         {
          "release_year": "2018"
         },
         {
          "release_year": "2018"
         },
         {
          "release_year": "2017"
         },
         {
          "release_year": "2017"
         },
         {
          "release_year": "2018"
         },
         {
          "release_year": "2018"
         },
         {
          "release_year": "2017"
         },
         {
          "release_year": "2018"
         },
         {
          "release_year": "2018"
         },
         {
          "release_year": "2018"
         },
         {
          "release_year": "2018"
         },
         {
          "release_year": "2017"
         },
         {
          "release_year": "2017"
         },
         {
          "release_year": "2017"
         },
         {
          "release_year": "2018"
         },
         {
          "release_year": "2018"
         },
         {
          "release_year": "2018"
         },
         {
          "release_year": "2018"
         },
         {
          "release_year": "2017"
         },
         {
          "release_year": "2018"
         },
         {
          "release_year": "2017"
         },
         {
          "release_year": "2017"
         },
         {
          "release_year": "2017"
         },
         {
          "release_year": "2017"
         },
         {
          "release_year": "2018"
         },
         {
          "release_year": "2018"
         },
         {
          "release_year": "2018"
         },
         {
          "release_year": "2017"
         },
         {
          "release_year": "2018"
         },
         {
          "release_year": "2018"
         },
         {
          "release_year": "2018"
         },
         {
          "release_year": "2017"
         },
         {
          "release_year": "2018"
         },
         {
          "release_year": "2018"
         },
         {
          "release_year": "2018"
         },
         {
          "release_year": "2017"
         },
         {
          "release_year": "2017"
         },
         {
          "release_year": "2018"
         },
         {
          "release_year": "2017"
         },
         {
          "release_year": "2018"
         },
         {
          "release_year": "2018"
         },
         {
          "release_year": "2018"
         },
         {
          "release_year": "2018"
         },
         {
          "release_year": "2018"
         },
         {
          "release_year": "2017"
         },
         {
          "release_year": "2018"
         },
         {
          "release_year": "2017"
         },
         {
          "release_year": "2018"
         },
         {
          "release_year": "2017"
         },
         {
          "release_year": "2018"
         },
         {
          "release_year": "2017"
         },
         {
          "release_year": "2017"
         },
         {
          "release_year": "2017"
         },
         {
          "release_year": "2017"
         },
         {
          "release_year": "2017"
         },
         {
          "release_year": "2017"
         },
         {
          "release_year": "2018"
         },
         {
          "release_year": "2017"
         },
         {
          "release_year": "2018"
         },
         {
          "release_year": "2018"
         },
         {
          "release_year": "2017"
         },
         {
          "release_year": "2017"
         },
         {
          "release_year": "2017"
         },
         {
          "release_year": "2018"
         },
         {
          "release_year": "2018"
         },
         {
          "release_year": "2018"
         },
         {
          "release_year": "2017"
         },
         {
          "release_year": "2018"
         },
         {
          "release_year": "2018"
         },
         {
          "release_year": "2017"
         },
         {
          "release_year": "2018"
         },
         {
          "release_year": "2018"
         },
         {
          "release_year": "2018"
         },
         {
          "release_year": "2017"
         },
         {
          "release_year": "2018"
         },
         {
          "release_year": "2018"
         },
         {
          "release_year": "2018"
         },
         {
          "release_year": "2018"
         },
         {
          "release_year": "2018"
         },
         {
          "release_year": "2017"
         },
         {
          "release_year": "2018"
         },
         {
          "release_year": "2018"
         },
         {
          "release_year": "2018"
         },
         {
          "release_year": "2017"
         },
         {
          "release_year": "2017"
         },
         {
          "release_year": "2018"
         },
         {
          "release_year": "2018"
         },
         {
          "release_year": "2017"
         },
         {
          "release_year": "2017"
         },
         {
          "release_year": "2018"
         },
         {
          "release_year": "2017"
         },
         {
          "release_year": "2018"
         },
         {
          "release_year": "2017"
         },
         {
          "release_year": "2017"
         },
         {
          "release_year": "2018"
         },
         {
          "release_year": "2018"
         },
         {
          "release_year": "2018"
         },
         {
          "release_year": "2018"
         },
         {
          "release_year": "2018"
         },
         {
          "release_year": "2017"
         },
         {
          "release_year": "2018"
         },
         {
          "release_year": "2018"
         },
         {
          "release_year": "2017"
         },
         {
          "release_year": "2018"
         },
         {
          "release_year": "2017"
         },
         {
          "release_year": "2018"
         },
         {
          "release_year": "2018"
         },
         {
          "release_year": "2017"
         },
         {
          "release_year": "2017"
         },
         {
          "release_year": "2018"
         },
         {
          "release_year": "2017"
         },
         {
          "release_year": "2018"
         },
         {
          "release_year": "2017"
         },
         {
          "release_year": "2018"
         },
         {
          "release_year": "2018"
         },
         {
          "release_year": "2017"
         },
         {
          "release_year": "2018"
         },
         {
          "release_year": "2017"
         },
         {
          "release_year": "2017"
         },
         {
          "release_year": "2018"
         },
         {
          "release_year": "2018"
         },
         {
          "release_year": "2017"
         },
         {
          "release_year": "2017"
         },
         {
          "release_year": "2018"
         },
         {
          "release_year": "2018"
         },
         {
          "release_year": "2018"
         },
         {
          "release_year": "2018"
         },
         {
          "release_year": "2018"
         },
         {
          "release_year": "2018"
         },
         {
          "release_year": "2018"
         },
         {
          "release_year": "2018"
         },
         {
          "release_year": "2017"
         },
         {
          "release_year": "2018"
         },
         {
          "release_year": "2018"
         },
         {
          "release_year": "2018"
         },
         {
          "release_year": "2018"
         },
         {
          "release_year": "2017"
         },
         {
          "release_year": "2018"
         },
         {
          "release_year": "2017"
         },
         {
          "release_year": "2018"
         },
         {
          "release_year": "2018"
         },
         {
          "release_year": "2018"
         },
         {
          "release_year": "2017"
         },
         {
          "release_year": "2018"
         },
         {
          "release_year": "2018"
         },
         {
          "release_year": "2017"
         },
         {
          "release_year": "2018"
         },
         {
          "release_year": "2017"
         },
         {
          "release_year": "2018"
         },
         {
          "release_year": "2017"
         },
         {
          "release_year": "2017"
         },
         {
          "release_year": "2018"
         },
         {
          "release_year": "2018"
         },
         {
          "release_year": "2017"
         },
         {
          "release_year": "2017"
         },
         {
          "release_year": "2017"
         },
         {
          "release_year": "2018"
         },
         {
          "release_year": "2017"
         },
         {
          "release_year": "2017"
         },
         {
          "release_year": "2018"
         },
         {
          "release_year": "2017"
         },
         {
          "release_year": "2018"
         },
         {
          "release_year": "2017"
         },
         {
          "release_year": "2018"
         },
         {
          "release_year": "2017"
         },
         {
          "release_year": "2017"
         },
         {
          "release_year": "2018"
         },
         {
          "release_year": "2018"
         },
         {
          "release_year": "2018"
         },
         {
          "release_year": "2017"
         },
         {
          "release_year": "2017"
         },
         {
          "release_year": "2018"
         },
         {
          "release_year": "2017"
         },
         {
          "release_year": "2017"
         },
         {
          "release_year": "2018"
         },
         {
          "release_year": "2017"
         },
         {
          "release_year": "2018"
         },
         {
          "release_year": "2018"
         },
         {
          "release_year": "2017"
         },
         {
          "release_year": "2018"
         },
         {
          "release_year": "2017"
         },
         {
          "release_year": "2017"
         },
         {
          "release_year": "2017"
         },
         {
          "release_year": "2018"
         },
         {
          "release_year": "2017"
         },
         {
          "release_year": "2018"
         },
         {
          "release_year": "2018"
         },
         {
          "release_year": "2018"
         },
         {
          "release_year": "2017"
         },
         {
          "release_year": "2018"
         },
         {
          "release_year": "2017"
         },
         {
          "release_year": "2018"
         },
         {
          "release_year": "2017"
         },
         {
          "release_year": "2018"
         },
         {
          "release_year": "2018"
         },
         {
          "release_year": "2018"
         },
         {
          "release_year": "2017"
         },
         {
          "release_year": "2017"
         },
         {
          "release_year": "2017"
         },
         {
          "release_year": "2017"
         },
         {
          "release_year": "2018"
         },
         {
          "release_year": "2018"
         },
         {
          "release_year": "2018"
         },
         {
          "release_year": "2017"
         },
         {
          "release_year": "2017"
         },
         {
          "release_year": "2018"
         },
         {
          "release_year": "2018"
         },
         {
          "release_year": "2018"
         },
         {
          "release_year": "2018"
         },
         {
          "release_year": "2018"
         },
         {
          "release_year": "2018"
         },
         {
          "release_year": "2017"
         },
         {
          "release_year": "2018"
         },
         {
          "release_year": "2018"
         },
         {
          "release_year": "2017"
         },
         {
          "release_year": "2017"
         },
         {
          "release_year": "2017"
         },
         {
          "release_year": "2017"
         },
         {
          "release_year": "2017"
         },
         {
          "release_year": "2018"
         },
         {
          "release_year": "2017"
         },
         {
          "release_year": "2018"
         },
         {
          "release_year": "2017"
         },
         {
          "release_year": "2018"
         },
         {
          "release_year": "2017"
         },
         {
          "release_year": "2018"
         },
         {
          "release_year": "2018"
         },
         {
          "release_year": "2018"
         },
         {
          "release_year": "2017"
         },
         {
          "release_year": "2018"
         },
         {
          "release_year": "2018"
         },
         {
          "release_year": "2017"
         },
         {
          "release_year": "2018"
         },
         {
          "release_year": "2017"
         },
         {
          "release_year": "2018"
         },
         {
          "release_year": "2018"
         },
         {
          "release_year": "2018"
         },
         {
          "release_year": "2018"
         },
         {
          "release_year": "2018"
         },
         {
          "release_year": "2018"
         },
         {
          "release_year": "2017"
         },
         {
          "release_year": "2018"
         },
         {
          "release_year": "2018"
         },
         {
          "release_year": "2017"
         },
         {
          "release_year": "2018"
         },
         {
          "release_year": "2018"
         },
         {
          "release_year": "2017"
         },
         {
          "release_year": "2017"
         },
         {
          "release_year": "2017"
         },
         {
          "release_year": "2018"
         },
         {
          "release_year": "2018"
         },
         {
          "release_year": "2018"
         },
         {
          "release_year": "2018"
         },
         {
          "release_year": "2017"
         },
         {
          "release_year": "2017"
         },
         {
          "release_year": "2018"
         },
         {
          "release_year": "2018"
         },
         {
          "release_year": "2018"
         },
         {
          "release_year": "2017"
         },
         {
          "release_year": "2018"
         },
         {
          "release_year": "2018"
         },
         {
          "release_year": "2018"
         },
         {
          "release_year": "2017"
         },
         {
          "release_year": "2018"
         },
         {
          "release_year": "2018"
         },
         {
          "release_year": "2018"
         },
         {
          "release_year": "2018"
         },
         {
          "release_year": "2018"
         },
         {
          "release_year": "2017"
         },
         {
          "release_year": "2017"
         },
         {
          "release_year": "2018"
         },
         {
          "release_year": "2017"
         },
         {
          "release_year": "2018"
         },
         {
          "release_year": "2017"
         },
         {
          "release_year": "2017"
         },
         {
          "release_year": "2018"
         },
         {
          "release_year": "2017"
         },
         {
          "release_year": "2018"
         },
         {
          "release_year": "2018"
         },
         {
          "release_year": "2018"
         },
         {
          "release_year": "2017"
         },
         {
          "release_year": "2018"
         },
         {
          "release_year": "2017"
         },
         {
          "release_year": "2018"
         },
         {
          "release_year": "2017"
         },
         {
          "release_year": "2018"
         },
         {
          "release_year": "2018"
         },
         {
          "release_year": "2017"
         },
         {
          "release_year": "2017"
         },
         {
          "release_year": "2017"
         },
         {
          "release_year": "2017"
         },
         {
          "release_year": "2018"
         },
         {
          "release_year": "2018"
         },
         {
          "release_year": "2018"
         },
         {
          "release_year": "2017"
         },
         {
          "release_year": "2018"
         },
         {
          "release_year": "2017"
         },
         {
          "release_year": "2017"
         },
         {
          "release_year": "2017"
         },
         {
          "release_year": "2018"
         },
         {
          "release_year": "2017"
         },
         {
          "release_year": "2018"
         },
         {
          "release_year": "2018"
         },
         {
          "release_year": "2017"
         },
         {
          "release_year": "2018"
         },
         {
          "release_year": "2017"
         },
         {
          "release_year": "2017"
         },
         {
          "release_year": "2017"
         },
         {
          "release_year": "2018"
         },
         {
          "release_year": "2017"
         },
         {
          "release_year": "2017"
         },
         {
          "release_year": "2017"
         },
         {
          "release_year": "2018"
         },
         {
          "release_year": "2018"
         },
         {
          "release_year": "2017"
         },
         {
          "release_year": "2018"
         },
         {
          "release_year": "2018"
         },
         {
          "release_year": "2017"
         },
         {
          "release_year": "2017"
         },
         {
          "release_year": "2018"
         },
         {
          "release_year": "2017"
         },
         {
          "release_year": "2017"
         },
         {
          "release_year": "2018"
         },
         {
          "release_year": "2018"
         },
         {
          "release_year": "2018"
         },
         {
          "release_year": "2017"
         },
         {
          "release_year": "2017"
         },
         {
          "release_year": "2017"
         },
         {
          "release_year": "2018"
         },
         {
          "release_year": "2018"
         },
         {
          "release_year": "2018"
         },
         {
          "release_year": "2017"
         },
         {
          "release_year": "2017"
         },
         {
          "release_year": "2018"
         },
         {
          "release_year": "2018"
         },
         {
          "release_year": "2018"
         },
         {
          "release_year": "2018"
         },
         {
          "release_year": "2017"
         },
         {
          "release_year": "2018"
         },
         {
          "release_year": "2017"
         },
         {
          "release_year": "2018"
         },
         {
          "release_year": "2018"
         },
         {
          "release_year": "2017"
         },
         {
          "release_year": "2018"
         },
         {
          "release_year": "2018"
         },
         {
          "release_year": "2018"
         },
         {
          "release_year": "2017"
         },
         {
          "release_year": "2017"
         },
         {
          "release_year": "2017"
         },
         {
          "release_year": "2018"
         },
         {
          "release_year": "2017"
         },
         {
          "release_year": "2018"
         },
         {
          "release_year": "2018"
         },
         {
          "release_year": "2018"
         },
         {
          "release_year": "2017"
         },
         {
          "release_year": "2018"
         },
         {
          "release_year": "2018"
         },
         {
          "release_year": "2017"
         },
         {
          "release_year": "2017"
         },
         {
          "release_year": "2017"
         },
         {
          "release_year": "2017"
         },
         {
          "release_year": "2018"
         },
         {
          "release_year": "2018"
         },
         {
          "release_year": "2018"
         },
         {
          "release_year": "2017"
         },
         {
          "release_year": "2017"
         },
         {
          "release_year": "2017"
         },
         {
          "release_year": "2017"
         },
         {
          "release_year": "2018"
         },
         {
          "release_year": "2017"
         },
         {
          "release_year": "2018"
         },
         {
          "release_year": "2018"
         },
         {
          "release_year": "2018"
         },
         {
          "release_year": "2018"
         },
         {
          "release_year": "2018"
         },
         {
          "release_year": "2018"
         },
         {
          "release_year": "2018"
         },
         {
          "release_year": "2017"
         },
         {
          "release_year": "2017"
         },
         {
          "release_year": "2017"
         },
         {
          "release_year": "2018"
         },
         {
          "release_year": "2017"
         },
         {
          "release_year": "2017"
         },
         {
          "release_year": "2018"
         },
         {
          "release_year": "2017"
         },
         {
          "release_year": "2018"
         },
         {
          "release_year": "2017"
         },
         {
          "release_year": "2018"
         },
         {
          "release_year": "2018"
         },
         {
          "release_year": "2017"
         },
         {
          "release_year": "2018"
         },
         {
          "release_year": "2018"
         },
         {
          "release_year": "2018"
         },
         {
          "release_year": "2018"
         },
         {
          "release_year": "2018"
         },
         {
          "release_year": "2018"
         },
         {
          "release_year": "2018"
         },
         {
          "release_year": "2018"
         },
         {
          "release_year": "2018"
         },
         {
          "release_year": "2017"
         },
         {
          "release_year": "2018"
         },
         {
          "release_year": "2018"
         },
         {
          "release_year": "2017"
         },
         {
          "release_year": "2018"
         },
         {
          "release_year": "2017"
         },
         {
          "release_year": "2017"
         },
         {
          "release_year": "2018"
         },
         {
          "release_year": "2018"
         },
         {
          "release_year": "2018"
         },
         {
          "release_year": "2017"
         },
         {
          "release_year": "2017"
         },
         {
          "release_year": "2018"
         },
         {
          "release_year": "2017"
         },
         {
          "release_year": "2018"
         },
         {
          "release_year": "2017"
         },
         {
          "release_year": "2018"
         },
         {
          "release_year": "2017"
         },
         {
          "release_year": "2018"
         },
         {
          "release_year": "2018"
         },
         {
          "release_year": "2018"
         },
         {
          "release_year": "2017"
         },
         {
          "release_year": "2018"
         },
         {
          "release_year": "2017"
         },
         {
          "release_year": "2018"
         },
         {
          "release_year": "2017"
         },
         {
          "release_year": "2017"
         },
         {
          "release_year": "2017"
         },
         {
          "release_year": "2018"
         },
         {
          "release_year": "2017"
         },
         {
          "release_year": "2017"
         },
         {
          "release_year": "2017"
         },
         {
          "release_year": "2017"
         },
         {
          "release_year": "2017"
         },
         {
          "release_year": "2017"
         },
         {
          "release_year": "2018"
         },
         {
          "release_year": "2018"
         },
         {
          "release_year": "2018"
         },
         {
          "release_year": "2018"
         },
         {
          "release_year": "2018"
         },
         {
          "release_year": "2018"
         },
         {
          "release_year": "2018"
         },
         {
          "release_year": "2018"
         },
         {
          "release_year": "2017"
         },
         {
          "release_year": "2018"
         },
         {
          "release_year": "2017"
         },
         {
          "release_year": "2018"
         },
         {
          "release_year": "2018"
         },
         {
          "release_year": "2018"
         },
         {
          "release_year": "2018"
         },
         {
          "release_year": "2017"
         },
         {
          "release_year": "2018"
         },
         {
          "release_year": "2018"
         },
         {
          "release_year": "2018"
         },
         {
          "release_year": "2017"
         },
         {
          "release_year": "2018"
         },
         {
          "release_year": "2017"
         },
         {
          "release_year": "2018"
         },
         {
          "release_year": "2017"
         },
         {
          "release_year": "2017"
         },
         {
          "release_year": "2018"
         },
         {
          "release_year": "2018"
         },
         {
          "release_year": "2018"
         },
         {
          "release_year": "2018"
         },
         {
          "release_year": "2018"
         },
         {
          "release_year": "2018"
         },
         {
          "release_year": "2017"
         },
         {
          "release_year": "2018"
         },
         {
          "release_year": "2018"
         },
         {
          "release_year": "2018"
         },
         {
          "release_year": "2017"
         },
         {
          "release_year": "2018"
         },
         {
          "release_year": "2018"
         },
         {
          "release_year": "2017"
         },
         {
          "release_year": "2018"
         },
         {
          "release_year": "2017"
         },
         {
          "release_year": "2017"
         },
         {
          "release_year": "2018"
         },
         {
          "release_year": "2017"
         },
         {
          "release_year": "2018"
         },
         {
          "release_year": "2018"
         },
         {
          "release_year": "2018"
         },
         {
          "release_year": "2018"
         },
         {
          "release_year": "2017"
         },
         {
          "release_year": "2018"
         },
         {
          "release_year": "2017"
         },
         {
          "release_year": "2017"
         },
         {
          "release_year": "2018"
         },
         {
          "release_year": "2017"
         },
         {
          "release_year": "2017"
         },
         {
          "release_year": "2017"
         },
         {
          "release_year": "2018"
         },
         {
          "release_year": "2018"
         },
         {
          "release_year": "2017"
         },
         {
          "release_year": "2017"
         },
         {
          "release_year": "2018"
         },
         {
          "release_year": "2017"
         },
         {
          "release_year": "2017"
         },
         {
          "release_year": "2017"
         },
         {
          "release_year": "2018"
         },
         {
          "release_year": "2017"
         },
         {
          "release_year": "2017"
         },
         {
          "release_year": "2018"
         },
         {
          "release_year": "2018"
         },
         {
          "release_year": "2018"
         },
         {
          "release_year": "2018"
         },
         {
          "release_year": "2018"
         },
         {
          "release_year": "2017"
         },
         {
          "release_year": "2018"
         },
         {
          "release_year": "2017"
         },
         {
          "release_year": "2018"
         },
         {
          "release_year": "2018"
         },
         {
          "release_year": "2018"
         },
         {
          "release_year": "2018"
         },
         {
          "release_year": "2018"
         },
         {
          "release_year": "2018"
         },
         {
          "release_year": "2018"
         },
         {
          "release_year": "2017"
         },
         {
          "release_year": "2017"
         },
         {
          "release_year": "2018"
         },
         {
          "release_year": "2017"
         },
         {
          "release_year": "2018"
         },
         {
          "release_year": "2017"
         },
         {
          "release_year": "2017"
         },
         {
          "release_year": "2017"
         },
         {
          "release_year": "2017"
         },
         {
          "release_year": "2017"
         },
         {
          "release_year": "2018"
         },
         {
          "release_year": "2018"
         },
         {
          "release_year": "2017"
         },
         {
          "release_year": "2017"
         },
         {
          "release_year": "2017"
         },
         {
          "release_year": "2018"
         },
         {
          "release_year": "2017"
         },
         {
          "release_year": "2018"
         },
         {
          "release_year": "2018"
         },
         {
          "release_year": "2018"
         },
         {
          "release_year": "2017"
         },
         {
          "release_year": "2017"
         },
         {
          "release_year": "2018"
         },
         {
          "release_year": "2017"
         },
         {
          "release_year": "2017"
         },
         {
          "release_year": "2018"
         },
         {
          "release_year": "2018"
         },
         {
          "release_year": "2018"
         },
         {
          "release_year": "2018"
         },
         {
          "release_year": "2017"
         },
         {
          "release_year": "2018"
         },
         {
          "release_year": "2018"
         },
         {
          "release_year": "2018"
         },
         {
          "release_year": "2017"
         },
         {
          "release_year": "2018"
         },
         {
          "release_year": "2017"
         },
         {
          "release_year": "2018"
         },
         {
          "release_year": "2018"
         },
         {
          "release_year": "2018"
         },
         {
          "release_year": "2017"
         },
         {
          "release_year": "2017"
         },
         {
          "release_year": "2018"
         },
         {
          "release_year": "2018"
         },
         {
          "release_year": "2018"
         },
         {
          "release_year": "2017"
         },
         {
          "release_year": "2017"
         },
         {
          "release_year": "2018"
         },
         {
          "release_year": "2018"
         },
         {
          "release_year": "2018"
         },
         {
          "release_year": "2018"
         },
         {
          "release_year": "2018"
         },
         {
          "release_year": "2018"
         },
         {
          "release_year": "2018"
         },
         {
          "release_year": "2018"
         },
         {
          "release_year": "2018"
         },
         {
          "release_year": "2018"
         },
         {
          "release_year": "2017"
         },
         {
          "release_year": "2017"
         },
         {
          "release_year": "2018"
         },
         {
          "release_year": "2017"
         },
         {
          "release_year": "2018"
         },
         {
          "release_year": "2018"
         },
         {
          "release_year": "2018"
         },
         {
          "release_year": "2017"
         },
         {
          "release_year": "2017"
         },
         {
          "release_year": "2017"
         },
         {
          "release_year": "2017"
         },
         {
          "release_year": "2018"
         },
         {
          "release_year": "2017"
         },
         {
          "release_year": "2017"
         },
         {
          "release_year": "2018"
         },
         {
          "release_year": "2018"
         },
         {
          "release_year": "2018"
         },
         {
          "release_year": "2018"
         },
         {
          "release_year": "2017"
         },
         {
          "release_year": "2018"
         },
         {
          "release_year": "2017"
         },
         {
          "release_year": "2018"
         },
         {
          "release_year": "2018"
         },
         {
          "release_year": "2018"
         },
         {
          "release_year": "2018"
         },
         {
          "release_year": "2018"
         },
         {
          "release_year": "2017"
         },
         {
          "release_year": "2018"
         },
         {
          "release_year": "2018"
         },
         {
          "release_year": "2018"
         },
         {
          "release_year": "2017"
         },
         {
          "release_year": "2018"
         },
         {
          "release_year": "2018"
         },
         {
          "release_year": "2017"
         },
         {
          "release_year": "2018"
         },
         {
          "release_year": "2018"
         },
         {
          "release_year": "2017"
         },
         {
          "release_year": "2017"
         },
         {
          "release_year": "2017"
         },
         {
          "release_year": "2017"
         },
         {
          "release_year": "2017"
         },
         {
          "release_year": "2018"
         },
         {
          "release_year": "2018"
         },
         {
          "release_year": "2018"
         },
         {
          "release_year": "2018"
         },
         {
          "release_year": "2017"
         },
         {
          "release_year": "2018"
         },
         {
          "release_year": "2018"
         },
         {
          "release_year": "2018"
         },
         {
          "release_year": "2017"
         },
         {
          "release_year": "2017"
         },
         {
          "release_year": "2017"
         },
         {
          "release_year": "2018"
         },
         {
          "release_year": "2018"
         },
         {
          "release_year": "2018"
         },
         {
          "release_year": "2018"
         },
         {
          "release_year": "2017"
         },
         {
          "release_year": "2018"
         },
         {
          "release_year": "2017"
         },
         {
          "release_year": "2018"
         },
         {
          "release_year": "2018"
         },
         {
          "release_year": "2017"
         },
         {
          "release_year": "2018"
         },
         {
          "release_year": "2017"
         },
         {
          "release_year": "2017"
         },
         {
          "release_year": "2018"
         },
         {
          "release_year": "2017"
         },
         {
          "release_year": "2018"
         },
         {
          "release_year": "2018"
         },
         {
          "release_year": "2017"
         },
         {
          "release_year": "2017"
         },
         {
          "release_year": "2018"
         },
         {
          "release_year": "2018"
         },
         {
          "release_year": "2017"
         },
         {
          "release_year": "2017"
         },
         {
          "release_year": "2018"
         },
         {
          "release_year": "2018"
         },
         {
          "release_year": "2017"
         },
         {
          "release_year": "2018"
         },
         {
          "release_year": "2017"
         },
         {
          "release_year": "2017"
         },
         {
          "release_year": "2018"
         },
         {
          "release_year": "2017"
         },
         {
          "release_year": "2018"
         },
         {
          "release_year": "2018"
         },
         {
          "release_year": "2018"
         },
         {
          "release_year": "2018"
         },
         {
          "release_year": "2018"
         },
         {
          "release_year": "2017"
         },
         {
          "release_year": "2018"
         },
         {
          "release_year": "2018"
         },
         {
          "release_year": "2017"
         },
         {
          "release_year": "2018"
         },
         {
          "release_year": "2017"
         },
         {
          "release_year": "2018"
         },
         {
          "release_year": "2018"
         },
         {
          "release_year": "2018"
         },
         {
          "release_year": "2018"
         },
         {
          "release_year": "2018"
         },
         {
          "release_year": "2018"
         },
         {
          "release_year": "2017"
         },
         {
          "release_year": "2018"
         },
         {
          "release_year": "2017"
         },
         {
          "release_year": "2018"
         },
         {
          "release_year": "2018"
         },
         {
          "release_year": "2017"
         },
         {
          "release_year": "2018"
         },
         {
          "release_year": "2018"
         },
         {
          "release_year": "2018"
         },
         {
          "release_year": "2018"
         },
         {
          "release_year": "2018"
         },
         {
          "release_year": "2017"
         },
         {
          "release_year": "2017"
         },
         {
          "release_year": "2017"
         },
         {
          "release_year": "2018"
         },
         {
          "release_year": "2017"
         },
         {
          "release_year": "2017"
         },
         {
          "release_year": "2017"
         },
         {
          "release_year": "2018"
         },
         {
          "release_year": "2018"
         },
         {
          "release_year": "2018"
         },
         {
          "release_year": "2018"
         },
         {
          "release_year": "2018"
         },
         {
          "release_year": "2018"
         },
         {
          "release_year": "2017"
         },
         {
          "release_year": "2018"
         },
         {
          "release_year": "2018"
         },
         {
          "release_year": "2017"
         },
         {
          "release_year": "2018"
         },
         {
          "release_year": "2018"
         },
         {
          "release_year": "2017"
         },
         {
          "release_year": "2018"
         },
         {
          "release_year": "2017"
         },
         {
          "release_year": "2017"
         },
         {
          "release_year": "2018"
         },
         {
          "release_year": "2018"
         },
         {
          "release_year": "2017"
         },
         {
          "release_year": "2017"
         },
         {
          "release_year": "2018"
         },
         {
          "release_year": "2018"
         },
         {
          "release_year": "2017"
         },
         {
          "release_year": "2017"
         },
         {
          "release_year": "2018"
         },
         {
          "release_year": "2017"
         },
         {
          "release_year": "2017"
         },
         {
          "release_year": "2018"
         },
         {
          "release_year": "2018"
         },
         {
          "release_year": "2018"
         },
         {
          "release_year": "2019"
         },
         {
          "release_year": "2020"
         },
         {
          "release_year": "2019"
         },
         {
          "release_year": "2019"
         },
         {
          "release_year": "2019"
         },
         {
          "release_year": "2019"
         },
         {
          "release_year": "2019"
         },
         {
          "release_year": "2019"
         },
         {
          "release_year": "2019"
         },
         {
          "release_year": "2019"
         },
         {
          "release_year": "2020"
         },
         {
          "release_year": "2019"
         },
         {
          "release_year": "2020"
         },
         {
          "release_year": "2020"
         },
         {
          "release_year": "2019"
         },
         {
          "release_year": "2019"
         },
         {
          "release_year": "2019"
         },
         {
          "release_year": "2019"
         },
         {
          "release_year": "2019"
         },
         {
          "release_year": "2020"
         },
         {
          "release_year": "2019"
         },
         {
          "release_year": "2019"
         },
         {
          "release_year": "2019"
         },
         {
          "release_year": "2019"
         },
         {
          "release_year": "2019"
         },
         {
          "release_year": "2019"
         },
         {
          "release_year": "2020"
         },
         {
          "release_year": "2020"
         },
         {
          "release_year": "2020"
         },
         {
          "release_year": "2020"
         },
         {
          "release_year": "2020"
         },
         {
          "release_year": "2019"
         },
         {
          "release_year": "2019"
         },
         {
          "release_year": "2020"
         },
         {
          "release_year": "2019"
         },
         {
          "release_year": "2019"
         },
         {
          "release_year": "2019"
         },
         {
          "release_year": "2020"
         },
         {
          "release_year": "2019"
         },
         {
          "release_year": "2020"
         },
         {
          "release_year": "2020"
         },
         {
          "release_year": "2020"
         },
         {
          "release_year": "2020"
         },
         {
          "release_year": "2019"
         },
         {
          "release_year": "2019"
         },
         {
          "release_year": "2020"
         },
         {
          "release_year": "2020"
         },
         {
          "release_year": "2019"
         },
         {
          "release_year": "2020"
         },
         {
          "release_year": "2020"
         },
         {
          "release_year": "2020"
         },
         {
          "release_year": "2019"
         },
         {
          "release_year": "2020"
         },
         {
          "release_year": "2019"
         },
         {
          "release_year": "2020"
         },
         {
          "release_year": "2019"
         },
         {
          "release_year": "2020"
         },
         {
          "release_year": "2019"
         },
         {
          "release_year": "2019"
         },
         {
          "release_year": "2019"
         },
         {
          "release_year": "2020"
         },
         {
          "release_year": "2019"
         },
         {
          "release_year": "2019"
         },
         {
          "release_year": "2019"
         },
         {
          "release_year": "2020"
         },
         {
          "release_year": "2019"
         },
         {
          "release_year": "2019"
         },
         {
          "release_year": "2020"
         },
         {
          "release_year": "2019"
         },
         {
          "release_year": "2020"
         },
         {
          "release_year": "2019"
         },
         {
          "release_year": "2020"
         },
         {
          "release_year": "2020"
         },
         {
          "release_year": "2019"
         },
         {
          "release_year": "2019"
         },
         {
          "release_year": "2019"
         },
         {
          "release_year": "2020"
         },
         {
          "release_year": "2020"
         },
         {
          "release_year": "2019"
         },
         {
          "release_year": "2020"
         },
         {
          "release_year": "2019"
         },
         {
          "release_year": "2019"
         },
         {
          "release_year": "2020"
         },
         {
          "release_year": "2020"
         },
         {
          "release_year": "2019"
         },
         {
          "release_year": "2020"
         },
         {
          "release_year": "2020"
         },
         {
          "release_year": "2019"
         },
         {
          "release_year": "2019"
         },
         {
          "release_year": "2020"
         },
         {
          "release_year": "2019"
         },
         {
          "release_year": "2020"
         },
         {
          "release_year": "2019"
         },
         {
          "release_year": "2020"
         },
         {
          "release_year": "2020"
         },
         {
          "release_year": "2020"
         },
         {
          "release_year": "2019"
         },
         {
          "release_year": "2019"
         },
         {
          "release_year": "2019"
         },
         {
          "release_year": "2019"
         },
         {
          "release_year": "2020"
         },
         {
          "release_year": "2020"
         },
         {
          "release_year": "2020"
         },
         {
          "release_year": "2020"
         },
         {
          "release_year": "2020"
         },
         {
          "release_year": "2019"
         },
         {
          "release_year": "2019"
         },
         {
          "release_year": "2020"
         },
         {
          "release_year": "2019"
         },
         {
          "release_year": "2019"
         },
         {
          "release_year": "2020"
         },
         {
          "release_year": "2020"
         },
         {
          "release_year": "2020"
         },
         {
          "release_year": "2019"
         },
         {
          "release_year": "2020"
         },
         {
          "release_year": "2019"
         },
         {
          "release_year": "2019"
         },
         {
          "release_year": "2019"
         },
         {
          "release_year": "2020"
         },
         {
          "release_year": "2020"
         },
         {
          "release_year": "2020"
         },
         {
          "release_year": "2019"
         },
         {
          "release_year": "2020"
         },
         {
          "release_year": "2019"
         },
         {
          "release_year": "2020"
         },
         {
          "release_year": "2019"
         },
         {
          "release_year": "2020"
         },
         {
          "release_year": "2019"
         },
         {
          "release_year": "2019"
         },
         {
          "release_year": "2020"
         },
         {
          "release_year": "2020"
         },
         {
          "release_year": "2019"
         },
         {
          "release_year": "2020"
         },
         {
          "release_year": "2019"
         },
         {
          "release_year": "2020"
         },
         {
          "release_year": "2019"
         },
         {
          "release_year": "2019"
         },
         {
          "release_year": "2019"
         },
         {
          "release_year": "2019"
         },
         {
          "release_year": "2019"
         },
         {
          "release_year": "2019"
         },
         {
          "release_year": "2020"
         },
         {
          "release_year": "2019"
         },
         {
          "release_year": "2019"
         },
         {
          "release_year": "2020"
         },
         {
          "release_year": "2020"
         },
         {
          "release_year": "2020"
         },
         {
          "release_year": "2019"
         },
         {
          "release_year": "2020"
         },
         {
          "release_year": "2020"
         },
         {
          "release_year": "2020"
         },
         {
          "release_year": "2019"
         },
         {
          "release_year": "2019"
         },
         {
          "release_year": "2020"
         },
         {
          "release_year": "2019"
         },
         {
          "release_year": "2020"
         },
         {
          "release_year": "2020"
         },
         {
          "release_year": "2019"
         },
         {
          "release_year": "2019"
         },
         {
          "release_year": "2020"
         },
         {
          "release_year": "2019"
         },
         {
          "release_year": "2019"
         },
         {
          "release_year": "2019"
         },
         {
          "release_year": "2020"
         },
         {
          "release_year": "2019"
         },
         {
          "release_year": "2020"
         },
         {
          "release_year": "2019"
         },
         {
          "release_year": "2019"
         },
         {
          "release_year": "2020"
         },
         {
          "release_year": "2019"
         },
         {
          "release_year": "2020"
         },
         {
          "release_year": "2019"
         },
         {
          "release_year": "2020"
         },
         {
          "release_year": "2020"
         },
         {
          "release_year": "2020"
         },
         {
          "release_year": "2020"
         },
         {
          "release_year": "2019"
         },
         {
          "release_year": "2019"
         },
         {
          "release_year": "2020"
         },
         {
          "release_year": "2019"
         },
         {
          "release_year": "2020"
         },
         {
          "release_year": "2019"
         },
         {
          "release_year": "2019"
         },
         {
          "release_year": "2020"
         },
         {
          "release_year": "2019"
         },
         {
          "release_year": "2019"
         },
         {
          "release_year": "2020"
         },
         {
          "release_year": "2020"
         },
         {
          "release_year": "2019"
         },
         {
          "release_year": "2019"
         },
         {
          "release_year": "2019"
         },
         {
          "release_year": "2020"
         },
         {
          "release_year": "2020"
         },
         {
          "release_year": "2019"
         },
         {
          "release_year": "2019"
         },
         {
          "release_year": "2020"
         },
         {
          "release_year": "2020"
         },
         {
          "release_year": "2019"
         },
         {
          "release_year": "2019"
         },
         {
          "release_year": "2020"
         },
         {
          "release_year": "2019"
         },
         {
          "release_year": "2020"
         },
         {
          "release_year": "2019"
         },
         {
          "release_year": "2020"
         },
         {
          "release_year": "2019"
         },
         {
          "release_year": "2019"
         },
         {
          "release_year": "2020"
         },
         {
          "release_year": "2019"
         },
         {
          "release_year": "2019"
         },
         {
          "release_year": "2019"
         },
         {
          "release_year": "2019"
         },
         {
          "release_year": "2019"
         },
         {
          "release_year": "2019"
         },
         {
          "release_year": "2020"
         },
         {
          "release_year": "2019"
         },
         {
          "release_year": "2020"
         },
         {
          "release_year": "2019"
         },
         {
          "release_year": "2020"
         },
         {
          "release_year": "2020"
         },
         {
          "release_year": "2020"
         },
         {
          "release_year": "2019"
         },
         {
          "release_year": "2019"
         },
         {
          "release_year": "2019"
         },
         {
          "release_year": "2019"
         },
         {
          "release_year": "2020"
         },
         {
          "release_year": "2019"
         },
         {
          "release_year": "2020"
         },
         {
          "release_year": "2019"
         },
         {
          "release_year": "2020"
         },
         {
          "release_year": "2020"
         },
         {
          "release_year": "2019"
         },
         {
          "release_year": "2020"
         },
         {
          "release_year": "2019"
         },
         {
          "release_year": "2020"
         },
         {
          "release_year": "2019"
         },
         {
          "release_year": "2020"
         },
         {
          "release_year": "2019"
         },
         {
          "release_year": "2020"
         },
         {
          "release_year": "2020"
         },
         {
          "release_year": "2020"
         },
         {
          "release_year": "2020"
         },
         {
          "release_year": "2019"
         },
         {
          "release_year": "2020"
         },
         {
          "release_year": "2019"
         },
         {
          "release_year": "2020"
         },
         {
          "release_year": "2020"
         },
         {
          "release_year": "2019"
         },
         {
          "release_year": "2019"
         },
         {
          "release_year": "2020"
         },
         {
          "release_year": "2020"
         },
         {
          "release_year": "2020"
         },
         {
          "release_year": "2019"
         },
         {
          "release_year": "2019"
         },
         {
          "release_year": "2019"
         },
         {
          "release_year": "2019"
         },
         {
          "release_year": "2020"
         },
         {
          "release_year": "2020"
         },
         {
          "release_year": "2020"
         },
         {
          "release_year": "2019"
         },
         {
          "release_year": "2019"
         },
         {
          "release_year": "2020"
         },
         {
          "release_year": "2019"
         },
         {
          "release_year": "2020"
         },
         {
          "release_year": "2020"
         },
         {
          "release_year": "2019"
         },
         {
          "release_year": "2020"
         },
         {
          "release_year": "2020"
         },
         {
          "release_year": "2020"
         },
         {
          "release_year": "2019"
         },
         {
          "release_year": "2019"
         },
         {
          "release_year": "2019"
         },
         {
          "release_year": "2019"
         },
         {
          "release_year": "2020"
         },
         {
          "release_year": "2019"
         },
         {
          "release_year": "2019"
         },
         {
          "release_year": "2020"
         },
         {
          "release_year": "2019"
         },
         {
          "release_year": "2020"
         },
         {
          "release_year": "2019"
         },
         {
          "release_year": "2020"
         },
         {
          "release_year": "2020"
         },
         {
          "release_year": "2020"
         },
         {
          "release_year": "2020"
         },
         {
          "release_year": "2020"
         },
         {
          "release_year": "2019"
         },
         {
          "release_year": "2020"
         },
         {
          "release_year": "2019"
         },
         {
          "release_year": "2020"
         },
         {
          "release_year": "2020"
         },
         {
          "release_year": "2020"
         },
         {
          "release_year": "2019"
         },
         {
          "release_year": "2019"
         },
         {
          "release_year": "2020"
         },
         {
          "release_year": "2020"
         },
         {
          "release_year": "2020"
         },
         {
          "release_year": "2019"
         },
         {
          "release_year": "2019"
         },
         {
          "release_year": "2020"
         },
         {
          "release_year": "2020"
         },
         {
          "release_year": "2020"
         },
         {
          "release_year": "2020"
         },
         {
          "release_year": "2020"
         },
         {
          "release_year": "2019"
         },
         {
          "release_year": "2020"
         },
         {
          "release_year": "2020"
         },
         {
          "release_year": "2020"
         },
         {
          "release_year": "2019"
         },
         {
          "release_year": "2020"
         },
         {
          "release_year": "2019"
         },
         {
          "release_year": "2020"
         },
         {
          "release_year": "2019"
         },
         {
          "release_year": "2019"
         },
         {
          "release_year": "2020"
         },
         {
          "release_year": "2020"
         },
         {
          "release_year": "2019"
         },
         {
          "release_year": "2019"
         },
         {
          "release_year": "2019"
         },
         {
          "release_year": "2020"
         },
         {
          "release_year": "2020"
         },
         {
          "release_year": "2019"
         },
         {
          "release_year": "2020"
         },
         {
          "release_year": "2019"
         },
         {
          "release_year": "2020"
         },
         {
          "release_year": "2020"
         },
         {
          "release_year": "2020"
         },
         {
          "release_year": "2020"
         },
         {
          "release_year": "2019"
         },
         {
          "release_year": "2019"
         },
         {
          "release_year": "2020"
         },
         {
          "release_year": "2019"
         },
         {
          "release_year": "2019"
         },
         {
          "release_year": "2019"
         },
         {
          "release_year": "2020"
         },
         {
          "release_year": "2019"
         },
         {
          "release_year": "2020"
         },
         {
          "release_year": "2019"
         },
         {
          "release_year": "2020"
         },
         {
          "release_year": "2020"
         },
         {
          "release_year": "2020"
         },
         {
          "release_year": "2019"
         },
         {
          "release_year": "2020"
         },
         {
          "release_year": "2020"
         },
         {
          "release_year": "2020"
         },
         {
          "release_year": "2019"
         },
         {
          "release_year": "2020"
         },
         {
          "release_year": "2020"
         },
         {
          "release_year": "2019"
         },
         {
          "release_year": "2019"
         },
         {
          "release_year": "2020"
         },
         {
          "release_year": "2020"
         },
         {
          "release_year": "2019"
         },
         {
          "release_year": "2020"
         },
         {
          "release_year": "2020"
         },
         {
          "release_year": "2019"
         },
         {
          "release_year": "2020"
         },
         {
          "release_year": "2019"
         },
         {
          "release_year": "2020"
         },
         {
          "release_year": "2020"
         },
         {
          "release_year": "2020"
         },
         {
          "release_year": "2020"
         },
         {
          "release_year": "2019"
         },
         {
          "release_year": "2020"
         },
         {
          "release_year": "2019"
         },
         {
          "release_year": "2019"
         },
         {
          "release_year": "2019"
         },
         {
          "release_year": "2019"
         },
         {
          "release_year": "2019"
         },
         {
          "release_year": "2019"
         },
         {
          "release_year": "2019"
         },
         {
          "release_year": "2020"
         },
         {
          "release_year": "2019"
         },
         {
          "release_year": "2020"
         },
         {
          "release_year": "2020"
         },
         {
          "release_year": "2020"
         },
         {
          "release_year": "2019"
         },
         {
          "release_year": "2019"
         },
         {
          "release_year": "2020"
         },
         {
          "release_year": "2019"
         },
         {
          "release_year": "2020"
         },
         {
          "release_year": "2020"
         },
         {
          "release_year": "2019"
         },
         {
          "release_year": "2019"
         },
         {
          "release_year": "2020"
         },
         {
          "release_year": "2019"
         },
         {
          "release_year": "2019"
         },
         {
          "release_year": "2020"
         },
         {
          "release_year": "2020"
         },
         {
          "release_year": "2020"
         },
         {
          "release_year": "2019"
         },
         {
          "release_year": "2020"
         },
         {
          "release_year": "2020"
         },
         {
          "release_year": "2020"
         },
         {
          "release_year": "2019"
         },
         {
          "release_year": "2019"
         },
         {
          "release_year": "2019"
         },
         {
          "release_year": "2019"
         },
         {
          "release_year": "2020"
         },
         {
          "release_year": "2020"
         },
         {
          "release_year": "2020"
         },
         {
          "release_year": "2019"
         },
         {
          "release_year": "2020"
         },
         {
          "release_year": "2019"
         },
         {
          "release_year": "2020"
         },
         {
          "release_year": "2020"
         },
         {
          "release_year": "2019"
         },
         {
          "release_year": "2019"
         },
         {
          "release_year": "2019"
         },
         {
          "release_year": "2020"
         },
         {
          "release_year": "2020"
         },
         {
          "release_year": "2020"
         },
         {
          "release_year": "2020"
         },
         {
          "release_year": "2019"
         },
         {
          "release_year": "2019"
         },
         {
          "release_year": "2020"
         },
         {
          "release_year": "2020"
         },
         {
          "release_year": "2020"
         },
         {
          "release_year": "2019"
         },
         {
          "release_year": "2019"
         },
         {
          "release_year": "2019"
         },
         {
          "release_year": "2020"
         },
         {
          "release_year": "2019"
         },
         {
          "release_year": "2020"
         },
         {
          "release_year": "2020"
         },
         {
          "release_year": "2020"
         },
         {
          "release_year": "2020"
         },
         {
          "release_year": "2020"
         },
         {
          "release_year": "2020"
         },
         {
          "release_year": "2019"
         },
         {
          "release_year": "2020"
         },
         {
          "release_year": "2020"
         },
         {
          "release_year": "2019"
         },
         {
          "release_year": "2019"
         },
         {
          "release_year": "2019"
         },
         {
          "release_year": "2020"
         },
         {
          "release_year": "2020"
         },
         {
          "release_year": "2020"
         },
         {
          "release_year": "2019"
         },
         {
          "release_year": "2020"
         },
         {
          "release_year": "2019"
         },
         {
          "release_year": "2020"
         },
         {
          "release_year": "2019"
         },
         {
          "release_year": "2019"
         },
         {
          "release_year": "2019"
         },
         {
          "release_year": "2019"
         },
         {
          "release_year": "2020"
         },
         {
          "release_year": "2019"
         },
         {
          "release_year": "2020"
         },
         {
          "release_year": "2019"
         },
         {
          "release_year": "2020"
         },
         {
          "release_year": "2020"
         },
         {
          "release_year": "2020"
         },
         {
          "release_year": "2020"
         },
         {
          "release_year": "2019"
         },
         {
          "release_year": "2020"
         },
         {
          "release_year": "2019"
         },
         {
          "release_year": "2019"
         },
         {
          "release_year": "2020"
         },
         {
          "release_year": "2019"
         },
         {
          "release_year": "2019"
         },
         {
          "release_year": "2019"
         },
         {
          "release_year": "2019"
         },
         {
          "release_year": "2019"
         },
         {
          "release_year": "2019"
         },
         {
          "release_year": "2020"
         },
         {
          "release_year": "2020"
         },
         {
          "release_year": "2020"
         },
         {
          "release_year": "2020"
         },
         {
          "release_year": "2019"
         },
         {
          "release_year": "2020"
         },
         {
          "release_year": "2019"
         },
         {
          "release_year": "2019"
         },
         {
          "release_year": "2020"
         },
         {
          "release_year": "2019"
         },
         {
          "release_year": "2020"
         },
         {
          "release_year": "2020"
         },
         {
          "release_year": "2020"
         },
         {
          "release_year": "2020"
         },
         {
          "release_year": "2020"
         },
         {
          "release_year": "2019"
         },
         {
          "release_year": "2019"
         },
         {
          "release_year": "2020"
         },
         {
          "release_year": "2020"
         },
         {
          "release_year": "2019"
         },
         {
          "release_year": "2020"
         },
         {
          "release_year": "2020"
         },
         {
          "release_year": "2020"
         },
         {
          "release_year": "2019"
         },
         {
          "release_year": "2019"
         },
         {
          "release_year": "2020"
         },
         {
          "release_year": "2019"
         },
         {
          "release_year": "2020"
         },
         {
          "release_year": "2020"
         },
         {
          "release_year": "2019"
         },
         {
          "release_year": "2020"
         },
         {
          "release_year": "2020"
         },
         {
          "release_year": "2020"
         },
         {
          "release_year": "2019"
         },
         {
          "release_year": "2019"
         },
         {
          "release_year": "2020"
         },
         {
          "release_year": "2020"
         },
         {
          "release_year": "2020"
         },
         {
          "release_year": "2020"
         },
         {
          "release_year": "2020"
         },
         {
          "release_year": "2019"
         },
         {
          "release_year": "2019"
         },
         {
          "release_year": "2020"
         },
         {
          "release_year": "2019"
         },
         {
          "release_year": "2020"
         },
         {
          "release_year": "2019"
         },
         {
          "release_year": "2019"
         },
         {
          "release_year": "2020"
         },
         {
          "release_year": "2019"
         },
         {
          "release_year": "2019"
         },
         {
          "release_year": "2020"
         },
         {
          "release_year": "2019"
         },
         {
          "release_year": "2019"
         },
         {
          "release_year": "2019"
         },
         {
          "release_year": "2020"
         },
         {
          "release_year": "2020"
         },
         {
          "release_year": "2020"
         },
         {
          "release_year": "2020"
         },
         {
          "release_year": "2020"
         },
         {
          "release_year": "2020"
         },
         {
          "release_year": "2019"
         },
         {
          "release_year": "2019"
         },
         {
          "release_year": "2020"
         },
         {
          "release_year": "2019"
         },
         {
          "release_year": "2020"
         },
         {
          "release_year": "2020"
         },
         {
          "release_year": "2019"
         },
         {
          "release_year": "2020"
         },
         {
          "release_year": "2020"
         },
         {
          "release_year": "2019"
         },
         {
          "release_year": "2020"
         },
         {
          "release_year": "2020"
         },
         {
          "release_year": "2020"
         },
         {
          "release_year": "2020"
         },
         {
          "release_year": "2019"
         },
         {
          "release_year": "2020"
         },
         {
          "release_year": "2020"
         },
         {
          "release_year": "2020"
         },
         {
          "release_year": "2019"
         },
         {
          "release_year": "2019"
         },
         {
          "release_year": "2019"
         },
         {
          "release_year": "2020"
         },
         {
          "release_year": "2019"
         },
         {
          "release_year": "2019"
         },
         {
          "release_year": "2020"
         },
         {
          "release_year": "2019"
         },
         {
          "release_year": "2019"
         },
         {
          "release_year": "2020"
         },
         {
          "release_year": "2019"
         },
         {
          "release_year": "2020"
         },
         {
          "release_year": "2020"
         },
         {
          "release_year": "2020"
         },
         {
          "release_year": "2019"
         },
         {
          "release_year": "2020"
         },
         {
          "release_year": "2019"
         },
         {
          "release_year": "2020"
         },
         {
          "release_year": "2019"
         },
         {
          "release_year": "2020"
         },
         {
          "release_year": "2020"
         },
         {
          "release_year": "2019"
         },
         {
          "release_year": "2019"
         },
         {
          "release_year": "2020"
         },
         {
          "release_year": "2019"
         },
         {
          "release_year": "2019"
         },
         {
          "release_year": "2019"
         },
         {
          "release_year": "2019"
         },
         {
          "release_year": "2020"
         },
         {
          "release_year": "2020"
         },
         {
          "release_year": "2020"
         },
         {
          "release_year": "2019"
         },
         {
          "release_year": "2019"
         },
         {
          "release_year": "2020"
         },
         {
          "release_year": "2020"
         },
         {
          "release_year": "2020"
         },
         {
          "release_year": "2019"
         },
         {
          "release_year": "2019"
         },
         {
          "release_year": "2020"
         },
         {
          "release_year": "2020"
         },
         {
          "release_year": "2020"
         },
         {
          "release_year": "2020"
         },
         {
          "release_year": "2019"
         },
         {
          "release_year": "2020"
         },
         {
          "release_year": "2020"
         },
         {
          "release_year": "2019"
         },
         {
          "release_year": "2019"
         },
         {
          "release_year": "2020"
         },
         {
          "release_year": "2020"
         },
         {
          "release_year": "2019"
         },
         {
          "release_year": "2019"
         },
         {
          "release_year": "2019"
         },
         {
          "release_year": "2019"
         },
         {
          "release_year": "2019"
         },
         {
          "release_year": "2019"
         },
         {
          "release_year": "2019"
         },
         {
          "release_year": "2019"
         },
         {
          "release_year": "2019"
         },
         {
          "release_year": "2019"
         },
         {
          "release_year": "2020"
         },
         {
          "release_year": "2020"
         },
         {
          "release_year": "2020"
         },
         {
          "release_year": "2019"
         },
         {
          "release_year": "2019"
         },
         {
          "release_year": "2020"
         },
         {
          "release_year": "2020"
         },
         {
          "release_year": "2020"
         },
         {
          "release_year": "2019"
         },
         {
          "release_year": "2020"
         },
         {
          "release_year": "2020"
         },
         {
          "release_year": "2020"
         },
         {
          "release_year": "2019"
         },
         {
          "release_year": "2019"
         },
         {
          "release_year": "2020"
         },
         {
          "release_year": "2019"
         },
         {
          "release_year": "2019"
         },
         {
          "release_year": "2020"
         },
         {
          "release_year": "2019"
         },
         {
          "release_year": "2019"
         },
         {
          "release_year": "2019"
         },
         {
          "release_year": "2019"
         },
         {
          "release_year": "2019"
         },
         {
          "release_year": "2019"
         },
         {
          "release_year": "2019"
         },
         {
          "release_year": "2019"
         },
         {
          "release_year": "2020"
         },
         {
          "release_year": "2019"
         },
         {
          "release_year": "2019"
         },
         {
          "release_year": "2020"
         },
         {
          "release_year": "2019"
         },
         {
          "release_year": "2019"
         },
         {
          "release_year": "2020"
         },
         {
          "release_year": "2019"
         },
         {
          "release_year": "2019"
         },
         {
          "release_year": "2019"
         },
         {
          "release_year": "2019"
         },
         {
          "release_year": "2020"
         },
         {
          "release_year": "2019"
         },
         {
          "release_year": "2020"
         },
         {
          "release_year": "2020"
         },
         {
          "release_year": "2019"
         },
         {
          "release_year": "2020"
         },
         {
          "release_year": "2019"
         },
         {
          "release_year": "2020"
         },
         {
          "release_year": "2020"
         },
         {
          "release_year": "2019"
         },
         {
          "release_year": "2019"
         },
         {
          "release_year": "2020"
         },
         {
          "release_year": "2020"
         },
         {
          "release_year": "2019"
         },
         {
          "release_year": "2020"
         },
         {
          "release_year": "2020"
         },
         {
          "release_year": "2019"
         },
         {
          "release_year": "2019"
         },
         {
          "release_year": "2019"
         },
         {
          "release_year": "2020"
         },
         {
          "release_year": "2019"
         },
         {
          "release_year": "2019"
         },
         {
          "release_year": "2019"
         },
         {
          "release_year": "2020"
         },
         {
          "release_year": "2020"
         },
         {
          "release_year": "2020"
         },
         {
          "release_year": "2020"
         },
         {
          "release_year": "2020"
         },
         {
          "release_year": "2020"
         },
         {
          "release_year": "2020"
         },
         {
          "release_year": "2019"
         },
         {
          "release_year": "2019"
         },
         {
          "release_year": "2019"
         },
         {
          "release_year": "2020"
         },
         {
          "release_year": "2019"
         },
         {
          "release_year": "2019"
         },
         {
          "release_year": "2019"
         },
         {
          "release_year": "2019"
         },
         {
          "release_year": "2020"
         },
         {
          "release_year": "2019"
         },
         {
          "release_year": "2019"
         },
         {
          "release_year": "2020"
         },
         {
          "release_year": "2020"
         },
         {
          "release_year": "2019"
         },
         {
          "release_year": "2020"
         },
         {
          "release_year": "2020"
         },
         {
          "release_year": "2019"
         },
         {
          "release_year": "2020"
         },
         {
          "release_year": "2019"
         },
         {
          "release_year": "2019"
         },
         {
          "release_year": "2020"
         },
         {
          "release_year": "2019"
         },
         {
          "release_year": "2019"
         },
         {
          "release_year": "2020"
         },
         {
          "release_year": "2020"
         },
         {
          "release_year": "2019"
         },
         {
          "release_year": "2019"
         },
         {
          "release_year": "2020"
         },
         {
          "release_year": "2019"
         },
         {
          "release_year": "2019"
         },
         {
          "release_year": "2020"
         },
         {
          "release_year": "2020"
         },
         {
          "release_year": "2019"
         },
         {
          "release_year": "2020"
         },
         {
          "release_year": "2020"
         },
         {
          "release_year": "2020"
         },
         {
          "release_year": "2020"
         },
         {
          "release_year": "2020"
         },
         {
          "release_year": "2019"
         },
         {
          "release_year": "2019"
         },
         {
          "release_year": "2019"
         },
         {
          "release_year": "2020"
         },
         {
          "release_year": "2020"
         },
         {
          "release_year": "2020"
         },
         {
          "release_year": "2019"
         },
         {
          "release_year": "2019"
         },
         {
          "release_year": "2020"
         },
         {
          "release_year": "2020"
         },
         {
          "release_year": "2019"
         },
         {
          "release_year": "2019"
         },
         {
          "release_year": "2019"
         },
         {
          "release_year": "2020"
         },
         {
          "release_year": "2019"
         },
         {
          "release_year": "2019"
         },
         {
          "release_year": "2019"
         },
         {
          "release_year": "2020"
         },
         {
          "release_year": "2020"
         },
         {
          "release_year": "2020"
         },
         {
          "release_year": "2019"
         },
         {
          "release_year": "2019"
         },
         {
          "release_year": "2020"
         },
         {
          "release_year": "2019"
         },
         {
          "release_year": "2019"
         },
         {
          "release_year": "2020"
         },
         {
          "release_year": "2020"
         },
         {
          "release_year": "2019"
         },
         {
          "release_year": "2020"
         },
         {
          "release_year": "2020"
         },
         {
          "release_year": "2019"
         },
         {
          "release_year": "2019"
         },
         {
          "release_year": "2020"
         },
         {
          "release_year": "2020"
         },
         {
          "release_year": "2020"
         },
         {
          "release_year": "2020"
         },
         {
          "release_year": "2019"
         },
         {
          "release_year": "2019"
         },
         {
          "release_year": "2019"
         },
         {
          "release_year": "2020"
         },
         {
          "release_year": "2019"
         },
         {
          "release_year": "2020"
         },
         {
          "release_year": "2019"
         },
         {
          "release_year": "2020"
         },
         {
          "release_year": "2019"
         },
         {
          "release_year": "2020"
         },
         {
          "release_year": "2020"
         },
         {
          "release_year": "2020"
         },
         {
          "release_year": "2019"
         },
         {
          "release_year": "2020"
         },
         {
          "release_year": "2020"
         },
         {
          "release_year": "2020"
         },
         {
          "release_year": "2019"
         },
         {
          "release_year": "2019"
         },
         {
          "release_year": "2020"
         },
         {
          "release_year": "2020"
         },
         {
          "release_year": "2020"
         },
         {
          "release_year": "2019"
         },
         {
          "release_year": "2020"
         },
         {
          "release_year": "2020"
         },
         {
          "release_year": "2020"
         },
         {
          "release_year": "2019"
         },
         {
          "release_year": "2020"
         },
         {
          "release_year": "2020"
         },
         {
          "release_year": "2020"
         },
         {
          "release_year": "2020"
         },
         {
          "release_year": "2019"
         },
         {
          "release_year": "2020"
         },
         {
          "release_year": "2020"
         },
         {
          "release_year": "2020"
         },
         {
          "release_year": "2019"
         },
         {
          "release_year": "2020"
         },
         {
          "release_year": "2019"
         },
         {
          "release_year": "2019"
         },
         {
          "release_year": "2019"
         },
         {
          "release_year": "2019"
         },
         {
          "release_year": "2020"
         },
         {
          "release_year": "2019"
         },
         {
          "release_year": "2019"
         },
         {
          "release_year": "2019"
         },
         {
          "release_year": "2020"
         },
         {
          "release_year": "2020"
         },
         {
          "release_year": "2020"
         },
         {
          "release_year": "2020"
         },
         {
          "release_year": "2019"
         },
         {
          "release_year": "2020"
         },
         {
          "release_year": "2020"
         },
         {
          "release_year": "2019"
         },
         {
          "release_year": "2019"
         },
         {
          "release_year": "2020"
         },
         {
          "release_year": "2019"
         },
         {
          "release_year": "2020"
         },
         {
          "release_year": "2019"
         },
         {
          "release_year": "2019"
         },
         {
          "release_year": "2019"
         },
         {
          "release_year": "2020"
         },
         {
          "release_year": "2019"
         },
         {
          "release_year": "2019"
         },
         {
          "release_year": "2020"
         },
         {
          "release_year": "2020"
         },
         {
          "release_year": "2020"
         },
         {
          "release_year": "2019"
         },
         {
          "release_year": "2020"
         },
         {
          "release_year": "2019"
         },
         {
          "release_year": "2020"
         },
         {
          "release_year": "2019"
         },
         {
          "release_year": "2019"
         },
         {
          "release_year": "2020"
         },
         {
          "release_year": "2020"
         },
         {
          "release_year": "2019"
         },
         {
          "release_year": "2019"
         },
         {
          "release_year": "2020"
         },
         {
          "release_year": "2020"
         },
         {
          "release_year": "2019"
         },
         {
          "release_year": "2019"
         },
         {
          "release_year": "2020"
         },
         {
          "release_year": "2019"
         },
         {
          "release_year": "2019"
         },
         {
          "release_year": "2020"
         },
         {
          "release_year": "2020"
         },
         {
          "release_year": "2019"
         },
         {
          "release_year": "2020"
         },
         {
          "release_year": "2020"
         },
         {
          "release_year": "2020"
         },
         {
          "release_year": "2020"
         },
         {
          "release_year": "2020"
         },
         {
          "release_year": "2019"
         },
         {
          "release_year": "2020"
         },
         {
          "release_year": "2020"
         },
         {
          "release_year": "2019"
         },
         {
          "release_year": "2020"
         },
         {
          "release_year": "2020"
         },
         {
          "release_year": "2020"
         },
         {
          "release_year": "2019"
         },
         {
          "release_year": "2019"
         },
         {
          "release_year": "2019"
         },
         {
          "release_year": "2020"
         },
         {
          "release_year": "2020"
         },
         {
          "release_year": "2019"
         },
         {
          "release_year": "2020"
         },
         {
          "release_year": "2020"
         },
         {
          "release_year": "2019"
         },
         {
          "release_year": "2020"
         },
         {
          "release_year": "2019"
         },
         {
          "release_year": "2020"
         },
         {
          "release_year": "2020"
         },
         {
          "release_year": "2019"
         },
         {
          "release_year": "2020"
         },
         {
          "release_year": "2019"
         },
         {
          "release_year": "2019"
         },
         {
          "release_year": "2019"
         },
         {
          "release_year": "2020"
         },
         {
          "release_year": "2019"
         },
         {
          "release_year": "2019"
         },
         {
          "release_year": "2019"
         },
         {
          "release_year": "2020"
         },
         {
          "release_year": "2019"
         },
         {
          "release_year": "2020"
         },
         {
          "release_year": "2020"
         },
         {
          "release_year": "2020"
         },
         {
          "release_year": "2020"
         },
         {
          "release_year": "2020"
         },
         {
          "release_year": "2020"
         },
         {
          "release_year": "2019"
         },
         {
          "release_year": "2019"
         },
         {
          "release_year": "2019"
         },
         {
          "release_year": "2020"
         },
         {
          "release_year": "2020"
         },
         {
          "release_year": "2019"
         },
         {
          "release_year": "2020"
         },
         {
          "release_year": "2019"
         },
         {
          "release_year": "2019"
         },
         {
          "release_year": "2020"
         },
         {
          "release_year": "2019"
         },
         {
          "release_year": "2020"
         },
         {
          "release_year": "2019"
         },
         {
          "release_year": "2019"
         },
         {
          "release_year": "2019"
         },
         {
          "release_year": "2020"
         },
         {
          "release_year": "2020"
         },
         {
          "release_year": "2019"
         },
         {
          "release_year": "2020"
         },
         {
          "release_year": "2019"
         },
         {
          "release_year": "2019"
         },
         {
          "release_year": "2019"
         },
         {
          "release_year": "2020"
         },
         {
          "release_year": "2019"
         },
         {
          "release_year": "2019"
         },
         {
          "release_year": "2019"
         },
         {
          "release_year": "2020"
         },
         {
          "release_year": "2019"
         },
         {
          "release_year": "2019"
         },
         {
          "release_year": "2020"
         },
         {
          "release_year": "2020"
         },
         {
          "release_year": "2019"
         },
         {
          "release_year": "2020"
         },
         {
          "release_year": "2020"
         },
         {
          "release_year": "2019"
         },
         {
          "release_year": "2020"
         },
         {
          "release_year": "2020"
         },
         {
          "release_year": "2019"
         },
         {
          "release_year": "2020"
         },
         {
          "release_year": "2019"
         },
         {
          "release_year": "2020"
         },
         {
          "release_year": "2019"
         },
         {
          "release_year": "2019"
         },
         {
          "release_year": "2020"
         },
         {
          "release_year": "2020"
         },
         {
          "release_year": "2019"
         },
         {
          "release_year": "2019"
         },
         {
          "release_year": "2019"
         },
         {
          "release_year": "2019"
         },
         {
          "release_year": "2020"
         },
         {
          "release_year": "2020"
         },
         {
          "release_year": "2019"
         },
         {
          "release_year": "2019"
         },
         {
          "release_year": "2019"
         },
         {
          "release_year": "2020"
         },
         {
          "release_year": "2019"
         },
         {
          "release_year": "2019"
         },
         {
          "release_year": "2019"
         },
         {
          "release_year": "2020"
         },
         {
          "release_year": "2019"
         },
         {
          "release_year": "2020"
         },
         {
          "release_year": "2020"
         },
         {
          "release_year": "2019"
         },
         {
          "release_year": "2019"
         },
         {
          "release_year": "2019"
         },
         {
          "release_year": "2020"
         },
         {
          "release_year": "2020"
         },
         {
          "release_year": "2019"
         },
         {
          "release_year": "2019"
         },
         {
          "release_year": "2020"
         },
         {
          "release_year": "2019"
         },
         {
          "release_year": "2020"
         },
         {
          "release_year": "2020"
         },
         {
          "release_year": "2019"
         },
         {
          "release_year": "2019"
         },
         {
          "release_year": "2020"
         },
         {
          "release_year": "2019"
         },
         {
          "release_year": "2020"
         },
         {
          "release_year": "2020"
         },
         {
          "release_year": "2020"
         },
         {
          "release_year": "2020"
         },
         {
          "release_year": "2019"
         },
         {
          "release_year": "2020"
         },
         {
          "release_year": "2019"
         },
         {
          "release_year": "2020"
         },
         {
          "release_year": "2020"
         },
         {
          "release_year": "2019"
         },
         {
          "release_year": "2020"
         },
         {
          "release_year": "2020"
         },
         {
          "release_year": "2020"
         },
         {
          "release_year": "2020"
         },
         {
          "release_year": "2019"
         },
         {
          "release_year": "2020"
         },
         {
          "release_year": "2020"
         },
         {
          "release_year": "2019"
         },
         {
          "release_year": "2020"
         },
         {
          "release_year": "2020"
         },
         {
          "release_year": "2020"
         },
         {
          "release_year": "2020"
         },
         {
          "release_year": "2019"
         },
         {
          "release_year": "2019"
         },
         {
          "release_year": "2019"
         },
         {
          "release_year": "2019"
         },
         {
          "release_year": "2020"
         },
         {
          "release_year": "2019"
         },
         {
          "release_year": "2019"
         },
         {
          "release_year": "2019"
         },
         {
          "release_year": "2020"
         },
         {
          "release_year": "2019"
         },
         {
          "release_year": "2020"
         },
         {
          "release_year": "2020"
         },
         {
          "release_year": "2020"
         },
         {
          "release_year": "2019"
         },
         {
          "release_year": "2019"
         },
         {
          "release_year": "2019"
         },
         {
          "release_year": "2020"
         },
         {
          "release_year": "2019"
         },
         {
          "release_year": "2020"
         },
         {
          "release_year": "2019"
         },
         {
          "release_year": "2019"
         },
         {
          "release_year": "2020"
         },
         {
          "release_year": "2019"
         },
         {
          "release_year": "2019"
         },
         {
          "release_year": "2020"
         },
         {
          "release_year": "2019"
         },
         {
          "release_year": "2020"
         },
         {
          "release_year": "2020"
         },
         {
          "release_year": "2019"
         },
         {
          "release_year": "2020"
         },
         {
          "release_year": "2019"
         },
         {
          "release_year": "2019"
         },
         {
          "release_year": "2019"
         },
         {
          "release_year": "2019"
         },
         {
          "release_year": "2020"
         },
         {
          "release_year": "2020"
         },
         {
          "release_year": "2020"
         },
         {
          "release_year": "2019"
         },
         {
          "release_year": "2019"
         },
         {
          "release_year": "2020"
         },
         {
          "release_year": "2020"
         },
         {
          "release_year": "2020"
         },
         {
          "release_year": "2020"
         },
         {
          "release_year": "2020"
         },
         {
          "release_year": "2019"
         },
         {
          "release_year": "2020"
         },
         {
          "release_year": "2020"
         },
         {
          "release_year": "2020"
         },
         {
          "release_year": "2019"
         },
         {
          "release_year": "2019"
         },
         {
          "release_year": "2020"
         },
         {
          "release_year": "2020"
         },
         {
          "release_year": "2020"
         },
         {
          "release_year": "2019"
         },
         {
          "release_year": "2019"
         },
         {
          "release_year": "2019"
         },
         {
          "release_year": "2020"
         },
         {
          "release_year": "2020"
         },
         {
          "release_year": "2020"
         },
         {
          "release_year": "2019"
         },
         {
          "release_year": "2019"
         },
         {
          "release_year": "2019"
         },
         {
          "release_year": "2020"
         },
         {
          "release_year": "2020"
         },
         {
          "release_year": "2020"
         },
         {
          "release_year": "2020"
         },
         {
          "release_year": "2019"
         },
         {
          "release_year": "2020"
         },
         {
          "release_year": "2020"
         },
         {
          "release_year": "2019"
         },
         {
          "release_year": "2019"
         },
         {
          "release_year": "2019"
         },
         {
          "release_year": "2019"
         },
         {
          "release_year": "2019"
         },
         {
          "release_year": "2020"
         },
         {
          "release_year": "2020"
         },
         {
          "release_year": "2020"
         },
         {
          "release_year": "2019"
         },
         {
          "release_year": "2020"
         },
         {
          "release_year": "2019"
         },
         {
          "release_year": "2019"
         },
         {
          "release_year": "2019"
         },
         {
          "release_year": "2019"
         },
         {
          "release_year": "2020"
         },
         {
          "release_year": "2019"
         },
         {
          "release_year": "2019"
         },
         {
          "release_year": "2019"
         },
         {
          "release_year": "2020"
         },
         {
          "release_year": "2019"
         },
         {
          "release_year": "2020"
         },
         {
          "release_year": "2019"
         },
         {
          "release_year": "2019"
         },
         {
          "release_year": "2019"
         },
         {
          "release_year": "2019"
         },
         {
          "release_year": "2020"
         },
         {
          "release_year": "2019"
         },
         {
          "release_year": "2019"
         },
         {
          "release_year": "2020"
         },
         {
          "release_year": "2020"
         },
         {
          "release_year": "2020"
         },
         {
          "release_year": "2020"
         },
         {
          "release_year": "2019"
         },
         {
          "release_year": "2019"
         },
         {
          "release_year": "2019"
         },
         {
          "release_year": "2019"
         },
         {
          "release_year": "2019"
         },
         {
          "release_year": "2019"
         },
         {
          "release_year": "2020"
         },
         {
          "release_year": "2020"
         },
         {
          "release_year": "2020"
         },
         {
          "release_year": "2020"
         },
         {
          "release_year": "2019"
         },
         {
          "release_year": "2019"
         },
         {
          "release_year": "2020"
         },
         {
          "release_year": "2019"
         },
         {
          "release_year": "2019"
         },
         {
          "release_year": "2020"
         },
         {
          "release_year": "2019"
         },
         {
          "release_year": "2019"
         },
         {
          "release_year": "2020"
         },
         {
          "release_year": "2019"
         },
         {
          "release_year": "2020"
         },
         {
          "release_year": "2020"
         },
         {
          "release_year": "2020"
         },
         {
          "release_year": "2019"
         },
         {
          "release_year": "2020"
         },
         {
          "release_year": "2020"
         },
         {
          "release_year": "2020"
         },
         {
          "release_year": "2020"
         },
         {
          "release_year": "2019"
         },
         {
          "release_year": "2019"
         },
         {
          "release_year": "2019"
         },
         {
          "release_year": "2019"
         },
         {
          "release_year": "2019"
         },
         {
          "release_year": "2019"
         },
         {
          "release_year": "2020"
         },
         {
          "release_year": "2019"
         },
         {
          "release_year": "2019"
         },
         {
          "release_year": "2020"
         },
         {
          "release_year": "2020"
         },
         {
          "release_year": "2020"
         },
         {
          "release_year": "2020"
         },
         {
          "release_year": "2020"
         },
         {
          "release_year": "2020"
         },
         {
          "release_year": "2019"
         },
         {
          "release_year": "2020"
         },
         {
          "release_year": "2020"
         },
         {
          "release_year": "2019"
         },
         {
          "release_year": "2019"
         },
         {
          "release_year": "2020"
         },
         {
          "release_year": "2020"
         },
         {
          "release_year": "2019"
         },
         {
          "release_year": "2019"
         },
         {
          "release_year": "2019"
         },
         {
          "release_year": "2020"
         },
         {
          "release_year": "2020"
         },
         {
          "release_year": "2019"
         },
         {
          "release_year": "2020"
         },
         {
          "release_year": "2020"
         },
         {
          "release_year": "2020"
         },
         {
          "release_year": "2020"
         },
         {
          "release_year": "2019"
         },
         {
          "release_year": "2020"
         },
         {
          "release_year": "2020"
         },
         {
          "release_year": "2019"
         },
         {
          "release_year": "2019"
         },
         {
          "release_year": "2020"
         },
         {
          "release_year": "2019"
         },
         {
          "release_year": "2020"
         },
         {
          "release_year": "2020"
         },
         {
          "release_year": "2020"
         },
         {
          "release_year": "2019"
         },
         {
          "release_year": "2020"
         },
         {
          "release_year": "2020"
         },
         {
          "release_year": "2020"
         },
         {
          "release_year": "2019"
         },
         {
          "release_year": "2019"
         },
         {
          "release_year": "2019"
         },
         {
          "release_year": "2020"
         },
         {
          "release_year": "2019"
         },
         {
          "release_year": "2020"
         },
         {
          "release_year": "2019"
         },
         {
          "release_year": "2019"
         },
         {
          "release_year": "2019"
         },
         {
          "release_year": "2019"
         },
         {
          "release_year": "2020"
         },
         {
          "release_year": "2020"
         },
         {
          "release_year": "2020"
         },
         {
          "release_year": "2019"
         },
         {
          "release_year": "2019"
         },
         {
          "release_year": "2020"
         },
         {
          "release_year": "2020"
         },
         {
          "release_year": "2019"
         },
         {
          "release_year": "2019"
         },
         {
          "release_year": "2020"
         },
         {
          "release_year": "2020"
         },
         {
          "release_year": "2020"
         },
         {
          "release_year": "2020"
         },
         {
          "release_year": "2019"
         },
         {
          "release_year": "2019"
         },
         {
          "release_year": "2020"
         },
         {
          "release_year": "2019"
         },
         {
          "release_year": "2020"
         },
         {
          "release_year": "2019"
         },
         {
          "release_year": "2020"
         },
         {
          "release_year": "2020"
         },
         {
          "release_year": "2020"
         },
         {
          "release_year": "2019"
         },
         {
          "release_year": "2019"
         },
         {
          "release_year": "2019"
         },
         {
          "release_year": "2019"
         },
         {
          "release_year": "2020"
         },
         {
          "release_year": "2019"
         },
         {
          "release_year": "2019"
         },
         {
          "release_year": "2019"
         },
         {
          "release_year": "2019"
         },
         {
          "release_year": "2020"
         },
         {
          "release_year": "2019"
         },
         {
          "release_year": "2020"
         },
         {
          "release_year": "2019"
         },
         {
          "release_year": "2019"
         },
         {
          "release_year": "2019"
         },
         {
          "release_year": "2020"
         },
         {
          "release_year": "2020"
         },
         {
          "release_year": "2020"
         },
         {
          "release_year": "2019"
         },
         {
          "release_year": "2020"
         },
         {
          "release_year": "2020"
         },
         {
          "release_year": "2019"
         },
         {
          "release_year": "2020"
         },
         {
          "release_year": "2019"
         },
         {
          "release_year": "2020"
         },
         {
          "release_year": "2019"
         },
         {
          "release_year": "2020"
         },
         {
          "release_year": "2020"
         },
         {
          "release_year": "2019"
         },
         {
          "release_year": "2020"
         },
         {
          "release_year": "2020"
         },
         {
          "release_year": "2020"
         },
         {
          "release_year": "2019"
         },
         {
          "release_year": "2019"
         },
         {
          "release_year": "2019"
         },
         {
          "release_year": "2020"
         },
         {
          "release_year": "2020"
         },
         {
          "release_year": "2019"
         },
         {
          "release_year": "2019"
         },
         {
          "release_year": "2019"
         },
         {
          "release_year": "2020"
         },
         {
          "release_year": "2020"
         },
         {
          "release_year": "2020"
         },
         {
          "release_year": "2020"
         },
         {
          "release_year": "2020"
         },
         {
          "release_year": "2019"
         },
         {
          "release_year": "2019"
         },
         {
          "release_year": "2019"
         },
         {
          "release_year": "2019"
         },
         {
          "release_year": "2020"
         },
         {
          "release_year": "2019"
         },
         {
          "release_year": "2020"
         },
         {
          "release_year": "2019"
         },
         {
          "release_year": "2020"
         },
         {
          "release_year": "2020"
         },
         {
          "release_year": "2019"
         },
         {
          "release_year": "2020"
         },
         {
          "release_year": "2019"
         },
         {
          "release_year": "2019"
         },
         {
          "release_year": "2020"
         },
         {
          "release_year": "2020"
         },
         {
          "release_year": "2019"
         },
         {
          "release_year": "2019"
         },
         {
          "release_year": "2020"
         },
         {
          "release_year": "2020"
         },
         {
          "release_year": "2020"
         },
         {
          "release_year": "2020"
         },
         {
          "release_year": "2019"
         },
         {
          "release_year": "2019"
         },
         {
          "release_year": "2020"
         },
         {
          "release_year": "2020"
         },
         {
          "release_year": "2020"
         },
         {
          "release_year": "2019"
         },
         {
          "release_year": "2020"
         },
         {
          "release_year": "2019"
         },
         {
          "release_year": "2020"
         },
         {
          "release_year": "2019"
         },
         {
          "release_year": "2019"
         },
         {
          "release_year": "2019"
         },
         {
          "release_year": "2019"
         },
         {
          "release_year": "2019"
         },
         {
          "release_year": "2019"
         },
         {
          "release_year": "2020"
         },
         {
          "release_year": "2020"
         },
         {
          "release_year": "2020"
         },
         {
          "release_year": "2020"
         },
         {
          "release_year": "2020"
         },
         {
          "release_year": "2019"
         },
         {
          "release_year": "2020"
         },
         {
          "release_year": "2020"
         },
         {
          "release_year": "2020"
         },
         {
          "release_year": "2019"
         },
         {
          "release_year": "2020"
         },
         {
          "release_year": "2019"
         },
         {
          "release_year": "2020"
         },
         {
          "release_year": "2019"
         },
         {
          "release_year": "2020"
         },
         {
          "release_year": "2020"
         },
         {
          "release_year": "2020"
         },
         {
          "release_year": "2019"
         },
         {
          "release_year": "2019"
         },
         {
          "release_year": "2019"
         },
         {
          "release_year": "2019"
         },
         {
          "release_year": "2019"
         },
         {
          "release_year": "2019"
         },
         {
          "release_year": "2019"
         },
         {
          "release_year": "2019"
         },
         {
          "release_year": "2019"
         },
         {
          "release_year": "2020"
         },
         {
          "release_year": "2019"
         },
         {
          "release_year": "2020"
         },
         {
          "release_year": "2020"
         },
         {
          "release_year": "2020"
         },
         {
          "release_year": "2020"
         },
         {
          "release_year": "2019"
         },
         {
          "release_year": "2019"
         },
         {
          "release_year": "2020"
         },
         {
          "release_year": "2019"
         },
         {
          "release_year": "2020"
         },
         {
          "release_year": "2019"
         },
         {
          "release_year": "2019"
         },
         {
          "release_year": "2019"
         },
         {
          "release_year": "2020"
         },
         {
          "release_year": "2020"
         },
         {
          "release_year": "2019"
         },
         {
          "release_year": "2020"
         },
         {
          "release_year": "2020"
         },
         {
          "release_year": "2020"
         },
         {
          "release_year": "2020"
         },
         {
          "release_year": "2019"
         },
         {
          "release_year": "2019"
         },
         {
          "release_year": "2019"
         },
         {
          "release_year": "2019"
         },
         {
          "release_year": "2019"
         },
         {
          "release_year": "2019"
         },
         {
          "release_year": "2019"
         },
         {
          "release_year": "2020"
         },
         {
          "release_year": "2020"
         },
         {
          "release_year": "2019"
         },
         {
          "release_year": "2019"
         },
         {
          "release_year": "2019"
         },
         {
          "release_year": "2020"
         },
         {
          "release_year": "2019"
         },
         {
          "release_year": "2020"
         },
         {
          "release_year": "2020"
         },
         {
          "release_year": "2020"
         },
         {
          "release_year": "2019"
         },
         {
          "release_year": "2020"
         },
         {
          "release_year": "2019"
         },
         {
          "release_year": "2020"
         },
         {
          "release_year": "2019"
         },
         {
          "release_year": "2019"
         },
         {
          "release_year": "2020"
         },
         {
          "release_year": "2019"
         },
         {
          "release_year": "2019"
         },
         {
          "release_year": "2020"
         },
         {
          "release_year": "2019"
         },
         {
          "release_year": "2020"
         },
         {
          "release_year": "2020"
         },
         {
          "release_year": "2020"
         },
         {
          "release_year": "2019"
         },
         {
          "release_year": "2019"
         },
         {
          "release_year": "2019"
         },
         {
          "release_year": "2020"
         },
         {
          "release_year": "2020"
         },
         {
          "release_year": "2019"
         },
         {
          "release_year": "2019"
         },
         {
          "release_year": "2019"
         },
         {
          "release_year": "2020"
         },
         {
          "release_year": "2020"
         },
         {
          "release_year": "2019"
         },
         {
          "release_year": "2019"
         },
         {
          "release_year": "2019"
         },
         {
          "release_year": "2020"
         },
         {
          "release_year": "2020"
         },
         {
          "release_year": "2020"
         },
         {
          "release_year": "2020"
         },
         {
          "release_year": "2020"
         },
         {
          "release_year": "2019"
         },
         {
          "release_year": "2020"
         },
         {
          "release_year": "2020"
         },
         {
          "release_year": "2019"
         },
         {
          "release_year": "2019"
         },
         {
          "release_year": "2020"
         },
         {
          "release_year": "2020"
         },
         {
          "release_year": "2019"
         },
         {
          "release_year": "2020"
         },
         {
          "release_year": "2020"
         },
         {
          "release_year": "2019"
         },
         {
          "release_year": "2019"
         },
         {
          "release_year": "2020"
         },
         {
          "release_year": "2020"
         },
         {
          "release_year": "2019"
         },
         {
          "release_year": "2019"
         },
         {
          "release_year": "2019"
         },
         {
          "release_year": "2020"
         },
         {
          "release_year": "2019"
         },
         {
          "release_year": "2019"
         },
         {
          "release_year": "2020"
         },
         {
          "release_year": "2019"
         },
         {
          "release_year": "2019"
         },
         {
          "release_year": "2020"
         },
         {
          "release_year": "2020"
         },
         {
          "release_year": "2020"
         },
         {
          "release_year": "2020"
         },
         {
          "release_year": "2019"
         },
         {
          "release_year": "2020"
         },
         {
          "release_year": "2019"
         },
         {
          "release_year": "2020"
         },
         {
          "release_year": "2020"
         },
         {
          "release_year": "2019"
         },
         {
          "release_year": "2020"
         },
         {
          "release_year": "2020"
         },
         {
          "release_year": "2020"
         },
         {
          "release_year": "2020"
         },
         {
          "release_year": "2020"
         },
         {
          "release_year": "2020"
         },
         {
          "release_year": "2019"
         },
         {
          "release_year": "2020"
         },
         {
          "release_year": "2020"
         },
         {
          "release_year": "2020"
         },
         {
          "release_year": "2019"
         },
         {
          "release_year": "2020"
         },
         {
          "release_year": "2019"
         },
         {
          "release_year": "2020"
         },
         {
          "release_year": "2019"
         },
         {
          "release_year": "2019"
         },
         {
          "release_year": "2020"
         },
         {
          "release_year": "2019"
         },
         {
          "release_year": "2019"
         },
         {
          "release_year": "2019"
         },
         {
          "release_year": "2020"
         },
         {
          "release_year": "2020"
         },
         {
          "release_year": "2020"
         },
         {
          "release_year": "2020"
         },
         {
          "release_year": "2019"
         },
         {
          "release_year": "2020"
         },
         {
          "release_year": "2020"
         },
         {
          "release_year": "2020"
         },
         {
          "release_year": "2020"
         },
         {
          "release_year": "2020"
         },
         {
          "release_year": "2020"
         },
         {
          "release_year": "2020"
         },
         {
          "release_year": "2019"
         },
         {
          "release_year": "2019"
         },
         {
          "release_year": "2019"
         },
         {
          "release_year": "2020"
         },
         {
          "release_year": "2020"
         },
         {
          "release_year": "2020"
         },
         {
          "release_year": "2019"
         },
         {
          "release_year": "2019"
         },
         {
          "release_year": "2019"
         },
         {
          "release_year": "2019"
         },
         {
          "release_year": "2020"
         },
         {
          "release_year": "2019"
         },
         {
          "release_year": "2019"
         },
         {
          "release_year": "2020"
         },
         {
          "release_year": "2020"
         },
         {
          "release_year": "2020"
         },
         {
          "release_year": "2019"
         },
         {
          "release_year": "2019"
         },
         {
          "release_year": "2020"
         },
         {
          "release_year": "2020"
         },
         {
          "release_year": "2020"
         },
         {
          "release_year": "2020"
         },
         {
          "release_year": "2020"
         },
         {
          "release_year": "2020"
         },
         {
          "release_year": "2020"
         },
         {
          "release_year": "2019"
         },
         {
          "release_year": "2019"
         },
         {
          "release_year": "2019"
         },
         {
          "release_year": "2019"
         },
         {
          "release_year": "2019"
         },
         {
          "release_year": "2019"
         },
         {
          "release_year": "2020"
         },
         {
          "release_year": "2019"
         },
         {
          "release_year": "2020"
         },
         {
          "release_year": "2019"
         },
         {
          "release_year": "2020"
         },
         {
          "release_year": "2019"
         },
         {
          "release_year": "2020"
         },
         {
          "release_year": "2019"
         },
         {
          "release_year": "2019"
         },
         {
          "release_year": "2019"
         },
         {
          "release_year": "2019"
         },
         {
          "release_year": "2020"
         },
         {
          "release_year": "2019"
         },
         {
          "release_year": "2020"
         },
         {
          "release_year": "2019"
         },
         {
          "release_year": "2019"
         },
         {
          "release_year": "2019"
         },
         {
          "release_year": "2019"
         },
         {
          "release_year": "2019"
         },
         {
          "release_year": "2019"
         },
         {
          "release_year": "2019"
         },
         {
          "release_year": "2019"
         },
         {
          "release_year": "2019"
         },
         {
          "release_year": "2019"
         },
         {
          "release_year": "2019"
         },
         {
          "release_year": "2020"
         },
         {
          "release_year": "2019"
         },
         {
          "release_year": "2019"
         },
         {
          "release_year": "2019"
         },
         {
          "release_year": "2020"
         },
         {
          "release_year": "2019"
         },
         {
          "release_year": "2019"
         },
         {
          "release_year": "2020"
         },
         {
          "release_year": "2019"
         },
         {
          "release_year": "2020"
         },
         {
          "release_year": "2019"
         },
         {
          "release_year": "2020"
         },
         {
          "release_year": "2020"
         },
         {
          "release_year": "2019"
         },
         {
          "release_year": "2019"
         },
         {
          "release_year": "2019"
         },
         {
          "release_year": "2019"
         },
         {
          "release_year": "2019"
         },
         {
          "release_year": "2019"
         },
         {
          "release_year": "2020"
         },
         {
          "release_year": "2019"
         },
         {
          "release_year": "2019"
         },
         {
          "release_year": "2019"
         },
         {
          "release_year": "2020"
         },
         {
          "release_year": "2019"
         },
         {
          "release_year": "2019"
         },
         {
          "release_year": "2019"
         },
         {
          "release_year": "2019"
         },
         {
          "release_year": "2019"
         },
         {
          "release_year": "2019"
         },
         {
          "release_year": "2020"
         },
         {
          "release_year": "2020"
         },
         {
          "release_year": "2019"
         },
         {
          "release_year": "2020"
         },
         {
          "release_year": "2019"
         },
         {
          "release_year": "2020"
         },
         {
          "release_year": "2019"
         },
         {
          "release_year": "2019"
         },
         {
          "release_year": "2019"
         },
         {
          "release_year": "2019"
         },
         {
          "release_year": "2020"
         },
         {
          "release_year": "2019"
         },
         {
          "release_year": "2019"
         },
         {
          "release_year": "2019"
         },
         {
          "release_year": "2020"
         },
         {
          "release_year": "2019"
         },
         {
          "release_year": "2019"
         },
         {
          "release_year": "2020"
         },
         {
          "release_year": "2019"
         },
         {
          "release_year": "2020"
         },
         {
          "release_year": "2019"
         },
         {
          "release_year": "2020"
         },
         {
          "release_year": "2019"
         },
         {
          "release_year": "2019"
         },
         {
          "release_year": "2020"
         },
         {
          "release_year": "2019"
         },
         {
          "release_year": "2020"
         },
         {
          "release_year": "2020"
         },
         {
          "release_year": "2020"
         },
         {
          "release_year": "2019"
         },
         {
          "release_year": "2019"
         },
         {
          "release_year": "2020"
         },
         {
          "release_year": "2019"
         },
         {
          "release_year": "2019"
         },
         {
          "release_year": "2019"
         },
         {
          "release_year": "2020"
         },
         {
          "release_year": "2020"
         },
         {
          "release_year": "2020"
         },
         {
          "release_year": "2020"
         },
         {
          "release_year": "2019"
         },
         {
          "release_year": "2019"
         },
         {
          "release_year": "2020"
         },
         {
          "release_year": "2020"
         },
         {
          "release_year": "2019"
         },
         {
          "release_year": "2020"
         },
         {
          "release_year": "2019"
         },
         {
          "release_year": "2019"
         },
         {
          "release_year": "2019"
         },
         {
          "release_year": "2020"
         },
         {
          "release_year": "2020"
         },
         {
          "release_year": "2020"
         },
         {
          "release_year": "2019"
         },
         {
          "release_year": "2019"
         },
         {
          "release_year": "2020"
         },
         {
          "release_year": "2020"
         },
         {
          "release_year": "2019"
         },
         {
          "release_year": "2019"
         },
         {
          "release_year": "2020"
         },
         {
          "release_year": "2019"
         },
         {
          "release_year": "2019"
         },
         {
          "release_year": "2019"
         },
         {
          "release_year": "2020"
         },
         {
          "release_year": "2019"
         },
         {
          "release_year": "2019"
         },
         {
          "release_year": "2020"
         },
         {
          "release_year": "2020"
         },
         {
          "release_year": "2019"
         },
         {
          "release_year": "2020"
         },
         {
          "release_year": "2019"
         },
         {
          "release_year": "2020"
         },
         {
          "release_year": "2020"
         },
         {
          "release_year": "2020"
         },
         {
          "release_year": "2020"
         },
         {
          "release_year": "2019"
         },
         {
          "release_year": "2019"
         },
         {
          "release_year": "2020"
         },
         {
          "release_year": "2020"
         },
         {
          "release_year": "2020"
         },
         {
          "release_year": "2020"
         },
         {
          "release_year": "2020"
         },
         {
          "release_year": "2019"
         },
         {
          "release_year": "2019"
         },
         {
          "release_year": "2020"
         },
         {
          "release_year": "2019"
         },
         {
          "release_year": "2020"
         },
         {
          "release_year": "2019"
         },
         {
          "release_year": "2019"
         },
         {
          "release_year": "2020"
         },
         {
          "release_year": "2020"
         },
         {
          "release_year": "2019"
         },
         {
          "release_year": "2019"
         },
         {
          "release_year": "2020"
         },
         {
          "release_year": "2019"
         },
         {
          "release_year": "2020"
         },
         {
          "release_year": "2019"
         },
         {
          "release_year": "2019"
         },
         {
          "release_year": "2019"
         },
         {
          "release_year": "2020"
         },
         {
          "release_year": "2019"
         },
         {
          "release_year": "2019"
         },
         {
          "release_year": "2019"
         },
         {
          "release_year": "2020"
         },
         {
          "release_year": "2020"
         },
         {
          "release_year": "2019"
         },
         {
          "release_year": "2020"
         },
         {
          "release_year": "2019"
         },
         {
          "release_year": "2019"
         },
         {
          "release_year": "2019"
         },
         {
          "release_year": "2020"
         },
         {
          "release_year": "2020"
         },
         {
          "release_year": "2019"
         },
         {
          "release_year": "2019"
         },
         {
          "release_year": "2020"
         },
         {
          "release_year": "2019"
         },
         {
          "release_year": "2019"
         },
         {
          "release_year": "2019"
         },
         {
          "release_year": "2020"
         },
         {
          "release_year": "2019"
         },
         {
          "release_year": "2020"
         },
         {
          "release_year": "2019"
         },
         {
          "release_year": "2019"
         },
         {
          "release_year": "2019"
         },
         {
          "release_year": "2019"
         },
         {
          "release_year": "2020"
         },
         {
          "release_year": "2019"
         },
         {
          "release_year": "2019"
         },
         {
          "release_year": "2019"
         },
         {
          "release_year": "2019"
         },
         {
          "release_year": "2020"
         },
         {
          "release_year": "2020"
         },
         {
          "release_year": "2019"
         },
         {
          "release_year": "2019"
         },
         {
          "release_year": "2019"
         },
         {
          "release_year": "2020"
         },
         {
          "release_year": "2019"
         },
         {
          "release_year": "2019"
         },
         {
          "release_year": "2019"
         },
         {
          "release_year": "2020"
         },
         {
          "release_year": "2022"
         },
         {
          "release_year": "2022"
         },
         {
          "release_year": "2022"
         },
         {
          "release_year": "2021"
         },
         {
          "release_year": "2022"
         },
         {
          "release_year": "2022"
         },
         {
          "release_year": "2022"
         },
         {
          "release_year": "2022"
         },
         {
          "release_year": "2022"
         },
         {
          "release_year": "2022"
         },
         {
          "release_year": "2022"
         },
         {
          "release_year": "2022"
         },
         {
          "release_year": "2022"
         },
         {
          "release_year": "2022"
         },
         {
          "release_year": "2022"
         },
         {
          "release_year": "2022"
         },
         {
          "release_year": "2022"
         },
         {
          "release_year": "2022"
         },
         {
          "release_year": "2022"
         },
         {
          "release_year": "2022"
         },
         {
          "release_year": "2021"
         },
         {
          "release_year": "2022"
         },
         {
          "release_year": "2022"
         },
         {
          "release_year": "2022"
         },
         {
          "release_year": "2022"
         },
         {
          "release_year": "2022"
         },
         {
          "release_year": "2021"
         },
         {
          "release_year": "2021"
         },
         {
          "release_year": "2022"
         },
         {
          "release_year": "2022"
         },
         {
          "release_year": "2022"
         },
         {
          "release_year": "2022"
         },
         {
          "release_year": "2022"
         },
         {
          "release_year": "2021"
         },
         {
          "release_year": "2021"
         },
         {
          "release_year": "2021"
         },
         {
          "release_year": "2022"
         },
         {
          "release_year": "2022"
         },
         {
          "release_year": "2022"
         },
         {
          "release_year": "2021"
         },
         {
          "release_year": "2022"
         },
         {
          "release_year": "2022"
         },
         {
          "release_year": "2022"
         },
         {
          "release_year": "2022"
         },
         {
          "release_year": "2022"
         },
         {
          "release_year": "2021"
         },
         {
          "release_year": "2022"
         },
         {
          "release_year": "2022"
         },
         {
          "release_year": "2022"
         },
         {
          "release_year": "2022"
         },
         {
          "release_year": "2022"
         },
         {
          "release_year": "2021"
         },
         {
          "release_year": "2022"
         },
         {
          "release_year": "2021"
         },
         {
          "release_year": "2022"
         },
         {
          "release_year": "2021"
         },
         {
          "release_year": "2022"
         },
         {
          "release_year": "2022"
         },
         {
          "release_year": "2021"
         },
         {
          "release_year": "2022"
         },
         {
          "release_year": "2022"
         },
         {
          "release_year": "2022"
         },
         {
          "release_year": "2021"
         },
         {
          "release_year": "2022"
         },
         {
          "release_year": "2022"
         },
         {
          "release_year": "2022"
         },
         {
          "release_year": "2021"
         },
         {
          "release_year": "2022"
         },
         {
          "release_year": "2022"
         },
         {
          "release_year": "2022"
         },
         {
          "release_year": "2022"
         },
         {
          "release_year": "2021"
         },
         {
          "release_year": "2021"
         },
         {
          "release_year": "2021"
         },
         {
          "release_year": "2022"
         },
         {
          "release_year": "2022"
         },
         {
          "release_year": "2022"
         },
         {
          "release_year": "2021"
         },
         {
          "release_year": "2021"
         },
         {
          "release_year": "2022"
         },
         {
          "release_year": "2021"
         },
         {
          "release_year": "2022"
         },
         {
          "release_year": "2022"
         },
         {
          "release_year": "2022"
         },
         {
          "release_year": "2021"
         },
         {
          "release_year": "2022"
         },
         {
          "release_year": "2022"
         },
         {
          "release_year": "2021"
         },
         {
          "release_year": "2022"
         },
         {
          "release_year": "2022"
         },
         {
          "release_year": "2022"
         },
         {
          "release_year": "2022"
         },
         {
          "release_year": "2021"
         },
         {
          "release_year": "2021"
         },
         {
          "release_year": "2021"
         },
         {
          "release_year": "2022"
         },
         {
          "release_year": "2021"
         },
         {
          "release_year": "2022"
         },
         {
          "release_year": "2022"
         },
         {
          "release_year": "2022"
         },
         {
          "release_year": "2022"
         },
         {
          "release_year": "2021"
         },
         {
          "release_year": "2021"
         },
         {
          "release_year": "2022"
         },
         {
          "release_year": "2022"
         },
         {
          "release_year": "2022"
         },
         {
          "release_year": "2021"
         },
         {
          "release_year": "2022"
         },
         {
          "release_year": "2021"
         },
         {
          "release_year": "2022"
         },
         {
          "release_year": "2021"
         },
         {
          "release_year": "2022"
         },
         {
          "release_year": "2022"
         },
         {
          "release_year": "2022"
         },
         {
          "release_year": "2021"
         },
         {
          "release_year": "2022"
         },
         {
          "release_year": "2022"
         },
         {
          "release_year": "2022"
         },
         {
          "release_year": "2021"
         },
         {
          "release_year": "2022"
         },
         {
          "release_year": "2022"
         },
         {
          "release_year": "2022"
         },
         {
          "release_year": "2022"
         },
         {
          "release_year": "2021"
         },
         {
          "release_year": "2021"
         },
         {
          "release_year": "2022"
         },
         {
          "release_year": "2021"
         },
         {
          "release_year": "2021"
         },
         {
          "release_year": "2021"
         },
         {
          "release_year": "2022"
         },
         {
          "release_year": "2021"
         },
         {
          "release_year": "2022"
         },
         {
          "release_year": "2021"
         },
         {
          "release_year": "2022"
         },
         {
          "release_year": "2021"
         },
         {
          "release_year": "2021"
         },
         {
          "release_year": "2021"
         },
         {
          "release_year": "2021"
         },
         {
          "release_year": "2022"
         },
         {
          "release_year": "2021"
         },
         {
          "release_year": "2021"
         },
         {
          "release_year": "2021"
         },
         {
          "release_year": "2021"
         },
         {
          "release_year": "2022"
         },
         {
          "release_year": "2022"
         },
         {
          "release_year": "2022"
         },
         {
          "release_year": "2022"
         },
         {
          "release_year": "2021"
         },
         {
          "release_year": "2022"
         },
         {
          "release_year": "2022"
         },
         {
          "release_year": "2022"
         },
         {
          "release_year": "2021"
         },
         {
          "release_year": "2022"
         },
         {
          "release_year": "2022"
         },
         {
          "release_year": "2021"
         },
         {
          "release_year": "2022"
         },
         {
          "release_year": "2021"
         },
         {
          "release_year": "2021"
         },
         {
          "release_year": "2021"
         },
         {
          "release_year": "2021"
         },
         {
          "release_year": "2022"
         },
         {
          "release_year": "2022"
         },
         {
          "release_year": "2021"
         },
         {
          "release_year": "2021"
         },
         {
          "release_year": "2021"
         },
         {
          "release_year": "2021"
         },
         {
          "release_year": "2022"
         },
         {
          "release_year": "2022"
         },
         {
          "release_year": "2021"
         },
         {
          "release_year": "2022"
         },
         {
          "release_year": "2021"
         },
         {
          "release_year": "2022"
         },
         {
          "release_year": "2022"
         },
         {
          "release_year": "2021"
         },
         {
          "release_year": "2021"
         },
         {
          "release_year": "2021"
         },
         {
          "release_year": "2021"
         },
         {
          "release_year": "2021"
         },
         {
          "release_year": "2021"
         },
         {
          "release_year": "2022"
         },
         {
          "release_year": "2021"
         },
         {
          "release_year": "2021"
         },
         {
          "release_year": "2022"
         },
         {
          "release_year": "2022"
         },
         {
          "release_year": "2022"
         },
         {
          "release_year": "2021"
         },
         {
          "release_year": "2022"
         },
         {
          "release_year": "2021"
         },
         {
          "release_year": "2021"
         },
         {
          "release_year": "2021"
         },
         {
          "release_year": "2021"
         },
         {
          "release_year": "2021"
         },
         {
          "release_year": "2021"
         },
         {
          "release_year": "2021"
         },
         {
          "release_year": "2021"
         },
         {
          "release_year": "2022"
         },
         {
          "release_year": "2022"
         },
         {
          "release_year": "2021"
         },
         {
          "release_year": "2022"
         },
         {
          "release_year": "2021"
         },
         {
          "release_year": "2022"
         },
         {
          "release_year": "2022"
         },
         {
          "release_year": "2022"
         },
         {
          "release_year": "2021"
         },
         {
          "release_year": "2022"
         },
         {
          "release_year": "2021"
         },
         {
          "release_year": "2022"
         },
         {
          "release_year": "2022"
         },
         {
          "release_year": "2021"
         },
         {
          "release_year": "2021"
         },
         {
          "release_year": "2021"
         },
         {
          "release_year": "2021"
         },
         {
          "release_year": "2022"
         },
         {
          "release_year": "2022"
         },
         {
          "release_year": "2022"
         },
         {
          "release_year": "2021"
         },
         {
          "release_year": "2021"
         },
         {
          "release_year": "2021"
         },
         {
          "release_year": "2022"
         },
         {
          "release_year": "2021"
         },
         {
          "release_year": "2021"
         },
         {
          "release_year": "2021"
         },
         {
          "release_year": "2021"
         },
         {
          "release_year": "2021"
         },
         {
          "release_year": "2022"
         },
         {
          "release_year": "2022"
         },
         {
          "release_year": "2021"
         },
         {
          "release_year": "2022"
         },
         {
          "release_year": "2021"
         },
         {
          "release_year": "2022"
         },
         {
          "release_year": "2022"
         },
         {
          "release_year": "2022"
         },
         {
          "release_year": "2022"
         },
         {
          "release_year": "2022"
         },
         {
          "release_year": "2022"
         },
         {
          "release_year": "2021"
         },
         {
          "release_year": "2022"
         },
         {
          "release_year": "2021"
         },
         {
          "release_year": "2021"
         },
         {
          "release_year": "2021"
         },
         {
          "release_year": "2022"
         },
         {
          "release_year": "2022"
         },
         {
          "release_year": "2022"
         },
         {
          "release_year": "2022"
         },
         {
          "release_year": "2022"
         },
         {
          "release_year": "2021"
         },
         {
          "release_year": "2021"
         },
         {
          "release_year": "2022"
         },
         {
          "release_year": "2022"
         },
         {
          "release_year": "2021"
         },
         {
          "release_year": "2022"
         },
         {
          "release_year": "2021"
         },
         {
          "release_year": "2022"
         },
         {
          "release_year": "2021"
         },
         {
          "release_year": "2022"
         },
         {
          "release_year": "2021"
         },
         {
          "release_year": "2022"
         },
         {
          "release_year": "2021"
         },
         {
          "release_year": "2021"
         },
         {
          "release_year": "2022"
         },
         {
          "release_year": "2021"
         },
         {
          "release_year": "2021"
         },
         {
          "release_year": "2022"
         },
         {
          "release_year": "2021"
         },
         {
          "release_year": "2021"
         },
         {
          "release_year": "2022"
         },
         {
          "release_year": "2022"
         },
         {
          "release_year": "2022"
         },
         {
          "release_year": "2021"
         },
         {
          "release_year": "2021"
         },
         {
          "release_year": "2021"
         },
         {
          "release_year": "2021"
         },
         {
          "release_year": "2021"
         },
         {
          "release_year": "2022"
         },
         {
          "release_year": "2022"
         },
         {
          "release_year": "2022"
         },
         {
          "release_year": "2021"
         },
         {
          "release_year": "2022"
         },
         {
          "release_year": "2021"
         },
         {
          "release_year": "2021"
         },
         {
          "release_year": "2021"
         },
         {
          "release_year": "2021"
         },
         {
          "release_year": "2021"
         },
         {
          "release_year": "2022"
         },
         {
          "release_year": "2021"
         },
         {
          "release_year": "2022"
         },
         {
          "release_year": "2022"
         },
         {
          "release_year": "2021"
         },
         {
          "release_year": "2021"
         },
         {
          "release_year": "2021"
         },
         {
          "release_year": "2022"
         },
         {
          "release_year": "2021"
         },
         {
          "release_year": "2021"
         },
         {
          "release_year": "2022"
         },
         {
          "release_year": "2022"
         },
         {
          "release_year": "2021"
         },
         {
          "release_year": "2022"
         },
         {
          "release_year": "2022"
         },
         {
          "release_year": "2021"
         },
         {
          "release_year": "2022"
         },
         {
          "release_year": "2021"
         },
         {
          "release_year": "2021"
         },
         {
          "release_year": "2021"
         },
         {
          "release_year": "2022"
         },
         {
          "release_year": "2021"
         },
         {
          "release_year": "2022"
         },
         {
          "release_year": "2021"
         },
         {
          "release_year": "2022"
         },
         {
          "release_year": "2022"
         },
         {
          "release_year": "2021"
         },
         {
          "release_year": "2021"
         },
         {
          "release_year": "2021"
         },
         {
          "release_year": "2021"
         },
         {
          "release_year": "2021"
         },
         {
          "release_year": "2021"
         },
         {
          "release_year": "2022"
         },
         {
          "release_year": "2021"
         },
         {
          "release_year": "2021"
         },
         {
          "release_year": "2022"
         },
         {
          "release_year": "2022"
         },
         {
          "release_year": "2021"
         },
         {
          "release_year": "2021"
         },
         {
          "release_year": "2021"
         },
         {
          "release_year": "2021"
         },
         {
          "release_year": "2022"
         },
         {
          "release_year": "2021"
         },
         {
          "release_year": "2021"
         },
         {
          "release_year": "2021"
         },
         {
          "release_year": "2022"
         },
         {
          "release_year": "2021"
         },
         {
          "release_year": "2021"
         },
         {
          "release_year": "2022"
         },
         {
          "release_year": "2022"
         },
         {
          "release_year": "2021"
         },
         {
          "release_year": "2022"
         },
         {
          "release_year": "2021"
         },
         {
          "release_year": "2021"
         },
         {
          "release_year": "2021"
         },
         {
          "release_year": "2021"
         },
         {
          "release_year": "2021"
         },
         {
          "release_year": "2021"
         },
         {
          "release_year": "2022"
         },
         {
          "release_year": "2022"
         },
         {
          "release_year": "2022"
         },
         {
          "release_year": "2021"
         },
         {
          "release_year": "2021"
         },
         {
          "release_year": "2022"
         },
         {
          "release_year": "2022"
         },
         {
          "release_year": "2021"
         },
         {
          "release_year": "2021"
         },
         {
          "release_year": "2021"
         },
         {
          "release_year": "2021"
         },
         {
          "release_year": "2021"
         },
         {
          "release_year": "2022"
         },
         {
          "release_year": "2021"
         },
         {
          "release_year": "2021"
         },
         {
          "release_year": "2021"
         },
         {
          "release_year": "2022"
         },
         {
          "release_year": "2021"
         },
         {
          "release_year": "2021"
         },
         {
          "release_year": "2021"
         },
         {
          "release_year": "2021"
         },
         {
          "release_year": "2021"
         },
         {
          "release_year": "2021"
         },
         {
          "release_year": "2021"
         },
         {
          "release_year": "2022"
         },
         {
          "release_year": "2022"
         },
         {
          "release_year": "2022"
         },
         {
          "release_year": "2022"
         },
         {
          "release_year": "2022"
         },
         {
          "release_year": "2021"
         },
         {
          "release_year": "2021"
         },
         {
          "release_year": "2021"
         },
         {
          "release_year": "2021"
         },
         {
          "release_year": "2022"
         },
         {
          "release_year": "2022"
         },
         {
          "release_year": "2021"
         },
         {
          "release_year": "2021"
         },
         {
          "release_year": "2021"
         },
         {
          "release_year": "2021"
         },
         {
          "release_year": "2021"
         },
         {
          "release_year": "2022"
         },
         {
          "release_year": "2022"
         },
         {
          "release_year": "2021"
         },
         {
          "release_year": "2021"
         },
         {
          "release_year": "2021"
         },
         {
          "release_year": "2021"
         },
         {
          "release_year": "2022"
         },
         {
          "release_year": "2021"
         },
         {
          "release_year": "2022"
         },
         {
          "release_year": "2022"
         },
         {
          "release_year": "2021"
         },
         {
          "release_year": "2022"
         },
         {
          "release_year": "2021"
         },
         {
          "release_year": "2021"
         },
         {
          "release_year": "2021"
         },
         {
          "release_year": "2021"
         },
         {
          "release_year": "2021"
         },
         {
          "release_year": "2022"
         },
         {
          "release_year": "2021"
         },
         {
          "release_year": "2021"
         },
         {
          "release_year": "2022"
         },
         {
          "release_year": "2021"
         },
         {
          "release_year": "2021"
         },
         {
          "release_year": "2021"
         },
         {
          "release_year": "2021"
         },
         {
          "release_year": "2021"
         },
         {
          "release_year": "2021"
         },
         {
          "release_year": "2021"
         },
         {
          "release_year": "2021"
         },
         {
          "release_year": "2021"
         },
         {
          "release_year": "2022"
         },
         {
          "release_year": "2021"
         },
         {
          "release_year": "2021"
         },
         {
          "release_year": "2022"
         },
         {
          "release_year": "2022"
         },
         {
          "release_year": "2022"
         },
         {
          "release_year": "2022"
         },
         {
          "release_year": "2022"
         },
         {
          "release_year": "2022"
         },
         {
          "release_year": "2021"
         },
         {
          "release_year": "2021"
         },
         {
          "release_year": "2021"
         },
         {
          "release_year": "2022"
         },
         {
          "release_year": "2021"
         },
         {
          "release_year": "2021"
         },
         {
          "release_year": "2022"
         },
         {
          "release_year": "2021"
         },
         {
          "release_year": "2021"
         },
         {
          "release_year": "2022"
         },
         {
          "release_year": "2021"
         },
         {
          "release_year": "2022"
         },
         {
          "release_year": "2021"
         },
         {
          "release_year": "2022"
         },
         {
          "release_year": "2021"
         },
         {
          "release_year": "2022"
         },
         {
          "release_year": "2021"
         },
         {
          "release_year": "2021"
         },
         {
          "release_year": "2021"
         },
         {
          "release_year": "2022"
         },
         {
          "release_year": "2021"
         },
         {
          "release_year": "2022"
         },
         {
          "release_year": "2022"
         },
         {
          "release_year": "2021"
         },
         {
          "release_year": "2022"
         },
         {
          "release_year": "2021"
         },
         {
          "release_year": "2021"
         },
         {
          "release_year": "2021"
         },
         {
          "release_year": "2021"
         },
         {
          "release_year": "2022"
         },
         {
          "release_year": "2022"
         },
         {
          "release_year": "2022"
         },
         {
          "release_year": "2022"
         },
         {
          "release_year": "2021"
         },
         {
          "release_year": "2022"
         },
         {
          "release_year": "2021"
         },
         {
          "release_year": "2021"
         },
         {
          "release_year": "2021"
         },
         {
          "release_year": "2021"
         },
         {
          "release_year": "2021"
         },
         {
          "release_year": "2022"
         },
         {
          "release_year": "2022"
         },
         {
          "release_year": "2022"
         },
         {
          "release_year": "2021"
         },
         {
          "release_year": "2021"
         },
         {
          "release_year": "2021"
         },
         {
          "release_year": "2021"
         },
         {
          "release_year": "2021"
         },
         {
          "release_year": "2021"
         },
         {
          "release_year": "2021"
         },
         {
          "release_year": "2021"
         },
         {
          "release_year": "2021"
         },
         {
          "release_year": "2021"
         },
         {
          "release_year": "2021"
         },
         {
          "release_year": "2022"
         },
         {
          "release_year": "2021"
         },
         {
          "release_year": "2021"
         },
         {
          "release_year": "2022"
         },
         {
          "release_year": "2021"
         },
         {
          "release_year": "2021"
         },
         {
          "release_year": "2021"
         },
         {
          "release_year": "2022"
         },
         {
          "release_year": "2022"
         },
         {
          "release_year": "2021"
         },
         {
          "release_year": "2021"
         },
         {
          "release_year": "2022"
         },
         {
          "release_year": "2021"
         },
         {
          "release_year": "2022"
         },
         {
          "release_year": "2021"
         },
         {
          "release_year": "2022"
         },
         {
          "release_year": "2021"
         },
         {
          "release_year": "2021"
         },
         {
          "release_year": "2021"
         },
         {
          "release_year": "2021"
         },
         {
          "release_year": "2021"
         },
         {
          "release_year": "2021"
         },
         {
          "release_year": "2022"
         },
         {
          "release_year": "2021"
         },
         {
          "release_year": "2021"
         },
         {
          "release_year": "2021"
         },
         {
          "release_year": "2021"
         },
         {
          "release_year": "2021"
         },
         {
          "release_year": "2021"
         },
         {
          "release_year": "2022"
         },
         {
          "release_year": "2021"
         },
         {
          "release_year": "2021"
         },
         {
          "release_year": "2022"
         },
         {
          "release_year": "2021"
         },
         {
          "release_year": "2021"
         },
         {
          "release_year": "2021"
         },
         {
          "release_year": "2021"
         },
         {
          "release_year": "2021"
         },
         {
          "release_year": "2021"
         },
         {
          "release_year": "2021"
         },
         {
          "release_year": "2022"
         },
         {
          "release_year": "2021"
         },
         {
          "release_year": "2021"
         },
         {
          "release_year": "2022"
         },
         {
          "release_year": "2021"
         },
         {
          "release_year": "2021"
         },
         {
          "release_year": "2022"
         },
         {
          "release_year": "2022"
         },
         {
          "release_year": "2021"
         },
         {
          "release_year": "2021"
         },
         {
          "release_year": "2021"
         },
         {
          "release_year": "2021"
         },
         {
          "release_year": "2021"
         },
         {
          "release_year": "2022"
         },
         {
          "release_year": "2021"
         },
         {
          "release_year": "2021"
         },
         {
          "release_year": "2021"
         },
         {
          "release_year": "2022"
         },
         {
          "release_year": "2021"
         },
         {
          "release_year": "2021"
         },
         {
          "release_year": "2021"
         },
         {
          "release_year": "2021"
         },
         {
          "release_year": "2022"
         },
         {
          "release_year": "2021"
         },
         {
          "release_year": "2021"
         },
         {
          "release_year": "2021"
         },
         {
          "release_year": "2022"
         },
         {
          "release_year": "2021"
         },
         {
          "release_year": "2021"
         },
         {
          "release_year": "2022"
         },
         {
          "release_year": "2021"
         },
         {
          "release_year": "2021"
         },
         {
          "release_year": "2021"
         },
         {
          "release_year": "2021"
         },
         {
          "release_year": "2021"
         },
         {
          "release_year": "2022"
         },
         {
          "release_year": "2022"
         },
         {
          "release_year": "2021"
         },
         {
          "release_year": "2021"
         },
         {
          "release_year": "2021"
         },
         {
          "release_year": "2021"
         },
         {
          "release_year": "2021"
         },
         {
          "release_year": "2021"
         },
         {
          "release_year": "2022"
         },
         {
          "release_year": "2021"
         },
         {
          "release_year": "2021"
         },
         {
          "release_year": "2022"
         },
         {
          "release_year": "2021"
         },
         {
          "release_year": "2021"
         },
         {
          "release_year": "2022"
         },
         {
          "release_year": "2021"
         },
         {
          "release_year": "2021"
         },
         {
          "release_year": "2022"
         },
         {
          "release_year": "2021"
         },
         {
          "release_year": "2022"
         },
         {
          "release_year": "2022"
         },
         {
          "release_year": "2021"
         },
         {
          "release_year": "2021"
         },
         {
          "release_year": "2022"
         },
         {
          "release_year": "2022"
         },
         {
          "release_year": "2022"
         },
         {
          "release_year": "2021"
         },
         {
          "release_year": "2022"
         },
         {
          "release_year": "2022"
         },
         {
          "release_year": "2021"
         },
         {
          "release_year": "2021"
         },
         {
          "release_year": "2021"
         },
         {
          "release_year": "2021"
         },
         {
          "release_year": "2022"
         },
         {
          "release_year": "2021"
         },
         {
          "release_year": "2021"
         },
         {
          "release_year": "2022"
         },
         {
          "release_year": "2021"
         },
         {
          "release_year": "2022"
         },
         {
          "release_year": "2021"
         },
         {
          "release_year": "2022"
         },
         {
          "release_year": "2021"
         },
         {
          "release_year": "2021"
         },
         {
          "release_year": "2022"
         },
         {
          "release_year": "2021"
         },
         {
          "release_year": "2021"
         },
         {
          "release_year": "2021"
         },
         {
          "release_year": "2021"
         },
         {
          "release_year": "2022"
         },
         {
          "release_year": "2022"
         },
         {
          "release_year": "2021"
         },
         {
          "release_year": "2021"
         },
         {
          "release_year": "2021"
         },
         {
          "release_year": "2021"
         },
         {
          "release_year": "2021"
         },
         {
          "release_year": "2022"
         },
         {
          "release_year": "2021"
         },
         {
          "release_year": "2021"
         },
         {
          "release_year": "2021"
         },
         {
          "release_year": "2021"
         },
         {
          "release_year": "2022"
         },
         {
          "release_year": "2022"
         },
         {
          "release_year": "2021"
         },
         {
          "release_year": "2021"
         },
         {
          "release_year": "2021"
         },
         {
          "release_year": "2022"
         },
         {
          "release_year": "2021"
         },
         {
          "release_year": "2021"
         },
         {
          "release_year": "2021"
         },
         {
          "release_year": "2021"
         },
         {
          "release_year": "2021"
         },
         {
          "release_year": "2022"
         },
         {
          "release_year": "2021"
         },
         {
          "release_year": "2021"
         },
         {
          "release_year": "2022"
         },
         {
          "release_year": "2021"
         },
         {
          "release_year": "2021"
         },
         {
          "release_year": "2021"
         },
         {
          "release_year": "2022"
         },
         {
          "release_year": "2021"
         },
         {
          "release_year": "2021"
         },
         {
          "release_year": "2021"
         },
         {
          "release_year": "2021"
         },
         {
          "release_year": "2021"
         },
         {
          "release_year": "2021"
         },
         {
          "release_year": "2021"
         },
         {
          "release_year": "2021"
         },
         {
          "release_year": "2021"
         },
         {
          "release_year": "2021"
         },
         {
          "release_year": "2022"
         },
         {
          "release_year": "2021"
         },
         {
          "release_year": "2021"
         },
         {
          "release_year": "2021"
         },
         {
          "release_year": "2021"
         },
         {
          "release_year": "2021"
         },
         {
          "release_year": "2021"
         },
         {
          "release_year": "2022"
         },
         {
          "release_year": "2021"
         },
         {
          "release_year": "2022"
         },
         {
          "release_year": "2021"
         },
         {
          "release_year": "2021"
         },
         {
          "release_year": "2021"
         },
         {
          "release_year": "2021"
         },
         {
          "release_year": "2021"
         },
         {
          "release_year": "2021"
         },
         {
          "release_year": "2021"
         },
         {
          "release_year": "2021"
         },
         {
          "release_year": "2021"
         },
         {
          "release_year": "2021"
         },
         {
          "release_year": "2021"
         },
         {
          "release_year": "2021"
         },
         {
          "release_year": "2022"
         },
         {
          "release_year": "2022"
         },
         {
          "release_year": "2021"
         },
         {
          "release_year": "2021"
         },
         {
          "release_year": "2021"
         },
         {
          "release_year": "2021"
         },
         {
          "release_year": "2021"
         },
         {
          "release_year": "2021"
         },
         {
          "release_year": "2021"
         },
         {
          "release_year": "2022"
         },
         {
          "release_year": "2021"
         },
         {
          "release_year": "2021"
         },
         {
          "release_year": "2021"
         },
         {
          "release_year": "2021"
         },
         {
          "release_year": "2021"
         },
         {
          "release_year": "2021"
         },
         {
          "release_year": "2021"
         },
         {
          "release_year": "2022"
         },
         {
          "release_year": "2022"
         },
         {
          "release_year": "2021"
         },
         {
          "release_year": "2021"
         },
         {
          "release_year": "2021"
         },
         {
          "release_year": "2021"
         },
         {
          "release_year": "2022"
         },
         {
          "release_year": "2021"
         },
         {
          "release_year": "2021"
         },
         {
          "release_year": "2022"
         },
         {
          "release_year": "2021"
         },
         {
          "release_year": "2021"
         },
         {
          "release_year": "2022"
         },
         {
          "release_year": "2021"
         },
         {
          "release_year": "2021"
         },
         {
          "release_year": "2022"
         },
         {
          "release_year": "2021"
         },
         {
          "release_year": "2021"
         },
         {
          "release_year": "2021"
         },
         {
          "release_year": "2021"
         },
         {
          "release_year": "2021"
         },
         {
          "release_year": "2022"
         },
         {
          "release_year": "2021"
         },
         {
          "release_year": "2021"
         },
         {
          "release_year": "2021"
         },
         {
          "release_year": "2022"
         },
         {
          "release_year": "2021"
         },
         {
          "release_year": "2021"
         },
         {
          "release_year": "2021"
         },
         {
          "release_year": "2021"
         },
         {
          "release_year": "2021"
         },
         {
          "release_year": "2021"
         },
         {
          "release_year": "2021"
         },
         {
          "release_year": "2021"
         },
         {
          "release_year": "2021"
         },
         {
          "release_year": "2022"
         },
         {
          "release_year": "2021"
         },
         {
          "release_year": "2021"
         },
         {
          "release_year": "2022"
         },
         {
          "release_year": "2021"
         },
         {
          "release_year": "2021"
         },
         {
          "release_year": "2022"
         },
         {
          "release_year": "2022"
         },
         {
          "release_year": "2021"
         },
         {
          "release_year": "2021"
         },
         {
          "release_year": "2021"
         },
         {
          "release_year": "2022"
         },
         {
          "release_year": "2021"
         },
         {
          "release_year": "2021"
         },
         {
          "release_year": "2022"
         },
         {
          "release_year": "2021"
         },
         {
          "release_year": "2021"
         },
         {
          "release_year": "2022"
         },
         {
          "release_year": "2021"
         },
         {
          "release_year": "2021"
         },
         {
          "release_year": "2021"
         },
         {
          "release_year": "2021"
         },
         {
          "release_year": "2021"
         },
         {
          "release_year": "2021"
         },
         {
          "release_year": "2021"
         },
         {
          "release_year": "2021"
         },
         {
          "release_year": "2021"
         },
         {
          "release_year": "2021"
         },
         {
          "release_year": "2021"
         },
         {
          "release_year": "2021"
         },
         {
          "release_year": "2022"
         },
         {
          "release_year": "2021"
         },
         {
          "release_year": "2021"
         },
         {
          "release_year": "2021"
         },
         {
          "release_year": "2021"
         },
         {
          "release_year": "2022"
         },
         {
          "release_year": "2022"
         },
         {
          "release_year": "2021"
         },
         {
          "release_year": "2022"
         },
         {
          "release_year": "2021"
         },
         {
          "release_year": "2021"
         },
         {
          "release_year": "2021"
         },
         {
          "release_year": "2021"
         },
         {
          "release_year": "2021"
         },
         {
          "release_year": "2021"
         },
         {
          "release_year": "2021"
         },
         {
          "release_year": "2021"
         },
         {
          "release_year": "2022"
         },
         {
          "release_year": "2021"
         },
         {
          "release_year": "2021"
         },
         {
          "release_year": "2022"
         },
         {
          "release_year": "2021"
         },
         {
          "release_year": "2022"
         },
         {
          "release_year": "2022"
         },
         {
          "release_year": "2021"
         },
         {
          "release_year": "2021"
         },
         {
          "release_year": "2022"
         },
         {
          "release_year": "2021"
         },
         {
          "release_year": "2022"
         },
         {
          "release_year": "2021"
         },
         {
          "release_year": "2022"
         },
         {
          "release_year": "2021"
         },
         {
          "release_year": "2021"
         },
         {
          "release_year": "2021"
         },
         {
          "release_year": "2021"
         },
         {
          "release_year": "2021"
         },
         {
          "release_year": "2021"
         },
         {
          "release_year": "2022"
         },
         {
          "release_year": "2021"
         },
         {
          "release_year": "2021"
         },
         {
          "release_year": "2021"
         },
         {
          "release_year": "2021"
         },
         {
          "release_year": "2022"
         },
         {
          "release_year": "2021"
         },
         {
          "release_year": "2022"
         },
         {
          "release_year": "2021"
         },
         {
          "release_year": "2021"
         },
         {
          "release_year": "2021"
         },
         {
          "release_year": "2021"
         },
         {
          "release_year": "2021"
         },
         {
          "release_year": "2021"
         },
         {
          "release_year": "2021"
         },
         {
          "release_year": "2021"
         },
         {
          "release_year": "2021"
         },
         {
          "release_year": "2021"
         },
         {
          "release_year": "2021"
         },
         {
          "release_year": "2021"
         },
         {
          "release_year": "2021"
         },
         {
          "release_year": "2022"
         },
         {
          "release_year": "2021"
         },
         {
          "release_year": "2021"
         },
         {
          "release_year": "2021"
         },
         {
          "release_year": "2021"
         },
         {
          "release_year": "2021"
         },
         {
          "release_year": "2022"
         },
         {
          "release_year": "2021"
         },
         {
          "release_year": "2021"
         },
         {
          "release_year": "2022"
         },
         {
          "release_year": "2022"
         },
         {
          "release_year": "2021"
         },
         {
          "release_year": "2021"
         },
         {
          "release_year": "2021"
         },
         {
          "release_year": "2021"
         },
         {
          "release_year": "2021"
         },
         {
          "release_year": "2021"
         },
         {
          "release_year": "2021"
         },
         {
          "release_year": "2021"
         },
         {
          "release_year": "2022"
         },
         {
          "release_year": "2021"
         },
         {
          "release_year": "2022"
         },
         {
          "release_year": "2021"
         },
         {
          "release_year": "2021"
         },
         {
          "release_year": "2021"
         },
         {
          "release_year": "2021"
         },
         {
          "release_year": "2021"
         },
         {
          "release_year": "2021"
         },
         {
          "release_year": "2021"
         },
         {
          "release_year": "2021"
         },
         {
          "release_year": "2021"
         },
         {
          "release_year": "2021"
         },
         {
          "release_year": "2021"
         },
         {
          "release_year": "2021"
         },
         {
          "release_year": "2022"
         },
         {
          "release_year": "2021"
         },
         {
          "release_year": "2022"
         },
         {
          "release_year": "2021"
         },
         {
          "release_year": "2021"
         },
         {
          "release_year": "2021"
         },
         {
          "release_year": "2021"
         },
         {
          "release_year": "2021"
         },
         {
          "release_year": "2022"
         },
         {
          "release_year": "2021"
         },
         {
          "release_year": "2021"
         },
         {
          "release_year": "2021"
         },
         {
          "release_year": "2021"
         },
         {
          "release_year": "2021"
         },
         {
          "release_year": "2021"
         },
         {
          "release_year": "2021"
         },
         {
          "release_year": "2021"
         },
         {
          "release_year": "2021"
         },
         {
          "release_year": "2021"
         },
         {
          "release_year": "2022"
         },
         {
          "release_year": "2021"
         },
         {
          "release_year": "2022"
         },
         {
          "release_year": "2021"
         },
         {
          "release_year": "2021"
         },
         {
          "release_year": "2021"
         },
         {
          "release_year": "2021"
         },
         {
          "release_year": "2021"
         },
         {
          "release_year": "2022"
         },
         {
          "release_year": "2022"
         },
         {
          "release_year": "2021"
         },
         {
          "release_year": "2021"
         },
         {
          "release_year": "2022"
         },
         {
          "release_year": "2021"
         },
         {
          "release_year": "2021"
         },
         {
          "release_year": "2021"
         },
         {
          "release_year": "2022"
         },
         {
          "release_year": "2021"
         },
         {
          "release_year": "2021"
         },
         {
          "release_year": "2021"
         },
         {
          "release_year": "2021"
         },
         {
          "release_year": "2021"
         },
         {
          "release_year": "2021"
         },
         {
          "release_year": "2021"
         },
         {
          "release_year": "2021"
         },
         {
          "release_year": "2021"
         },
         {
          "release_year": "2022"
         },
         {
          "release_year": "2021"
         },
         {
          "release_year": "2022"
         },
         {
          "release_year": "2021"
         },
         {
          "release_year": "2022"
         },
         {
          "release_year": "2021"
         },
         {
          "release_year": "2021"
         },
         {
          "release_year": "2021"
         },
         {
          "release_year": "2021"
         },
         {
          "release_year": "2021"
         },
         {
          "release_year": "2022"
         },
         {
          "release_year": "2021"
         },
         {
          "release_year": "2021"
         },
         {
          "release_year": "2021"
         },
         {
          "release_year": "2022"
         },
         {
          "release_year": "2021"
         },
         {
          "release_year": "2022"
         },
         {
          "release_year": "2021"
         },
         {
          "release_year": "2021"
         },
         {
          "release_year": "2021"
         },
         {
          "release_year": "2021"
         },
         {
          "release_year": "2022"
         },
         {
          "release_year": "2021"
         },
         {
          "release_year": "2021"
         },
         {
          "release_year": "2022"
         },
         {
          "release_year": "2022"
         },
         {
          "release_year": "2021"
         },
         {
          "release_year": "2022"
         },
         {
          "release_year": "2021"
         },
         {
          "release_year": "2021"
         },
         {
          "release_year": "2021"
         },
         {
          "release_year": "2021"
         },
         {
          "release_year": "2022"
         },
         {
          "release_year": "2022"
         },
         {
          "release_year": "2021"
         },
         {
          "release_year": "2021"
         },
         {
          "release_year": "2021"
         },
         {
          "release_year": "2022"
         },
         {
          "release_year": "2021"
         },
         {
          "release_year": "2021"
         },
         {
          "release_year": "2021"
         },
         {
          "release_year": "2022"
         },
         {
          "release_year": "2021"
         },
         {
          "release_year": "2021"
         },
         {
          "release_year": "2021"
         },
         {
          "release_year": "2021"
         },
         {
          "release_year": "2021"
         },
         {
          "release_year": "2022"
         },
         {
          "release_year": "2021"
         },
         {
          "release_year": "2022"
         },
         {
          "release_year": "2021"
         },
         {
          "release_year": "2021"
         },
         {
          "release_year": "2021"
         },
         {
          "release_year": "2021"
         },
         {
          "release_year": "2022"
         },
         {
          "release_year": "2021"
         },
         {
          "release_year": "2021"
         },
         {
          "release_year": "2021"
         },
         {
          "release_year": "2022"
         },
         {
          "release_year": "2021"
         },
         {
          "release_year": "2021"
         },
         {
          "release_year": "2021"
         },
         {
          "release_year": "2022"
         },
         {
          "release_year": "2021"
         },
         {
          "release_year": "2021"
         },
         {
          "release_year": "2021"
         },
         {
          "release_year": "2021"
         },
         {
          "release_year": "2021"
         },
         {
          "release_year": "2021"
         },
         {
          "release_year": "2022"
         },
         {
          "release_year": "2022"
         },
         {
          "release_year": "2021"
         },
         {
          "release_year": "2021"
         },
         {
          "release_year": "2021"
         },
         {
          "release_year": "2021"
         },
         {
          "release_year": "2021"
         },
         {
          "release_year": "2021"
         },
         {
          "release_year": "2021"
         },
         {
          "release_year": "2021"
         },
         {
          "release_year": "2021"
         },
         {
          "release_year": "2021"
         },
         {
          "release_year": "2021"
         },
         {
          "release_year": "2021"
         },
         {
          "release_year": "2022"
         },
         {
          "release_year": "2021"
         },
         {
          "release_year": "2021"
         },
         {
          "release_year": "2022"
         },
         {
          "release_year": "2021"
         },
         {
          "release_year": "2021"
         },
         {
          "release_year": "2021"
         },
         {
          "release_year": "2021"
         },
         {
          "release_year": "2021"
         },
         {
          "release_year": "2021"
         },
         {
          "release_year": "2022"
         },
         {
          "release_year": "2021"
         },
         {
          "release_year": "2021"
         },
         {
          "release_year": "2021"
         },
         {
          "release_year": "2022"
         },
         {
          "release_year": "2021"
         },
         {
          "release_year": "2021"
         },
         {
          "release_year": "2021"
         },
         {
          "release_year": "2021"
         },
         {
          "release_year": "2021"
         },
         {
          "release_year": "2022"
         },
         {
          "release_year": "2021"
         },
         {
          "release_year": "2021"
         },
         {
          "release_year": "2021"
         },
         {
          "release_year": "2021"
         },
         {
          "release_year": "2022"
         },
         {
          "release_year": "2021"
         },
         {
          "release_year": "2021"
         },
         {
          "release_year": "2021"
         },
         {
          "release_year": "2021"
         },
         {
          "release_year": "2021"
         },
         {
          "release_year": "2021"
         },
         {
          "release_year": "2022"
         },
         {
          "release_year": "2021"
         },
         {
          "release_year": "2021"
         },
         {
          "release_year": "2021"
         },
         {
          "release_year": "2021"
         },
         {
          "release_year": "2021"
         },
         {
          "release_year": "2022"
         },
         {
          "release_year": "2022"
         },
         {
          "release_year": "2021"
         },
         {
          "release_year": "2021"
         },
         {
          "release_year": "2021"
         },
         {
          "release_year": "2021"
         },
         {
          "release_year": "2021"
         },
         {
          "release_year": "2021"
         },
         {
          "release_year": "2021"
         },
         {
          "release_year": "2021"
         },
         {
          "release_year": "2021"
         },
         {
          "release_year": "2022"
         },
         {
          "release_year": "2021"
         },
         {
          "release_year": "2021"
         },
         {
          "release_year": "2021"
         },
         {
          "release_year": "2021"
         },
         {
          "release_year": "2021"
         },
         {
          "release_year": "2021"
         },
         {
          "release_year": "2022"
         },
         {
          "release_year": "2021"
         },
         {
          "release_year": "2021"
         },
         {
          "release_year": "2021"
         },
         {
          "release_year": "2021"
         },
         {
          "release_year": "2022"
         },
         {
          "release_year": "2021"
         },
         {
          "release_year": "2021"
         },
         {
          "release_year": "2021"
         },
         {
          "release_year": "2021"
         },
         {
          "release_year": "2021"
         },
         {
          "release_year": "2021"
         },
         {
          "release_year": "2021"
         },
         {
          "release_year": "2021"
         },
         {
          "release_year": "2021"
         },
         {
          "release_year": "2022"
         },
         {
          "release_year": "2021"
         },
         {
          "release_year": "2021"
         },
         {
          "release_year": "2021"
         },
         {
          "release_year": "2021"
         },
         {
          "release_year": "2021"
         },
         {
          "release_year": "2021"
         },
         {
          "release_year": "2021"
         },
         {
          "release_year": "2021"
         },
         {
          "release_year": "2021"
         },
         {
          "release_year": "2021"
         },
         {
          "release_year": "2021"
         },
         {
          "release_year": "2021"
         },
         {
          "release_year": "2021"
         },
         {
          "release_year": "2022"
         },
         {
          "release_year": "2021"
         },
         {
          "release_year": "2021"
         },
         {
          "release_year": "2021"
         },
         {
          "release_year": "2021"
         },
         {
          "release_year": "2022"
         },
         {
          "release_year": "2021"
         },
         {
          "release_year": "2021"
         },
         {
          "release_year": "2021"
         },
         {
          "release_year": "2021"
         },
         {
          "release_year": "2021"
         },
         {
          "release_year": "2021"
         },
         {
          "release_year": "2021"
         },
         {
          "release_year": "2021"
         },
         {
          "release_year": "2021"
         },
         {
          "release_year": "2021"
         },
         {
          "release_year": "2021"
         },
         {
          "release_year": "2021"
         },
         {
          "release_year": "2022"
         },
         {
          "release_year": "2021"
         },
         {
          "release_year": "2021"
         },
         {
          "release_year": "2022"
         },
         {
          "release_year": "2021"
         },
         {
          "release_year": "2021"
         },
         {
          "release_year": "2021"
         },
         {
          "release_year": "2022"
         },
         {
          "release_year": "2021"
         },
         {
          "release_year": "2021"
         },
         {
          "release_year": "2021"
         },
         {
          "release_year": "2021"
         },
         {
          "release_year": "2021"
         },
         {
          "release_year": "2021"
         },
         {
          "release_year": "2021"
         },
         {
          "release_year": "2021"
         },
         {
          "release_year": "2022"
         },
         {
          "release_year": "2021"
         },
         {
          "release_year": "2021"
         },
         {
          "release_year": "2021"
         },
         {
          "release_year": "2021"
         },
         {
          "release_year": "2021"
         },
         {
          "release_year": "2021"
         },
         {
          "release_year": "2021"
         },
         {
          "release_year": "2021"
         },
         {
          "release_year": "2022"
         },
         {
          "release_year": "2021"
         },
         {
          "release_year": "2021"
         },
         {
          "release_year": "2021"
         },
         {
          "release_year": "2021"
         },
         {
          "release_year": "2021"
         },
         {
          "release_year": "2021"
         },
         {
          "release_year": "2021"
         },
         {
          "release_year": "2021"
         },
         {
          "release_year": "2021"
         },
         {
          "release_year": "2021"
         },
         {
          "release_year": "2021"
         },
         {
          "release_year": "2021"
         },
         {
          "release_year": "2021"
         },
         {
          "release_year": "2021"
         },
         {
          "release_year": "2021"
         },
         {
          "release_year": "2021"
         },
         {
          "release_year": "2021"
         },
         {
          "release_year": "2022"
         },
         {
          "release_year": "2021"
         },
         {
          "release_year": "2022"
         },
         {
          "release_year": "2021"
         },
         {
          "release_year": "2021"
         },
         {
          "release_year": "2021"
         },
         {
          "release_year": "2021"
         },
         {
          "release_year": "2021"
         },
         {
          "release_year": "2022"
         },
         {
          "release_year": "2021"
         },
         {
          "release_year": "2021"
         },
         {
          "release_year": "2021"
         },
         {
          "release_year": "2021"
         },
         {
          "release_year": "2021"
         },
         {
          "release_year": "2021"
         },
         {
          "release_year": "2021"
         },
         {
          "release_year": "2021"
         },
         {
          "release_year": "2021"
         },
         {
          "release_year": "2021"
         },
         {
          "release_year": "2021"
         },
         {
          "release_year": "2021"
         },
         {
          "release_year": "2021"
         },
         {
          "release_year": "2021"
         },
         {
          "release_year": "2021"
         },
         {
          "release_year": "2021"
         },
         {
          "release_year": "2021"
         },
         {
          "release_year": "2021"
         },
         {
          "release_year": "2021"
         },
         {
          "release_year": "2021"
         },
         {
          "release_year": "2021"
         },
         {
          "release_year": "2021"
         },
         {
          "release_year": "2021"
         },
         {
          "release_year": "2021"
         },
         {
          "release_year": "2021"
         },
         {
          "release_year": "2021"
         },
         {
          "release_year": "2021"
         },
         {
          "release_year": "2022"
         },
         {
          "release_year": "2022"
         },
         {
          "release_year": "2021"
         },
         {
          "release_year": "2021"
         },
         {
          "release_year": "2021"
         },
         {
          "release_year": "2021"
         },
         {
          "release_year": "2021"
         },
         {
          "release_year": "2021"
         },
         {
          "release_year": "2021"
         },
         {
          "release_year": "2021"
         },
         {
          "release_year": "2021"
         }
        ]
       },
       "encoding": {
        "x": {
         "field": "release_year",
         "type": "nominal"
        },
        "y": {
         "aggregate": "count",
         "type": "quantitative"
        }
       },
       "mark": {
        "type": "bar"
       }
      },
      "text/plain": [
       "<VegaLite 5 object>\n",
       "\n",
       "If you see this message, it means the renderer has not been properly enabled\n",
       "for the frontend that you are using. For more information, see\n",
       "https://altair-viz.github.io/user_guide/display_frontends.html#troubleshooting\n"
      ]
     },
     "execution_count": 24,
     "metadata": {},
     "output_type": "execute_result"
    }
   ],
   "source": [
    "# let's use 4, 10 and 40 years as our period times so that populous areas get more focus\n",
    "alt.Chart(pd.DataFrame(movie_df[[\"release_year\"]].astype(str))).mark_bar().encode(x=alt.X(\"release_year\"), y=\"count()\")"
   ]
  },
  {
   "cell_type": "markdown",
   "id": "4405f9b4-8109-4cd1-ab80-9df69ee75671",
   "metadata": {},
   "source": [
    "## Set up Superlinked"
   ]
  },
  {
   "cell_type": "code",
   "execution_count": 25,
   "id": "363d1bfb-a842-49b6-a822-99db1f18daa8",
   "metadata": {},
   "outputs": [],
   "source": [
    "# accommodate our inputs in a typed schema\n",
    "class MovieSchema(sl.Schema):\n",
    "    description: sl.String\n",
    "    title: sl.String\n",
    "    release_timestamp: sl.Timestamp\n",
    "    genres: sl.String\n",
    "    id: sl.IdField"
   ]
  },
  {
   "cell_type": "code",
   "execution_count": 26,
   "id": "7b17ee72-539f-459a-ab8e-f1918579987d",
   "metadata": {},
   "outputs": [],
   "source": [
    "movie = MovieSchema()"
   ]
  },
  {
   "cell_type": "code",
   "execution_count": 27,
   "id": "abba40ea-a250-4b12-ad4b-ef90155c3175",
   "metadata": {},
   "outputs": [],
   "source": [
    "# textual fields are embedded using a sentence-transformers model\n",
    "description_space = sl.TextSimilaritySpace(\n",
    "    text=movie.description, model=\"sentence-transformers/paraphrase-MiniLM-L3-v2\"\n",
    ")\n",
    "title_space = sl.TextSimilaritySpace(text=movie.title, model=\"sentence-transformers/paraphrase-MiniLM-L3-v2\")\n",
    "genre_space = sl.TextSimilaritySpace(text=movie.genres, model=\"sentence-transformers/paraphrase-MiniLM-L3-v2\")\n",
    "# release date are encoded using our recency space\n",
    "# periodtimes aim to reflect notable breaks in our scores\n",
    "recency_space = sl.RecencySpace(\n",
    "    timestamp=movie.release_timestamp,\n",
    "    period_time_list=[\n",
    "        sl.PeriodTime(timedelta(days=4 * YEAR_IN_DAYS)),\n",
    "        sl.PeriodTime(timedelta(days=10 * YEAR_IN_DAYS)),\n",
    "        sl.PeriodTime(timedelta(days=40 * YEAR_IN_DAYS)),\n",
    "    ],\n",
    "    negative_filter=-0.25,\n",
    ")"
   ]
  },
  {
   "cell_type": "code",
   "execution_count": 28,
   "id": "88e05778-8ab1-49c9-922d-cd825c65b93a",
   "metadata": {},
   "outputs": [],
   "source": [
    "movie_index = sl.Index(spaces=[description_space, title_space, genre_space, recency_space])"
   ]
  },
  {
   "cell_type": "code",
   "execution_count": 29,
   "id": "b56927bf-503c-4f08-98c4-f5f9a49690af",
   "metadata": {},
   "outputs": [],
   "source": [
    "query_text_param = sl.Param(\"query_text\")\n",
    "\n",
    "simple_query = (\n",
    "    sl.Query(\n",
    "        movie_index,\n",
    "        weights={\n",
    "            description_space: sl.Param(\"description_weight\"),\n",
    "            title_space: sl.Param(\"title_weight\"),\n",
    "            genre_space: sl.Param(\"genre_weight\"),\n",
    "            recency_space: sl.Param(\"recency_weight\"),\n",
    "        },\n",
    "    )\n",
    "    .find(movie)\n",
    "    .similar(description_space, query_text_param)\n",
    "    .similar(title_space, query_text_param)\n",
    "    .similar(genre_space, query_text_param)\n",
    "    .select([movie.description, movie.title, movie.genres, movie.release_timestamp])\n",
    "    .limit(sl.Param(\"limit\"))\n",
    ")\n",
    "\n",
    "advanced_query = (\n",
    "    sl.Query(\n",
    "        movie_index,\n",
    "        weights={\n",
    "            description_space: sl.Param(\"description_weight\"),\n",
    "            title_space: sl.Param(\"title_weight\"),\n",
    "            genre_space: sl.Param(\"genre_weight\"),\n",
    "            recency_space: sl.Param(\"recency_weight\"),\n",
    "        },\n",
    "    )\n",
    "    .find(movie)\n",
    "    .similar(description_space, sl.Param(\"description_query_text\"))\n",
    "    .similar(title_space, sl.Param(\"title_query_text\"))\n",
    "    .similar(genre_space, sl.Param(\"genre_query_text\"))\n",
    "    .select([movie.description, movie.title, movie.genres, movie.release_timestamp])\n",
    "    .limit(sl.Param(\"limit\"))\n",
    ")"
   ]
  },
  {
   "cell_type": "code",
   "execution_count": 30,
   "id": "22069eb1-16d6-40db-b5ba-127fa1efa86e",
   "metadata": {},
   "outputs": [],
   "source": [
    "df_parser = sl.DataFrameParser(schema=movie, mapping={movie.release_timestamp: \"timestamp\"})"
   ]
  },
  {
   "cell_type": "code",
   "execution_count": 31,
   "id": "14335931-ba95-45ec-8cb6-19f5e4905fbd",
   "metadata": {},
   "outputs": [],
   "source": [
    "source: sl.InMemorySource = sl.InMemorySource(movie, parser=df_parser)\n",
    "executor: sl.InMemoryExecutor = sl.InMemoryExecutor(sources=[source], indices=[movie_index], context_data=EXECUTOR_DATA)\n",
    "app: sl.InMemoryApp = executor.run()"
   ]
  },
  {
   "cell_type": "code",
   "execution_count": 32,
   "id": "683cbd59-0744-4cd9-9a36-18814be79760",
   "metadata": {},
   "outputs": [],
   "source": [
    "source.put([movie_df])"
   ]
  },
  {
   "cell_type": "markdown",
   "id": "09bcc1e1-91d1-400f-87c9-bfcda1bddded",
   "metadata": {},
   "source": [
    "## Understanding recency"
   ]
  },
  {
   "cell_type": "markdown",
   "id": "576214c2-8303-45d0-a5ae-8cffe5e70e42",
   "metadata": {},
   "source": [
    "Recency can seem quite complex at first, let's see how the score looks like for the relevant time periods"
   ]
  },
  {
   "cell_type": "code",
   "execution_count": 33,
   "id": "0bd07652-ebd9-4676-97b2-96eecd0b6089",
   "metadata": {},
   "outputs": [
    {
     "data": {
      "application/vnd.vegalite.v5+json": {
       "$schema": "https://vega.github.io/schema/vega-lite/v5.16.3.json",
       "config": {
        "view": {
         "continuousHeight": 300,
         "continuousWidth": 300
        }
       },
       "data": {
        "name": "data-154089f72febe79b8e5c0274b9acedb0"
       },
       "datasets": {
        "data-154089f72febe79b8e5c0274b9acedb0": [
         {
          "date": "1979-01-11T23:59:00",
          "score": -0.25
         },
         {
          "date": "1979-01-28T01:48:32.972973",
          "score": -0.25
         },
         {
          "date": "1979-02-13T03:38:05.945946",
          "score": -0.25
         },
         {
          "date": "1979-03-01T05:27:38.918919",
          "score": -0.25
         },
         {
          "date": "1979-03-17T07:17:11.891892",
          "score": -0.25
         },
         {
          "date": "1979-04-02T09:06:44.864865",
          "score": -0.25
         },
         {
          "date": "1979-04-18T10:56:17.837838",
          "score": -0.25
         },
         {
          "date": "1979-05-04T12:45:50.810811",
          "score": -0.25
         },
         {
          "date": "1979-05-20T14:35:23.783784",
          "score": -0.25
         },
         {
          "date": "1979-06-05T16:24:56.756757",
          "score": -0.25
         },
         {
          "date": "1979-06-21T18:14:29.729730",
          "score": -0.25
         },
         {
          "date": "1979-07-07T20:04:02.702703",
          "score": -0.25
         },
         {
          "date": "1979-07-23T21:53:35.675676",
          "score": -0.25
         },
         {
          "date": "1979-08-08T23:43:08.648649",
          "score": -0.25
         },
         {
          "date": "1979-08-25T01:32:41.621622",
          "score": -0.25
         },
         {
          "date": "1979-09-10T03:22:14.594595",
          "score": -0.25
         },
         {
          "date": "1979-09-26T05:11:47.567568",
          "score": -0.25
         },
         {
          "date": "1979-10-12T07:01:20.540541",
          "score": -0.25
         },
         {
          "date": "1979-10-28T08:50:53.513514",
          "score": -0.25
         },
         {
          "date": "1979-11-13T10:40:26.486486",
          "score": -0.25
         },
         {
          "date": "1979-11-29T12:29:59.459459",
          "score": -0.25
         },
         {
          "date": "1979-12-15T14:19:32.432432",
          "score": -0.25
         },
         {
          "date": "1979-12-31T16:09:05.405405",
          "score": -0.25
         },
         {
          "date": "1980-01-16T17:58:38.378378",
          "score": -0.25
         },
         {
          "date": "1980-02-01T19:48:11.351351",
          "score": -0.25
         },
         {
          "date": "1980-02-17T21:37:44.324324",
          "score": -0.25
         },
         {
          "date": "1980-03-04T23:27:17.297297",
          "score": -0.25
         },
         {
          "date": "1980-03-21T01:16:50.270270",
          "score": -0.25
         },
         {
          "date": "1980-04-06T04:06:23.243243",
          "score": -0.25
         },
         {
          "date": "1980-04-22T05:55:56.216216",
          "score": -0.25
         },
         {
          "date": "1980-05-08T07:45:29.189189",
          "score": -0.25
         },
         {
          "date": "1980-05-24T09:35:02.162162",
          "score": -0.25
         },
         {
          "date": "1980-06-09T11:24:35.135135",
          "score": -0.25
         },
         {
          "date": "1980-06-25T13:14:08.108108",
          "score": -0.25
         },
         {
          "date": "1980-07-11T15:03:41.081081",
          "score": -0.25
         },
         {
          "date": "1980-07-27T16:53:14.054054",
          "score": -0.25
         },
         {
          "date": "1980-08-12T18:42:47.027027",
          "score": -0.25
         },
         {
          "date": "1980-08-28T20:32:20",
          "score": -0.25
         },
         {
          "date": "1980-09-13T22:21:52.972973",
          "score": -0.25
         },
         {
          "date": "1980-09-29T23:11:25.945946",
          "score": -0.25
         },
         {
          "date": "1980-10-16T01:00:58.918919",
          "score": -0.25
         },
         {
          "date": "1980-11-01T02:50:31.891892",
          "score": -0.25
         },
         {
          "date": "1980-11-17T04:40:04.864865",
          "score": -0.25
         },
         {
          "date": "1980-12-03T06:29:37.837838",
          "score": -0.25
         },
         {
          "date": "1980-12-19T08:19:10.810811",
          "score": -0.25
         },
         {
          "date": "1981-01-04T10:08:43.783784",
          "score": -0.25
         },
         {
          "date": "1981-01-20T11:58:16.756757",
          "score": -0.25
         },
         {
          "date": "1981-02-05T13:47:49.729730",
          "score": -0.25
         },
         {
          "date": "1981-02-21T15:37:22.702703",
          "score": -0.25
         },
         {
          "date": "1981-03-09T17:26:55.675676",
          "score": -0.25
         },
         {
          "date": "1981-03-25T19:16:28.648649",
          "score": -0.25
         },
         {
          "date": "1981-04-10T22:06:01.621622",
          "score": -0.25
         },
         {
          "date": "1981-04-26T23:55:34.594595",
          "score": -0.25
         },
         {
          "date": "1981-05-13T01:45:07.567568",
          "score": -0.25
         },
         {
          "date": "1981-05-29T03:34:40.540541",
          "score": -0.25
         },
         {
          "date": "1981-06-14T05:24:13.513514",
          "score": -0.25
         },
         {
          "date": "1981-06-30T07:13:46.486486",
          "score": -0.25
         },
         {
          "date": "1981-07-16T09:03:19.459459",
          "score": -0.25
         },
         {
          "date": "1981-08-01T10:52:52.432432",
          "score": -0.25
         },
         {
          "date": "1981-08-17T12:42:25.405405",
          "score": -0.25
         },
         {
          "date": "1981-09-02T14:31:58.378378",
          "score": -0.25
         },
         {
          "date": "1981-09-18T16:21:31.351351",
          "score": -0.25
         },
         {
          "date": "1981-10-04T17:11:04.324324",
          "score": -0.25
         },
         {
          "date": "1981-10-20T19:00:37.297297",
          "score": -0.25
         },
         {
          "date": "1981-11-05T20:50:10.270270",
          "score": -0.25
         },
         {
          "date": "1981-11-21T22:39:43.243243",
          "score": -0.25
         },
         {
          "date": "1981-12-08T00:29:16.216216",
          "score": -0.25
         },
         {
          "date": "1981-12-24T02:18:49.189189",
          "score": -0.25
         },
         {
          "date": "1982-01-09T04:08:22.162162",
          "score": -0.25
         },
         {
          "date": "1982-01-25T05:57:55.135135",
          "score": -0.25
         },
         {
          "date": "1982-02-10T07:47:28.108108",
          "score": -0.25
         },
         {
          "date": "1982-02-26T09:37:01.081081",
          "score": -0.25
         },
         {
          "date": "1982-03-14T11:26:34.054054",
          "score": -0.25
         },
         {
          "date": "1982-03-30T14:16:07.027027",
          "score": -0.25
         },
         {
          "date": "1982-04-15T16:05:40",
          "score": -0.25
         },
         {
          "date": "1982-05-01T17:55:12.972973",
          "score": -0.25
         },
         {
          "date": "1982-05-17T19:44:45.945946",
          "score": -0.25
         },
         {
          "date": "1982-06-02T21:34:18.918919",
          "score": -0.25
         },
         {
          "date": "1982-06-18T23:23:51.891892",
          "score": -0.25
         },
         {
          "date": "1982-07-05T01:13:24.864865",
          "score": -0.25
         },
         {
          "date": "1982-07-21T03:02:57.837838",
          "score": -0.25
         },
         {
          "date": "1982-08-06T04:52:30.810811",
          "score": -0.25
         },
         {
          "date": "1982-08-22T06:42:03.783784",
          "score": -0.25
         },
         {
          "date": "1982-09-07T08:31:36.756757",
          "score": -0.25
         },
         {
          "date": "1982-09-23T10:21:09.729730",
          "score": -0.25
         },
         {
          "date": "1982-10-09T11:10:42.702703",
          "score": -0.25
         },
         {
          "date": "1982-10-25T13:00:15.675676",
          "score": -0.25
         },
         {
          "date": "1982-11-10T14:49:48.648649",
          "score": -0.25
         },
         {
          "date": "1982-11-26T16:39:21.621622",
          "score": -0.25
         },
         {
          "date": "1982-12-12T18:28:54.594595",
          "score": -0.25
         },
         {
          "date": "1982-12-28T20:18:27.567568",
          "score": -0.25
         },
         {
          "date": "1983-01-13T22:08:00.540541",
          "score": 0.00010482457797166102
         },
         {
          "date": "1983-01-29T23:57:33.513514",
          "score": 0.0006813592935628992
         },
         {
          "date": "1983-02-15T01:47:06.486486",
          "score": 0.0012578919708442166
         },
         {
          "date": "1983-03-03T03:36:39.459459",
          "score": 0.0018344208850980983
         },
         {
          "date": "1983-03-19T05:26:12.432432",
          "score": 0.0024109443116182875
         },
         {
          "date": "1983-04-04T08:15:45.405405",
          "score": 0.0029874605257150183
         },
         {
          "date": "1983-04-20T10:05:18.378378",
          "score": 0.003563967802720027
         },
         {
          "date": "1983-05-06T11:54:51.351351",
          "score": 0.0041404644179918095
         },
         {
          "date": "1983-05-22T13:44:24.324324",
          "score": 0.004716948646920756
         },
         {
          "date": "1983-06-07T15:33:57.297297",
          "score": 0.005293418764934291
         },
         {
          "date": "1983-06-23T17:23:30.270270",
          "score": 0.005869873047502115
         },
         {
          "date": "1983-07-09T19:13:03.243243",
          "score": 0.006446309770141218
         },
         {
          "date": "1983-07-25T21:02:36.216216",
          "score": 0.007022727208421207
         },
         {
          "date": "1983-08-10T22:52:09.189189",
          "score": 0.007599123637969312
         },
         {
          "date": "1983-08-27T00:41:42.162162",
          "score": 0.00817549733447563
         },
         {
          "date": "1983-09-12T02:31:15.135135",
          "score": 0.008751846573698268
         },
         {
          "date": "1983-09-28T03:20:48.108108",
          "score": 0.009328169631468477
         },
         {
          "date": "1983-10-14T05:10:21.081081",
          "score": 0.009904464783695898
         },
         {
          "date": "1983-10-30T06:59:54.054054",
          "score": 0.010480730306373556
         },
         {
          "date": "1983-11-15T08:49:27.027027",
          "score": 0.011056964475583218
         },
         {
          "date": "1983-12-01T10:39:00",
          "score": 0.01163316556750036
         },
         {
          "date": "1983-12-17T12:28:32.972973",
          "score": 0.012209331858399444
         },
         {
          "date": "1984-01-02T14:18:05.945946",
          "score": 0.012785461624659043
         },
         {
          "date": "1984-01-18T16:07:38.918919",
          "score": 0.013361553142766984
         },
         {
          "date": "1984-02-03T17:57:11.891892",
          "score": 0.013937604689325497
         },
         {
          "date": "1984-02-19T19:46:44.864865",
          "score": 0.014513614541056439
         },
         {
          "date": "1984-03-06T21:36:17.837838",
          "score": 0.015089580974806392
         },
         {
          "date": "1984-03-22T23:25:50.810811",
          "score": 0.01566550226755178
         },
         {
          "date": "1984-04-08T02:15:23.783784",
          "score": 0.016241376696404092
         },
         {
          "date": "1984-04-24T04:04:56.756757",
          "score": 0.016817202538615017
         },
         {
          "date": "1984-05-10T05:54:29.729730",
          "score": 0.01739297807158158
         },
         {
          "date": "1984-05-26T07:44:02.702703",
          "score": 0.017968701572851287
         },
         {
          "date": "1984-06-11T09:33:35.675676",
          "score": 0.018544371320127383
         },
         {
          "date": "1984-06-27T11:23:08.648649",
          "score": 0.019119985591273817
         },
         {
          "date": "1984-07-13T13:12:41.621622",
          "score": 0.019695542664320585
         },
         {
          "date": "1984-07-29T15:02:14.594595",
          "score": 0.020271040817468732
         },
         {
          "date": "1984-08-14T16:51:47.567568",
          "score": 0.02084647832909558
         },
         {
          "date": "1984-08-30T18:41:20.540541",
          "score": 0.021421853477759864
         },
         {
          "date": "1984-09-15T20:30:53.513514",
          "score": 0.021997164542206866
         },
         {
          "date": "1984-10-01T21:20:26.486486",
          "score": 0.02257240980137363
         },
         {
          "date": "1984-10-17T23:09:59.459459",
          "score": 0.023147587534393985
         },
         {
          "date": "1984-11-03T00:59:32.432432",
          "score": 0.023722696020603843
         },
         {
          "date": "1984-11-19T02:49:05.405405",
          "score": 0.024297733539546215
         },
         {
          "date": "1984-12-05T04:38:38.378378",
          "score": 0.024872698370976425
         },
         {
          "date": "1984-12-21T06:28:11.351351",
          "score": 0.025447588794867252
         },
         {
          "date": "1985-01-06T08:17:44.324324",
          "score": 0.02602240309141406
         },
         {
          "date": "1985-01-22T10:07:17.297297",
          "score": 0.026597139541039934
         },
         {
          "date": "1985-02-07T11:56:50.270270",
          "score": 0.027171796424400915
         },
         {
          "date": "1985-02-23T13:46:23.243243",
          "score": 0.02774637202239095
         },
         {
          "date": "1985-03-11T15:35:56.216216",
          "score": 0.02832086461614729
         },
         {
          "date": "1985-03-27T17:25:29.189189",
          "score": 0.028895272487055385
         },
         {
          "date": "1985-04-12T20:15:02.162162",
          "score": 0.02946959391675419
         },
         {
          "date": "1985-04-28T22:04:35.135135",
          "score": 0.03004382718714124
         },
         {
          "date": "1985-05-14T23:54:08.108108",
          "score": 0.03061797058037776
         },
         {
          "date": "1985-05-31T01:43:41.081081",
          "score": 0.03119202237889395
         },
         {
          "date": "1985-06-16T03:33:14.054054",
          "score": 0.03176598086539391
         },
         {
          "date": "1985-07-02T05:22:47.027027",
          "score": 0.03233984432286097
         },
         {
          "date": "1985-07-18T07:12:20",
          "score": 0.03291361103456267
         },
         {
          "date": "1985-08-03T09:01:52.972973",
          "score": 0.03348727928405603
         },
         {
          "date": "1985-08-19T10:51:25.945946",
          "score": 0.03406084735519257
         },
         {
          "date": "1985-09-04T12:40:58.918919",
          "score": 0.03463431353212354
         },
         {
          "date": "1985-09-20T14:30:31.891892",
          "score": 0.03520767609930496
         },
         {
          "date": "1985-10-06T15:20:04.864865",
          "score": 0.03578093334150289
         },
         {
          "date": "1985-10-22T17:09:37.837838",
          "score": 0.036354083543798356
         },
         {
          "date": "1985-11-07T18:59:10.810811",
          "score": 0.036927124991592716
         },
         {
          "date": "1985-11-23T20:48:43.783784",
          "score": 0.037500055970612595
         },
         {
          "date": "1985-12-09T22:38:16.756757",
          "score": 0.038072874766915094
         },
         {
          "date": "1985-12-26T00:27:49.729730",
          "score": 0.03864557966689296
         },
         {
          "date": "1986-01-11T02:17:22.702703",
          "score": 0.03921816895727956
         },
         {
          "date": "1986-01-27T04:06:55.675676",
          "score": 0.039790640925154275
         },
         {
          "date": "1986-02-12T05:56:28.648649",
          "score": 0.04036299385794728
         },
         {
          "date": "1986-02-28T07:46:01.621622",
          "score": 0.04093522604344504
         },
         {
          "date": "1986-03-16T09:35:34.594595",
          "score": 0.041507335769795047
         },
         {
          "date": "1986-04-01T12:25:07.567568",
          "score": 0.04207932132551127
         },
         {
          "date": "1986-04-17T14:14:40.540541",
          "score": 0.042651180999479066
         },
         {
          "date": "1986-05-03T16:04:13.513514",
          "score": 0.04322291308096041
         },
         {
          "date": "1986-05-19T17:53:46.486486",
          "score": 0.04379451585959893
         },
         {
          "date": "1986-06-04T19:43:19.459459",
          "score": 0.04436598762542513
         },
         {
          "date": "1986-06-20T21:32:52.432432",
          "score": 0.04493732666886144
         },
         {
          "date": "1986-07-06T23:22:25.405405",
          "score": 0.045508531280727266
         },
         {
          "date": "1986-07-23T01:11:58.378378",
          "score": 0.046079599752244224
         },
         {
          "date": "1986-08-08T03:01:31.351351",
          "score": 0.046650530375041174
         },
         {
          "date": "1986-08-24T04:51:04.324324",
          "score": 0.047221321441159377
         },
         {
          "date": "1986-09-09T06:40:37.297297",
          "score": 0.04779197124305754
         },
         {
          "date": "1986-09-25T08:30:10.270270",
          "score": 0.04836247807361706
         },
         {
          "date": "1986-10-11T09:19:43.243243",
          "score": 0.04893284022614692
         },
         {
          "date": "1986-10-27T11:09:16.216216",
          "score": 0.04950305599438901
         },
         {
          "date": "1986-11-12T12:58:49.189189",
          "score": 0.05007312367252308
         },
         {
          "date": "1986-11-28T14:48:22.162162",
          "score": 0.050643041555171915
         },
         {
          "date": "1986-12-14T16:37:55.135135",
          "score": 0.05121280793740641
         },
         {
          "date": "1986-12-30T18:27:28.108108",
          "score": 0.051782421114750635
         },
         {
          "date": "1987-01-15T20:17:01.081081",
          "score": 0.052351879383187125
         },
         {
          "date": "1987-01-31T22:06:34.054054",
          "score": 0.052921181039161595
         },
         {
          "date": "1987-02-16T23:56:07.027027",
          "score": 0.05349032437958853
         },
         {
          "date": "1987-03-05T01:45:40",
          "score": 0.054059307701855845
         },
         {
          "date": "1987-03-21T03:35:12.972973",
          "score": 0.054628129303830215
         },
         {
          "date": "1987-04-06T06:24:45.945946",
          "score": 0.05519678748386211
         },
         {
          "date": "1987-04-22T08:14:18.918919",
          "score": 0.05576528054079085
         },
         {
          "date": "1987-05-08T10:03:51.891892",
          "score": 0.05633360677394975
         },
         {
          "date": "1987-05-24T11:53:24.864865",
          "score": 0.05690176448317115
         },
         {
          "date": "1987-06-09T13:42:57.837838",
          "score": 0.05746975196879165
         },
         {
          "date": "1987-06-25T15:32:30.810811",
          "score": 0.05803756753165697
         },
         {
          "date": "1987-07-11T17:22:03.783784",
          "score": 0.05860520947312715
         },
         {
          "date": "1987-07-27T19:11:36.756757",
          "score": 0.059172676095081644
         },
         {
          "date": "1987-08-12T21:01:09.729730",
          "score": 0.05973996569992433
         },
         {
          "date": "1987-08-28T22:50:42.702703",
          "score": 0.060307076590588864
         },
         {
          "date": "1987-09-14T00:40:15.675676",
          "score": 0.06087400707054314
         },
         {
          "date": "1987-09-30T01:29:48.648649",
          "score": 0.061440755443795174
         },
         {
          "date": "1987-10-16T03:19:21.621622",
          "score": 0.06200732001489736
         },
         {
          "date": "1987-11-01T05:08:54.594595",
          "score": 0.0625736990889523
         },
         {
          "date": "1987-11-17T06:58:27.567568",
          "score": 0.06313989097161732
         },
         {
          "date": "1987-12-03T08:48:00.540541",
          "score": 0.06370589396910975
         },
         {
          "date": "1987-12-19T10:37:33.513514",
          "score": 0.06427170638821203
         },
         {
          "date": "1988-01-04T12:27:06.486486",
          "score": 0.06483732653627661
         },
         {
          "date": "1988-01-20T14:16:39.459460",
          "score": 0.06540275272123139
         },
         {
          "date": "1988-02-05T16:06:12.432432",
          "score": 0.06596798325158414
         },
         {
          "date": "1988-02-21T17:55:45.405405",
          "score": 0.06653301643642826
         },
         {
          "date": "1988-03-08T19:45:18.378378",
          "score": 0.06709785058544736
         },
         {
          "date": "1988-03-24T21:34:51.351351",
          "score": 0.06766248400892048
         },
         {
          "date": "1988-04-10T00:24:24.324324",
          "score": 0.0682269150177272
         },
         {
          "date": "1988-04-26T02:13:57.297297",
          "score": 0.06879114192335252
         },
         {
          "date": "1988-05-12T04:03:30.270270",
          "score": 0.06935516303789224
         },
         {
          "date": "1988-05-28T05:53:03.243243",
          "score": 0.06991897667405743
         },
         {
          "date": "1988-06-13T07:42:36.216216",
          "score": 0.07048258114518023
         },
         {
          "date": "1988-06-29T09:32:09.189189",
          "score": 0.07104597476521828
         },
         {
          "date": "1988-07-15T11:21:42.162162",
          "score": 0.07160915584876
         },
         {
          "date": "1988-07-31T13:11:15.135135",
          "score": 0.07217212271102968
         },
         {
          "date": "1988-08-16T15:00:48.108108",
          "score": 0.07273487366789239
         },
         {
          "date": "1988-09-01T16:50:21.081081",
          "score": 0.07329740703585928
         },
         {
          "date": "1988-09-17T18:39:54.054054",
          "score": 0.0738597211320921
         },
         {
          "date": "1988-10-03T19:29:27.027027",
          "score": 0.07442181427440885
         },
         {
          "date": "1988-10-19T21:19:00",
          "score": 0.07498368478128836
         },
         {
          "date": "1988-11-04T23:08:32.972973",
          "score": 0.07554533097187557
         },
         {
          "date": "1988-11-21T00:58:05.945946",
          "score": 0.07610675116598642
         },
         {
          "date": "1988-12-07T02:47:38.918919",
          "score": 0.07666794368411285
         },
         {
          "date": "1988-12-23T04:37:11.891892",
          "score": 0.07722890684742817
         },
         {
          "date": "1989-01-08T06:26:44.864865",
          "score": 0.07778963897779145
         },
         {
          "date": "1989-01-24T08:16:17.837838",
          "score": 0.07835013839775326
         },
         {
          "date": "1989-02-09T10:05:50.810811",
          "score": 0.07891040343055994
         },
         {
          "date": "1989-02-25T11:55:23.783784",
          "score": 0.0794704324001594
         },
         {
          "date": "1989-03-13T13:44:56.756757",
          "score": 0.08003022363120552
         },
         {
          "date": "1989-03-29T16:34:29.729730",
          "score": 0.08058977544906334
         },
         {
          "date": "1989-04-14T18:24:02.702703",
          "score": 0.0811490861798144
         },
         {
          "date": "1989-04-30T20:13:35.675676",
          "score": 0.081708154150261
         },
         {
          "date": "1989-05-16T22:03:08.648649",
          "score": 0.08226697768793217
         },
         {
          "date": "1989-06-01T23:52:41.621622",
          "score": 0.0828255551210877
         },
         {
          "date": "1989-06-18T01:42:14.594595",
          "score": 0.08338388477872405
         },
         {
          "date": "1989-07-04T03:31:47.567568",
          "score": 0.08394196499057856
         },
         {
          "date": "1989-07-20T05:21:20.540541",
          "score": 0.08449979408713496
         },
         {
          "date": "1989-08-05T07:10:53.513514",
          "score": 0.0850573703996282
         },
         {
          "date": "1989-08-21T09:00:26.486486",
          "score": 0.08561469226004932
         },
         {
          "date": "1989-09-06T10:49:59.459460",
          "score": 0.08617175800115083
         },
         {
          "date": "1989-09-22T12:39:32.432432",
          "score": 0.08672856595645105
         },
         {
          "date": "1989-10-08T13:29:05.405405",
          "score": 0.08728511446023983
         },
         {
          "date": "1989-10-24T15:18:38.378378",
          "score": 0.08784140184758298
         },
         {
          "date": "1989-11-09T17:08:11.351351",
          "score": 0.08839742645432748
         },
         {
          "date": "1989-11-25T18:57:44.324324",
          "score": 0.08895318661710645
         },
         {
          "date": "1989-12-11T20:47:17.297297",
          "score": 0.0895086806733441
         },
         {
          "date": "1989-12-27T22:36:50.270270",
          "score": 0.09006390696126078
         },
         {
          "date": "1990-01-13T00:26:23.243243",
          "score": 0.09061886381987763
         },
         {
          "date": "1990-01-29T02:15:56.216216",
          "score": 0.09117354958902213
         },
         {
          "date": "1990-02-14T04:05:29.189189",
          "score": 0.09172796260933254
         },
         {
          "date": "1990-03-02T05:55:02.162162",
          "score": 0.09228210122226306
         },
         {
          "date": "1990-03-18T07:44:35.135135",
          "score": 0.0928359637700888
         },
         {
          "date": "1990-04-03T10:34:08.108108",
          "score": 0.09338954859591077
         },
         {
          "date": "1990-04-19T12:23:41.081081",
          "score": 0.09394285404366083
         },
         {
          "date": "1990-05-05T14:13:14.054054",
          "score": 0.09449587845810646
         },
         {
          "date": "1990-05-21T16:02:47.027027",
          "score": 0.09504862018485602
         },
         {
          "date": "1990-06-06T17:52:20",
          "score": 0.09560107757036346
         },
         {
          "date": "1990-06-22T19:41:52.972973",
          "score": 0.09615324896193332
         },
         {
          "date": "1990-07-08T21:31:25.945946",
          "score": 0.09670513270772582
         },
         {
          "date": "1990-07-24T23:20:58.918919",
          "score": 0.0972567271567615
         },
         {
          "date": "1990-08-10T01:10:31.891892",
          "score": 0.09780803065892657
         },
         {
          "date": "1990-08-26T03:00:04.864865",
          "score": 0.09835904156497734
         },
         {
          "date": "1990-09-11T04:49:37.837838",
          "score": 0.09890975822654577
         },
         {
          "date": "1990-09-27T06:39:10.810811",
          "score": 0.09946017899614369
         },
         {
          "date": "1990-10-13T07:28:43.783784",
          "score": 0.10001030222716839
         },
         {
          "date": "1990-10-29T09:18:16.756757",
          "score": 0.10056012627390716
         },
         {
          "date": "1990-11-14T11:07:49.729730",
          "score": 0.10110964949154222
         },
         {
          "date": "1990-11-30T12:57:22.702703",
          "score": 0.10165887023615597
         },
         {
          "date": "1990-12-16T14:46:55.675676",
          "score": 0.10220778686473533
         },
         {
          "date": "1991-01-01T16:36:28.648649",
          "score": 0.10275639773517739
         },
         {
          "date": "1991-01-17T18:26:01.621622",
          "score": 0.10330470120629344
         },
         {
          "date": "1991-02-02T20:15:34.594595",
          "score": 0.10385269563781488
         },
         {
          "date": "1991-02-18T22:05:07.567568",
          "score": 0.10440037939039726
         },
         {
          "date": "1991-03-06T23:54:40.540541",
          "score": 0.10494775082562569
         },
         {
          "date": "1991-03-23T01:44:13.513514",
          "score": 0.10549480830601952
         },
         {
          "date": "1991-04-08T04:33:46.486486",
          "score": 0.10604155019503728
         },
         {
          "date": "1991-04-24T06:23:19.459460",
          "score": 0.10658797485708182
         },
         {
          "date": "1991-05-10T08:12:52.432432",
          "score": 0.10713408065750464
         },
         {
          "date": "1991-05-26T10:02:25.405405",
          "score": 0.10767986596261142
         },
         {
          "date": "1991-06-11T11:51:58.378378",
          "score": 0.10822532913966645
         },
         {
          "date": "1991-06-27T13:41:31.351351",
          "score": 0.10877046855689779
         },
         {
          "date": "1991-07-13T15:31:04.324324",
          "score": 0.1093152825835019
         },
         {
          "date": "1991-07-29T17:20:37.297297",
          "score": 0.10985976958964873
         },
         {
          "date": "1991-08-14T19:10:10.270270",
          "score": 0.11040392794648665
         },
         {
          "date": "1991-08-30T20:59:43.243243",
          "score": 0.1109477560261469
         },
         {
          "date": "1991-09-15T22:49:16.216216",
          "score": 0.11149125220174903
         },
         {
          "date": "1991-10-01T23:38:49.189189",
          "score": 0.11203441484740538
         },
         {
          "date": "1991-10-18T01:28:22.162162",
          "score": 0.1125772423382261
         },
         {
          "date": "1991-11-03T03:17:55.135135",
          "score": 0.11311973305032384
         },
         {
          "date": "1991-11-19T05:07:28.108108",
          "score": 0.11366188536081887
         },
         {
          "date": "1991-12-05T06:57:01.081081",
          "score": 0.11420369764784384
         },
         {
          "date": "1991-12-21T08:46:34.054054",
          "score": 0.11474516829054836
         },
         {
          "date": "1992-01-06T10:36:07.027027",
          "score": 0.11528629566910435
         },
         {
          "date": "1992-01-22T12:25:40",
          "score": 0.11582707816471048
         },
         {
          "date": "1992-02-07T14:15:12.972973",
          "score": 0.11636751415959717
         },
         {
          "date": "1992-02-23T16:04:45.945946",
          "score": 0.11690760203703136
         },
         {
          "date": "1992-03-10T17:54:18.918919",
          "score": 0.11744734018132144
         },
         {
          "date": "1992-03-26T19:43:51.891892",
          "score": 0.11798672697782217
         },
         {
          "date": "1992-04-11T22:33:24.864865",
          "score": 0.11852576081293906
         },
         {
          "date": "1992-04-28T00:22:57.837838",
          "score": 0.11906444007413389
         },
         {
          "date": "1992-05-14T02:12:30.810811",
          "score": 0.11960276314992879
         },
         {
          "date": "1992-05-30T04:02:03.783784",
          "score": 0.12014072842991178
         },
         {
          "date": "1992-06-15T05:51:36.756757",
          "score": 0.12067833430474101
         },
         {
          "date": "1992-07-01T07:41:09.729730",
          "score": 0.12121557916614985
         },
         {
          "date": "1992-07-17T09:30:42.702703",
          "score": 0.12175246140695171
         },
         {
          "date": "1992-08-02T11:20:15.675676",
          "score": 0.12228897942104468
         },
         {
          "date": "1992-08-18T13:09:48.648649",
          "score": 0.12282513160341671
         },
         {
          "date": "1992-09-03T14:59:21.621622",
          "score": 0.12336091635014973
         },
         {
          "date": "1992-09-19T16:48:54.594595",
          "score": 0.12389633205842523
         },
         {
          "date": "1992-10-05T17:38:27.567568",
          "score": 0.12443137712652853
         },
         {
          "date": "1992-10-21T19:28:00.540541",
          "score": 0.12496604995385377
         },
         {
          "date": "1992-11-06T21:17:33.513514",
          "score": 0.12550034894090867
         },
         {
          "date": "1992-11-22T23:07:06.486486",
          "score": 0.1260342724893192
         },
         {
          "date": "1992-12-09T00:56:39.459460",
          "score": 0.12656781900183467
         },
         {
          "date": "1992-12-25T02:46:12.432432",
          "score": 0.1271009868823321
         },
         {
          "date": "1993-01-10T04:35:45.405405",
          "score": 0.1276337745358214
         },
         {
          "date": "1993-01-26T06:25:18.378378",
          "score": 0.12816618036844973
         },
         {
          "date": "1993-02-11T08:14:51.351351",
          "score": 0.12869820278750665
         },
         {
          "date": "1993-02-27T10:04:24.324324",
          "score": 0.12922984020142858
         },
         {
          "date": "1993-03-15T11:53:57.297297",
          "score": 0.12976109101980385
         },
         {
          "date": "1993-03-31T14:43:30.270270",
          "score": 0.1302919536533772
         },
         {
          "date": "1993-04-16T16:33:03.243243",
          "score": 0.1308224265140546
         },
         {
          "date": "1993-05-02T18:22:36.216216",
          "score": 0.1313525080149082
         },
         {
          "date": "1993-05-18T20:12:09.189189",
          "score": 0.13188219657018072
         },
         {
          "date": "1993-06-03T22:01:42.162162",
          "score": 0.13241149059529056
         },
         {
          "date": "1993-06-19T23:51:15.135135",
          "score": 0.13294038850683623
         },
         {
          "date": "1993-07-06T01:40:48.108108",
          "score": 0.13346888872260132
         },
         {
          "date": "1993-07-22T03:30:21.081081",
          "score": 0.13399698966155915
         },
         {
          "date": "1993-08-07T05:19:54.054054",
          "score": 0.13452468974387738
         },
         {
          "date": "1993-08-23T07:09:27.027027",
          "score": 0.13505198739092303
         },
         {
          "date": "1993-09-08T08:59:00",
          "score": 0.1355788810252668
         },
         {
          "date": "1993-09-24T10:48:32.972973",
          "score": 0.13610536907068813
         },
         {
          "date": "1993-10-10T11:38:05.945946",
          "score": 0.13663144995217985
         },
         {
          "date": "1993-10-26T13:27:38.918919",
          "score": 0.13715712209595268
         },
         {
          "date": "1993-11-11T15:17:11.891892",
          "score": 0.13768238392944035
         },
         {
          "date": "1993-11-27T17:06:44.864865",
          "score": 0.13820723388130365
         },
         {
          "date": "1993-12-13T18:56:17.837838",
          "score": 0.13873167038143597
         },
         {
          "date": "1993-12-29T20:45:50.810811",
          "score": 0.13925569186096712
         },
         {
          "date": "1994-01-14T22:35:23.783784",
          "score": 0.13977929675226883
         },
         {
          "date": "1994-01-31T00:24:56.756757",
          "score": 0.14030248348895888
         },
         {
          "date": "1994-02-16T02:14:29.729730",
          "score": 0.14082525050590602
         },
         {
          "date": "1994-03-04T04:04:02.702703",
          "score": 0.14134759623923457
         },
         {
          "date": "1994-03-20T05:53:35.675676",
          "score": 0.14186951912632917
         },
         {
          "date": "1994-04-05T08:43:08.648649",
          "score": 0.14239101760583944
         },
         {
          "date": "1994-04-21T10:32:41.621622",
          "score": 0.14291209011768458
         },
         {
          "date": "1994-05-07T12:22:14.594595",
          "score": 0.1434327351030581
         },
         {
          "date": "1994-05-23T14:11:47.567568",
          "score": 0.1439529510044325
         },
         {
          "date": "1994-06-08T16:01:20.540541",
          "score": 0.14447273626556384
         },
         {
          "date": "1994-06-24T17:50:53.513514",
          "score": 0.14499208933149657
         },
         {
          "date": "1994-07-10T19:40:26.486486",
          "score": 0.14551100864856784
         },
         {
          "date": "1994-07-26T21:29:59.459460",
          "score": 0.14602949266441273
         },
         {
          "date": "1994-08-11T23:19:32.432432",
          "score": 0.14654753982796814
         },
         {
          "date": "1994-08-28T01:09:05.405405",
          "score": 0.14706514858947814
         },
         {
          "date": "1994-09-13T02:58:38.378378",
          "score": 0.14758231740049815
         },
         {
          "date": "1994-09-29T03:48:11.351351",
          "score": 0.14809904471389976
         },
         {
          "date": "1994-10-15T05:37:44.324324",
          "score": 0.14861532898387525
         },
         {
          "date": "1994-10-31T07:27:17.297297",
          "score": 0.14913116866594234
         },
         {
          "date": "1994-11-16T09:16:50.270270",
          "score": 0.1496465622169488
         },
         {
          "date": "1994-12-02T11:06:23.243243",
          "score": 0.15016150809507686
         },
         {
          "date": "1994-12-18T12:55:56.216216",
          "score": 0.15067600475984816
         },
         {
          "date": "1995-01-03T14:45:29.189189",
          "score": 0.15119005067212807
         },
         {
          "date": "1995-01-19T16:35:02.162162",
          "score": 0.1517036442941304
         },
         {
          "date": "1995-02-04T18:24:35.135135",
          "score": 0.15221678408942205
         },
         {
          "date": "1995-02-20T20:14:08.108108",
          "score": 0.15272946852292751
         },
         {
          "date": "1995-03-08T22:03:41.081081",
          "score": 0.15324169606093363
         },
         {
          "date": "1995-03-24T23:53:14.054054",
          "score": 0.15375346517109376
         },
         {
          "date": "1995-04-10T02:42:47.027027",
          "score": 0.15426477432243305
         },
         {
          "date": "1995-04-26T04:32:20",
          "score": 0.15477562198535233
         },
         {
          "date": "1995-05-12T06:21:52.972973",
          "score": 0.15528600663163325
         },
         {
          "date": "1995-05-28T08:11:25.945946",
          "score": 0.15579592673444237
         },
         {
          "date": "1995-06-13T10:00:58.918919",
          "score": 0.15630538076833592
         },
         {
          "date": "1995-06-29T11:50:31.891892",
          "score": 0.15681436720926475
         },
         {
          "date": "1995-07-15T13:40:04.864865",
          "score": 0.157322884534578
         },
         {
          "date": "1995-07-31T15:29:37.837838",
          "score": 0.1578309312230287
         },
         {
          "date": "1995-08-16T17:19:10.810811",
          "score": 0.15833850575477734
         },
         {
          "date": "1995-09-01T19:08:43.783784",
          "score": 0.15884560661139732
         },
         {
          "date": "1995-09-17T20:58:16.756757",
          "score": 0.15935223227587875
         },
         {
          "date": "1995-10-03T21:47:49.729730",
          "score": 0.1598583812326334
         },
         {
          "date": "1995-10-19T23:37:22.702703",
          "score": 0.1603640519674991
         },
         {
          "date": "1995-11-05T01:26:55.675676",
          "score": 0.16086924296774432
         },
         {
          "date": "1995-11-21T03:16:28.648649",
          "score": 0.16137395272207278
         },
         {
          "date": "1995-12-07T05:06:01.621622",
          "score": 0.16187817972062762
         },
         {
          "date": "1995-12-23T06:55:34.594595",
          "score": 0.16238192245499636
         },
         {
          "date": "1996-01-08T08:45:07.567568",
          "score": 0.16288517941821518
         },
         {
          "date": "1996-01-24T10:34:40.540541",
          "score": 0.1633879491047733
         },
         {
          "date": "1996-02-09T12:24:13.513514",
          "score": 0.1638902300106179
         },
         {
          "date": "1996-02-25T14:13:46.486487",
          "score": 0.16439202063315816
         },
         {
          "date": "1996-03-12T16:03:19.459459",
          "score": 0.16489331947127012
         },
         {
          "date": "1996-03-28T17:52:52.432432",
          "score": 0.16539412502530082
         },
         {
          "date": "1996-04-13T20:42:25.405405",
          "score": 0.16589443579707325
         },
         {
          "date": "1996-04-29T22:31:58.378378",
          "score": 0.1663942502898902
         },
         {
          "date": "1996-05-16T00:21:31.351351",
          "score": 0.16689356700853936
         },
         {
          "date": "1996-06-01T02:11:04.324324",
          "score": 0.16739238445929752
         },
         {
          "date": "1996-06-17T04:00:37.297297",
          "score": 0.16789070114993496
         },
         {
          "date": "1996-07-03T05:50:10.270270",
          "score": 0.16838851558971993
         },
         {
          "date": "1996-07-19T07:39:43.243243",
          "score": 0.1688858262894234
         },
         {
          "date": "1996-08-04T09:29:16.216216",
          "score": 0.16938263176132312
         },
         {
          "date": "1996-08-20T11:18:49.189189",
          "score": 0.1698789305192083
         },
         {
          "date": "1996-09-05T13:08:22.162162",
          "score": 0.17037472107838406
         },
         {
          "date": "1996-09-21T14:57:55.135135",
          "score": 0.17087000195567564
         },
         {
          "date": "1996-10-07T16:47:28.108108",
          "score": 0.17136477166943323
         },
         {
          "date": "1996-10-23T18:37:01.081081",
          "score": 0.17185902873953599
         },
         {
          "date": "1996-11-08T19:26:34.054054",
          "score": 0.1723527716873968
         },
         {
          "date": "1996-11-24T21:16:07.027027",
          "score": 0.17284599903596656
         },
         {
          "date": "1996-12-10T23:05:40",
          "score": 0.1733387093097385
         },
         {
          "date": "1996-12-27T00:55:12.972973",
          "score": 0.17383090103475285
         },
         {
          "date": "1997-01-12T02:44:45.945946",
          "score": 0.17432257273860086
         },
         {
          "date": "1997-01-28T04:34:18.918919",
          "score": 0.1748137229504297
         },
         {
          "date": "1997-02-13T06:23:51.891892",
          "score": 0.17530435020094645
         },
         {
          "date": "1997-03-01T08:13:24.864865",
          "score": 0.17579445302242264
         },
         {
          "date": "1997-03-17T10:02:57.837838",
          "score": 0.1762840299486987
         },
         {
          "date": "1997-04-02T12:52:30.810811",
          "score": 0.17677307951518834
         },
         {
          "date": "1997-04-18T14:42:03.783784",
          "score": 0.1772616002588828
         },
         {
          "date": "1997-05-04T16:31:36.756757",
          "score": 0.17774959071835542
         },
         {
          "date": "1997-05-20T18:21:09.729730",
          "score": 0.17823704943376562
         },
         {
          "date": "1997-06-05T20:10:42.702703",
          "score": 0.17872397494686396
         },
         {
          "date": "1997-06-21T22:00:15.675676",
          "score": 0.17921036580099578
         },
         {
          "date": "1997-07-07T23:49:48.648649",
          "score": 0.17969622054110596
         },
         {
          "date": "1997-07-24T01:39:21.621622",
          "score": 0.18018153771374334
         },
         {
          "date": "1997-08-09T03:28:54.594595",
          "score": 0.18066631586706464
         },
         {
          "date": "1997-08-25T05:18:27.567568",
          "score": 0.18115055355083923
         },
         {
          "date": "1997-09-10T07:08:00.540541",
          "score": 0.18163424931645336
         },
         {
          "date": "1997-09-26T08:57:33.513514",
          "score": 0.18211740171691437
         },
         {
          "date": "1997-10-12T10:47:06.486487",
          "score": 0.18260000930685502
         },
         {
          "date": "1997-10-28T11:36:39.459459",
          "score": 0.18308207064253804
         },
         {
          "date": "1997-11-13T13:26:12.432432",
          "score": 0.18356358428186018
         },
         {
          "date": "1997-11-29T15:15:45.405405",
          "score": 0.18404454878435678
         },
         {
          "date": "1997-12-15T17:05:18.378378",
          "score": 0.18452496271120583
         },
         {
          "date": "1997-12-31T18:54:51.351351",
          "score": 0.18500482462523235
         },
         {
          "date": "1998-01-16T20:44:24.324324",
          "score": 0.1854841330909129
         },
         {
          "date": "1998-02-01T22:33:57.297297",
          "score": 0.1859628866743795
         },
         {
          "date": "1998-02-18T00:23:30.270270",
          "score": 0.1864410839434243
         },
         {
          "date": "1998-03-06T02:13:03.243243",
          "score": 0.18691872346750338
         },
         {
          "date": "1998-03-22T04:02:36.216216",
          "score": 0.18739580381774185
         },
         {
          "date": "1998-04-07T06:52:09.189189",
          "score": 0.18787232356693706
         },
         {
          "date": "1998-04-23T08:41:42.162162",
          "score": 0.1883482812895638
         },
         {
          "date": "1998-05-09T10:31:15.135135",
          "score": 0.188823675561778
         },
         {
          "date": "1998-05-25T12:20:48.108108",
          "score": 0.18929850496142123
         },
         {
          "date": "1998-06-10T14:10:21.081081",
          "score": 0.18977276806802482
         },
         {
          "date": "1998-06-26T15:59:54.054054",
          "score": 0.19024646346281432
         },
         {
          "date": "1998-07-12T17:49:27.027027",
          "score": 0.19071958972871347
         },
         {
          "date": "1998-07-28T19:39:00",
          "score": 0.1911921454503487
         },
         {
          "date": "1998-08-13T21:28:32.972973",
          "score": 0.1916641292140532
         },
         {
          "date": "1998-08-29T23:18:05.945946",
          "score": 0.19213553960787116
         },
         {
          "date": "1998-09-15T01:07:38.918919",
          "score": 0.192606375221562
         },
         {
          "date": "1998-10-01T02:57:11.891892",
          "score": 0.1930766346466047
         },
         {
          "date": "1998-10-17T04:46:44.864865",
          "score": 0.19354631647620185
         },
         {
          "date": "1998-11-02T05:36:17.837838",
          "score": 0.19401541930528407
         },
         {
          "date": "1998-11-18T07:25:50.810811",
          "score": 0.19448394173051392
         },
         {
          "date": "1998-12-04T09:15:23.783784",
          "score": 0.1949518823502903
         },
         {
          "date": "1998-12-20T11:04:56.756757",
          "score": 0.19541923976475264
         },
         {
          "date": "1999-01-05T12:54:29.729730",
          "score": 0.19588601257578508
         },
         {
          "date": "1999-01-21T14:44:02.702703",
          "score": 0.19635219938702053
         },
         {
          "date": "1999-02-06T16:33:35.675676",
          "score": 0.196817798803845
         },
         {
          "date": "1999-02-22T18:23:08.648649",
          "score": 0.19728280943340168
         },
         {
          "date": "1999-03-10T20:12:41.621622",
          "score": 0.19774722988459514
         },
         {
          "date": "1999-03-26T22:02:14.594595",
          "score": 0.19821105876809555
         },
         {
          "date": "1999-04-12T00:51:47.567568",
          "score": 0.19867429469634276
         },
         {
          "date": "1999-04-28T02:41:20.540541",
          "score": 0.19913693628355028
         },
         {
          "date": "1999-05-14T04:30:53.513514",
          "score": 0.1995989821457099
         },
         {
          "date": "1999-05-30T06:20:26.486487",
          "score": 0.20006043090059536
         },
         {
          "date": "1999-06-15T08:09:59.459459",
          "score": 0.20052128116776669
         },
         {
          "date": "1999-07-01T09:59:32.432432",
          "score": 0.20098153156857437
         },
         {
          "date": "1999-07-17T11:49:05.405405",
          "score": 0.2014411807261634
         },
         {
          "date": "1999-08-02T13:38:38.378378",
          "score": 0.20190022726547738
         },
         {
          "date": "1999-08-18T15:28:11.351351",
          "score": 0.20235866981326261
         },
         {
          "date": "1999-09-03T17:17:44.324324",
          "score": 0.20281650699807244
         },
         {
          "date": "1999-09-19T19:07:17.297297",
          "score": 0.20327373745027089
         },
         {
          "date": "1999-10-05T20:56:50.270270",
          "score": 0.20373035980203735
         },
         {
          "date": "1999-10-21T22:46:23.243243",
          "score": 0.20418637268737014
         },
         {
          "date": "1999-11-06T23:35:56.216216",
          "score": 0.204641774742091
         },
         {
          "date": "1999-11-23T01:25:29.189189",
          "score": 0.2050965646038488
         },
         {
          "date": "1999-12-09T03:15:02.162162",
          "score": 0.20555074091212397
         },
         {
          "date": "1999-12-25T05:04:35.135135",
          "score": 0.20600430230823233
         },
         {
          "date": "2000-01-10T06:54:08.108108",
          "score": 0.20645724743532926
         },
         {
          "date": "2000-01-26T08:43:41.081081",
          "score": 0.2069095749384136
         },
         {
          "date": "2000-02-11T10:33:14.054054",
          "score": 0.20736128346433205
         },
         {
          "date": "2000-02-27T12:22:47.027027",
          "score": 0.20781237166178287
         },
         {
          "date": "2000-03-14T14:12:20",
          "score": 0.20826283818132008
         },
         {
          "date": "2000-03-30T17:01:52.972973",
          "score": 0.2087126816753575
         },
         {
          "date": "2000-04-15T18:51:25.945946",
          "score": 0.20916190079817265
         },
         {
          "date": "2000-05-01T20:40:58.918919",
          "score": 0.20961049420591107
         },
         {
          "date": "2000-05-17T22:30:31.891892",
          "score": 0.21005846055658994
         },
         {
          "date": "2000-06-03T00:20:04.864865",
          "score": 0.21050579851010237
         },
         {
          "date": "2000-06-19T02:09:37.837838",
          "score": 0.2109525067282214
         },
         {
          "date": "2000-07-05T03:59:10.810811",
          "score": 0.21139858387460395
         },
         {
          "date": "2000-07-21T05:48:43.783784",
          "score": 0.21184402861479473
         },
         {
          "date": "2000-08-06T07:38:16.756757",
          "score": 0.21228883961623038
         },
         {
          "date": "2000-08-22T09:27:49.729730",
          "score": 0.21273301554824334
         },
         {
          "date": "2000-09-07T11:17:22.702703",
          "score": 0.21317655508206593
         },
         {
          "date": "2000-09-23T13:06:55.675676",
          "score": 0.21361945689083434
         },
         {
          "date": "2000-10-09T14:56:28.648649",
          "score": 0.21406171964959222
         },
         {
          "date": "2000-10-25T16:46:01.621622",
          "score": 0.21450334203529545
         },
         {
          "date": "2000-11-10T17:35:34.594595",
          "score": 0.2149443227268153
         },
         {
          "date": "2000-11-26T19:25:07.567568",
          "score": 0.21538466040494259
         },
         {
          "date": "2000-12-12T21:14:40.540541",
          "score": 0.21582435375239206
         },
         {
          "date": "2000-12-28T23:04:13.513514",
          "score": 0.21626340145380582
         },
         {
          "date": "2001-01-14T00:53:46.486487",
          "score": 0.21670180219575733
         },
         {
          "date": "2001-01-30T02:43:19.459459",
          "score": 0.21713955466675564
         },
         {
          "date": "2001-02-15T04:32:52.432432",
          "score": 0.21757665755724903
         },
         {
          "date": "2001-03-03T06:22:25.405405",
          "score": 0.2180131095596291
         },
         {
          "date": "2001-03-19T08:11:58.378378",
          "score": 0.21844890936823458
         },
         {
          "date": "2001-04-04T11:01:31.351351",
          "score": 0.21888405567935515
         },
         {
          "date": "2001-04-20T12:51:04.324324",
          "score": 0.21931854719123559
         },
         {
          "date": "2001-05-06T14:40:37.297297",
          "score": 0.21975238260407945
         },
         {
          "date": "2001-05-22T16:30:10.270270",
          "score": 0.22018556062005307
         },
         {
          "date": "2001-06-07T18:19:43.243243",
          "score": 0.22061807994328936
         },
         {
          "date": "2001-06-23T20:09:16.216216",
          "score": 0.22104993927989183
         },
         {
          "date": "2001-07-09T21:58:49.189189",
          "score": 0.2214811373379383
         },
         {
          "date": "2001-07-25T23:48:22.162162",
          "score": 0.22191167282748483
         },
         {
          "date": "2001-08-11T01:37:55.135135",
          "score": 0.2223415444605696
         },
         {
          "date": "2001-08-27T03:27:28.108108",
          "score": 0.22277075095121657
         },
         {
          "date": "2001-09-12T05:17:01.081081",
          "score": 0.22319929101543984
         },
         {
          "date": "2001-09-28T07:06:34.054054",
          "score": 0.2236271633712468
         },
         {
          "date": "2001-10-14T08:56:07.027027",
          "score": 0.22405436673864257
         },
         {
          "date": "2001-10-30T09:45:40",
          "score": 0.22448089983963346
         },
         {
          "date": "2001-11-15T11:35:12.972973",
          "score": 0.22490676139823088
         },
         {
          "date": "2001-12-01T13:24:45.945946",
          "score": 0.2253319501404552
         },
         {
          "date": "2001-12-17T15:14:18.918919",
          "score": 0.2257564647943396
         },
         {
          "date": "2002-01-02T17:03:51.891892",
          "score": 0.22618030408993375
         },
         {
          "date": "2002-01-18T18:53:24.864865",
          "score": 0.22660346675930773
         },
         {
          "date": "2002-02-03T20:42:57.837838",
          "score": 0.22702595153655566
         },
         {
          "date": "2002-02-19T22:32:30.810811",
          "score": 0.2274477571577998
         },
         {
          "date": "2002-03-08T00:22:03.783784",
          "score": 0.22786888236119393
         },
         {
          "date": "2002-03-24T02:11:36.756757",
          "score": 0.22828932588692746
         },
         {
          "date": "2002-04-09T05:01:09.729730",
          "score": 0.22870908647722898
         },
         {
          "date": "2002-04-25T06:50:42.702703",
          "score": 0.22912816287637014
         },
         {
          "date": "2002-05-11T08:40:15.675676",
          "score": 0.22954655383066935
         },
         {
          "date": "2002-05-27T10:29:48.648649",
          "score": 0.2299642580884956
         },
         {
          "date": "2002-06-12T12:19:21.621622",
          "score": 0.23038127440027206
         },
         {
          "date": "2002-06-28T14:08:54.594595",
          "score": 0.2307976015184801
         },
         {
          "date": "2002-07-14T15:58:27.567568",
          "score": 0.2312132381976626
         },
         {
          "date": "2002-07-30T17:48:00.540541",
          "score": 0.23162818319442807
         },
         {
          "date": "2002-08-15T19:37:33.513514",
          "score": 0.23204243526745413
         },
         {
          "date": "2002-08-31T21:27:06.486487",
          "score": 0.23245599317749144
         },
         {
          "date": "2002-09-16T23:16:39.459459",
          "score": 0.232868855687367
         },
         {
          "date": "2002-10-03T01:06:12.432432",
          "score": 0.2332810215619885
         },
         {
          "date": "2002-10-19T02:55:45.405405",
          "score": 0.23369248956834723
         },
         {
          "date": "2002-11-04T03:45:18.378378",
          "score": 0.23410325847552263
         },
         {
          "date": "2002-11-20T05:34:51.351351",
          "score": 0.23451332705468514
         },
         {
          "date": "2002-12-06T07:24:24.324324",
          "score": 0.23492269407910035
         },
         {
          "date": "2002-12-22T09:13:57.297297",
          "score": 0.23533135832413268
         },
         {
          "date": "2003-01-07T11:03:30.270270",
          "score": 0.23573931856724886
         },
         {
          "date": "2003-01-23T12:53:03.243243",
          "score": 0.23614657358802166
         },
         {
          "date": "2003-02-08T14:42:36.216216",
          "score": 0.2365531221681336
         },
         {
          "date": "2003-02-24T16:32:09.189189",
          "score": 0.23695896309138054
         },
         {
          "date": "2003-03-12T18:21:42.162162",
          "score": 0.23736409514367518
         },
         {
          "date": "2003-03-28T20:11:15.135135",
          "score": 0.23776851711305105
         },
         {
          "date": "2003-04-13T23:00:48.108108",
          "score": 0.2381722277896658
         },
         {
          "date": "2003-04-30T00:50:21.081081",
          "score": 0.23857522596580488
         },
         {
          "date": "2003-05-16T02:39:54.054054",
          "score": 0.23897751043588525
         },
         {
          "date": "2003-06-01T04:29:27.027027",
          "score": 0.2393790799964591
         },
         {
          "date": "2003-06-17T06:19:00",
          "score": 0.2397799334462171
         },
         {
          "date": "2003-07-03T08:08:32.972973",
          "score": 0.24018006958599225
         },
         {
          "date": "2003-07-19T09:58:05.945946",
          "score": 0.24057948721876346
         },
         {
          "date": "2003-08-04T11:47:38.918919",
          "score": 0.2409781851496589
         },
         {
          "date": "2003-08-20T13:37:11.891892",
          "score": 0.24137616218596014
         },
         {
          "date": "2003-09-05T15:26:44.864865",
          "score": 0.24177341713710487
         },
         {
          "date": "2003-09-21T17:16:17.837838",
          "score": 0.24216994881469112
         },
         {
          "date": "2003-10-07T19:05:50.810811",
          "score": 0.24256575603248082
         },
         {
          "date": "2003-10-23T20:55:23.783784",
          "score": 0.2429608376064028
         },
         {
          "date": "2003-11-08T21:44:56.756757",
          "score": 0.24335519235455685
         },
         {
          "date": "2003-11-24T23:34:29.729730",
          "score": 0.24374881909721716
         },
         {
          "date": "2003-12-11T01:24:02.702703",
          "score": 0.2441417166568356
         },
         {
          "date": "2003-12-27T03:13:35.675676",
          "score": 0.2445338838580456
         },
         {
          "date": "2004-01-12T05:03:08.648649",
          "score": 0.24492531952766522
         },
         {
          "date": "2004-01-28T06:52:41.621622",
          "score": 0.24531602249470116
         },
         {
          "date": "2004-02-13T08:42:14.594594",
          "score": 0.24570599159035195
         },
         {
          "date": "2004-02-29T10:31:47.567568",
          "score": 0.24609522564801165
         },
         {
          "date": "2004-03-16T12:21:20.540541",
          "score": 0.24648372350327297
         },
         {
          "date": "2004-04-01T15:10:53.513514",
          "score": 0.246871483993931
         },
         {
          "date": "2004-04-17T17:00:26.486486",
          "score": 0.24725850595998694
         },
         {
          "date": "2004-05-03T18:49:59.459460",
          "score": 0.2476447882436512
         },
         {
          "date": "2004-05-19T20:39:32.432432",
          "score": 0.24803032968934677
         },
         {
          "date": "2004-06-04T22:29:05.405406",
          "score": 0.2484151291437132
         },
         {
          "date": "2004-06-21T00:18:38.378378",
          "score": 0.2487991854556095
         },
         {
          "date": "2004-07-07T02:08:11.351351",
          "score": 0.24918249747611784
         },
         {
          "date": "2004-07-23T03:57:44.324324",
          "score": 0.24956506405854728
         },
         {
          "date": "2004-08-08T05:47:17.297297",
          "score": 0.24994688405843637
         },
         {
          "date": "2004-08-24T07:36:50.270270",
          "score": 0.25032795633355737
         },
         {
          "date": "2004-09-09T09:26:23.243243",
          "score": 0.2507082797439195
         },
         {
          "date": "2004-09-25T11:15:56.216216",
          "score": 0.25108785315177196
         },
         {
          "date": "2004-10-11T13:05:29.189189",
          "score": 0.25146667542160783
         },
         {
          "date": "2004-10-27T14:55:02.162162",
          "score": 0.25184474542016716
         },
         {
          "date": "2004-11-12T15:44:35.135135",
          "score": 0.2522220620164404
         },
         {
          "date": "2004-11-28T17:34:08.108108",
          "score": 0.2525986240816718
         },
         {
          "date": "2004-12-14T19:23:41.081081",
          "score": 0.252974430489363
         },
         {
          "date": "2004-12-30T21:13:14.054054",
          "score": 0.2533494801152761
         },
         {
          "date": "2005-01-15T23:02:47.027027",
          "score": 0.2537237718374371
         },
         {
          "date": "2005-02-01T00:52:20",
          "score": 0.2540973045361394
         },
         {
          "date": "2005-02-17T02:41:52.972973",
          "score": 0.2544700770939468
         },
         {
          "date": "2005-03-05T04:31:25.945946",
          "score": 0.25484208839569755
         },
         {
          "date": "2005-03-21T06:20:58.918919",
          "score": 0.25521333732850676
         },
         {
          "date": "2005-04-06T09:10:31.891892",
          "score": 0.25558382278177044
         },
         {
          "date": "2005-04-22T11:00:04.864865",
          "score": 0.25595354364716844
         },
         {
          "date": "2005-05-08T12:49:37.837838",
          "score": 0.25632249881866803
         },
         {
          "date": "2005-05-24T14:39:10.810811",
          "score": 0.2566906871925271
         },
         {
          "date": "2005-06-09T16:28:43.783784",
          "score": 0.2570581076672973
         },
         {
          "date": "2005-06-25T18:18:16.756757",
          "score": 0.2574247591438274
         },
         {
          "date": "2005-07-11T20:07:49.729730",
          "score": 0.257790640525267
         },
         {
          "date": "2005-07-27T21:57:22.702703",
          "score": 0.25815575071706925
         },
         {
          "date": "2005-08-12T23:46:55.675676",
          "score": 0.2585200886269943
         },
         {
          "date": "2005-08-29T01:36:28.648649",
          "score": 0.25888365316511264
         },
         {
          "date": "2005-09-14T03:26:01.621622",
          "score": 0.25924644324380836
         },
         {
          "date": "2005-09-30T05:15:34.594594",
          "score": 0.2596084577777823
         },
         {
          "date": "2005-10-16T07:05:07.567568",
          "score": 0.25996969568405565
         },
         {
          "date": "2005-11-01T07:54:40.540541",
          "score": 0.26033015588197256
         },
         {
          "date": "2005-11-17T09:44:13.513514",
          "score": 0.2606898372932037
         },
         {
          "date": "2005-12-03T11:33:46.486486",
          "score": 0.26104873884174995
         },
         {
          "date": "2005-12-19T13:23:19.459460",
          "score": 0.2614068594539447
         },
         {
          "date": "2006-01-04T15:12:52.432432",
          "score": 0.26176419805845774
         },
         {
          "date": "2006-01-20T17:02:25.405406",
          "score": 0.26212075358629827
         },
         {
          "date": "2006-02-05T18:51:58.378378",
          "score": 0.262476524970818
         },
         {
          "date": "2006-02-21T20:41:31.351351",
          "score": 0.2628315111477147
         },
         {
          "date": "2006-03-09T22:31:04.324324",
          "score": 0.26318571105503474
         },
         {
          "date": "2006-03-26T00:20:37.297297",
          "score": 0.263539123633177
         },
         {
          "date": "2006-04-11T03:10:10.270270",
          "score": 0.26389174782489516
         },
         {
          "date": "2006-04-27T04:59:43.243243",
          "score": 0.264243582575302
         },
         {
          "date": "2006-05-13T06:49:16.216216",
          "score": 0.2645946268318716
         },
         {
          "date": "2006-05-29T08:38:49.189189",
          "score": 0.26494487954444296
         },
         {
          "date": "2006-06-14T10:28:22.162162",
          "score": 0.26529433966522287
         },
         {
          "date": "2006-06-30T12:17:55.135135",
          "score": 0.2656430061487893
         },
         {
          "date": "2006-07-16T14:07:28.108108",
          "score": 0.26599087795209425
         },
         {
          "date": "2006-08-01T15:57:01.081081",
          "score": 0.2663379540344675
         },
         {
          "date": "2006-08-17T17:46:34.054054",
          "score": 0.26668423335761854
         },
         {
          "date": "2006-09-02T19:36:07.027027",
          "score": 0.26702971488564087
         },
         {
          "date": "2006-09-18T21:25:40",
          "score": 0.26737439758501463
         },
         {
          "date": "2006-10-04T23:15:12.972973",
          "score": 0.2677182804246095
         },
         {
          "date": "2006-10-21T01:04:45.945946",
          "score": 0.2680613623756881
         },
         {
          "date": "2006-11-06T01:54:18.918919",
          "score": 0.26840364241190895
         },
         {
          "date": "2006-11-22T03:43:51.891892",
          "score": 0.2687451195093292
         },
         {
          "date": "2006-12-08T05:33:24.864865",
          "score": 0.2690857926464085
         },
         {
          "date": "2006-12-24T07:22:57.837838",
          "score": 0.2694256608040112
         },
         {
          "date": "2007-01-09T09:12:30.810811",
          "score": 0.26976472296541015
         },
         {
          "date": "2007-01-25T11:02:03.783784",
          "score": 0.27010297811628897
         },
         {
          "date": "2007-02-10T12:51:36.756757",
          "score": 0.2704404252447456
         },
         {
          "date": "2007-02-26T14:41:09.729730",
          "score": 0.2707770633412953
         },
         {
          "date": "2007-03-14T16:30:42.702703",
          "score": 0.2711128913988737
         },
         {
          "date": "2007-03-30T19:20:15.675676",
          "score": 0.27144790841283933
         },
         {
          "date": "2007-04-15T21:09:48.648649",
          "score": 0.27178211338097724
         },
         {
          "date": "2007-05-01T22:59:21.621622",
          "score": 0.27211550530350165
         },
         {
          "date": "2007-05-18T00:48:54.594594",
          "score": 0.27244808318305913
         },
         {
          "date": "2007-06-03T02:38:27.567568",
          "score": 0.27277984602473143
         },
         {
          "date": "2007-06-19T04:28:00.540541",
          "score": 0.2731107928360385
         },
         {
          "date": "2007-07-05T06:17:33.513514",
          "score": 0.27344092262694136
         },
         {
          "date": "2007-07-21T08:07:06.486486",
          "score": 0.2737702344098455
         },
         {
          "date": "2007-08-06T09:56:39.459460",
          "score": 0.27409872719960315
         },
         {
          "date": "2007-08-22T11:46:12.432432",
          "score": 0.2744264000135168
         },
         {
          "date": "2007-09-07T13:35:45.405406",
          "score": 0.2747532518713419
         },
         {
          "date": "2007-09-23T15:25:18.378378",
          "score": 0.27507928179528973
         },
         {
          "date": "2007-10-09T17:14:51.351351",
          "score": 0.2754044888100304
         },
         {
          "date": "2007-10-25T19:04:24.324324",
          "score": 0.2757288719426961
         },
         {
          "date": "2007-11-10T19:53:57.297297",
          "score": 0.2760524302228832
         },
         {
          "date": "2007-11-26T21:43:30.270270",
          "score": 0.2763751626826559
         },
         {
          "date": "2007-12-12T23:33:03.243243",
          "score": 0.276697068356549
         },
         {
          "date": "2007-12-29T01:22:36.216216",
          "score": 0.27701814628157045
         },
         {
          "date": "2008-01-14T03:12:09.189189",
          "score": 0.27733839549720457
         },
         {
          "date": "2008-01-30T05:01:42.162162",
          "score": 0.2776578150454146
         },
         {
          "date": "2008-02-15T06:51:15.135135",
          "score": 0.277976403970646
         },
         {
          "date": "2008-03-02T08:40:48.108108",
          "score": 0.27829416131982887
         },
         {
          "date": "2008-03-18T10:30:21.081081",
          "score": 0.2786110861423811
         },
         {
          "date": "2008-04-03T13:19:54.054054",
          "score": 0.27892717749021123
         },
         {
          "date": "2008-04-19T15:09:27.027027",
          "score": 0.27924243441772084
         },
         {
          "date": "2008-05-05T16:59:00",
          "score": 0.279556855981808
         },
         {
          "date": "2008-05-21T18:48:32.972973",
          "score": 0.27987044124186977
         },
         {
          "date": "2008-06-06T20:38:05.945946",
          "score": 0.28018318925980484
         },
         {
          "date": "2008-06-22T22:27:38.918919",
          "score": 0.2804950991000168
         },
         {
          "date": "2008-07-09T00:17:11.891892",
          "score": 0.2808061698294164
         },
         {
          "date": "2008-07-25T02:06:44.864865",
          "score": 0.28111640051742487
         },
         {
          "date": "2008-08-10T03:56:17.837838",
          "score": 0.2814257902359763
         },
         {
          "date": "2008-08-26T05:45:50.810811",
          "score": 0.28173433805952075
         },
         {
          "date": "2008-09-11T07:35:23.783784",
          "score": 0.28204204306502667
         },
         {
          "date": "2008-09-27T09:24:56.756757",
          "score": 0.2823489043319836
         },
         {
          "date": "2008-10-13T11:14:29.729730",
          "score": 0.28265492094240585
         },
         {
          "date": "2008-10-29T12:04:02.702703",
          "score": 0.2829600919808338
         },
         {
          "date": "2008-11-14T13:53:35.675676",
          "score": 0.28326441653433787
         },
         {
          "date": "2008-11-30T15:43:08.648649",
          "score": 0.28356789369252056
         },
         {
          "date": "2008-12-16T17:32:41.621622",
          "score": 0.2838705225475193
         },
         {
          "date": "2009-01-01T19:22:14.594594",
          "score": 0.2841723021940097
         },
         {
          "date": "2009-01-17T21:11:47.567568",
          "score": 0.28447323172920724
         },
         {
          "date": "2009-02-02T23:01:20.540541",
          "score": 0.28477331025287084
         },
         {
          "date": "2009-02-19T00:50:53.513514",
          "score": 0.28507253686730516
         },
         {
          "date": "2009-03-07T02:40:26.486486",
          "score": 0.2853709106773635
         },
         {
          "date": "2009-03-23T04:29:59.459460",
          "score": 0.2856684307904502
         },
         {
          "date": "2009-04-08T07:19:32.432432",
          "score": 0.2859650963165235
         },
         {
          "date": "2009-04-24T09:09:05.405406",
          "score": 0.28626090636809826
         },
         {
          "date": "2009-05-10T10:58:38.378378",
          "score": 0.28655586006024847
         },
         {
          "date": "2009-05-26T12:48:11.351351",
          "score": 0.2868499565106098
         },
         {
          "date": "2009-06-11T14:37:44.324324",
          "score": 0.28714319483938266
         },
         {
          "date": "2009-06-27T16:27:17.297297",
          "score": 0.2874355741693345
         },
         {
          "date": "2009-07-13T18:16:50.270270",
          "score": 0.2877270936258022
         },
         {
          "date": "2009-07-29T20:06:23.243243",
          "score": 0.28801775233669524
         },
         {
          "date": "2009-08-14T21:55:56.216216",
          "score": 0.28830754943249814
         },
         {
          "date": "2009-08-30T23:45:29.189189",
          "score": 0.28859648404627286
         },
         {
          "date": "2009-09-16T01:35:02.162162",
          "score": 0.28888455531366125
         },
         {
          "date": "2009-10-02T03:24:35.135135",
          "score": 0.2891717623728884
         },
         {
          "date": "2009-10-18T05:14:08.108108",
          "score": 0.2894581043647642
         },
         {
          "date": "2009-11-03T06:03:41.081081",
          "score": 0.2897435804326869
         },
         {
          "date": "2009-11-19T07:53:14.054054",
          "score": 0.29002818972264477
         },
         {
          "date": "2009-12-05T09:42:47.027027",
          "score": 0.2903119313832193
         },
         {
          "date": "2009-12-21T11:32:20",
          "score": 0.2905948045655875
         },
         {
          "date": "2010-01-06T13:21:52.972973",
          "score": 0.29087680842352437
         },
         {
          "date": "2010-01-22T15:11:25.945946",
          "score": 0.29115794211340573
         },
         {
          "date": "2010-02-07T17:00:58.918919",
          "score": 0.29143820479421023
         },
         {
          "date": "2010-02-23T18:50:31.891892",
          "score": 0.2917175956275225
         },
         {
          "date": "2010-03-11T20:40:04.864865",
          "score": 0.291996113777535
         },
         {
          "date": "2010-03-27T22:29:37.837838",
          "score": 0.2922737584110512
         },
         {
          "date": "2010-04-13T01:19:10.810811",
          "score": 0.29255052869748743
         },
         {
          "date": "2010-04-29T03:08:43.783784",
          "score": 0.29282642380887597
         },
         {
          "date": "2010-05-15T04:58:16.756757",
          "score": 0.29310144291986684
         },
         {
          "date": "2010-05-31T06:47:49.729730",
          "score": 0.2933755852077309
         },
         {
          "date": "2010-06-16T08:37:22.702703",
          "score": 0.293648849852362
         },
         {
          "date": "2010-07-02T10:26:55.675676",
          "score": 0.29392123603627945
         },
         {
          "date": "2010-07-18T12:16:28.648649",
          "score": 0.29419274294463055
         },
         {
          "date": "2010-08-03T14:06:01.621622",
          "score": 0.294463369765193
         },
         {
          "date": "2010-08-19T15:55:34.594594",
          "score": 0.2947331156883773
         },
         {
          "date": "2010-09-04T17:45:07.567568",
          "score": 0.29500197990722915
         },
         {
          "date": "2010-09-20T19:34:40.540541",
          "score": 0.29526996161743196
         },
         {
          "date": "2010-10-06T21:24:13.513514",
          "score": 0.29553706001730895
         },
         {
          "date": "2010-10-22T23:13:46.486486",
          "score": 0.29580327430782627
         },
         {
          "date": "2010-11-08T00:03:19.459460",
          "score": 0.2960686036925945
         },
         {
          "date": "2010-11-24T01:52:52.432432",
          "score": 0.2963330473778716
         },
         {
          "date": "2010-12-10T03:42:25.405406",
          "score": 0.29659660457256515
         },
         {
          "date": "2010-12-26T05:31:58.378378",
          "score": 0.2968592744882346
         },
         {
          "date": "2011-01-11T07:21:31.351351",
          "score": 0.29712105633909386
         },
         {
          "date": "2011-01-27T09:11:04.324324",
          "score": 0.2973819493420134
         },
         {
          "date": "2011-02-12T11:00:37.297297",
          "score": 0.29764195271652294
         },
         {
          "date": "2011-02-28T12:50:10.270270",
          "score": 0.29790106568481306
         },
         {
          "date": "2011-03-16T14:39:43.243243",
          "score": 0.2981592874717385
         },
         {
          "date": "2011-04-01T17:29:16.216216",
          "score": 0.2984166173048198
         },
         {
          "date": "2011-04-17T19:18:49.189189",
          "score": 0.2986730544142459
         },
         {
          "date": "2011-05-03T21:08:22.162162",
          "score": 0.29892859803287636
         },
         {
          "date": "2011-05-19T22:57:55.135135",
          "score": 0.2991832473962434
         },
         {
          "date": "2011-06-05T00:47:28.108108",
          "score": 0.2994370017425547
         },
         {
          "date": "2011-06-21T02:37:01.081081",
          "score": 0.2996898603126954
         },
         {
          "date": "2011-07-07T04:26:34.054054",
          "score": 0.2999418223502303
         },
         {
          "date": "2011-07-23T06:16:07.027027",
          "score": 0.3001928871014062
         },
         {
          "date": "2011-08-08T08:05:40",
          "score": 0.3004430538151541
         },
         {
          "date": "2011-08-24T09:55:12.972973",
          "score": 0.3006923217430918
         },
         {
          "date": "2011-09-09T11:44:45.945946",
          "score": 0.3009406901395255
         },
         {
          "date": "2011-09-25T13:34:18.918919",
          "score": 0.30118815826145257
         },
         {
          "date": "2011-10-11T15:23:51.891892",
          "score": 0.3014347253685636
         },
         {
          "date": "2011-10-27T17:13:24.864865",
          "score": 0.30168039072324443
         },
         {
          "date": "2011-11-12T18:02:57.837838",
          "score": 0.30192515359057875
         },
         {
          "date": "2011-11-28T19:52:30.810811",
          "score": 0.30216901323835
         },
         {
          "date": "2011-12-14T21:42:03.783784",
          "score": 0.3024119689370435
         },
         {
          "date": "2011-12-30T23:31:36.756757",
          "score": 0.30265401995984875
         },
         {
          "date": "2012-01-16T01:21:09.729730",
          "score": 0.3028951655826619
         },
         {
          "date": "2012-02-01T03:10:42.702703",
          "score": 0.30313540508408743
         },
         {
          "date": "2012-02-17T05:00:15.675676",
          "score": 0.30337473774544044
         },
         {
          "date": "2012-03-04T06:49:48.648649",
          "score": 0.3036131628507491
         },
         {
          "date": "2012-03-20T08:39:21.621622",
          "score": 0.3038506796867563
         },
         {
          "date": "2012-04-05T11:28:54.594594",
          "score": 0.30408728754292236
         },
         {
          "date": "2012-04-21T13:18:27.567568",
          "score": 0.3043229857114266
         },
         {
          "date": "2012-05-07T15:08:00.540541",
          "score": 0.3045577734871698
         },
         {
          "date": "2012-05-23T16:57:33.513514",
          "score": 0.3047916501677761
         },
         {
          "date": "2012-06-08T18:47:06.486486",
          "score": 0.30502461505359535
         },
         {
          "date": "2012-06-24T20:36:39.459460",
          "score": 0.30525666744770513
         },
         {
          "date": "2012-07-10T22:26:12.432432",
          "score": 0.3054878066559125
         },
         {
          "date": "2012-07-27T00:15:45.405406",
          "score": 0.3057180319867566
         },
         {
          "date": "2012-08-12T02:05:18.378378",
          "score": 0.3059473427515103
         },
         {
          "date": "2012-08-28T03:54:51.351351",
          "score": 0.3061757382641826
         },
         {
          "date": "2012-09-13T05:44:24.324324",
          "score": 0.30640321784152036
         },
         {
          "date": "2012-09-29T07:33:57.297297",
          "score": 0.30662978080301057
         },
         {
          "date": "2012-10-15T09:23:30.270270",
          "score": 0.3068554264708821
         },
         {
          "date": "2012-10-31T10:13:03.243243",
          "score": 0.30708015417010825
         },
         {
          "date": "2012-11-16T12:02:36.216216",
          "score": 0.30730396322840836
         },
         {
          "date": "2012-12-02T13:52:09.189189",
          "score": 0.3075268529762499
         },
         {
          "date": "2012-12-18T15:41:42.162162",
          "score": 0.30774882274685034
         },
         {
          "date": "2013-01-03T17:31:15.135135",
          "score": 0.30807469645415114
         },
         {
          "date": "2013-01-19T19:20:48.108108",
          "score": 0.31060094401457927
         },
         {
          "date": "2013-02-04T21:10:21.081081",
          "score": 0.31312615421559614
         },
         {
          "date": "2013-02-20T22:59:54.054054",
          "score": 0.3156502160259812
         },
         {
          "date": "2013-03-09T00:49:27.027027",
          "score": 0.3181730184280822
         },
         {
          "date": "2013-03-25T02:39:00",
          "score": 0.32069445042309613
         },
         {
          "date": "2013-04-10T05:28:32.972973",
          "score": 0.32321440103635657
         },
         {
          "date": "2013-04-26T07:18:05.945946",
          "score": 0.32573275932261275
         },
         {
          "date": "2013-05-12T09:07:38.918919",
          "score": 0.3282494143713139
         },
         {
          "date": "2013-05-28T10:57:11.891892",
          "score": 0.33076425531188836
         },
         {
          "date": "2013-06-13T12:46:44.864865",
          "score": 0.3332771713190195
         },
         {
          "date": "2013-06-29T14:36:17.837838",
          "score": 0.33578805161792535
         },
         {
          "date": "2013-07-15T16:25:50.810811",
          "score": 0.3382967854896288
         },
         {
          "date": "2013-07-31T18:15:23.783784",
          "score": 0.3408032622762322
         },
         {
          "date": "2013-08-16T20:04:56.756757",
          "score": 0.34330737138618217
         },
         {
          "date": "2013-09-01T21:54:29.729730",
          "score": 0.3458090022995381
         },
         {
          "date": "2013-09-17T23:44:02.702703",
          "score": 0.3483080445732328
         },
         {
          "date": "2013-10-04T01:33:35.675676",
          "score": 0.3508043878463298
         },
         {
          "date": "2013-10-20T03:23:08.648649",
          "score": 0.353297921845281
         },
         {
          "date": "2013-11-05T04:12:41.621622",
          "score": 0.35578853638917374
         },
         {
          "date": "2013-11-21T06:02:14.594595",
          "score": 0.3582761213949807
         },
         {
          "date": "2013-12-07T07:51:47.567568",
          "score": 0.36076056688279806
         },
         {
          "date": "2013-12-23T09:41:20.540540",
          "score": 0.36324176298108557
         },
         {
          "date": "2014-01-08T11:30:53.513514",
          "score": 0.36571959993189695
         },
         {
          "date": "2014-01-24T13:20:26.486486",
          "score": 0.3681939680961055
         },
         {
          "date": "2014-02-09T15:09:59.459460",
          "score": 0.37066475795862774
         },
         {
          "date": "2014-02-25T16:59:32.432432",
          "score": 0.37313186013363536
         },
         {
          "date": "2014-03-13T18:49:05.405406",
          "score": 0.3755951653697679
         },
         {
          "date": "2014-03-29T20:38:38.378378",
          "score": 0.3780545645553317
         },
         {
          "date": "2014-04-14T23:28:11.351351",
          "score": 0.38050994872350025
         },
         {
          "date": "2014-05-01T01:17:44.324324",
          "score": 0.3829612090574994
         },
         {
          "date": "2014-05-17T03:07:17.297297",
          "score": 0.38540823689579357
         },
         {
          "date": "2014-06-02T04:56:50.270270",
          "score": 0.38785092373725893
         },
         {
          "date": "2014-06-18T06:46:23.243243",
          "score": 0.39028916124635
         },
         {
          "date": "2014-07-04T08:35:56.216216",
          "score": 0.3927228412582623
         },
         {
          "date": "2014-07-20T10:25:29.189189",
          "score": 0.3951518557840806
         },
         {
          "date": "2014-08-05T12:15:02.162162",
          "score": 0.39757609701592567
         },
         {
          "date": "2014-08-21T14:04:35.135135",
          "score": 0.39999545733208586
         },
         {
          "date": "2014-09-06T15:54:08.108108",
          "score": 0.4024098293021461
         },
         {
          "date": "2014-09-22T17:43:41.081081",
          "score": 0.40481910569210383
         },
         {
          "date": "2014-10-08T19:33:14.054054",
          "score": 0.40722317946947495
         },
         {
          "date": "2014-10-24T21:22:47.027027",
          "score": 0.40962194380839595
         },
         {
          "date": "2014-11-09T22:12:20",
          "score": 0.41201529209470816
         },
         {
          "date": "2014-11-26T00:01:52.972973",
          "score": 0.41440311793103984
         },
         {
          "date": "2014-12-12T01:51:25.945946",
          "score": 0.41678531514187167
         },
         {
          "date": "2014-12-28T03:40:58.918919",
          "score": 0.4191617777785966
         },
         {
          "date": "2015-01-13T05:30:31.891892",
          "score": 0.4215324001245658
         },
         {
          "date": "2015-01-29T07:20:04.864865",
          "score": 0.42389707670012394
         },
         {
          "date": "2015-02-14T09:09:37.837838",
          "score": 0.4262557022676362
         },
         {
          "date": "2015-03-02T10:59:10.810811",
          "score": 0.428608171836499
         },
         {
          "date": "2015-03-18T12:48:43.783784",
          "score": 0.43095438066814457
         },
         {
          "date": "2015-04-03T15:38:16.756757",
          "score": 0.43329422428102726
         },
         {
          "date": "2015-04-19T17:27:49.729730",
          "score": 0.43562759845560434
         },
         {
          "date": "2015-05-05T19:17:22.702703",
          "score": 0.43795439923929974
         },
         {
          "date": "2015-05-21T21:06:55.675676",
          "score": 0.44027452295145536
         },
         {
          "date": "2015-06-06T22:56:28.648649",
          "score": 0.4425878661882734
         },
         {
          "date": "2015-06-23T00:46:01.621622",
          "score": 0.4448943258277397
         },
         {
          "date": "2015-07-09T02:35:34.594595",
          "score": 0.4471937990345402
         },
         {
          "date": "2015-07-25T04:25:07.567568",
          "score": 0.449486183264957
         },
         {
          "date": "2015-08-10T06:14:40.540541",
          "score": 0.45177137627175723
         },
         {
          "date": "2015-08-26T08:04:13.513514",
          "score": 0.45404927610906215
         },
         {
          "date": "2015-09-11T09:53:46.486486",
          "score": 0.4563197811372063
         },
         {
          "date": "2015-09-27T11:43:19.459460",
          "score": 0.4585827900275797
         },
         {
          "date": "2015-10-13T13:32:52.432432",
          "score": 0.46083820176745477
         },
         {
          "date": "2015-10-29T14:22:25.405406",
          "score": 0.46308591566480173
         },
         {
          "date": "2015-11-14T16:11:58.378378",
          "score": 0.46532583135308375
         },
         {
          "date": "2015-11-30T18:01:31.351351",
          "score": 0.4675578487960424
         },
         {
          "date": "2015-12-16T19:51:04.324324",
          "score": 0.46978186829246066
         },
         {
          "date": "2016-01-01T21:40:37.297297",
          "score": 0.47199779048091733
         },
         {
          "date": "2016-01-17T23:30:10.270270",
          "score": 0.47420551634451963
         },
         {
          "date": "2016-02-03T01:19:43.243243",
          "score": 0.47640494721562116
         },
         {
          "date": "2016-02-19T03:09:16.216216",
          "score": 0.4785959847805259
         },
         {
          "date": "2016-03-06T04:58:49.189189",
          "score": 0.48077853108417007
         },
         {
          "date": "2016-03-22T06:48:22.162162",
          "score": 0.4829524885347927
         },
         {
          "date": "2016-04-07T09:37:55.135135",
          "score": 0.4851177599085842
         },
         {
          "date": "2016-04-23T11:27:28.108108",
          "score": 0.4872742483543209
         },
         {
          "date": "2016-05-09T13:17:01.081081",
          "score": 0.48942185739798033
         },
         {
          "date": "2016-05-25T15:06:34.054054",
          "score": 0.4915604909473369
         },
         {
          "date": "2016-06-10T16:56:07.027027",
          "score": 0.49369005329654425
         },
         {
          "date": "2016-06-26T18:45:40",
          "score": 0.49581044913069316
         },
         {
          "date": "2016-07-12T20:35:12.972973",
          "score": 0.4979215835303569
         },
         {
          "date": "2016-07-28T22:24:45.945946",
          "score": 0.5000233619761119
         },
         {
          "date": "2016-08-14T00:14:18.918919",
          "score": 0.5021156903530447
         },
         {
          "date": "2016-08-30T02:03:51.891892",
          "score": 0.5041984749552364
         },
         {
          "date": "2016-09-15T03:53:24.864865",
          "score": 0.506271622490228
         },
         {
          "date": "2016-10-01T05:42:57.837838",
          "score": 0.5083350400834676
         },
         {
          "date": "2016-10-17T07:32:30.810811",
          "score": 0.510388635282736
         },
         {
          "date": "2016-11-02T08:22:03.783784",
          "score": 0.5124323160625541
         },
         {
          "date": "2016-11-18T10:11:36.756757",
          "score": 0.5144659908285667
         },
         {
          "date": "2016-12-04T12:01:09.729730",
          "score": 0.516489568421911
         },
         {
          "date": "2016-12-20T13:50:42.702703",
          "score": 0.5185029581235591
         },
         {
          "date": "2017-01-05T15:40:15.675676",
          "score": 0.5205060696586419
         },
         {
          "date": "2017-01-21T17:29:48.648649",
          "score": 0.522498813200754
         },
         {
          "date": "2017-02-06T19:19:21.621622",
          "score": 0.5244810993762314
         },
         {
          "date": "2017-02-22T21:08:54.594595",
          "score": 0.5264528392684159
         },
         {
          "date": "2017-03-10T22:58:27.567568",
          "score": 0.5284139444218887
         },
         {
          "date": "2017-03-27T01:48:00.540541",
          "score": 0.5303643268466898
         },
         {
          "date": "2017-04-12T03:37:33.513514",
          "score": 0.5323038990225102
         },
         {
          "date": "2017-04-28T05:27:06.486486",
          "score": 0.5342325739028646
         },
         {
          "date": "2017-05-14T07:16:39.459460",
          "score": 0.5361502649192402
         },
         {
          "date": "2017-05-30T09:06:12.432432",
          "score": 0.5380568859852223
         },
         {
          "date": "2017-06-15T10:55:45.405406",
          "score": 0.5399523515005992
         },
         {
          "date": "2017-07-01T12:45:18.378378",
          "score": 0.5418365763554404
         },
         {
          "date": "2017-07-17T14:34:51.351351",
          "score": 0.5437094759341563
         },
         {
          "date": "2017-08-02T16:24:24.324324",
          "score": 0.5455709661195287
         },
         {
          "date": "2017-08-18T18:13:57.297297",
          "score": 0.5474209632967226
         },
         {
          "date": "2017-09-03T20:03:30.270270",
          "score": 0.5492593843572713
         },
         {
          "date": "2017-09-19T21:53:03.243243",
          "score": 0.5510861467030373
         },
         {
          "date": "2017-10-05T23:42:36.216216",
          "score": 0.5529011682501513
         },
         {
          "date": "2017-10-22T01:32:09.189189",
          "score": 0.554704367432923
         },
         {
          "date": "2017-11-07T02:21:42.162162",
          "score": 0.5564956632077313
         },
         {
          "date": "2017-11-23T04:11:15.135135",
          "score": 0.558274975056886
         },
         {
          "date": "2017-12-09T06:00:48.108108",
          "score": 0.5600422229924678
         },
         {
          "date": "2017-12-25T07:50:21.081081",
          "score": 0.56179732756014
         },
         {
          "date": "2018-01-10T09:39:54.054054",
          "score": 0.5635402098429362
         },
         {
          "date": "2018-01-26T11:29:27.027027",
          "score": 0.5652707914650239
         },
         {
          "date": "2018-02-11T13:19:00",
          "score": 0.5669889945954384
         },
         {
          "date": "2018-02-27T15:08:32.972973",
          "score": 0.5686947419517958
         },
         {
          "date": "2018-03-15T16:58:05.945946",
          "score": 0.5703879568039748
         },
         {
          "date": "2018-03-31T19:47:38.918919",
          "score": 0.5720685629777765
         },
         {
          "date": "2018-04-16T21:37:11.891892",
          "score": 0.5737364848585554
         },
         {
          "date": "2018-05-02T23:26:44.864865",
          "score": 0.5753916473948228
         },
         {
          "date": "2018-05-19T01:16:17.837838",
          "score": 0.5770339761018274
         },
         {
          "date": "2018-06-04T03:05:50.810811",
          "score": 0.5786633970651032
         },
         {
          "date": "2018-06-20T04:55:23.783784",
          "score": 0.5802798369439965
         },
         {
          "date": "2018-07-06T06:44:56.756757",
          "score": 0.5818832229751598
         },
         {
          "date": "2018-07-22T08:34:29.729730",
          "score": 0.5834734829760223
         },
         {
          "date": "2018-08-07T10:24:02.702703",
          "score": 0.585050545348231
         },
         {
          "date": "2018-08-23T12:13:35.675676",
          "score": 0.586614339081063
         },
         {
          "date": "2018-09-08T14:03:08.648649",
          "score": 0.5881647937548131
         },
         {
          "date": "2018-09-24T15:52:41.621622",
          "score": 0.589701839544149
         },
         {
          "date": "2018-10-10T17:42:14.594595",
          "score": 0.5912254072214422
         },
         {
          "date": "2018-10-26T19:31:47.567568",
          "score": 0.5927354281600672
         },
         {
          "date": "2018-11-11T20:21:20.540541",
          "score": 0.5942318343376736
         },
         {
          "date": "2018-11-27T22:10:53.513514",
          "score": 0.5957145583394299
         },
         {
          "date": "2018-12-14T00:00:26.486486",
          "score": 0.5971835333612373
         },
         {
          "date": "2018-12-30T01:49:59.459460",
          "score": 0.5986386932129149
         },
         {
          "date": "2019-01-15T03:39:32.432432",
          "score": 0.6047969209682753
         },
         {
          "date": "2019-01-31T05:29:05.405406",
          "score": 0.6119880360400235
         },
         {
          "date": "2019-02-16T07:18:38.378378",
          "score": 0.6191620058165923
         },
         {
          "date": "2019-03-04T09:08:11.351351",
          "score": 0.626317043319932
         },
         {
          "date": "2019-03-20T10:57:44.324324",
          "score": 0.6334513636548038
         },
         {
          "date": "2019-04-05T13:47:17.297297",
          "score": 0.6405631845268719
         },
         {
          "date": "2019-04-21T15:36:50.270270",
          "score": 0.6476507267601641
         },
         {
          "date": "2019-05-07T17:26:23.243243",
          "score": 0.6547122148137599
         },
         {
          "date": "2019-05-23T19:15:56.216216",
          "score": 0.6617458772975628
         },
         {
          "date": "2019-06-08T21:05:29.189189",
          "score": 0.6687499474869758
         },
         {
          "date": "2019-06-24T22:55:02.162162",
          "score": 0.6757226638363601
         },
         {
          "date": "2019-07-11T00:44:35.135135",
          "score": 0.6826622704910906
         },
         {
          "date": "2019-07-27T02:34:08.108108",
          "score": 0.6895670177980883
         },
         {
          "date": "2019-08-12T04:23:41.081081",
          "score": 0.6964351628146507
         },
         {
          "date": "2019-08-28T06:13:14.054054",
          "score": 0.7032649698154395
         },
         {
          "date": "2019-09-13T08:02:47.027027",
          "score": 0.7100547107974865
         },
         {
          "date": "2019-09-29T09:52:20",
          "score": 0.7168026659830382
         },
         {
          "date": "2019-10-15T11:41:52.972973",
          "score": 0.7235071243201244
         },
         {
          "date": "2019-10-31T12:31:25.945946",
          "score": 0.7301663839806675
         },
         {
          "date": "2019-11-16T14:20:58.918919",
          "score": 0.7367787528560147
         },
         {
          "date": "2019-12-02T16:10:31.891892",
          "score": 0.7433425490497243
         },
         {
          "date": "2019-12-18T18:00:04.864865",
          "score": 0.7498561013674628
         },
         {
          "date": "2020-01-03T19:49:37.837838",
          "score": 0.7563177498038836
         },
         {
          "date": "2020-01-19T21:39:10.810811",
          "score": 0.7627258460263119
         },
         {
          "date": "2020-02-04T23:28:43.783784",
          "score": 0.7690787538551277
         },
         {
          "date": "2020-02-21T01:18:16.756757",
          "score": 0.7753748497406672
         },
         {
          "date": "2020-03-08T03:07:49.729730",
          "score": 0.7816125232365331
         },
         {
          "date": "2020-03-24T04:57:22.702703",
          "score": 0.7877901774691509
         },
         {
          "date": "2020-04-09T07:46:55.675676",
          "score": 0.7939062296034358
         },
         {
          "date": "2020-04-25T09:36:28.648649",
          "score": 0.799959111304446
         },
         {
          "date": "2020-05-11T11:26:01.621622",
          "score": 0.8059472691948568
         },
         {
          "date": "2020-05-27T13:15:34.594595",
          "score": 0.8118691653081536
         },
         {
          "date": "2020-06-12T15:05:07.567568",
          "score": 0.8177232775373727
         },
         {
          "date": "2020-06-28T16:54:40.540541",
          "score": 0.8235081000792914
         },
         {
          "date": "2020-07-14T18:44:13.513514",
          "score": 0.8292221438739017
         },
         {
          "date": "2020-07-30T20:33:46.486486",
          "score": 0.8348639370390671
         },
         {
          "date": "2020-08-15T22:23:19.459460",
          "score": 0.840432025300211
         },
         {
          "date": "2020-09-01T00:12:52.432432",
          "score": 0.8459249724149128
         },
         {
          "date": "2020-09-17T02:02:25.405406",
          "score": 0.8513413605923026
         },
         {
          "date": "2020-10-03T03:51:58.378378",
          "score": 0.856679790907098
         },
         {
          "date": "2020-10-19T05:41:31.351351",
          "score": 0.8619388837081949
         },
         {
          "date": "2020-11-04T06:31:04.324324",
          "score": 0.8671172790216557
         },
         {
          "date": "2020-11-20T08:20:37.297297",
          "score": 0.8722136369480086
         },
         {
          "date": "2020-12-06T10:10:10.270270",
          "score": 0.8772266380537118
         },
         {
          "date": "2020-12-22T11:59:43.243243",
          "score": 0.8821549837566788
         },
         {
          "date": "2021-01-07T13:49:16.216216",
          "score": 0.8869973967057554
         },
         {
          "date": "2021-01-23T15:38:49.189189",
          "score": 0.8917526211540174
         },
         {
          "date": "2021-02-08T17:28:22.162162",
          "score": 0.8964194233258009
         },
         {
          "date": "2021-02-24T19:17:55.135135",
          "score": 0.9009965917773305
         },
         {
          "date": "2021-03-12T21:07:28.108108",
          "score": 0.9054829377508624
         },
         {
          "date": "2021-03-28T23:57:01.081081",
          "score": 0.9098772955222199
         },
         {
          "date": "2021-04-14T01:46:34.054054",
          "score": 0.9141785227416195
         },
         {
          "date": "2021-04-30T03:36:07.027027",
          "score": 0.9183855007677014
         },
         {
          "date": "2021-05-16T05:25:40",
          "score": 0.9224971349946386
         },
         {
          "date": "2021-06-01T07:15:12.972973",
          "score": 0.9265123551722547
         },
         {
          "date": "2021-06-17T09:04:45.945946",
          "score": 0.9304301157190328
         },
         {
          "date": "2021-07-03T10:54:18.918919",
          "score": 0.9342493960279367
         },
         {
          "date": "2021-07-19T12:43:51.891892",
          "score": 0.9379692007649459
         },
         {
          "date": "2021-08-04T14:33:24.864865",
          "score": 0.9415885601602161
         },
         {
          "date": "2021-08-20T16:22:57.837838",
          "score": 0.9451065302917845
         },
         {
          "date": "2021-09-05T18:12:30.810811",
          "score": 0.948522193361723
         },
         {
          "date": "2021-09-21T20:02:03.783784",
          "score": 0.9518346579646746
         },
         {
          "date": "2021-10-07T21:51:36.756757",
          "score": 0.9550430593486718
         },
         {
          "date": "2021-10-23T23:41:09.729730",
          "score": 0.958146559668181
         },
         {
          "date": "2021-11-09T00:30:42.702703",
          "score": 0.9611443482292772
         },
         {
          "date": "2021-11-25T02:20:15.675676",
          "score": 0.9640356417268946
         },
         {
          "date": "2021-12-11T04:09:48.648649",
          "score": 0.9668196844740666
         },
         {
          "date": "2021-12-27T05:59:21.621622",
          "score": 0.9694957486230955
         },
         {
          "date": "2022-01-12T07:48:54.594595",
          "score": 0.972063134378587
         },
         {
          "date": "2022-01-28T09:38:27.567568",
          "score": 0.9745211702022787
         },
         {
          "date": "2022-02-13T11:28:00.540541",
          "score": 0.9768692130096093
         },
         {
          "date": "2022-03-01T13:17:33.513514",
          "score": 0.9791066483579643
         },
         {
          "date": "2022-03-17T15:07:06.486486",
          "score": 0.9812328906265463
         },
         {
          "date": "2022-04-02T17:56:39.459460",
          "score": 0.9832473831878135
         },
         {
          "date": "2022-04-18T19:46:12.432432",
          "score": 0.9851495985704333
         },
         {
          "date": "2022-05-04T21:35:45.405406",
          "score": 0.9869390386137119
         },
         {
          "date": "2022-05-20T23:25:18.378378",
          "score": 0.9886152346134393
         },
         {
          "date": "2022-06-06T01:14:51.351351",
          "score": 0.9901777474591218
         },
         {
          "date": "2022-06-22T03:04:24.324324",
          "score": 0.9916261677625449
         },
         {
          "date": "2022-07-08T04:53:57.297297",
          "score": 0.992960115977646
         },
         {
          "date": "2022-07-24T06:43:30.270270",
          "score": 0.994179242511645
         },
         {
          "date": "2022-08-09T08:33:03.243243",
          "score": 0.9952832278274084
         },
         {
          "date": "2022-08-25T10:22:36.216216",
          "score": 0.996271782537017
         },
         {
          "date": "2022-09-10T12:12:09.189189",
          "score": 0.9971446474865036
         },
         {
          "date": "2022-09-26T14:01:42.162162",
          "score": 0.9979015938317415
         },
         {
          "date": "2022-10-12T15:51:15.135135",
          "score": 0.9985424231054556
         },
         {
          "date": "2022-10-28T17:40:48.108108",
          "score": 0.9990669672753422
         },
         {
          "date": "2022-11-13T18:30:21.081081",
          "score": 0.9994750887932728
         },
         {
          "date": "2022-11-29T20:19:54.054054",
          "score": 0.9997666806355773
         },
         {
          "date": "2022-12-15T22:09:27.027027",
          "score": 0.9999416663343808
         },
         {
          "date": "2022-12-31T23:59:00",
          "score": 1.0000000000000002
         }
        ]
       },
       "encoding": {
        "tooltip": [
         {
          "field": "date",
          "type": "temporal"
         }
        ],
        "x": {
         "field": "date",
         "title": "Date",
         "type": "temporal"
        },
        "y": {
         "field": "score",
         "title": "Recency score",
         "type": "quantitative"
        }
       },
       "height": 380,
       "mark": {
        "color": "black",
        "filled": true,
        "size": 10,
        "type": "point"
       },
       "title": "Recency scores (unit weight)",
       "width": 500
      },
      "text/plain": [
       "<VegaLite 5 object>\n",
       "\n",
       "If you see this message, it means the renderer has not been properly enabled\n",
       "for the frontend that you are using. For more information, see\n",
       "https://altair-viz.github.io/user_guide/display_frontends.html#troubleshooting\n"
      ]
     },
     "execution_count": 33,
     "metadata": {},
     "output_type": "execute_result"
    }
   ],
   "source": [
    "recency_plotter = sl.RecencyPlotter(recency_space, context_data=EXECUTOR_DATA)\n",
    "chart = recency_plotter.plot_recency_curve()\n",
    "chart"
   ]
  },
  {
   "cell_type": "markdown",
   "id": "93c93476-cf28-4661-a793-f74d7c21b972",
   "metadata": {},
   "source": [
    "notice the breaks in the score at 4, 10 and 40 years - those are our period times. Titles older than 40 years get `negative_filter` score."
   ]
  },
  {
   "cell_type": "markdown",
   "id": "2ec1f453-6ec2-42e8-88b2-1c6692e9d57a",
   "metadata": {},
   "source": [
    "## Run queries"
   ]
  },
  {
   "cell_type": "markdown",
   "id": "65a1932e-4e84-4f84-bcdd-83eba95cb3cc",
   "metadata": {},
   "source": [
    "### Search with user queries"
   ]
  },
  {
   "cell_type": "markdown",
   "id": "de462025-40fb-4371-8160-9a315ab9e872",
   "metadata": {},
   "source": [
    "With the simple query, I can search with my text in all of the fields"
   ]
  },
  {
   "cell_type": "code",
   "execution_count": 34,
   "id": "d2ba2245-1d76-4283-a9f6-58179f5f7f7c",
   "metadata": {},
   "outputs": [
    {
     "data": {
      "text/html": [
       "<div>\n",
       "<style scoped>\n",
       "    .dataframe tbody tr th:only-of-type {\n",
       "        vertical-align: middle;\n",
       "    }\n",
       "\n",
       "    .dataframe tbody tr th {\n",
       "        vertical-align: top;\n",
       "    }\n",
       "\n",
       "    .dataframe thead th {\n",
       "        text-align: right;\n",
       "    }\n",
       "</style>\n",
       "<table border=\"1\" class=\"dataframe\">\n",
       "  <thead>\n",
       "    <tr style=\"text-align: right;\">\n",
       "      <th></th>\n",
       "      <th>description</th>\n",
       "      <th>title</th>\n",
       "      <th>genres</th>\n",
       "      <th>id</th>\n",
       "      <th>similarity_score</th>\n",
       "      <th>release_year</th>\n",
       "    </tr>\n",
       "  </thead>\n",
       "  <tbody>\n",
       "    <tr>\n",
       "      <th>0</th>\n",
       "      <td>When a group of people meets at the same party, they form four different relationships, each experiencing similar phases of love.</td>\n",
       "      <td>Love, Surreal and Odd</td>\n",
       "      <td>comedy romance</td>\n",
       "      <td>tm313118</td>\n",
       "      <td>0.600616</td>\n",
       "      <td>2017</td>\n",
       "    </tr>\n",
       "    <tr>\n",
       "      <th>1</th>\n",
       "      <td>An LA girl, unlucky in love, falls for an East Coast guy on a dating app and decides to surprise him for the holidays, only to discover that she's been catfished. This lighthearted roman...</td>\n",
       "      <td>Love Hard</td>\n",
       "      <td>romance comedy</td>\n",
       "      <td>tm1093099</td>\n",
       "      <td>0.563954</td>\n",
       "      <td>2021</td>\n",
       "    </tr>\n",
       "    <tr>\n",
       "      <th>2</th>\n",
       "      <td>Romantic anthology web series revolving around 12 stories of 12 months of young people on their paths to love.</td>\n",
       "      <td>Love Daily</td>\n",
       "      <td>drama romance</td>\n",
       "      <td>ts90869</td>\n",
       "      <td>0.559345</td>\n",
       "      <td>2018</td>\n",
       "    </tr>\n",
       "    <tr>\n",
       "      <th>3</th>\n",
       "      <td>In this romantic comedy, several friends, each dealing with unhappy love lives, turn to each other for help - but not always with the best results.</td>\n",
       "      <td>F*ck Love Too</td>\n",
       "      <td>comedy romance</td>\n",
       "      <td>tm1203307</td>\n",
       "      <td>0.558514</td>\n",
       "      <td>2022</td>\n",
       "    </tr>\n",
       "    <tr>\n",
       "      <th>4</th>\n",
       "      <td>Aspiring pop star Erica ends up as the entertainment at her ex-fiancé’s wedding after reluctantly taking a gig at a luxurious island resort while in the wake of a music career meltdown.</td>\n",
       "      <td>Resort to Love</td>\n",
       "      <td>romance comedy</td>\n",
       "      <td>tm1037704</td>\n",
       "      <td>0.557839</td>\n",
       "      <td>2021</td>\n",
       "    </tr>\n",
       "    <tr>\n",
       "      <th>5</th>\n",
       "      <td>'Love Actually' follows the lives of eight very different couples dealing with their love lives, in various loosely and interrelated tales, all set during a frantic month before Christma...</td>\n",
       "      <td>Love Actually</td>\n",
       "      <td>drama comedy romance</td>\n",
       "      <td>tm133767</td>\n",
       "      <td>0.551500</td>\n",
       "      <td>2003</td>\n",
       "    </tr>\n",
       "    <tr>\n",
       "      <th>6</th>\n",
       "      <td>Exploration into the tense relationship of success and romance.</td>\n",
       "      <td>Love or Money</td>\n",
       "      <td>romance</td>\n",
       "      <td>tm997617</td>\n",
       "      <td>0.551167</td>\n",
       "      <td>2021</td>\n",
       "    </tr>\n",
       "    <tr>\n",
       "      <th>7</th>\n",
       "      <td>It tells the love story of two childhood sweethearts that spans 19 years. Chen Xiao Xi is a cute and small girl with a lot of positive energy. She gets to know Jiang Chen, a tall and pro...</td>\n",
       "      <td>A Love So Beautiful</td>\n",
       "      <td>comedy romance</td>\n",
       "      <td>ts77034</td>\n",
       "      <td>0.549566</td>\n",
       "      <td>2017</td>\n",
       "    </tr>\n",
       "    <tr>\n",
       "      <th>8</th>\n",
       "      <td>Rebellious Mickey and good-natured Gus navigate the thrills and agonies of modern relationships.</td>\n",
       "      <td>Love</td>\n",
       "      <td>comedy drama romance</td>\n",
       "      <td>ts38511</td>\n",
       "      <td>0.538660</td>\n",
       "      <td>2016</td>\n",
       "    </tr>\n",
       "    <tr>\n",
       "      <th>9</th>\n",
       "      <td>A young woman develops romantic feelings for her best friend, but problems arise when another gal enters the picture.</td>\n",
       "      <td>Must Be... Love</td>\n",
       "      <td>comedy romance</td>\n",
       "      <td>tm188290</td>\n",
       "      <td>0.535215</td>\n",
       "      <td>2013</td>\n",
       "    </tr>\n",
       "  </tbody>\n",
       "</table>\n",
       "</div>"
      ],
      "text/plain": [
       "                                                                                                                                                                                     description  \\\n",
       "0                                                              When a group of people meets at the same party, they form four different relationships, each experiencing similar phases of love.   \n",
       "1  An LA girl, unlucky in love, falls for an East Coast guy on a dating app and decides to surprise him for the holidays, only to discover that she's been catfished. This lighthearted roman...   \n",
       "2                                                                                 Romantic anthology web series revolving around 12 stories of 12 months of young people on their paths to love.   \n",
       "3                                            In this romantic comedy, several friends, each dealing with unhappy love lives, turn to each other for help - but not always with the best results.   \n",
       "4      Aspiring pop star Erica ends up as the entertainment at her ex-fiancé’s wedding after reluctantly taking a gig at a luxurious island resort while in the wake of a music career meltdown.   \n",
       "5  'Love Actually' follows the lives of eight very different couples dealing with their love lives, in various loosely and interrelated tales, all set during a frantic month before Christma...   \n",
       "6                                                                                                                                Exploration into the tense relationship of success and romance.   \n",
       "7  It tells the love story of two childhood sweethearts that spans 19 years. Chen Xiao Xi is a cute and small girl with a lot of positive energy. She gets to know Jiang Chen, a tall and pro...   \n",
       "8                                                                                               Rebellious Mickey and good-natured Gus navigate the thrills and agonies of modern relationships.   \n",
       "9                                                                          A young woman develops romantic feelings for her best friend, but problems arise when another gal enters the picture.   \n",
       "\n",
       "                   title                genres         id  similarity_score  \\\n",
       "0  Love, Surreal and Odd        comedy romance   tm313118          0.600616   \n",
       "1              Love Hard        romance comedy  tm1093099          0.563954   \n",
       "2             Love Daily         drama romance    ts90869          0.559345   \n",
       "3          F*ck Love Too        comedy romance  tm1203307          0.558514   \n",
       "4         Resort to Love        romance comedy  tm1037704          0.557839   \n",
       "5          Love Actually  drama comedy romance   tm133767          0.551500   \n",
       "6          Love or Money               romance   tm997617          0.551167   \n",
       "7    A Love So Beautiful        comedy romance    ts77034          0.549566   \n",
       "8                   Love  comedy drama romance    ts38511          0.538660   \n",
       "9        Must Be... Love        comedy romance   tm188290          0.535215   \n",
       "\n",
       "   release_year  \n",
       "0          2017  \n",
       "1          2021  \n",
       "2          2018  \n",
       "3          2022  \n",
       "4          2021  \n",
       "5          2003  \n",
       "6          2021  \n",
       "7          2017  \n",
       "8          2016  \n",
       "9          2013  "
      ]
     },
     "execution_count": 34,
     "metadata": {},
     "output_type": "execute_result"
    }
   ],
   "source": [
    "result = app.query(\n",
    "    simple_query,\n",
    "    query_text=\"Heartfelt romantic comedy\",\n",
    "    description_weight=1,\n",
    "    title_weight=1,\n",
    "    genre_weight=1,\n",
    "    recency_weight=0,\n",
    "    limit=TOP_N,\n",
    ")\n",
    "\n",
    "df = sl.PandasConverter.to_pandas(result)\n",
    "sl.PandasConverter.format_date_column(df, \"release_timestamp\", \"release_year\", year_only=True)"
   ]
  },
  {
   "cell_type": "markdown",
   "id": "c12fa8c1-c013-44be-a326-a0dffa2e7d22",
   "metadata": {},
   "source": [
    "After looking at the results, I see some titles I have already seen. I can bias towards recent titles by upweighting recency. Weights are normalized to have unit sum, so you don't have to worry about how you set them."
   ]
  },
  {
   "cell_type": "code",
   "execution_count": 35,
   "id": "5941b41e-c2de-40df-b156-eed523b75c69",
   "metadata": {},
   "outputs": [
    {
     "data": {
      "text/html": [
       "<div>\n",
       "<style scoped>\n",
       "    .dataframe tbody tr th:only-of-type {\n",
       "        vertical-align: middle;\n",
       "    }\n",
       "\n",
       "    .dataframe tbody tr th {\n",
       "        vertical-align: top;\n",
       "    }\n",
       "\n",
       "    .dataframe thead th {\n",
       "        text-align: right;\n",
       "    }\n",
       "</style>\n",
       "<table border=\"1\" class=\"dataframe\">\n",
       "  <thead>\n",
       "    <tr style=\"text-align: right;\">\n",
       "      <th></th>\n",
       "      <th>description</th>\n",
       "      <th>title</th>\n",
       "      <th>genres</th>\n",
       "      <th>id</th>\n",
       "      <th>similarity_score</th>\n",
       "      <th>release_year</th>\n",
       "    </tr>\n",
       "  </thead>\n",
       "  <tbody>\n",
       "    <tr>\n",
       "      <th>0</th>\n",
       "      <td>When a group of people meets at the same party, they form four different relationships, each experiencing similar phases of love.</td>\n",
       "      <td>Love, Surreal and Odd</td>\n",
       "      <td>comedy romance</td>\n",
       "      <td>tm313118</td>\n",
       "      <td>0.600616</td>\n",
       "      <td>2017</td>\n",
       "    </tr>\n",
       "    <tr>\n",
       "      <th>1</th>\n",
       "      <td>An LA girl, unlucky in love, falls for an East Coast guy on a dating app and decides to surprise him for the holidays, only to discover that she's been catfished. This lighthearted roman...</td>\n",
       "      <td>Love Hard</td>\n",
       "      <td>romance comedy</td>\n",
       "      <td>tm1093099</td>\n",
       "      <td>0.563954</td>\n",
       "      <td>2021</td>\n",
       "    </tr>\n",
       "    <tr>\n",
       "      <th>2</th>\n",
       "      <td>Romantic anthology web series revolving around 12 stories of 12 months of young people on their paths to love.</td>\n",
       "      <td>Love Daily</td>\n",
       "      <td>drama romance</td>\n",
       "      <td>ts90869</td>\n",
       "      <td>0.559345</td>\n",
       "      <td>2018</td>\n",
       "    </tr>\n",
       "    <tr>\n",
       "      <th>3</th>\n",
       "      <td>In this romantic comedy, several friends, each dealing with unhappy love lives, turn to each other for help - but not always with the best results.</td>\n",
       "      <td>F*ck Love Too</td>\n",
       "      <td>comedy romance</td>\n",
       "      <td>tm1203307</td>\n",
       "      <td>0.558514</td>\n",
       "      <td>2022</td>\n",
       "    </tr>\n",
       "    <tr>\n",
       "      <th>4</th>\n",
       "      <td>Aspiring pop star Erica ends up as the entertainment at her ex-fiancé’s wedding after reluctantly taking a gig at a luxurious island resort while in the wake of a music career meltdown.</td>\n",
       "      <td>Resort to Love</td>\n",
       "      <td>romance comedy</td>\n",
       "      <td>tm1037704</td>\n",
       "      <td>0.557839</td>\n",
       "      <td>2021</td>\n",
       "    </tr>\n",
       "    <tr>\n",
       "      <th>5</th>\n",
       "      <td>'Love Actually' follows the lives of eight very different couples dealing with their love lives, in various loosely and interrelated tales, all set during a frantic month before Christma...</td>\n",
       "      <td>Love Actually</td>\n",
       "      <td>drama comedy romance</td>\n",
       "      <td>tm133767</td>\n",
       "      <td>0.551500</td>\n",
       "      <td>2003</td>\n",
       "    </tr>\n",
       "    <tr>\n",
       "      <th>6</th>\n",
       "      <td>Exploration into the tense relationship of success and romance.</td>\n",
       "      <td>Love or Money</td>\n",
       "      <td>romance</td>\n",
       "      <td>tm997617</td>\n",
       "      <td>0.551167</td>\n",
       "      <td>2021</td>\n",
       "    </tr>\n",
       "    <tr>\n",
       "      <th>7</th>\n",
       "      <td>It tells the love story of two childhood sweethearts that spans 19 years. Chen Xiao Xi is a cute and small girl with a lot of positive energy. She gets to know Jiang Chen, a tall and pro...</td>\n",
       "      <td>A Love So Beautiful</td>\n",
       "      <td>comedy romance</td>\n",
       "      <td>ts77034</td>\n",
       "      <td>0.549566</td>\n",
       "      <td>2017</td>\n",
       "    </tr>\n",
       "    <tr>\n",
       "      <th>8</th>\n",
       "      <td>Rebellious Mickey and good-natured Gus navigate the thrills and agonies of modern relationships.</td>\n",
       "      <td>Love</td>\n",
       "      <td>comedy drama romance</td>\n",
       "      <td>ts38511</td>\n",
       "      <td>0.538660</td>\n",
       "      <td>2016</td>\n",
       "    </tr>\n",
       "    <tr>\n",
       "      <th>9</th>\n",
       "      <td>A young woman develops romantic feelings for her best friend, but problems arise when another gal enters the picture.</td>\n",
       "      <td>Must Be... Love</td>\n",
       "      <td>comedy romance</td>\n",
       "      <td>tm188290</td>\n",
       "      <td>0.535215</td>\n",
       "      <td>2013</td>\n",
       "    </tr>\n",
       "  </tbody>\n",
       "</table>\n",
       "</div>"
      ],
      "text/plain": [
       "                                                                                                                                                                                     description  \\\n",
       "0                                                              When a group of people meets at the same party, they form four different relationships, each experiencing similar phases of love.   \n",
       "1  An LA girl, unlucky in love, falls for an East Coast guy on a dating app and decides to surprise him for the holidays, only to discover that she's been catfished. This lighthearted roman...   \n",
       "2                                                                                 Romantic anthology web series revolving around 12 stories of 12 months of young people on their paths to love.   \n",
       "3                                            In this romantic comedy, several friends, each dealing with unhappy love lives, turn to each other for help - but not always with the best results.   \n",
       "4      Aspiring pop star Erica ends up as the entertainment at her ex-fiancé’s wedding after reluctantly taking a gig at a luxurious island resort while in the wake of a music career meltdown.   \n",
       "5  'Love Actually' follows the lives of eight very different couples dealing with their love lives, in various loosely and interrelated tales, all set during a frantic month before Christma...   \n",
       "6                                                                                                                                Exploration into the tense relationship of success and romance.   \n",
       "7  It tells the love story of two childhood sweethearts that spans 19 years. Chen Xiao Xi is a cute and small girl with a lot of positive energy. She gets to know Jiang Chen, a tall and pro...   \n",
       "8                                                                                               Rebellious Mickey and good-natured Gus navigate the thrills and agonies of modern relationships.   \n",
       "9                                                                          A young woman develops romantic feelings for her best friend, but problems arise when another gal enters the picture.   \n",
       "\n",
       "                   title                genres         id  similarity_score  \\\n",
       "0  Love, Surreal and Odd        comedy romance   tm313118          0.600616   \n",
       "1              Love Hard        romance comedy  tm1093099          0.563954   \n",
       "2             Love Daily         drama romance    ts90869          0.559345   \n",
       "3          F*ck Love Too        comedy romance  tm1203307          0.558514   \n",
       "4         Resort to Love        romance comedy  tm1037704          0.557839   \n",
       "5          Love Actually  drama comedy romance   tm133767          0.551500   \n",
       "6          Love or Money               romance   tm997617          0.551167   \n",
       "7    A Love So Beautiful        comedy romance    ts77034          0.549566   \n",
       "8                   Love  comedy drama romance    ts38511          0.538660   \n",
       "9        Must Be... Love        comedy romance   tm188290          0.535215   \n",
       "\n",
       "   release_year  \n",
       "0          2017  \n",
       "1          2021  \n",
       "2          2018  \n",
       "3          2022  \n",
       "4          2021  \n",
       "5          2003  \n",
       "6          2021  \n",
       "7          2017  \n",
       "8          2016  \n",
       "9          2013  "
      ]
     },
     "execution_count": 35,
     "metadata": {},
     "output_type": "execute_result"
    }
   ],
   "source": [
    "second_result = app.query(\n",
    "    simple_query,\n",
    "    query_text=\"Heartfelt romantic comedy\",\n",
    "    description_weight=1,\n",
    "    title_weight=1,\n",
    "    genre_weight=1,\n",
    "    recency_weight=3,\n",
    "    limit=TOP_N,\n",
    ")\n",
    "\n",
    "df = sl.PandasConverter.to_pandas(result)\n",
    "sl.PandasConverter.format_date_column(df, \"release_timestamp\", \"release_year\", year_only=True)"
   ]
  },
  {
   "cell_type": "markdown",
   "id": "f4a22174-d438-4b43-9e86-5fe883f139f8",
   "metadata": {},
   "source": [
    "Still using the simple query, I can give more weight to spaces if I think my query is more related to that space - matches there should count more. Here I give additional weight to the genre, leave the description as is, and downweight the title as my query text is mostly a genre with some additional context. I keep recency with unit weight too, as I would like my results to be a bit biased towards recent movies."
   ]
  },
  {
   "cell_type": "code",
   "execution_count": 36,
   "id": "4f5cfd0d-dfe6-40aa-9688-9e427f4890bf",
   "metadata": {},
   "outputs": [
    {
     "data": {
      "text/html": [
       "<div>\n",
       "<style scoped>\n",
       "    .dataframe tbody tr th:only-of-type {\n",
       "        vertical-align: middle;\n",
       "    }\n",
       "\n",
       "    .dataframe tbody tr th {\n",
       "        vertical-align: top;\n",
       "    }\n",
       "\n",
       "    .dataframe thead th {\n",
       "        text-align: right;\n",
       "    }\n",
       "</style>\n",
       "<table border=\"1\" class=\"dataframe\">\n",
       "  <thead>\n",
       "    <tr style=\"text-align: right;\">\n",
       "      <th></th>\n",
       "      <th>description</th>\n",
       "      <th>title</th>\n",
       "      <th>genres</th>\n",
       "      <th>id</th>\n",
       "      <th>similarity_score</th>\n",
       "      <th>release_year</th>\n",
       "    </tr>\n",
       "  </thead>\n",
       "  <tbody>\n",
       "    <tr>\n",
       "      <th>0</th>\n",
       "      <td>In this romantic comedy, several friends, each dealing with unhappy love lives, turn to each other for help - but not always with the best results.</td>\n",
       "      <td>F*ck Love Too</td>\n",
       "      <td>comedy romance</td>\n",
       "      <td>tm1203307</td>\n",
       "      <td>0.641047</td>\n",
       "      <td>2022</td>\n",
       "    </tr>\n",
       "    <tr>\n",
       "      <th>1</th>\n",
       "      <td>An LA girl, unlucky in love, falls for an East Coast guy on a dating app and decides to surprise him for the holidays, only to discover that she's been catfished. This lighthearted roman...</td>\n",
       "      <td>Love Hard</td>\n",
       "      <td>romance comedy</td>\n",
       "      <td>tm1093099</td>\n",
       "      <td>0.608691</td>\n",
       "      <td>2021</td>\n",
       "    </tr>\n",
       "    <tr>\n",
       "      <th>2</th>\n",
       "      <td>A relatable romance drama about a couple in their 30s preparing for marriage. While they were expecting a happy ending like something out of a fairy tale, the reality of their preparatio...</td>\n",
       "      <td>Welcome to Wedding Hell</td>\n",
       "      <td>drama romance</td>\n",
       "      <td>ts344043</td>\n",
       "      <td>0.596496</td>\n",
       "      <td>2022</td>\n",
       "    </tr>\n",
       "    <tr>\n",
       "      <th>3</th>\n",
       "      <td>This black humor pan-Arabic anthology series is about love in general – and relationships in particular.</td>\n",
       "      <td>Love, Life &amp; Everything in Between</td>\n",
       "      <td>comedy drama romance</td>\n",
       "      <td>ts329711</td>\n",
       "      <td>0.593643</td>\n",
       "      <td>2022</td>\n",
       "    </tr>\n",
       "    <tr>\n",
       "      <th>4</th>\n",
       "      <td>Short films follow young adults as they navigate the gamut of emotions that come with finding romantic connection in unexpected places.</td>\n",
       "      <td>Feels Like Ishq</td>\n",
       "      <td>drama romance comedy</td>\n",
       "      <td>ts283610</td>\n",
       "      <td>0.592501</td>\n",
       "      <td>2021</td>\n",
       "    </tr>\n",
       "    <tr>\n",
       "      <th>5</th>\n",
       "      <td>Incurable romantic Lotte's life is upended when her plans for a picture-perfect wedding unravel--just as her self-absorbed sister gets engaged.</td>\n",
       "      <td>Just Say Yes</td>\n",
       "      <td>comedy romance</td>\n",
       "      <td>tm904862</td>\n",
       "      <td>0.590069</td>\n",
       "      <td>2021</td>\n",
       "    </tr>\n",
       "    <tr>\n",
       "      <th>6</th>\n",
       "      <td>In pursuit of both success and validation, a group of tech-savvy individuals juggle intimate encounters, first impressions and romantic opportunities.</td>\n",
       "      <td>Slay</td>\n",
       "      <td>romance comedy</td>\n",
       "      <td>tm1038025</td>\n",
       "      <td>0.589858</td>\n",
       "      <td>2021</td>\n",
       "    </tr>\n",
       "    <tr>\n",
       "      <th>7</th>\n",
       "      <td>In this rom-com challenging the concept of soulmates, parallel storylines portray four single friends as they pair up in different couple combinations.</td>\n",
       "      <td>Four to Dinner</td>\n",
       "      <td>comedy romance</td>\n",
       "      <td>tm1137862</td>\n",
       "      <td>0.584342</td>\n",
       "      <td>2022</td>\n",
       "    </tr>\n",
       "    <tr>\n",
       "      <th>8</th>\n",
       "      <td>Aspiring pop star Erica ends up as the entertainment at her ex-fiancé’s wedding after reluctantly taking a gig at a luxurious island resort while in the wake of a music career meltdown.</td>\n",
       "      <td>Resort to Love</td>\n",
       "      <td>romance comedy</td>\n",
       "      <td>tm1037704</td>\n",
       "      <td>0.583462</td>\n",
       "      <td>2021</td>\n",
       "    </tr>\n",
       "    <tr>\n",
       "      <th>9</th>\n",
       "      <td>Guille decides it's time to take the next step and that's how she looks to marry her sweetheart, but things get complicated and nothing goes as planned.</td>\n",
       "      <td>Let's Tie the Knot, Honey!</td>\n",
       "      <td>comedy romance</td>\n",
       "      <td>tm1204412</td>\n",
       "      <td>0.581410</td>\n",
       "      <td>2022</td>\n",
       "    </tr>\n",
       "  </tbody>\n",
       "</table>\n",
       "</div>"
      ],
      "text/plain": [
       "                                                                                                                                                                                     description  \\\n",
       "0                                            In this romantic comedy, several friends, each dealing with unhappy love lives, turn to each other for help - but not always with the best results.   \n",
       "1  An LA girl, unlucky in love, falls for an East Coast guy on a dating app and decides to surprise him for the holidays, only to discover that she's been catfished. This lighthearted roman...   \n",
       "2  A relatable romance drama about a couple in their 30s preparing for marriage. While they were expecting a happy ending like something out of a fairy tale, the reality of their preparatio...   \n",
       "3                                                                                       This black humor pan-Arabic anthology series is about love in general – and relationships in particular.   \n",
       "4                                                        Short films follow young adults as they navigate the gamut of emotions that come with finding romantic connection in unexpected places.   \n",
       "5                                                Incurable romantic Lotte's life is upended when her plans for a picture-perfect wedding unravel--just as her self-absorbed sister gets engaged.   \n",
       "6                                         In pursuit of both success and validation, a group of tech-savvy individuals juggle intimate encounters, first impressions and romantic opportunities.   \n",
       "7                                        In this rom-com challenging the concept of soulmates, parallel storylines portray four single friends as they pair up in different couple combinations.   \n",
       "8      Aspiring pop star Erica ends up as the entertainment at her ex-fiancé’s wedding after reluctantly taking a gig at a luxurious island resort while in the wake of a music career meltdown.   \n",
       "9                                       Guille decides it's time to take the next step and that's how she looks to marry her sweetheart, but things get complicated and nothing goes as planned.   \n",
       "\n",
       "                                title                genres         id  \\\n",
       "0                       F*ck Love Too        comedy romance  tm1203307   \n",
       "1                           Love Hard        romance comedy  tm1093099   \n",
       "2             Welcome to Wedding Hell         drama romance   ts344043   \n",
       "3  Love, Life & Everything in Between  comedy drama romance   ts329711   \n",
       "4                     Feels Like Ishq  drama romance comedy   ts283610   \n",
       "5                        Just Say Yes        comedy romance   tm904862   \n",
       "6                                Slay        romance comedy  tm1038025   \n",
       "7                      Four to Dinner        comedy romance  tm1137862   \n",
       "8                      Resort to Love        romance comedy  tm1037704   \n",
       "9          Let's Tie the Knot, Honey!        comedy romance  tm1204412   \n",
       "\n",
       "   similarity_score  release_year  \n",
       "0          0.641047          2022  \n",
       "1          0.608691          2021  \n",
       "2          0.596496          2022  \n",
       "3          0.593643          2022  \n",
       "4          0.592501          2021  \n",
       "5          0.590069          2021  \n",
       "6          0.589858          2021  \n",
       "7          0.584342          2022  \n",
       "8          0.583462          2021  \n",
       "9          0.581410          2022  "
      ]
     },
     "execution_count": 36,
     "metadata": {},
     "output_type": "execute_result"
    }
   ],
   "source": [
    "result = app.query(\n",
    "    simple_query,\n",
    "    query_text=\"Heartfelt romantic comedy\",\n",
    "    description_weight=1,\n",
    "    title_weight=0.1,\n",
    "    genre_weight=2,\n",
    "    recency_weight=1,\n",
    "    limit=TOP_N,\n",
    ")\n",
    "\n",
    "df = sl.PandasConverter.to_pandas(result)\n",
    "sl.PandasConverter.format_date_column(df, \"release_timestamp\", \"release_year\", year_only=True)"
   ]
  },
  {
   "cell_type": "markdown",
   "id": "7f213c52-900a-4a1b-9e02-9d681df7735b",
   "metadata": {},
   "source": [
    "With the advanced query, I can even supply different search terms for each attribute of the movie."
   ]
  },
  {
   "cell_type": "code",
   "execution_count": 37,
   "id": "1734d57b-5dbc-4c4c-a777-8be6717c3e6b",
   "metadata": {},
   "outputs": [
    {
     "data": {
      "text/html": [
       "<div>\n",
       "<style scoped>\n",
       "    .dataframe tbody tr th:only-of-type {\n",
       "        vertical-align: middle;\n",
       "    }\n",
       "\n",
       "    .dataframe tbody tr th {\n",
       "        vertical-align: top;\n",
       "    }\n",
       "\n",
       "    .dataframe thead th {\n",
       "        text-align: right;\n",
       "    }\n",
       "</style>\n",
       "<table border=\"1\" class=\"dataframe\">\n",
       "  <thead>\n",
       "    <tr style=\"text-align: right;\">\n",
       "      <th></th>\n",
       "      <th>description</th>\n",
       "      <th>title</th>\n",
       "      <th>genres</th>\n",
       "      <th>id</th>\n",
       "      <th>similarity_score</th>\n",
       "      <th>release_year</th>\n",
       "    </tr>\n",
       "  </thead>\n",
       "  <tbody>\n",
       "    <tr>\n",
       "      <th>0</th>\n",
       "      <td>'Love Actually' follows the lives of eight very different couples dealing with their love lives, in various loosely and interrelated tales, all set during a frantic month before Christma...</td>\n",
       "      <td>Love Actually</td>\n",
       "      <td>drama comedy romance</td>\n",
       "      <td>tm133767</td>\n",
       "      <td>0.722857</td>\n",
       "      <td>2003</td>\n",
       "    </tr>\n",
       "    <tr>\n",
       "      <th>1</th>\n",
       "      <td>Rebellious Mickey and good-natured Gus navigate the thrills and agonies of modern relationships.</td>\n",
       "      <td>Love</td>\n",
       "      <td>comedy drama romance</td>\n",
       "      <td>ts38511</td>\n",
       "      <td>0.722234</td>\n",
       "      <td>2016</td>\n",
       "    </tr>\n",
       "    <tr>\n",
       "      <th>2</th>\n",
       "      <td>An LA girl, unlucky in love, falls for an East Coast guy on a dating app and decides to surprise him for the holidays, only to discover that she's been catfished. This lighthearted roman...</td>\n",
       "      <td>Love Hard</td>\n",
       "      <td>romance comedy</td>\n",
       "      <td>tm1093099</td>\n",
       "      <td>0.701640</td>\n",
       "      <td>2021</td>\n",
       "    </tr>\n",
       "    <tr>\n",
       "      <th>3</th>\n",
       "      <td>A rising black painter tries to break into a competitive art world while balancing an unexpected romance with an ambitious law student.</td>\n",
       "      <td>Really Love</td>\n",
       "      <td>romance drama</td>\n",
       "      <td>tm946360</td>\n",
       "      <td>0.684617</td>\n",
       "      <td>2020</td>\n",
       "    </tr>\n",
       "    <tr>\n",
       "      <th>4</th>\n",
       "      <td>Romantic anthology web series revolving around 12 stories of 12 months of young people on their paths to love.</td>\n",
       "      <td>Love Daily</td>\n",
       "      <td>drama romance</td>\n",
       "      <td>ts90869</td>\n",
       "      <td>0.670919</td>\n",
       "      <td>2018</td>\n",
       "    </tr>\n",
       "    <tr>\n",
       "      <th>5</th>\n",
       "      <td>Adam and Marklin’s 5-year relationship has gone from a passionate flame to a simmer, forcing them to reconcile with each other’s shortcomings while their friends endlessly search for lov...</td>\n",
       "      <td>Almost Love</td>\n",
       "      <td>comedy drama romance</td>\n",
       "      <td>tm472195</td>\n",
       "      <td>0.667730</td>\n",
       "      <td>2019</td>\n",
       "    </tr>\n",
       "    <tr>\n",
       "      <th>6</th>\n",
       "      <td>Love is as tough as it is sweet for a lovestruck teenager, whose relationship with her next-door neighbor transforms as they grow into adulthood.</td>\n",
       "      <td>A Love So Beautiful</td>\n",
       "      <td>comedy drama</td>\n",
       "      <td>ts357033</td>\n",
       "      <td>0.641233</td>\n",
       "      <td>2020</td>\n",
       "    </tr>\n",
       "    <tr>\n",
       "      <th>7</th>\n",
       "      <td>Near by Christmas, in an old and charming town in Transylvania, Sebastian and Aprilia start a beautiful love story. However, nothing is as simple as it would seem. Being influenced by th...</td>\n",
       "      <td>Love Is a Story</td>\n",
       "      <td>romance european comedy</td>\n",
       "      <td>tm368725</td>\n",
       "      <td>0.638091</td>\n",
       "      <td>2015</td>\n",
       "    </tr>\n",
       "    <tr>\n",
       "      <th>8</th>\n",
       "      <td>This black humor pan-Arabic anthology series is about love in general – and relationships in particular.</td>\n",
       "      <td>Love, Life &amp; Everything in Between</td>\n",
       "      <td>comedy drama romance</td>\n",
       "      <td>ts329711</td>\n",
       "      <td>0.631610</td>\n",
       "      <td>2022</td>\n",
       "    </tr>\n",
       "    <tr>\n",
       "      <th>9</th>\n",
       "      <td>Laida Magtalas is a modern-day Belle who works hard to provide for her family while hoping that someday she will meet her prince charming and that they will live happily ever after toget...</td>\n",
       "      <td>A Very Special Love</td>\n",
       "      <td>comedy drama romance</td>\n",
       "      <td>tm28024</td>\n",
       "      <td>0.630495</td>\n",
       "      <td>2008</td>\n",
       "    </tr>\n",
       "  </tbody>\n",
       "</table>\n",
       "</div>"
      ],
      "text/plain": [
       "                                                                                                                                                                                     description  \\\n",
       "0  'Love Actually' follows the lives of eight very different couples dealing with their love lives, in various loosely and interrelated tales, all set during a frantic month before Christma...   \n",
       "1                                                                                               Rebellious Mickey and good-natured Gus navigate the thrills and agonies of modern relationships.   \n",
       "2  An LA girl, unlucky in love, falls for an East Coast guy on a dating app and decides to surprise him for the holidays, only to discover that she's been catfished. This lighthearted roman...   \n",
       "3                                                        A rising black painter tries to break into a competitive art world while balancing an unexpected romance with an ambitious law student.   \n",
       "4                                                                                 Romantic anthology web series revolving around 12 stories of 12 months of young people on their paths to love.   \n",
       "5  Adam and Marklin’s 5-year relationship has gone from a passionate flame to a simmer, forcing them to reconcile with each other’s shortcomings while their friends endlessly search for lov...   \n",
       "6                                              Love is as tough as it is sweet for a lovestruck teenager, whose relationship with her next-door neighbor transforms as they grow into adulthood.   \n",
       "7  Near by Christmas, in an old and charming town in Transylvania, Sebastian and Aprilia start a beautiful love story. However, nothing is as simple as it would seem. Being influenced by th...   \n",
       "8                                                                                       This black humor pan-Arabic anthology series is about love in general – and relationships in particular.   \n",
       "9  Laida Magtalas is a modern-day Belle who works hard to provide for her family while hoping that someday she will meet her prince charming and that they will live happily ever after toget...   \n",
       "\n",
       "                                title                   genres         id  \\\n",
       "0                       Love Actually     drama comedy romance   tm133767   \n",
       "1                                Love     comedy drama romance    ts38511   \n",
       "2                           Love Hard           romance comedy  tm1093099   \n",
       "3                         Really Love            romance drama   tm946360   \n",
       "4                          Love Daily            drama romance    ts90869   \n",
       "5                         Almost Love     comedy drama romance   tm472195   \n",
       "6                 A Love So Beautiful             comedy drama   ts357033   \n",
       "7                     Love Is a Story  romance european comedy   tm368725   \n",
       "8  Love, Life & Everything in Between     comedy drama romance   ts329711   \n",
       "9                 A Very Special Love     comedy drama romance    tm28024   \n",
       "\n",
       "   similarity_score  release_year  \n",
       "0          0.722857          2003  \n",
       "1          0.722234          2016  \n",
       "2          0.701640          2021  \n",
       "3          0.684617          2020  \n",
       "4          0.670919          2018  \n",
       "5          0.667730          2019  \n",
       "6          0.641233          2020  \n",
       "7          0.638091          2015  \n",
       "8          0.631610          2022  \n",
       "9          0.630495          2008  "
      ]
     },
     "execution_count": 37,
     "metadata": {},
     "output_type": "execute_result"
    }
   ],
   "source": [
    "result = app.query(\n",
    "    advanced_query,\n",
    "    description_query_text=\"Heartfelt lovely romantic comedy for a cold autumn evening.\",\n",
    "    title_query_text=\"love\",\n",
    "    genre_query_text=\"drama comedy romantic\",\n",
    "    description_weight=1,\n",
    "    title_weight=1,\n",
    "    genre_weight=1,\n",
    "    recency_weight=0,\n",
    "    limit=TOP_N,\n",
    ")\n",
    "\n",
    "df = sl.PandasConverter.to_pandas(result)\n",
    "sl.PandasConverter.format_date_column(df, \"release_timestamp\", \"release_year\", year_only=True)"
   ]
  },
  {
   "cell_type": "markdown",
   "id": "c37b470e-760c-41c2-bcea-416f77898087",
   "metadata": {},
   "source": [
    "And even give different weights to each subsearch if I really do care that the title is related to love but I am not really emotionally attached to my description of the movie I would want to see."
   ]
  },
  {
   "cell_type": "code",
   "execution_count": 38,
   "id": "e2982995-08f7-4ac9-8398-925d8227591b",
   "metadata": {},
   "outputs": [
    {
     "data": {
      "text/html": [
       "<div>\n",
       "<style scoped>\n",
       "    .dataframe tbody tr th:only-of-type {\n",
       "        vertical-align: middle;\n",
       "    }\n",
       "\n",
       "    .dataframe tbody tr th {\n",
       "        vertical-align: top;\n",
       "    }\n",
       "\n",
       "    .dataframe thead th {\n",
       "        text-align: right;\n",
       "    }\n",
       "</style>\n",
       "<table border=\"1\" class=\"dataframe\">\n",
       "  <thead>\n",
       "    <tr style=\"text-align: right;\">\n",
       "      <th></th>\n",
       "      <th>description</th>\n",
       "      <th>title</th>\n",
       "      <th>genres</th>\n",
       "      <th>id</th>\n",
       "      <th>similarity_score</th>\n",
       "      <th>release_year</th>\n",
       "    </tr>\n",
       "  </thead>\n",
       "  <tbody>\n",
       "    <tr>\n",
       "      <th>0</th>\n",
       "      <td>Rebellious Mickey and good-natured Gus navigate the thrills and agonies of modern relationships.</td>\n",
       "      <td>Love</td>\n",
       "      <td>comedy drama romance</td>\n",
       "      <td>ts38511</td>\n",
       "      <td>0.724493</td>\n",
       "      <td>2016</td>\n",
       "    </tr>\n",
       "    <tr>\n",
       "      <th>1</th>\n",
       "      <td>The story of a family and the various situations navigated by a husband and wife.</td>\n",
       "      <td>Love</td>\n",
       "      <td>thriller drama</td>\n",
       "      <td>tm946277</td>\n",
       "      <td>0.676508</td>\n",
       "      <td>2020</td>\n",
       "    </tr>\n",
       "    <tr>\n",
       "      <th>2</th>\n",
       "      <td>'Love Actually' follows the lives of eight very different couples dealing with their love lives, in various loosely and interrelated tales, all set during a frantic month before Christma...</td>\n",
       "      <td>Love Actually</td>\n",
       "      <td>drama comedy romance</td>\n",
       "      <td>tm133767</td>\n",
       "      <td>0.645147</td>\n",
       "      <td>2003</td>\n",
       "    </tr>\n",
       "    <tr>\n",
       "      <th>3</th>\n",
       "      <td>A rising black painter tries to break into a competitive art world while balancing an unexpected romance with an ambitious law student.</td>\n",
       "      <td>Really Love</td>\n",
       "      <td>romance drama</td>\n",
       "      <td>tm946360</td>\n",
       "      <td>0.640506</td>\n",
       "      <td>2020</td>\n",
       "    </tr>\n",
       "    <tr>\n",
       "      <th>4</th>\n",
       "      <td>Adam and Marklin’s 5-year relationship has gone from a passionate flame to a simmer, forcing them to reconcile with each other’s shortcomings while their friends endlessly search for lov...</td>\n",
       "      <td>Almost Love</td>\n",
       "      <td>comedy drama romance</td>\n",
       "      <td>tm472195</td>\n",
       "      <td>0.617771</td>\n",
       "      <td>2019</td>\n",
       "    </tr>\n",
       "    <tr>\n",
       "      <th>5</th>\n",
       "      <td>The story of Richard and Mildred Loving, an interracial couple, whose challenge of their anti-miscegenation arrest for their marriage in Virginia led to a legal battle that would end at ...</td>\n",
       "      <td>Loving</td>\n",
       "      <td>drama romance</td>\n",
       "      <td>tm219233</td>\n",
       "      <td>0.609814</td>\n",
       "      <td>2016</td>\n",
       "    </tr>\n",
       "    <tr>\n",
       "      <th>6</th>\n",
       "      <td>An LA girl, unlucky in love, falls for an East Coast guy on a dating app and decides to surprise him for the holidays, only to discover that she's been catfished. This lighthearted roman...</td>\n",
       "      <td>Love Hard</td>\n",
       "      <td>romance comedy</td>\n",
       "      <td>tm1093099</td>\n",
       "      <td>0.609514</td>\n",
       "      <td>2021</td>\n",
       "    </tr>\n",
       "    <tr>\n",
       "      <th>7</th>\n",
       "      <td>In order to receive a bone marrow transplant quicker and be able to continue her career as an actress, Xia Lin enters into a secret marriage with Ling Yi Zhou, the CEO of a company. Desp...</td>\n",
       "      <td>Well-Intended Love</td>\n",
       "      <td>drama romance</td>\n",
       "      <td>ts88133</td>\n",
       "      <td>0.581787</td>\n",
       "      <td>2019</td>\n",
       "    </tr>\n",
       "    <tr>\n",
       "      <th>8</th>\n",
       "      <td>It tells the love story of two childhood sweethearts that spans 19 years. Chen Xiao Xi is a cute and small girl with a lot of positive energy. She gets to know Jiang Chen, a tall and pro...</td>\n",
       "      <td>A Love So Beautiful</td>\n",
       "      <td>comedy romance</td>\n",
       "      <td>ts77034</td>\n",
       "      <td>0.579787</td>\n",
       "      <td>2017</td>\n",
       "    </tr>\n",
       "    <tr>\n",
       "      <th>9</th>\n",
       "      <td>Love is as tough as it is sweet for a lovestruck teenager, whose relationship with her next-door neighbor transforms as they grow into adulthood.</td>\n",
       "      <td>A Love So Beautiful</td>\n",
       "      <td>comedy drama</td>\n",
       "      <td>ts357033</td>\n",
       "      <td>0.573275</td>\n",
       "      <td>2020</td>\n",
       "    </tr>\n",
       "  </tbody>\n",
       "</table>\n",
       "</div>"
      ],
      "text/plain": [
       "                                                                                                                                                                                     description  \\\n",
       "0                                                                                               Rebellious Mickey and good-natured Gus navigate the thrills and agonies of modern relationships.   \n",
       "1                                                                                                              The story of a family and the various situations navigated by a husband and wife.   \n",
       "2  'Love Actually' follows the lives of eight very different couples dealing with their love lives, in various loosely and interrelated tales, all set during a frantic month before Christma...   \n",
       "3                                                        A rising black painter tries to break into a competitive art world while balancing an unexpected romance with an ambitious law student.   \n",
       "4  Adam and Marklin’s 5-year relationship has gone from a passionate flame to a simmer, forcing them to reconcile with each other’s shortcomings while their friends endlessly search for lov...   \n",
       "5  The story of Richard and Mildred Loving, an interracial couple, whose challenge of their anti-miscegenation arrest for their marriage in Virginia led to a legal battle that would end at ...   \n",
       "6  An LA girl, unlucky in love, falls for an East Coast guy on a dating app and decides to surprise him for the holidays, only to discover that she's been catfished. This lighthearted roman...   \n",
       "7  In order to receive a bone marrow transplant quicker and be able to continue her career as an actress, Xia Lin enters into a secret marriage with Ling Yi Zhou, the CEO of a company. Desp...   \n",
       "8  It tells the love story of two childhood sweethearts that spans 19 years. Chen Xiao Xi is a cute and small girl with a lot of positive energy. She gets to know Jiang Chen, a tall and pro...   \n",
       "9                                              Love is as tough as it is sweet for a lovestruck teenager, whose relationship with her next-door neighbor transforms as they grow into adulthood.   \n",
       "\n",
       "                 title                genres         id  similarity_score  \\\n",
       "0                 Love  comedy drama romance    ts38511          0.724493   \n",
       "1                 Love        thriller drama   tm946277          0.676508   \n",
       "2        Love Actually  drama comedy romance   tm133767          0.645147   \n",
       "3          Really Love         romance drama   tm946360          0.640506   \n",
       "4          Almost Love  comedy drama romance   tm472195          0.617771   \n",
       "5               Loving         drama romance   tm219233          0.609814   \n",
       "6            Love Hard        romance comedy  tm1093099          0.609514   \n",
       "7   Well-Intended Love         drama romance    ts88133          0.581787   \n",
       "8  A Love So Beautiful        comedy romance    ts77034          0.579787   \n",
       "9  A Love So Beautiful          comedy drama   ts357033          0.573275   \n",
       "\n",
       "   release_year  \n",
       "0          2016  \n",
       "1          2020  \n",
       "2          2003  \n",
       "3          2020  \n",
       "4          2019  \n",
       "5          2016  \n",
       "6          2021  \n",
       "7          2019  \n",
       "8          2017  \n",
       "9          2020  "
      ]
     },
     "execution_count": 38,
     "metadata": {},
     "output_type": "execute_result"
    }
   ],
   "source": [
    "result = app.query(\n",
    "    advanced_query,\n",
    "    description_query_text=\"Heartfelt lovely romantic comedy for a cold autumn evening.\",\n",
    "    title_query_text=\"love\",\n",
    "    genre_query_text=\"drama comedy romantic\",\n",
    "    description_weight=0.2,\n",
    "    title_weight=3,\n",
    "    genre_weight=1,\n",
    "    recency_weight=0,\n",
    "    limit=TOP_N,\n",
    ")\n",
    "\n",
    "df = sl.PandasConverter.to_pandas(result)\n",
    "sl.PandasConverter.format_date_column(df, \"release_timestamp\", \"release_year\", year_only=True)"
   ]
  },
  {
   "cell_type": "markdown",
   "id": "cb343f08-4c5b-4dee-a41f-0944f81aeddd",
   "metadata": {},
   "source": [
    "Then I can bias again towards recent movies"
   ]
  },
  {
   "cell_type": "code",
   "execution_count": 39,
   "id": "852cdad9-c8aa-4f0c-84e5-b39975d654d6",
   "metadata": {},
   "outputs": [
    {
     "data": {
      "text/html": [
       "<div>\n",
       "<style scoped>\n",
       "    .dataframe tbody tr th:only-of-type {\n",
       "        vertical-align: middle;\n",
       "    }\n",
       "\n",
       "    .dataframe tbody tr th {\n",
       "        vertical-align: top;\n",
       "    }\n",
       "\n",
       "    .dataframe thead th {\n",
       "        text-align: right;\n",
       "    }\n",
       "</style>\n",
       "<table border=\"1\" class=\"dataframe\">\n",
       "  <thead>\n",
       "    <tr style=\"text-align: right;\">\n",
       "      <th></th>\n",
       "      <th>description</th>\n",
       "      <th>title</th>\n",
       "      <th>genres</th>\n",
       "      <th>id</th>\n",
       "      <th>similarity_score</th>\n",
       "      <th>release_year</th>\n",
       "    </tr>\n",
       "  </thead>\n",
       "  <tbody>\n",
       "    <tr>\n",
       "      <th>0</th>\n",
       "      <td>After his ad agency goes bankrupt, an indebted Fırat falls for a singer at a yoga retreat and joins her on a journey of self-realization.</td>\n",
       "      <td>Doom of Love</td>\n",
       "      <td>romance drama</td>\n",
       "      <td>tm1218702</td>\n",
       "      <td>0.661874</td>\n",
       "      <td>2022</td>\n",
       "    </tr>\n",
       "    <tr>\n",
       "      <th>1</th>\n",
       "      <td>An ad executive and a fashion designer-blogger don't believe in love, so they place a bet to make the other fall head over heels - with unusual tactics.</td>\n",
       "      <td>Love Tactics</td>\n",
       "      <td>comedy romance</td>\n",
       "      <td>tm1152224</td>\n",
       "      <td>0.659597</td>\n",
       "      <td>2022</td>\n",
       "    </tr>\n",
       "    <tr>\n",
       "      <th>2</th>\n",
       "      <td>An LA girl, unlucky in love, falls for an East Coast guy on a dating app and decides to surprise him for the holidays, only to discover that she's been catfished. This lighthearted roman...</td>\n",
       "      <td>Love Hard</td>\n",
       "      <td>romance comedy</td>\n",
       "      <td>tm1093099</td>\n",
       "      <td>0.656336</td>\n",
       "      <td>2021</td>\n",
       "    </tr>\n",
       "    <tr>\n",
       "      <th>3</th>\n",
       "      <td>Fidelity tells a story of marital fidelity, in particular the one of Carlo and Margherita, a young couple who needs to face the deflagrant consequences of an alleged betrayal. Their rela...</td>\n",
       "      <td>Devotion, a Story of Love and Desire</td>\n",
       "      <td>drama romance</td>\n",
       "      <td>ts280892</td>\n",
       "      <td>0.648806</td>\n",
       "      <td>2022</td>\n",
       "    </tr>\n",
       "    <tr>\n",
       "      <th>4</th>\n",
       "      <td>This black humor pan-Arabic anthology series is about love in general – and relationships in particular.</td>\n",
       "      <td>Love, Life &amp; Everything in Between</td>\n",
       "      <td>comedy drama romance</td>\n",
       "      <td>ts329711</td>\n",
       "      <td>0.644286</td>\n",
       "      <td>2022</td>\n",
       "    </tr>\n",
       "    <tr>\n",
       "      <th>5</th>\n",
       "      <td>A modern love story set in the near future where an AI building is powered by human feelings. Due to a software glitch, it falls in love with a real girl, escapes the building into the b...</td>\n",
       "      <td>AI Love You</td>\n",
       "      <td>scifi comedy romance drama</td>\n",
       "      <td>tm1160424</td>\n",
       "      <td>0.639196</td>\n",
       "      <td>2022</td>\n",
       "    </tr>\n",
       "    <tr>\n",
       "      <th>6</th>\n",
       "      <td>Often (mis)guided by a cheeky imaginary wizard, an awkward and lonely 20-something struggles to get out of his own way in his quest for a girlfriend.</td>\n",
       "      <td>Eternally Confused and Eager for Love</td>\n",
       "      <td>comedy romance</td>\n",
       "      <td>ts330012</td>\n",
       "      <td>0.638304</td>\n",
       "      <td>2022</td>\n",
       "    </tr>\n",
       "    <tr>\n",
       "      <th>7</th>\n",
       "      <td>The story of a family and the various situations navigated by a husband and wife.</td>\n",
       "      <td>Love</td>\n",
       "      <td>thriller drama</td>\n",
       "      <td>tm946277</td>\n",
       "      <td>0.632558</td>\n",
       "      <td>2020</td>\n",
       "    </tr>\n",
       "    <tr>\n",
       "      <th>8</th>\n",
       "      <td>Fashion assistant Maca has just about got her life together after a devastating breakup, when Leo, the man who broke her heart returns. Seeking support from best friends, Adriana and Jim...</td>\n",
       "      <td>Sounds Like Love</td>\n",
       "      <td>comedy music romance drama</td>\n",
       "      <td>tm876608</td>\n",
       "      <td>0.623931</td>\n",
       "      <td>2021</td>\n",
       "    </tr>\n",
       "    <tr>\n",
       "      <th>9</th>\n",
       "      <td>Haruto Asakura falls in love with hairdresser Misaki Ariake and asks her out. Watching Misaki Ariake work hard to achieve what she wants, Haruto Asakura, who almost gave up his dream to ...</td>\n",
       "      <td>Love Like the Falling Petals</td>\n",
       "      <td>drama romance</td>\n",
       "      <td>tm1119015</td>\n",
       "      <td>0.617896</td>\n",
       "      <td>2022</td>\n",
       "    </tr>\n",
       "  </tbody>\n",
       "</table>\n",
       "</div>"
      ],
      "text/plain": [
       "                                                                                                                                                                                     description  \\\n",
       "0                                                      After his ad agency goes bankrupt, an indebted Fırat falls for a singer at a yoga retreat and joins her on a journey of self-realization.   \n",
       "1                                       An ad executive and a fashion designer-blogger don't believe in love, so they place a bet to make the other fall head over heels - with unusual tactics.   \n",
       "2  An LA girl, unlucky in love, falls for an East Coast guy on a dating app and decides to surprise him for the holidays, only to discover that she's been catfished. This lighthearted roman...   \n",
       "3  Fidelity tells a story of marital fidelity, in particular the one of Carlo and Margherita, a young couple who needs to face the deflagrant consequences of an alleged betrayal. Their rela...   \n",
       "4                                                                                       This black humor pan-Arabic anthology series is about love in general – and relationships in particular.   \n",
       "5  A modern love story set in the near future where an AI building is powered by human feelings. Due to a software glitch, it falls in love with a real girl, escapes the building into the b...   \n",
       "6                                          Often (mis)guided by a cheeky imaginary wizard, an awkward and lonely 20-something struggles to get out of his own way in his quest for a girlfriend.   \n",
       "7                                                                                                              The story of a family and the various situations navigated by a husband and wife.   \n",
       "8  Fashion assistant Maca has just about got her life together after a devastating breakup, when Leo, the man who broke her heart returns. Seeking support from best friends, Adriana and Jim...   \n",
       "9  Haruto Asakura falls in love with hairdresser Misaki Ariake and asks her out. Watching Misaki Ariake work hard to achieve what she wants, Haruto Asakura, who almost gave up his dream to ...   \n",
       "\n",
       "                                   title                      genres  \\\n",
       "0                           Doom of Love               romance drama   \n",
       "1                           Love Tactics              comedy romance   \n",
       "2                              Love Hard              romance comedy   \n",
       "3   Devotion, a Story of Love and Desire               drama romance   \n",
       "4     Love, Life & Everything in Between        comedy drama romance   \n",
       "5                            AI Love You  scifi comedy romance drama   \n",
       "6  Eternally Confused and Eager for Love              comedy romance   \n",
       "7                                   Love              thriller drama   \n",
       "8                       Sounds Like Love  comedy music romance drama   \n",
       "9           Love Like the Falling Petals               drama romance   \n",
       "\n",
       "          id  similarity_score  release_year  \n",
       "0  tm1218702          0.661874          2022  \n",
       "1  tm1152224          0.659597          2022  \n",
       "2  tm1093099          0.656336          2021  \n",
       "3   ts280892          0.648806          2022  \n",
       "4   ts329711          0.644286          2022  \n",
       "5  tm1160424          0.639196          2022  \n",
       "6   ts330012          0.638304          2022  \n",
       "7   tm946277          0.632558          2020  \n",
       "8   tm876608          0.623931          2021  \n",
       "9  tm1119015          0.617896          2022  "
      ]
     },
     "execution_count": 39,
     "metadata": {},
     "output_type": "execute_result"
    }
   ],
   "source": [
    "result = app.query(\n",
    "    advanced_query,\n",
    "    description_query_text=\"Heartfelt lovely romantic comedy for a cold autumn evening.\",\n",
    "    title_query_text=\"love\",\n",
    "    genre_query_text=\"drama comedy romantic\",\n",
    "    description_weight=0.2,\n",
    "    title_weight=3,\n",
    "    genre_weight=1,\n",
    "    recency_weight=5,\n",
    "    limit=TOP_N,\n",
    ")\n",
    "\n",
    "df = sl.PandasConverter.to_pandas(result)\n",
    "sl.PandasConverter.format_date_column(df, \"release_timestamp\", \"release_year\", year_only=True)"
   ]
  },
  {
   "cell_type": "markdown",
   "id": "04219f19-6857-4822-bf61-32f3893df736",
   "metadata": {},
   "source": [
    "Or maybe to older ones"
   ]
  },
  {
   "cell_type": "code",
   "execution_count": 40,
   "id": "7033a82a-5f04-4c7b-aa7c-e3122d8c7709",
   "metadata": {},
   "outputs": [
    {
     "data": {
      "text/html": [
       "<div>\n",
       "<style scoped>\n",
       "    .dataframe tbody tr th:only-of-type {\n",
       "        vertical-align: middle;\n",
       "    }\n",
       "\n",
       "    .dataframe tbody tr th {\n",
       "        vertical-align: top;\n",
       "    }\n",
       "\n",
       "    .dataframe thead th {\n",
       "        text-align: right;\n",
       "    }\n",
       "</style>\n",
       "<table border=\"1\" class=\"dataframe\">\n",
       "  <thead>\n",
       "    <tr style=\"text-align: right;\">\n",
       "      <th></th>\n",
       "      <th>description</th>\n",
       "      <th>title</th>\n",
       "      <th>genres</th>\n",
       "      <th>id</th>\n",
       "      <th>similarity_score</th>\n",
       "      <th>release_year</th>\n",
       "    </tr>\n",
       "  </thead>\n",
       "  <tbody>\n",
       "    <tr>\n",
       "      <th>0</th>\n",
       "      <td>Two young kids fall in love with each other. But the passion is too consuming for the parents of Jade. The parents try to stop them from seeing each other. But when this doesn't work, Da...</td>\n",
       "      <td>Endless Love</td>\n",
       "      <td>romance drama</td>\n",
       "      <td>tm130586</td>\n",
       "      <td>2.646004</td>\n",
       "      <td>1981</td>\n",
       "    </tr>\n",
       "    <tr>\n",
       "      <th>1</th>\n",
       "      <td>Anil, a street singer, is humiliated and driven out of Bombay along with his mother. However, he soon becomes a famous performer but the enemies from his past try to destroy his hard-ear...</td>\n",
       "      <td>Disco Dancer</td>\n",
       "      <td>drama romance</td>\n",
       "      <td>tm52815</td>\n",
       "      <td>2.575501</td>\n",
       "      <td>1982</td>\n",
       "    </tr>\n",
       "    <tr>\n",
       "      <th>2</th>\n",
       "      <td>An honest man dreams of a better life for his family, but a childhood friend leads him into a world of crime that keeps happiness just out of reach.</td>\n",
       "      <td>Ujala</td>\n",
       "      <td>romance crime drama</td>\n",
       "      <td>tm358653</td>\n",
       "      <td>2.574353</td>\n",
       "      <td>1959</td>\n",
       "    </tr>\n",
       "    <tr>\n",
       "      <th>3</th>\n",
       "      <td>Two talented song-and-dance men team up after the war to become one of the hottest acts in show business. In time they befriend and become romantically involved with the beautiful Haynes...</td>\n",
       "      <td>White Christmas</td>\n",
       "      <td>romance comedy</td>\n",
       "      <td>tm16479</td>\n",
       "      <td>2.569005</td>\n",
       "      <td>1954</td>\n",
       "    </tr>\n",
       "    <tr>\n",
       "      <th>4</th>\n",
       "      <td>Brian Cohen is an average young Jewish man, but through a series of ridiculous events, he gains a reputation as the Messiah. When he's not dodging his followers or being scolded by his s...</td>\n",
       "      <td>Life of Brian</td>\n",
       "      <td>comedy</td>\n",
       "      <td>tm70993</td>\n",
       "      <td>2.565624</td>\n",
       "      <td>1979</td>\n",
       "    </tr>\n",
       "    <tr>\n",
       "      <th>5</th>\n",
       "      <td>Geeky student Arnie Cunningham falls for Christine, a rusty 1958 Plymouth Fury, and becomes obsessed with restoring the classic automobile to her former glory. As the car changes, so doe...</td>\n",
       "      <td>Christine</td>\n",
       "      <td>horror thriller european</td>\n",
       "      <td>tm54450</td>\n",
       "      <td>2.564791</td>\n",
       "      <td>1983</td>\n",
       "    </tr>\n",
       "    <tr>\n",
       "      <th>6</th>\n",
       "      <td>Maharaj Brajbhan lives a wealthy lifestyle in Bharatpur, India along with his wife, Badi Rani, but have been unable to conceive for Bharatpur, and have no choice but to leave it's reigns...</td>\n",
       "      <td>Bandie</td>\n",
       "      <td>drama action romance</td>\n",
       "      <td>tm16812</td>\n",
       "      <td>2.563961</td>\n",
       "      <td>1978</td>\n",
       "    </tr>\n",
       "    <tr>\n",
       "      <th>7</th>\n",
       "      <td>Two small children and a ship's cook survive a shipwreck and find safety on an idyllic tropical island. Soon, however, the cook dies and the young boy and girl are left on their own. Day...</td>\n",
       "      <td>The Blue Lagoon</td>\n",
       "      <td>romance action drama</td>\n",
       "      <td>tm98978</td>\n",
       "      <td>2.557070</td>\n",
       "      <td>1980</td>\n",
       "    </tr>\n",
       "    <tr>\n",
       "      <th>8</th>\n",
       "      <td>In the 1930s, bored waitress Bonnie Parker falls in love with an ex-con named Clyde Barrow and together they start a violent crime spree through the country, stealing cars and robbing ba...</td>\n",
       "      <td>Bonnie and Clyde</td>\n",
       "      <td>crime drama action</td>\n",
       "      <td>tm119281</td>\n",
       "      <td>2.556204</td>\n",
       "      <td>1967</td>\n",
       "    </tr>\n",
       "    <tr>\n",
       "      <th>9</th>\n",
       "      <td>Ragab, a poor sailor, returns home to Alexandria after three years of absence, during which he tried to save money to marry his one true love, Hamedah. But there's trouble on the harbor,...</td>\n",
       "      <td>Dark Waters</td>\n",
       "      <td>action drama romance thriller</td>\n",
       "      <td>tm204541</td>\n",
       "      <td>2.555254</td>\n",
       "      <td>1956</td>\n",
       "    </tr>\n",
       "  </tbody>\n",
       "</table>\n",
       "</div>"
      ],
      "text/plain": [
       "                                                                                                                                                                                     description  \\\n",
       "0  Two young kids fall in love with each other. But the passion is too consuming for the parents of Jade. The parents try to stop them from seeing each other. But when this doesn't work, Da...   \n",
       "1  Anil, a street singer, is humiliated and driven out of Bombay along with his mother. However, he soon becomes a famous performer but the enemies from his past try to destroy his hard-ear...   \n",
       "2                                           An honest man dreams of a better life for his family, but a childhood friend leads him into a world of crime that keeps happiness just out of reach.   \n",
       "3  Two talented song-and-dance men team up after the war to become one of the hottest acts in show business. In time they befriend and become romantically involved with the beautiful Haynes...   \n",
       "4  Brian Cohen is an average young Jewish man, but through a series of ridiculous events, he gains a reputation as the Messiah. When he's not dodging his followers or being scolded by his s...   \n",
       "5  Geeky student Arnie Cunningham falls for Christine, a rusty 1958 Plymouth Fury, and becomes obsessed with restoring the classic automobile to her former glory. As the car changes, so doe...   \n",
       "6  Maharaj Brajbhan lives a wealthy lifestyle in Bharatpur, India along with his wife, Badi Rani, but have been unable to conceive for Bharatpur, and have no choice but to leave it's reigns...   \n",
       "7  Two small children and a ship's cook survive a shipwreck and find safety on an idyllic tropical island. Soon, however, the cook dies and the young boy and girl are left on their own. Day...   \n",
       "8  In the 1930s, bored waitress Bonnie Parker falls in love with an ex-con named Clyde Barrow and together they start a violent crime spree through the country, stealing cars and robbing ba...   \n",
       "9  Ragab, a poor sailor, returns home to Alexandria after three years of absence, during which he tried to save money to marry his one true love, Hamedah. But there's trouble on the harbor,...   \n",
       "\n",
       "              title                         genres        id  \\\n",
       "0      Endless Love                  romance drama  tm130586   \n",
       "1      Disco Dancer                  drama romance   tm52815   \n",
       "2             Ujala            romance crime drama  tm358653   \n",
       "3   White Christmas                 romance comedy   tm16479   \n",
       "4     Life of Brian                         comedy   tm70993   \n",
       "5         Christine       horror thriller european   tm54450   \n",
       "6            Bandie           drama action romance   tm16812   \n",
       "7   The Blue Lagoon           romance action drama   tm98978   \n",
       "8  Bonnie and Clyde             crime drama action  tm119281   \n",
       "9       Dark Waters  action drama romance thriller  tm204541   \n",
       "\n",
       "   similarity_score  release_year  \n",
       "0          2.646004          1981  \n",
       "1          2.575501          1982  \n",
       "2          2.574353          1959  \n",
       "3          2.569005          1954  \n",
       "4          2.565624          1979  \n",
       "5          2.564791          1983  \n",
       "6          2.563961          1978  \n",
       "7          2.557070          1980  \n",
       "8          2.556204          1967  \n",
       "9          2.555254          1956  "
      ]
     },
     "execution_count": 40,
     "metadata": {},
     "output_type": "execute_result"
    }
   ],
   "source": [
    "result = app.query(\n",
    "    advanced_query,\n",
    "    description_query_text=\"Heartfelt lovely romantic comedy for a cold autumn evening.\",\n",
    "    title_query_text=\"love\",\n",
    "    genre_query_text=\"drama comedy romantic\",\n",
    "    description_weight=0.2,\n",
    "    title_weight=3,\n",
    "    genre_weight=1,\n",
    "    recency_weight=-10,\n",
    "    limit=TOP_N,\n",
    ")\n",
    "\n",
    "df = sl.PandasConverter.to_pandas(result)\n",
    "sl.PandasConverter.format_date_column(df, \"release_timestamp\", \"release_year\", year_only=True)"
   ]
  },
  {
   "cell_type": "markdown",
   "id": "9a922c32-891a-4826-ab0e-fc5f091e4791",
   "metadata": {},
   "source": [
    "notice that every movie before 1984 has the same recency score as our largest period time is 40 years."
   ]
  },
  {
   "cell_type": "markdown",
   "id": "6c86e22d-77d0-41a8-bc94-526bf341622a",
   "metadata": {},
   "source": [
    "### Search with a movie and queries\n",
    "\n",
    "Now I found a movie in the last result set that I have already seen but I would love something similar. White Christmas (1954) is a story about people forming a rock-band and of course there is some love along the way. It has the id \"tm16479\".\n",
    "\n",
    "I can query my dataset using this movie, too! Let's adjust the defined query first:"
   ]
  },
  {
   "cell_type": "code",
   "execution_count": 41,
   "id": "bd21e6cf-c901-469c-a59f-7aa0905e8157",
   "metadata": {},
   "outputs": [],
   "source": [
    "with_movie_query = advanced_query.with_vector(movie, sl.Param(\"movie_id\"))"
   ]
  },
  {
   "cell_type": "markdown",
   "id": "5ec8badd-1082-4512-8953-c2c6e187f653",
   "metadata": {},
   "source": [
    "with this modification, I can add a movie from the dataset to the search.\n",
    "\n",
    "Let's first just focus on movies with similar descriptions. The first result will of course be the movie we are searching with."
   ]
  },
  {
   "cell_type": "code",
   "execution_count": 42,
   "id": "c957320a-9ab2-4377-b14b-48d6e7e564b6",
   "metadata": {},
   "outputs": [
    {
     "data": {
      "text/html": [
       "<div>\n",
       "<style scoped>\n",
       "    .dataframe tbody tr th:only-of-type {\n",
       "        vertical-align: middle;\n",
       "    }\n",
       "\n",
       "    .dataframe tbody tr th {\n",
       "        vertical-align: top;\n",
       "    }\n",
       "\n",
       "    .dataframe thead th {\n",
       "        text-align: right;\n",
       "    }\n",
       "</style>\n",
       "<table border=\"1\" class=\"dataframe\">\n",
       "  <thead>\n",
       "    <tr style=\"text-align: right;\">\n",
       "      <th></th>\n",
       "      <th>description</th>\n",
       "      <th>title</th>\n",
       "      <th>genres</th>\n",
       "      <th>id</th>\n",
       "      <th>similarity_score</th>\n",
       "      <th>release_year</th>\n",
       "    </tr>\n",
       "  </thead>\n",
       "  <tbody>\n",
       "    <tr>\n",
       "      <th>0</th>\n",
       "      <td>Two talented song-and-dance men team up after the war to become one of the hottest acts in show business. In time they befriend and become romantically involved with the beautiful Haynes...</td>\n",
       "      <td>White Christmas</td>\n",
       "      <td>romance comedy</td>\n",
       "      <td>tm16479</td>\n",
       "      <td>0.742294</td>\n",
       "      <td>1954</td>\n",
       "    </tr>\n",
       "    <tr>\n",
       "      <th>1</th>\n",
       "      <td>Go backstage with French rap duo Bigflo &amp; Oli in this intimate music documentary, then join the superstar siblings as they embark on a major tour.</td>\n",
       "      <td>Bigflo &amp; Oli: Hip Hop Frenzy</td>\n",
       "      <td>documentation music</td>\n",
       "      <td>tm937044</td>\n",
       "      <td>0.411362</td>\n",
       "      <td>2020</td>\n",
       "    </tr>\n",
       "    <tr>\n",
       "      <th>2</th>\n",
       "      <td>Sing along and dance with Bailey, Franny, Kip, Lulu and Tilly in this collection of music videos that will get you in the mood to move and groove!</td>\n",
       "      <td>Word Party Songs</td>\n",
       "      <td>animation family</td>\n",
       "      <td>ts251607</td>\n",
       "      <td>0.401688</td>\n",
       "      <td>2020</td>\n",
       "    </tr>\n",
       "    <tr>\n",
       "      <th>3</th>\n",
       "      <td>Exploration into the tense relationship of success and romance.</td>\n",
       "      <td>Love or Money</td>\n",
       "      <td>romance</td>\n",
       "      <td>tm997617</td>\n",
       "      <td>0.398556</td>\n",
       "      <td>2021</td>\n",
       "    </tr>\n",
       "    <tr>\n",
       "      <th>4</th>\n",
       "      <td>An amalgamation of four different love stories: Seenayya and Suvarna, a middle-class couple in a small town; Gautham, an uber-cool youngster romancing in the streets of Paris with his gi...</td>\n",
       "      <td>World Famous Lover</td>\n",
       "      <td>romance drama</td>\n",
       "      <td>tm848443</td>\n",
       "      <td>0.396190</td>\n",
       "      <td>2020</td>\n",
       "    </tr>\n",
       "    <tr>\n",
       "      <th>5</th>\n",
       "      <td>A dream of the hope for intimacy and love in a brutal, divisive world.</td>\n",
       "      <td>Condom Lead</td>\n",
       "      <td>drama</td>\n",
       "      <td>tm1036195</td>\n",
       "      <td>0.395414</td>\n",
       "      <td>2013</td>\n",
       "    </tr>\n",
       "    <tr>\n",
       "      <th>6</th>\n",
       "      <td>Aditya, Joe, Kedar and Rob form a rock band, but break up after they fail to make a success of it. They establish regular lives until they decide to reunite and take another shot at fulf...</td>\n",
       "      <td>Rock On!!</td>\n",
       "      <td>drama music</td>\n",
       "      <td>tm37945</td>\n",
       "      <td>0.393382</td>\n",
       "      <td>2008</td>\n",
       "    </tr>\n",
       "    <tr>\n",
       "      <th>7</th>\n",
       "      <td>The opposite worlds of two dancers in Colombia clash on and off the dance floor when their ambition to succeed leads them down a treacherous path.</td>\n",
       "      <td>Savage Rhythm</td>\n",
       "      <td>drama music</td>\n",
       "      <td>ts326029</td>\n",
       "      <td>0.391042</td>\n",
       "      <td>2022</td>\n",
       "    </tr>\n",
       "    <tr>\n",
       "      <th>8</th>\n",
       "      <td>This documentary spotlights Debbie Allen's career and follows her group of dance students as they prepare for Allen's annual \"Hot Chocolate Nutcracker,\" a reimagining of the classic ballet.</td>\n",
       "      <td>Dance Dreams: Hot Chocolate Nutcracker</td>\n",
       "      <td>documentation family</td>\n",
       "      <td>tm946927</td>\n",
       "      <td>0.390560</td>\n",
       "      <td>2020</td>\n",
       "    </tr>\n",
       "    <tr>\n",
       "      <th>9</th>\n",
       "      <td>Singing and dreaming together, a talented singer-songwriter and a same-aged keyboardist add harmony and love to each other's lives.</td>\n",
       "      <td>Wish You</td>\n",
       "      <td>drama romance music</td>\n",
       "      <td>tm989502</td>\n",
       "      <td>0.389622</td>\n",
       "      <td>2021</td>\n",
       "    </tr>\n",
       "  </tbody>\n",
       "</table>\n",
       "</div>"
      ],
      "text/plain": [
       "                                                                                                                                                                                     description  \\\n",
       "0  Two talented song-and-dance men team up after the war to become one of the hottest acts in show business. In time they befriend and become romantically involved with the beautiful Haynes...   \n",
       "1                                             Go backstage with French rap duo Bigflo & Oli in this intimate music documentary, then join the superstar siblings as they embark on a major tour.   \n",
       "2                                             Sing along and dance with Bailey, Franny, Kip, Lulu and Tilly in this collection of music videos that will get you in the mood to move and groove!   \n",
       "3                                                                                                                                Exploration into the tense relationship of success and romance.   \n",
       "4  An amalgamation of four different love stories: Seenayya and Suvarna, a middle-class couple in a small town; Gautham, an uber-cool youngster romancing in the streets of Paris with his gi...   \n",
       "5                                                                                                                         A dream of the hope for intimacy and love in a brutal, divisive world.   \n",
       "6  Aditya, Joe, Kedar and Rob form a rock band, but break up after they fail to make a success of it. They establish regular lives until they decide to reunite and take another shot at fulf...   \n",
       "7                                             The opposite worlds of two dancers in Colombia clash on and off the dance floor when their ambition to succeed leads them down a treacherous path.   \n",
       "8  This documentary spotlights Debbie Allen's career and follows her group of dance students as they prepare for Allen's annual \"Hot Chocolate Nutcracker,\" a reimagining of the classic ballet.   \n",
       "9                                                            Singing and dreaming together, a talented singer-songwriter and a same-aged keyboardist add harmony and love to each other's lives.   \n",
       "\n",
       "                                    title                genres         id  \\\n",
       "0                         White Christmas        romance comedy    tm16479   \n",
       "1            Bigflo & Oli: Hip Hop Frenzy   documentation music   tm937044   \n",
       "2                        Word Party Songs      animation family   ts251607   \n",
       "3                           Love or Money               romance   tm997617   \n",
       "4                      World Famous Lover         romance drama   tm848443   \n",
       "5                             Condom Lead                 drama  tm1036195   \n",
       "6                               Rock On!!           drama music    tm37945   \n",
       "7                           Savage Rhythm           drama music   ts326029   \n",
       "8  Dance Dreams: Hot Chocolate Nutcracker  documentation family   tm946927   \n",
       "9                                Wish You   drama romance music   tm989502   \n",
       "\n",
       "   similarity_score  release_year  \n",
       "0          0.742294          1954  \n",
       "1          0.411362          2020  \n",
       "2          0.401688          2020  \n",
       "3          0.398556          2021  \n",
       "4          0.396190          2020  \n",
       "5          0.395414          2013  \n",
       "6          0.393382          2008  \n",
       "7          0.391042          2022  \n",
       "8          0.390560          2020  \n",
       "9          0.389622          2021  "
      ]
     },
     "execution_count": 42,
     "metadata": {},
     "output_type": "execute_result"
    }
   ],
   "source": [
    "result = app.query(\n",
    "    with_movie_query,\n",
    "    description_query_text=\"\",\n",
    "    title_query_text=\"\",\n",
    "    genre_query_text=\"\",\n",
    "    description_weight=1,\n",
    "    title_weight=0,\n",
    "    genre_weight=0,\n",
    "    recency_weight=0,\n",
    "    movie_id=\"tm16479\",\n",
    "    limit=TOP_N,\n",
    ")\n",
    "\n",
    "df = sl.PandasConverter.to_pandas(result)\n",
    "sl.PandasConverter.format_date_column(df, \"release_timestamp\", \"release_year\", year_only=True)"
   ]
  },
  {
   "cell_type": "markdown",
   "id": "e164bc36-ac70-4dae-a00e-062c5f68fa28",
   "metadata": {},
   "source": [
    "I got back movies that focus more on the rock-band aspect of the movie. With query parameters I can try to skew the results to be more related to family."
   ]
  },
  {
   "cell_type": "code",
   "execution_count": 43,
   "id": "0ddcf7ae-70fe-453b-8ea0-8af274ec4ee5",
   "metadata": {},
   "outputs": [
    {
     "data": {
      "text/html": [
       "<div>\n",
       "<style scoped>\n",
       "    .dataframe tbody tr th:only-of-type {\n",
       "        vertical-align: middle;\n",
       "    }\n",
       "\n",
       "    .dataframe tbody tr th {\n",
       "        vertical-align: top;\n",
       "    }\n",
       "\n",
       "    .dataframe thead th {\n",
       "        text-align: right;\n",
       "    }\n",
       "</style>\n",
       "<table border=\"1\" class=\"dataframe\">\n",
       "  <thead>\n",
       "    <tr style=\"text-align: right;\">\n",
       "      <th></th>\n",
       "      <th>description</th>\n",
       "      <th>title</th>\n",
       "      <th>genres</th>\n",
       "      <th>id</th>\n",
       "      <th>similarity_score</th>\n",
       "      <th>release_year</th>\n",
       "    </tr>\n",
       "  </thead>\n",
       "  <tbody>\n",
       "    <tr>\n",
       "      <th>0</th>\n",
       "      <td>Two talented song-and-dance men team up after the war to become one of the hottest acts in show business. In time they befriend and become romantically involved with the beautiful Haynes...</td>\n",
       "      <td>White Christmas</td>\n",
       "      <td>romance comedy</td>\n",
       "      <td>tm16479</td>\n",
       "      <td>0.769386</td>\n",
       "      <td>1954</td>\n",
       "    </tr>\n",
       "    <tr>\n",
       "      <th>1</th>\n",
       "      <td>An estranged family gathers together in New York for an event celebrating the artistic work of their father.</td>\n",
       "      <td>The Meyerowitz Stories (New and Selected)</td>\n",
       "      <td>comedy drama</td>\n",
       "      <td>tm244206</td>\n",
       "      <td>0.552056</td>\n",
       "      <td>2017</td>\n",
       "    </tr>\n",
       "    <tr>\n",
       "      <th>2</th>\n",
       "      <td>A new couple, their exes and their children navigate the emotional challenges and tricky logistics of blended family life in this Swedish dramedy.</td>\n",
       "      <td>Bonus Family</td>\n",
       "      <td>drama comedy reality family documentation music european</td>\n",
       "      <td>ts55939</td>\n",
       "      <td>0.538323</td>\n",
       "      <td>2017</td>\n",
       "    </tr>\n",
       "    <tr>\n",
       "      <th>3</th>\n",
       "      <td>Reunited in their hometown for their father's funeral, two self-interested brothers meet a peculiar woman who shares a huge secret about their family.</td>\n",
       "      <td>The Bros</td>\n",
       "      <td>comedy fantasy</td>\n",
       "      <td>tm357708</td>\n",
       "      <td>0.535995</td>\n",
       "      <td>2017</td>\n",
       "    </tr>\n",
       "    <tr>\n",
       "      <th>4</th>\n",
       "      <td>A separated couple live together for their child's sake in this satirical dramedy about what it means to be a good parent and spouse in today's world.</td>\n",
       "      <td>Everything Will Be Fine</td>\n",
       "      <td>comedy drama</td>\n",
       "      <td>ts302058</td>\n",
       "      <td>0.522525</td>\n",
       "      <td>2021</td>\n",
       "    </tr>\n",
       "    <tr>\n",
       "      <th>5</th>\n",
       "      <td>Years after his father disowns his adopted brother for marrying a woman of lower social standing, a young man goes on a mission to reunite his family.</td>\n",
       "      <td>Kabhi Khushi Kabhie Gham</td>\n",
       "      <td>drama romance</td>\n",
       "      <td>tm36475</td>\n",
       "      <td>0.520603</td>\n",
       "      <td>2001</td>\n",
       "    </tr>\n",
       "    <tr>\n",
       "      <th>6</th>\n",
       "      <td>The loves, heartbreak, jealousy and pain of the three Armoza sisters – Luna, Rachelika, and Becky - their parents, grandparents and children, set during the early-mid 20th century in Jer...</td>\n",
       "      <td>The Beauty Queen of Jerusalem</td>\n",
       "      <td>drama</td>\n",
       "      <td>ts252119</td>\n",
       "      <td>0.519797</td>\n",
       "      <td>2021</td>\n",
       "    </tr>\n",
       "    <tr>\n",
       "      <th>7</th>\n",
       "      <td>A dramatic story about a girl and her giving father.</td>\n",
       "      <td>Sen Benim HerŞeyimsin</td>\n",
       "      <td>comedy</td>\n",
       "      <td>tm311456</td>\n",
       "      <td>0.518786</td>\n",
       "      <td>2016</td>\n",
       "    </tr>\n",
       "    <tr>\n",
       "      <th>8</th>\n",
       "      <td>Three prosperous women -- including a mother and her daughter -- fall for a seductive man in Colombia's Coffee Triangle.</td>\n",
       "      <td>Playing with Fire</td>\n",
       "      <td>drama</td>\n",
       "      <td>ts87680</td>\n",
       "      <td>0.511996</td>\n",
       "      <td>2019</td>\n",
       "    </tr>\n",
       "    <tr>\n",
       "      <th>9</th>\n",
       "      <td>Three grown siblings must rethink their idea of family when they learn their parents are getting divorced and have their eyes on new partners.</td>\n",
       "      <td>Love Storm</td>\n",
       "      <td>family</td>\n",
       "      <td>ts83449</td>\n",
       "      <td>0.511733</td>\n",
       "      <td>2016</td>\n",
       "    </tr>\n",
       "  </tbody>\n",
       "</table>\n",
       "</div>"
      ],
      "text/plain": [
       "                                                                                                                                                                                     description  \\\n",
       "0  Two talented song-and-dance men team up after the war to become one of the hottest acts in show business. In time they befriend and become romantically involved with the beautiful Haynes...   \n",
       "1                                                                                   An estranged family gathers together in New York for an event celebrating the artistic work of their father.   \n",
       "2                                             A new couple, their exes and their children navigate the emotional challenges and tricky logistics of blended family life in this Swedish dramedy.   \n",
       "3                                         Reunited in their hometown for their father's funeral, two self-interested brothers meet a peculiar woman who shares a huge secret about their family.   \n",
       "4                                         A separated couple live together for their child's sake in this satirical dramedy about what it means to be a good parent and spouse in today's world.   \n",
       "5                                         Years after his father disowns his adopted brother for marrying a woman of lower social standing, a young man goes on a mission to reunite his family.   \n",
       "6  The loves, heartbreak, jealousy and pain of the three Armoza sisters – Luna, Rachelika, and Becky - their parents, grandparents and children, set during the early-mid 20th century in Jer...   \n",
       "7                                                                                                                                           A dramatic story about a girl and her giving father.   \n",
       "8                                                                       Three prosperous women -- including a mother and her daughter -- fall for a seductive man in Colombia's Coffee Triangle.   \n",
       "9                                                 Three grown siblings must rethink their idea of family when they learn their parents are getting divorced and have their eyes on new partners.   \n",
       "\n",
       "                                       title  \\\n",
       "0                            White Christmas   \n",
       "1  The Meyerowitz Stories (New and Selected)   \n",
       "2                               Bonus Family   \n",
       "3                                   The Bros   \n",
       "4                    Everything Will Be Fine   \n",
       "5                   Kabhi Khushi Kabhie Gham   \n",
       "6              The Beauty Queen of Jerusalem   \n",
       "7                      Sen Benim HerŞeyimsin   \n",
       "8                          Playing with Fire   \n",
       "9                                 Love Storm   \n",
       "\n",
       "                                                     genres        id  \\\n",
       "0                                            romance comedy   tm16479   \n",
       "1                                              comedy drama  tm244206   \n",
       "2  drama comedy reality family documentation music european   ts55939   \n",
       "3                                            comedy fantasy  tm357708   \n",
       "4                                              comedy drama  ts302058   \n",
       "5                                             drama romance   tm36475   \n",
       "6                                                     drama  ts252119   \n",
       "7                                                    comedy  tm311456   \n",
       "8                                                     drama   ts87680   \n",
       "9                                                    family   ts83449   \n",
       "\n",
       "   similarity_score  release_year  \n",
       "0          0.769386          1954  \n",
       "1          0.552056          2017  \n",
       "2          0.538323          2017  \n",
       "3          0.535995          2017  \n",
       "4          0.522525          2021  \n",
       "5          0.520603          2001  \n",
       "6          0.519797          2021  \n",
       "7          0.518786          2016  \n",
       "8          0.511996          2019  \n",
       "9          0.511733          2016  "
      ]
     },
     "execution_count": 43,
     "metadata": {},
     "output_type": "execute_result"
    }
   ],
   "source": [
    "result = app.query(\n",
    "    with_movie_query,\n",
    "    description_query_text=\"family\",\n",
    "    title_query_text=\"\",\n",
    "    genre_query_text=\"\",\n",
    "    description_weight=1,\n",
    "    title_weight=0,\n",
    "    genre_weight=0,\n",
    "    recency_weight=0,\n",
    "    movie_id=\"tm16479\",\n",
    "    limit=TOP_N,\n",
    ")\n",
    "\n",
    "df = sl.PandasConverter.to_pandas(result)\n",
    "sl.PandasConverter.format_date_column(df, \"release_timestamp\", \"release_year\", year_only=True)"
   ]
  },
  {
   "cell_type": "markdown",
   "id": "b72f2b5e-2ee4-47e2-93d9-9ce0ca79e1b6",
   "metadata": {},
   "source": [
    "Taking a closer look at the description of these result movies, we can see that they share some aspect of the movie we are searching with - blended together with some notion of family:"
   ]
  },
  {
   "cell_type": "markdown",
   "id": "33d4cb73-1924-4653-89cc-5541a21a6fb5",
   "metadata": {},
   "source": [
    "After all, this evening I am in the mood for something light - I can also skew the results towards a specific genre: comedy"
   ]
  },
  {
   "cell_type": "code",
   "execution_count": 44,
   "id": "2efc1e79-2d13-4fae-bdf5-77a1e3d5d0c6",
   "metadata": {},
   "outputs": [
    {
     "data": {
      "text/html": [
       "<div>\n",
       "<style scoped>\n",
       "    .dataframe tbody tr th:only-of-type {\n",
       "        vertical-align: middle;\n",
       "    }\n",
       "\n",
       "    .dataframe tbody tr th {\n",
       "        vertical-align: top;\n",
       "    }\n",
       "\n",
       "    .dataframe thead th {\n",
       "        text-align: right;\n",
       "    }\n",
       "</style>\n",
       "<table border=\"1\" class=\"dataframe\">\n",
       "  <thead>\n",
       "    <tr style=\"text-align: right;\">\n",
       "      <th></th>\n",
       "      <th>description</th>\n",
       "      <th>title</th>\n",
       "      <th>genres</th>\n",
       "      <th>id</th>\n",
       "      <th>similarity_score</th>\n",
       "      <th>release_year</th>\n",
       "    </tr>\n",
       "  </thead>\n",
       "  <tbody>\n",
       "    <tr>\n",
       "      <th>0</th>\n",
       "      <td>Two talented song-and-dance men team up after the war to become one of the hottest acts in show business. In time they befriend and become romantically involved with the beautiful Haynes...</td>\n",
       "      <td>White Christmas</td>\n",
       "      <td>romance comedy</td>\n",
       "      <td>tm16479</td>\n",
       "      <td>0.830139</td>\n",
       "      <td>1954</td>\n",
       "    </tr>\n",
       "    <tr>\n",
       "      <th>1</th>\n",
       "      <td>On a bet, a gridiron hero at John Hughes High School sets out to turn a bespectacled plain Jane into a beautiful and popular prom queen in this outrageous send-up of the teen movies of t...</td>\n",
       "      <td>Not Another Teen Movie</td>\n",
       "      <td>comedy</td>\n",
       "      <td>tm58382</td>\n",
       "      <td>0.714763</td>\n",
       "      <td>2001</td>\n",
       "    </tr>\n",
       "    <tr>\n",
       "      <th>2</th>\n",
       "      <td>Argentine actor and comedian Fernando Sanjiao uses humor and impersonations to explore the concepts of masculinity and fatherhood in modern times.</td>\n",
       "      <td>Fernando Sanjiao: Hombre</td>\n",
       "      <td>comedy</td>\n",
       "      <td>tm416134</td>\n",
       "      <td>0.714334</td>\n",
       "      <td>2018</td>\n",
       "    </tr>\n",
       "    <tr>\n",
       "      <th>3</th>\n",
       "      <td>Mo Gilligan blends smooth moves and sharp humor as he riffs on humble beginnings, family dynamics and the complex art of dancing in the club.</td>\n",
       "      <td>Mo Gilligan: Momentum</td>\n",
       "      <td>comedy</td>\n",
       "      <td>tm832844</td>\n",
       "      <td>0.713081</td>\n",
       "      <td>2019</td>\n",
       "    </tr>\n",
       "    <tr>\n",
       "      <th>4</th>\n",
       "      <td>Comedies Honest, introspective comic Simon Amstell digs deep and delivers a uniquely vulnerable stand-up set on love, ego, intimacy and ayahuasca.</td>\n",
       "      <td>Simon Amstell: Set Free</td>\n",
       "      <td>comedy</td>\n",
       "      <td>tm825952</td>\n",
       "      <td>0.712658</td>\n",
       "      <td>2019</td>\n",
       "    </tr>\n",
       "    <tr>\n",
       "      <th>5</th>\n",
       "      <td>Get ready to scream with laughter! Sam Kinison's primal scream will echo down through the comedy hall of fame summing up so much of modernity's horror and stupidity. This concert was tap...</td>\n",
       "      <td>Sam Kinison: Family Entertainment Hour</td>\n",
       "      <td>comedy</td>\n",
       "      <td>tm8687</td>\n",
       "      <td>0.708027</td>\n",
       "      <td>1991</td>\n",
       "    </tr>\n",
       "    <tr>\n",
       "      <th>6</th>\n",
       "      <td>Romantic comedy following four couples who meet through a dating website. Four men go on a heroic mission to help four women and wind up experiencing a series of mishaps.</td>\n",
       "      <td>All's Well, Ends Well</td>\n",
       "      <td>romance comedy</td>\n",
       "      <td>tm37573</td>\n",
       "      <td>0.707968</td>\n",
       "      <td>2012</td>\n",
       "    </tr>\n",
       "    <tr>\n",
       "      <th>7</th>\n",
       "      <td>Ronny Chieng (\"The Daily Show,\" \"Crazy Rich Asians\") takes center stage in this stand-up special and riffs on modern American life and more.</td>\n",
       "      <td>Ronny Chieng: Asian Comedian Destroys America!</td>\n",
       "      <td>comedy</td>\n",
       "      <td>tm844662</td>\n",
       "      <td>0.706744</td>\n",
       "      <td>2019</td>\n",
       "    </tr>\n",
       "    <tr>\n",
       "      <th>8</th>\n",
       "      <td>With unique individual perspectives that converge into a unified voice, sketch comedy group Astronomy Club delivers a smart and absurd brand of humor.</td>\n",
       "      <td>Astronomy Club: The Sketch Show</td>\n",
       "      <td>comedy</td>\n",
       "      <td>ts223308</td>\n",
       "      <td>0.705561</td>\n",
       "      <td>2019</td>\n",
       "    </tr>\n",
       "    <tr>\n",
       "      <th>9</th>\n",
       "      <td>In pursuit of both success and validation, a group of tech-savvy individuals juggle intimate encounters, first impressions and romantic opportunities.</td>\n",
       "      <td>Slay</td>\n",
       "      <td>romance comedy</td>\n",
       "      <td>tm1038025</td>\n",
       "      <td>0.705414</td>\n",
       "      <td>2021</td>\n",
       "    </tr>\n",
       "  </tbody>\n",
       "</table>\n",
       "</div>"
      ],
      "text/plain": [
       "                                                                                                                                                                                     description  \\\n",
       "0  Two talented song-and-dance men team up after the war to become one of the hottest acts in show business. In time they befriend and become romantically involved with the beautiful Haynes...   \n",
       "1  On a bet, a gridiron hero at John Hughes High School sets out to turn a bespectacled plain Jane into a beautiful and popular prom queen in this outrageous send-up of the teen movies of t...   \n",
       "2                                             Argentine actor and comedian Fernando Sanjiao uses humor and impersonations to explore the concepts of masculinity and fatherhood in modern times.   \n",
       "3                                                  Mo Gilligan blends smooth moves and sharp humor as he riffs on humble beginnings, family dynamics and the complex art of dancing in the club.   \n",
       "4                                             Comedies Honest, introspective comic Simon Amstell digs deep and delivers a uniquely vulnerable stand-up set on love, ego, intimacy and ayahuasca.   \n",
       "5  Get ready to scream with laughter! Sam Kinison's primal scream will echo down through the comedy hall of fame summing up so much of modernity's horror and stupidity. This concert was tap...   \n",
       "6                     Romantic comedy following four couples who meet through a dating website. Four men go on a heroic mission to help four women and wind up experiencing a series of mishaps.   \n",
       "7                                                   Ronny Chieng (\"The Daily Show,\" \"Crazy Rich Asians\") takes center stage in this stand-up special and riffs on modern American life and more.   \n",
       "8                                         With unique individual perspectives that converge into a unified voice, sketch comedy group Astronomy Club delivers a smart and absurd brand of humor.   \n",
       "9                                         In pursuit of both success and validation, a group of tech-savvy individuals juggle intimate encounters, first impressions and romantic opportunities.   \n",
       "\n",
       "                                            title          genres         id  \\\n",
       "0                                 White Christmas  romance comedy    tm16479   \n",
       "1                          Not Another Teen Movie          comedy    tm58382   \n",
       "2                        Fernando Sanjiao: Hombre          comedy   tm416134   \n",
       "3                           Mo Gilligan: Momentum          comedy   tm832844   \n",
       "4                         Simon Amstell: Set Free          comedy   tm825952   \n",
       "5          Sam Kinison: Family Entertainment Hour          comedy     tm8687   \n",
       "6                           All's Well, Ends Well  romance comedy    tm37573   \n",
       "7  Ronny Chieng: Asian Comedian Destroys America!          comedy   tm844662   \n",
       "8                 Astronomy Club: The Sketch Show          comedy   ts223308   \n",
       "9                                            Slay  romance comedy  tm1038025   \n",
       "\n",
       "   similarity_score  release_year  \n",
       "0          0.830139          1954  \n",
       "1          0.714763          2001  \n",
       "2          0.714334          2018  \n",
       "3          0.713081          2019  \n",
       "4          0.712658          2019  \n",
       "5          0.708027          1991  \n",
       "6          0.707968          2012  \n",
       "7          0.706744          2019  \n",
       "8          0.705561          2019  \n",
       "9          0.705414          2021  "
      ]
     },
     "execution_count": 44,
     "metadata": {},
     "output_type": "execute_result"
    }
   ],
   "source": [
    "result = app.query(\n",
    "    with_movie_query,\n",
    "    description_query_text=\"\",\n",
    "    title_query_text=\"\",\n",
    "    genre_query_text=\"comedy\",\n",
    "    description_weight=1,\n",
    "    title_weight=0,\n",
    "    genre_weight=2,\n",
    "    recency_weight=0,\n",
    "    movie_id=\"tm16479\",\n",
    "    limit=TOP_N,\n",
    ")\n",
    "\n",
    "df = sl.PandasConverter.to_pandas(result)\n",
    "sl.PandasConverter.format_date_column(df, \"release_timestamp\", \"release_year\", year_only=True)"
   ]
  }
 ],
 "metadata": {
  "kernelspec": {
   "display_name": ".venv",
   "language": "python",
   "name": "python3"
  },
  "language_info": {
   "codemirror_mode": {
    "name": "ipython",
    "version": 3
   },
   "file_extension": ".py",
   "mimetype": "text/x-python",
   "name": "python",
   "nbconvert_exporter": "python",
   "pygments_lexer": "ipython3",
   "version": "3.11.5"
  }
 },
 "nbformat": 4,
 "nbformat_minor": 5
}
