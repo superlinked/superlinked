{
 "cells": [
  {
   "cell_type": "markdown",
   "id": "49c942f7-d65e-40cd-821b-d2d3071bcf1e",
   "metadata": {},
   "source": [
    "# Semantic search in business news\n",
    "\n",
    "This notebook implements semantic search in [news](https://www.kaggle.com/datasets/rmisra/news-category-dataset) articles. \n",
    "The dataset is filtered for news in the 'BUSINESS' category.\n",
    "\n",
    "We are embedding\n",
    "- headlines\n",
    "- news body (short description)\n",
    "- and date\n",
    "  \n",
    "to be able to search for\n",
    "- notable events, or\n",
    "- related articles to a specific story.\n",
    "\n",
    "There is a possibility to skew the results towards older or fresher news,\n",
    "and also to influence the results using a specific search term."
   ]
  },
  {
   "cell_type": "markdown",
   "id": "aac7c6a1-6af1-4393-b4a9-2c03f9f48f6f",
   "metadata": {},
   "source": [
    "## Boilerplate\n",
    "\n",
    "### Installation"
   ]
  },
  {
   "cell_type": "code",
   "execution_count": 2,
   "id": "a4952853-9474-4643-82e7-5f2c193f6c56",
   "metadata": {},
   "outputs": [],
   "source": [
    "%pip install superlinked==35.1.1"
   ]
  },
  {
   "cell_type": "markdown",
   "id": "52f0f53e-f2d6-49ce-9108-b42743c648d6",
   "metadata": {},
   "source": [
    "### Imports and constants"
   ]
  },
  {
   "cell_type": "code",
   "execution_count": 3,
   "id": "1346b1c0-50b3-48a3-97f9-860c919ca645",
   "metadata": {},
   "outputs": [],
   "source": [
    "from datetime import datetime, timedelta, timezone\n",
    "\n",
    "import os\n",
    "import sys\n",
    "import altair as alt\n",
    "import pandas as pd\n",
    "from superlinked import framework as sl\n",
    "\n",
    "alt.renderers.enable(sl.get_altair_renderer())\n",
    "alt.data_transformers.disable_max_rows()\n",
    "pd.set_option(\"display.max_colwidth\", 190)"
   ]
  },
  {
   "cell_type": "code",
   "execution_count": 4,
   "id": "c9738e3d-7d4f-4fbe-9451-c56e11a65acf",
   "metadata": {},
   "outputs": [],
   "source": [
    "YEAR_IN_DAYS = 365\n",
    "TOP_N = 10\n",
    "DATASET_URL = \"https://storage.googleapis.com/superlinked-notebook-news-dataset/business_news.json\"\n",
    "# as the dataset contains articles from 2022 and before, we can set our application's \"NOW\" to this date\n",
    "END_OF_2022_TS = int(datetime(2022, 12, 31, 23, 59).timestamp())\n",
    "EXECUTOR_DATA = {sl.CONTEXT_COMMON: {sl.CONTEXT_COMMON_NOW: END_OF_2022_TS}}"
   ]
  },
  {
   "cell_type": "markdown",
   "id": "cec9eab8-2c61-40dc-b875-d0c062071221",
   "metadata": {},
   "source": [
    "## Prepare & explore dataset"
   ]
  },
  {
   "cell_type": "code",
   "execution_count": 5,
   "id": "b03bff12-fdf6-4500-b3c5-fb421a8990f5",
   "metadata": {},
   "outputs": [],
   "source": [
    "NROWS = int(os.getenv(\"NOTEBOOK_TEST_ROW_LIMIT\", str(sys.maxsize)))\n",
    "business_news = pd.read_json(DATASET_URL, convert_dates=True).head(NROWS)"
   ]
  },
  {
   "cell_type": "code",
   "execution_count": 6,
   "id": "89d28b5c-c603-4817-b7f8-de80c435e2fb",
   "metadata": {},
   "outputs": [],
   "source": [
    "# we are going to need an id column\n",
    "business_news = business_news.reset_index().rename(columns={\"index\": \"id\"})\n",
    "# let's create utc timestamps\n",
    "business_news[\"date\"] = [int(date.replace(tzinfo=timezone.utc).timestamp()) for date in business_news.date]"
   ]
  },
  {
   "cell_type": "code",
   "execution_count": 7,
   "id": "f08f8086-85f1-4ea8-9446-07c5fdd68609",
   "metadata": {
    "scrolled": true
   },
   "outputs": [
    {
     "data": {
      "text/html": [
       "<div>\n",
       "<style scoped>\n",
       "    .dataframe tbody tr th:only-of-type {\n",
       "        vertical-align: middle;\n",
       "    }\n",
       "\n",
       "    .dataframe tbody tr th {\n",
       "        vertical-align: top;\n",
       "    }\n",
       "\n",
       "    .dataframe thead th {\n",
       "        text-align: right;\n",
       "    }\n",
       "</style>\n",
       "<table border=\"1\" class=\"dataframe\">\n",
       "  <thead>\n",
       "    <tr style=\"text-align: right;\">\n",
       "      <th></th>\n",
       "      <th>id</th>\n",
       "      <th>link</th>\n",
       "      <th>headline</th>\n",
       "      <th>category</th>\n",
       "      <th>short_description</th>\n",
       "      <th>authors</th>\n",
       "      <th>date</th>\n",
       "    </tr>\n",
       "  </thead>\n",
       "  <tbody>\n",
       "    <tr>\n",
       "      <th>0</th>\n",
       "      <td>162</td>\n",
       "      <td>https://www.huffpost.com/entry/rei-workers-berkeley-store-union_n_6307a5f4e4b0f72c09ded80d</td>\n",
       "      <td>REI Workers At Berkeley Store Vote To Unionize In Another Win For Labor</td>\n",
       "      <td>BUSINESS</td>\n",
       "      <td>They follow in the footsteps of REI workers in New York City who formed a union earlier this year.</td>\n",
       "      <td>Dave Jamieson</td>\n",
       "      <td>1661385600</td>\n",
       "    </tr>\n",
       "    <tr>\n",
       "      <th>1</th>\n",
       "      <td>353</td>\n",
       "      <td>https://www.huffpost.com/entry/twitter-elon-musk-trial-october_n_62d7c115e4b000da23f9c7df</td>\n",
       "      <td>Twitter Lawyer Calls Elon Musk 'Committed Enemy' As Judge Sets October Trial</td>\n",
       "      <td>BUSINESS</td>\n",
       "      <td>Delaware Chancery Judge Kathaleen McCormick dealt the world's richest person a setback in ordering a speedy trial on his abandoned deal to buy Twitter.</td>\n",
       "      <td>Marita Vlachou</td>\n",
       "      <td>1658275200</td>\n",
       "    </tr>\n",
       "    <tr>\n",
       "      <th>2</th>\n",
       "      <td>632</td>\n",
       "      <td>https://www.huffpost.com/entry/starbucks-leaves-russian-market-shuts-stores_n_628b9804e4b05cfc268f4413</td>\n",
       "      <td>Starbucks Leaving Russian Market, Shutting 130 Stores</td>\n",
       "      <td>BUSINESS</td>\n",
       "      <td>Starbucks' move follows McDonald's exit from the Russian market last week.</td>\n",
       "      <td>DEE-ANN DURBIN, AP</td>\n",
       "      <td>1653264000</td>\n",
       "    </tr>\n",
       "    <tr>\n",
       "      <th>3</th>\n",
       "      <td>690</td>\n",
       "      <td>https://www.huffpost.com/entry/coinbase-crypto-slumping_n_627c5582e4b0b74b0e7ed621</td>\n",
       "      <td>Crypto Crash Leaves Trading Platform Coinbase Slumped</td>\n",
       "      <td>BUSINESS</td>\n",
       "      <td>Cryptocurrency trading platform Coinbase has lost half its value in the past week.</td>\n",
       "      <td>Matt Ott, AP</td>\n",
       "      <td>1652313600</td>\n",
       "    </tr>\n",
       "    <tr>\n",
       "      <th>4</th>\n",
       "      <td>727</td>\n",
       "      <td>https://www.huffpost.com/entry/us-april-jobs-report-2022_n_627517dfe4b009a811c295ec</td>\n",
       "      <td>US Added 428,000 Jobs In April Despite Surging Inflation</td>\n",
       "      <td>BUSINESS</td>\n",
       "      <td>At 3.6%, unemployment nearly reached the lowest level in half a century.</td>\n",
       "      <td>Paul Wiseman, AP</td>\n",
       "      <td>1651795200</td>\n",
       "    </tr>\n",
       "  </tbody>\n",
       "</table>\n",
       "</div>"
      ],
      "text/plain": [
       "    id  \\\n",
       "0  162   \n",
       "1  353   \n",
       "2  632   \n",
       "3  690   \n",
       "4  727   \n",
       "\n",
       "                                                                                                     link  \\\n",
       "0              https://www.huffpost.com/entry/rei-workers-berkeley-store-union_n_6307a5f4e4b0f72c09ded80d   \n",
       "1               https://www.huffpost.com/entry/twitter-elon-musk-trial-october_n_62d7c115e4b000da23f9c7df   \n",
       "2  https://www.huffpost.com/entry/starbucks-leaves-russian-market-shuts-stores_n_628b9804e4b05cfc268f4413   \n",
       "3                      https://www.huffpost.com/entry/coinbase-crypto-slumping_n_627c5582e4b0b74b0e7ed621   \n",
       "4                     https://www.huffpost.com/entry/us-april-jobs-report-2022_n_627517dfe4b009a811c295ec   \n",
       "\n",
       "                                                                       headline  \\\n",
       "0       REI Workers At Berkeley Store Vote To Unionize In Another Win For Labor   \n",
       "1  Twitter Lawyer Calls Elon Musk 'Committed Enemy' As Judge Sets October Trial   \n",
       "2                         Starbucks Leaving Russian Market, Shutting 130 Stores   \n",
       "3                         Crypto Crash Leaves Trading Platform Coinbase Slumped   \n",
       "4                      US Added 428,000 Jobs In April Despite Surging Inflation   \n",
       "\n",
       "   category  \\\n",
       "0  BUSINESS   \n",
       "1  BUSINESS   \n",
       "2  BUSINESS   \n",
       "3  BUSINESS   \n",
       "4  BUSINESS   \n",
       "\n",
       "                                                                                                                                         short_description  \\\n",
       "0                                                       They follow in the footsteps of REI workers in New York City who formed a union earlier this year.   \n",
       "1  Delaware Chancery Judge Kathaleen McCormick dealt the world's richest person a setback in ordering a speedy trial on his abandoned deal to buy Twitter.   \n",
       "2                                                                               Starbucks' move follows McDonald's exit from the Russian market last week.   \n",
       "3                                                                       Cryptocurrency trading platform Coinbase has lost half its value in the past week.   \n",
       "4                                                                                 At 3.6%, unemployment nearly reached the lowest level in half a century.   \n",
       "\n",
       "              authors        date  \n",
       "0       Dave Jamieson  1661385600  \n",
       "1      Marita Vlachou  1658275200  \n",
       "2  DEE-ANN DURBIN, AP  1653264000  \n",
       "3        Matt Ott, AP  1652313600  \n",
       "4    Paul Wiseman, AP  1651795200  "
      ]
     },
     "execution_count": 7,
     "metadata": {},
     "output_type": "execute_result"
    }
   ],
   "source": [
    "# a sneak peak into the data\n",
    "business_news.head()"
   ]
  },
  {
   "cell_type": "markdown",
   "id": "228c1c1c-bb7b-4f08-8d08-d5dff9ff60db",
   "metadata": {},
   "source": [
    "### Understand release date distribution"
   ]
  },
  {
   "cell_type": "code",
   "execution_count": 8,
   "id": "e7f7a6fe-5ae2-4704-970b-feb8808ec60e",
   "metadata": {},
   "outputs": [
    {
     "data": {
      "application/vnd.vegalite.v5+json": {
       "$schema": "https://vega.github.io/schema/vega-lite/v5.16.3.json",
       "config": {
        "view": {
         "continuousHeight": 300,
         "continuousWidth": 300
        }
       },
       "data": {
        "name": "data-4abcb33b87bcf4d12d14dd7a5b6ac4a7"
       },
       "datasets": {
        "data-4abcb33b87bcf4d12d14dd7a5b6ac4a7": [
         {
          "year_of_publication": 2022
         },
         {
          "year_of_publication": 2022
         },
         {
          "year_of_publication": 2022
         },
         {
          "year_of_publication": 2022
         },
         {
          "year_of_publication": 2022
         },
         {
          "year_of_publication": 2022
         },
         {
          "year_of_publication": 2022
         },
         {
          "year_of_publication": 2022
         },
         {
          "year_of_publication": 2022
         },
         {
          "year_of_publication": 2022
         },
         {
          "year_of_publication": 2022
         },
         {
          "year_of_publication": 2022
         },
         {
          "year_of_publication": 2022
         },
         {
          "year_of_publication": 2022
         },
         {
          "year_of_publication": 2022
         },
         {
          "year_of_publication": 2021
         },
         {
          "year_of_publication": 2021
         },
         {
          "year_of_publication": 2021
         },
         {
          "year_of_publication": 2021
         },
         {
          "year_of_publication": 2021
         },
         {
          "year_of_publication": 2021
         },
         {
          "year_of_publication": 2021
         },
         {
          "year_of_publication": 2021
         },
         {
          "year_of_publication": 2021
         },
         {
          "year_of_publication": 2020
         },
         {
          "year_of_publication": 2020
         },
         {
          "year_of_publication": 2020
         },
         {
          "year_of_publication": 2020
         },
         {
          "year_of_publication": 2020
         },
         {
          "year_of_publication": 2020
         },
         {
          "year_of_publication": 2020
         },
         {
          "year_of_publication": 2020
         },
         {
          "year_of_publication": 2020
         },
         {
          "year_of_publication": 2020
         },
         {
          "year_of_publication": 2020
         },
         {
          "year_of_publication": 2020
         },
         {
          "year_of_publication": 2020
         },
         {
          "year_of_publication": 2020
         },
         {
          "year_of_publication": 2020
         },
         {
          "year_of_publication": 2020
         },
         {
          "year_of_publication": 2020
         },
         {
          "year_of_publication": 2020
         },
         {
          "year_of_publication": 2019
         },
         {
          "year_of_publication": 2019
         },
         {
          "year_of_publication": 2019
         },
         {
          "year_of_publication": 2019
         },
         {
          "year_of_publication": 2019
         },
         {
          "year_of_publication": 2019
         },
         {
          "year_of_publication": 2019
         },
         {
          "year_of_publication": 2018
         },
         {
          "year_of_publication": 2018
         },
         {
          "year_of_publication": 2018
         },
         {
          "year_of_publication": 2018
         },
         {
          "year_of_publication": 2018
         },
         {
          "year_of_publication": 2018
         },
         {
          "year_of_publication": 2018
         },
         {
          "year_of_publication": 2018
         },
         {
          "year_of_publication": 2018
         },
         {
          "year_of_publication": 2018
         },
         {
          "year_of_publication": 2018
         },
         {
          "year_of_publication": 2018
         },
         {
          "year_of_publication": 2018
         },
         {
          "year_of_publication": 2018
         },
         {
          "year_of_publication": 2018
         },
         {
          "year_of_publication": 2018
         },
         {
          "year_of_publication": 2018
         },
         {
          "year_of_publication": 2018
         },
         {
          "year_of_publication": 2018
         },
         {
          "year_of_publication": 2018
         },
         {
          "year_of_publication": 2018
         },
         {
          "year_of_publication": 2018
         },
         {
          "year_of_publication": 2018
         },
         {
          "year_of_publication": 2018
         },
         {
          "year_of_publication": 2018
         },
         {
          "year_of_publication": 2018
         },
         {
          "year_of_publication": 2018
         },
         {
          "year_of_publication": 2018
         },
         {
          "year_of_publication": 2018
         },
         {
          "year_of_publication": 2018
         },
         {
          "year_of_publication": 2018
         },
         {
          "year_of_publication": 2018
         },
         {
          "year_of_publication": 2018
         },
         {
          "year_of_publication": 2018
         },
         {
          "year_of_publication": 2018
         },
         {
          "year_of_publication": 2018
         },
         {
          "year_of_publication": 2018
         },
         {
          "year_of_publication": 2018
         },
         {
          "year_of_publication": 2018
         },
         {
          "year_of_publication": 2018
         },
         {
          "year_of_publication": 2018
         },
         {
          "year_of_publication": 2018
         },
         {
          "year_of_publication": 2018
         },
         {
          "year_of_publication": 2018
         },
         {
          "year_of_publication": 2018
         },
         {
          "year_of_publication": 2018
         },
         {
          "year_of_publication": 2018
         },
         {
          "year_of_publication": 2018
         },
         {
          "year_of_publication": 2018
         },
         {
          "year_of_publication": 2018
         },
         {
          "year_of_publication": 2018
         },
         {
          "year_of_publication": 2018
         },
         {
          "year_of_publication": 2018
         },
         {
          "year_of_publication": 2018
         },
         {
          "year_of_publication": 2018
         },
         {
          "year_of_publication": 2018
         },
         {
          "year_of_publication": 2018
         },
         {
          "year_of_publication": 2018
         },
         {
          "year_of_publication": 2018
         },
         {
          "year_of_publication": 2018
         },
         {
          "year_of_publication": 2018
         },
         {
          "year_of_publication": 2018
         },
         {
          "year_of_publication": 2018
         },
         {
          "year_of_publication": 2018
         },
         {
          "year_of_publication": 2018
         },
         {
          "year_of_publication": 2018
         },
         {
          "year_of_publication": 2018
         },
         {
          "year_of_publication": 2018
         },
         {
          "year_of_publication": 2018
         },
         {
          "year_of_publication": 2018
         },
         {
          "year_of_publication": 2018
         },
         {
          "year_of_publication": 2018
         },
         {
          "year_of_publication": 2018
         },
         {
          "year_of_publication": 2018
         },
         {
          "year_of_publication": 2018
         },
         {
          "year_of_publication": 2018
         },
         {
          "year_of_publication": 2018
         },
         {
          "year_of_publication": 2018
         },
         {
          "year_of_publication": 2018
         },
         {
          "year_of_publication": 2018
         },
         {
          "year_of_publication": 2018
         },
         {
          "year_of_publication": 2018
         },
         {
          "year_of_publication": 2018
         },
         {
          "year_of_publication": 2018
         },
         {
          "year_of_publication": 2018
         },
         {
          "year_of_publication": 2018
         },
         {
          "year_of_publication": 2018
         },
         {
          "year_of_publication": 2018
         },
         {
          "year_of_publication": 2018
         },
         {
          "year_of_publication": 2018
         },
         {
          "year_of_publication": 2018
         },
         {
          "year_of_publication": 2018
         },
         {
          "year_of_publication": 2017
         },
         {
          "year_of_publication": 2017
         },
         {
          "year_of_publication": 2017
         },
         {
          "year_of_publication": 2017
         },
         {
          "year_of_publication": 2017
         },
         {
          "year_of_publication": 2017
         },
         {
          "year_of_publication": 2017
         },
         {
          "year_of_publication": 2017
         },
         {
          "year_of_publication": 2017
         },
         {
          "year_of_publication": 2017
         },
         {
          "year_of_publication": 2017
         },
         {
          "year_of_publication": 2017
         },
         {
          "year_of_publication": 2017
         },
         {
          "year_of_publication": 2017
         },
         {
          "year_of_publication": 2017
         },
         {
          "year_of_publication": 2017
         },
         {
          "year_of_publication": 2017
         },
         {
          "year_of_publication": 2017
         },
         {
          "year_of_publication": 2017
         },
         {
          "year_of_publication": 2017
         },
         {
          "year_of_publication": 2017
         },
         {
          "year_of_publication": 2017
         },
         {
          "year_of_publication": 2017
         },
         {
          "year_of_publication": 2017
         },
         {
          "year_of_publication": 2017
         },
         {
          "year_of_publication": 2017
         },
         {
          "year_of_publication": 2017
         },
         {
          "year_of_publication": 2017
         },
         {
          "year_of_publication": 2017
         },
         {
          "year_of_publication": 2017
         },
         {
          "year_of_publication": 2017
         },
         {
          "year_of_publication": 2017
         },
         {
          "year_of_publication": 2017
         },
         {
          "year_of_publication": 2017
         },
         {
          "year_of_publication": 2017
         },
         {
          "year_of_publication": 2017
         },
         {
          "year_of_publication": 2017
         },
         {
          "year_of_publication": 2017
         },
         {
          "year_of_publication": 2017
         },
         {
          "year_of_publication": 2017
         },
         {
          "year_of_publication": 2017
         },
         {
          "year_of_publication": 2017
         },
         {
          "year_of_publication": 2017
         },
         {
          "year_of_publication": 2017
         },
         {
          "year_of_publication": 2017
         },
         {
          "year_of_publication": 2017
         },
         {
          "year_of_publication": 2017
         },
         {
          "year_of_publication": 2017
         },
         {
          "year_of_publication": 2017
         },
         {
          "year_of_publication": 2017
         },
         {
          "year_of_publication": 2017
         },
         {
          "year_of_publication": 2017
         },
         {
          "year_of_publication": 2017
         },
         {
          "year_of_publication": 2017
         },
         {
          "year_of_publication": 2017
         },
         {
          "year_of_publication": 2017
         },
         {
          "year_of_publication": 2017
         },
         {
          "year_of_publication": 2017
         },
         {
          "year_of_publication": 2017
         },
         {
          "year_of_publication": 2017
         },
         {
          "year_of_publication": 2017
         },
         {
          "year_of_publication": 2017
         },
         {
          "year_of_publication": 2017
         },
         {
          "year_of_publication": 2017
         },
         {
          "year_of_publication": 2017
         },
         {
          "year_of_publication": 2017
         },
         {
          "year_of_publication": 2017
         },
         {
          "year_of_publication": 2017
         },
         {
          "year_of_publication": 2017
         },
         {
          "year_of_publication": 2017
         },
         {
          "year_of_publication": 2017
         },
         {
          "year_of_publication": 2017
         },
         {
          "year_of_publication": 2017
         },
         {
          "year_of_publication": 2017
         },
         {
          "year_of_publication": 2017
         },
         {
          "year_of_publication": 2017
         },
         {
          "year_of_publication": 2017
         },
         {
          "year_of_publication": 2017
         },
         {
          "year_of_publication": 2017
         },
         {
          "year_of_publication": 2017
         },
         {
          "year_of_publication": 2017
         },
         {
          "year_of_publication": 2017
         },
         {
          "year_of_publication": 2017
         },
         {
          "year_of_publication": 2017
         },
         {
          "year_of_publication": 2017
         },
         {
          "year_of_publication": 2017
         },
         {
          "year_of_publication": 2017
         },
         {
          "year_of_publication": 2017
         },
         {
          "year_of_publication": 2017
         },
         {
          "year_of_publication": 2017
         },
         {
          "year_of_publication": 2017
         },
         {
          "year_of_publication": 2017
         },
         {
          "year_of_publication": 2017
         },
         {
          "year_of_publication": 2017
         },
         {
          "year_of_publication": 2017
         },
         {
          "year_of_publication": 2017
         },
         {
          "year_of_publication": 2017
         },
         {
          "year_of_publication": 2017
         },
         {
          "year_of_publication": 2017
         },
         {
          "year_of_publication": 2017
         },
         {
          "year_of_publication": 2017
         },
         {
          "year_of_publication": 2017
         },
         {
          "year_of_publication": 2017
         },
         {
          "year_of_publication": 2017
         },
         {
          "year_of_publication": 2017
         },
         {
          "year_of_publication": 2017
         },
         {
          "year_of_publication": 2017
         },
         {
          "year_of_publication": 2017
         },
         {
          "year_of_publication": 2017
         },
         {
          "year_of_publication": 2017
         },
         {
          "year_of_publication": 2017
         },
         {
          "year_of_publication": 2017
         },
         {
          "year_of_publication": 2017
         },
         {
          "year_of_publication": 2017
         },
         {
          "year_of_publication": 2017
         },
         {
          "year_of_publication": 2017
         },
         {
          "year_of_publication": 2017
         },
         {
          "year_of_publication": 2017
         },
         {
          "year_of_publication": 2017
         },
         {
          "year_of_publication": 2017
         },
         {
          "year_of_publication": 2017
         },
         {
          "year_of_publication": 2017
         },
         {
          "year_of_publication": 2017
         },
         {
          "year_of_publication": 2017
         },
         {
          "year_of_publication": 2017
         },
         {
          "year_of_publication": 2017
         },
         {
          "year_of_publication": 2017
         },
         {
          "year_of_publication": 2017
         },
         {
          "year_of_publication": 2017
         },
         {
          "year_of_publication": 2017
         },
         {
          "year_of_publication": 2017
         },
         {
          "year_of_publication": 2017
         },
         {
          "year_of_publication": 2017
         },
         {
          "year_of_publication": 2017
         },
         {
          "year_of_publication": 2017
         },
         {
          "year_of_publication": 2017
         },
         {
          "year_of_publication": 2017
         },
         {
          "year_of_publication": 2017
         },
         {
          "year_of_publication": 2017
         },
         {
          "year_of_publication": 2017
         },
         {
          "year_of_publication": 2017
         },
         {
          "year_of_publication": 2017
         },
         {
          "year_of_publication": 2017
         },
         {
          "year_of_publication": 2017
         },
         {
          "year_of_publication": 2017
         },
         {
          "year_of_publication": 2017
         },
         {
          "year_of_publication": 2017
         },
         {
          "year_of_publication": 2017
         },
         {
          "year_of_publication": 2017
         },
         {
          "year_of_publication": 2017
         },
         {
          "year_of_publication": 2017
         },
         {
          "year_of_publication": 2017
         },
         {
          "year_of_publication": 2017
         },
         {
          "year_of_publication": 2017
         },
         {
          "year_of_publication": 2017
         },
         {
          "year_of_publication": 2017
         },
         {
          "year_of_publication": 2017
         },
         {
          "year_of_publication": 2017
         },
         {
          "year_of_publication": 2017
         },
         {
          "year_of_publication": 2017
         },
         {
          "year_of_publication": 2017
         },
         {
          "year_of_publication": 2017
         },
         {
          "year_of_publication": 2017
         },
         {
          "year_of_publication": 2017
         },
         {
          "year_of_publication": 2017
         },
         {
          "year_of_publication": 2017
         },
         {
          "year_of_publication": 2017
         },
         {
          "year_of_publication": 2017
         },
         {
          "year_of_publication": 2017
         },
         {
          "year_of_publication": 2017
         },
         {
          "year_of_publication": 2017
         },
         {
          "year_of_publication": 2017
         },
         {
          "year_of_publication": 2017
         },
         {
          "year_of_publication": 2017
         },
         {
          "year_of_publication": 2017
         },
         {
          "year_of_publication": 2017
         },
         {
          "year_of_publication": 2017
         },
         {
          "year_of_publication": 2017
         },
         {
          "year_of_publication": 2017
         },
         {
          "year_of_publication": 2017
         },
         {
          "year_of_publication": 2017
         },
         {
          "year_of_publication": 2017
         },
         {
          "year_of_publication": 2017
         },
         {
          "year_of_publication": 2017
         },
         {
          "year_of_publication": 2017
         },
         {
          "year_of_publication": 2017
         },
         {
          "year_of_publication": 2017
         },
         {
          "year_of_publication": 2017
         },
         {
          "year_of_publication": 2017
         },
         {
          "year_of_publication": 2017
         },
         {
          "year_of_publication": 2017
         },
         {
          "year_of_publication": 2017
         },
         {
          "year_of_publication": 2017
         },
         {
          "year_of_publication": 2017
         },
         {
          "year_of_publication": 2017
         },
         {
          "year_of_publication": 2017
         },
         {
          "year_of_publication": 2017
         },
         {
          "year_of_publication": 2017
         },
         {
          "year_of_publication": 2017
         },
         {
          "year_of_publication": 2017
         },
         {
          "year_of_publication": 2017
         },
         {
          "year_of_publication": 2017
         },
         {
          "year_of_publication": 2017
         },
         {
          "year_of_publication": 2017
         },
         {
          "year_of_publication": 2017
         },
         {
          "year_of_publication": 2017
         },
         {
          "year_of_publication": 2017
         },
         {
          "year_of_publication": 2017
         },
         {
          "year_of_publication": 2017
         },
         {
          "year_of_publication": 2017
         },
         {
          "year_of_publication": 2017
         },
         {
          "year_of_publication": 2017
         },
         {
          "year_of_publication": 2017
         },
         {
          "year_of_publication": 2017
         },
         {
          "year_of_publication": 2017
         },
         {
          "year_of_publication": 2017
         },
         {
          "year_of_publication": 2017
         },
         {
          "year_of_publication": 2017
         },
         {
          "year_of_publication": 2017
         },
         {
          "year_of_publication": 2017
         },
         {
          "year_of_publication": 2017
         },
         {
          "year_of_publication": 2017
         },
         {
          "year_of_publication": 2017
         },
         {
          "year_of_publication": 2017
         },
         {
          "year_of_publication": 2017
         },
         {
          "year_of_publication": 2017
         },
         {
          "year_of_publication": 2017
         },
         {
          "year_of_publication": 2017
         },
         {
          "year_of_publication": 2017
         },
         {
          "year_of_publication": 2017
         },
         {
          "year_of_publication": 2017
         },
         {
          "year_of_publication": 2017
         },
         {
          "year_of_publication": 2017
         },
         {
          "year_of_publication": 2017
         },
         {
          "year_of_publication": 2017
         },
         {
          "year_of_publication": 2017
         },
         {
          "year_of_publication": 2017
         },
         {
          "year_of_publication": 2017
         },
         {
          "year_of_publication": 2017
         },
         {
          "year_of_publication": 2017
         },
         {
          "year_of_publication": 2017
         },
         {
          "year_of_publication": 2017
         },
         {
          "year_of_publication": 2017
         },
         {
          "year_of_publication": 2017
         },
         {
          "year_of_publication": 2017
         },
         {
          "year_of_publication": 2017
         },
         {
          "year_of_publication": 2017
         },
         {
          "year_of_publication": 2017
         },
         {
          "year_of_publication": 2017
         },
         {
          "year_of_publication": 2017
         },
         {
          "year_of_publication": 2017
         },
         {
          "year_of_publication": 2017
         },
         {
          "year_of_publication": 2017
         },
         {
          "year_of_publication": 2017
         },
         {
          "year_of_publication": 2017
         },
         {
          "year_of_publication": 2017
         },
         {
          "year_of_publication": 2017
         },
         {
          "year_of_publication": 2017
         },
         {
          "year_of_publication": 2017
         },
         {
          "year_of_publication": 2017
         },
         {
          "year_of_publication": 2017
         },
         {
          "year_of_publication": 2017
         },
         {
          "year_of_publication": 2017
         },
         {
          "year_of_publication": 2017
         },
         {
          "year_of_publication": 2017
         },
         {
          "year_of_publication": 2017
         },
         {
          "year_of_publication": 2017
         },
         {
          "year_of_publication": 2017
         },
         {
          "year_of_publication": 2017
         },
         {
          "year_of_publication": 2017
         },
         {
          "year_of_publication": 2017
         },
         {
          "year_of_publication": 2017
         },
         {
          "year_of_publication": 2017
         },
         {
          "year_of_publication": 2017
         },
         {
          "year_of_publication": 2017
         },
         {
          "year_of_publication": 2017
         },
         {
          "year_of_publication": 2017
         },
         {
          "year_of_publication": 2017
         },
         {
          "year_of_publication": 2017
         },
         {
          "year_of_publication": 2017
         },
         {
          "year_of_publication": 2017
         },
         {
          "year_of_publication": 2017
         },
         {
          "year_of_publication": 2017
         },
         {
          "year_of_publication": 2017
         },
         {
          "year_of_publication": 2017
         },
         {
          "year_of_publication": 2017
         },
         {
          "year_of_publication": 2017
         },
         {
          "year_of_publication": 2017
         },
         {
          "year_of_publication": 2017
         },
         {
          "year_of_publication": 2017
         },
         {
          "year_of_publication": 2017
         },
         {
          "year_of_publication": 2017
         },
         {
          "year_of_publication": 2017
         },
         {
          "year_of_publication": 2017
         },
         {
          "year_of_publication": 2017
         },
         {
          "year_of_publication": 2017
         },
         {
          "year_of_publication": 2017
         },
         {
          "year_of_publication": 2017
         },
         {
          "year_of_publication": 2017
         },
         {
          "year_of_publication": 2017
         },
         {
          "year_of_publication": 2017
         },
         {
          "year_of_publication": 2017
         },
         {
          "year_of_publication": 2017
         },
         {
          "year_of_publication": 2017
         },
         {
          "year_of_publication": 2017
         },
         {
          "year_of_publication": 2017
         },
         {
          "year_of_publication": 2017
         },
         {
          "year_of_publication": 2017
         },
         {
          "year_of_publication": 2017
         },
         {
          "year_of_publication": 2017
         },
         {
          "year_of_publication": 2017
         },
         {
          "year_of_publication": 2017
         },
         {
          "year_of_publication": 2017
         },
         {
          "year_of_publication": 2017
         },
         {
          "year_of_publication": 2017
         },
         {
          "year_of_publication": 2017
         },
         {
          "year_of_publication": 2017
         },
         {
          "year_of_publication": 2017
         },
         {
          "year_of_publication": 2017
         },
         {
          "year_of_publication": 2017
         },
         {
          "year_of_publication": 2017
         },
         {
          "year_of_publication": 2017
         },
         {
          "year_of_publication": 2017
         },
         {
          "year_of_publication": 2017
         },
         {
          "year_of_publication": 2017
         },
         {
          "year_of_publication": 2017
         },
         {
          "year_of_publication": 2017
         },
         {
          "year_of_publication": 2017
         },
         {
          "year_of_publication": 2017
         },
         {
          "year_of_publication": 2017
         },
         {
          "year_of_publication": 2017
         },
         {
          "year_of_publication": 2017
         },
         {
          "year_of_publication": 2017
         },
         {
          "year_of_publication": 2017
         },
         {
          "year_of_publication": 2017
         },
         {
          "year_of_publication": 2017
         },
         {
          "year_of_publication": 2017
         },
         {
          "year_of_publication": 2017
         },
         {
          "year_of_publication": 2017
         },
         {
          "year_of_publication": 2017
         },
         {
          "year_of_publication": 2017
         },
         {
          "year_of_publication": 2017
         },
         {
          "year_of_publication": 2017
         },
         {
          "year_of_publication": 2017
         },
         {
          "year_of_publication": 2017
         },
         {
          "year_of_publication": 2017
         },
         {
          "year_of_publication": 2017
         },
         {
          "year_of_publication": 2017
         },
         {
          "year_of_publication": 2017
         },
         {
          "year_of_publication": 2017
         },
         {
          "year_of_publication": 2017
         },
         {
          "year_of_publication": 2017
         },
         {
          "year_of_publication": 2017
         },
         {
          "year_of_publication": 2017
         },
         {
          "year_of_publication": 2017
         },
         {
          "year_of_publication": 2017
         },
         {
          "year_of_publication": 2017
         },
         {
          "year_of_publication": 2017
         },
         {
          "year_of_publication": 2017
         },
         {
          "year_of_publication": 2017
         },
         {
          "year_of_publication": 2017
         },
         {
          "year_of_publication": 2017
         },
         {
          "year_of_publication": 2017
         },
         {
          "year_of_publication": 2017
         },
         {
          "year_of_publication": 2017
         },
         {
          "year_of_publication": 2017
         },
         {
          "year_of_publication": 2017
         },
         {
          "year_of_publication": 2017
         },
         {
          "year_of_publication": 2017
         },
         {
          "year_of_publication": 2017
         },
         {
          "year_of_publication": 2017
         },
         {
          "year_of_publication": 2017
         },
         {
          "year_of_publication": 2017
         },
         {
          "year_of_publication": 2017
         },
         {
          "year_of_publication": 2017
         },
         {
          "year_of_publication": 2017
         },
         {
          "year_of_publication": 2017
         },
         {
          "year_of_publication": 2017
         },
         {
          "year_of_publication": 2017
         },
         {
          "year_of_publication": 2017
         },
         {
          "year_of_publication": 2017
         },
         {
          "year_of_publication": 2017
         },
         {
          "year_of_publication": 2017
         },
         {
          "year_of_publication": 2017
         },
         {
          "year_of_publication": 2017
         },
         {
          "year_of_publication": 2017
         },
         {
          "year_of_publication": 2017
         },
         {
          "year_of_publication": 2017
         },
         {
          "year_of_publication": 2017
         },
         {
          "year_of_publication": 2017
         },
         {
          "year_of_publication": 2017
         },
         {
          "year_of_publication": 2017
         },
         {
          "year_of_publication": 2017
         },
         {
          "year_of_publication": 2017
         },
         {
          "year_of_publication": 2017
         },
         {
          "year_of_publication": 2017
         },
         {
          "year_of_publication": 2017
         },
         {
          "year_of_publication": 2017
         },
         {
          "year_of_publication": 2017
         },
         {
          "year_of_publication": 2017
         },
         {
          "year_of_publication": 2017
         },
         {
          "year_of_publication": 2017
         },
         {
          "year_of_publication": 2017
         },
         {
          "year_of_publication": 2017
         },
         {
          "year_of_publication": 2017
         },
         {
          "year_of_publication": 2017
         },
         {
          "year_of_publication": 2016
         },
         {
          "year_of_publication": 2016
         },
         {
          "year_of_publication": 2016
         },
         {
          "year_of_publication": 2016
         },
         {
          "year_of_publication": 2016
         },
         {
          "year_of_publication": 2016
         },
         {
          "year_of_publication": 2016
         },
         {
          "year_of_publication": 2016
         },
         {
          "year_of_publication": 2016
         },
         {
          "year_of_publication": 2016
         },
         {
          "year_of_publication": 2016
         },
         {
          "year_of_publication": 2016
         },
         {
          "year_of_publication": 2016
         },
         {
          "year_of_publication": 2016
         },
         {
          "year_of_publication": 2016
         },
         {
          "year_of_publication": 2016
         },
         {
          "year_of_publication": 2016
         },
         {
          "year_of_publication": 2016
         },
         {
          "year_of_publication": 2016
         },
         {
          "year_of_publication": 2016
         },
         {
          "year_of_publication": 2016
         },
         {
          "year_of_publication": 2016
         },
         {
          "year_of_publication": 2016
         },
         {
          "year_of_publication": 2016
         },
         {
          "year_of_publication": 2016
         },
         {
          "year_of_publication": 2016
         },
         {
          "year_of_publication": 2016
         },
         {
          "year_of_publication": 2016
         },
         {
          "year_of_publication": 2016
         },
         {
          "year_of_publication": 2016
         },
         {
          "year_of_publication": 2016
         },
         {
          "year_of_publication": 2016
         },
         {
          "year_of_publication": 2016
         },
         {
          "year_of_publication": 2016
         },
         {
          "year_of_publication": 2016
         },
         {
          "year_of_publication": 2016
         },
         {
          "year_of_publication": 2016
         },
         {
          "year_of_publication": 2016
         },
         {
          "year_of_publication": 2016
         },
         {
          "year_of_publication": 2016
         },
         {
          "year_of_publication": 2016
         },
         {
          "year_of_publication": 2016
         },
         {
          "year_of_publication": 2016
         },
         {
          "year_of_publication": 2016
         },
         {
          "year_of_publication": 2016
         },
         {
          "year_of_publication": 2016
         },
         {
          "year_of_publication": 2016
         },
         {
          "year_of_publication": 2016
         },
         {
          "year_of_publication": 2016
         },
         {
          "year_of_publication": 2016
         },
         {
          "year_of_publication": 2016
         },
         {
          "year_of_publication": 2016
         },
         {
          "year_of_publication": 2016
         },
         {
          "year_of_publication": 2016
         },
         {
          "year_of_publication": 2016
         },
         {
          "year_of_publication": 2016
         },
         {
          "year_of_publication": 2016
         },
         {
          "year_of_publication": 2016
         },
         {
          "year_of_publication": 2016
         },
         {
          "year_of_publication": 2016
         },
         {
          "year_of_publication": 2016
         },
         {
          "year_of_publication": 2016
         },
         {
          "year_of_publication": 2016
         },
         {
          "year_of_publication": 2016
         },
         {
          "year_of_publication": 2016
         },
         {
          "year_of_publication": 2016
         },
         {
          "year_of_publication": 2016
         },
         {
          "year_of_publication": 2016
         },
         {
          "year_of_publication": 2016
         },
         {
          "year_of_publication": 2016
         },
         {
          "year_of_publication": 2016
         },
         {
          "year_of_publication": 2016
         },
         {
          "year_of_publication": 2016
         },
         {
          "year_of_publication": 2016
         },
         {
          "year_of_publication": 2016
         },
         {
          "year_of_publication": 2016
         },
         {
          "year_of_publication": 2016
         },
         {
          "year_of_publication": 2016
         },
         {
          "year_of_publication": 2016
         },
         {
          "year_of_publication": 2016
         },
         {
          "year_of_publication": 2016
         },
         {
          "year_of_publication": 2016
         },
         {
          "year_of_publication": 2016
         },
         {
          "year_of_publication": 2016
         },
         {
          "year_of_publication": 2016
         },
         {
          "year_of_publication": 2016
         },
         {
          "year_of_publication": 2016
         },
         {
          "year_of_publication": 2016
         },
         {
          "year_of_publication": 2016
         },
         {
          "year_of_publication": 2016
         },
         {
          "year_of_publication": 2016
         },
         {
          "year_of_publication": 2016
         },
         {
          "year_of_publication": 2016
         },
         {
          "year_of_publication": 2016
         },
         {
          "year_of_publication": 2016
         },
         {
          "year_of_publication": 2016
         },
         {
          "year_of_publication": 2016
         },
         {
          "year_of_publication": 2016
         },
         {
          "year_of_publication": 2016
         },
         {
          "year_of_publication": 2016
         },
         {
          "year_of_publication": 2016
         },
         {
          "year_of_publication": 2016
         },
         {
          "year_of_publication": 2016
         },
         {
          "year_of_publication": 2016
         },
         {
          "year_of_publication": 2016
         },
         {
          "year_of_publication": 2016
         },
         {
          "year_of_publication": 2016
         },
         {
          "year_of_publication": 2016
         },
         {
          "year_of_publication": 2016
         },
         {
          "year_of_publication": 2016
         },
         {
          "year_of_publication": 2016
         },
         {
          "year_of_publication": 2016
         },
         {
          "year_of_publication": 2016
         },
         {
          "year_of_publication": 2016
         },
         {
          "year_of_publication": 2016
         },
         {
          "year_of_publication": 2016
         },
         {
          "year_of_publication": 2016
         },
         {
          "year_of_publication": 2016
         },
         {
          "year_of_publication": 2016
         },
         {
          "year_of_publication": 2016
         },
         {
          "year_of_publication": 2016
         },
         {
          "year_of_publication": 2016
         },
         {
          "year_of_publication": 2016
         },
         {
          "year_of_publication": 2016
         },
         {
          "year_of_publication": 2016
         },
         {
          "year_of_publication": 2016
         },
         {
          "year_of_publication": 2016
         },
         {
          "year_of_publication": 2016
         },
         {
          "year_of_publication": 2016
         },
         {
          "year_of_publication": 2016
         },
         {
          "year_of_publication": 2016
         },
         {
          "year_of_publication": 2016
         },
         {
          "year_of_publication": 2016
         },
         {
          "year_of_publication": 2016
         },
         {
          "year_of_publication": 2016
         },
         {
          "year_of_publication": 2016
         },
         {
          "year_of_publication": 2016
         },
         {
          "year_of_publication": 2016
         },
         {
          "year_of_publication": 2016
         },
         {
          "year_of_publication": 2016
         },
         {
          "year_of_publication": 2016
         },
         {
          "year_of_publication": 2016
         },
         {
          "year_of_publication": 2016
         },
         {
          "year_of_publication": 2016
         },
         {
          "year_of_publication": 2016
         },
         {
          "year_of_publication": 2016
         },
         {
          "year_of_publication": 2016
         },
         {
          "year_of_publication": 2016
         },
         {
          "year_of_publication": 2016
         },
         {
          "year_of_publication": 2016
         },
         {
          "year_of_publication": 2016
         },
         {
          "year_of_publication": 2016
         },
         {
          "year_of_publication": 2016
         },
         {
          "year_of_publication": 2016
         },
         {
          "year_of_publication": 2016
         },
         {
          "year_of_publication": 2016
         },
         {
          "year_of_publication": 2016
         },
         {
          "year_of_publication": 2016
         },
         {
          "year_of_publication": 2016
         },
         {
          "year_of_publication": 2016
         },
         {
          "year_of_publication": 2016
         },
         {
          "year_of_publication": 2016
         },
         {
          "year_of_publication": 2016
         },
         {
          "year_of_publication": 2016
         },
         {
          "year_of_publication": 2016
         },
         {
          "year_of_publication": 2016
         },
         {
          "year_of_publication": 2016
         },
         {
          "year_of_publication": 2016
         },
         {
          "year_of_publication": 2016
         },
         {
          "year_of_publication": 2016
         },
         {
          "year_of_publication": 2016
         },
         {
          "year_of_publication": 2016
         },
         {
          "year_of_publication": 2016
         },
         {
          "year_of_publication": 2016
         },
         {
          "year_of_publication": 2016
         },
         {
          "year_of_publication": 2016
         },
         {
          "year_of_publication": 2016
         },
         {
          "year_of_publication": 2016
         },
         {
          "year_of_publication": 2016
         },
         {
          "year_of_publication": 2016
         },
         {
          "year_of_publication": 2016
         },
         {
          "year_of_publication": 2016
         },
         {
          "year_of_publication": 2016
         },
         {
          "year_of_publication": 2016
         },
         {
          "year_of_publication": 2016
         },
         {
          "year_of_publication": 2016
         },
         {
          "year_of_publication": 2016
         },
         {
          "year_of_publication": 2016
         },
         {
          "year_of_publication": 2016
         },
         {
          "year_of_publication": 2016
         },
         {
          "year_of_publication": 2016
         },
         {
          "year_of_publication": 2016
         },
         {
          "year_of_publication": 2016
         },
         {
          "year_of_publication": 2016
         },
         {
          "year_of_publication": 2016
         },
         {
          "year_of_publication": 2016
         },
         {
          "year_of_publication": 2016
         },
         {
          "year_of_publication": 2016
         },
         {
          "year_of_publication": 2016
         },
         {
          "year_of_publication": 2016
         },
         {
          "year_of_publication": 2016
         },
         {
          "year_of_publication": 2016
         },
         {
          "year_of_publication": 2016
         },
         {
          "year_of_publication": 2016
         },
         {
          "year_of_publication": 2016
         },
         {
          "year_of_publication": 2016
         },
         {
          "year_of_publication": 2016
         },
         {
          "year_of_publication": 2016
         },
         {
          "year_of_publication": 2016
         },
         {
          "year_of_publication": 2016
         },
         {
          "year_of_publication": 2016
         },
         {
          "year_of_publication": 2016
         },
         {
          "year_of_publication": 2016
         },
         {
          "year_of_publication": 2016
         },
         {
          "year_of_publication": 2016
         },
         {
          "year_of_publication": 2016
         },
         {
          "year_of_publication": 2016
         },
         {
          "year_of_publication": 2016
         },
         {
          "year_of_publication": 2016
         },
         {
          "year_of_publication": 2016
         },
         {
          "year_of_publication": 2016
         },
         {
          "year_of_publication": 2016
         },
         {
          "year_of_publication": 2016
         },
         {
          "year_of_publication": 2016
         },
         {
          "year_of_publication": 2016
         },
         {
          "year_of_publication": 2016
         },
         {
          "year_of_publication": 2016
         },
         {
          "year_of_publication": 2016
         },
         {
          "year_of_publication": 2016
         },
         {
          "year_of_publication": 2016
         },
         {
          "year_of_publication": 2016
         },
         {
          "year_of_publication": 2016
         },
         {
          "year_of_publication": 2016
         },
         {
          "year_of_publication": 2016
         },
         {
          "year_of_publication": 2016
         },
         {
          "year_of_publication": 2016
         },
         {
          "year_of_publication": 2016
         },
         {
          "year_of_publication": 2016
         },
         {
          "year_of_publication": 2016
         },
         {
          "year_of_publication": 2016
         },
         {
          "year_of_publication": 2016
         },
         {
          "year_of_publication": 2016
         },
         {
          "year_of_publication": 2016
         },
         {
          "year_of_publication": 2016
         },
         {
          "year_of_publication": 2016
         },
         {
          "year_of_publication": 2016
         },
         {
          "year_of_publication": 2016
         },
         {
          "year_of_publication": 2016
         },
         {
          "year_of_publication": 2016
         },
         {
          "year_of_publication": 2016
         },
         {
          "year_of_publication": 2016
         },
         {
          "year_of_publication": 2016
         },
         {
          "year_of_publication": 2016
         },
         {
          "year_of_publication": 2016
         },
         {
          "year_of_publication": 2016
         },
         {
          "year_of_publication": 2016
         },
         {
          "year_of_publication": 2016
         },
         {
          "year_of_publication": 2016
         },
         {
          "year_of_publication": 2016
         },
         {
          "year_of_publication": 2016
         },
         {
          "year_of_publication": 2016
         },
         {
          "year_of_publication": 2016
         },
         {
          "year_of_publication": 2016
         },
         {
          "year_of_publication": 2016
         },
         {
          "year_of_publication": 2016
         },
         {
          "year_of_publication": 2016
         },
         {
          "year_of_publication": 2016
         },
         {
          "year_of_publication": 2016
         },
         {
          "year_of_publication": 2016
         },
         {
          "year_of_publication": 2016
         },
         {
          "year_of_publication": 2016
         },
         {
          "year_of_publication": 2016
         },
         {
          "year_of_publication": 2016
         },
         {
          "year_of_publication": 2016
         },
         {
          "year_of_publication": 2016
         },
         {
          "year_of_publication": 2016
         },
         {
          "year_of_publication": 2016
         },
         {
          "year_of_publication": 2016
         },
         {
          "year_of_publication": 2016
         },
         {
          "year_of_publication": 2016
         },
         {
          "year_of_publication": 2016
         },
         {
          "year_of_publication": 2016
         },
         {
          "year_of_publication": 2016
         },
         {
          "year_of_publication": 2016
         },
         {
          "year_of_publication": 2016
         },
         {
          "year_of_publication": 2016
         },
         {
          "year_of_publication": 2016
         },
         {
          "year_of_publication": 2016
         },
         {
          "year_of_publication": 2016
         },
         {
          "year_of_publication": 2016
         },
         {
          "year_of_publication": 2016
         },
         {
          "year_of_publication": 2016
         },
         {
          "year_of_publication": 2016
         },
         {
          "year_of_publication": 2016
         },
         {
          "year_of_publication": 2016
         },
         {
          "year_of_publication": 2016
         },
         {
          "year_of_publication": 2016
         },
         {
          "year_of_publication": 2016
         },
         {
          "year_of_publication": 2016
         },
         {
          "year_of_publication": 2016
         },
         {
          "year_of_publication": 2016
         },
         {
          "year_of_publication": 2016
         },
         {
          "year_of_publication": 2016
         },
         {
          "year_of_publication": 2016
         },
         {
          "year_of_publication": 2016
         },
         {
          "year_of_publication": 2016
         },
         {
          "year_of_publication": 2016
         },
         {
          "year_of_publication": 2016
         },
         {
          "year_of_publication": 2016
         },
         {
          "year_of_publication": 2016
         },
         {
          "year_of_publication": 2016
         },
         {
          "year_of_publication": 2016
         },
         {
          "year_of_publication": 2016
         },
         {
          "year_of_publication": 2016
         },
         {
          "year_of_publication": 2016
         },
         {
          "year_of_publication": 2016
         },
         {
          "year_of_publication": 2016
         },
         {
          "year_of_publication": 2016
         },
         {
          "year_of_publication": 2016
         },
         {
          "year_of_publication": 2016
         },
         {
          "year_of_publication": 2016
         },
         {
          "year_of_publication": 2016
         },
         {
          "year_of_publication": 2016
         },
         {
          "year_of_publication": 2016
         },
         {
          "year_of_publication": 2016
         },
         {
          "year_of_publication": 2016
         },
         {
          "year_of_publication": 2016
         },
         {
          "year_of_publication": 2016
         },
         {
          "year_of_publication": 2016
         },
         {
          "year_of_publication": 2016
         },
         {
          "year_of_publication": 2016
         },
         {
          "year_of_publication": 2016
         },
         {
          "year_of_publication": 2016
         },
         {
          "year_of_publication": 2016
         },
         {
          "year_of_publication": 2016
         },
         {
          "year_of_publication": 2016
         },
         {
          "year_of_publication": 2016
         },
         {
          "year_of_publication": 2016
         },
         {
          "year_of_publication": 2016
         },
         {
          "year_of_publication": 2016
         },
         {
          "year_of_publication": 2016
         },
         {
          "year_of_publication": 2016
         },
         {
          "year_of_publication": 2016
         },
         {
          "year_of_publication": 2016
         },
         {
          "year_of_publication": 2016
         },
         {
          "year_of_publication": 2016
         },
         {
          "year_of_publication": 2016
         },
         {
          "year_of_publication": 2016
         },
         {
          "year_of_publication": 2016
         },
         {
          "year_of_publication": 2016
         },
         {
          "year_of_publication": 2016
         },
         {
          "year_of_publication": 2016
         },
         {
          "year_of_publication": 2016
         },
         {
          "year_of_publication": 2016
         },
         {
          "year_of_publication": 2016
         },
         {
          "year_of_publication": 2016
         },
         {
          "year_of_publication": 2016
         },
         {
          "year_of_publication": 2016
         },
         {
          "year_of_publication": 2016
         },
         {
          "year_of_publication": 2016
         },
         {
          "year_of_publication": 2016
         },
         {
          "year_of_publication": 2016
         },
         {
          "year_of_publication": 2016
         },
         {
          "year_of_publication": 2016
         },
         {
          "year_of_publication": 2016
         },
         {
          "year_of_publication": 2016
         },
         {
          "year_of_publication": 2016
         },
         {
          "year_of_publication": 2016
         },
         {
          "year_of_publication": 2016
         },
         {
          "year_of_publication": 2016
         },
         {
          "year_of_publication": 2016
         },
         {
          "year_of_publication": 2016
         },
         {
          "year_of_publication": 2016
         },
         {
          "year_of_publication": 2016
         },
         {
          "year_of_publication": 2016
         },
         {
          "year_of_publication": 2016
         },
         {
          "year_of_publication": 2016
         },
         {
          "year_of_publication": 2016
         },
         {
          "year_of_publication": 2016
         },
         {
          "year_of_publication": 2016
         },
         {
          "year_of_publication": 2016
         },
         {
          "year_of_publication": 2016
         },
         {
          "year_of_publication": 2016
         },
         {
          "year_of_publication": 2016
         },
         {
          "year_of_publication": 2016
         },
         {
          "year_of_publication": 2016
         },
         {
          "year_of_publication": 2016
         },
         {
          "year_of_publication": 2016
         },
         {
          "year_of_publication": 2016
         },
         {
          "year_of_publication": 2016
         },
         {
          "year_of_publication": 2016
         },
         {
          "year_of_publication": 2016
         },
         {
          "year_of_publication": 2016
         },
         {
          "year_of_publication": 2016
         },
         {
          "year_of_publication": 2016
         },
         {
          "year_of_publication": 2016
         },
         {
          "year_of_publication": 2016
         },
         {
          "year_of_publication": 2016
         },
         {
          "year_of_publication": 2016
         },
         {
          "year_of_publication": 2016
         },
         {
          "year_of_publication": 2016
         },
         {
          "year_of_publication": 2016
         },
         {
          "year_of_publication": 2016
         },
         {
          "year_of_publication": 2016
         },
         {
          "year_of_publication": 2016
         },
         {
          "year_of_publication": 2016
         },
         {
          "year_of_publication": 2016
         },
         {
          "year_of_publication": 2016
         },
         {
          "year_of_publication": 2016
         },
         {
          "year_of_publication": 2016
         },
         {
          "year_of_publication": 2016
         },
         {
          "year_of_publication": 2016
         },
         {
          "year_of_publication": 2016
         },
         {
          "year_of_publication": 2016
         },
         {
          "year_of_publication": 2016
         },
         {
          "year_of_publication": 2016
         },
         {
          "year_of_publication": 2016
         },
         {
          "year_of_publication": 2016
         },
         {
          "year_of_publication": 2016
         },
         {
          "year_of_publication": 2016
         },
         {
          "year_of_publication": 2016
         },
         {
          "year_of_publication": 2016
         },
         {
          "year_of_publication": 2016
         },
         {
          "year_of_publication": 2016
         },
         {
          "year_of_publication": 2016
         },
         {
          "year_of_publication": 2016
         },
         {
          "year_of_publication": 2016
         },
         {
          "year_of_publication": 2016
         },
         {
          "year_of_publication": 2016
         },
         {
          "year_of_publication": 2016
         },
         {
          "year_of_publication": 2016
         },
         {
          "year_of_publication": 2016
         },
         {
          "year_of_publication": 2016
         },
         {
          "year_of_publication": 2016
         },
         {
          "year_of_publication": 2016
         },
         {
          "year_of_publication": 2016
         },
         {
          "year_of_publication": 2016
         },
         {
          "year_of_publication": 2016
         },
         {
          "year_of_publication": 2016
         },
         {
          "year_of_publication": 2016
         },
         {
          "year_of_publication": 2016
         },
         {
          "year_of_publication": 2016
         },
         {
          "year_of_publication": 2016
         },
         {
          "year_of_publication": 2016
         },
         {
          "year_of_publication": 2016
         },
         {
          "year_of_publication": 2016
         },
         {
          "year_of_publication": 2016
         },
         {
          "year_of_publication": 2016
         },
         {
          "year_of_publication": 2016
         },
         {
          "year_of_publication": 2016
         },
         {
          "year_of_publication": 2016
         },
         {
          "year_of_publication": 2016
         },
         {
          "year_of_publication": 2016
         },
         {
          "year_of_publication": 2016
         },
         {
          "year_of_publication": 2016
         },
         {
          "year_of_publication": 2016
         },
         {
          "year_of_publication": 2016
         },
         {
          "year_of_publication": 2016
         },
         {
          "year_of_publication": 2016
         },
         {
          "year_of_publication": 2016
         },
         {
          "year_of_publication": 2016
         },
         {
          "year_of_publication": 2016
         },
         {
          "year_of_publication": 2016
         },
         {
          "year_of_publication": 2016
         },
         {
          "year_of_publication": 2016
         },
         {
          "year_of_publication": 2016
         },
         {
          "year_of_publication": 2016
         },
         {
          "year_of_publication": 2016
         },
         {
          "year_of_publication": 2016
         },
         {
          "year_of_publication": 2016
         },
         {
          "year_of_publication": 2016
         },
         {
          "year_of_publication": 2016
         },
         {
          "year_of_publication": 2016
         },
         {
          "year_of_publication": 2016
         },
         {
          "year_of_publication": 2016
         },
         {
          "year_of_publication": 2016
         },
         {
          "year_of_publication": 2016
         },
         {
          "year_of_publication": 2016
         },
         {
          "year_of_publication": 2016
         },
         {
          "year_of_publication": 2016
         },
         {
          "year_of_publication": 2016
         },
         {
          "year_of_publication": 2016
         },
         {
          "year_of_publication": 2016
         },
         {
          "year_of_publication": 2016
         },
         {
          "year_of_publication": 2016
         },
         {
          "year_of_publication": 2016
         },
         {
          "year_of_publication": 2016
         },
         {
          "year_of_publication": 2016
         },
         {
          "year_of_publication": 2016
         },
         {
          "year_of_publication": 2016
         },
         {
          "year_of_publication": 2016
         },
         {
          "year_of_publication": 2016
         },
         {
          "year_of_publication": 2016
         },
         {
          "year_of_publication": 2016
         },
         {
          "year_of_publication": 2016
         },
         {
          "year_of_publication": 2016
         },
         {
          "year_of_publication": 2016
         },
         {
          "year_of_publication": 2016
         },
         {
          "year_of_publication": 2016
         },
         {
          "year_of_publication": 2016
         },
         {
          "year_of_publication": 2016
         },
         {
          "year_of_publication": 2016
         },
         {
          "year_of_publication": 2016
         },
         {
          "year_of_publication": 2016
         },
         {
          "year_of_publication": 2016
         },
         {
          "year_of_publication": 2016
         },
         {
          "year_of_publication": 2016
         },
         {
          "year_of_publication": 2016
         },
         {
          "year_of_publication": 2016
         },
         {
          "year_of_publication": 2016
         },
         {
          "year_of_publication": 2016
         },
         {
          "year_of_publication": 2016
         },
         {
          "year_of_publication": 2016
         },
         {
          "year_of_publication": 2016
         },
         {
          "year_of_publication": 2016
         },
         {
          "year_of_publication": 2016
         },
         {
          "year_of_publication": 2016
         },
         {
          "year_of_publication": 2016
         },
         {
          "year_of_publication": 2016
         },
         {
          "year_of_publication": 2016
         },
         {
          "year_of_publication": 2016
         },
         {
          "year_of_publication": 2016
         },
         {
          "year_of_publication": 2016
         },
         {
          "year_of_publication": 2016
         },
         {
          "year_of_publication": 2016
         },
         {
          "year_of_publication": 2016
         },
         {
          "year_of_publication": 2016
         },
         {
          "year_of_publication": 2016
         },
         {
          "year_of_publication": 2016
         },
         {
          "year_of_publication": 2016
         },
         {
          "year_of_publication": 2016
         },
         {
          "year_of_publication": 2016
         },
         {
          "year_of_publication": 2016
         },
         {
          "year_of_publication": 2016
         },
         {
          "year_of_publication": 2016
         },
         {
          "year_of_publication": 2016
         },
         {
          "year_of_publication": 2016
         },
         {
          "year_of_publication": 2016
         },
         {
          "year_of_publication": 2016
         },
         {
          "year_of_publication": 2016
         },
         {
          "year_of_publication": 2016
         },
         {
          "year_of_publication": 2016
         },
         {
          "year_of_publication": 2016
         },
         {
          "year_of_publication": 2016
         },
         {
          "year_of_publication": 2016
         },
         {
          "year_of_publication": 2016
         },
         {
          "year_of_publication": 2016
         },
         {
          "year_of_publication": 2016
         },
         {
          "year_of_publication": 2016
         },
         {
          "year_of_publication": 2016
         },
         {
          "year_of_publication": 2016
         },
         {
          "year_of_publication": 2016
         },
         {
          "year_of_publication": 2016
         },
         {
          "year_of_publication": 2016
         },
         {
          "year_of_publication": 2016
         },
         {
          "year_of_publication": 2016
         },
         {
          "year_of_publication": 2016
         },
         {
          "year_of_publication": 2016
         },
         {
          "year_of_publication": 2016
         },
         {
          "year_of_publication": 2016
         },
         {
          "year_of_publication": 2016
         },
         {
          "year_of_publication": 2016
         },
         {
          "year_of_publication": 2016
         },
         {
          "year_of_publication": 2016
         },
         {
          "year_of_publication": 2016
         },
         {
          "year_of_publication": 2016
         },
         {
          "year_of_publication": 2016
         },
         {
          "year_of_publication": 2016
         },
         {
          "year_of_publication": 2016
         },
         {
          "year_of_publication": 2016
         },
         {
          "year_of_publication": 2016
         },
         {
          "year_of_publication": 2016
         },
         {
          "year_of_publication": 2016
         },
         {
          "year_of_publication": 2016
         },
         {
          "year_of_publication": 2016
         },
         {
          "year_of_publication": 2016
         },
         {
          "year_of_publication": 2016
         },
         {
          "year_of_publication": 2016
         },
         {
          "year_of_publication": 2016
         },
         {
          "year_of_publication": 2016
         },
         {
          "year_of_publication": 2016
         },
         {
          "year_of_publication": 2016
         },
         {
          "year_of_publication": 2016
         },
         {
          "year_of_publication": 2016
         },
         {
          "year_of_publication": 2016
         },
         {
          "year_of_publication": 2016
         },
         {
          "year_of_publication": 2016
         },
         {
          "year_of_publication": 2016
         },
         {
          "year_of_publication": 2016
         },
         {
          "year_of_publication": 2016
         },
         {
          "year_of_publication": 2016
         },
         {
          "year_of_publication": 2016
         },
         {
          "year_of_publication": 2016
         },
         {
          "year_of_publication": 2016
         },
         {
          "year_of_publication": 2016
         },
         {
          "year_of_publication": 2016
         },
         {
          "year_of_publication": 2016
         },
         {
          "year_of_publication": 2016
         },
         {
          "year_of_publication": 2016
         },
         {
          "year_of_publication": 2016
         },
         {
          "year_of_publication": 2016
         },
         {
          "year_of_publication": 2016
         },
         {
          "year_of_publication": 2016
         },
         {
          "year_of_publication": 2016
         },
         {
          "year_of_publication": 2016
         },
         {
          "year_of_publication": 2016
         },
         {
          "year_of_publication": 2016
         },
         {
          "year_of_publication": 2016
         },
         {
          "year_of_publication": 2016
         },
         {
          "year_of_publication": 2016
         },
         {
          "year_of_publication": 2016
         },
         {
          "year_of_publication": 2016
         },
         {
          "year_of_publication": 2016
         },
         {
          "year_of_publication": 2016
         },
         {
          "year_of_publication": 2016
         },
         {
          "year_of_publication": 2016
         },
         {
          "year_of_publication": 2016
         },
         {
          "year_of_publication": 2016
         },
         {
          "year_of_publication": 2016
         },
         {
          "year_of_publication": 2016
         },
         {
          "year_of_publication": 2016
         },
         {
          "year_of_publication": 2016
         },
         {
          "year_of_publication": 2016
         },
         {
          "year_of_publication": 2016
         },
         {
          "year_of_publication": 2016
         },
         {
          "year_of_publication": 2016
         },
         {
          "year_of_publication": 2016
         },
         {
          "year_of_publication": 2016
         },
         {
          "year_of_publication": 2016
         },
         {
          "year_of_publication": 2016
         },
         {
          "year_of_publication": 2016
         },
         {
          "year_of_publication": 2016
         },
         {
          "year_of_publication": 2016
         },
         {
          "year_of_publication": 2016
         },
         {
          "year_of_publication": 2016
         },
         {
          "year_of_publication": 2016
         },
         {
          "year_of_publication": 2016
         },
         {
          "year_of_publication": 2016
         },
         {
          "year_of_publication": 2016
         },
         {
          "year_of_publication": 2016
         },
         {
          "year_of_publication": 2016
         },
         {
          "year_of_publication": 2016
         },
         {
          "year_of_publication": 2016
         },
         {
          "year_of_publication": 2016
         },
         {
          "year_of_publication": 2016
         },
         {
          "year_of_publication": 2016
         },
         {
          "year_of_publication": 2016
         },
         {
          "year_of_publication": 2016
         },
         {
          "year_of_publication": 2016
         },
         {
          "year_of_publication": 2016
         },
         {
          "year_of_publication": 2016
         },
         {
          "year_of_publication": 2016
         },
         {
          "year_of_publication": 2016
         },
         {
          "year_of_publication": 2016
         },
         {
          "year_of_publication": 2016
         },
         {
          "year_of_publication": 2016
         },
         {
          "year_of_publication": 2016
         },
         {
          "year_of_publication": 2016
         },
         {
          "year_of_publication": 2016
         },
         {
          "year_of_publication": 2016
         },
         {
          "year_of_publication": 2016
         },
         {
          "year_of_publication": 2016
         },
         {
          "year_of_publication": 2016
         },
         {
          "year_of_publication": 2016
         },
         {
          "year_of_publication": 2016
         },
         {
          "year_of_publication": 2016
         },
         {
          "year_of_publication": 2016
         },
         {
          "year_of_publication": 2016
         },
         {
          "year_of_publication": 2016
         },
         {
          "year_of_publication": 2016
         },
         {
          "year_of_publication": 2016
         },
         {
          "year_of_publication": 2016
         },
         {
          "year_of_publication": 2016
         },
         {
          "year_of_publication": 2016
         },
         {
          "year_of_publication": 2016
         },
         {
          "year_of_publication": 2016
         },
         {
          "year_of_publication": 2016
         },
         {
          "year_of_publication": 2016
         },
         {
          "year_of_publication": 2016
         },
         {
          "year_of_publication": 2016
         },
         {
          "year_of_publication": 2016
         },
         {
          "year_of_publication": 2016
         },
         {
          "year_of_publication": 2016
         },
         {
          "year_of_publication": 2016
         },
         {
          "year_of_publication": 2016
         },
         {
          "year_of_publication": 2016
         },
         {
          "year_of_publication": 2016
         },
         {
          "year_of_publication": 2016
         },
         {
          "year_of_publication": 2016
         },
         {
          "year_of_publication": 2016
         },
         {
          "year_of_publication": 2016
         },
         {
          "year_of_publication": 2016
         },
         {
          "year_of_publication": 2016
         },
         {
          "year_of_publication": 2016
         },
         {
          "year_of_publication": 2016
         },
         {
          "year_of_publication": 2016
         },
         {
          "year_of_publication": 2016
         },
         {
          "year_of_publication": 2016
         },
         {
          "year_of_publication": 2016
         },
         {
          "year_of_publication": 2016
         },
         {
          "year_of_publication": 2016
         },
         {
          "year_of_publication": 2016
         },
         {
          "year_of_publication": 2016
         },
         {
          "year_of_publication": 2016
         },
         {
          "year_of_publication": 2016
         },
         {
          "year_of_publication": 2016
         },
         {
          "year_of_publication": 2016
         },
         {
          "year_of_publication": 2016
         },
         {
          "year_of_publication": 2016
         },
         {
          "year_of_publication": 2016
         },
         {
          "year_of_publication": 2016
         },
         {
          "year_of_publication": 2016
         },
         {
          "year_of_publication": 2016
         },
         {
          "year_of_publication": 2016
         },
         {
          "year_of_publication": 2016
         },
         {
          "year_of_publication": 2016
         },
         {
          "year_of_publication": 2016
         },
         {
          "year_of_publication": 2016
         },
         {
          "year_of_publication": 2016
         },
         {
          "year_of_publication": 2016
         },
         {
          "year_of_publication": 2016
         },
         {
          "year_of_publication": 2016
         },
         {
          "year_of_publication": 2016
         },
         {
          "year_of_publication": 2016
         },
         {
          "year_of_publication": 2016
         },
         {
          "year_of_publication": 2016
         },
         {
          "year_of_publication": 2016
         },
         {
          "year_of_publication": 2016
         },
         {
          "year_of_publication": 2016
         },
         {
          "year_of_publication": 2016
         },
         {
          "year_of_publication": 2016
         },
         {
          "year_of_publication": 2016
         },
         {
          "year_of_publication": 2016
         },
         {
          "year_of_publication": 2016
         },
         {
          "year_of_publication": 2016
         },
         {
          "year_of_publication": 2016
         },
         {
          "year_of_publication": 2016
         },
         {
          "year_of_publication": 2016
         },
         {
          "year_of_publication": 2016
         },
         {
          "year_of_publication": 2016
         },
         {
          "year_of_publication": 2016
         },
         {
          "year_of_publication": 2016
         },
         {
          "year_of_publication": 2016
         },
         {
          "year_of_publication": 2016
         },
         {
          "year_of_publication": 2016
         },
         {
          "year_of_publication": 2016
         },
         {
          "year_of_publication": 2016
         },
         {
          "year_of_publication": 2016
         },
         {
          "year_of_publication": 2016
         },
         {
          "year_of_publication": 2016
         },
         {
          "year_of_publication": 2016
         },
         {
          "year_of_publication": 2016
         },
         {
          "year_of_publication": 2016
         },
         {
          "year_of_publication": 2016
         },
         {
          "year_of_publication": 2016
         },
         {
          "year_of_publication": 2016
         },
         {
          "year_of_publication": 2016
         },
         {
          "year_of_publication": 2016
         },
         {
          "year_of_publication": 2016
         },
         {
          "year_of_publication": 2016
         },
         {
          "year_of_publication": 2016
         },
         {
          "year_of_publication": 2016
         },
         {
          "year_of_publication": 2016
         },
         {
          "year_of_publication": 2016
         },
         {
          "year_of_publication": 2016
         },
         {
          "year_of_publication": 2016
         },
         {
          "year_of_publication": 2016
         },
         {
          "year_of_publication": 2016
         },
         {
          "year_of_publication": 2016
         },
         {
          "year_of_publication": 2016
         },
         {
          "year_of_publication": 2016
         },
         {
          "year_of_publication": 2016
         },
         {
          "year_of_publication": 2016
         },
         {
          "year_of_publication": 2016
         },
         {
          "year_of_publication": 2016
         },
         {
          "year_of_publication": 2016
         },
         {
          "year_of_publication": 2016
         },
         {
          "year_of_publication": 2016
         },
         {
          "year_of_publication": 2016
         },
         {
          "year_of_publication": 2016
         },
         {
          "year_of_publication": 2016
         },
         {
          "year_of_publication": 2016
         },
         {
          "year_of_publication": 2016
         },
         {
          "year_of_publication": 2016
         },
         {
          "year_of_publication": 2016
         },
         {
          "year_of_publication": 2016
         },
         {
          "year_of_publication": 2016
         },
         {
          "year_of_publication": 2016
         },
         {
          "year_of_publication": 2016
         },
         {
          "year_of_publication": 2016
         },
         {
          "year_of_publication": 2016
         },
         {
          "year_of_publication": 2016
         },
         {
          "year_of_publication": 2016
         },
         {
          "year_of_publication": 2016
         },
         {
          "year_of_publication": 2016
         },
         {
          "year_of_publication": 2016
         },
         {
          "year_of_publication": 2016
         },
         {
          "year_of_publication": 2016
         },
         {
          "year_of_publication": 2016
         },
         {
          "year_of_publication": 2016
         },
         {
          "year_of_publication": 2016
         },
         {
          "year_of_publication": 2016
         },
         {
          "year_of_publication": 2016
         },
         {
          "year_of_publication": 2016
         },
         {
          "year_of_publication": 2016
         },
         {
          "year_of_publication": 2016
         },
         {
          "year_of_publication": 2016
         },
         {
          "year_of_publication": 2016
         },
         {
          "year_of_publication": 2016
         },
         {
          "year_of_publication": 2016
         },
         {
          "year_of_publication": 2016
         },
         {
          "year_of_publication": 2016
         },
         {
          "year_of_publication": 2016
         },
         {
          "year_of_publication": 2016
         },
         {
          "year_of_publication": 2016
         },
         {
          "year_of_publication": 2016
         },
         {
          "year_of_publication": 2016
         },
         {
          "year_of_publication": 2016
         },
         {
          "year_of_publication": 2016
         },
         {
          "year_of_publication": 2016
         },
         {
          "year_of_publication": 2016
         },
         {
          "year_of_publication": 2016
         },
         {
          "year_of_publication": 2016
         },
         {
          "year_of_publication": 2016
         },
         {
          "year_of_publication": 2016
         },
         {
          "year_of_publication": 2016
         },
         {
          "year_of_publication": 2016
         },
         {
          "year_of_publication": 2016
         },
         {
          "year_of_publication": 2016
         },
         {
          "year_of_publication": 2016
         },
         {
          "year_of_publication": 2016
         },
         {
          "year_of_publication": 2016
         },
         {
          "year_of_publication": 2016
         },
         {
          "year_of_publication": 2016
         },
         {
          "year_of_publication": 2016
         },
         {
          "year_of_publication": 2016
         },
         {
          "year_of_publication": 2016
         },
         {
          "year_of_publication": 2016
         },
         {
          "year_of_publication": 2016
         },
         {
          "year_of_publication": 2016
         },
         {
          "year_of_publication": 2016
         },
         {
          "year_of_publication": 2016
         },
         {
          "year_of_publication": 2016
         },
         {
          "year_of_publication": 2016
         },
         {
          "year_of_publication": 2016
         },
         {
          "year_of_publication": 2016
         },
         {
          "year_of_publication": 2016
         },
         {
          "year_of_publication": 2016
         },
         {
          "year_of_publication": 2016
         },
         {
          "year_of_publication": 2016
         },
         {
          "year_of_publication": 2016
         },
         {
          "year_of_publication": 2016
         },
         {
          "year_of_publication": 2016
         },
         {
          "year_of_publication": 2016
         },
         {
          "year_of_publication": 2016
         },
         {
          "year_of_publication": 2016
         },
         {
          "year_of_publication": 2016
         },
         {
          "year_of_publication": 2016
         },
         {
          "year_of_publication": 2016
         },
         {
          "year_of_publication": 2016
         },
         {
          "year_of_publication": 2016
         },
         {
          "year_of_publication": 2016
         },
         {
          "year_of_publication": 2016
         },
         {
          "year_of_publication": 2016
         },
         {
          "year_of_publication": 2016
         },
         {
          "year_of_publication": 2016
         },
         {
          "year_of_publication": 2016
         },
         {
          "year_of_publication": 2016
         },
         {
          "year_of_publication": 2016
         },
         {
          "year_of_publication": 2016
         },
         {
          "year_of_publication": 2016
         },
         {
          "year_of_publication": 2016
         },
         {
          "year_of_publication": 2016
         },
         {
          "year_of_publication": 2016
         },
         {
          "year_of_publication": 2016
         },
         {
          "year_of_publication": 2016
         },
         {
          "year_of_publication": 2016
         },
         {
          "year_of_publication": 2016
         },
         {
          "year_of_publication": 2016
         },
         {
          "year_of_publication": 2016
         },
         {
          "year_of_publication": 2016
         },
         {
          "year_of_publication": 2016
         },
         {
          "year_of_publication": 2016
         },
         {
          "year_of_publication": 2016
         },
         {
          "year_of_publication": 2016
         },
         {
          "year_of_publication": 2016
         },
         {
          "year_of_publication": 2016
         },
         {
          "year_of_publication": 2016
         },
         {
          "year_of_publication": 2016
         },
         {
          "year_of_publication": 2016
         },
         {
          "year_of_publication": 2016
         },
         {
          "year_of_publication": 2016
         },
         {
          "year_of_publication": 2016
         },
         {
          "year_of_publication": 2016
         },
         {
          "year_of_publication": 2016
         },
         {
          "year_of_publication": 2016
         },
         {
          "year_of_publication": 2016
         },
         {
          "year_of_publication": 2016
         },
         {
          "year_of_publication": 2016
         },
         {
          "year_of_publication": 2016
         },
         {
          "year_of_publication": 2016
         },
         {
          "year_of_publication": 2016
         },
         {
          "year_of_publication": 2016
         },
         {
          "year_of_publication": 2016
         },
         {
          "year_of_publication": 2016
         },
         {
          "year_of_publication": 2016
         },
         {
          "year_of_publication": 2016
         },
         {
          "year_of_publication": 2016
         },
         {
          "year_of_publication": 2016
         },
         {
          "year_of_publication": 2016
         },
         {
          "year_of_publication": 2016
         },
         {
          "year_of_publication": 2016
         },
         {
          "year_of_publication": 2016
         },
         {
          "year_of_publication": 2016
         },
         {
          "year_of_publication": 2016
         },
         {
          "year_of_publication": 2016
         },
         {
          "year_of_publication": 2016
         },
         {
          "year_of_publication": 2016
         },
         {
          "year_of_publication": 2016
         },
         {
          "year_of_publication": 2016
         },
         {
          "year_of_publication": 2016
         },
         {
          "year_of_publication": 2016
         },
         {
          "year_of_publication": 2016
         },
         {
          "year_of_publication": 2016
         },
         {
          "year_of_publication": 2016
         },
         {
          "year_of_publication": 2016
         },
         {
          "year_of_publication": 2016
         },
         {
          "year_of_publication": 2016
         },
         {
          "year_of_publication": 2016
         },
         {
          "year_of_publication": 2016
         },
         {
          "year_of_publication": 2016
         },
         {
          "year_of_publication": 2016
         },
         {
          "year_of_publication": 2016
         },
         {
          "year_of_publication": 2016
         },
         {
          "year_of_publication": 2016
         },
         {
          "year_of_publication": 2016
         },
         {
          "year_of_publication": 2015
         },
         {
          "year_of_publication": 2015
         },
         {
          "year_of_publication": 2015
         },
         {
          "year_of_publication": 2015
         },
         {
          "year_of_publication": 2015
         },
         {
          "year_of_publication": 2015
         },
         {
          "year_of_publication": 2015
         },
         {
          "year_of_publication": 2015
         },
         {
          "year_of_publication": 2015
         },
         {
          "year_of_publication": 2015
         },
         {
          "year_of_publication": 2015
         },
         {
          "year_of_publication": 2015
         },
         {
          "year_of_publication": 2015
         },
         {
          "year_of_publication": 2015
         },
         {
          "year_of_publication": 2015
         },
         {
          "year_of_publication": 2015
         },
         {
          "year_of_publication": 2015
         },
         {
          "year_of_publication": 2015
         },
         {
          "year_of_publication": 2015
         },
         {
          "year_of_publication": 2015
         },
         {
          "year_of_publication": 2015
         },
         {
          "year_of_publication": 2015
         },
         {
          "year_of_publication": 2015
         },
         {
          "year_of_publication": 2015
         },
         {
          "year_of_publication": 2015
         },
         {
          "year_of_publication": 2015
         },
         {
          "year_of_publication": 2015
         },
         {
          "year_of_publication": 2015
         },
         {
          "year_of_publication": 2015
         },
         {
          "year_of_publication": 2015
         },
         {
          "year_of_publication": 2015
         },
         {
          "year_of_publication": 2015
         },
         {
          "year_of_publication": 2015
         },
         {
          "year_of_publication": 2015
         },
         {
          "year_of_publication": 2015
         },
         {
          "year_of_publication": 2015
         },
         {
          "year_of_publication": 2015
         },
         {
          "year_of_publication": 2015
         },
         {
          "year_of_publication": 2015
         },
         {
          "year_of_publication": 2015
         },
         {
          "year_of_publication": 2015
         },
         {
          "year_of_publication": 2015
         },
         {
          "year_of_publication": 2015
         },
         {
          "year_of_publication": 2015
         },
         {
          "year_of_publication": 2015
         },
         {
          "year_of_publication": 2015
         },
         {
          "year_of_publication": 2015
         },
         {
          "year_of_publication": 2015
         },
         {
          "year_of_publication": 2015
         },
         {
          "year_of_publication": 2015
         },
         {
          "year_of_publication": 2015
         },
         {
          "year_of_publication": 2015
         },
         {
          "year_of_publication": 2015
         },
         {
          "year_of_publication": 2015
         },
         {
          "year_of_publication": 2015
         },
         {
          "year_of_publication": 2015
         },
         {
          "year_of_publication": 2015
         },
         {
          "year_of_publication": 2015
         },
         {
          "year_of_publication": 2015
         },
         {
          "year_of_publication": 2015
         },
         {
          "year_of_publication": 2015
         },
         {
          "year_of_publication": 2015
         },
         {
          "year_of_publication": 2015
         },
         {
          "year_of_publication": 2015
         },
         {
          "year_of_publication": 2015
         },
         {
          "year_of_publication": 2015
         },
         {
          "year_of_publication": 2015
         },
         {
          "year_of_publication": 2015
         },
         {
          "year_of_publication": 2015
         },
         {
          "year_of_publication": 2015
         },
         {
          "year_of_publication": 2015
         },
         {
          "year_of_publication": 2015
         },
         {
          "year_of_publication": 2015
         },
         {
          "year_of_publication": 2015
         },
         {
          "year_of_publication": 2015
         },
         {
          "year_of_publication": 2015
         },
         {
          "year_of_publication": 2015
         },
         {
          "year_of_publication": 2015
         },
         {
          "year_of_publication": 2015
         },
         {
          "year_of_publication": 2015
         },
         {
          "year_of_publication": 2015
         },
         {
          "year_of_publication": 2015
         },
         {
          "year_of_publication": 2015
         },
         {
          "year_of_publication": 2015
         },
         {
          "year_of_publication": 2015
         },
         {
          "year_of_publication": 2015
         },
         {
          "year_of_publication": 2015
         },
         {
          "year_of_publication": 2015
         },
         {
          "year_of_publication": 2015
         },
         {
          "year_of_publication": 2015
         },
         {
          "year_of_publication": 2015
         },
         {
          "year_of_publication": 2015
         },
         {
          "year_of_publication": 2015
         },
         {
          "year_of_publication": 2015
         },
         {
          "year_of_publication": 2015
         },
         {
          "year_of_publication": 2015
         },
         {
          "year_of_publication": 2015
         },
         {
          "year_of_publication": 2015
         },
         {
          "year_of_publication": 2015
         },
         {
          "year_of_publication": 2015
         },
         {
          "year_of_publication": 2015
         },
         {
          "year_of_publication": 2015
         },
         {
          "year_of_publication": 2015
         },
         {
          "year_of_publication": 2015
         },
         {
          "year_of_publication": 2015
         },
         {
          "year_of_publication": 2015
         },
         {
          "year_of_publication": 2015
         },
         {
          "year_of_publication": 2015
         },
         {
          "year_of_publication": 2015
         },
         {
          "year_of_publication": 2015
         },
         {
          "year_of_publication": 2015
         },
         {
          "year_of_publication": 2015
         },
         {
          "year_of_publication": 2015
         },
         {
          "year_of_publication": 2015
         },
         {
          "year_of_publication": 2015
         },
         {
          "year_of_publication": 2015
         },
         {
          "year_of_publication": 2015
         },
         {
          "year_of_publication": 2015
         },
         {
          "year_of_publication": 2015
         },
         {
          "year_of_publication": 2015
         },
         {
          "year_of_publication": 2015
         },
         {
          "year_of_publication": 2015
         },
         {
          "year_of_publication": 2015
         },
         {
          "year_of_publication": 2015
         },
         {
          "year_of_publication": 2015
         },
         {
          "year_of_publication": 2015
         },
         {
          "year_of_publication": 2015
         },
         {
          "year_of_publication": 2015
         },
         {
          "year_of_publication": 2015
         },
         {
          "year_of_publication": 2015
         },
         {
          "year_of_publication": 2015
         },
         {
          "year_of_publication": 2015
         },
         {
          "year_of_publication": 2015
         },
         {
          "year_of_publication": 2015
         },
         {
          "year_of_publication": 2015
         },
         {
          "year_of_publication": 2015
         },
         {
          "year_of_publication": 2015
         },
         {
          "year_of_publication": 2015
         },
         {
          "year_of_publication": 2015
         },
         {
          "year_of_publication": 2015
         },
         {
          "year_of_publication": 2015
         },
         {
          "year_of_publication": 2015
         },
         {
          "year_of_publication": 2015
         },
         {
          "year_of_publication": 2015
         },
         {
          "year_of_publication": 2015
         },
         {
          "year_of_publication": 2015
         },
         {
          "year_of_publication": 2015
         },
         {
          "year_of_publication": 2015
         },
         {
          "year_of_publication": 2015
         },
         {
          "year_of_publication": 2015
         },
         {
          "year_of_publication": 2015
         },
         {
          "year_of_publication": 2015
         },
         {
          "year_of_publication": 2015
         },
         {
          "year_of_publication": 2015
         },
         {
          "year_of_publication": 2015
         },
         {
          "year_of_publication": 2015
         },
         {
          "year_of_publication": 2015
         },
         {
          "year_of_publication": 2015
         },
         {
          "year_of_publication": 2015
         },
         {
          "year_of_publication": 2015
         },
         {
          "year_of_publication": 2015
         },
         {
          "year_of_publication": 2015
         },
         {
          "year_of_publication": 2015
         },
         {
          "year_of_publication": 2015
         },
         {
          "year_of_publication": 2015
         },
         {
          "year_of_publication": 2015
         },
         {
          "year_of_publication": 2015
         },
         {
          "year_of_publication": 2015
         },
         {
          "year_of_publication": 2015
         },
         {
          "year_of_publication": 2015
         },
         {
          "year_of_publication": 2015
         },
         {
          "year_of_publication": 2015
         },
         {
          "year_of_publication": 2015
         },
         {
          "year_of_publication": 2015
         },
         {
          "year_of_publication": 2015
         },
         {
          "year_of_publication": 2015
         },
         {
          "year_of_publication": 2015
         },
         {
          "year_of_publication": 2015
         },
         {
          "year_of_publication": 2015
         },
         {
          "year_of_publication": 2015
         },
         {
          "year_of_publication": 2015
         },
         {
          "year_of_publication": 2015
         },
         {
          "year_of_publication": 2015
         },
         {
          "year_of_publication": 2015
         },
         {
          "year_of_publication": 2015
         },
         {
          "year_of_publication": 2015
         },
         {
          "year_of_publication": 2015
         },
         {
          "year_of_publication": 2015
         },
         {
          "year_of_publication": 2015
         },
         {
          "year_of_publication": 2015
         },
         {
          "year_of_publication": 2015
         },
         {
          "year_of_publication": 2015
         },
         {
          "year_of_publication": 2015
         },
         {
          "year_of_publication": 2015
         },
         {
          "year_of_publication": 2015
         },
         {
          "year_of_publication": 2015
         },
         {
          "year_of_publication": 2015
         },
         {
          "year_of_publication": 2015
         },
         {
          "year_of_publication": 2015
         },
         {
          "year_of_publication": 2015
         },
         {
          "year_of_publication": 2015
         },
         {
          "year_of_publication": 2015
         },
         {
          "year_of_publication": 2015
         },
         {
          "year_of_publication": 2015
         },
         {
          "year_of_publication": 2015
         },
         {
          "year_of_publication": 2015
         },
         {
          "year_of_publication": 2015
         },
         {
          "year_of_publication": 2015
         },
         {
          "year_of_publication": 2015
         },
         {
          "year_of_publication": 2015
         },
         {
          "year_of_publication": 2015
         },
         {
          "year_of_publication": 2015
         },
         {
          "year_of_publication": 2015
         },
         {
          "year_of_publication": 2015
         },
         {
          "year_of_publication": 2015
         },
         {
          "year_of_publication": 2015
         },
         {
          "year_of_publication": 2015
         },
         {
          "year_of_publication": 2015
         },
         {
          "year_of_publication": 2015
         },
         {
          "year_of_publication": 2015
         },
         {
          "year_of_publication": 2015
         },
         {
          "year_of_publication": 2015
         },
         {
          "year_of_publication": 2015
         },
         {
          "year_of_publication": 2015
         },
         {
          "year_of_publication": 2015
         },
         {
          "year_of_publication": 2015
         },
         {
          "year_of_publication": 2015
         },
         {
          "year_of_publication": 2015
         },
         {
          "year_of_publication": 2015
         },
         {
          "year_of_publication": 2015
         },
         {
          "year_of_publication": 2015
         },
         {
          "year_of_publication": 2015
         },
         {
          "year_of_publication": 2015
         },
         {
          "year_of_publication": 2015
         },
         {
          "year_of_publication": 2015
         },
         {
          "year_of_publication": 2015
         },
         {
          "year_of_publication": 2015
         },
         {
          "year_of_publication": 2015
         },
         {
          "year_of_publication": 2015
         },
         {
          "year_of_publication": 2015
         },
         {
          "year_of_publication": 2015
         },
         {
          "year_of_publication": 2015
         },
         {
          "year_of_publication": 2015
         },
         {
          "year_of_publication": 2015
         },
         {
          "year_of_publication": 2015
         },
         {
          "year_of_publication": 2015
         },
         {
          "year_of_publication": 2015
         },
         {
          "year_of_publication": 2015
         },
         {
          "year_of_publication": 2015
         },
         {
          "year_of_publication": 2015
         },
         {
          "year_of_publication": 2015
         },
         {
          "year_of_publication": 2015
         },
         {
          "year_of_publication": 2015
         },
         {
          "year_of_publication": 2015
         },
         {
          "year_of_publication": 2015
         },
         {
          "year_of_publication": 2015
         },
         {
          "year_of_publication": 2015
         },
         {
          "year_of_publication": 2015
         },
         {
          "year_of_publication": 2015
         },
         {
          "year_of_publication": 2015
         },
         {
          "year_of_publication": 2015
         },
         {
          "year_of_publication": 2015
         },
         {
          "year_of_publication": 2015
         },
         {
          "year_of_publication": 2015
         },
         {
          "year_of_publication": 2015
         },
         {
          "year_of_publication": 2015
         },
         {
          "year_of_publication": 2015
         },
         {
          "year_of_publication": 2015
         },
         {
          "year_of_publication": 2015
         },
         {
          "year_of_publication": 2015
         },
         {
          "year_of_publication": 2015
         },
         {
          "year_of_publication": 2015
         },
         {
          "year_of_publication": 2015
         },
         {
          "year_of_publication": 2015
         },
         {
          "year_of_publication": 2015
         },
         {
          "year_of_publication": 2015
         },
         {
          "year_of_publication": 2015
         },
         {
          "year_of_publication": 2015
         },
         {
          "year_of_publication": 2015
         },
         {
          "year_of_publication": 2015
         },
         {
          "year_of_publication": 2015
         },
         {
          "year_of_publication": 2015
         },
         {
          "year_of_publication": 2015
         },
         {
          "year_of_publication": 2015
         },
         {
          "year_of_publication": 2015
         },
         {
          "year_of_publication": 2015
         },
         {
          "year_of_publication": 2015
         },
         {
          "year_of_publication": 2015
         },
         {
          "year_of_publication": 2015
         },
         {
          "year_of_publication": 2015
         },
         {
          "year_of_publication": 2015
         },
         {
          "year_of_publication": 2015
         },
         {
          "year_of_publication": 2015
         },
         {
          "year_of_publication": 2015
         },
         {
          "year_of_publication": 2015
         },
         {
          "year_of_publication": 2015
         },
         {
          "year_of_publication": 2015
         },
         {
          "year_of_publication": 2015
         },
         {
          "year_of_publication": 2015
         },
         {
          "year_of_publication": 2015
         },
         {
          "year_of_publication": 2015
         },
         {
          "year_of_publication": 2015
         },
         {
          "year_of_publication": 2015
         },
         {
          "year_of_publication": 2015
         },
         {
          "year_of_publication": 2015
         },
         {
          "year_of_publication": 2015
         },
         {
          "year_of_publication": 2015
         },
         {
          "year_of_publication": 2015
         },
         {
          "year_of_publication": 2015
         },
         {
          "year_of_publication": 2015
         },
         {
          "year_of_publication": 2015
         },
         {
          "year_of_publication": 2015
         },
         {
          "year_of_publication": 2015
         },
         {
          "year_of_publication": 2015
         },
         {
          "year_of_publication": 2015
         },
         {
          "year_of_publication": 2015
         },
         {
          "year_of_publication": 2015
         },
         {
          "year_of_publication": 2015
         },
         {
          "year_of_publication": 2015
         },
         {
          "year_of_publication": 2015
         },
         {
          "year_of_publication": 2015
         },
         {
          "year_of_publication": 2015
         },
         {
          "year_of_publication": 2015
         },
         {
          "year_of_publication": 2015
         },
         {
          "year_of_publication": 2015
         },
         {
          "year_of_publication": 2015
         },
         {
          "year_of_publication": 2015
         },
         {
          "year_of_publication": 2015
         },
         {
          "year_of_publication": 2015
         },
         {
          "year_of_publication": 2015
         },
         {
          "year_of_publication": 2015
         },
         {
          "year_of_publication": 2015
         },
         {
          "year_of_publication": 2015
         },
         {
          "year_of_publication": 2015
         },
         {
          "year_of_publication": 2015
         },
         {
          "year_of_publication": 2015
         },
         {
          "year_of_publication": 2015
         },
         {
          "year_of_publication": 2015
         },
         {
          "year_of_publication": 2015
         },
         {
          "year_of_publication": 2015
         },
         {
          "year_of_publication": 2015
         },
         {
          "year_of_publication": 2015
         },
         {
          "year_of_publication": 2015
         },
         {
          "year_of_publication": 2015
         },
         {
          "year_of_publication": 2015
         },
         {
          "year_of_publication": 2015
         },
         {
          "year_of_publication": 2015
         },
         {
          "year_of_publication": 2015
         },
         {
          "year_of_publication": 2015
         },
         {
          "year_of_publication": 2015
         },
         {
          "year_of_publication": 2015
         },
         {
          "year_of_publication": 2015
         },
         {
          "year_of_publication": 2015
         },
         {
          "year_of_publication": 2015
         },
         {
          "year_of_publication": 2015
         },
         {
          "year_of_publication": 2015
         },
         {
          "year_of_publication": 2015
         },
         {
          "year_of_publication": 2015
         },
         {
          "year_of_publication": 2015
         },
         {
          "year_of_publication": 2015
         },
         {
          "year_of_publication": 2015
         },
         {
          "year_of_publication": 2015
         },
         {
          "year_of_publication": 2015
         },
         {
          "year_of_publication": 2015
         },
         {
          "year_of_publication": 2015
         },
         {
          "year_of_publication": 2015
         },
         {
          "year_of_publication": 2015
         },
         {
          "year_of_publication": 2015
         },
         {
          "year_of_publication": 2015
         },
         {
          "year_of_publication": 2015
         },
         {
          "year_of_publication": 2015
         },
         {
          "year_of_publication": 2015
         },
         {
          "year_of_publication": 2015
         },
         {
          "year_of_publication": 2015
         },
         {
          "year_of_publication": 2015
         },
         {
          "year_of_publication": 2015
         },
         {
          "year_of_publication": 2015
         },
         {
          "year_of_publication": 2015
         },
         {
          "year_of_publication": 2015
         },
         {
          "year_of_publication": 2015
         },
         {
          "year_of_publication": 2015
         },
         {
          "year_of_publication": 2015
         },
         {
          "year_of_publication": 2015
         },
         {
          "year_of_publication": 2015
         },
         {
          "year_of_publication": 2015
         },
         {
          "year_of_publication": 2015
         },
         {
          "year_of_publication": 2015
         },
         {
          "year_of_publication": 2015
         },
         {
          "year_of_publication": 2015
         },
         {
          "year_of_publication": 2015
         },
         {
          "year_of_publication": 2015
         },
         {
          "year_of_publication": 2015
         },
         {
          "year_of_publication": 2015
         },
         {
          "year_of_publication": 2015
         },
         {
          "year_of_publication": 2015
         },
         {
          "year_of_publication": 2015
         },
         {
          "year_of_publication": 2015
         },
         {
          "year_of_publication": 2015
         },
         {
          "year_of_publication": 2015
         },
         {
          "year_of_publication": 2015
         },
         {
          "year_of_publication": 2015
         },
         {
          "year_of_publication": 2015
         },
         {
          "year_of_publication": 2015
         },
         {
          "year_of_publication": 2015
         },
         {
          "year_of_publication": 2015
         },
         {
          "year_of_publication": 2015
         },
         {
          "year_of_publication": 2015
         },
         {
          "year_of_publication": 2015
         },
         {
          "year_of_publication": 2015
         },
         {
          "year_of_publication": 2015
         },
         {
          "year_of_publication": 2015
         },
         {
          "year_of_publication": 2015
         },
         {
          "year_of_publication": 2015
         },
         {
          "year_of_publication": 2015
         },
         {
          "year_of_publication": 2015
         },
         {
          "year_of_publication": 2015
         },
         {
          "year_of_publication": 2015
         },
         {
          "year_of_publication": 2015
         },
         {
          "year_of_publication": 2015
         },
         {
          "year_of_publication": 2015
         },
         {
          "year_of_publication": 2015
         },
         {
          "year_of_publication": 2015
         },
         {
          "year_of_publication": 2015
         },
         {
          "year_of_publication": 2015
         },
         {
          "year_of_publication": 2015
         },
         {
          "year_of_publication": 2015
         },
         {
          "year_of_publication": 2015
         },
         {
          "year_of_publication": 2015
         },
         {
          "year_of_publication": 2015
         },
         {
          "year_of_publication": 2015
         },
         {
          "year_of_publication": 2015
         },
         {
          "year_of_publication": 2015
         },
         {
          "year_of_publication": 2015
         },
         {
          "year_of_publication": 2015
         },
         {
          "year_of_publication": 2015
         },
         {
          "year_of_publication": 2015
         },
         {
          "year_of_publication": 2015
         },
         {
          "year_of_publication": 2015
         },
         {
          "year_of_publication": 2015
         },
         {
          "year_of_publication": 2015
         },
         {
          "year_of_publication": 2015
         },
         {
          "year_of_publication": 2015
         },
         {
          "year_of_publication": 2015
         },
         {
          "year_of_publication": 2015
         },
         {
          "year_of_publication": 2015
         },
         {
          "year_of_publication": 2015
         },
         {
          "year_of_publication": 2015
         },
         {
          "year_of_publication": 2015
         },
         {
          "year_of_publication": 2015
         },
         {
          "year_of_publication": 2015
         },
         {
          "year_of_publication": 2015
         },
         {
          "year_of_publication": 2015
         },
         {
          "year_of_publication": 2015
         },
         {
          "year_of_publication": 2015
         },
         {
          "year_of_publication": 2015
         },
         {
          "year_of_publication": 2015
         },
         {
          "year_of_publication": 2015
         },
         {
          "year_of_publication": 2015
         },
         {
          "year_of_publication": 2015
         },
         {
          "year_of_publication": 2015
         },
         {
          "year_of_publication": 2015
         },
         {
          "year_of_publication": 2015
         },
         {
          "year_of_publication": 2015
         },
         {
          "year_of_publication": 2015
         },
         {
          "year_of_publication": 2015
         },
         {
          "year_of_publication": 2015
         },
         {
          "year_of_publication": 2015
         },
         {
          "year_of_publication": 2015
         },
         {
          "year_of_publication": 2015
         },
         {
          "year_of_publication": 2015
         },
         {
          "year_of_publication": 2015
         },
         {
          "year_of_publication": 2015
         },
         {
          "year_of_publication": 2015
         },
         {
          "year_of_publication": 2015
         },
         {
          "year_of_publication": 2015
         },
         {
          "year_of_publication": 2015
         },
         {
          "year_of_publication": 2015
         },
         {
          "year_of_publication": 2015
         },
         {
          "year_of_publication": 2015
         },
         {
          "year_of_publication": 2015
         },
         {
          "year_of_publication": 2015
         },
         {
          "year_of_publication": 2015
         },
         {
          "year_of_publication": 2015
         },
         {
          "year_of_publication": 2015
         },
         {
          "year_of_publication": 2015
         },
         {
          "year_of_publication": 2015
         },
         {
          "year_of_publication": 2015
         },
         {
          "year_of_publication": 2015
         },
         {
          "year_of_publication": 2015
         },
         {
          "year_of_publication": 2015
         },
         {
          "year_of_publication": 2015
         },
         {
          "year_of_publication": 2015
         },
         {
          "year_of_publication": 2015
         },
         {
          "year_of_publication": 2015
         },
         {
          "year_of_publication": 2015
         },
         {
          "year_of_publication": 2015
         },
         {
          "year_of_publication": 2015
         },
         {
          "year_of_publication": 2015
         },
         {
          "year_of_publication": 2015
         },
         {
          "year_of_publication": 2015
         },
         {
          "year_of_publication": 2015
         },
         {
          "year_of_publication": 2015
         },
         {
          "year_of_publication": 2015
         },
         {
          "year_of_publication": 2015
         },
         {
          "year_of_publication": 2015
         },
         {
          "year_of_publication": 2015
         },
         {
          "year_of_publication": 2015
         },
         {
          "year_of_publication": 2015
         },
         {
          "year_of_publication": 2015
         },
         {
          "year_of_publication": 2015
         },
         {
          "year_of_publication": 2015
         },
         {
          "year_of_publication": 2015
         },
         {
          "year_of_publication": 2015
         },
         {
          "year_of_publication": 2015
         },
         {
          "year_of_publication": 2015
         },
         {
          "year_of_publication": 2015
         },
         {
          "year_of_publication": 2015
         },
         {
          "year_of_publication": 2015
         },
         {
          "year_of_publication": 2015
         },
         {
          "year_of_publication": 2015
         },
         {
          "year_of_publication": 2015
         },
         {
          "year_of_publication": 2015
         },
         {
          "year_of_publication": 2015
         },
         {
          "year_of_publication": 2015
         },
         {
          "year_of_publication": 2015
         },
         {
          "year_of_publication": 2015
         },
         {
          "year_of_publication": 2015
         },
         {
          "year_of_publication": 2015
         },
         {
          "year_of_publication": 2015
         },
         {
          "year_of_publication": 2015
         },
         {
          "year_of_publication": 2015
         },
         {
          "year_of_publication": 2015
         },
         {
          "year_of_publication": 2015
         },
         {
          "year_of_publication": 2015
         },
         {
          "year_of_publication": 2015
         },
         {
          "year_of_publication": 2015
         },
         {
          "year_of_publication": 2015
         },
         {
          "year_of_publication": 2015
         },
         {
          "year_of_publication": 2015
         },
         {
          "year_of_publication": 2015
         },
         {
          "year_of_publication": 2015
         },
         {
          "year_of_publication": 2015
         },
         {
          "year_of_publication": 2015
         },
         {
          "year_of_publication": 2015
         },
         {
          "year_of_publication": 2015
         },
         {
          "year_of_publication": 2015
         },
         {
          "year_of_publication": 2015
         },
         {
          "year_of_publication": 2015
         },
         {
          "year_of_publication": 2015
         },
         {
          "year_of_publication": 2015
         },
         {
          "year_of_publication": 2015
         },
         {
          "year_of_publication": 2015
         },
         {
          "year_of_publication": 2015
         },
         {
          "year_of_publication": 2015
         },
         {
          "year_of_publication": 2015
         },
         {
          "year_of_publication": 2015
         },
         {
          "year_of_publication": 2015
         },
         {
          "year_of_publication": 2015
         },
         {
          "year_of_publication": 2015
         },
         {
          "year_of_publication": 2015
         },
         {
          "year_of_publication": 2015
         },
         {
          "year_of_publication": 2015
         },
         {
          "year_of_publication": 2015
         },
         {
          "year_of_publication": 2015
         },
         {
          "year_of_publication": 2015
         },
         {
          "year_of_publication": 2015
         },
         {
          "year_of_publication": 2015
         },
         {
          "year_of_publication": 2015
         },
         {
          "year_of_publication": 2015
         },
         {
          "year_of_publication": 2015
         },
         {
          "year_of_publication": 2015
         },
         {
          "year_of_publication": 2015
         },
         {
          "year_of_publication": 2015
         },
         {
          "year_of_publication": 2015
         },
         {
          "year_of_publication": 2015
         },
         {
          "year_of_publication": 2015
         },
         {
          "year_of_publication": 2015
         },
         {
          "year_of_publication": 2015
         },
         {
          "year_of_publication": 2015
         },
         {
          "year_of_publication": 2015
         },
         {
          "year_of_publication": 2015
         },
         {
          "year_of_publication": 2015
         },
         {
          "year_of_publication": 2015
         },
         {
          "year_of_publication": 2015
         },
         {
          "year_of_publication": 2015
         },
         {
          "year_of_publication": 2015
         },
         {
          "year_of_publication": 2015
         },
         {
          "year_of_publication": 2015
         },
         {
          "year_of_publication": 2015
         },
         {
          "year_of_publication": 2015
         },
         {
          "year_of_publication": 2015
         },
         {
          "year_of_publication": 2015
         },
         {
          "year_of_publication": 2015
         },
         {
          "year_of_publication": 2015
         },
         {
          "year_of_publication": 2015
         },
         {
          "year_of_publication": 2015
         },
         {
          "year_of_publication": 2015
         },
         {
          "year_of_publication": 2015
         },
         {
          "year_of_publication": 2015
         },
         {
          "year_of_publication": 2015
         },
         {
          "year_of_publication": 2015
         },
         {
          "year_of_publication": 2015
         },
         {
          "year_of_publication": 2015
         },
         {
          "year_of_publication": 2015
         },
         {
          "year_of_publication": 2015
         },
         {
          "year_of_publication": 2015
         },
         {
          "year_of_publication": 2015
         },
         {
          "year_of_publication": 2015
         },
         {
          "year_of_publication": 2015
         },
         {
          "year_of_publication": 2015
         },
         {
          "year_of_publication": 2015
         },
         {
          "year_of_publication": 2015
         },
         {
          "year_of_publication": 2015
         },
         {
          "year_of_publication": 2015
         },
         {
          "year_of_publication": 2015
         },
         {
          "year_of_publication": 2015
         },
         {
          "year_of_publication": 2015
         },
         {
          "year_of_publication": 2015
         },
         {
          "year_of_publication": 2015
         },
         {
          "year_of_publication": 2015
         },
         {
          "year_of_publication": 2015
         },
         {
          "year_of_publication": 2015
         },
         {
          "year_of_publication": 2015
         },
         {
          "year_of_publication": 2015
         },
         {
          "year_of_publication": 2015
         },
         {
          "year_of_publication": 2015
         },
         {
          "year_of_publication": 2015
         },
         {
          "year_of_publication": 2015
         },
         {
          "year_of_publication": 2015
         },
         {
          "year_of_publication": 2015
         },
         {
          "year_of_publication": 2015
         },
         {
          "year_of_publication": 2015
         },
         {
          "year_of_publication": 2015
         },
         {
          "year_of_publication": 2015
         },
         {
          "year_of_publication": 2015
         },
         {
          "year_of_publication": 2015
         },
         {
          "year_of_publication": 2015
         },
         {
          "year_of_publication": 2015
         },
         {
          "year_of_publication": 2015
         },
         {
          "year_of_publication": 2015
         },
         {
          "year_of_publication": 2015
         },
         {
          "year_of_publication": 2015
         },
         {
          "year_of_publication": 2015
         },
         {
          "year_of_publication": 2015
         },
         {
          "year_of_publication": 2015
         },
         {
          "year_of_publication": 2015
         },
         {
          "year_of_publication": 2015
         },
         {
          "year_of_publication": 2015
         },
         {
          "year_of_publication": 2015
         },
         {
          "year_of_publication": 2015
         },
         {
          "year_of_publication": 2015
         },
         {
          "year_of_publication": 2015
         },
         {
          "year_of_publication": 2015
         },
         {
          "year_of_publication": 2015
         },
         {
          "year_of_publication": 2015
         },
         {
          "year_of_publication": 2015
         },
         {
          "year_of_publication": 2015
         },
         {
          "year_of_publication": 2015
         },
         {
          "year_of_publication": 2015
         },
         {
          "year_of_publication": 2015
         },
         {
          "year_of_publication": 2015
         },
         {
          "year_of_publication": 2015
         },
         {
          "year_of_publication": 2015
         },
         {
          "year_of_publication": 2015
         },
         {
          "year_of_publication": 2015
         },
         {
          "year_of_publication": 2015
         },
         {
          "year_of_publication": 2015
         },
         {
          "year_of_publication": 2015
         },
         {
          "year_of_publication": 2015
         },
         {
          "year_of_publication": 2015
         },
         {
          "year_of_publication": 2015
         },
         {
          "year_of_publication": 2015
         },
         {
          "year_of_publication": 2015
         },
         {
          "year_of_publication": 2015
         },
         {
          "year_of_publication": 2015
         },
         {
          "year_of_publication": 2015
         },
         {
          "year_of_publication": 2015
         },
         {
          "year_of_publication": 2015
         },
         {
          "year_of_publication": 2015
         },
         {
          "year_of_publication": 2015
         },
         {
          "year_of_publication": 2015
         },
         {
          "year_of_publication": 2015
         },
         {
          "year_of_publication": 2015
         },
         {
          "year_of_publication": 2015
         },
         {
          "year_of_publication": 2015
         },
         {
          "year_of_publication": 2015
         },
         {
          "year_of_publication": 2015
         },
         {
          "year_of_publication": 2015
         },
         {
          "year_of_publication": 2015
         },
         {
          "year_of_publication": 2015
         },
         {
          "year_of_publication": 2015
         },
         {
          "year_of_publication": 2015
         },
         {
          "year_of_publication": 2015
         },
         {
          "year_of_publication": 2015
         },
         {
          "year_of_publication": 2015
         },
         {
          "year_of_publication": 2015
         },
         {
          "year_of_publication": 2015
         },
         {
          "year_of_publication": 2015
         },
         {
          "year_of_publication": 2015
         },
         {
          "year_of_publication": 2015
         },
         {
          "year_of_publication": 2015
         },
         {
          "year_of_publication": 2015
         },
         {
          "year_of_publication": 2015
         },
         {
          "year_of_publication": 2015
         },
         {
          "year_of_publication": 2015
         },
         {
          "year_of_publication": 2015
         },
         {
          "year_of_publication": 2015
         },
         {
          "year_of_publication": 2015
         },
         {
          "year_of_publication": 2015
         },
         {
          "year_of_publication": 2015
         },
         {
          "year_of_publication": 2015
         },
         {
          "year_of_publication": 2015
         },
         {
          "year_of_publication": 2015
         },
         {
          "year_of_publication": 2015
         },
         {
          "year_of_publication": 2015
         },
         {
          "year_of_publication": 2015
         },
         {
          "year_of_publication": 2015
         },
         {
          "year_of_publication": 2015
         },
         {
          "year_of_publication": 2015
         },
         {
          "year_of_publication": 2015
         },
         {
          "year_of_publication": 2015
         },
         {
          "year_of_publication": 2015
         },
         {
          "year_of_publication": 2015
         },
         {
          "year_of_publication": 2015
         },
         {
          "year_of_publication": 2015
         },
         {
          "year_of_publication": 2015
         },
         {
          "year_of_publication": 2015
         },
         {
          "year_of_publication": 2015
         },
         {
          "year_of_publication": 2015
         },
         {
          "year_of_publication": 2015
         },
         {
          "year_of_publication": 2015
         },
         {
          "year_of_publication": 2015
         },
         {
          "year_of_publication": 2015
         },
         {
          "year_of_publication": 2015
         },
         {
          "year_of_publication": 2015
         },
         {
          "year_of_publication": 2015
         },
         {
          "year_of_publication": 2015
         },
         {
          "year_of_publication": 2015
         },
         {
          "year_of_publication": 2015
         },
         {
          "year_of_publication": 2015
         },
         {
          "year_of_publication": 2015
         },
         {
          "year_of_publication": 2015
         },
         {
          "year_of_publication": 2015
         },
         {
          "year_of_publication": 2015
         },
         {
          "year_of_publication": 2015
         },
         {
          "year_of_publication": 2015
         },
         {
          "year_of_publication": 2015
         },
         {
          "year_of_publication": 2015
         },
         {
          "year_of_publication": 2015
         },
         {
          "year_of_publication": 2015
         },
         {
          "year_of_publication": 2015
         },
         {
          "year_of_publication": 2015
         },
         {
          "year_of_publication": 2015
         },
         {
          "year_of_publication": 2015
         },
         {
          "year_of_publication": 2015
         },
         {
          "year_of_publication": 2015
         },
         {
          "year_of_publication": 2015
         },
         {
          "year_of_publication": 2015
         },
         {
          "year_of_publication": 2015
         },
         {
          "year_of_publication": 2015
         },
         {
          "year_of_publication": 2015
         },
         {
          "year_of_publication": 2015
         },
         {
          "year_of_publication": 2015
         },
         {
          "year_of_publication": 2015
         },
         {
          "year_of_publication": 2015
         },
         {
          "year_of_publication": 2015
         },
         {
          "year_of_publication": 2015
         },
         {
          "year_of_publication": 2015
         },
         {
          "year_of_publication": 2015
         },
         {
          "year_of_publication": 2015
         },
         {
          "year_of_publication": 2015
         },
         {
          "year_of_publication": 2015
         },
         {
          "year_of_publication": 2015
         },
         {
          "year_of_publication": 2015
         },
         {
          "year_of_publication": 2015
         },
         {
          "year_of_publication": 2015
         },
         {
          "year_of_publication": 2015
         },
         {
          "year_of_publication": 2015
         },
         {
          "year_of_publication": 2015
         },
         {
          "year_of_publication": 2015
         },
         {
          "year_of_publication": 2015
         },
         {
          "year_of_publication": 2015
         },
         {
          "year_of_publication": 2015
         },
         {
          "year_of_publication": 2015
         },
         {
          "year_of_publication": 2015
         },
         {
          "year_of_publication": 2015
         },
         {
          "year_of_publication": 2015
         },
         {
          "year_of_publication": 2015
         },
         {
          "year_of_publication": 2015
         },
         {
          "year_of_publication": 2015
         },
         {
          "year_of_publication": 2015
         },
         {
          "year_of_publication": 2015
         },
         {
          "year_of_publication": 2015
         },
         {
          "year_of_publication": 2015
         },
         {
          "year_of_publication": 2015
         },
         {
          "year_of_publication": 2015
         },
         {
          "year_of_publication": 2015
         },
         {
          "year_of_publication": 2015
         },
         {
          "year_of_publication": 2015
         },
         {
          "year_of_publication": 2015
         },
         {
          "year_of_publication": 2015
         },
         {
          "year_of_publication": 2015
         },
         {
          "year_of_publication": 2015
         },
         {
          "year_of_publication": 2015
         },
         {
          "year_of_publication": 2015
         },
         {
          "year_of_publication": 2015
         },
         {
          "year_of_publication": 2015
         },
         {
          "year_of_publication": 2015
         },
         {
          "year_of_publication": 2015
         },
         {
          "year_of_publication": 2015
         },
         {
          "year_of_publication": 2015
         },
         {
          "year_of_publication": 2015
         },
         {
          "year_of_publication": 2015
         },
         {
          "year_of_publication": 2015
         },
         {
          "year_of_publication": 2015
         },
         {
          "year_of_publication": 2015
         },
         {
          "year_of_publication": 2015
         },
         {
          "year_of_publication": 2015
         },
         {
          "year_of_publication": 2015
         },
         {
          "year_of_publication": 2015
         },
         {
          "year_of_publication": 2015
         },
         {
          "year_of_publication": 2015
         },
         {
          "year_of_publication": 2015
         },
         {
          "year_of_publication": 2015
         },
         {
          "year_of_publication": 2015
         },
         {
          "year_of_publication": 2015
         },
         {
          "year_of_publication": 2015
         },
         {
          "year_of_publication": 2015
         },
         {
          "year_of_publication": 2015
         },
         {
          "year_of_publication": 2015
         },
         {
          "year_of_publication": 2015
         },
         {
          "year_of_publication": 2015
         },
         {
          "year_of_publication": 2015
         },
         {
          "year_of_publication": 2015
         },
         {
          "year_of_publication": 2015
         },
         {
          "year_of_publication": 2015
         },
         {
          "year_of_publication": 2015
         },
         {
          "year_of_publication": 2015
         },
         {
          "year_of_publication": 2015
         },
         {
          "year_of_publication": 2015
         },
         {
          "year_of_publication": 2015
         },
         {
          "year_of_publication": 2015
         },
         {
          "year_of_publication": 2015
         },
         {
          "year_of_publication": 2015
         },
         {
          "year_of_publication": 2015
         },
         {
          "year_of_publication": 2015
         },
         {
          "year_of_publication": 2015
         },
         {
          "year_of_publication": 2015
         },
         {
          "year_of_publication": 2015
         },
         {
          "year_of_publication": 2015
         },
         {
          "year_of_publication": 2015
         },
         {
          "year_of_publication": 2015
         },
         {
          "year_of_publication": 2015
         },
         {
          "year_of_publication": 2015
         },
         {
          "year_of_publication": 2015
         },
         {
          "year_of_publication": 2015
         },
         {
          "year_of_publication": 2015
         },
         {
          "year_of_publication": 2015
         },
         {
          "year_of_publication": 2015
         },
         {
          "year_of_publication": 2015
         },
         {
          "year_of_publication": 2015
         },
         {
          "year_of_publication": 2015
         },
         {
          "year_of_publication": 2015
         },
         {
          "year_of_publication": 2015
         },
         {
          "year_of_publication": 2015
         },
         {
          "year_of_publication": 2015
         },
         {
          "year_of_publication": 2015
         },
         {
          "year_of_publication": 2015
         },
         {
          "year_of_publication": 2015
         },
         {
          "year_of_publication": 2015
         },
         {
          "year_of_publication": 2015
         },
         {
          "year_of_publication": 2015
         },
         {
          "year_of_publication": 2015
         },
         {
          "year_of_publication": 2015
         },
         {
          "year_of_publication": 2015
         },
         {
          "year_of_publication": 2015
         },
         {
          "year_of_publication": 2015
         },
         {
          "year_of_publication": 2015
         },
         {
          "year_of_publication": 2015
         },
         {
          "year_of_publication": 2015
         },
         {
          "year_of_publication": 2015
         },
         {
          "year_of_publication": 2015
         },
         {
          "year_of_publication": 2015
         },
         {
          "year_of_publication": 2015
         },
         {
          "year_of_publication": 2015
         },
         {
          "year_of_publication": 2015
         },
         {
          "year_of_publication": 2015
         },
         {
          "year_of_publication": 2015
         },
         {
          "year_of_publication": 2015
         },
         {
          "year_of_publication": 2015
         },
         {
          "year_of_publication": 2015
         },
         {
          "year_of_publication": 2015
         },
         {
          "year_of_publication": 2015
         },
         {
          "year_of_publication": 2015
         },
         {
          "year_of_publication": 2015
         },
         {
          "year_of_publication": 2015
         },
         {
          "year_of_publication": 2015
         },
         {
          "year_of_publication": 2015
         },
         {
          "year_of_publication": 2015
         },
         {
          "year_of_publication": 2015
         },
         {
          "year_of_publication": 2015
         },
         {
          "year_of_publication": 2015
         },
         {
          "year_of_publication": 2015
         },
         {
          "year_of_publication": 2015
         },
         {
          "year_of_publication": 2015
         },
         {
          "year_of_publication": 2015
         },
         {
          "year_of_publication": 2015
         },
         {
          "year_of_publication": 2015
         },
         {
          "year_of_publication": 2015
         },
         {
          "year_of_publication": 2015
         },
         {
          "year_of_publication": 2015
         },
         {
          "year_of_publication": 2015
         },
         {
          "year_of_publication": 2015
         },
         {
          "year_of_publication": 2015
         },
         {
          "year_of_publication": 2015
         },
         {
          "year_of_publication": 2015
         },
         {
          "year_of_publication": 2015
         },
         {
          "year_of_publication": 2015
         },
         {
          "year_of_publication": 2015
         },
         {
          "year_of_publication": 2015
         },
         {
          "year_of_publication": 2015
         },
         {
          "year_of_publication": 2015
         },
         {
          "year_of_publication": 2015
         },
         {
          "year_of_publication": 2015
         },
         {
          "year_of_publication": 2015
         },
         {
          "year_of_publication": 2015
         },
         {
          "year_of_publication": 2015
         },
         {
          "year_of_publication": 2015
         },
         {
          "year_of_publication": 2015
         },
         {
          "year_of_publication": 2015
         },
         {
          "year_of_publication": 2015
         },
         {
          "year_of_publication": 2015
         },
         {
          "year_of_publication": 2015
         },
         {
          "year_of_publication": 2015
         },
         {
          "year_of_publication": 2015
         },
         {
          "year_of_publication": 2015
         },
         {
          "year_of_publication": 2015
         },
         {
          "year_of_publication": 2015
         },
         {
          "year_of_publication": 2015
         },
         {
          "year_of_publication": 2015
         },
         {
          "year_of_publication": 2015
         },
         {
          "year_of_publication": 2015
         },
         {
          "year_of_publication": 2015
         },
         {
          "year_of_publication": 2015
         },
         {
          "year_of_publication": 2015
         },
         {
          "year_of_publication": 2015
         },
         {
          "year_of_publication": 2015
         },
         {
          "year_of_publication": 2015
         },
         {
          "year_of_publication": 2015
         },
         {
          "year_of_publication": 2015
         },
         {
          "year_of_publication": 2015
         },
         {
          "year_of_publication": 2015
         },
         {
          "year_of_publication": 2015
         },
         {
          "year_of_publication": 2015
         },
         {
          "year_of_publication": 2015
         },
         {
          "year_of_publication": 2015
         },
         {
          "year_of_publication": 2015
         },
         {
          "year_of_publication": 2015
         },
         {
          "year_of_publication": 2015
         },
         {
          "year_of_publication": 2015
         },
         {
          "year_of_publication": 2015
         },
         {
          "year_of_publication": 2015
         },
         {
          "year_of_publication": 2015
         },
         {
          "year_of_publication": 2015
         },
         {
          "year_of_publication": 2015
         },
         {
          "year_of_publication": 2015
         },
         {
          "year_of_publication": 2015
         },
         {
          "year_of_publication": 2015
         },
         {
          "year_of_publication": 2015
         },
         {
          "year_of_publication": 2015
         },
         {
          "year_of_publication": 2015
         },
         {
          "year_of_publication": 2015
         },
         {
          "year_of_publication": 2015
         },
         {
          "year_of_publication": 2015
         },
         {
          "year_of_publication": 2015
         },
         {
          "year_of_publication": 2015
         },
         {
          "year_of_publication": 2015
         },
         {
          "year_of_publication": 2015
         },
         {
          "year_of_publication": 2015
         },
         {
          "year_of_publication": 2015
         },
         {
          "year_of_publication": 2015
         },
         {
          "year_of_publication": 2015
         },
         {
          "year_of_publication": 2015
         },
         {
          "year_of_publication": 2015
         },
         {
          "year_of_publication": 2015
         },
         {
          "year_of_publication": 2015
         },
         {
          "year_of_publication": 2015
         },
         {
          "year_of_publication": 2015
         },
         {
          "year_of_publication": 2015
         },
         {
          "year_of_publication": 2015
         },
         {
          "year_of_publication": 2015
         },
         {
          "year_of_publication": 2015
         },
         {
          "year_of_publication": 2015
         },
         {
          "year_of_publication": 2015
         },
         {
          "year_of_publication": 2015
         },
         {
          "year_of_publication": 2015
         },
         {
          "year_of_publication": 2015
         },
         {
          "year_of_publication": 2015
         },
         {
          "year_of_publication": 2015
         },
         {
          "year_of_publication": 2015
         },
         {
          "year_of_publication": 2015
         },
         {
          "year_of_publication": 2015
         },
         {
          "year_of_publication": 2015
         },
         {
          "year_of_publication": 2015
         },
         {
          "year_of_publication": 2015
         },
         {
          "year_of_publication": 2015
         },
         {
          "year_of_publication": 2015
         },
         {
          "year_of_publication": 2015
         },
         {
          "year_of_publication": 2015
         },
         {
          "year_of_publication": 2015
         },
         {
          "year_of_publication": 2015
         },
         {
          "year_of_publication": 2015
         },
         {
          "year_of_publication": 2015
         },
         {
          "year_of_publication": 2015
         },
         {
          "year_of_publication": 2015
         },
         {
          "year_of_publication": 2015
         },
         {
          "year_of_publication": 2015
         },
         {
          "year_of_publication": 2015
         },
         {
          "year_of_publication": 2015
         },
         {
          "year_of_publication": 2015
         },
         {
          "year_of_publication": 2015
         },
         {
          "year_of_publication": 2015
         },
         {
          "year_of_publication": 2015
         },
         {
          "year_of_publication": 2015
         },
         {
          "year_of_publication": 2015
         },
         {
          "year_of_publication": 2015
         },
         {
          "year_of_publication": 2015
         },
         {
          "year_of_publication": 2015
         },
         {
          "year_of_publication": 2015
         },
         {
          "year_of_publication": 2015
         },
         {
          "year_of_publication": 2015
         },
         {
          "year_of_publication": 2015
         },
         {
          "year_of_publication": 2015
         },
         {
          "year_of_publication": 2015
         },
         {
          "year_of_publication": 2015
         },
         {
          "year_of_publication": 2015
         },
         {
          "year_of_publication": 2015
         },
         {
          "year_of_publication": 2015
         },
         {
          "year_of_publication": 2015
         },
         {
          "year_of_publication": 2015
         },
         {
          "year_of_publication": 2015
         },
         {
          "year_of_publication": 2015
         },
         {
          "year_of_publication": 2015
         },
         {
          "year_of_publication": 2015
         },
         {
          "year_of_publication": 2015
         },
         {
          "year_of_publication": 2015
         },
         {
          "year_of_publication": 2015
         },
         {
          "year_of_publication": 2015
         },
         {
          "year_of_publication": 2015
         },
         {
          "year_of_publication": 2015
         },
         {
          "year_of_publication": 2015
         },
         {
          "year_of_publication": 2015
         },
         {
          "year_of_publication": 2015
         },
         {
          "year_of_publication": 2015
         },
         {
          "year_of_publication": 2015
         },
         {
          "year_of_publication": 2015
         },
         {
          "year_of_publication": 2015
         },
         {
          "year_of_publication": 2015
         },
         {
          "year_of_publication": 2015
         },
         {
          "year_of_publication": 2015
         },
         {
          "year_of_publication": 2015
         },
         {
          "year_of_publication": 2015
         },
         {
          "year_of_publication": 2015
         },
         {
          "year_of_publication": 2015
         },
         {
          "year_of_publication": 2015
         },
         {
          "year_of_publication": 2015
         },
         {
          "year_of_publication": 2015
         },
         {
          "year_of_publication": 2015
         },
         {
          "year_of_publication": 2015
         },
         {
          "year_of_publication": 2015
         },
         {
          "year_of_publication": 2015
         },
         {
          "year_of_publication": 2015
         },
         {
          "year_of_publication": 2015
         },
         {
          "year_of_publication": 2015
         },
         {
          "year_of_publication": 2015
         },
         {
          "year_of_publication": 2015
         },
         {
          "year_of_publication": 2015
         },
         {
          "year_of_publication": 2015
         },
         {
          "year_of_publication": 2015
         },
         {
          "year_of_publication": 2015
         },
         {
          "year_of_publication": 2015
         },
         {
          "year_of_publication": 2015
         },
         {
          "year_of_publication": 2015
         },
         {
          "year_of_publication": 2015
         },
         {
          "year_of_publication": 2015
         },
         {
          "year_of_publication": 2015
         },
         {
          "year_of_publication": 2015
         },
         {
          "year_of_publication": 2015
         },
         {
          "year_of_publication": 2015
         },
         {
          "year_of_publication": 2015
         },
         {
          "year_of_publication": 2015
         },
         {
          "year_of_publication": 2015
         },
         {
          "year_of_publication": 2015
         },
         {
          "year_of_publication": 2015
         },
         {
          "year_of_publication": 2015
         },
         {
          "year_of_publication": 2015
         },
         {
          "year_of_publication": 2015
         },
         {
          "year_of_publication": 2015
         },
         {
          "year_of_publication": 2015
         },
         {
          "year_of_publication": 2015
         },
         {
          "year_of_publication": 2015
         },
         {
          "year_of_publication": 2015
         },
         {
          "year_of_publication": 2015
         },
         {
          "year_of_publication": 2015
         },
         {
          "year_of_publication": 2015
         },
         {
          "year_of_publication": 2015
         },
         {
          "year_of_publication": 2015
         },
         {
          "year_of_publication": 2015
         },
         {
          "year_of_publication": 2015
         },
         {
          "year_of_publication": 2015
         },
         {
          "year_of_publication": 2015
         },
         {
          "year_of_publication": 2015
         },
         {
          "year_of_publication": 2015
         },
         {
          "year_of_publication": 2015
         },
         {
          "year_of_publication": 2015
         },
         {
          "year_of_publication": 2015
         },
         {
          "year_of_publication": 2015
         },
         {
          "year_of_publication": 2015
         },
         {
          "year_of_publication": 2015
         },
         {
          "year_of_publication": 2015
         },
         {
          "year_of_publication": 2015
         },
         {
          "year_of_publication": 2015
         },
         {
          "year_of_publication": 2015
         },
         {
          "year_of_publication": 2015
         },
         {
          "year_of_publication": 2015
         },
         {
          "year_of_publication": 2015
         },
         {
          "year_of_publication": 2015
         },
         {
          "year_of_publication": 2015
         },
         {
          "year_of_publication": 2015
         },
         {
          "year_of_publication": 2015
         },
         {
          "year_of_publication": 2015
         },
         {
          "year_of_publication": 2015
         },
         {
          "year_of_publication": 2015
         },
         {
          "year_of_publication": 2015
         },
         {
          "year_of_publication": 2015
         },
         {
          "year_of_publication": 2015
         },
         {
          "year_of_publication": 2015
         },
         {
          "year_of_publication": 2015
         },
         {
          "year_of_publication": 2015
         },
         {
          "year_of_publication": 2015
         },
         {
          "year_of_publication": 2015
         },
         {
          "year_of_publication": 2015
         },
         {
          "year_of_publication": 2015
         },
         {
          "year_of_publication": 2015
         },
         {
          "year_of_publication": 2015
         },
         {
          "year_of_publication": 2015
         },
         {
          "year_of_publication": 2015
         },
         {
          "year_of_publication": 2015
         },
         {
          "year_of_publication": 2015
         },
         {
          "year_of_publication": 2015
         },
         {
          "year_of_publication": 2015
         },
         {
          "year_of_publication": 2015
         },
         {
          "year_of_publication": 2015
         },
         {
          "year_of_publication": 2015
         },
         {
          "year_of_publication": 2015
         },
         {
          "year_of_publication": 2015
         },
         {
          "year_of_publication": 2015
         },
         {
          "year_of_publication": 2015
         },
         {
          "year_of_publication": 2015
         },
         {
          "year_of_publication": 2015
         },
         {
          "year_of_publication": 2015
         },
         {
          "year_of_publication": 2015
         },
         {
          "year_of_publication": 2015
         },
         {
          "year_of_publication": 2015
         },
         {
          "year_of_publication": 2015
         },
         {
          "year_of_publication": 2015
         },
         {
          "year_of_publication": 2015
         },
         {
          "year_of_publication": 2015
         },
         {
          "year_of_publication": 2015
         },
         {
          "year_of_publication": 2015
         },
         {
          "year_of_publication": 2015
         },
         {
          "year_of_publication": 2015
         },
         {
          "year_of_publication": 2015
         },
         {
          "year_of_publication": 2015
         },
         {
          "year_of_publication": 2015
         },
         {
          "year_of_publication": 2015
         },
         {
          "year_of_publication": 2015
         },
         {
          "year_of_publication": 2015
         },
         {
          "year_of_publication": 2015
         },
         {
          "year_of_publication": 2015
         },
         {
          "year_of_publication": 2015
         },
         {
          "year_of_publication": 2015
         },
         {
          "year_of_publication": 2015
         },
         {
          "year_of_publication": 2015
         },
         {
          "year_of_publication": 2015
         },
         {
          "year_of_publication": 2015
         },
         {
          "year_of_publication": 2015
         },
         {
          "year_of_publication": 2015
         },
         {
          "year_of_publication": 2015
         },
         {
          "year_of_publication": 2015
         },
         {
          "year_of_publication": 2015
         },
         {
          "year_of_publication": 2015
         },
         {
          "year_of_publication": 2015
         },
         {
          "year_of_publication": 2015
         },
         {
          "year_of_publication": 2015
         },
         {
          "year_of_publication": 2015
         },
         {
          "year_of_publication": 2015
         },
         {
          "year_of_publication": 2015
         },
         {
          "year_of_publication": 2015
         },
         {
          "year_of_publication": 2015
         },
         {
          "year_of_publication": 2015
         },
         {
          "year_of_publication": 2015
         },
         {
          "year_of_publication": 2015
         },
         {
          "year_of_publication": 2015
         },
         {
          "year_of_publication": 2015
         },
         {
          "year_of_publication": 2015
         },
         {
          "year_of_publication": 2015
         },
         {
          "year_of_publication": 2015
         },
         {
          "year_of_publication": 2015
         },
         {
          "year_of_publication": 2015
         },
         {
          "year_of_publication": 2015
         },
         {
          "year_of_publication": 2015
         },
         {
          "year_of_publication": 2015
         },
         {
          "year_of_publication": 2015
         },
         {
          "year_of_publication": 2015
         },
         {
          "year_of_publication": 2015
         },
         {
          "year_of_publication": 2015
         },
         {
          "year_of_publication": 2015
         },
         {
          "year_of_publication": 2015
         },
         {
          "year_of_publication": 2015
         },
         {
          "year_of_publication": 2015
         },
         {
          "year_of_publication": 2015
         },
         {
          "year_of_publication": 2015
         },
         {
          "year_of_publication": 2015
         },
         {
          "year_of_publication": 2015
         },
         {
          "year_of_publication": 2015
         },
         {
          "year_of_publication": 2015
         },
         {
          "year_of_publication": 2015
         },
         {
          "year_of_publication": 2015
         },
         {
          "year_of_publication": 2015
         },
         {
          "year_of_publication": 2015
         },
         {
          "year_of_publication": 2015
         },
         {
          "year_of_publication": 2015
         },
         {
          "year_of_publication": 2015
         },
         {
          "year_of_publication": 2015
         },
         {
          "year_of_publication": 2015
         },
         {
          "year_of_publication": 2015
         },
         {
          "year_of_publication": 2015
         },
         {
          "year_of_publication": 2015
         },
         {
          "year_of_publication": 2015
         },
         {
          "year_of_publication": 2015
         },
         {
          "year_of_publication": 2015
         },
         {
          "year_of_publication": 2015
         },
         {
          "year_of_publication": 2015
         },
         {
          "year_of_publication": 2015
         },
         {
          "year_of_publication": 2015
         },
         {
          "year_of_publication": 2015
         },
         {
          "year_of_publication": 2015
         },
         {
          "year_of_publication": 2015
         },
         {
          "year_of_publication": 2015
         },
         {
          "year_of_publication": 2015
         },
         {
          "year_of_publication": 2015
         },
         {
          "year_of_publication": 2015
         },
         {
          "year_of_publication": 2015
         },
         {
          "year_of_publication": 2015
         },
         {
          "year_of_publication": 2015
         },
         {
          "year_of_publication": 2015
         },
         {
          "year_of_publication": 2015
         },
         {
          "year_of_publication": 2015
         },
         {
          "year_of_publication": 2015
         },
         {
          "year_of_publication": 2015
         },
         {
          "year_of_publication": 2015
         },
         {
          "year_of_publication": 2015
         },
         {
          "year_of_publication": 2015
         },
         {
          "year_of_publication": 2015
         },
         {
          "year_of_publication": 2015
         },
         {
          "year_of_publication": 2015
         },
         {
          "year_of_publication": 2015
         },
         {
          "year_of_publication": 2015
         },
         {
          "year_of_publication": 2015
         },
         {
          "year_of_publication": 2015
         },
         {
          "year_of_publication": 2015
         },
         {
          "year_of_publication": 2015
         },
         {
          "year_of_publication": 2015
         },
         {
          "year_of_publication": 2015
         },
         {
          "year_of_publication": 2015
         },
         {
          "year_of_publication": 2015
         },
         {
          "year_of_publication": 2015
         },
         {
          "year_of_publication": 2015
         },
         {
          "year_of_publication": 2015
         },
         {
          "year_of_publication": 2015
         },
         {
          "year_of_publication": 2015
         },
         {
          "year_of_publication": 2015
         },
         {
          "year_of_publication": 2015
         },
         {
          "year_of_publication": 2015
         },
         {
          "year_of_publication": 2015
         },
         {
          "year_of_publication": 2015
         },
         {
          "year_of_publication": 2015
         },
         {
          "year_of_publication": 2015
         },
         {
          "year_of_publication": 2015
         },
         {
          "year_of_publication": 2015
         },
         {
          "year_of_publication": 2015
         },
         {
          "year_of_publication": 2015
         },
         {
          "year_of_publication": 2015
         },
         {
          "year_of_publication": 2015
         },
         {
          "year_of_publication": 2015
         },
         {
          "year_of_publication": 2015
         },
         {
          "year_of_publication": 2015
         },
         {
          "year_of_publication": 2015
         },
         {
          "year_of_publication": 2015
         },
         {
          "year_of_publication": 2015
         },
         {
          "year_of_publication": 2015
         },
         {
          "year_of_publication": 2015
         },
         {
          "year_of_publication": 2015
         },
         {
          "year_of_publication": 2015
         },
         {
          "year_of_publication": 2015
         },
         {
          "year_of_publication": 2015
         },
         {
          "year_of_publication": 2015
         },
         {
          "year_of_publication": 2015
         },
         {
          "year_of_publication": 2015
         },
         {
          "year_of_publication": 2015
         },
         {
          "year_of_publication": 2015
         },
         {
          "year_of_publication": 2015
         },
         {
          "year_of_publication": 2015
         },
         {
          "year_of_publication": 2015
         },
         {
          "year_of_publication": 2015
         },
         {
          "year_of_publication": 2015
         },
         {
          "year_of_publication": 2015
         },
         {
          "year_of_publication": 2015
         },
         {
          "year_of_publication": 2015
         },
         {
          "year_of_publication": 2015
         },
         {
          "year_of_publication": 2015
         },
         {
          "year_of_publication": 2015
         },
         {
          "year_of_publication": 2015
         },
         {
          "year_of_publication": 2015
         },
         {
          "year_of_publication": 2015
         },
         {
          "year_of_publication": 2015
         },
         {
          "year_of_publication": 2015
         },
         {
          "year_of_publication": 2015
         },
         {
          "year_of_publication": 2015
         },
         {
          "year_of_publication": 2015
         },
         {
          "year_of_publication": 2015
         },
         {
          "year_of_publication": 2015
         },
         {
          "year_of_publication": 2015
         },
         {
          "year_of_publication": 2015
         },
         {
          "year_of_publication": 2015
         },
         {
          "year_of_publication": 2015
         },
         {
          "year_of_publication": 2015
         },
         {
          "year_of_publication": 2015
         },
         {
          "year_of_publication": 2015
         },
         {
          "year_of_publication": 2015
         },
         {
          "year_of_publication": 2015
         },
         {
          "year_of_publication": 2015
         },
         {
          "year_of_publication": 2015
         },
         {
          "year_of_publication": 2015
         },
         {
          "year_of_publication": 2015
         },
         {
          "year_of_publication": 2015
         },
         {
          "year_of_publication": 2015
         },
         {
          "year_of_publication": 2015
         },
         {
          "year_of_publication": 2015
         },
         {
          "year_of_publication": 2015
         },
         {
          "year_of_publication": 2015
         },
         {
          "year_of_publication": 2015
         },
         {
          "year_of_publication": 2015
         },
         {
          "year_of_publication": 2015
         },
         {
          "year_of_publication": 2015
         },
         {
          "year_of_publication": 2015
         },
         {
          "year_of_publication": 2015
         },
         {
          "year_of_publication": 2015
         },
         {
          "year_of_publication": 2015
         },
         {
          "year_of_publication": 2015
         },
         {
          "year_of_publication": 2015
         },
         {
          "year_of_publication": 2015
         },
         {
          "year_of_publication": 2015
         },
         {
          "year_of_publication": 2015
         },
         {
          "year_of_publication": 2015
         },
         {
          "year_of_publication": 2015
         },
         {
          "year_of_publication": 2015
         },
         {
          "year_of_publication": 2015
         },
         {
          "year_of_publication": 2015
         },
         {
          "year_of_publication": 2015
         },
         {
          "year_of_publication": 2015
         },
         {
          "year_of_publication": 2015
         },
         {
          "year_of_publication": 2015
         },
         {
          "year_of_publication": 2015
         },
         {
          "year_of_publication": 2015
         },
         {
          "year_of_publication": 2015
         },
         {
          "year_of_publication": 2015
         },
         {
          "year_of_publication": 2015
         },
         {
          "year_of_publication": 2015
         },
         {
          "year_of_publication": 2015
         },
         {
          "year_of_publication": 2015
         },
         {
          "year_of_publication": 2015
         },
         {
          "year_of_publication": 2015
         },
         {
          "year_of_publication": 2015
         },
         {
          "year_of_publication": 2015
         },
         {
          "year_of_publication": 2015
         },
         {
          "year_of_publication": 2015
         },
         {
          "year_of_publication": 2015
         },
         {
          "year_of_publication": 2015
         },
         {
          "year_of_publication": 2015
         },
         {
          "year_of_publication": 2015
         },
         {
          "year_of_publication": 2015
         },
         {
          "year_of_publication": 2015
         },
         {
          "year_of_publication": 2015
         },
         {
          "year_of_publication": 2015
         },
         {
          "year_of_publication": 2015
         },
         {
          "year_of_publication": 2015
         },
         {
          "year_of_publication": 2015
         },
         {
          "year_of_publication": 2015
         },
         {
          "year_of_publication": 2015
         },
         {
          "year_of_publication": 2015
         },
         {
          "year_of_publication": 2015
         },
         {
          "year_of_publication": 2015
         },
         {
          "year_of_publication": 2015
         },
         {
          "year_of_publication": 2015
         },
         {
          "year_of_publication": 2015
         },
         {
          "year_of_publication": 2015
         },
         {
          "year_of_publication": 2015
         },
         {
          "year_of_publication": 2015
         },
         {
          "year_of_publication": 2015
         },
         {
          "year_of_publication": 2015
         },
         {
          "year_of_publication": 2015
         },
         {
          "year_of_publication": 2015
         },
         {
          "year_of_publication": 2015
         },
         {
          "year_of_publication": 2015
         },
         {
          "year_of_publication": 2015
         },
         {
          "year_of_publication": 2015
         },
         {
          "year_of_publication": 2015
         },
         {
          "year_of_publication": 2015
         },
         {
          "year_of_publication": 2015
         },
         {
          "year_of_publication": 2015
         },
         {
          "year_of_publication": 2015
         },
         {
          "year_of_publication": 2015
         },
         {
          "year_of_publication": 2015
         },
         {
          "year_of_publication": 2015
         },
         {
          "year_of_publication": 2015
         },
         {
          "year_of_publication": 2015
         },
         {
          "year_of_publication": 2015
         },
         {
          "year_of_publication": 2015
         },
         {
          "year_of_publication": 2015
         },
         {
          "year_of_publication": 2015
         },
         {
          "year_of_publication": 2015
         },
         {
          "year_of_publication": 2015
         },
         {
          "year_of_publication": 2015
         },
         {
          "year_of_publication": 2015
         },
         {
          "year_of_publication": 2015
         },
         {
          "year_of_publication": 2015
         },
         {
          "year_of_publication": 2015
         },
         {
          "year_of_publication": 2015
         },
         {
          "year_of_publication": 2015
         },
         {
          "year_of_publication": 2015
         },
         {
          "year_of_publication": 2015
         },
         {
          "year_of_publication": 2015
         },
         {
          "year_of_publication": 2015
         },
         {
          "year_of_publication": 2015
         },
         {
          "year_of_publication": 2015
         },
         {
          "year_of_publication": 2015
         },
         {
          "year_of_publication": 2015
         },
         {
          "year_of_publication": 2015
         },
         {
          "year_of_publication": 2015
         },
         {
          "year_of_publication": 2015
         },
         {
          "year_of_publication": 2015
         },
         {
          "year_of_publication": 2015
         },
         {
          "year_of_publication": 2015
         },
         {
          "year_of_publication": 2015
         },
         {
          "year_of_publication": 2015
         },
         {
          "year_of_publication": 2015
         },
         {
          "year_of_publication": 2015
         },
         {
          "year_of_publication": 2015
         },
         {
          "year_of_publication": 2015
         },
         {
          "year_of_publication": 2015
         },
         {
          "year_of_publication": 2015
         },
         {
          "year_of_publication": 2015
         },
         {
          "year_of_publication": 2015
         },
         {
          "year_of_publication": 2015
         },
         {
          "year_of_publication": 2015
         },
         {
          "year_of_publication": 2015
         },
         {
          "year_of_publication": 2015
         },
         {
          "year_of_publication": 2015
         },
         {
          "year_of_publication": 2015
         },
         {
          "year_of_publication": 2015
         },
         {
          "year_of_publication": 2015
         },
         {
          "year_of_publication": 2015
         },
         {
          "year_of_publication": 2015
         },
         {
          "year_of_publication": 2015
         },
         {
          "year_of_publication": 2015
         },
         {
          "year_of_publication": 2015
         },
         {
          "year_of_publication": 2015
         },
         {
          "year_of_publication": 2015
         },
         {
          "year_of_publication": 2015
         },
         {
          "year_of_publication": 2015
         },
         {
          "year_of_publication": 2015
         },
         {
          "year_of_publication": 2015
         },
         {
          "year_of_publication": 2015
         },
         {
          "year_of_publication": 2015
         },
         {
          "year_of_publication": 2015
         },
         {
          "year_of_publication": 2015
         },
         {
          "year_of_publication": 2015
         },
         {
          "year_of_publication": 2015
         },
         {
          "year_of_publication": 2015
         },
         {
          "year_of_publication": 2015
         },
         {
          "year_of_publication": 2015
         },
         {
          "year_of_publication": 2015
         },
         {
          "year_of_publication": 2015
         },
         {
          "year_of_publication": 2015
         },
         {
          "year_of_publication": 2015
         },
         {
          "year_of_publication": 2015
         },
         {
          "year_of_publication": 2015
         },
         {
          "year_of_publication": 2015
         },
         {
          "year_of_publication": 2015
         },
         {
          "year_of_publication": 2015
         },
         {
          "year_of_publication": 2015
         },
         {
          "year_of_publication": 2015
         },
         {
          "year_of_publication": 2015
         },
         {
          "year_of_publication": 2015
         },
         {
          "year_of_publication": 2015
         },
         {
          "year_of_publication": 2015
         },
         {
          "year_of_publication": 2015
         },
         {
          "year_of_publication": 2015
         },
         {
          "year_of_publication": 2015
         },
         {
          "year_of_publication": 2015
         },
         {
          "year_of_publication": 2015
         },
         {
          "year_of_publication": 2015
         },
         {
          "year_of_publication": 2015
         },
         {
          "year_of_publication": 2015
         },
         {
          "year_of_publication": 2015
         },
         {
          "year_of_publication": 2015
         },
         {
          "year_of_publication": 2015
         },
         {
          "year_of_publication": 2015
         },
         {
          "year_of_publication": 2015
         },
         {
          "year_of_publication": 2015
         },
         {
          "year_of_publication": 2015
         },
         {
          "year_of_publication": 2015
         },
         {
          "year_of_publication": 2015
         },
         {
          "year_of_publication": 2015
         },
         {
          "year_of_publication": 2015
         },
         {
          "year_of_publication": 2015
         },
         {
          "year_of_publication": 2015
         },
         {
          "year_of_publication": 2015
         },
         {
          "year_of_publication": 2015
         },
         {
          "year_of_publication": 2015
         },
         {
          "year_of_publication": 2015
         },
         {
          "year_of_publication": 2015
         },
         {
          "year_of_publication": 2015
         },
         {
          "year_of_publication": 2015
         },
         {
          "year_of_publication": 2014
         },
         {
          "year_of_publication": 2014
         },
         {
          "year_of_publication": 2014
         },
         {
          "year_of_publication": 2014
         },
         {
          "year_of_publication": 2014
         },
         {
          "year_of_publication": 2014
         },
         {
          "year_of_publication": 2014
         },
         {
          "year_of_publication": 2014
         },
         {
          "year_of_publication": 2014
         },
         {
          "year_of_publication": 2014
         },
         {
          "year_of_publication": 2014
         },
         {
          "year_of_publication": 2014
         },
         {
          "year_of_publication": 2014
         },
         {
          "year_of_publication": 2014
         },
         {
          "year_of_publication": 2014
         },
         {
          "year_of_publication": 2014
         },
         {
          "year_of_publication": 2014
         },
         {
          "year_of_publication": 2014
         },
         {
          "year_of_publication": 2014
         },
         {
          "year_of_publication": 2014
         },
         {
          "year_of_publication": 2014
         },
         {
          "year_of_publication": 2014
         },
         {
          "year_of_publication": 2014
         },
         {
          "year_of_publication": 2014
         },
         {
          "year_of_publication": 2014
         },
         {
          "year_of_publication": 2014
         },
         {
          "year_of_publication": 2014
         },
         {
          "year_of_publication": 2014
         },
         {
          "year_of_publication": 2014
         },
         {
          "year_of_publication": 2014
         },
         {
          "year_of_publication": 2014
         },
         {
          "year_of_publication": 2014
         },
         {
          "year_of_publication": 2014
         },
         {
          "year_of_publication": 2014
         },
         {
          "year_of_publication": 2014
         },
         {
          "year_of_publication": 2014
         },
         {
          "year_of_publication": 2014
         },
         {
          "year_of_publication": 2014
         },
         {
          "year_of_publication": 2014
         },
         {
          "year_of_publication": 2014
         },
         {
          "year_of_publication": 2014
         },
         {
          "year_of_publication": 2014
         },
         {
          "year_of_publication": 2014
         },
         {
          "year_of_publication": 2014
         },
         {
          "year_of_publication": 2014
         },
         {
          "year_of_publication": 2014
         },
         {
          "year_of_publication": 2014
         },
         {
          "year_of_publication": 2014
         },
         {
          "year_of_publication": 2014
         },
         {
          "year_of_publication": 2014
         },
         {
          "year_of_publication": 2014
         },
         {
          "year_of_publication": 2014
         },
         {
          "year_of_publication": 2014
         },
         {
          "year_of_publication": 2014
         },
         {
          "year_of_publication": 2014
         },
         {
          "year_of_publication": 2014
         },
         {
          "year_of_publication": 2014
         },
         {
          "year_of_publication": 2014
         },
         {
          "year_of_publication": 2014
         },
         {
          "year_of_publication": 2014
         },
         {
          "year_of_publication": 2014
         },
         {
          "year_of_publication": 2014
         },
         {
          "year_of_publication": 2014
         },
         {
          "year_of_publication": 2014
         },
         {
          "year_of_publication": 2014
         },
         {
          "year_of_publication": 2014
         },
         {
          "year_of_publication": 2014
         },
         {
          "year_of_publication": 2014
         },
         {
          "year_of_publication": 2014
         },
         {
          "year_of_publication": 2014
         },
         {
          "year_of_publication": 2014
         },
         {
          "year_of_publication": 2014
         },
         {
          "year_of_publication": 2014
         },
         {
          "year_of_publication": 2014
         },
         {
          "year_of_publication": 2014
         },
         {
          "year_of_publication": 2014
         },
         {
          "year_of_publication": 2014
         },
         {
          "year_of_publication": 2014
         },
         {
          "year_of_publication": 2014
         },
         {
          "year_of_publication": 2014
         },
         {
          "year_of_publication": 2014
         },
         {
          "year_of_publication": 2014
         },
         {
          "year_of_publication": 2014
         },
         {
          "year_of_publication": 2014
         },
         {
          "year_of_publication": 2014
         },
         {
          "year_of_publication": 2014
         },
         {
          "year_of_publication": 2014
         },
         {
          "year_of_publication": 2014
         },
         {
          "year_of_publication": 2014
         },
         {
          "year_of_publication": 2014
         },
         {
          "year_of_publication": 2014
         },
         {
          "year_of_publication": 2014
         },
         {
          "year_of_publication": 2014
         },
         {
          "year_of_publication": 2014
         },
         {
          "year_of_publication": 2014
         },
         {
          "year_of_publication": 2014
         },
         {
          "year_of_publication": 2014
         },
         {
          "year_of_publication": 2014
         },
         {
          "year_of_publication": 2014
         },
         {
          "year_of_publication": 2014
         },
         {
          "year_of_publication": 2014
         },
         {
          "year_of_publication": 2014
         },
         {
          "year_of_publication": 2014
         },
         {
          "year_of_publication": 2014
         },
         {
          "year_of_publication": 2014
         },
         {
          "year_of_publication": 2014
         },
         {
          "year_of_publication": 2014
         },
         {
          "year_of_publication": 2014
         },
         {
          "year_of_publication": 2014
         },
         {
          "year_of_publication": 2014
         },
         {
          "year_of_publication": 2014
         },
         {
          "year_of_publication": 2014
         },
         {
          "year_of_publication": 2014
         },
         {
          "year_of_publication": 2014
         },
         {
          "year_of_publication": 2014
         },
         {
          "year_of_publication": 2014
         },
         {
          "year_of_publication": 2014
         },
         {
          "year_of_publication": 2014
         },
         {
          "year_of_publication": 2014
         },
         {
          "year_of_publication": 2014
         },
         {
          "year_of_publication": 2014
         },
         {
          "year_of_publication": 2014
         },
         {
          "year_of_publication": 2014
         },
         {
          "year_of_publication": 2014
         },
         {
          "year_of_publication": 2014
         },
         {
          "year_of_publication": 2014
         },
         {
          "year_of_publication": 2014
         },
         {
          "year_of_publication": 2014
         },
         {
          "year_of_publication": 2014
         },
         {
          "year_of_publication": 2014
         },
         {
          "year_of_publication": 2014
         },
         {
          "year_of_publication": 2014
         },
         {
          "year_of_publication": 2014
         },
         {
          "year_of_publication": 2014
         },
         {
          "year_of_publication": 2014
         },
         {
          "year_of_publication": 2014
         },
         {
          "year_of_publication": 2014
         },
         {
          "year_of_publication": 2014
         },
         {
          "year_of_publication": 2014
         },
         {
          "year_of_publication": 2014
         },
         {
          "year_of_publication": 2014
         },
         {
          "year_of_publication": 2014
         },
         {
          "year_of_publication": 2014
         },
         {
          "year_of_publication": 2014
         },
         {
          "year_of_publication": 2014
         },
         {
          "year_of_publication": 2014
         },
         {
          "year_of_publication": 2014
         },
         {
          "year_of_publication": 2014
         },
         {
          "year_of_publication": 2014
         },
         {
          "year_of_publication": 2014
         },
         {
          "year_of_publication": 2014
         },
         {
          "year_of_publication": 2014
         },
         {
          "year_of_publication": 2014
         },
         {
          "year_of_publication": 2014
         },
         {
          "year_of_publication": 2014
         },
         {
          "year_of_publication": 2014
         },
         {
          "year_of_publication": 2014
         },
         {
          "year_of_publication": 2014
         },
         {
          "year_of_publication": 2014
         },
         {
          "year_of_publication": 2014
         },
         {
          "year_of_publication": 2014
         },
         {
          "year_of_publication": 2014
         },
         {
          "year_of_publication": 2014
         },
         {
          "year_of_publication": 2014
         },
         {
          "year_of_publication": 2014
         },
         {
          "year_of_publication": 2014
         },
         {
          "year_of_publication": 2014
         },
         {
          "year_of_publication": 2014
         },
         {
          "year_of_publication": 2014
         },
         {
          "year_of_publication": 2014
         },
         {
          "year_of_publication": 2014
         },
         {
          "year_of_publication": 2014
         },
         {
          "year_of_publication": 2014
         },
         {
          "year_of_publication": 2014
         },
         {
          "year_of_publication": 2014
         },
         {
          "year_of_publication": 2014
         },
         {
          "year_of_publication": 2014
         },
         {
          "year_of_publication": 2014
         },
         {
          "year_of_publication": 2014
         },
         {
          "year_of_publication": 2014
         },
         {
          "year_of_publication": 2014
         },
         {
          "year_of_publication": 2014
         },
         {
          "year_of_publication": 2014
         },
         {
          "year_of_publication": 2014
         },
         {
          "year_of_publication": 2014
         },
         {
          "year_of_publication": 2014
         },
         {
          "year_of_publication": 2014
         },
         {
          "year_of_publication": 2014
         },
         {
          "year_of_publication": 2014
         },
         {
          "year_of_publication": 2014
         },
         {
          "year_of_publication": 2014
         },
         {
          "year_of_publication": 2014
         },
         {
          "year_of_publication": 2014
         },
         {
          "year_of_publication": 2014
         },
         {
          "year_of_publication": 2014
         },
         {
          "year_of_publication": 2014
         },
         {
          "year_of_publication": 2014
         },
         {
          "year_of_publication": 2014
         },
         {
          "year_of_publication": 2014
         },
         {
          "year_of_publication": 2014
         },
         {
          "year_of_publication": 2014
         },
         {
          "year_of_publication": 2014
         },
         {
          "year_of_publication": 2014
         },
         {
          "year_of_publication": 2014
         },
         {
          "year_of_publication": 2014
         },
         {
          "year_of_publication": 2014
         },
         {
          "year_of_publication": 2014
         },
         {
          "year_of_publication": 2014
         },
         {
          "year_of_publication": 2014
         },
         {
          "year_of_publication": 2014
         },
         {
          "year_of_publication": 2014
         },
         {
          "year_of_publication": 2014
         },
         {
          "year_of_publication": 2014
         },
         {
          "year_of_publication": 2014
         },
         {
          "year_of_publication": 2014
         },
         {
          "year_of_publication": 2014
         },
         {
          "year_of_publication": 2014
         },
         {
          "year_of_publication": 2014
         },
         {
          "year_of_publication": 2014
         },
         {
          "year_of_publication": 2014
         },
         {
          "year_of_publication": 2014
         },
         {
          "year_of_publication": 2014
         },
         {
          "year_of_publication": 2014
         },
         {
          "year_of_publication": 2014
         },
         {
          "year_of_publication": 2014
         },
         {
          "year_of_publication": 2014
         },
         {
          "year_of_publication": 2014
         },
         {
          "year_of_publication": 2014
         },
         {
          "year_of_publication": 2014
         },
         {
          "year_of_publication": 2014
         },
         {
          "year_of_publication": 2014
         },
         {
          "year_of_publication": 2014
         },
         {
          "year_of_publication": 2014
         },
         {
          "year_of_publication": 2014
         },
         {
          "year_of_publication": 2014
         },
         {
          "year_of_publication": 2014
         },
         {
          "year_of_publication": 2014
         },
         {
          "year_of_publication": 2014
         },
         {
          "year_of_publication": 2014
         },
         {
          "year_of_publication": 2014
         },
         {
          "year_of_publication": 2014
         },
         {
          "year_of_publication": 2014
         },
         {
          "year_of_publication": 2014
         },
         {
          "year_of_publication": 2014
         },
         {
          "year_of_publication": 2014
         },
         {
          "year_of_publication": 2014
         },
         {
          "year_of_publication": 2014
         },
         {
          "year_of_publication": 2014
         },
         {
          "year_of_publication": 2014
         },
         {
          "year_of_publication": 2014
         },
         {
          "year_of_publication": 2014
         },
         {
          "year_of_publication": 2014
         },
         {
          "year_of_publication": 2014
         },
         {
          "year_of_publication": 2014
         },
         {
          "year_of_publication": 2014
         },
         {
          "year_of_publication": 2014
         },
         {
          "year_of_publication": 2014
         },
         {
          "year_of_publication": 2014
         },
         {
          "year_of_publication": 2014
         },
         {
          "year_of_publication": 2014
         },
         {
          "year_of_publication": 2014
         },
         {
          "year_of_publication": 2014
         },
         {
          "year_of_publication": 2014
         },
         {
          "year_of_publication": 2014
         },
         {
          "year_of_publication": 2014
         },
         {
          "year_of_publication": 2014
         },
         {
          "year_of_publication": 2014
         },
         {
          "year_of_publication": 2014
         },
         {
          "year_of_publication": 2014
         },
         {
          "year_of_publication": 2014
         },
         {
          "year_of_publication": 2014
         },
         {
          "year_of_publication": 2014
         },
         {
          "year_of_publication": 2014
         },
         {
          "year_of_publication": 2014
         },
         {
          "year_of_publication": 2014
         },
         {
          "year_of_publication": 2014
         },
         {
          "year_of_publication": 2014
         },
         {
          "year_of_publication": 2014
         },
         {
          "year_of_publication": 2014
         },
         {
          "year_of_publication": 2014
         },
         {
          "year_of_publication": 2014
         },
         {
          "year_of_publication": 2014
         },
         {
          "year_of_publication": 2014
         },
         {
          "year_of_publication": 2014
         },
         {
          "year_of_publication": 2014
         },
         {
          "year_of_publication": 2014
         },
         {
          "year_of_publication": 2014
         },
         {
          "year_of_publication": 2014
         },
         {
          "year_of_publication": 2014
         },
         {
          "year_of_publication": 2014
         },
         {
          "year_of_publication": 2014
         },
         {
          "year_of_publication": 2014
         },
         {
          "year_of_publication": 2014
         },
         {
          "year_of_publication": 2014
         },
         {
          "year_of_publication": 2014
         },
         {
          "year_of_publication": 2014
         },
         {
          "year_of_publication": 2014
         },
         {
          "year_of_publication": 2014
         },
         {
          "year_of_publication": 2014
         },
         {
          "year_of_publication": 2014
         },
         {
          "year_of_publication": 2014
         },
         {
          "year_of_publication": 2014
         },
         {
          "year_of_publication": 2014
         },
         {
          "year_of_publication": 2014
         },
         {
          "year_of_publication": 2014
         },
         {
          "year_of_publication": 2014
         },
         {
          "year_of_publication": 2014
         },
         {
          "year_of_publication": 2014
         },
         {
          "year_of_publication": 2014
         },
         {
          "year_of_publication": 2014
         },
         {
          "year_of_publication": 2014
         },
         {
          "year_of_publication": 2014
         },
         {
          "year_of_publication": 2014
         },
         {
          "year_of_publication": 2014
         },
         {
          "year_of_publication": 2014
         },
         {
          "year_of_publication": 2014
         },
         {
          "year_of_publication": 2014
         },
         {
          "year_of_publication": 2014
         },
         {
          "year_of_publication": 2014
         },
         {
          "year_of_publication": 2014
         },
         {
          "year_of_publication": 2014
         },
         {
          "year_of_publication": 2014
         },
         {
          "year_of_publication": 2014
         },
         {
          "year_of_publication": 2014
         },
         {
          "year_of_publication": 2014
         },
         {
          "year_of_publication": 2014
         },
         {
          "year_of_publication": 2014
         },
         {
          "year_of_publication": 2014
         },
         {
          "year_of_publication": 2014
         },
         {
          "year_of_publication": 2014
         },
         {
          "year_of_publication": 2014
         },
         {
          "year_of_publication": 2014
         },
         {
          "year_of_publication": 2014
         },
         {
          "year_of_publication": 2014
         },
         {
          "year_of_publication": 2014
         },
         {
          "year_of_publication": 2014
         },
         {
          "year_of_publication": 2014
         },
         {
          "year_of_publication": 2014
         },
         {
          "year_of_publication": 2014
         },
         {
          "year_of_publication": 2014
         },
         {
          "year_of_publication": 2014
         },
         {
          "year_of_publication": 2014
         },
         {
          "year_of_publication": 2014
         },
         {
          "year_of_publication": 2014
         },
         {
          "year_of_publication": 2014
         },
         {
          "year_of_publication": 2014
         },
         {
          "year_of_publication": 2014
         },
         {
          "year_of_publication": 2014
         },
         {
          "year_of_publication": 2014
         },
         {
          "year_of_publication": 2014
         },
         {
          "year_of_publication": 2014
         },
         {
          "year_of_publication": 2014
         },
         {
          "year_of_publication": 2014
         },
         {
          "year_of_publication": 2014
         },
         {
          "year_of_publication": 2014
         },
         {
          "year_of_publication": 2014
         },
         {
          "year_of_publication": 2014
         },
         {
          "year_of_publication": 2014
         },
         {
          "year_of_publication": 2014
         },
         {
          "year_of_publication": 2014
         },
         {
          "year_of_publication": 2014
         },
         {
          "year_of_publication": 2014
         },
         {
          "year_of_publication": 2014
         },
         {
          "year_of_publication": 2014
         },
         {
          "year_of_publication": 2014
         },
         {
          "year_of_publication": 2014
         },
         {
          "year_of_publication": 2014
         },
         {
          "year_of_publication": 2014
         },
         {
          "year_of_publication": 2014
         },
         {
          "year_of_publication": 2014
         },
         {
          "year_of_publication": 2014
         },
         {
          "year_of_publication": 2014
         },
         {
          "year_of_publication": 2014
         },
         {
          "year_of_publication": 2014
         },
         {
          "year_of_publication": 2014
         },
         {
          "year_of_publication": 2014
         },
         {
          "year_of_publication": 2014
         },
         {
          "year_of_publication": 2014
         },
         {
          "year_of_publication": 2014
         },
         {
          "year_of_publication": 2014
         },
         {
          "year_of_publication": 2014
         },
         {
          "year_of_publication": 2014
         },
         {
          "year_of_publication": 2014
         },
         {
          "year_of_publication": 2014
         },
         {
          "year_of_publication": 2014
         },
         {
          "year_of_publication": 2014
         },
         {
          "year_of_publication": 2014
         },
         {
          "year_of_publication": 2014
         },
         {
          "year_of_publication": 2014
         },
         {
          "year_of_publication": 2014
         },
         {
          "year_of_publication": 2014
         },
         {
          "year_of_publication": 2014
         },
         {
          "year_of_publication": 2014
         },
         {
          "year_of_publication": 2014
         },
         {
          "year_of_publication": 2014
         },
         {
          "year_of_publication": 2014
         },
         {
          "year_of_publication": 2014
         },
         {
          "year_of_publication": 2014
         },
         {
          "year_of_publication": 2014
         },
         {
          "year_of_publication": 2014
         },
         {
          "year_of_publication": 2014
         },
         {
          "year_of_publication": 2014
         },
         {
          "year_of_publication": 2014
         },
         {
          "year_of_publication": 2014
         },
         {
          "year_of_publication": 2014
         },
         {
          "year_of_publication": 2014
         },
         {
          "year_of_publication": 2014
         },
         {
          "year_of_publication": 2014
         },
         {
          "year_of_publication": 2014
         },
         {
          "year_of_publication": 2014
         },
         {
          "year_of_publication": 2014
         },
         {
          "year_of_publication": 2014
         },
         {
          "year_of_publication": 2014
         },
         {
          "year_of_publication": 2014
         },
         {
          "year_of_publication": 2014
         },
         {
          "year_of_publication": 2014
         },
         {
          "year_of_publication": 2014
         },
         {
          "year_of_publication": 2014
         },
         {
          "year_of_publication": 2014
         },
         {
          "year_of_publication": 2014
         },
         {
          "year_of_publication": 2014
         },
         {
          "year_of_publication": 2014
         },
         {
          "year_of_publication": 2014
         },
         {
          "year_of_publication": 2014
         },
         {
          "year_of_publication": 2014
         },
         {
          "year_of_publication": 2014
         },
         {
          "year_of_publication": 2014
         },
         {
          "year_of_publication": 2014
         },
         {
          "year_of_publication": 2014
         },
         {
          "year_of_publication": 2014
         },
         {
          "year_of_publication": 2014
         },
         {
          "year_of_publication": 2014
         },
         {
          "year_of_publication": 2014
         },
         {
          "year_of_publication": 2014
         },
         {
          "year_of_publication": 2014
         },
         {
          "year_of_publication": 2014
         },
         {
          "year_of_publication": 2014
         },
         {
          "year_of_publication": 2014
         },
         {
          "year_of_publication": 2014
         },
         {
          "year_of_publication": 2014
         },
         {
          "year_of_publication": 2014
         },
         {
          "year_of_publication": 2014
         },
         {
          "year_of_publication": 2014
         },
         {
          "year_of_publication": 2014
         },
         {
          "year_of_publication": 2014
         },
         {
          "year_of_publication": 2014
         },
         {
          "year_of_publication": 2014
         },
         {
          "year_of_publication": 2014
         },
         {
          "year_of_publication": 2014
         },
         {
          "year_of_publication": 2014
         },
         {
          "year_of_publication": 2014
         },
         {
          "year_of_publication": 2014
         },
         {
          "year_of_publication": 2014
         },
         {
          "year_of_publication": 2014
         },
         {
          "year_of_publication": 2014
         },
         {
          "year_of_publication": 2014
         },
         {
          "year_of_publication": 2014
         },
         {
          "year_of_publication": 2014
         },
         {
          "year_of_publication": 2014
         },
         {
          "year_of_publication": 2014
         },
         {
          "year_of_publication": 2014
         },
         {
          "year_of_publication": 2014
         },
         {
          "year_of_publication": 2014
         },
         {
          "year_of_publication": 2014
         },
         {
          "year_of_publication": 2014
         },
         {
          "year_of_publication": 2014
         },
         {
          "year_of_publication": 2014
         },
         {
          "year_of_publication": 2014
         },
         {
          "year_of_publication": 2014
         },
         {
          "year_of_publication": 2014
         },
         {
          "year_of_publication": 2014
         },
         {
          "year_of_publication": 2014
         },
         {
          "year_of_publication": 2014
         },
         {
          "year_of_publication": 2014
         },
         {
          "year_of_publication": 2014
         },
         {
          "year_of_publication": 2014
         },
         {
          "year_of_publication": 2014
         },
         {
          "year_of_publication": 2014
         },
         {
          "year_of_publication": 2014
         },
         {
          "year_of_publication": 2014
         },
         {
          "year_of_publication": 2014
         },
         {
          "year_of_publication": 2014
         },
         {
          "year_of_publication": 2014
         },
         {
          "year_of_publication": 2014
         },
         {
          "year_of_publication": 2014
         },
         {
          "year_of_publication": 2014
         },
         {
          "year_of_publication": 2014
         },
         {
          "year_of_publication": 2014
         },
         {
          "year_of_publication": 2014
         },
         {
          "year_of_publication": 2014
         },
         {
          "year_of_publication": 2014
         },
         {
          "year_of_publication": 2014
         },
         {
          "year_of_publication": 2014
         },
         {
          "year_of_publication": 2014
         },
         {
          "year_of_publication": 2014
         },
         {
          "year_of_publication": 2014
         },
         {
          "year_of_publication": 2014
         },
         {
          "year_of_publication": 2014
         },
         {
          "year_of_publication": 2014
         },
         {
          "year_of_publication": 2014
         },
         {
          "year_of_publication": 2014
         },
         {
          "year_of_publication": 2014
         },
         {
          "year_of_publication": 2014
         },
         {
          "year_of_publication": 2014
         },
         {
          "year_of_publication": 2014
         },
         {
          "year_of_publication": 2014
         },
         {
          "year_of_publication": 2014
         },
         {
          "year_of_publication": 2014
         },
         {
          "year_of_publication": 2014
         },
         {
          "year_of_publication": 2014
         },
         {
          "year_of_publication": 2014
         },
         {
          "year_of_publication": 2014
         },
         {
          "year_of_publication": 2014
         },
         {
          "year_of_publication": 2014
         },
         {
          "year_of_publication": 2014
         },
         {
          "year_of_publication": 2014
         },
         {
          "year_of_publication": 2014
         },
         {
          "year_of_publication": 2014
         },
         {
          "year_of_publication": 2014
         },
         {
          "year_of_publication": 2014
         },
         {
          "year_of_publication": 2014
         },
         {
          "year_of_publication": 2014
         },
         {
          "year_of_publication": 2014
         },
         {
          "year_of_publication": 2014
         },
         {
          "year_of_publication": 2014
         },
         {
          "year_of_publication": 2014
         },
         {
          "year_of_publication": 2014
         },
         {
          "year_of_publication": 2014
         },
         {
          "year_of_publication": 2014
         },
         {
          "year_of_publication": 2014
         },
         {
          "year_of_publication": 2014
         },
         {
          "year_of_publication": 2014
         },
         {
          "year_of_publication": 2014
         },
         {
          "year_of_publication": 2014
         },
         {
          "year_of_publication": 2014
         },
         {
          "year_of_publication": 2014
         },
         {
          "year_of_publication": 2014
         },
         {
          "year_of_publication": 2014
         },
         {
          "year_of_publication": 2014
         },
         {
          "year_of_publication": 2014
         },
         {
          "year_of_publication": 2014
         },
         {
          "year_of_publication": 2014
         },
         {
          "year_of_publication": 2014
         },
         {
          "year_of_publication": 2014
         },
         {
          "year_of_publication": 2014
         },
         {
          "year_of_publication": 2014
         },
         {
          "year_of_publication": 2014
         },
         {
          "year_of_publication": 2014
         },
         {
          "year_of_publication": 2014
         },
         {
          "year_of_publication": 2014
         },
         {
          "year_of_publication": 2014
         },
         {
          "year_of_publication": 2014
         },
         {
          "year_of_publication": 2014
         },
         {
          "year_of_publication": 2014
         },
         {
          "year_of_publication": 2014
         },
         {
          "year_of_publication": 2014
         },
         {
          "year_of_publication": 2014
         },
         {
          "year_of_publication": 2014
         },
         {
          "year_of_publication": 2014
         },
         {
          "year_of_publication": 2014
         },
         {
          "year_of_publication": 2014
         },
         {
          "year_of_publication": 2014
         },
         {
          "year_of_publication": 2014
         },
         {
          "year_of_publication": 2014
         },
         {
          "year_of_publication": 2014
         },
         {
          "year_of_publication": 2014
         },
         {
          "year_of_publication": 2014
         },
         {
          "year_of_publication": 2014
         },
         {
          "year_of_publication": 2014
         },
         {
          "year_of_publication": 2014
         },
         {
          "year_of_publication": 2014
         },
         {
          "year_of_publication": 2014
         },
         {
          "year_of_publication": 2014
         },
         {
          "year_of_publication": 2014
         },
         {
          "year_of_publication": 2014
         },
         {
          "year_of_publication": 2014
         },
         {
          "year_of_publication": 2014
         },
         {
          "year_of_publication": 2014
         },
         {
          "year_of_publication": 2014
         },
         {
          "year_of_publication": 2014
         },
         {
          "year_of_publication": 2014
         },
         {
          "year_of_publication": 2014
         },
         {
          "year_of_publication": 2014
         },
         {
          "year_of_publication": 2014
         },
         {
          "year_of_publication": 2014
         },
         {
          "year_of_publication": 2014
         },
         {
          "year_of_publication": 2014
         },
         {
          "year_of_publication": 2014
         },
         {
          "year_of_publication": 2014
         },
         {
          "year_of_publication": 2014
         },
         {
          "year_of_publication": 2014
         },
         {
          "year_of_publication": 2014
         },
         {
          "year_of_publication": 2014
         },
         {
          "year_of_publication": 2014
         },
         {
          "year_of_publication": 2014
         },
         {
          "year_of_publication": 2014
         },
         {
          "year_of_publication": 2014
         },
         {
          "year_of_publication": 2014
         },
         {
          "year_of_publication": 2014
         },
         {
          "year_of_publication": 2014
         },
         {
          "year_of_publication": 2014
         },
         {
          "year_of_publication": 2014
         },
         {
          "year_of_publication": 2014
         },
         {
          "year_of_publication": 2014
         },
         {
          "year_of_publication": 2014
         },
         {
          "year_of_publication": 2014
         },
         {
          "year_of_publication": 2014
         },
         {
          "year_of_publication": 2014
         },
         {
          "year_of_publication": 2014
         },
         {
          "year_of_publication": 2014
         },
         {
          "year_of_publication": 2014
         },
         {
          "year_of_publication": 2014
         },
         {
          "year_of_publication": 2014
         },
         {
          "year_of_publication": 2014
         },
         {
          "year_of_publication": 2014
         },
         {
          "year_of_publication": 2014
         },
         {
          "year_of_publication": 2014
         },
         {
          "year_of_publication": 2014
         },
         {
          "year_of_publication": 2014
         },
         {
          "year_of_publication": 2014
         },
         {
          "year_of_publication": 2014
         },
         {
          "year_of_publication": 2014
         },
         {
          "year_of_publication": 2014
         },
         {
          "year_of_publication": 2014
         },
         {
          "year_of_publication": 2014
         },
         {
          "year_of_publication": 2014
         },
         {
          "year_of_publication": 2014
         },
         {
          "year_of_publication": 2014
         },
         {
          "year_of_publication": 2014
         },
         {
          "year_of_publication": 2014
         },
         {
          "year_of_publication": 2014
         },
         {
          "year_of_publication": 2014
         },
         {
          "year_of_publication": 2014
         },
         {
          "year_of_publication": 2014
         },
         {
          "year_of_publication": 2014
         },
         {
          "year_of_publication": 2014
         },
         {
          "year_of_publication": 2014
         },
         {
          "year_of_publication": 2014
         },
         {
          "year_of_publication": 2014
         },
         {
          "year_of_publication": 2014
         },
         {
          "year_of_publication": 2014
         },
         {
          "year_of_publication": 2014
         },
         {
          "year_of_publication": 2014
         },
         {
          "year_of_publication": 2014
         },
         {
          "year_of_publication": 2014
         },
         {
          "year_of_publication": 2014
         },
         {
          "year_of_publication": 2014
         },
         {
          "year_of_publication": 2014
         },
         {
          "year_of_publication": 2014
         },
         {
          "year_of_publication": 2014
         },
         {
          "year_of_publication": 2014
         },
         {
          "year_of_publication": 2014
         },
         {
          "year_of_publication": 2014
         },
         {
          "year_of_publication": 2014
         },
         {
          "year_of_publication": 2014
         },
         {
          "year_of_publication": 2014
         },
         {
          "year_of_publication": 2014
         },
         {
          "year_of_publication": 2014
         },
         {
          "year_of_publication": 2014
         },
         {
          "year_of_publication": 2014
         },
         {
          "year_of_publication": 2014
         },
         {
          "year_of_publication": 2014
         },
         {
          "year_of_publication": 2014
         },
         {
          "year_of_publication": 2014
         },
         {
          "year_of_publication": 2014
         },
         {
          "year_of_publication": 2014
         },
         {
          "year_of_publication": 2014
         },
         {
          "year_of_publication": 2014
         },
         {
          "year_of_publication": 2014
         },
         {
          "year_of_publication": 2014
         },
         {
          "year_of_publication": 2014
         },
         {
          "year_of_publication": 2014
         },
         {
          "year_of_publication": 2014
         },
         {
          "year_of_publication": 2014
         },
         {
          "year_of_publication": 2014
         },
         {
          "year_of_publication": 2014
         },
         {
          "year_of_publication": 2014
         },
         {
          "year_of_publication": 2014
         },
         {
          "year_of_publication": 2014
         },
         {
          "year_of_publication": 2014
         },
         {
          "year_of_publication": 2014
         },
         {
          "year_of_publication": 2014
         },
         {
          "year_of_publication": 2014
         },
         {
          "year_of_publication": 2014
         },
         {
          "year_of_publication": 2014
         },
         {
          "year_of_publication": 2014
         },
         {
          "year_of_publication": 2014
         },
         {
          "year_of_publication": 2014
         },
         {
          "year_of_publication": 2014
         },
         {
          "year_of_publication": 2014
         },
         {
          "year_of_publication": 2014
         },
         {
          "year_of_publication": 2014
         },
         {
          "year_of_publication": 2014
         },
         {
          "year_of_publication": 2014
         },
         {
          "year_of_publication": 2014
         },
         {
          "year_of_publication": 2014
         },
         {
          "year_of_publication": 2014
         },
         {
          "year_of_publication": 2014
         },
         {
          "year_of_publication": 2014
         },
         {
          "year_of_publication": 2014
         },
         {
          "year_of_publication": 2014
         },
         {
          "year_of_publication": 2014
         },
         {
          "year_of_publication": 2014
         },
         {
          "year_of_publication": 2014
         },
         {
          "year_of_publication": 2014
         },
         {
          "year_of_publication": 2014
         },
         {
          "year_of_publication": 2014
         },
         {
          "year_of_publication": 2014
         },
         {
          "year_of_publication": 2014
         },
         {
          "year_of_publication": 2014
         },
         {
          "year_of_publication": 2014
         },
         {
          "year_of_publication": 2014
         },
         {
          "year_of_publication": 2014
         },
         {
          "year_of_publication": 2014
         },
         {
          "year_of_publication": 2014
         },
         {
          "year_of_publication": 2014
         },
         {
          "year_of_publication": 2014
         },
         {
          "year_of_publication": 2014
         },
         {
          "year_of_publication": 2014
         },
         {
          "year_of_publication": 2014
         },
         {
          "year_of_publication": 2014
         },
         {
          "year_of_publication": 2014
         },
         {
          "year_of_publication": 2014
         },
         {
          "year_of_publication": 2014
         },
         {
          "year_of_publication": 2014
         },
         {
          "year_of_publication": 2014
         },
         {
          "year_of_publication": 2014
         },
         {
          "year_of_publication": 2014
         },
         {
          "year_of_publication": 2014
         },
         {
          "year_of_publication": 2014
         },
         {
          "year_of_publication": 2014
         },
         {
          "year_of_publication": 2014
         },
         {
          "year_of_publication": 2014
         },
         {
          "year_of_publication": 2014
         },
         {
          "year_of_publication": 2014
         },
         {
          "year_of_publication": 2014
         },
         {
          "year_of_publication": 2014
         },
         {
          "year_of_publication": 2014
         },
         {
          "year_of_publication": 2014
         },
         {
          "year_of_publication": 2014
         },
         {
          "year_of_publication": 2014
         },
         {
          "year_of_publication": 2014
         },
         {
          "year_of_publication": 2014
         },
         {
          "year_of_publication": 2014
         },
         {
          "year_of_publication": 2014
         },
         {
          "year_of_publication": 2014
         },
         {
          "year_of_publication": 2014
         },
         {
          "year_of_publication": 2014
         },
         {
          "year_of_publication": 2014
         },
         {
          "year_of_publication": 2014
         },
         {
          "year_of_publication": 2014
         },
         {
          "year_of_publication": 2014
         },
         {
          "year_of_publication": 2014
         },
         {
          "year_of_publication": 2014
         },
         {
          "year_of_publication": 2014
         },
         {
          "year_of_publication": 2014
         },
         {
          "year_of_publication": 2014
         },
         {
          "year_of_publication": 2014
         },
         {
          "year_of_publication": 2014
         },
         {
          "year_of_publication": 2014
         },
         {
          "year_of_publication": 2014
         },
         {
          "year_of_publication": 2014
         },
         {
          "year_of_publication": 2014
         },
         {
          "year_of_publication": 2014
         },
         {
          "year_of_publication": 2014
         },
         {
          "year_of_publication": 2014
         },
         {
          "year_of_publication": 2014
         },
         {
          "year_of_publication": 2014
         },
         {
          "year_of_publication": 2014
         },
         {
          "year_of_publication": 2014
         },
         {
          "year_of_publication": 2014
         },
         {
          "year_of_publication": 2014
         },
         {
          "year_of_publication": 2014
         },
         {
          "year_of_publication": 2014
         },
         {
          "year_of_publication": 2014
         },
         {
          "year_of_publication": 2014
         },
         {
          "year_of_publication": 2014
         },
         {
          "year_of_publication": 2014
         },
         {
          "year_of_publication": 2014
         },
         {
          "year_of_publication": 2014
         },
         {
          "year_of_publication": 2014
         },
         {
          "year_of_publication": 2014
         },
         {
          "year_of_publication": 2014
         },
         {
          "year_of_publication": 2014
         },
         {
          "year_of_publication": 2014
         },
         {
          "year_of_publication": 2014
         },
         {
          "year_of_publication": 2014
         },
         {
          "year_of_publication": 2014
         },
         {
          "year_of_publication": 2014
         },
         {
          "year_of_publication": 2014
         },
         {
          "year_of_publication": 2014
         },
         {
          "year_of_publication": 2014
         },
         {
          "year_of_publication": 2014
         },
         {
          "year_of_publication": 2014
         },
         {
          "year_of_publication": 2014
         },
         {
          "year_of_publication": 2014
         },
         {
          "year_of_publication": 2014
         },
         {
          "year_of_publication": 2014
         },
         {
          "year_of_publication": 2014
         },
         {
          "year_of_publication": 2014
         },
         {
          "year_of_publication": 2014
         },
         {
          "year_of_publication": 2014
         },
         {
          "year_of_publication": 2014
         },
         {
          "year_of_publication": 2014
         },
         {
          "year_of_publication": 2014
         },
         {
          "year_of_publication": 2014
         },
         {
          "year_of_publication": 2014
         },
         {
          "year_of_publication": 2014
         },
         {
          "year_of_publication": 2014
         },
         {
          "year_of_publication": 2014
         },
         {
          "year_of_publication": 2014
         },
         {
          "year_of_publication": 2014
         },
         {
          "year_of_publication": 2014
         },
         {
          "year_of_publication": 2014
         },
         {
          "year_of_publication": 2014
         },
         {
          "year_of_publication": 2014
         },
         {
          "year_of_publication": 2014
         },
         {
          "year_of_publication": 2014
         },
         {
          "year_of_publication": 2014
         },
         {
          "year_of_publication": 2014
         },
         {
          "year_of_publication": 2014
         },
         {
          "year_of_publication": 2014
         },
         {
          "year_of_publication": 2014
         },
         {
          "year_of_publication": 2014
         },
         {
          "year_of_publication": 2014
         },
         {
          "year_of_publication": 2014
         },
         {
          "year_of_publication": 2014
         },
         {
          "year_of_publication": 2014
         },
         {
          "year_of_publication": 2014
         },
         {
          "year_of_publication": 2014
         },
         {
          "year_of_publication": 2014
         },
         {
          "year_of_publication": 2014
         },
         {
          "year_of_publication": 2014
         },
         {
          "year_of_publication": 2014
         },
         {
          "year_of_publication": 2014
         },
         {
          "year_of_publication": 2014
         },
         {
          "year_of_publication": 2014
         },
         {
          "year_of_publication": 2014
         },
         {
          "year_of_publication": 2014
         },
         {
          "year_of_publication": 2014
         },
         {
          "year_of_publication": 2014
         },
         {
          "year_of_publication": 2014
         },
         {
          "year_of_publication": 2014
         },
         {
          "year_of_publication": 2014
         },
         {
          "year_of_publication": 2014
         },
         {
          "year_of_publication": 2014
         },
         {
          "year_of_publication": 2014
         },
         {
          "year_of_publication": 2014
         },
         {
          "year_of_publication": 2014
         },
         {
          "year_of_publication": 2014
         },
         {
          "year_of_publication": 2014
         },
         {
          "year_of_publication": 2014
         },
         {
          "year_of_publication": 2014
         },
         {
          "year_of_publication": 2014
         },
         {
          "year_of_publication": 2014
         },
         {
          "year_of_publication": 2014
         },
         {
          "year_of_publication": 2014
         },
         {
          "year_of_publication": 2014
         },
         {
          "year_of_publication": 2014
         },
         {
          "year_of_publication": 2014
         },
         {
          "year_of_publication": 2014
         },
         {
          "year_of_publication": 2014
         },
         {
          "year_of_publication": 2014
         },
         {
          "year_of_publication": 2014
         },
         {
          "year_of_publication": 2014
         },
         {
          "year_of_publication": 2014
         },
         {
          "year_of_publication": 2014
         },
         {
          "year_of_publication": 2014
         },
         {
          "year_of_publication": 2014
         },
         {
          "year_of_publication": 2014
         },
         {
          "year_of_publication": 2014
         },
         {
          "year_of_publication": 2014
         },
         {
          "year_of_publication": 2014
         },
         {
          "year_of_publication": 2014
         },
         {
          "year_of_publication": 2014
         },
         {
          "year_of_publication": 2014
         },
         {
          "year_of_publication": 2014
         },
         {
          "year_of_publication": 2014
         },
         {
          "year_of_publication": 2014
         },
         {
          "year_of_publication": 2014
         },
         {
          "year_of_publication": 2014
         },
         {
          "year_of_publication": 2014
         },
         {
          "year_of_publication": 2014
         },
         {
          "year_of_publication": 2014
         },
         {
          "year_of_publication": 2014
         },
         {
          "year_of_publication": 2014
         },
         {
          "year_of_publication": 2014
         },
         {
          "year_of_publication": 2014
         },
         {
          "year_of_publication": 2014
         },
         {
          "year_of_publication": 2014
         },
         {
          "year_of_publication": 2014
         },
         {
          "year_of_publication": 2014
         },
         {
          "year_of_publication": 2014
         },
         {
          "year_of_publication": 2014
         },
         {
          "year_of_publication": 2014
         },
         {
          "year_of_publication": 2014
         },
         {
          "year_of_publication": 2014
         },
         {
          "year_of_publication": 2014
         },
         {
          "year_of_publication": 2014
         },
         {
          "year_of_publication": 2014
         },
         {
          "year_of_publication": 2014
         },
         {
          "year_of_publication": 2014
         },
         {
          "year_of_publication": 2014
         },
         {
          "year_of_publication": 2014
         },
         {
          "year_of_publication": 2014
         },
         {
          "year_of_publication": 2014
         },
         {
          "year_of_publication": 2014
         },
         {
          "year_of_publication": 2014
         },
         {
          "year_of_publication": 2014
         },
         {
          "year_of_publication": 2014
         },
         {
          "year_of_publication": 2014
         },
         {
          "year_of_publication": 2014
         },
         {
          "year_of_publication": 2014
         },
         {
          "year_of_publication": 2014
         },
         {
          "year_of_publication": 2014
         },
         {
          "year_of_publication": 2014
         },
         {
          "year_of_publication": 2014
         },
         {
          "year_of_publication": 2014
         },
         {
          "year_of_publication": 2014
         },
         {
          "year_of_publication": 2014
         },
         {
          "year_of_publication": 2014
         },
         {
          "year_of_publication": 2014
         },
         {
          "year_of_publication": 2014
         },
         {
          "year_of_publication": 2014
         },
         {
          "year_of_publication": 2014
         },
         {
          "year_of_publication": 2014
         },
         {
          "year_of_publication": 2014
         },
         {
          "year_of_publication": 2014
         },
         {
          "year_of_publication": 2014
         },
         {
          "year_of_publication": 2014
         },
         {
          "year_of_publication": 2014
         },
         {
          "year_of_publication": 2014
         },
         {
          "year_of_publication": 2014
         },
         {
          "year_of_publication": 2014
         },
         {
          "year_of_publication": 2014
         },
         {
          "year_of_publication": 2014
         },
         {
          "year_of_publication": 2014
         },
         {
          "year_of_publication": 2014
         },
         {
          "year_of_publication": 2014
         },
         {
          "year_of_publication": 2014
         },
         {
          "year_of_publication": 2014
         },
         {
          "year_of_publication": 2014
         },
         {
          "year_of_publication": 2014
         },
         {
          "year_of_publication": 2014
         },
         {
          "year_of_publication": 2014
         },
         {
          "year_of_publication": 2014
         },
         {
          "year_of_publication": 2014
         },
         {
          "year_of_publication": 2014
         },
         {
          "year_of_publication": 2014
         },
         {
          "year_of_publication": 2014
         },
         {
          "year_of_publication": 2014
         },
         {
          "year_of_publication": 2014
         },
         {
          "year_of_publication": 2014
         },
         {
          "year_of_publication": 2014
         },
         {
          "year_of_publication": 2014
         },
         {
          "year_of_publication": 2014
         },
         {
          "year_of_publication": 2014
         },
         {
          "year_of_publication": 2014
         },
         {
          "year_of_publication": 2014
         },
         {
          "year_of_publication": 2014
         },
         {
          "year_of_publication": 2014
         },
         {
          "year_of_publication": 2014
         },
         {
          "year_of_publication": 2014
         },
         {
          "year_of_publication": 2014
         },
         {
          "year_of_publication": 2014
         },
         {
          "year_of_publication": 2014
         },
         {
          "year_of_publication": 2014
         },
         {
          "year_of_publication": 2014
         },
         {
          "year_of_publication": 2014
         },
         {
          "year_of_publication": 2014
         },
         {
          "year_of_publication": 2014
         },
         {
          "year_of_publication": 2014
         },
         {
          "year_of_publication": 2014
         },
         {
          "year_of_publication": 2014
         },
         {
          "year_of_publication": 2014
         },
         {
          "year_of_publication": 2014
         },
         {
          "year_of_publication": 2014
         },
         {
          "year_of_publication": 2014
         },
         {
          "year_of_publication": 2014
         },
         {
          "year_of_publication": 2014
         },
         {
          "year_of_publication": 2014
         },
         {
          "year_of_publication": 2014
         },
         {
          "year_of_publication": 2014
         },
         {
          "year_of_publication": 2014
         },
         {
          "year_of_publication": 2014
         },
         {
          "year_of_publication": 2014
         },
         {
          "year_of_publication": 2014
         },
         {
          "year_of_publication": 2014
         },
         {
          "year_of_publication": 2014
         },
         {
          "year_of_publication": 2014
         },
         {
          "year_of_publication": 2014
         },
         {
          "year_of_publication": 2014
         },
         {
          "year_of_publication": 2014
         },
         {
          "year_of_publication": 2014
         },
         {
          "year_of_publication": 2014
         },
         {
          "year_of_publication": 2014
         },
         {
          "year_of_publication": 2014
         },
         {
          "year_of_publication": 2014
         },
         {
          "year_of_publication": 2014
         },
         {
          "year_of_publication": 2014
         },
         {
          "year_of_publication": 2014
         },
         {
          "year_of_publication": 2014
         },
         {
          "year_of_publication": 2014
         },
         {
          "year_of_publication": 2014
         },
         {
          "year_of_publication": 2014
         },
         {
          "year_of_publication": 2014
         },
         {
          "year_of_publication": 2014
         },
         {
          "year_of_publication": 2014
         },
         {
          "year_of_publication": 2014
         },
         {
          "year_of_publication": 2014
         },
         {
          "year_of_publication": 2014
         },
         {
          "year_of_publication": 2014
         },
         {
          "year_of_publication": 2014
         },
         {
          "year_of_publication": 2014
         },
         {
          "year_of_publication": 2014
         },
         {
          "year_of_publication": 2014
         },
         {
          "year_of_publication": 2014
         },
         {
          "year_of_publication": 2014
         },
         {
          "year_of_publication": 2014
         },
         {
          "year_of_publication": 2014
         },
         {
          "year_of_publication": 2014
         },
         {
          "year_of_publication": 2014
         },
         {
          "year_of_publication": 2014
         },
         {
          "year_of_publication": 2014
         },
         {
          "year_of_publication": 2014
         },
         {
          "year_of_publication": 2014
         },
         {
          "year_of_publication": 2014
         },
         {
          "year_of_publication": 2014
         },
         {
          "year_of_publication": 2014
         },
         {
          "year_of_publication": 2014
         },
         {
          "year_of_publication": 2014
         },
         {
          "year_of_publication": 2014
         },
         {
          "year_of_publication": 2014
         },
         {
          "year_of_publication": 2014
         },
         {
          "year_of_publication": 2014
         },
         {
          "year_of_publication": 2014
         },
         {
          "year_of_publication": 2014
         },
         {
          "year_of_publication": 2014
         },
         {
          "year_of_publication": 2014
         },
         {
          "year_of_publication": 2014
         },
         {
          "year_of_publication": 2014
         },
         {
          "year_of_publication": 2014
         },
         {
          "year_of_publication": 2014
         },
         {
          "year_of_publication": 2014
         },
         {
          "year_of_publication": 2014
         },
         {
          "year_of_publication": 2014
         },
         {
          "year_of_publication": 2014
         },
         {
          "year_of_publication": 2014
         },
         {
          "year_of_publication": 2014
         },
         {
          "year_of_publication": 2014
         },
         {
          "year_of_publication": 2014
         },
         {
          "year_of_publication": 2014
         },
         {
          "year_of_publication": 2014
         },
         {
          "year_of_publication": 2014
         },
         {
          "year_of_publication": 2014
         },
         {
          "year_of_publication": 2014
         },
         {
          "year_of_publication": 2014
         },
         {
          "year_of_publication": 2014
         },
         {
          "year_of_publication": 2014
         },
         {
          "year_of_publication": 2014
         },
         {
          "year_of_publication": 2014
         },
         {
          "year_of_publication": 2014
         },
         {
          "year_of_publication": 2014
         },
         {
          "year_of_publication": 2014
         },
         {
          "year_of_publication": 2014
         },
         {
          "year_of_publication": 2014
         },
         {
          "year_of_publication": 2014
         },
         {
          "year_of_publication": 2014
         },
         {
          "year_of_publication": 2014
         },
         {
          "year_of_publication": 2014
         },
         {
          "year_of_publication": 2014
         },
         {
          "year_of_publication": 2014
         },
         {
          "year_of_publication": 2014
         },
         {
          "year_of_publication": 2014
         },
         {
          "year_of_publication": 2014
         },
         {
          "year_of_publication": 2014
         },
         {
          "year_of_publication": 2014
         },
         {
          "year_of_publication": 2014
         },
         {
          "year_of_publication": 2014
         },
         {
          "year_of_publication": 2014
         },
         {
          "year_of_publication": 2014
         },
         {
          "year_of_publication": 2014
         },
         {
          "year_of_publication": 2014
         },
         {
          "year_of_publication": 2014
         },
         {
          "year_of_publication": 2014
         },
         {
          "year_of_publication": 2014
         },
         {
          "year_of_publication": 2014
         },
         {
          "year_of_publication": 2014
         },
         {
          "year_of_publication": 2014
         },
         {
          "year_of_publication": 2014
         },
         {
          "year_of_publication": 2014
         },
         {
          "year_of_publication": 2014
         },
         {
          "year_of_publication": 2014
         },
         {
          "year_of_publication": 2014
         },
         {
          "year_of_publication": 2014
         },
         {
          "year_of_publication": 2014
         },
         {
          "year_of_publication": 2014
         },
         {
          "year_of_publication": 2014
         },
         {
          "year_of_publication": 2014
         },
         {
          "year_of_publication": 2014
         },
         {
          "year_of_publication": 2014
         },
         {
          "year_of_publication": 2014
         },
         {
          "year_of_publication": 2014
         },
         {
          "year_of_publication": 2014
         },
         {
          "year_of_publication": 2014
         },
         {
          "year_of_publication": 2014
         },
         {
          "year_of_publication": 2014
         },
         {
          "year_of_publication": 2014
         },
         {
          "year_of_publication": 2014
         },
         {
          "year_of_publication": 2014
         },
         {
          "year_of_publication": 2014
         },
         {
          "year_of_publication": 2014
         },
         {
          "year_of_publication": 2014
         },
         {
          "year_of_publication": 2014
         },
         {
          "year_of_publication": 2014
         },
         {
          "year_of_publication": 2014
         },
         {
          "year_of_publication": 2014
         },
         {
          "year_of_publication": 2014
         },
         {
          "year_of_publication": 2014
         },
         {
          "year_of_publication": 2014
         },
         {
          "year_of_publication": 2014
         },
         {
          "year_of_publication": 2014
         },
         {
          "year_of_publication": 2014
         },
         {
          "year_of_publication": 2014
         },
         {
          "year_of_publication": 2014
         },
         {
          "year_of_publication": 2014
         },
         {
          "year_of_publication": 2014
         },
         {
          "year_of_publication": 2014
         },
         {
          "year_of_publication": 2014
         },
         {
          "year_of_publication": 2014
         },
         {
          "year_of_publication": 2014
         },
         {
          "year_of_publication": 2014
         },
         {
          "year_of_publication": 2014
         },
         {
          "year_of_publication": 2014
         },
         {
          "year_of_publication": 2014
         },
         {
          "year_of_publication": 2014
         },
         {
          "year_of_publication": 2014
         },
         {
          "year_of_publication": 2014
         },
         {
          "year_of_publication": 2014
         },
         {
          "year_of_publication": 2014
         },
         {
          "year_of_publication": 2014
         },
         {
          "year_of_publication": 2014
         },
         {
          "year_of_publication": 2014
         },
         {
          "year_of_publication": 2014
         },
         {
          "year_of_publication": 2014
         },
         {
          "year_of_publication": 2014
         },
         {
          "year_of_publication": 2014
         },
         {
          "year_of_publication": 2014
         },
         {
          "year_of_publication": 2014
         },
         {
          "year_of_publication": 2014
         },
         {
          "year_of_publication": 2014
         },
         {
          "year_of_publication": 2014
         },
         {
          "year_of_publication": 2014
         },
         {
          "year_of_publication": 2014
         },
         {
          "year_of_publication": 2014
         },
         {
          "year_of_publication": 2014
         },
         {
          "year_of_publication": 2014
         },
         {
          "year_of_publication": 2014
         },
         {
          "year_of_publication": 2014
         },
         {
          "year_of_publication": 2014
         },
         {
          "year_of_publication": 2014
         },
         {
          "year_of_publication": 2014
         },
         {
          "year_of_publication": 2014
         },
         {
          "year_of_publication": 2014
         },
         {
          "year_of_publication": 2014
         },
         {
          "year_of_publication": 2014
         },
         {
          "year_of_publication": 2014
         },
         {
          "year_of_publication": 2014
         },
         {
          "year_of_publication": 2014
         },
         {
          "year_of_publication": 2014
         },
         {
          "year_of_publication": 2014
         },
         {
          "year_of_publication": 2014
         },
         {
          "year_of_publication": 2014
         },
         {
          "year_of_publication": 2014
         },
         {
          "year_of_publication": 2014
         },
         {
          "year_of_publication": 2014
         },
         {
          "year_of_publication": 2014
         },
         {
          "year_of_publication": 2014
         },
         {
          "year_of_publication": 2014
         },
         {
          "year_of_publication": 2014
         },
         {
          "year_of_publication": 2014
         },
         {
          "year_of_publication": 2014
         },
         {
          "year_of_publication": 2014
         },
         {
          "year_of_publication": 2014
         },
         {
          "year_of_publication": 2014
         },
         {
          "year_of_publication": 2014
         },
         {
          "year_of_publication": 2014
         },
         {
          "year_of_publication": 2014
         },
         {
          "year_of_publication": 2014
         },
         {
          "year_of_publication": 2014
         },
         {
          "year_of_publication": 2014
         },
         {
          "year_of_publication": 2014
         },
         {
          "year_of_publication": 2014
         },
         {
          "year_of_publication": 2014
         },
         {
          "year_of_publication": 2014
         },
         {
          "year_of_publication": 2014
         },
         {
          "year_of_publication": 2014
         },
         {
          "year_of_publication": 2014
         },
         {
          "year_of_publication": 2014
         },
         {
          "year_of_publication": 2014
         },
         {
          "year_of_publication": 2014
         },
         {
          "year_of_publication": 2014
         },
         {
          "year_of_publication": 2014
         },
         {
          "year_of_publication": 2014
         },
         {
          "year_of_publication": 2014
         },
         {
          "year_of_publication": 2014
         },
         {
          "year_of_publication": 2014
         },
         {
          "year_of_publication": 2014
         },
         {
          "year_of_publication": 2014
         },
         {
          "year_of_publication": 2014
         },
         {
          "year_of_publication": 2014
         },
         {
          "year_of_publication": 2014
         },
         {
          "year_of_publication": 2014
         },
         {
          "year_of_publication": 2014
         },
         {
          "year_of_publication": 2014
         },
         {
          "year_of_publication": 2014
         },
         {
          "year_of_publication": 2014
         },
         {
          "year_of_publication": 2014
         },
         {
          "year_of_publication": 2014
         },
         {
          "year_of_publication": 2014
         },
         {
          "year_of_publication": 2014
         },
         {
          "year_of_publication": 2014
         },
         {
          "year_of_publication": 2014
         },
         {
          "year_of_publication": 2014
         },
         {
          "year_of_publication": 2014
         },
         {
          "year_of_publication": 2014
         },
         {
          "year_of_publication": 2014
         },
         {
          "year_of_publication": 2014
         },
         {
          "year_of_publication": 2014
         },
         {
          "year_of_publication": 2014
         },
         {
          "year_of_publication": 2014
         },
         {
          "year_of_publication": 2014
         },
         {
          "year_of_publication": 2014
         },
         {
          "year_of_publication": 2014
         },
         {
          "year_of_publication": 2014
         },
         {
          "year_of_publication": 2014
         },
         {
          "year_of_publication": 2014
         },
         {
          "year_of_publication": 2014
         },
         {
          "year_of_publication": 2014
         },
         {
          "year_of_publication": 2014
         },
         {
          "year_of_publication": 2014
         },
         {
          "year_of_publication": 2014
         },
         {
          "year_of_publication": 2014
         },
         {
          "year_of_publication": 2014
         },
         {
          "year_of_publication": 2014
         },
         {
          "year_of_publication": 2014
         },
         {
          "year_of_publication": 2014
         },
         {
          "year_of_publication": 2014
         },
         {
          "year_of_publication": 2014
         },
         {
          "year_of_publication": 2014
         },
         {
          "year_of_publication": 2014
         },
         {
          "year_of_publication": 2014
         },
         {
          "year_of_publication": 2014
         },
         {
          "year_of_publication": 2014
         },
         {
          "year_of_publication": 2014
         },
         {
          "year_of_publication": 2014
         },
         {
          "year_of_publication": 2014
         },
         {
          "year_of_publication": 2014
         },
         {
          "year_of_publication": 2014
         },
         {
          "year_of_publication": 2014
         },
         {
          "year_of_publication": 2014
         },
         {
          "year_of_publication": 2014
         },
         {
          "year_of_publication": 2014
         },
         {
          "year_of_publication": 2014
         },
         {
          "year_of_publication": 2014
         },
         {
          "year_of_publication": 2014
         },
         {
          "year_of_publication": 2014
         },
         {
          "year_of_publication": 2014
         },
         {
          "year_of_publication": 2014
         },
         {
          "year_of_publication": 2014
         },
         {
          "year_of_publication": 2014
         },
         {
          "year_of_publication": 2014
         },
         {
          "year_of_publication": 2014
         },
         {
          "year_of_publication": 2014
         },
         {
          "year_of_publication": 2014
         },
         {
          "year_of_publication": 2014
         },
         {
          "year_of_publication": 2014
         },
         {
          "year_of_publication": 2014
         },
         {
          "year_of_publication": 2014
         },
         {
          "year_of_publication": 2014
         },
         {
          "year_of_publication": 2014
         },
         {
          "year_of_publication": 2014
         },
         {
          "year_of_publication": 2014
         },
         {
          "year_of_publication": 2014
         },
         {
          "year_of_publication": 2014
         },
         {
          "year_of_publication": 2014
         },
         {
          "year_of_publication": 2014
         },
         {
          "year_of_publication": 2014
         },
         {
          "year_of_publication": 2014
         },
         {
          "year_of_publication": 2014
         },
         {
          "year_of_publication": 2014
         },
         {
          "year_of_publication": 2014
         },
         {
          "year_of_publication": 2014
         },
         {
          "year_of_publication": 2014
         },
         {
          "year_of_publication": 2014
         },
         {
          "year_of_publication": 2014
         },
         {
          "year_of_publication": 2014
         },
         {
          "year_of_publication": 2014
         },
         {
          "year_of_publication": 2014
         },
         {
          "year_of_publication": 2014
         },
         {
          "year_of_publication": 2014
         },
         {
          "year_of_publication": 2014
         },
         {
          "year_of_publication": 2014
         },
         {
          "year_of_publication": 2014
         },
         {
          "year_of_publication": 2014
         },
         {
          "year_of_publication": 2014
         },
         {
          "year_of_publication": 2014
         },
         {
          "year_of_publication": 2014
         },
         {
          "year_of_publication": 2014
         },
         {
          "year_of_publication": 2014
         },
         {
          "year_of_publication": 2014
         },
         {
          "year_of_publication": 2014
         },
         {
          "year_of_publication": 2014
         },
         {
          "year_of_publication": 2014
         },
         {
          "year_of_publication": 2014
         },
         {
          "year_of_publication": 2014
         },
         {
          "year_of_publication": 2014
         },
         {
          "year_of_publication": 2014
         },
         {
          "year_of_publication": 2014
         },
         {
          "year_of_publication": 2014
         },
         {
          "year_of_publication": 2014
         },
         {
          "year_of_publication": 2014
         },
         {
          "year_of_publication": 2014
         },
         {
          "year_of_publication": 2014
         },
         {
          "year_of_publication": 2014
         },
         {
          "year_of_publication": 2014
         },
         {
          "year_of_publication": 2014
         },
         {
          "year_of_publication": 2014
         },
         {
          "year_of_publication": 2014
         },
         {
          "year_of_publication": 2014
         },
         {
          "year_of_publication": 2014
         },
         {
          "year_of_publication": 2014
         },
         {
          "year_of_publication": 2014
         },
         {
          "year_of_publication": 2014
         },
         {
          "year_of_publication": 2014
         },
         {
          "year_of_publication": 2014
         },
         {
          "year_of_publication": 2014
         },
         {
          "year_of_publication": 2014
         },
         {
          "year_of_publication": 2014
         },
         {
          "year_of_publication": 2014
         },
         {
          "year_of_publication": 2014
         },
         {
          "year_of_publication": 2014
         },
         {
          "year_of_publication": 2014
         },
         {
          "year_of_publication": 2014
         },
         {
          "year_of_publication": 2014
         },
         {
          "year_of_publication": 2014
         },
         {
          "year_of_publication": 2014
         },
         {
          "year_of_publication": 2014
         },
         {
          "year_of_publication": 2014
         },
         {
          "year_of_publication": 2014
         },
         {
          "year_of_publication": 2014
         },
         {
          "year_of_publication": 2014
         },
         {
          "year_of_publication": 2014
         },
         {
          "year_of_publication": 2014
         },
         {
          "year_of_publication": 2014
         },
         {
          "year_of_publication": 2014
         },
         {
          "year_of_publication": 2014
         },
         {
          "year_of_publication": 2014
         },
         {
          "year_of_publication": 2014
         },
         {
          "year_of_publication": 2014
         },
         {
          "year_of_publication": 2014
         },
         {
          "year_of_publication": 2014
         },
         {
          "year_of_publication": 2014
         },
         {
          "year_of_publication": 2014
         },
         {
          "year_of_publication": 2014
         },
         {
          "year_of_publication": 2014
         },
         {
          "year_of_publication": 2014
         },
         {
          "year_of_publication": 2014
         },
         {
          "year_of_publication": 2014
         },
         {
          "year_of_publication": 2014
         },
         {
          "year_of_publication": 2014
         },
         {
          "year_of_publication": 2014
         },
         {
          "year_of_publication": 2014
         },
         {
          "year_of_publication": 2014
         },
         {
          "year_of_publication": 2014
         },
         {
          "year_of_publication": 2014
         },
         {
          "year_of_publication": 2014
         },
         {
          "year_of_publication": 2014
         },
         {
          "year_of_publication": 2014
         },
         {
          "year_of_publication": 2014
         },
         {
          "year_of_publication": 2014
         },
         {
          "year_of_publication": 2014
         },
         {
          "year_of_publication": 2014
         },
         {
          "year_of_publication": 2014
         },
         {
          "year_of_publication": 2014
         },
         {
          "year_of_publication": 2014
         },
         {
          "year_of_publication": 2014
         },
         {
          "year_of_publication": 2014
         },
         {
          "year_of_publication": 2014
         },
         {
          "year_of_publication": 2014
         },
         {
          "year_of_publication": 2014
         },
         {
          "year_of_publication": 2014
         },
         {
          "year_of_publication": 2014
         },
         {
          "year_of_publication": 2014
         },
         {
          "year_of_publication": 2014
         },
         {
          "year_of_publication": 2014
         },
         {
          "year_of_publication": 2014
         },
         {
          "year_of_publication": 2014
         },
         {
          "year_of_publication": 2014
         },
         {
          "year_of_publication": 2014
         },
         {
          "year_of_publication": 2014
         },
         {
          "year_of_publication": 2014
         },
         {
          "year_of_publication": 2014
         },
         {
          "year_of_publication": 2014
         },
         {
          "year_of_publication": 2014
         },
         {
          "year_of_publication": 2014
         },
         {
          "year_of_publication": 2014
         },
         {
          "year_of_publication": 2014
         },
         {
          "year_of_publication": 2014
         },
         {
          "year_of_publication": 2014
         },
         {
          "year_of_publication": 2014
         },
         {
          "year_of_publication": 2014
         },
         {
          "year_of_publication": 2014
         },
         {
          "year_of_publication": 2014
         },
         {
          "year_of_publication": 2014
         },
         {
          "year_of_publication": 2014
         },
         {
          "year_of_publication": 2014
         },
         {
          "year_of_publication": 2014
         },
         {
          "year_of_publication": 2014
         },
         {
          "year_of_publication": 2014
         },
         {
          "year_of_publication": 2014
         },
         {
          "year_of_publication": 2014
         },
         {
          "year_of_publication": 2014
         },
         {
          "year_of_publication": 2014
         },
         {
          "year_of_publication": 2014
         },
         {
          "year_of_publication": 2014
         },
         {
          "year_of_publication": 2014
         },
         {
          "year_of_publication": 2014
         },
         {
          "year_of_publication": 2014
         },
         {
          "year_of_publication": 2014
         },
         {
          "year_of_publication": 2014
         },
         {
          "year_of_publication": 2014
         },
         {
          "year_of_publication": 2014
         },
         {
          "year_of_publication": 2014
         },
         {
          "year_of_publication": 2014
         },
         {
          "year_of_publication": 2014
         },
         {
          "year_of_publication": 2014
         },
         {
          "year_of_publication": 2014
         },
         {
          "year_of_publication": 2014
         },
         {
          "year_of_publication": 2014
         },
         {
          "year_of_publication": 2014
         },
         {
          "year_of_publication": 2014
         },
         {
          "year_of_publication": 2014
         },
         {
          "year_of_publication": 2014
         },
         {
          "year_of_publication": 2014
         },
         {
          "year_of_publication": 2014
         },
         {
          "year_of_publication": 2014
         },
         {
          "year_of_publication": 2014
         },
         {
          "year_of_publication": 2013
         },
         {
          "year_of_publication": 2013
         },
         {
          "year_of_publication": 2013
         },
         {
          "year_of_publication": 2013
         },
         {
          "year_of_publication": 2013
         },
         {
          "year_of_publication": 2013
         },
         {
          "year_of_publication": 2013
         },
         {
          "year_of_publication": 2013
         },
         {
          "year_of_publication": 2013
         },
         {
          "year_of_publication": 2013
         },
         {
          "year_of_publication": 2013
         },
         {
          "year_of_publication": 2013
         },
         {
          "year_of_publication": 2013
         },
         {
          "year_of_publication": 2013
         },
         {
          "year_of_publication": 2013
         },
         {
          "year_of_publication": 2013
         },
         {
          "year_of_publication": 2013
         },
         {
          "year_of_publication": 2013
         },
         {
          "year_of_publication": 2013
         },
         {
          "year_of_publication": 2013
         },
         {
          "year_of_publication": 2013
         },
         {
          "year_of_publication": 2013
         },
         {
          "year_of_publication": 2013
         },
         {
          "year_of_publication": 2013
         },
         {
          "year_of_publication": 2013
         },
         {
          "year_of_publication": 2013
         },
         {
          "year_of_publication": 2013
         },
         {
          "year_of_publication": 2013
         },
         {
          "year_of_publication": 2013
         },
         {
          "year_of_publication": 2013
         },
         {
          "year_of_publication": 2013
         },
         {
          "year_of_publication": 2013
         },
         {
          "year_of_publication": 2013
         },
         {
          "year_of_publication": 2013
         },
         {
          "year_of_publication": 2013
         },
         {
          "year_of_publication": 2013
         },
         {
          "year_of_publication": 2013
         },
         {
          "year_of_publication": 2013
         },
         {
          "year_of_publication": 2013
         },
         {
          "year_of_publication": 2013
         },
         {
          "year_of_publication": 2013
         },
         {
          "year_of_publication": 2013
         },
         {
          "year_of_publication": 2013
         },
         {
          "year_of_publication": 2013
         },
         {
          "year_of_publication": 2013
         },
         {
          "year_of_publication": 2013
         },
         {
          "year_of_publication": 2013
         },
         {
          "year_of_publication": 2013
         },
         {
          "year_of_publication": 2013
         },
         {
          "year_of_publication": 2013
         },
         {
          "year_of_publication": 2013
         },
         {
          "year_of_publication": 2013
         },
         {
          "year_of_publication": 2013
         },
         {
          "year_of_publication": 2013
         },
         {
          "year_of_publication": 2013
         },
         {
          "year_of_publication": 2013
         },
         {
          "year_of_publication": 2013
         },
         {
          "year_of_publication": 2013
         },
         {
          "year_of_publication": 2013
         },
         {
          "year_of_publication": 2013
         },
         {
          "year_of_publication": 2013
         },
         {
          "year_of_publication": 2013
         },
         {
          "year_of_publication": 2013
         },
         {
          "year_of_publication": 2013
         },
         {
          "year_of_publication": 2013
         },
         {
          "year_of_publication": 2013
         },
         {
          "year_of_publication": 2013
         },
         {
          "year_of_publication": 2013
         },
         {
          "year_of_publication": 2013
         },
         {
          "year_of_publication": 2013
         },
         {
          "year_of_publication": 2013
         },
         {
          "year_of_publication": 2013
         },
         {
          "year_of_publication": 2013
         },
         {
          "year_of_publication": 2013
         },
         {
          "year_of_publication": 2013
         },
         {
          "year_of_publication": 2013
         },
         {
          "year_of_publication": 2013
         },
         {
          "year_of_publication": 2013
         },
         {
          "year_of_publication": 2013
         },
         {
          "year_of_publication": 2013
         },
         {
          "year_of_publication": 2013
         },
         {
          "year_of_publication": 2013
         },
         {
          "year_of_publication": 2013
         },
         {
          "year_of_publication": 2013
         },
         {
          "year_of_publication": 2013
         },
         {
          "year_of_publication": 2013
         },
         {
          "year_of_publication": 2013
         },
         {
          "year_of_publication": 2013
         },
         {
          "year_of_publication": 2013
         },
         {
          "year_of_publication": 2013
         },
         {
          "year_of_publication": 2013
         },
         {
          "year_of_publication": 2013
         },
         {
          "year_of_publication": 2013
         },
         {
          "year_of_publication": 2013
         },
         {
          "year_of_publication": 2013
         },
         {
          "year_of_publication": 2013
         },
         {
          "year_of_publication": 2013
         },
         {
          "year_of_publication": 2013
         },
         {
          "year_of_publication": 2013
         },
         {
          "year_of_publication": 2013
         },
         {
          "year_of_publication": 2013
         },
         {
          "year_of_publication": 2013
         },
         {
          "year_of_publication": 2013
         },
         {
          "year_of_publication": 2013
         },
         {
          "year_of_publication": 2013
         },
         {
          "year_of_publication": 2013
         },
         {
          "year_of_publication": 2013
         },
         {
          "year_of_publication": 2013
         },
         {
          "year_of_publication": 2013
         },
         {
          "year_of_publication": 2013
         },
         {
          "year_of_publication": 2013
         },
         {
          "year_of_publication": 2013
         },
         {
          "year_of_publication": 2013
         },
         {
          "year_of_publication": 2013
         },
         {
          "year_of_publication": 2013
         },
         {
          "year_of_publication": 2013
         },
         {
          "year_of_publication": 2013
         },
         {
          "year_of_publication": 2013
         },
         {
          "year_of_publication": 2013
         },
         {
          "year_of_publication": 2013
         },
         {
          "year_of_publication": 2013
         },
         {
          "year_of_publication": 2013
         },
         {
          "year_of_publication": 2013
         },
         {
          "year_of_publication": 2013
         },
         {
          "year_of_publication": 2013
         },
         {
          "year_of_publication": 2013
         },
         {
          "year_of_publication": 2013
         },
         {
          "year_of_publication": 2013
         },
         {
          "year_of_publication": 2013
         },
         {
          "year_of_publication": 2013
         },
         {
          "year_of_publication": 2013
         },
         {
          "year_of_publication": 2013
         },
         {
          "year_of_publication": 2013
         },
         {
          "year_of_publication": 2013
         },
         {
          "year_of_publication": 2013
         },
         {
          "year_of_publication": 2013
         },
         {
          "year_of_publication": 2013
         },
         {
          "year_of_publication": 2013
         },
         {
          "year_of_publication": 2013
         },
         {
          "year_of_publication": 2013
         },
         {
          "year_of_publication": 2013
         },
         {
          "year_of_publication": 2013
         },
         {
          "year_of_publication": 2013
         },
         {
          "year_of_publication": 2013
         },
         {
          "year_of_publication": 2013
         },
         {
          "year_of_publication": 2013
         },
         {
          "year_of_publication": 2013
         },
         {
          "year_of_publication": 2013
         },
         {
          "year_of_publication": 2013
         },
         {
          "year_of_publication": 2013
         },
         {
          "year_of_publication": 2013
         },
         {
          "year_of_publication": 2013
         },
         {
          "year_of_publication": 2013
         },
         {
          "year_of_publication": 2013
         },
         {
          "year_of_publication": 2013
         },
         {
          "year_of_publication": 2013
         },
         {
          "year_of_publication": 2013
         },
         {
          "year_of_publication": 2013
         },
         {
          "year_of_publication": 2013
         },
         {
          "year_of_publication": 2013
         },
         {
          "year_of_publication": 2013
         },
         {
          "year_of_publication": 2013
         },
         {
          "year_of_publication": 2013
         },
         {
          "year_of_publication": 2013
         },
         {
          "year_of_publication": 2013
         },
         {
          "year_of_publication": 2013
         },
         {
          "year_of_publication": 2013
         },
         {
          "year_of_publication": 2013
         },
         {
          "year_of_publication": 2013
         },
         {
          "year_of_publication": 2013
         },
         {
          "year_of_publication": 2013
         },
         {
          "year_of_publication": 2013
         },
         {
          "year_of_publication": 2013
         },
         {
          "year_of_publication": 2013
         },
         {
          "year_of_publication": 2013
         },
         {
          "year_of_publication": 2013
         },
         {
          "year_of_publication": 2013
         },
         {
          "year_of_publication": 2013
         },
         {
          "year_of_publication": 2013
         },
         {
          "year_of_publication": 2013
         },
         {
          "year_of_publication": 2013
         },
         {
          "year_of_publication": 2013
         },
         {
          "year_of_publication": 2013
         },
         {
          "year_of_publication": 2013
         },
         {
          "year_of_publication": 2013
         },
         {
          "year_of_publication": 2013
         },
         {
          "year_of_publication": 2013
         },
         {
          "year_of_publication": 2013
         },
         {
          "year_of_publication": 2013
         },
         {
          "year_of_publication": 2013
         },
         {
          "year_of_publication": 2013
         },
         {
          "year_of_publication": 2013
         },
         {
          "year_of_publication": 2013
         },
         {
          "year_of_publication": 2013
         },
         {
          "year_of_publication": 2013
         },
         {
          "year_of_publication": 2013
         },
         {
          "year_of_publication": 2013
         },
         {
          "year_of_publication": 2013
         },
         {
          "year_of_publication": 2013
         },
         {
          "year_of_publication": 2013
         },
         {
          "year_of_publication": 2013
         },
         {
          "year_of_publication": 2013
         },
         {
          "year_of_publication": 2013
         },
         {
          "year_of_publication": 2013
         },
         {
          "year_of_publication": 2013
         },
         {
          "year_of_publication": 2013
         },
         {
          "year_of_publication": 2013
         },
         {
          "year_of_publication": 2013
         },
         {
          "year_of_publication": 2013
         },
         {
          "year_of_publication": 2013
         },
         {
          "year_of_publication": 2013
         },
         {
          "year_of_publication": 2013
         },
         {
          "year_of_publication": 2013
         },
         {
          "year_of_publication": 2013
         },
         {
          "year_of_publication": 2013
         },
         {
          "year_of_publication": 2013
         },
         {
          "year_of_publication": 2013
         },
         {
          "year_of_publication": 2013
         },
         {
          "year_of_publication": 2013
         },
         {
          "year_of_publication": 2013
         },
         {
          "year_of_publication": 2013
         },
         {
          "year_of_publication": 2013
         },
         {
          "year_of_publication": 2013
         },
         {
          "year_of_publication": 2013
         },
         {
          "year_of_publication": 2013
         },
         {
          "year_of_publication": 2013
         },
         {
          "year_of_publication": 2013
         },
         {
          "year_of_publication": 2013
         },
         {
          "year_of_publication": 2013
         },
         {
          "year_of_publication": 2013
         },
         {
          "year_of_publication": 2013
         },
         {
          "year_of_publication": 2013
         },
         {
          "year_of_publication": 2013
         },
         {
          "year_of_publication": 2013
         },
         {
          "year_of_publication": 2013
         },
         {
          "year_of_publication": 2013
         },
         {
          "year_of_publication": 2013
         },
         {
          "year_of_publication": 2013
         },
         {
          "year_of_publication": 2013
         },
         {
          "year_of_publication": 2013
         },
         {
          "year_of_publication": 2013
         },
         {
          "year_of_publication": 2013
         },
         {
          "year_of_publication": 2013
         },
         {
          "year_of_publication": 2013
         },
         {
          "year_of_publication": 2013
         },
         {
          "year_of_publication": 2013
         },
         {
          "year_of_publication": 2013
         },
         {
          "year_of_publication": 2013
         },
         {
          "year_of_publication": 2013
         },
         {
          "year_of_publication": 2013
         },
         {
          "year_of_publication": 2013
         },
         {
          "year_of_publication": 2013
         },
         {
          "year_of_publication": 2013
         },
         {
          "year_of_publication": 2013
         },
         {
          "year_of_publication": 2013
         },
         {
          "year_of_publication": 2013
         },
         {
          "year_of_publication": 2013
         },
         {
          "year_of_publication": 2013
         },
         {
          "year_of_publication": 2013
         },
         {
          "year_of_publication": 2013
         },
         {
          "year_of_publication": 2013
         },
         {
          "year_of_publication": 2013
         },
         {
          "year_of_publication": 2013
         },
         {
          "year_of_publication": 2013
         },
         {
          "year_of_publication": 2013
         },
         {
          "year_of_publication": 2013
         },
         {
          "year_of_publication": 2013
         },
         {
          "year_of_publication": 2013
         },
         {
          "year_of_publication": 2013
         },
         {
          "year_of_publication": 2013
         },
         {
          "year_of_publication": 2013
         },
         {
          "year_of_publication": 2013
         },
         {
          "year_of_publication": 2013
         },
         {
          "year_of_publication": 2013
         },
         {
          "year_of_publication": 2013
         },
         {
          "year_of_publication": 2013
         },
         {
          "year_of_publication": 2013
         },
         {
          "year_of_publication": 2013
         },
         {
          "year_of_publication": 2013
         },
         {
          "year_of_publication": 2013
         },
         {
          "year_of_publication": 2013
         },
         {
          "year_of_publication": 2013
         },
         {
          "year_of_publication": 2013
         },
         {
          "year_of_publication": 2013
         },
         {
          "year_of_publication": 2013
         },
         {
          "year_of_publication": 2013
         },
         {
          "year_of_publication": 2013
         },
         {
          "year_of_publication": 2013
         },
         {
          "year_of_publication": 2013
         },
         {
          "year_of_publication": 2013
         },
         {
          "year_of_publication": 2013
         },
         {
          "year_of_publication": 2013
         },
         {
          "year_of_publication": 2013
         },
         {
          "year_of_publication": 2013
         },
         {
          "year_of_publication": 2013
         },
         {
          "year_of_publication": 2013
         },
         {
          "year_of_publication": 2013
         },
         {
          "year_of_publication": 2013
         },
         {
          "year_of_publication": 2013
         },
         {
          "year_of_publication": 2013
         },
         {
          "year_of_publication": 2013
         },
         {
          "year_of_publication": 2013
         },
         {
          "year_of_publication": 2013
         },
         {
          "year_of_publication": 2013
         },
         {
          "year_of_publication": 2013
         },
         {
          "year_of_publication": 2013
         },
         {
          "year_of_publication": 2013
         },
         {
          "year_of_publication": 2013
         },
         {
          "year_of_publication": 2013
         },
         {
          "year_of_publication": 2013
         },
         {
          "year_of_publication": 2013
         },
         {
          "year_of_publication": 2013
         },
         {
          "year_of_publication": 2013
         },
         {
          "year_of_publication": 2013
         },
         {
          "year_of_publication": 2013
         },
         {
          "year_of_publication": 2013
         },
         {
          "year_of_publication": 2013
         },
         {
          "year_of_publication": 2013
         },
         {
          "year_of_publication": 2013
         },
         {
          "year_of_publication": 2013
         },
         {
          "year_of_publication": 2013
         },
         {
          "year_of_publication": 2013
         },
         {
          "year_of_publication": 2013
         },
         {
          "year_of_publication": 2013
         },
         {
          "year_of_publication": 2013
         },
         {
          "year_of_publication": 2013
         },
         {
          "year_of_publication": 2013
         },
         {
          "year_of_publication": 2013
         },
         {
          "year_of_publication": 2013
         },
         {
          "year_of_publication": 2013
         },
         {
          "year_of_publication": 2013
         },
         {
          "year_of_publication": 2013
         },
         {
          "year_of_publication": 2013
         },
         {
          "year_of_publication": 2013
         },
         {
          "year_of_publication": 2013
         },
         {
          "year_of_publication": 2013
         },
         {
          "year_of_publication": 2013
         },
         {
          "year_of_publication": 2013
         },
         {
          "year_of_publication": 2013
         },
         {
          "year_of_publication": 2013
         },
         {
          "year_of_publication": 2013
         },
         {
          "year_of_publication": 2013
         },
         {
          "year_of_publication": 2013
         },
         {
          "year_of_publication": 2013
         },
         {
          "year_of_publication": 2013
         },
         {
          "year_of_publication": 2013
         },
         {
          "year_of_publication": 2013
         },
         {
          "year_of_publication": 2013
         },
         {
          "year_of_publication": 2013
         },
         {
          "year_of_publication": 2013
         },
         {
          "year_of_publication": 2013
         },
         {
          "year_of_publication": 2013
         },
         {
          "year_of_publication": 2013
         },
         {
          "year_of_publication": 2013
         },
         {
          "year_of_publication": 2013
         },
         {
          "year_of_publication": 2013
         },
         {
          "year_of_publication": 2013
         },
         {
          "year_of_publication": 2013
         },
         {
          "year_of_publication": 2013
         },
         {
          "year_of_publication": 2013
         },
         {
          "year_of_publication": 2013
         },
         {
          "year_of_publication": 2013
         },
         {
          "year_of_publication": 2013
         },
         {
          "year_of_publication": 2013
         },
         {
          "year_of_publication": 2013
         },
         {
          "year_of_publication": 2013
         },
         {
          "year_of_publication": 2013
         },
         {
          "year_of_publication": 2013
         },
         {
          "year_of_publication": 2013
         },
         {
          "year_of_publication": 2013
         },
         {
          "year_of_publication": 2013
         },
         {
          "year_of_publication": 2013
         },
         {
          "year_of_publication": 2013
         },
         {
          "year_of_publication": 2013
         },
         {
          "year_of_publication": 2013
         },
         {
          "year_of_publication": 2013
         },
         {
          "year_of_publication": 2013
         },
         {
          "year_of_publication": 2013
         },
         {
          "year_of_publication": 2013
         },
         {
          "year_of_publication": 2013
         },
         {
          "year_of_publication": 2013
         },
         {
          "year_of_publication": 2013
         },
         {
          "year_of_publication": 2013
         },
         {
          "year_of_publication": 2013
         },
         {
          "year_of_publication": 2013
         },
         {
          "year_of_publication": 2013
         },
         {
          "year_of_publication": 2013
         },
         {
          "year_of_publication": 2013
         },
         {
          "year_of_publication": 2013
         },
         {
          "year_of_publication": 2013
         },
         {
          "year_of_publication": 2013
         },
         {
          "year_of_publication": 2013
         },
         {
          "year_of_publication": 2013
         },
         {
          "year_of_publication": 2013
         },
         {
          "year_of_publication": 2013
         },
         {
          "year_of_publication": 2013
         },
         {
          "year_of_publication": 2013
         },
         {
          "year_of_publication": 2013
         },
         {
          "year_of_publication": 2013
         },
         {
          "year_of_publication": 2013
         },
         {
          "year_of_publication": 2013
         },
         {
          "year_of_publication": 2013
         },
         {
          "year_of_publication": 2013
         },
         {
          "year_of_publication": 2013
         },
         {
          "year_of_publication": 2013
         },
         {
          "year_of_publication": 2013
         },
         {
          "year_of_publication": 2013
         },
         {
          "year_of_publication": 2013
         },
         {
          "year_of_publication": 2013
         },
         {
          "year_of_publication": 2013
         },
         {
          "year_of_publication": 2013
         },
         {
          "year_of_publication": 2013
         },
         {
          "year_of_publication": 2013
         },
         {
          "year_of_publication": 2013
         },
         {
          "year_of_publication": 2013
         },
         {
          "year_of_publication": 2013
         },
         {
          "year_of_publication": 2013
         },
         {
          "year_of_publication": 2013
         },
         {
          "year_of_publication": 2013
         },
         {
          "year_of_publication": 2013
         },
         {
          "year_of_publication": 2013
         },
         {
          "year_of_publication": 2013
         },
         {
          "year_of_publication": 2013
         },
         {
          "year_of_publication": 2013
         },
         {
          "year_of_publication": 2013
         },
         {
          "year_of_publication": 2013
         },
         {
          "year_of_publication": 2013
         },
         {
          "year_of_publication": 2013
         },
         {
          "year_of_publication": 2013
         },
         {
          "year_of_publication": 2013
         },
         {
          "year_of_publication": 2013
         },
         {
          "year_of_publication": 2013
         },
         {
          "year_of_publication": 2013
         },
         {
          "year_of_publication": 2013
         },
         {
          "year_of_publication": 2013
         },
         {
          "year_of_publication": 2013
         },
         {
          "year_of_publication": 2013
         },
         {
          "year_of_publication": 2013
         },
         {
          "year_of_publication": 2013
         },
         {
          "year_of_publication": 2013
         },
         {
          "year_of_publication": 2013
         },
         {
          "year_of_publication": 2013
         },
         {
          "year_of_publication": 2013
         },
         {
          "year_of_publication": 2013
         },
         {
          "year_of_publication": 2013
         },
         {
          "year_of_publication": 2013
         },
         {
          "year_of_publication": 2013
         },
         {
          "year_of_publication": 2013
         },
         {
          "year_of_publication": 2013
         },
         {
          "year_of_publication": 2013
         },
         {
          "year_of_publication": 2013
         },
         {
          "year_of_publication": 2013
         },
         {
          "year_of_publication": 2013
         },
         {
          "year_of_publication": 2013
         },
         {
          "year_of_publication": 2013
         },
         {
          "year_of_publication": 2013
         },
         {
          "year_of_publication": 2013
         },
         {
          "year_of_publication": 2013
         },
         {
          "year_of_publication": 2013
         },
         {
          "year_of_publication": 2013
         },
         {
          "year_of_publication": 2013
         },
         {
          "year_of_publication": 2013
         },
         {
          "year_of_publication": 2013
         },
         {
          "year_of_publication": 2013
         },
         {
          "year_of_publication": 2013
         },
         {
          "year_of_publication": 2013
         },
         {
          "year_of_publication": 2013
         },
         {
          "year_of_publication": 2013
         },
         {
          "year_of_publication": 2013
         },
         {
          "year_of_publication": 2013
         },
         {
          "year_of_publication": 2013
         },
         {
          "year_of_publication": 2013
         },
         {
          "year_of_publication": 2013
         },
         {
          "year_of_publication": 2013
         },
         {
          "year_of_publication": 2013
         },
         {
          "year_of_publication": 2013
         },
         {
          "year_of_publication": 2013
         },
         {
          "year_of_publication": 2013
         },
         {
          "year_of_publication": 2013
         },
         {
          "year_of_publication": 2013
         },
         {
          "year_of_publication": 2013
         },
         {
          "year_of_publication": 2013
         },
         {
          "year_of_publication": 2013
         },
         {
          "year_of_publication": 2013
         },
         {
          "year_of_publication": 2013
         },
         {
          "year_of_publication": 2013
         },
         {
          "year_of_publication": 2013
         },
         {
          "year_of_publication": 2013
         },
         {
          "year_of_publication": 2013
         },
         {
          "year_of_publication": 2013
         },
         {
          "year_of_publication": 2013
         },
         {
          "year_of_publication": 2013
         },
         {
          "year_of_publication": 2013
         },
         {
          "year_of_publication": 2013
         },
         {
          "year_of_publication": 2013
         },
         {
          "year_of_publication": 2013
         },
         {
          "year_of_publication": 2013
         },
         {
          "year_of_publication": 2013
         },
         {
          "year_of_publication": 2013
         },
         {
          "year_of_publication": 2013
         },
         {
          "year_of_publication": 2013
         },
         {
          "year_of_publication": 2013
         },
         {
          "year_of_publication": 2013
         },
         {
          "year_of_publication": 2013
         },
         {
          "year_of_publication": 2013
         },
         {
          "year_of_publication": 2013
         },
         {
          "year_of_publication": 2013
         },
         {
          "year_of_publication": 2013
         },
         {
          "year_of_publication": 2013
         },
         {
          "year_of_publication": 2013
         },
         {
          "year_of_publication": 2013
         },
         {
          "year_of_publication": 2013
         },
         {
          "year_of_publication": 2013
         },
         {
          "year_of_publication": 2013
         },
         {
          "year_of_publication": 2013
         },
         {
          "year_of_publication": 2013
         },
         {
          "year_of_publication": 2013
         },
         {
          "year_of_publication": 2013
         },
         {
          "year_of_publication": 2013
         },
         {
          "year_of_publication": 2013
         },
         {
          "year_of_publication": 2013
         },
         {
          "year_of_publication": 2013
         },
         {
          "year_of_publication": 2013
         },
         {
          "year_of_publication": 2013
         },
         {
          "year_of_publication": 2013
         },
         {
          "year_of_publication": 2013
         },
         {
          "year_of_publication": 2013
         },
         {
          "year_of_publication": 2013
         },
         {
          "year_of_publication": 2013
         },
         {
          "year_of_publication": 2013
         },
         {
          "year_of_publication": 2013
         },
         {
          "year_of_publication": 2013
         },
         {
          "year_of_publication": 2013
         },
         {
          "year_of_publication": 2013
         },
         {
          "year_of_publication": 2013
         },
         {
          "year_of_publication": 2013
         },
         {
          "year_of_publication": 2013
         },
         {
          "year_of_publication": 2013
         },
         {
          "year_of_publication": 2013
         },
         {
          "year_of_publication": 2013
         },
         {
          "year_of_publication": 2013
         },
         {
          "year_of_publication": 2013
         },
         {
          "year_of_publication": 2013
         },
         {
          "year_of_publication": 2013
         },
         {
          "year_of_publication": 2013
         },
         {
          "year_of_publication": 2013
         },
         {
          "year_of_publication": 2013
         },
         {
          "year_of_publication": 2013
         },
         {
          "year_of_publication": 2013
         },
         {
          "year_of_publication": 2013
         },
         {
          "year_of_publication": 2013
         },
         {
          "year_of_publication": 2013
         },
         {
          "year_of_publication": 2013
         },
         {
          "year_of_publication": 2013
         },
         {
          "year_of_publication": 2013
         },
         {
          "year_of_publication": 2013
         },
         {
          "year_of_publication": 2013
         },
         {
          "year_of_publication": 2013
         },
         {
          "year_of_publication": 2013
         },
         {
          "year_of_publication": 2013
         },
         {
          "year_of_publication": 2013
         },
         {
          "year_of_publication": 2013
         },
         {
          "year_of_publication": 2013
         },
         {
          "year_of_publication": 2013
         },
         {
          "year_of_publication": 2013
         },
         {
          "year_of_publication": 2013
         },
         {
          "year_of_publication": 2013
         },
         {
          "year_of_publication": 2013
         },
         {
          "year_of_publication": 2013
         },
         {
          "year_of_publication": 2013
         },
         {
          "year_of_publication": 2013
         },
         {
          "year_of_publication": 2013
         },
         {
          "year_of_publication": 2013
         },
         {
          "year_of_publication": 2013
         },
         {
          "year_of_publication": 2013
         },
         {
          "year_of_publication": 2013
         },
         {
          "year_of_publication": 2013
         },
         {
          "year_of_publication": 2013
         },
         {
          "year_of_publication": 2013
         },
         {
          "year_of_publication": 2013
         },
         {
          "year_of_publication": 2013
         },
         {
          "year_of_publication": 2013
         },
         {
          "year_of_publication": 2013
         },
         {
          "year_of_publication": 2013
         },
         {
          "year_of_publication": 2013
         },
         {
          "year_of_publication": 2013
         },
         {
          "year_of_publication": 2013
         },
         {
          "year_of_publication": 2013
         },
         {
          "year_of_publication": 2013
         },
         {
          "year_of_publication": 2013
         },
         {
          "year_of_publication": 2013
         },
         {
          "year_of_publication": 2013
         },
         {
          "year_of_publication": 2013
         },
         {
          "year_of_publication": 2013
         },
         {
          "year_of_publication": 2013
         },
         {
          "year_of_publication": 2013
         },
         {
          "year_of_publication": 2013
         },
         {
          "year_of_publication": 2013
         },
         {
          "year_of_publication": 2013
         },
         {
          "year_of_publication": 2013
         },
         {
          "year_of_publication": 2013
         },
         {
          "year_of_publication": 2013
         },
         {
          "year_of_publication": 2013
         },
         {
          "year_of_publication": 2013
         },
         {
          "year_of_publication": 2013
         },
         {
          "year_of_publication": 2013
         },
         {
          "year_of_publication": 2013
         },
         {
          "year_of_publication": 2013
         },
         {
          "year_of_publication": 2013
         },
         {
          "year_of_publication": 2013
         },
         {
          "year_of_publication": 2013
         },
         {
          "year_of_publication": 2013
         },
         {
          "year_of_publication": 2013
         },
         {
          "year_of_publication": 2013
         },
         {
          "year_of_publication": 2013
         },
         {
          "year_of_publication": 2013
         },
         {
          "year_of_publication": 2013
         },
         {
          "year_of_publication": 2013
         },
         {
          "year_of_publication": 2013
         },
         {
          "year_of_publication": 2013
         },
         {
          "year_of_publication": 2013
         },
         {
          "year_of_publication": 2013
         },
         {
          "year_of_publication": 2013
         },
         {
          "year_of_publication": 2013
         },
         {
          "year_of_publication": 2013
         },
         {
          "year_of_publication": 2013
         },
         {
          "year_of_publication": 2013
         },
         {
          "year_of_publication": 2013
         },
         {
          "year_of_publication": 2013
         },
         {
          "year_of_publication": 2013
         },
         {
          "year_of_publication": 2013
         },
         {
          "year_of_publication": 2013
         },
         {
          "year_of_publication": 2013
         },
         {
          "year_of_publication": 2013
         },
         {
          "year_of_publication": 2013
         },
         {
          "year_of_publication": 2013
         },
         {
          "year_of_publication": 2013
         },
         {
          "year_of_publication": 2013
         },
         {
          "year_of_publication": 2013
         },
         {
          "year_of_publication": 2013
         },
         {
          "year_of_publication": 2013
         },
         {
          "year_of_publication": 2013
         },
         {
          "year_of_publication": 2013
         },
         {
          "year_of_publication": 2013
         },
         {
          "year_of_publication": 2013
         },
         {
          "year_of_publication": 2013
         },
         {
          "year_of_publication": 2013
         },
         {
          "year_of_publication": 2013
         },
         {
          "year_of_publication": 2013
         },
         {
          "year_of_publication": 2013
         },
         {
          "year_of_publication": 2013
         },
         {
          "year_of_publication": 2013
         },
         {
          "year_of_publication": 2013
         },
         {
          "year_of_publication": 2013
         },
         {
          "year_of_publication": 2013
         },
         {
          "year_of_publication": 2013
         },
         {
          "year_of_publication": 2013
         },
         {
          "year_of_publication": 2013
         },
         {
          "year_of_publication": 2013
         },
         {
          "year_of_publication": 2013
         },
         {
          "year_of_publication": 2013
         },
         {
          "year_of_publication": 2013
         },
         {
          "year_of_publication": 2013
         },
         {
          "year_of_publication": 2013
         },
         {
          "year_of_publication": 2013
         },
         {
          "year_of_publication": 2013
         },
         {
          "year_of_publication": 2013
         },
         {
          "year_of_publication": 2013
         },
         {
          "year_of_publication": 2013
         },
         {
          "year_of_publication": 2013
         },
         {
          "year_of_publication": 2013
         },
         {
          "year_of_publication": 2013
         },
         {
          "year_of_publication": 2013
         },
         {
          "year_of_publication": 2013
         },
         {
          "year_of_publication": 2013
         },
         {
          "year_of_publication": 2013
         },
         {
          "year_of_publication": 2013
         },
         {
          "year_of_publication": 2013
         },
         {
          "year_of_publication": 2013
         },
         {
          "year_of_publication": 2013
         },
         {
          "year_of_publication": 2013
         },
         {
          "year_of_publication": 2013
         },
         {
          "year_of_publication": 2013
         },
         {
          "year_of_publication": 2013
         },
         {
          "year_of_publication": 2013
         },
         {
          "year_of_publication": 2013
         },
         {
          "year_of_publication": 2013
         },
         {
          "year_of_publication": 2013
         },
         {
          "year_of_publication": 2013
         },
         {
          "year_of_publication": 2013
         },
         {
          "year_of_publication": 2013
         },
         {
          "year_of_publication": 2013
         },
         {
          "year_of_publication": 2013
         },
         {
          "year_of_publication": 2013
         },
         {
          "year_of_publication": 2013
         },
         {
          "year_of_publication": 2013
         },
         {
          "year_of_publication": 2013
         },
         {
          "year_of_publication": 2013
         },
         {
          "year_of_publication": 2013
         },
         {
          "year_of_publication": 2013
         },
         {
          "year_of_publication": 2013
         },
         {
          "year_of_publication": 2013
         },
         {
          "year_of_publication": 2013
         },
         {
          "year_of_publication": 2013
         },
         {
          "year_of_publication": 2013
         },
         {
          "year_of_publication": 2013
         },
         {
          "year_of_publication": 2013
         },
         {
          "year_of_publication": 2013
         },
         {
          "year_of_publication": 2013
         },
         {
          "year_of_publication": 2013
         },
         {
          "year_of_publication": 2013
         },
         {
          "year_of_publication": 2013
         },
         {
          "year_of_publication": 2013
         },
         {
          "year_of_publication": 2013
         },
         {
          "year_of_publication": 2013
         },
         {
          "year_of_publication": 2013
         },
         {
          "year_of_publication": 2013
         },
         {
          "year_of_publication": 2013
         },
         {
          "year_of_publication": 2013
         },
         {
          "year_of_publication": 2013
         },
         {
          "year_of_publication": 2013
         },
         {
          "year_of_publication": 2013
         },
         {
          "year_of_publication": 2013
         },
         {
          "year_of_publication": 2013
         },
         {
          "year_of_publication": 2013
         },
         {
          "year_of_publication": 2013
         },
         {
          "year_of_publication": 2013
         },
         {
          "year_of_publication": 2013
         },
         {
          "year_of_publication": 2013
         },
         {
          "year_of_publication": 2013
         },
         {
          "year_of_publication": 2013
         },
         {
          "year_of_publication": 2013
         },
         {
          "year_of_publication": 2013
         },
         {
          "year_of_publication": 2013
         },
         {
          "year_of_publication": 2013
         },
         {
          "year_of_publication": 2013
         },
         {
          "year_of_publication": 2013
         },
         {
          "year_of_publication": 2013
         },
         {
          "year_of_publication": 2013
         },
         {
          "year_of_publication": 2013
         },
         {
          "year_of_publication": 2013
         },
         {
          "year_of_publication": 2013
         },
         {
          "year_of_publication": 2013
         },
         {
          "year_of_publication": 2013
         },
         {
          "year_of_publication": 2013
         },
         {
          "year_of_publication": 2013
         },
         {
          "year_of_publication": 2013
         },
         {
          "year_of_publication": 2013
         },
         {
          "year_of_publication": 2013
         },
         {
          "year_of_publication": 2013
         },
         {
          "year_of_publication": 2013
         },
         {
          "year_of_publication": 2013
         },
         {
          "year_of_publication": 2013
         },
         {
          "year_of_publication": 2013
         },
         {
          "year_of_publication": 2013
         },
         {
          "year_of_publication": 2013
         },
         {
          "year_of_publication": 2013
         },
         {
          "year_of_publication": 2013
         },
         {
          "year_of_publication": 2013
         },
         {
          "year_of_publication": 2013
         },
         {
          "year_of_publication": 2013
         },
         {
          "year_of_publication": 2013
         },
         {
          "year_of_publication": 2013
         },
         {
          "year_of_publication": 2013
         },
         {
          "year_of_publication": 2013
         },
         {
          "year_of_publication": 2013
         },
         {
          "year_of_publication": 2013
         },
         {
          "year_of_publication": 2013
         },
         {
          "year_of_publication": 2013
         },
         {
          "year_of_publication": 2013
         },
         {
          "year_of_publication": 2013
         },
         {
          "year_of_publication": 2013
         },
         {
          "year_of_publication": 2013
         },
         {
          "year_of_publication": 2013
         },
         {
          "year_of_publication": 2013
         },
         {
          "year_of_publication": 2013
         },
         {
          "year_of_publication": 2013
         },
         {
          "year_of_publication": 2013
         },
         {
          "year_of_publication": 2013
         },
         {
          "year_of_publication": 2013
         },
         {
          "year_of_publication": 2013
         },
         {
          "year_of_publication": 2013
         },
         {
          "year_of_publication": 2013
         },
         {
          "year_of_publication": 2013
         },
         {
          "year_of_publication": 2013
         },
         {
          "year_of_publication": 2013
         },
         {
          "year_of_publication": 2013
         },
         {
          "year_of_publication": 2013
         },
         {
          "year_of_publication": 2013
         },
         {
          "year_of_publication": 2013
         },
         {
          "year_of_publication": 2013
         },
         {
          "year_of_publication": 2013
         },
         {
          "year_of_publication": 2013
         },
         {
          "year_of_publication": 2013
         },
         {
          "year_of_publication": 2013
         },
         {
          "year_of_publication": 2013
         },
         {
          "year_of_publication": 2013
         },
         {
          "year_of_publication": 2013
         },
         {
          "year_of_publication": 2013
         },
         {
          "year_of_publication": 2013
         },
         {
          "year_of_publication": 2013
         },
         {
          "year_of_publication": 2013
         },
         {
          "year_of_publication": 2013
         },
         {
          "year_of_publication": 2013
         },
         {
          "year_of_publication": 2013
         },
         {
          "year_of_publication": 2013
         },
         {
          "year_of_publication": 2013
         },
         {
          "year_of_publication": 2013
         },
         {
          "year_of_publication": 2013
         },
         {
          "year_of_publication": 2013
         },
         {
          "year_of_publication": 2013
         },
         {
          "year_of_publication": 2013
         },
         {
          "year_of_publication": 2013
         },
         {
          "year_of_publication": 2013
         },
         {
          "year_of_publication": 2013
         },
         {
          "year_of_publication": 2013
         },
         {
          "year_of_publication": 2013
         },
         {
          "year_of_publication": 2013
         },
         {
          "year_of_publication": 2013
         },
         {
          "year_of_publication": 2013
         },
         {
          "year_of_publication": 2013
         },
         {
          "year_of_publication": 2013
         },
         {
          "year_of_publication": 2013
         },
         {
          "year_of_publication": 2013
         },
         {
          "year_of_publication": 2013
         },
         {
          "year_of_publication": 2013
         },
         {
          "year_of_publication": 2013
         },
         {
          "year_of_publication": 2013
         },
         {
          "year_of_publication": 2013
         },
         {
          "year_of_publication": 2013
         },
         {
          "year_of_publication": 2013
         },
         {
          "year_of_publication": 2013
         },
         {
          "year_of_publication": 2013
         },
         {
          "year_of_publication": 2013
         },
         {
          "year_of_publication": 2013
         },
         {
          "year_of_publication": 2013
         },
         {
          "year_of_publication": 2013
         },
         {
          "year_of_publication": 2013
         },
         {
          "year_of_publication": 2013
         },
         {
          "year_of_publication": 2013
         },
         {
          "year_of_publication": 2013
         },
         {
          "year_of_publication": 2013
         },
         {
          "year_of_publication": 2013
         },
         {
          "year_of_publication": 2013
         },
         {
          "year_of_publication": 2013
         },
         {
          "year_of_publication": 2013
         },
         {
          "year_of_publication": 2012
         },
         {
          "year_of_publication": 2012
         },
         {
          "year_of_publication": 2012
         },
         {
          "year_of_publication": 2012
         },
         {
          "year_of_publication": 2012
         },
         {
          "year_of_publication": 2012
         },
         {
          "year_of_publication": 2012
         },
         {
          "year_of_publication": 2012
         },
         {
          "year_of_publication": 2012
         },
         {
          "year_of_publication": 2012
         },
         {
          "year_of_publication": 2012
         },
         {
          "year_of_publication": 2012
         },
         {
          "year_of_publication": 2012
         },
         {
          "year_of_publication": 2012
         },
         {
          "year_of_publication": 2012
         },
         {
          "year_of_publication": 2012
         },
         {
          "year_of_publication": 2012
         },
         {
          "year_of_publication": 2012
         },
         {
          "year_of_publication": 2012
         },
         {
          "year_of_publication": 2012
         },
         {
          "year_of_publication": 2012
         },
         {
          "year_of_publication": 2012
         },
         {
          "year_of_publication": 2012
         },
         {
          "year_of_publication": 2012
         },
         {
          "year_of_publication": 2012
         },
         {
          "year_of_publication": 2012
         },
         {
          "year_of_publication": 2012
         },
         {
          "year_of_publication": 2012
         },
         {
          "year_of_publication": 2012
         },
         {
          "year_of_publication": 2012
         },
         {
          "year_of_publication": 2012
         },
         {
          "year_of_publication": 2012
         },
         {
          "year_of_publication": 2012
         },
         {
          "year_of_publication": 2012
         },
         {
          "year_of_publication": 2012
         },
         {
          "year_of_publication": 2012
         },
         {
          "year_of_publication": 2012
         },
         {
          "year_of_publication": 2012
         },
         {
          "year_of_publication": 2012
         },
         {
          "year_of_publication": 2012
         },
         {
          "year_of_publication": 2012
         },
         {
          "year_of_publication": 2012
         },
         {
          "year_of_publication": 2012
         },
         {
          "year_of_publication": 2012
         },
         {
          "year_of_publication": 2012
         },
         {
          "year_of_publication": 2012
         },
         {
          "year_of_publication": 2012
         },
         {
          "year_of_publication": 2012
         },
         {
          "year_of_publication": 2012
         },
         {
          "year_of_publication": 2012
         },
         {
          "year_of_publication": 2012
         },
         {
          "year_of_publication": 2012
         },
         {
          "year_of_publication": 2012
         },
         {
          "year_of_publication": 2012
         },
         {
          "year_of_publication": 2012
         },
         {
          "year_of_publication": 2012
         },
         {
          "year_of_publication": 2012
         },
         {
          "year_of_publication": 2012
         },
         {
          "year_of_publication": 2012
         },
         {
          "year_of_publication": 2012
         },
         {
          "year_of_publication": 2012
         },
         {
          "year_of_publication": 2012
         },
         {
          "year_of_publication": 2012
         },
         {
          "year_of_publication": 2012
         },
         {
          "year_of_publication": 2012
         },
         {
          "year_of_publication": 2012
         },
         {
          "year_of_publication": 2012
         },
         {
          "year_of_publication": 2012
         },
         {
          "year_of_publication": 2012
         },
         {
          "year_of_publication": 2012
         },
         {
          "year_of_publication": 2012
         },
         {
          "year_of_publication": 2012
         },
         {
          "year_of_publication": 2012
         },
         {
          "year_of_publication": 2012
         },
         {
          "year_of_publication": 2012
         },
         {
          "year_of_publication": 2012
         },
         {
          "year_of_publication": 2012
         },
         {
          "year_of_publication": 2012
         },
         {
          "year_of_publication": 2012
         },
         {
          "year_of_publication": 2012
         },
         {
          "year_of_publication": 2012
         },
         {
          "year_of_publication": 2012
         },
         {
          "year_of_publication": 2012
         },
         {
          "year_of_publication": 2012
         },
         {
          "year_of_publication": 2012
         },
         {
          "year_of_publication": 2012
         },
         {
          "year_of_publication": 2012
         },
         {
          "year_of_publication": 2012
         },
         {
          "year_of_publication": 2012
         },
         {
          "year_of_publication": 2012
         },
         {
          "year_of_publication": 2012
         },
         {
          "year_of_publication": 2012
         },
         {
          "year_of_publication": 2012
         },
         {
          "year_of_publication": 2012
         },
         {
          "year_of_publication": 2012
         },
         {
          "year_of_publication": 2012
         },
         {
          "year_of_publication": 2012
         },
         {
          "year_of_publication": 2012
         },
         {
          "year_of_publication": 2012
         },
         {
          "year_of_publication": 2012
         },
         {
          "year_of_publication": 2012
         },
         {
          "year_of_publication": 2012
         },
         {
          "year_of_publication": 2012
         },
         {
          "year_of_publication": 2012
         },
         {
          "year_of_publication": 2012
         },
         {
          "year_of_publication": 2012
         },
         {
          "year_of_publication": 2012
         },
         {
          "year_of_publication": 2012
         },
         {
          "year_of_publication": 2012
         },
         {
          "year_of_publication": 2012
         },
         {
          "year_of_publication": 2012
         },
         {
          "year_of_publication": 2012
         },
         {
          "year_of_publication": 2012
         },
         {
          "year_of_publication": 2012
         },
         {
          "year_of_publication": 2012
         },
         {
          "year_of_publication": 2012
         },
         {
          "year_of_publication": 2012
         },
         {
          "year_of_publication": 2012
         },
         {
          "year_of_publication": 2012
         },
         {
          "year_of_publication": 2012
         },
         {
          "year_of_publication": 2012
         },
         {
          "year_of_publication": 2012
         },
         {
          "year_of_publication": 2012
         },
         {
          "year_of_publication": 2012
         },
         {
          "year_of_publication": 2012
         },
         {
          "year_of_publication": 2012
         },
         {
          "year_of_publication": 2012
         },
         {
          "year_of_publication": 2012
         },
         {
          "year_of_publication": 2012
         },
         {
          "year_of_publication": 2012
         },
         {
          "year_of_publication": 2012
         },
         {
          "year_of_publication": 2012
         },
         {
          "year_of_publication": 2012
         },
         {
          "year_of_publication": 2012
         },
         {
          "year_of_publication": 2012
         },
         {
          "year_of_publication": 2012
         },
         {
          "year_of_publication": 2012
         },
         {
          "year_of_publication": 2012
         },
         {
          "year_of_publication": 2012
         },
         {
          "year_of_publication": 2012
         },
         {
          "year_of_publication": 2012
         },
         {
          "year_of_publication": 2012
         },
         {
          "year_of_publication": 2012
         },
         {
          "year_of_publication": 2012
         },
         {
          "year_of_publication": 2012
         },
         {
          "year_of_publication": 2012
         },
         {
          "year_of_publication": 2012
         },
         {
          "year_of_publication": 2012
         },
         {
          "year_of_publication": 2012
         },
         {
          "year_of_publication": 2012
         },
         {
          "year_of_publication": 2012
         },
         {
          "year_of_publication": 2012
         },
         {
          "year_of_publication": 2012
         },
         {
          "year_of_publication": 2012
         },
         {
          "year_of_publication": 2012
         },
         {
          "year_of_publication": 2012
         },
         {
          "year_of_publication": 2012
         },
         {
          "year_of_publication": 2012
         },
         {
          "year_of_publication": 2012
         },
         {
          "year_of_publication": 2012
         },
         {
          "year_of_publication": 2012
         },
         {
          "year_of_publication": 2012
         },
         {
          "year_of_publication": 2012
         },
         {
          "year_of_publication": 2012
         },
         {
          "year_of_publication": 2012
         },
         {
          "year_of_publication": 2012
         },
         {
          "year_of_publication": 2012
         },
         {
          "year_of_publication": 2012
         },
         {
          "year_of_publication": 2012
         },
         {
          "year_of_publication": 2012
         },
         {
          "year_of_publication": 2012
         },
         {
          "year_of_publication": 2012
         },
         {
          "year_of_publication": 2012
         },
         {
          "year_of_publication": 2012
         },
         {
          "year_of_publication": 2012
         },
         {
          "year_of_publication": 2012
         },
         {
          "year_of_publication": 2012
         },
         {
          "year_of_publication": 2012
         },
         {
          "year_of_publication": 2012
         },
         {
          "year_of_publication": 2012
         },
         {
          "year_of_publication": 2012
         },
         {
          "year_of_publication": 2012
         },
         {
          "year_of_publication": 2012
         },
         {
          "year_of_publication": 2012
         },
         {
          "year_of_publication": 2012
         },
         {
          "year_of_publication": 2012
         },
         {
          "year_of_publication": 2012
         },
         {
          "year_of_publication": 2012
         },
         {
          "year_of_publication": 2012
         },
         {
          "year_of_publication": 2012
         },
         {
          "year_of_publication": 2012
         },
         {
          "year_of_publication": 2012
         },
         {
          "year_of_publication": 2012
         },
         {
          "year_of_publication": 2012
         },
         {
          "year_of_publication": 2012
         },
         {
          "year_of_publication": 2012
         },
         {
          "year_of_publication": 2012
         },
         {
          "year_of_publication": 2012
         },
         {
          "year_of_publication": 2012
         },
         {
          "year_of_publication": 2012
         },
         {
          "year_of_publication": 2012
         },
         {
          "year_of_publication": 2012
         },
         {
          "year_of_publication": 2012
         },
         {
          "year_of_publication": 2012
         },
         {
          "year_of_publication": 2012
         },
         {
          "year_of_publication": 2012
         },
         {
          "year_of_publication": 2012
         },
         {
          "year_of_publication": 2012
         },
         {
          "year_of_publication": 2012
         },
         {
          "year_of_publication": 2012
         },
         {
          "year_of_publication": 2012
         },
         {
          "year_of_publication": 2012
         },
         {
          "year_of_publication": 2012
         },
         {
          "year_of_publication": 2012
         },
         {
          "year_of_publication": 2012
         },
         {
          "year_of_publication": 2012
         },
         {
          "year_of_publication": 2012
         },
         {
          "year_of_publication": 2012
         },
         {
          "year_of_publication": 2012
         },
         {
          "year_of_publication": 2012
         },
         {
          "year_of_publication": 2012
         },
         {
          "year_of_publication": 2012
         },
         {
          "year_of_publication": 2012
         },
         {
          "year_of_publication": 2012
         },
         {
          "year_of_publication": 2012
         },
         {
          "year_of_publication": 2012
         },
         {
          "year_of_publication": 2012
         },
         {
          "year_of_publication": 2012
         },
         {
          "year_of_publication": 2012
         },
         {
          "year_of_publication": 2012
         },
         {
          "year_of_publication": 2012
         },
         {
          "year_of_publication": 2012
         },
         {
          "year_of_publication": 2012
         },
         {
          "year_of_publication": 2012
         },
         {
          "year_of_publication": 2012
         },
         {
          "year_of_publication": 2012
         },
         {
          "year_of_publication": 2012
         },
         {
          "year_of_publication": 2012
         },
         {
          "year_of_publication": 2012
         },
         {
          "year_of_publication": 2012
         },
         {
          "year_of_publication": 2012
         },
         {
          "year_of_publication": 2012
         },
         {
          "year_of_publication": 2012
         },
         {
          "year_of_publication": 2012
         },
         {
          "year_of_publication": 2012
         },
         {
          "year_of_publication": 2012
         },
         {
          "year_of_publication": 2012
         },
         {
          "year_of_publication": 2012
         },
         {
          "year_of_publication": 2012
         },
         {
          "year_of_publication": 2012
         },
         {
          "year_of_publication": 2012
         },
         {
          "year_of_publication": 2012
         },
         {
          "year_of_publication": 2012
         },
         {
          "year_of_publication": 2012
         },
         {
          "year_of_publication": 2012
         },
         {
          "year_of_publication": 2012
         },
         {
          "year_of_publication": 2012
         },
         {
          "year_of_publication": 2012
         },
         {
          "year_of_publication": 2012
         },
         {
          "year_of_publication": 2012
         },
         {
          "year_of_publication": 2012
         },
         {
          "year_of_publication": 2012
         },
         {
          "year_of_publication": 2012
         },
         {
          "year_of_publication": 2012
         },
         {
          "year_of_publication": 2012
         },
         {
          "year_of_publication": 2012
         },
         {
          "year_of_publication": 2012
         },
         {
          "year_of_publication": 2012
         },
         {
          "year_of_publication": 2012
         },
         {
          "year_of_publication": 2012
         },
         {
          "year_of_publication": 2012
         },
         {
          "year_of_publication": 2012
         },
         {
          "year_of_publication": 2012
         },
         {
          "year_of_publication": 2012
         },
         {
          "year_of_publication": 2012
         },
         {
          "year_of_publication": 2012
         },
         {
          "year_of_publication": 2012
         },
         {
          "year_of_publication": 2012
         },
         {
          "year_of_publication": 2012
         },
         {
          "year_of_publication": 2012
         },
         {
          "year_of_publication": 2012
         },
         {
          "year_of_publication": 2012
         },
         {
          "year_of_publication": 2012
         },
         {
          "year_of_publication": 2012
         },
         {
          "year_of_publication": 2012
         },
         {
          "year_of_publication": 2012
         },
         {
          "year_of_publication": 2012
         },
         {
          "year_of_publication": 2012
         },
         {
          "year_of_publication": 2012
         },
         {
          "year_of_publication": 2012
         },
         {
          "year_of_publication": 2012
         },
         {
          "year_of_publication": 2012
         },
         {
          "year_of_publication": 2012
         },
         {
          "year_of_publication": 2012
         },
         {
          "year_of_publication": 2012
         },
         {
          "year_of_publication": 2012
         },
         {
          "year_of_publication": 2012
         },
         {
          "year_of_publication": 2012
         },
         {
          "year_of_publication": 2012
         },
         {
          "year_of_publication": 2012
         },
         {
          "year_of_publication": 2012
         },
         {
          "year_of_publication": 2012
         },
         {
          "year_of_publication": 2012
         },
         {
          "year_of_publication": 2012
         },
         {
          "year_of_publication": 2012
         },
         {
          "year_of_publication": 2012
         },
         {
          "year_of_publication": 2012
         },
         {
          "year_of_publication": 2012
         },
         {
          "year_of_publication": 2012
         },
         {
          "year_of_publication": 2012
         },
         {
          "year_of_publication": 2012
         },
         {
          "year_of_publication": 2012
         },
         {
          "year_of_publication": 2012
         },
         {
          "year_of_publication": 2012
         },
         {
          "year_of_publication": 2012
         },
         {
          "year_of_publication": 2012
         },
         {
          "year_of_publication": 2012
         },
         {
          "year_of_publication": 2012
         },
         {
          "year_of_publication": 2012
         },
         {
          "year_of_publication": 2012
         },
         {
          "year_of_publication": 2012
         },
         {
          "year_of_publication": 2012
         },
         {
          "year_of_publication": 2012
         },
         {
          "year_of_publication": 2012
         },
         {
          "year_of_publication": 2012
         },
         {
          "year_of_publication": 2012
         },
         {
          "year_of_publication": 2012
         },
         {
          "year_of_publication": 2012
         },
         {
          "year_of_publication": 2012
         },
         {
          "year_of_publication": 2012
         },
         {
          "year_of_publication": 2012
         },
         {
          "year_of_publication": 2012
         },
         {
          "year_of_publication": 2012
         },
         {
          "year_of_publication": 2012
         },
         {
          "year_of_publication": 2012
         },
         {
          "year_of_publication": 2012
         },
         {
          "year_of_publication": 2012
         },
         {
          "year_of_publication": 2012
         },
         {
          "year_of_publication": 2012
         },
         {
          "year_of_publication": 2012
         },
         {
          "year_of_publication": 2012
         },
         {
          "year_of_publication": 2012
         },
         {
          "year_of_publication": 2012
         },
         {
          "year_of_publication": 2012
         },
         {
          "year_of_publication": 2012
         },
         {
          "year_of_publication": 2012
         },
         {
          "year_of_publication": 2012
         },
         {
          "year_of_publication": 2012
         },
         {
          "year_of_publication": 2012
         },
         {
          "year_of_publication": 2012
         },
         {
          "year_of_publication": 2012
         },
         {
          "year_of_publication": 2012
         },
         {
          "year_of_publication": 2012
         },
         {
          "year_of_publication": 2012
         },
         {
          "year_of_publication": 2012
         },
         {
          "year_of_publication": 2012
         },
         {
          "year_of_publication": 2012
         },
         {
          "year_of_publication": 2012
         },
         {
          "year_of_publication": 2012
         },
         {
          "year_of_publication": 2012
         },
         {
          "year_of_publication": 2012
         },
         {
          "year_of_publication": 2012
         },
         {
          "year_of_publication": 2012
         },
         {
          "year_of_publication": 2012
         },
         {
          "year_of_publication": 2012
         },
         {
          "year_of_publication": 2012
         },
         {
          "year_of_publication": 2012
         },
         {
          "year_of_publication": 2012
         },
         {
          "year_of_publication": 2012
         },
         {
          "year_of_publication": 2012
         },
         {
          "year_of_publication": 2012
         },
         {
          "year_of_publication": 2012
         },
         {
          "year_of_publication": 2012
         },
         {
          "year_of_publication": 2012
         },
         {
          "year_of_publication": 2012
         },
         {
          "year_of_publication": 2012
         },
         {
          "year_of_publication": 2012
         },
         {
          "year_of_publication": 2012
         },
         {
          "year_of_publication": 2012
         },
         {
          "year_of_publication": 2012
         },
         {
          "year_of_publication": 2012
         },
         {
          "year_of_publication": 2012
         },
         {
          "year_of_publication": 2012
         },
         {
          "year_of_publication": 2012
         },
         {
          "year_of_publication": 2012
         },
         {
          "year_of_publication": 2012
         },
         {
          "year_of_publication": 2012
         },
         {
          "year_of_publication": 2012
         },
         {
          "year_of_publication": 2012
         },
         {
          "year_of_publication": 2012
         },
         {
          "year_of_publication": 2012
         },
         {
          "year_of_publication": 2012
         },
         {
          "year_of_publication": 2012
         },
         {
          "year_of_publication": 2012
         },
         {
          "year_of_publication": 2012
         },
         {
          "year_of_publication": 2012
         },
         {
          "year_of_publication": 2012
         },
         {
          "year_of_publication": 2012
         },
         {
          "year_of_publication": 2012
         },
         {
          "year_of_publication": 2012
         },
         {
          "year_of_publication": 2012
         },
         {
          "year_of_publication": 2012
         },
         {
          "year_of_publication": 2012
         },
         {
          "year_of_publication": 2012
         },
         {
          "year_of_publication": 2012
         },
         {
          "year_of_publication": 2012
         },
         {
          "year_of_publication": 2012
         },
         {
          "year_of_publication": 2012
         },
         {
          "year_of_publication": 2012
         },
         {
          "year_of_publication": 2012
         },
         {
          "year_of_publication": 2012
         },
         {
          "year_of_publication": 2012
         },
         {
          "year_of_publication": 2012
         },
         {
          "year_of_publication": 2012
         },
         {
          "year_of_publication": 2012
         },
         {
          "year_of_publication": 2012
         },
         {
          "year_of_publication": 2012
         },
         {
          "year_of_publication": 2012
         },
         {
          "year_of_publication": 2012
         },
         {
          "year_of_publication": 2012
         },
         {
          "year_of_publication": 2012
         },
         {
          "year_of_publication": 2012
         },
         {
          "year_of_publication": 2012
         },
         {
          "year_of_publication": 2012
         },
         {
          "year_of_publication": 2012
         },
         {
          "year_of_publication": 2012
         },
         {
          "year_of_publication": 2012
         },
         {
          "year_of_publication": 2012
         },
         {
          "year_of_publication": 2012
         },
         {
          "year_of_publication": 2012
         },
         {
          "year_of_publication": 2012
         },
         {
          "year_of_publication": 2012
         },
         {
          "year_of_publication": 2012
         },
         {
          "year_of_publication": 2012
         },
         {
          "year_of_publication": 2012
         },
         {
          "year_of_publication": 2012
         },
         {
          "year_of_publication": 2012
         },
         {
          "year_of_publication": 2012
         },
         {
          "year_of_publication": 2012
         },
         {
          "year_of_publication": 2012
         },
         {
          "year_of_publication": 2012
         },
         {
          "year_of_publication": 2012
         },
         {
          "year_of_publication": 2012
         },
         {
          "year_of_publication": 2012
         },
         {
          "year_of_publication": 2012
         },
         {
          "year_of_publication": 2012
         },
         {
          "year_of_publication": 2012
         },
         {
          "year_of_publication": 2012
         },
         {
          "year_of_publication": 2012
         },
         {
          "year_of_publication": 2012
         },
         {
          "year_of_publication": 2012
         },
         {
          "year_of_publication": 2012
         },
         {
          "year_of_publication": 2012
         },
         {
          "year_of_publication": 2012
         },
         {
          "year_of_publication": 2012
         },
         {
          "year_of_publication": 2012
         },
         {
          "year_of_publication": 2012
         },
         {
          "year_of_publication": 2012
         },
         {
          "year_of_publication": 2012
         },
         {
          "year_of_publication": 2012
         },
         {
          "year_of_publication": 2012
         },
         {
          "year_of_publication": 2012
         },
         {
          "year_of_publication": 2012
         },
         {
          "year_of_publication": 2012
         },
         {
          "year_of_publication": 2012
         },
         {
          "year_of_publication": 2012
         },
         {
          "year_of_publication": 2012
         },
         {
          "year_of_publication": 2012
         },
         {
          "year_of_publication": 2012
         },
         {
          "year_of_publication": 2012
         },
         {
          "year_of_publication": 2012
         },
         {
          "year_of_publication": 2012
         },
         {
          "year_of_publication": 2012
         },
         {
          "year_of_publication": 2012
         },
         {
          "year_of_publication": 2012
         },
         {
          "year_of_publication": 2012
         },
         {
          "year_of_publication": 2012
         },
         {
          "year_of_publication": 2012
         },
         {
          "year_of_publication": 2012
         },
         {
          "year_of_publication": 2012
         },
         {
          "year_of_publication": 2012
         },
         {
          "year_of_publication": 2012
         },
         {
          "year_of_publication": 2012
         },
         {
          "year_of_publication": 2012
         },
         {
          "year_of_publication": 2012
         },
         {
          "year_of_publication": 2012
         },
         {
          "year_of_publication": 2012
         },
         {
          "year_of_publication": 2012
         },
         {
          "year_of_publication": 2012
         },
         {
          "year_of_publication": 2012
         },
         {
          "year_of_publication": 2012
         },
         {
          "year_of_publication": 2012
         },
         {
          "year_of_publication": 2012
         },
         {
          "year_of_publication": 2012
         },
         {
          "year_of_publication": 2012
         },
         {
          "year_of_publication": 2012
         },
         {
          "year_of_publication": 2012
         },
         {
          "year_of_publication": 2012
         },
         {
          "year_of_publication": 2012
         },
         {
          "year_of_publication": 2012
         },
         {
          "year_of_publication": 2012
         },
         {
          "year_of_publication": 2012
         },
         {
          "year_of_publication": 2012
         },
         {
          "year_of_publication": 2012
         },
         {
          "year_of_publication": 2012
         },
         {
          "year_of_publication": 2012
         },
         {
          "year_of_publication": 2012
         },
         {
          "year_of_publication": 2012
         },
         {
          "year_of_publication": 2012
         },
         {
          "year_of_publication": 2012
         },
         {
          "year_of_publication": 2012
         },
         {
          "year_of_publication": 2012
         },
         {
          "year_of_publication": 2012
         },
         {
          "year_of_publication": 2012
         },
         {
          "year_of_publication": 2012
         },
         {
          "year_of_publication": 2012
         },
         {
          "year_of_publication": 2012
         },
         {
          "year_of_publication": 2012
         },
         {
          "year_of_publication": 2012
         },
         {
          "year_of_publication": 2012
         },
         {
          "year_of_publication": 2012
         },
         {
          "year_of_publication": 2012
         },
         {
          "year_of_publication": 2012
         },
         {
          "year_of_publication": 2012
         },
         {
          "year_of_publication": 2012
         },
         {
          "year_of_publication": 2012
         },
         {
          "year_of_publication": 2012
         },
         {
          "year_of_publication": 2012
         },
         {
          "year_of_publication": 2012
         },
         {
          "year_of_publication": 2012
         },
         {
          "year_of_publication": 2012
         },
         {
          "year_of_publication": 2012
         },
         {
          "year_of_publication": 2012
         },
         {
          "year_of_publication": 2012
         },
         {
          "year_of_publication": 2012
         },
         {
          "year_of_publication": 2012
         },
         {
          "year_of_publication": 2012
         },
         {
          "year_of_publication": 2012
         },
         {
          "year_of_publication": 2012
         },
         {
          "year_of_publication": 2012
         },
         {
          "year_of_publication": 2012
         },
         {
          "year_of_publication": 2012
         },
         {
          "year_of_publication": 2012
         },
         {
          "year_of_publication": 2012
         },
         {
          "year_of_publication": 2012
         },
         {
          "year_of_publication": 2012
         },
         {
          "year_of_publication": 2012
         },
         {
          "year_of_publication": 2012
         },
         {
          "year_of_publication": 2012
         },
         {
          "year_of_publication": 2012
         },
         {
          "year_of_publication": 2012
         },
         {
          "year_of_publication": 2012
         },
         {
          "year_of_publication": 2012
         },
         {
          "year_of_publication": 2012
         },
         {
          "year_of_publication": 2012
         },
         {
          "year_of_publication": 2012
         },
         {
          "year_of_publication": 2012
         },
         {
          "year_of_publication": 2012
         },
         {
          "year_of_publication": 2012
         },
         {
          "year_of_publication": 2012
         },
         {
          "year_of_publication": 2012
         },
         {
          "year_of_publication": 2012
         },
         {
          "year_of_publication": 2012
         },
         {
          "year_of_publication": 2012
         },
         {
          "year_of_publication": 2012
         },
         {
          "year_of_publication": 2012
         },
         {
          "year_of_publication": 2012
         },
         {
          "year_of_publication": 2012
         },
         {
          "year_of_publication": 2012
         },
         {
          "year_of_publication": 2012
         },
         {
          "year_of_publication": 2012
         },
         {
          "year_of_publication": 2012
         },
         {
          "year_of_publication": 2012
         },
         {
          "year_of_publication": 2012
         },
         {
          "year_of_publication": 2012
         },
         {
          "year_of_publication": 2012
         },
         {
          "year_of_publication": 2012
         },
         {
          "year_of_publication": 2012
         },
         {
          "year_of_publication": 2012
         },
         {
          "year_of_publication": 2012
         },
         {
          "year_of_publication": 2012
         },
         {
          "year_of_publication": 2012
         },
         {
          "year_of_publication": 2012
         },
         {
          "year_of_publication": 2012
         },
         {
          "year_of_publication": 2012
         },
         {
          "year_of_publication": 2012
         },
         {
          "year_of_publication": 2012
         },
         {
          "year_of_publication": 2012
         },
         {
          "year_of_publication": 2012
         },
         {
          "year_of_publication": 2012
         },
         {
          "year_of_publication": 2012
         },
         {
          "year_of_publication": 2012
         },
         {
          "year_of_publication": 2012
         },
         {
          "year_of_publication": 2012
         },
         {
          "year_of_publication": 2012
         },
         {
          "year_of_publication": 2012
         },
         {
          "year_of_publication": 2012
         },
         {
          "year_of_publication": 2012
         },
         {
          "year_of_publication": 2012
         },
         {
          "year_of_publication": 2012
         },
         {
          "year_of_publication": 2012
         },
         {
          "year_of_publication": 2012
         },
         {
          "year_of_publication": 2012
         },
         {
          "year_of_publication": 2012
         },
         {
          "year_of_publication": 2012
         },
         {
          "year_of_publication": 2012
         },
         {
          "year_of_publication": 2012
         },
         {
          "year_of_publication": 2012
         },
         {
          "year_of_publication": 2012
         },
         {
          "year_of_publication": 2012
         },
         {
          "year_of_publication": 2012
         },
         {
          "year_of_publication": 2012
         },
         {
          "year_of_publication": 2012
         },
         {
          "year_of_publication": 2012
         },
         {
          "year_of_publication": 2012
         },
         {
          "year_of_publication": 2012
         },
         {
          "year_of_publication": 2012
         },
         {
          "year_of_publication": 2012
         },
         {
          "year_of_publication": 2012
         },
         {
          "year_of_publication": 2012
         },
         {
          "year_of_publication": 2012
         },
         {
          "year_of_publication": 2012
         },
         {
          "year_of_publication": 2012
         },
         {
          "year_of_publication": 2012
         },
         {
          "year_of_publication": 2012
         },
         {
          "year_of_publication": 2012
         },
         {
          "year_of_publication": 2012
         },
         {
          "year_of_publication": 2012
         },
         {
          "year_of_publication": 2012
         },
         {
          "year_of_publication": 2012
         },
         {
          "year_of_publication": 2012
         },
         {
          "year_of_publication": 2012
         },
         {
          "year_of_publication": 2012
         },
         {
          "year_of_publication": 2012
         },
         {
          "year_of_publication": 2012
         },
         {
          "year_of_publication": 2012
         },
         {
          "year_of_publication": 2012
         },
         {
          "year_of_publication": 2012
         },
         {
          "year_of_publication": 2012
         },
         {
          "year_of_publication": 2012
         },
         {
          "year_of_publication": 2012
         },
         {
          "year_of_publication": 2012
         },
         {
          "year_of_publication": 2012
         },
         {
          "year_of_publication": 2012
         },
         {
          "year_of_publication": 2012
         },
         {
          "year_of_publication": 2012
         },
         {
          "year_of_publication": 2012
         },
         {
          "year_of_publication": 2012
         },
         {
          "year_of_publication": 2012
         },
         {
          "year_of_publication": 2012
         },
         {
          "year_of_publication": 2012
         },
         {
          "year_of_publication": 2012
         },
         {
          "year_of_publication": 2012
         },
         {
          "year_of_publication": 2012
         },
         {
          "year_of_publication": 2012
         },
         {
          "year_of_publication": 2012
         },
         {
          "year_of_publication": 2012
         },
         {
          "year_of_publication": 2012
         },
         {
          "year_of_publication": 2012
         },
         {
          "year_of_publication": 2012
         },
         {
          "year_of_publication": 2012
         },
         {
          "year_of_publication": 2012
         },
         {
          "year_of_publication": 2012
         },
         {
          "year_of_publication": 2012
         },
         {
          "year_of_publication": 2012
         },
         {
          "year_of_publication": 2012
         },
         {
          "year_of_publication": 2012
         },
         {
          "year_of_publication": 2012
         },
         {
          "year_of_publication": 2012
         },
         {
          "year_of_publication": 2012
         },
         {
          "year_of_publication": 2012
         },
         {
          "year_of_publication": 2012
         },
         {
          "year_of_publication": 2012
         },
         {
          "year_of_publication": 2012
         },
         {
          "year_of_publication": 2012
         },
         {
          "year_of_publication": 2012
         },
         {
          "year_of_publication": 2012
         },
         {
          "year_of_publication": 2012
         },
         {
          "year_of_publication": 2012
         }
        ]
       },
       "encoding": {
        "x": {
         "bin": true,
         "field": "year_of_publication",
         "title": "Year of publication",
         "type": "nominal"
        },
        "y": {
         "aggregate": "count",
         "title": "Count of articles",
         "type": "quantitative"
        }
       },
       "height": 400,
       "mark": {
        "type": "bar"
       },
       "width": 400
      },
      "text/plain": [
       "<VegaLite 5 object>\n",
       "\n",
       "If you see this message, it means the renderer has not been properly enabled\n",
       "for the frontend that you are using. For more information, see\n",
       "https://altair-viz.github.io/user_guide/display_frontends.html#troubleshooting\n"
      ]
     },
     "execution_count": 8,
     "metadata": {},
     "output_type": "execute_result"
    }
   ],
   "source": [
    "# some quick transformations and an altair histogram\n",
    "years_to_plot: pd.DataFrame = pd.DataFrame(\n",
    "    {\"year_of_publication\": [int(datetime.fromtimestamp(ts).year) for ts in business_news[\"date\"]]}\n",
    ")\n",
    "alt.Chart(years_to_plot).mark_bar().encode(\n",
    "    alt.X(\"year_of_publication:N\", bin=True, title=\"Year of publication\"),\n",
    "    y=alt.Y(\"count()\", title=\"Count of articles\"),\n",
    ").properties(width=400, height=400)"
   ]
  },
  {
   "cell_type": "markdown",
   "id": "453dd57f-26d2-464a-bcee-f4808304ff00",
   "metadata": {},
   "source": [
    "The largest period time should be around 11 years as the oldest article is from 2012.\n",
    "\n",
    "As most articles are between 2012-2017, therefore, it also makes sense to differentiate across the relatively scarce recent period of 4 years.\n",
    "\n",
    "It can also make sense to give additional weight to more populous time periods - small differences can be amplified by adding extra weight compared to regions where the data is scarce and differences are larger on average."
   ]
  },
  {
   "cell_type": "markdown",
   "id": "bb39ab0a-86c9-4bd6-98ca-013a223b2f18",
   "metadata": {},
   "source": [
    "## Set up Superlinked"
   ]
  },
  {
   "cell_type": "code",
   "execution_count": 9,
   "id": "363d1bfb-a842-49b6-a822-99db1f18daa8",
   "metadata": {},
   "outputs": [],
   "source": [
    "# set up schema to accommodate our inputs\n",
    "class NewsSchema(sl.Schema):\n",
    "    description: sl.String\n",
    "    headline: sl.String\n",
    "    release_timestamp: sl.Timestamp\n",
    "    id: sl.IdField"
   ]
  },
  {
   "cell_type": "code",
   "execution_count": 10,
   "id": "7b17ee72-539f-459a-ab8e-f1918579987d",
   "metadata": {},
   "outputs": [],
   "source": [
    "news = NewsSchema()"
   ]
  },
  {
   "cell_type": "code",
   "execution_count": 11,
   "id": "abba40ea-a250-4b12-ad4b-ef90155c3175",
   "metadata": {},
   "outputs": [],
   "source": [
    "# textual characteristics are embedded using a sentence-transformers model\n",
    "description_space = sl.TextSimilaritySpace(text=news.description, model=\"sentence-transformers/all-mpnet-base-v2\")\n",
    "headline_space = sl.TextSimilaritySpace(text=news.headline, model=\"sentence-transformers/all-mpnet-base-v2\")\n",
    "# release date is encoded using our recency embedding algorithm\n",
    "recency_space = sl.RecencySpace(\n",
    "    timestamp=news.release_timestamp,\n",
    "    period_time_list=[\n",
    "        sl.PeriodTime(timedelta(days=4 * YEAR_IN_DAYS), weight=1),\n",
    "        sl.PeriodTime(timedelta(days=11 * YEAR_IN_DAYS), weight=2),\n",
    "    ],\n",
    "    negative_filter=0.0,\n",
    ")"
   ]
  },
  {
   "cell_type": "code",
   "execution_count": 12,
   "id": "88e05778-8ab1-49c9-922d-cd825c65b93a",
   "metadata": {},
   "outputs": [],
   "source": [
    "# we create an index of our spaces\n",
    "news_index = sl.Index(spaces=[description_space, headline_space, recency_space])"
   ]
  },
  {
   "cell_type": "code",
   "execution_count": 13,
   "id": "b56927bf-503c-4f08-98c4-f5f9a49690af",
   "metadata": {},
   "outputs": [],
   "source": [
    "# simple query will serve us right when we simply want to search the dataset with a search term\n",
    "# the term will search in both textual fields\n",
    "# and we will have to option to weight certain inputs' importance\n",
    "simple_query = (\n",
    "    sl.Query(\n",
    "        news_index,\n",
    "        weights={\n",
    "            description_space: sl.Param(\"description_weight\"),\n",
    "            headline_space: sl.Param(\"headline_weight\"),\n",
    "            recency_space: sl.Param(\"recency_weight\"),\n",
    "        },\n",
    "    )\n",
    "    .find(news)\n",
    "    .similar(description_space, sl.Param(\"query_text\"))\n",
    "    .similar(headline_space, sl.Param(\"query_text\"))\n",
    "    .select([news.description, news.headline, news.release_timestamp])\n",
    "    .limit(sl.Param(\"limit\"))\n",
    ")\n",
    "\n",
    "# news query on the other hand will search in the database with the vector of a news article\n",
    "# weighting possibility is still there\n",
    "news_query = (\n",
    "    sl.Query(\n",
    "        news_index,\n",
    "        weights={\n",
    "            description_space: sl.Param(\"description_weight\"),\n",
    "            headline_space: sl.Param(\"headline_weight\"),\n",
    "            recency_space: sl.Param(\"recency_weight\"),\n",
    "        },\n",
    "    )\n",
    "    .find(news)\n",
    "    .with_vector(news, sl.Param(\"news_id\"))\n",
    "    .select([news.description, news.headline, news.release_timestamp])\n",
    "    .limit(sl.Param(\"limit\"))\n",
    ")"
   ]
  },
  {
   "cell_type": "code",
   "execution_count": 14,
   "id": "22069eb1-16d6-40db-b5ba-127fa1efa86e",
   "metadata": {},
   "outputs": [],
   "source": [
    "dataframe_parser = sl.DataFrameParser(\n",
    "    schema=news,\n",
    "    mapping={news.release_timestamp: \"date\", news.description: \"short_description\"},\n",
    ")"
   ]
  },
  {
   "cell_type": "code",
   "execution_count": 15,
   "id": "14335931-ba95-45ec-8cb6-19f5e4905fbd",
   "metadata": {},
   "outputs": [],
   "source": [
    "source: sl.InMemorySource = sl.InMemorySource(news, parser=dataframe_parser)\n",
    "executor: sl.InMemoryExecutor = sl.InMemoryExecutor(sources=[source], indices=[news_index], context_data=EXECUTOR_DATA)\n",
    "app: sl.InMemoryApp = executor.run()"
   ]
  },
  {
   "cell_type": "code",
   "execution_count": 16,
   "id": "683cbd59-0744-4cd9-9a36-18814be79760",
   "metadata": {},
   "outputs": [],
   "source": [
    "source.put([business_news])"
   ]
  },
  {
   "cell_type": "markdown",
   "id": "6af286dc-898f-4e7a-8b16-8672bb96b51d",
   "metadata": {},
   "source": [
    "## Understanding recency"
   ]
  },
  {
   "cell_type": "code",
   "execution_count": 17,
   "id": "ec9bde52-d7e8-4c34-8e27-5c512ef08c87",
   "metadata": {},
   "outputs": [
    {
     "data": {
      "application/vnd.vegalite.v5+json": {
       "$schema": "https://vega.github.io/schema/vega-lite/v5.16.3.json",
       "config": {
        "view": {
         "continuousHeight": 300,
         "continuousWidth": 300
        }
       },
       "data": {
        "name": "data-f3a754c829097296fb79f46cc7f3f993"
       },
       "datasets": {
        "data-f3a754c829097296fb79f46cc7f3f993": [
         {
          "date": "2010-11-28T11:59:00",
          "score": 0
         },
         {
          "date": "2010-12-02T22:05:07.567568",
          "score": 0
         },
         {
          "date": "2010-12-07T08:11:15.135135",
          "score": 0
         },
         {
          "date": "2010-12-11T18:17:22.702703",
          "score": 0
         },
         {
          "date": "2010-12-16T04:23:30.270270",
          "score": 0
         },
         {
          "date": "2010-12-20T14:29:37.837838",
          "score": 0
         },
         {
          "date": "2010-12-25T00:35:45.405406",
          "score": 0
         },
         {
          "date": "2010-12-29T10:41:52.972973",
          "score": 0
         },
         {
          "date": "2011-01-02T20:48:00.540540",
          "score": 0
         },
         {
          "date": "2011-01-07T06:54:08.108108",
          "score": 0
         },
         {
          "date": "2011-01-11T17:00:15.675676",
          "score": 0
         },
         {
          "date": "2011-01-16T03:06:23.243243",
          "score": 0
         },
         {
          "date": "2011-01-20T13:12:30.810811",
          "score": 0
         },
         {
          "date": "2011-01-24T23:18:38.378378",
          "score": 0
         },
         {
          "date": "2011-01-29T09:24:45.945946",
          "score": 0
         },
         {
          "date": "2011-02-02T19:30:53.513514",
          "score": 0
         },
         {
          "date": "2011-02-07T05:37:01.081081",
          "score": 0
         },
         {
          "date": "2011-02-11T15:43:08.648649",
          "score": 0
         },
         {
          "date": "2011-02-16T01:49:16.216216",
          "score": 0
         },
         {
          "date": "2011-02-20T11:55:23.783784",
          "score": 0
         },
         {
          "date": "2011-02-24T22:01:31.351351",
          "score": 0
         },
         {
          "date": "2011-03-01T08:07:38.918919",
          "score": 0
         },
         {
          "date": "2011-03-05T18:13:46.486486",
          "score": 0
         },
         {
          "date": "2011-03-10T04:19:54.054054",
          "score": 0
         },
         {
          "date": "2011-03-14T14:26:01.621622",
          "score": 0
         },
         {
          "date": "2011-03-19T00:32:09.189189",
          "score": 0
         },
         {
          "date": "2011-03-23T10:38:16.756757",
          "score": 0
         },
         {
          "date": "2011-03-27T21:44:24.324324",
          "score": 0
         },
         {
          "date": "2011-04-01T07:50:31.891892",
          "score": 0
         },
         {
          "date": "2011-04-05T17:56:39.459460",
          "score": 0
         },
         {
          "date": "2011-04-10T04:02:47.027027",
          "score": 0
         },
         {
          "date": "2011-04-14T14:08:54.594594",
          "score": 0
         },
         {
          "date": "2011-04-19T00:15:02.162162",
          "score": 0
         },
         {
          "date": "2011-04-23T10:21:09.729730",
          "score": 0
         },
         {
          "date": "2011-04-27T20:27:17.297297",
          "score": 0
         },
         {
          "date": "2011-05-02T06:33:24.864865",
          "score": 0
         },
         {
          "date": "2011-05-06T16:39:32.432432",
          "score": 0
         },
         {
          "date": "2011-05-11T02:45:40",
          "score": 0
         },
         {
          "date": "2011-05-15T12:51:47.567568",
          "score": 0
         },
         {
          "date": "2011-05-19T22:57:55.135135",
          "score": 0
         },
         {
          "date": "2011-05-24T09:04:02.702703",
          "score": 0
         },
         {
          "date": "2011-05-28T19:10:10.270270",
          "score": 0
         },
         {
          "date": "2011-06-02T05:16:17.837838",
          "score": 0
         },
         {
          "date": "2011-06-06T15:22:25.405406",
          "score": 0
         },
         {
          "date": "2011-06-11T01:28:32.972973",
          "score": 0
         },
         {
          "date": "2011-06-15T11:34:40.540540",
          "score": 0
         },
         {
          "date": "2011-06-19T21:40:48.108108",
          "score": 0
         },
         {
          "date": "2011-06-24T07:46:55.675676",
          "score": 0
         },
         {
          "date": "2011-06-28T17:53:03.243243",
          "score": 0
         },
         {
          "date": "2011-07-03T03:59:10.810811",
          "score": 0
         },
         {
          "date": "2011-07-07T14:05:18.378378",
          "score": 0
         },
         {
          "date": "2011-07-12T00:11:25.945946",
          "score": 0
         },
         {
          "date": "2011-07-16T10:17:33.513514",
          "score": 0
         },
         {
          "date": "2011-07-20T20:23:41.081081",
          "score": 0
         },
         {
          "date": "2011-07-25T06:29:48.648649",
          "score": 0
         },
         {
          "date": "2011-07-29T16:35:56.216216",
          "score": 0
         },
         {
          "date": "2011-08-03T02:42:03.783784",
          "score": 0
         },
         {
          "date": "2011-08-07T12:48:11.351351",
          "score": 0
         },
         {
          "date": "2011-08-11T22:54:18.918919",
          "score": 0
         },
         {
          "date": "2011-08-16T09:00:26.486486",
          "score": 0
         },
         {
          "date": "2011-08-20T19:06:34.054054",
          "score": 0
         },
         {
          "date": "2011-08-25T05:12:41.621622",
          "score": 0
         },
         {
          "date": "2011-08-29T15:18:49.189189",
          "score": 0
         },
         {
          "date": "2011-09-03T01:24:56.756757",
          "score": 0
         },
         {
          "date": "2011-09-07T11:31:04.324324",
          "score": 0
         },
         {
          "date": "2011-09-11T21:37:11.891892",
          "score": 0
         },
         {
          "date": "2011-09-16T07:43:19.459460",
          "score": 0
         },
         {
          "date": "2011-09-20T17:49:27.027027",
          "score": 0
         },
         {
          "date": "2011-09-25T03:55:34.594594",
          "score": 0
         },
         {
          "date": "2011-09-29T14:01:42.162162",
          "score": 0
         },
         {
          "date": "2011-10-04T00:07:49.729730",
          "score": 0
         },
         {
          "date": "2011-10-08T10:13:57.297297",
          "score": 0
         },
         {
          "date": "2011-10-12T20:20:04.864865",
          "score": 0
         },
         {
          "date": "2011-10-17T06:26:12.432432",
          "score": 0
         },
         {
          "date": "2011-10-21T16:32:20",
          "score": 0
         },
         {
          "date": "2011-10-26T02:38:27.567568",
          "score": 0
         },
         {
          "date": "2011-10-30T11:44:35.135135",
          "score": 0
         },
         {
          "date": "2011-11-03T21:50:42.702703",
          "score": 0
         },
         {
          "date": "2011-11-08T07:56:50.270270",
          "score": 0
         },
         {
          "date": "2011-11-12T18:02:57.837838",
          "score": 0
         },
         {
          "date": "2011-11-17T04:09:05.405406",
          "score": 0
         },
         {
          "date": "2011-11-21T14:15:12.972973",
          "score": 0
         },
         {
          "date": "2011-11-26T00:21:20.540540",
          "score": 0
         },
         {
          "date": "2011-11-30T10:27:28.108108",
          "score": 0
         },
         {
          "date": "2011-12-04T20:33:35.675676",
          "score": 0
         },
         {
          "date": "2011-12-09T06:39:43.243243",
          "score": 0
         },
         {
          "date": "2011-12-13T16:45:50.810811",
          "score": 0
         },
         {
          "date": "2011-12-18T02:51:58.378378",
          "score": 0
         },
         {
          "date": "2011-12-22T12:58:05.945946",
          "score": 0
         },
         {
          "date": "2011-12-26T23:04:13.513514",
          "score": 0
         },
         {
          "date": "2011-12-31T09:10:21.081081",
          "score": 0
         },
         {
          "date": "2012-01-04T19:16:28.648649",
          "score": 0.0002515789871321191
         },
         {
          "date": "2012-01-09T05:22:36.216216",
          "score": 0.001635262304551204
         },
         {
          "date": "2012-01-13T15:28:43.783784",
          "score": 0.003018940730025556
         },
         {
          "date": "2012-01-18T01:34:51.351351",
          "score": 0.004402610124234926
         },
         {
          "date": "2012-01-22T11:40:58.918919",
          "score": 0.005786266347883492
         },
         {
          "date": "2012-01-26T21:47:06.486486",
          "score": 0.0071699052617157
         },
         {
          "date": "2012-01-31T07:53:14.054054",
          "score": 0.008553522726527775
         },
         {
          "date": "2012-02-04T17:59:21.621622",
          "score": 0.009937114603180105
         },
         {
          "date": "2012-02-09T04:05:29.189189",
          "score": 0.011320676752609633
         },
         {
          "date": "2012-02-13T14:11:36.756757",
          "score": 0.012704205035842226
         },
         {
          "date": "2012-02-18T00:17:44.324324",
          "score": 0.014087695314005066
         },
         {
          "date": "2012-02-22T10:23:51.891892",
          "score": 0.015471143448339018
         },
         {
          "date": "2012-02-26T20:29:59.459460",
          "score": 0.01685454530021105
         },
         {
          "date": "2012-03-02T06:36:07.027027",
          "score": 0.018237896731126555
         },
         {
          "date": "2012-03-06T16:42:14.594594",
          "score": 0.019621193602740908
         },
         {
          "date": "2012-03-11T02:48:22.162162",
          "score": 0.021004431776875294
         },
         {
          "date": "2012-03-15T12:54:29.729730",
          "score": 0.022387607115523907
         },
         {
          "date": "2012-03-19T23:00:37.297297",
          "score": 0.023770715480869772
         },
         {
          "date": "2012-03-24T09:06:44.864865",
          "score": 0.02515375273529627
         },
         {
          "date": "2012-03-28T20:12:52.432432",
          "score": 0.026536714741399504
         },
         {
          "date": "2012-04-02T06:19:00",
          "score": 0.0279195973620007
         },
         {
          "date": "2012-04-06T16:25:07.567568",
          "score": 0.02930239646015856
         },
         {
          "date": "2012-04-11T02:31:15.135135",
          "score": 0.030685107899181645
         },
         {
          "date": "2012-04-15T12:37:22.702703",
          "score": 0.032067727542640756
         },
         {
          "date": "2012-04-19T22:43:30.270270",
          "score": 0.033450251254381294
         },
         {
          "date": "2012-04-24T08:49:37.837838",
          "score": 0.03483267489853568
         },
         {
          "date": "2012-04-28T18:55:45.405406",
          "score": 0.036214994339535615
         },
         {
          "date": "2012-05-03T05:01:52.972973",
          "score": 0.03759720544212374
         },
         {
          "date": "2012-05-07T15:08:00.540540",
          "score": 0.03897930407136935
         },
         {
          "date": "2012-05-12T01:14:08.108108",
          "score": 0.04036128609267561
         },
         {
          "date": "2012-05-16T11:20:15.675676",
          "score": 0.041743147371795415
         },
         {
          "date": "2012-05-20T21:26:23.243243",
          "score": 0.04312488377484284
         },
         {
          "date": "2012-05-25T07:32:30.810811",
          "score": 0.04450649116830553
         },
         {
          "date": "2012-05-29T17:38:38.378378",
          "score": 0.04588796541905708
         },
         {
          "date": "2012-06-03T03:44:45.945946",
          "score": 0.04726930239436937
         },
         {
          "date": "2012-06-07T13:50:53.513514",
          "score": 0.04865049796192497
         },
         {
          "date": "2012-06-11T23:57:01.081081",
          "score": 0.050031547989829464
         },
         {
          "date": "2012-06-16T10:03:08.648649",
          "score": 0.05141244834662381
         },
         {
          "date": "2012-06-20T20:09:16.216216",
          "score": 0.05279319490129671
         },
         {
          "date": "2012-06-25T06:15:23.783784",
          "score": 0.05417378352329615
         },
         {
          "date": "2012-06-29T16:21:31.351351",
          "score": 0.05555421008254511
         },
         {
          "date": "2012-07-04T02:27:38.918919",
          "score": 0.05693447044944881
         },
         {
          "date": "2012-07-08T12:33:46.486486",
          "score": 0.05831456049491058
         },
         {
          "date": "2012-07-12T22:39:54.054054",
          "score": 0.05969447609034313
         },
         {
          "date": "2012-07-17T08:46:01.621622",
          "score": 0.06107421310768116
         },
         {
          "date": "2012-07-21T18:52:09.189189",
          "score": 0.06245376741939356
         },
         {
          "date": "2012-07-26T04:58:16.756757",
          "score": 0.06383313489849575
         },
         {
          "date": "2012-07-30T15:04:24.324324",
          "score": 0.06521231141856218
         },
         {
          "date": "2012-08-04T01:10:31.891892",
          "score": 0.06659129285373838
         },
         {
          "date": "2012-08-08T11:16:39.459460",
          "score": 0.06797007507875363
         },
         {
          "date": "2012-08-12T21:22:47.027027",
          "score": 0.06934865396893312
         },
         {
          "date": "2012-08-17T07:28:54.594594",
          "score": 0.07072702540020946
         },
         {
          "date": "2012-08-21T17:35:02.162162",
          "score": 0.07210518524913842
         },
         {
          "date": "2012-08-26T03:41:09.729730",
          "score": 0.07348312939290619
         },
         {
          "date": "2012-08-30T13:47:17.297297",
          "score": 0.0748608537093451
         },
         {
          "date": "2012-09-03T23:53:24.864865",
          "score": 0.0762383540769451
         },
         {
          "date": "2012-09-08T09:59:32.432432",
          "score": 0.0776156263748661
         },
         {
          "date": "2012-09-12T20:05:40",
          "score": 0.07899266648295024
         },
         {
          "date": "2012-09-17T06:11:47.567568",
          "score": 0.08036947028173436
         },
         {
          "date": "2012-09-21T16:17:55.135135",
          "score": 0.08174603365246211
         },
         {
          "date": "2012-09-26T02:24:02.702703",
          "score": 0.08312235247709648
         },
         {
          "date": "2012-09-30T12:30:10.270270",
          "score": 0.084498422638332
         },
         {
          "date": "2012-10-04T22:36:17.837838",
          "score": 0.08587424001960708
         },
         {
          "date": "2012-10-09T08:42:25.405406",
          "score": 0.08724980050511633
         },
         {
          "date": "2012-10-13T18:48:32.972973",
          "score": 0.08862509997982197
         },
         {
          "date": "2012-10-18T04:54:40.540540",
          "score": 0.09000013432946972
         },
         {
          "date": "2012-10-22T15:00:48.108108",
          "score": 0.0913748994405958
         },
         {
          "date": "2012-10-27T01:06:55.675676",
          "score": 0.09274939120054268
         },
         {
          "date": "2012-10-31T10:13:03.243243",
          "score": 0.09412360549747067
         },
         {
          "date": "2012-11-04T20:19:10.810811",
          "score": 0.09549753822037005
         },
         {
          "date": "2012-11-09T06:25:18.378378",
          "score": 0.09687118525907339
         },
         {
          "date": "2012-11-13T16:31:25.945946",
          "score": 0.09824454250426802
         },
         {
          "date": "2012-11-18T02:37:33.513514",
          "score": 0.09961760584750813
         },
         {
          "date": "2012-11-22T12:43:41.081081",
          "score": 0.1009903711812271
         },
         {
          "date": "2012-11-26T22:49:48.648649",
          "score": 0.10236283439874988
         },
         {
          "date": "2012-12-01T08:55:56.216216",
          "score": 0.10373499139430516
         },
         {
          "date": "2012-12-05T19:02:03.783784",
          "score": 0.10510683806303686
         },
         {
          "date": "2012-12-10T05:08:11.351351",
          "score": 0.10647837030101986
         },
         {
          "date": "2012-12-14T15:14:18.918919",
          "score": 0.10784958400526705
         },
         {
          "date": "2012-12-19T01:20:26.486486",
          "score": 0.10922047507374505
         },
         {
          "date": "2012-12-23T11:26:34.054054",
          "score": 0.11059103940538584
         },
         {
          "date": "2012-12-27T21:32:41.621622",
          "score": 0.11196127290009854
         },
         {
          "date": "2013-01-01T07:38:49.189189",
          "score": 0.1133311714587823
         },
         {
          "date": "2013-01-05T17:44:56.756757",
          "score": 0.11470073098333802
         },
         {
          "date": "2013-01-10T03:51:04.324324",
          "score": 0.11606994737668092
         },
         {
          "date": "2013-01-14T13:57:11.891892",
          "score": 0.11743881654275269
         },
         {
          "date": "2013-01-19T00:03:19.459460",
          "score": 0.11880733438653376
         },
         {
          "date": "2013-01-23T10:09:27.027027",
          "score": 0.1201754968140556
         },
         {
          "date": "2013-01-27T20:15:34.594594",
          "score": 0.12154329973241199
         },
         {
          "date": "2013-02-01T06:21:42.162162",
          "score": 0.12291073904977484
         },
         {
          "date": "2013-02-05T16:27:49.729730",
          "score": 0.12427781067540106
         },
         {
          "date": "2013-02-10T02:33:57.297297",
          "score": 0.12564451051964867
         },
         {
          "date": "2013-02-14T12:40:04.864865",
          "score": 0.12701083449398756
         },
         {
          "date": "2013-02-18T22:46:12.432432",
          "score": 0.12837677851101226
         },
         {
          "date": "2013-02-23T08:52:20",
          "score": 0.12974233848445388
         },
         {
          "date": "2013-02-27T18:58:27.567568",
          "score": 0.13110751032919243
         },
         {
          "date": "2013-03-04T05:04:35.135135",
          "score": 0.13247228996126897
         },
         {
          "date": "2013-03-08T15:10:42.702703",
          "score": 0.13383667329789803
         },
         {
          "date": "2013-03-13T01:16:50.270270",
          "score": 0.13520065625747946
         },
         {
          "date": "2013-03-17T11:22:57.837838",
          "score": 0.136564234759611
         },
         {
          "date": "2013-03-21T21:29:05.405406",
          "score": 0.1379274047251002
         },
         {
          "date": "2013-03-26T07:35:12.972973",
          "score": 0.13929016207597616
         },
         {
          "date": "2013-03-30T17:41:20.540540",
          "score": 0.14065250273550467
         },
         {
          "date": "2013-04-04T04:47:28.108108",
          "score": 0.1420144226281955
         },
         {
          "date": "2013-04-08T14:53:35.675676",
          "score": 0.14337591767981814
         },
         {
          "date": "2013-04-13T00:59:43.243243",
          "score": 0.14473698381741293
         },
         {
          "date": "2013-04-17T11:05:50.810811",
          "score": 0.14609761696930337
         },
         {
          "date": "2013-04-21T21:11:58.378378",
          "score": 0.14745781306510816
         },
         {
          "date": "2013-04-26T07:18:05.945946",
          "score": 0.14881756803575363
         },
         {
          "date": "2013-04-30T17:24:13.513514",
          "score": 0.15017687781348552
         },
         {
          "date": "2013-05-05T03:30:21.081081",
          "score": 0.15153573833188164
         },
         {
          "date": "2013-05-09T13:36:28.648649",
          "score": 0.1528941455258635
         },
         {
          "date": "2013-05-13T23:42:36.216216",
          "score": 0.154252095331709
         },
         {
          "date": "2013-05-18T09:48:43.783784",
          "score": 0.15560958368706335
         },
         {
          "date": "2013-05-22T19:54:51.351351",
          "score": 0.15696660653095476
         },
         {
          "date": "2013-05-27T06:00:58.918919",
          "score": 0.15832315980380152
         },
         {
          "date": "2013-05-31T16:07:06.486486",
          "score": 0.15967923944742746
         },
         {
          "date": "2013-06-05T02:13:14.054054",
          "score": 0.16103484140507338
         },
         {
          "date": "2013-06-09T12:19:21.621622",
          "score": 0.1623899616214089
         },
         {
          "date": "2013-06-13T22:25:29.189189",
          "score": 0.16374459604254507
         },
         {
          "date": "2013-06-18T08:31:36.756757",
          "score": 0.16509874061604599
         },
         {
          "date": "2013-06-22T18:37:44.324324",
          "score": 0.16645239129094128
         },
         {
          "date": "2013-06-27T04:43:51.891892",
          "score": 0.1678055440177379
         },
         {
          "date": "2013-07-01T14:49:59.459460",
          "score": 0.16915819474843272
         },
         {
          "date": "2013-07-06T00:56:07.027027",
          "score": 0.170510339436524
         },
         {
          "date": "2013-07-10T11:02:14.594594",
          "score": 0.17186197403702339
         },
         {
          "date": "2013-07-14T21:08:22.162162",
          "score": 0.1732130945064707
         },
         {
          "date": "2013-07-19T07:14:29.729730",
          "score": 0.17456369680294134
         },
         {
          "date": "2013-07-23T17:20:37.297297",
          "score": 0.17591377688606183
         },
         {
          "date": "2013-07-28T03:26:44.864865",
          "score": 0.17726333071702075
         },
         {
          "date": "2013-08-01T13:32:52.432432",
          "score": 0.178612354258581
         },
         {
          "date": "2013-08-05T23:39:00",
          "score": 0.1799608434750919
         },
         {
          "date": "2013-08-10T09:45:07.567568",
          "score": 0.18130879433250127
         },
         {
          "date": "2013-08-14T19:51:15.135135",
          "score": 0.1826562027983673
         },
         {
          "date": "2013-08-19T05:57:22.702703",
          "score": 0.18400306484187096
         },
         {
          "date": "2013-08-23T16:03:30.270270",
          "score": 0.18534937643382768
         },
         {
          "date": "2013-08-28T02:09:37.837838",
          "score": 0.1866951335466997
         },
         {
          "date": "2013-09-01T12:15:45.405406",
          "score": 0.18804033215460794
         },
         {
          "date": "2013-09-05T22:21:52.972973",
          "score": 0.18938496823334336
         },
         {
          "date": "2013-09-10T08:28:00.540540",
          "score": 0.1907290377603821
         },
         {
          "date": "2013-09-14T18:34:08.108108",
          "score": 0.1920725367148928
         },
         {
          "date": "2013-09-19T04:40:15.675676",
          "score": 0.1934154610777518
         },
         {
          "date": "2013-09-23T14:46:23.243243",
          "score": 0.19475780683155422
         },
         {
          "date": "2013-09-28T00:52:30.810811",
          "score": 0.19609956996062625
         },
         {
          "date": "2013-10-02T10:58:38.378378",
          "score": 0.19744074645103699
         },
         {
          "date": "2013-10-06T21:04:45.945946",
          "score": 0.19878133229061049
         },
         {
          "date": "2013-10-11T07:10:53.513514",
          "score": 0.20012132346893766
         },
         {
          "date": "2013-10-15T17:17:01.081081",
          "score": 0.20146071597738854
         },
         {
          "date": "2013-10-20T03:23:08.648649",
          "score": 0.20279950580912406
         },
         {
          "date": "2013-10-24T13:29:16.216216",
          "score": 0.20413768895910783
         },
         {
          "date": "2013-10-28T22:35:23.783784",
          "score": 0.20547526142411782
         },
         {
          "date": "2013-11-02T08:41:31.351351",
          "score": 0.2068122192027614
         },
         {
          "date": "2013-11-06T18:47:38.918919",
          "score": 0.2081485582954821
         },
         {
          "date": "2013-11-11T04:53:46.486486",
          "score": 0.20948427470457517
         },
         {
          "date": "2013-11-15T14:59:54.054054",
          "score": 0.21081936443419882
         },
         {
          "date": "2013-11-20T01:06:01.621622",
          "score": 0.2121538234903857
         },
         {
          "date": "2013-11-24T11:12:09.189189",
          "score": 0.2134876478810553
         },
         {
          "date": "2013-11-28T21:18:16.756757",
          "score": 0.21482083361602577
         },
         {
          "date": "2013-12-03T07:24:24.324324",
          "score": 0.21615337670702575
         },
         {
          "date": "2013-12-07T17:30:31.891892",
          "score": 0.2174852731677064
         },
         {
          "date": "2013-12-12T03:36:39.459460",
          "score": 0.21881651901365326
         },
         {
          "date": "2013-12-16T13:42:47.027027",
          "score": 0.22014711026239822
         },
         {
          "date": "2013-12-20T23:48:54.594594",
          "score": 0.2214770429334307
         },
         {
          "date": "2013-12-25T09:55:02.162162",
          "score": 0.22280631304821263
         },
         {
          "date": "2013-12-29T20:01:09.729730",
          "score": 0.22413491663018545
         },
         {
          "date": "2014-01-03T06:07:17.297297",
          "score": 0.22546284970478558
         },
         {
          "date": "2014-01-07T16:13:24.864865",
          "score": 0.2267901082994552
         },
         {
          "date": "2014-01-12T02:19:32.432432",
          "score": 0.22811668844365418
         },
         {
          "date": "2014-01-16T12:25:40",
          "score": 0.22944258616887206
         },
         {
          "date": "2014-01-20T22:31:47.567568",
          "score": 0.23076779750863988
         },
         {
          "date": "2014-01-25T08:37:55.135135",
          "score": 0.2320923184985419
         },
         {
          "date": "2014-01-29T18:44:02.702703",
          "score": 0.23341614517622764
         },
         {
          "date": "2014-02-03T04:50:10.270270",
          "score": 0.23473927358142377
         },
         {
          "date": "2014-02-07T14:56:17.837838",
          "score": 0.23606169975594588
         },
         {
          "date": "2014-02-12T01:02:25.405406",
          "score": 0.23738341974371
         },
         {
          "date": "2014-02-16T11:08:32.972973",
          "score": 0.2387044295907443
         },
         {
          "date": "2014-02-20T21:14:40.540540",
          "score": 0.2400247253452037
         },
         {
          "date": "2014-02-25T07:20:48.108108",
          "score": 0.2413443030573767
         },
         {
          "date": "2014-03-01T17:26:55.675676",
          "score": 0.24266315877970102
         },
         {
          "date": "2014-03-06T03:33:03.243243",
          "score": 0.243981288566774
         },
         {
          "date": "2014-03-10T13:39:10.810811",
          "score": 0.24529868847536465
         },
         {
          "date": "2014-03-14T23:45:18.378378",
          "score": 0.24661535456442543
         },
         {
          "date": "2014-03-19T09:51:25.945946",
          "score": 0.24793128289510422
         },
         {
          "date": "2014-03-23T19:57:33.513514",
          "score": 0.24924646953075566
         },
         {
          "date": "2014-03-28T06:03:41.081081",
          "score": 0.25056091053695345
         },
         {
          "date": "2014-04-01T17:09:48.648649",
          "score": 0.2518746019815017
         },
         {
          "date": "2014-04-06T03:15:56.216216",
          "score": 0.2531875399344469
         },
         {
          "date": "2014-04-10T13:22:03.783784",
          "score": 0.2544997204680889
         },
         {
          "date": "2014-04-14T23:28:11.351351",
          "score": 0.2558111396569958
         },
         {
          "date": "2014-04-19T09:34:18.918919",
          "score": 0.25712179357801074
         },
         {
          "date": "2014-04-23T19:40:26.486486",
          "score": 0.2584316783102671
         },
         {
          "date": "2014-04-28T05:46:34.054054",
          "score": 0.2597407899351992
         },
         {
          "date": "2014-05-02T15:52:41.621622",
          "score": 0.26104912453655443
         },
         {
          "date": "2014-05-07T01:58:49.189189",
          "score": 0.26235667820040437
         },
         {
          "date": "2014-05-11T12:04:56.756757",
          "score": 0.2636634470151569
         },
         {
          "date": "2014-05-15T22:11:04.324324",
          "score": 0.2649694270715679
         },
         {
          "date": "2014-05-20T08:17:11.891892",
          "score": 0.2662746144627526
         },
         {
          "date": "2014-05-24T18:23:19.459460",
          "score": 0.26757900528419776
         },
         {
          "date": "2014-05-29T04:29:27.027027",
          "score": 0.2688825956337731
         },
         {
          "date": "2014-06-02T14:35:34.594594",
          "score": 0.270185381611742
         },
         {
          "date": "2014-06-07T00:41:42.162162",
          "score": 0.27148735932077667
         },
         {
          "date": "2014-06-11T10:47:49.729730",
          "score": 0.2727885248659649
         },
         {
          "date": "2014-06-15T20:53:57.297297",
          "score": 0.27408887435482476
         },
         {
          "date": "2014-06-20T07:00:04.864865",
          "score": 0.2753884038973157
         },
         {
          "date": "2014-06-24T17:06:12.432432",
          "score": 0.2766871096058502
         },
         {
          "date": "2014-06-29T03:12:20",
          "score": 0.277984987595305
         },
         {
          "date": "2014-07-03T13:18:27.567568",
          "score": 0.27928203398303303
         },
         {
          "date": "2014-07-07T23:24:35.135135",
          "score": 0.28057824488887523
         },
         {
          "date": "2014-07-12T09:30:42.702703",
          "score": 0.28187361643517156
         },
         {
          "date": "2014-07-16T19:36:50.270270",
          "score": 0.2831681447467732
         },
         {
          "date": "2014-07-21T05:42:57.837838",
          "score": 0.28446182595105396
         },
         {
          "date": "2014-07-25T15:49:05.405406",
          "score": 0.28575465617792145
         },
         {
          "date": "2014-07-30T01:55:12.972973",
          "score": 0.2870466315598286
         },
         {
          "date": "2014-08-03T12:01:20.540540",
          "score": 0.2883377482317878
         },
         {
          "date": "2014-08-07T22:07:28.108108",
          "score": 0.289628002331378
         },
         {
          "date": "2014-08-12T08:13:35.675676",
          "score": 0.29091738999875927
         },
         {
          "date": "2014-08-16T18:19:43.243243",
          "score": 0.2922059073766838
         },
         {
          "date": "2014-08-21T04:25:50.810811",
          "score": 0.29349355061050714
         },
         {
          "date": "2014-08-25T14:31:58.378378",
          "score": 0.2947803158481998
         },
         {
          "date": "2014-08-30T00:38:05.945946",
          "score": 0.2960661992403592
         },
         {
          "date": "2014-09-03T10:44:13.513514",
          "score": 0.29735119694022055
         },
         {
          "date": "2014-09-07T20:50:21.081081",
          "score": 0.29863530510366854
         },
         {
          "date": "2014-09-12T06:56:28.648649",
          "score": 0.2999185198892491
         },
         {
          "date": "2014-09-16T17:02:36.216216",
          "score": 0.3012008374581809
         },
         {
          "date": "2014-09-21T03:08:43.783784",
          "score": 0.30248225397436557
         },
         {
          "date": "2014-09-25T13:14:51.351351",
          "score": 0.3037627656044027
         },
         {
          "date": "2014-09-29T23:20:58.918919",
          "score": 0.30504236851759664
         },
         {
          "date": "2014-10-04T09:27:06.486486",
          "score": 0.30632105888597094
         },
         {
          "date": "2014-10-08T19:33:14.054054",
          "score": 0.3075988328842791
         },
         {
          "date": "2014-10-13T05:39:21.621622",
          "score": 0.30887568669001564
         },
         {
          "date": "2014-10-17T15:45:29.189189",
          "score": 0.31015161648342837
         },
         {
          "date": "2014-10-22T01:51:36.756757",
          "score": 0.31142661844752917
         },
         {
          "date": "2014-10-26T10:57:44.324324",
          "score": 0.3127006887681052
         },
         {
          "date": "2014-10-30T21:03:51.891892",
          "score": 0.3139738236337311
         },
         {
          "date": "2014-11-04T07:09:59.459460",
          "score": 0.3152460192357797
         },
         {
          "date": "2014-11-08T17:16:07.027027",
          "score": 0.31651727176843386
         },
         {
          "date": "2014-11-13T03:22:14.594594",
          "score": 0.31778757742869673
         },
         {
          "date": "2014-11-17T13:28:22.162162",
          "score": 0.3190569324164064
         },
         {
          "date": "2014-11-21T23:34:29.729730",
          "score": 0.32032533293424276
         },
         {
          "date": "2014-11-26T09:40:37.297297",
          "score": 0.3215927751877415
         },
         {
          "date": "2014-11-30T19:46:44.864865",
          "score": 0.3228592553853054
         },
         {
          "date": "2014-12-05T05:52:52.432432",
          "score": 0.32412476973821497
         },
         {
          "date": "2014-12-09T15:59:00",
          "score": 0.32538931446064
         },
         {
          "date": "2014-12-14T02:05:07.567568",
          "score": 0.32665288576965135
         },
         {
          "date": "2014-12-18T12:11:15.135135",
          "score": 0.32791547988523156
         },
         {
          "date": "2014-12-22T22:17:22.702703",
          "score": 0.3291770930302866
         },
         {
          "date": "2014-12-27T08:23:30.270270",
          "score": 0.33043772143065686
         },
         {
          "date": "2014-12-31T18:29:37.837838",
          "score": 0.33169736131512895
         },
         {
          "date": "2015-01-05T04:35:45.405406",
          "score": 0.33295600891544636
         },
         {
          "date": "2015-01-09T14:41:52.972973",
          "score": 0.33421366046632056
         },
         {
          "date": "2015-01-14T00:48:00.540540",
          "score": 0.33547031220544465
         },
         {
          "date": "2015-01-18T10:54:08.108108",
          "score": 0.33672596037350094
         },
         {
          "date": "2015-01-22T21:00:15.675676",
          "score": 0.33798060121417406
         },
         {
          "date": "2015-01-27T07:06:23.243243",
          "score": 0.3392342309741627
         },
         {
          "date": "2015-01-31T17:12:30.810811",
          "score": 0.3404868459031898
         },
         {
          "date": "2015-02-05T03:18:38.378378",
          "score": 0.34173844225401456
         },
         {
          "date": "2015-02-09T13:24:45.945946",
          "score": 0.3429890162824429
         },
         {
          "date": "2015-02-13T23:30:53.513514",
          "score": 0.34423856424733945
         },
         {
          "date": "2015-02-18T09:37:01.081081",
          "score": 0.34548708241063797
         },
         {
          "date": "2015-02-22T19:43:08.648649",
          "score": 0.34673456703735334
         },
         {
          "date": "2015-02-27T05:49:16.216216",
          "score": 0.3479810143955918
         },
         {
          "date": "2015-03-03T15:55:23.783784",
          "score": 0.349226420756563
         },
         {
          "date": "2015-03-08T02:01:31.351351",
          "score": 0.35047078239459
         },
         {
          "date": "2015-03-12T12:07:38.918919",
          "score": 0.3517140955871231
         },
         {
          "date": "2015-03-16T22:13:46.486486",
          "score": 0.3529563566147472
         },
         {
          "date": "2015-03-21T08:19:54.054054",
          "score": 0.35419756176119527
         },
         {
          "date": "2015-03-25T18:26:01.621622",
          "score": 0.3554377073133591
         },
         {
          "date": "2015-03-30T05:32:09.189189",
          "score": 0.3566767895613004
         },
         {
          "date": "2015-04-03T15:38:16.756757",
          "score": 0.35791480479826154
         },
         {
          "date": "2015-04-08T01:44:24.324324",
          "score": 0.359151749320677
         },
         {
          "date": "2015-04-12T11:50:31.891892",
          "score": 0.3603876194281845
         },
         {
          "date": "2015-04-16T21:56:39.459460",
          "score": 0.36162241142363566
         },
         {
          "date": "2015-04-21T08:02:47.027027",
          "score": 0.3628561216131075
         },
         {
          "date": "2015-04-25T18:08:54.594594",
          "score": 0.36408874630591237
         },
         {
          "date": "2015-04-30T04:15:02.162162",
          "score": 0.36532028181461246
         },
         {
          "date": "2015-05-04T14:21:09.729730",
          "score": 0.3665507244550257
         },
         {
          "date": "2015-05-09T00:27:17.297297",
          "score": 0.3677800705462402
         },
         {
          "date": "2015-05-13T10:33:24.864865",
          "score": 0.36900831641062465
         },
         {
          "date": "2015-05-17T20:39:32.432432",
          "score": 0.3702354583738391
         },
         {
          "date": "2015-05-22T06:45:40",
          "score": 0.3714614927648454
         },
         {
          "date": "2015-05-26T16:51:47.567568",
          "score": 0.37268641591591967
         },
         {
          "date": "2015-05-31T02:57:55.135135",
          "score": 0.37391022416266156
         },
         {
          "date": "2015-06-04T13:04:02.702703",
          "score": 0.37513291384400627
         },
         {
          "date": "2015-06-08T23:10:10.270270",
          "score": 0.3763544813022353
         },
         {
          "date": "2015-06-13T09:16:17.837838",
          "score": 0.3775749228829873
         },
         {
          "date": "2015-06-17T19:22:25.405406",
          "score": 0.37879423493526887
         },
         {
          "date": "2015-06-22T05:28:32.972973",
          "score": 0.38001241381146506
         },
         {
          "date": "2015-06-26T15:34:40.540540",
          "score": 0.3812294558673531
         },
         {
          "date": "2015-07-01T01:40:48.108108",
          "score": 0.38244535746210856
         },
         {
          "date": "2015-07-05T11:46:55.675676",
          "score": 0.38366011495831975
         },
         {
          "date": "2015-07-09T21:53:03.243243",
          "score": 0.3848737247219975
         },
         {
          "date": "2015-07-14T07:59:10.810811",
          "score": 0.38608618312258625
         },
         {
          "date": "2015-07-18T18:05:18.378378",
          "score": 0.3872974865329745
         },
         {
          "date": "2015-07-23T04:11:25.945946",
          "score": 0.3885076313295062
         },
         {
          "date": "2015-07-27T14:17:33.513514",
          "score": 0.3897166138919913
         },
         {
          "date": "2015-08-01T00:23:41.081081",
          "score": 0.39092443060371634
         },
         {
          "date": "2015-08-05T10:29:48.648649",
          "score": 0.392131077851456
         },
         {
          "date": "2015-08-09T20:35:56.216216",
          "score": 0.3933365520254823
         },
         {
          "date": "2015-08-14T06:42:03.783784",
          "score": 0.39454084951957985
         },
         {
          "date": "2015-08-18T16:48:11.351351",
          "score": 0.3957439667310477
         },
         {
          "date": "2015-08-23T02:54:18.918919",
          "score": 0.3969459000607215
         },
         {
          "date": "2015-08-27T13:00:26.486486",
          "score": 0.39814664591297527
         },
         {
          "date": "2015-08-31T23:06:34.054054",
          "score": 0.3993462006957362
         },
         {
          "date": "2015-09-05T09:12:41.621622",
          "score": 0.4005445608204942
         },
         {
          "date": "2015-09-09T19:18:49.189189",
          "score": 0.4017417227023139
         },
         {
          "date": "2015-09-14T05:24:56.756757",
          "score": 0.40293768275984376
         },
         {
          "date": "2015-09-18T15:31:04.324324",
          "score": 0.4041324374153277
         },
         {
          "date": "2015-09-23T01:37:11.891892",
          "score": 0.40532598309461615
         },
         {
          "date": "2015-09-27T11:43:19.459460",
          "score": 0.40651831622717555
         },
         {
          "date": "2015-10-01T21:49:27.027027",
          "score": 0.40770943324610015
         },
         {
          "date": "2015-10-06T07:55:34.594594",
          "score": 0.40889933058812106
         },
         {
          "date": "2015-10-10T18:01:42.162162",
          "score": 0.41008800469362094
         },
         {
          "date": "2015-10-15T04:07:49.729730",
          "score": 0.4112754520066391
         },
         {
          "date": "2015-10-19T14:13:57.297297",
          "score": 0.41246166897488595
         },
         {
          "date": "2015-10-24T00:20:04.864865",
          "score": 0.413646652049752
         },
         {
          "date": "2015-10-28T09:26:12.432432",
          "score": 0.41483039768631946
         },
         {
          "date": "2015-11-01T19:32:20",
          "score": 0.4160129023433722
         },
         {
          "date": "2015-11-06T05:38:27.567568",
          "score": 0.4171941624834067
         },
         {
          "date": "2015-11-10T15:44:35.135135",
          "score": 0.418374174572642
         },
         {
          "date": "2015-11-15T01:50:42.702703",
          "score": 0.4195529350810312
         },
         {
          "date": "2015-11-19T11:56:50.270270",
          "score": 0.4207304404822714
         },
         {
          "date": "2015-11-23T22:02:57.837838",
          "score": 0.4219066872538144
         },
         {
          "date": "2015-11-28T08:09:05.405406",
          "score": 0.42308167187687695
         },
         {
          "date": "2015-12-02T18:15:12.972973",
          "score": 0.4242553908364515
         },
         {
          "date": "2015-12-07T04:21:20.540540",
          "score": 0.4254278406213183
         },
         {
          "date": "2015-12-11T14:27:28.108108",
          "score": 0.4265990177240525
         },
         {
          "date": "2015-12-16T00:33:35.675676",
          "score": 0.42776891864103717
         },
         {
          "date": "2015-12-20T10:39:43.243243",
          "score": 0.42893753987247324
         },
         {
          "date": "2015-12-24T20:45:50.810811",
          "score": 0.43010487792238966
         },
         {
          "date": "2015-12-29T06:51:58.378378",
          "score": 0.43127092929865407
         },
         {
          "date": "2016-01-02T16:58:05.945946",
          "score": 0.43243569051298386
         },
         {
          "date": "2016-01-07T03:04:13.513514",
          "score": 0.43359915808095506
         },
         {
          "date": "2016-01-11T13:10:21.081081",
          "score": 0.4347613285220143
         },
         {
          "date": "2016-01-15T23:16:28.648649",
          "score": 0.43592219835948814
         },
         {
          "date": "2016-01-20T09:22:36.216216",
          "score": 0.43708176412059385
         },
         {
          "date": "2016-01-24T19:28:43.783784",
          "score": 0.43824002233645215
         },
         {
          "date": "2016-01-29T05:34:51.351351",
          "score": 0.4393969695420908
         },
         {
          "date": "2016-02-02T15:40:58.918919",
          "score": 0.44055260227646403
         },
         {
          "date": "2016-02-07T01:47:06.486486",
          "score": 0.44170691708245596
         },
         {
          "date": "2016-02-11T11:53:14.054054",
          "score": 0.44285991050689366
         },
         {
          "date": "2016-02-15T21:59:21.621622",
          "score": 0.4440115791005574
         },
         {
          "date": "2016-02-20T08:05:29.189189",
          "score": 0.4451619194181907
         },
         {
          "date": "2016-02-24T18:11:36.756757",
          "score": 0.4463109280185106
         },
         {
          "date": "2016-02-29T04:17:44.324324",
          "score": 0.4474586014642181
         },
         {
          "date": "2016-03-04T14:23:51.891892",
          "score": 0.44860493632200826
         },
         {
          "date": "2016-03-09T00:29:59.459460",
          "score": 0.44974992916258044
         },
         {
          "date": "2016-03-13T10:36:07.027027",
          "score": 0.45089357656064905
         },
         {
          "date": "2016-03-17T20:42:14.594594",
          "score": 0.4520358750949525
         },
         {
          "date": "2016-03-22T06:48:22.162162",
          "score": 0.4531768213482667
         },
         {
          "date": "2016-03-26T16:54:29.729730",
          "score": 0.45431641190741046
         },
         {
          "date": "2016-03-31T04:00:37.297297",
          "score": 0.4554546433632592
         },
         {
          "date": "2016-04-04T14:06:44.864865",
          "score": 0.456591512310754
         },
         {
          "date": "2016-04-09T00:12:52.432432",
          "score": 0.45772701534891214
         },
         {
          "date": "2016-04-13T10:19:00",
          "score": 0.45886114908083675
         },
         {
          "date": "2016-04-17T20:25:07.567568",
          "score": 0.45999391011372764
         },
         {
          "date": "2016-04-22T06:31:15.135135",
          "score": 0.46112529505889066
         },
         {
          "date": "2016-04-26T16:37:22.702703",
          "score": 0.46225530053174874
         },
         {
          "date": "2016-05-01T02:43:30.270270",
          "score": 0.4633839231518513
         },
         {
          "date": "2016-05-05T12:49:37.837838",
          "score": 0.4645111595428846
         },
         {
          "date": "2016-05-09T22:55:45.405406",
          "score": 0.46563700633268185
         },
         {
          "date": "2016-05-14T09:01:52.972973",
          "score": 0.4667614601532328
         },
         {
          "date": "2016-05-18T19:08:00.540540",
          "score": 0.4678845176406962
         },
         {
          "date": "2016-05-23T05:14:08.108108",
          "score": 0.46900617543540596
         },
         {
          "date": "2016-05-27T15:20:15.675676",
          "score": 0.4701264301818838
         },
         {
          "date": "2016-06-01T01:26:23.243243",
          "score": 0.471245278528849
         },
         {
          "date": "2016-06-05T11:32:30.810811",
          "score": 0.4723627171292278
         },
         {
          "date": "2016-06-09T21:38:38.378378",
          "score": 0.4734787426401638
         },
         {
          "date": "2016-06-14T07:44:45.945946",
          "score": 0.47459335172302825
         },
         {
          "date": "2016-06-18T17:50:53.513514",
          "score": 0.4757065410434293
         },
         {
          "date": "2016-06-23T03:57:01.081081",
          "score": 0.4768183072712225
         },
         {
          "date": "2016-06-27T14:03:08.648649",
          "score": 0.47792864708052074
         },
         {
          "date": "2016-07-02T00:09:16.216216",
          "score": 0.47903755714970314
         },
         {
          "date": "2016-07-06T10:15:23.783784",
          "score": 0.480145034161429
         },
         {
          "date": "2016-07-10T20:21:31.351351",
          "score": 0.4812510748026397
         },
         {
          "date": "2016-07-15T06:27:38.918919",
          "score": 0.48235567576457816
         },
         {
          "date": "2016-07-19T16:33:46.486486",
          "score": 0.48345883374279186
         },
         {
          "date": "2016-07-24T02:39:54.054054",
          "score": 0.4845605454371454
         },
         {
          "date": "2016-07-28T12:46:01.621622",
          "score": 0.4856608075518301
         },
         {
          "date": "2016-08-01T22:52:09.189189",
          "score": 0.48675961679537355
         },
         {
          "date": "2016-08-06T08:58:16.756757",
          "score": 0.4878569698806499
         },
         {
          "date": "2016-08-10T19:04:24.324324",
          "score": 0.4889528635248895
         },
         {
          "date": "2016-08-15T05:10:31.891892",
          "score": 0.4900472944496883
         },
         {
          "date": "2016-08-19T15:16:39.459460",
          "score": 0.49114025938101835
         },
         {
          "date": "2016-08-24T01:22:47.027027",
          "score": 0.4922317550492372
         },
         {
          "date": "2016-08-28T11:28:54.594594",
          "score": 0.49332177818909695
         },
         {
          "date": "2016-09-01T21:35:02.162162",
          "score": 0.4944103255397571
         },
         {
          "date": "2016-09-06T07:41:09.729730",
          "score": 0.49549739384478975
         },
         {
          "date": "2016-09-10T17:47:17.297297",
          "score": 0.49658297985219213
         },
         {
          "date": "2016-09-15T03:53:24.864865",
          "score": 0.49766708031439655
         },
         {
          "date": "2016-09-19T13:59:32.432432",
          "score": 0.4987496919882787
         },
         {
          "date": "2016-09-24T00:05:40",
          "score": 0.499830811635168
         },
         {
          "date": "2016-09-28T10:11:47.567568",
          "score": 0.5009104360208578
         },
         {
          "date": "2016-10-02T20:17:55.135135",
          "score": 0.5019885619156144
         },
         {
          "date": "2016-10-07T06:24:02.702703",
          "score": 0.5030651860941865
         },
         {
          "date": "2016-10-11T16:30:10.270270",
          "score": 0.5041403053358158
         },
         {
          "date": "2016-10-16T02:36:17.837838",
          "score": 0.5052139164242457
         },
         {
          "date": "2016-10-20T12:42:25.405406",
          "score": 0.5062860161477315
         },
         {
          "date": "2016-10-24T22:48:32.972973",
          "score": 0.5073566012990489
         },
         {
          "date": "2016-10-29T08:54:40.540540",
          "score": 0.5084256686755069
         },
         {
          "date": "2016-11-02T18:00:48.108108",
          "score": 0.5094932150789524
         },
         {
          "date": "2016-11-07T04:06:55.675676",
          "score": 0.5105592373157836
         },
         {
          "date": "2016-11-11T14:13:03.243243",
          "score": 0.511623732196958
         },
         {
          "date": "2016-11-16T00:19:10.810811",
          "score": 0.512686696538002
         },
         {
          "date": "2016-11-20T10:25:18.378378",
          "score": 0.5137481271590212
         },
         {
          "date": "2016-11-24T20:31:25.945946",
          "score": 0.514808020884709
         },
         {
          "date": "2016-11-29T06:37:33.513514",
          "score": 0.5158663745443567
         },
         {
          "date": "2016-12-03T16:43:41.081081",
          "score": 0.5169231849718623
         },
         {
          "date": "2016-12-08T02:49:48.648649",
          "score": 0.5179784490057411
         },
         {
          "date": "2016-12-12T12:55:56.216216",
          "score": 0.5190321634891334
         },
         {
          "date": "2016-12-16T23:02:03.783784",
          "score": 0.5200843252698176
         },
         {
          "date": "2016-12-21T09:08:11.351351",
          "score": 0.521134931200213
         },
         {
          "date": "2016-12-25T19:14:18.918919",
          "score": 0.5221839781373974
         },
         {
          "date": "2016-12-30T05:20:26.486486",
          "score": 0.5232314629431096
         },
         {
          "date": "2017-01-03T15:26:34.054054",
          "score": 0.5242773824837625
         },
         {
          "date": "2017-01-08T01:32:41.621622",
          "score": 0.5253217336304521
         },
         {
          "date": "2017-01-12T11:38:49.189189",
          "score": 0.5263645132589652
         },
         {
          "date": "2017-01-16T21:44:56.756757",
          "score": 0.5274057182497904
         },
         {
          "date": "2017-01-21T07:51:04.324324",
          "score": 0.5284453454881274
         },
         {
          "date": "2017-01-25T17:57:11.891892",
          "score": 0.5294833918638945
         },
         {
          "date": "2017-01-30T04:03:19.459460",
          "score": 0.5305198542717404
         },
         {
          "date": "2017-02-03T14:09:27.027027",
          "score": 0.5315547296110521
         },
         {
          "date": "2017-02-08T00:15:34.594594",
          "score": 0.5325880147859632
         },
         {
          "date": "2017-02-12T10:21:42.162162",
          "score": 0.5336197067053664
         },
         {
          "date": "2017-02-16T20:27:49.729730",
          "score": 0.5346498022829195
         },
         {
          "date": "2017-02-21T06:33:57.297297",
          "score": 0.5356782984370552
         },
         {
          "date": "2017-02-25T16:40:04.864865",
          "score": 0.536705192090992
         },
         {
          "date": "2017-03-02T02:46:12.432432",
          "score": 0.5377304801727419
         },
         {
          "date": "2017-03-06T12:52:20",
          "score": 0.5387541596151202
         },
         {
          "date": "2017-03-10T22:58:27.567568",
          "score": 0.5397762273557539
         },
         {
          "date": "2017-03-15T09:04:35.135135",
          "score": 0.5407966803370924
         },
         {
          "date": "2017-03-19T19:10:42.702703",
          "score": 0.541815515506415
         },
         {
          "date": "2017-03-24T05:16:50.270270",
          "score": 0.542832729815841
         },
         {
          "date": "2017-03-28T16:22:57.837838",
          "score": 0.5438483202223384
         },
         {
          "date": "2017-04-02T02:29:05.405406",
          "score": 0.5448622836877337
         },
         {
          "date": "2017-04-06T12:35:12.972973",
          "score": 0.5458746171787189
         },
         {
          "date": "2017-04-10T22:41:20.540540",
          "score": 0.546885317666865
         },
         {
          "date": "2017-04-15T08:47:28.108108",
          "score": 0.5478943821286255
         },
         {
          "date": "2017-04-19T18:53:35.675676",
          "score": 0.5489018075453491
         },
         {
          "date": "2017-04-24T04:59:43.243243",
          "score": 0.5499075909032881
         },
         {
          "date": "2017-04-28T15:05:50.810811",
          "score": 0.5509117291936063
         },
         {
          "date": "2017-05-03T01:11:58.378378",
          "score": 0.5519142194123894
         },
         {
          "date": "2017-05-07T11:18:05.945946",
          "score": 0.5529150585606528
         },
         {
          "date": "2017-05-11T21:24:13.513514",
          "score": 0.5539142436443523
         },
         {
          "date": "2017-05-16T07:30:21.081081",
          "score": 0.5549117716743902
         },
         {
          "date": "2017-05-20T17:36:28.648649",
          "score": 0.5559076396666274
         },
         {
          "date": "2017-05-25T03:42:36.216216",
          "score": 0.5569018446418894
         },
         {
          "date": "2017-05-29T13:48:43.783784",
          "score": 0.5578943836259794
         },
         {
          "date": "2017-06-02T23:54:51.351351",
          "score": 0.5588852536496803
         },
         {
          "date": "2017-06-07T10:00:58.918919",
          "score": 0.5598744517487719
         },
         {
          "date": "2017-06-11T20:07:06.486486",
          "score": 0.5608619749640332
         },
         {
          "date": "2017-06-16T06:13:14.054054",
          "score": 0.561847820341254
         },
         {
          "date": "2017-06-20T16:19:21.621622",
          "score": 0.562831984931244
         },
         {
          "date": "2017-06-25T02:25:29.189189",
          "score": 0.5638144657898406
         },
         {
          "date": "2017-06-29T12:31:36.756757",
          "score": 0.5647952599779182
         },
         {
          "date": "2017-07-03T22:37:44.324324",
          "score": 0.5657743645613972
         },
         {
          "date": "2017-07-08T08:43:51.891892",
          "score": 0.566751776611252
         },
         {
          "date": "2017-07-12T18:49:59.459460",
          "score": 0.5677274932035208
         },
         {
          "date": "2017-07-17T04:56:07.027027",
          "score": 0.5687015114193132
         },
         {
          "date": "2017-07-21T15:02:14.594594",
          "score": 0.5696738283448198
         },
         {
          "date": "2017-07-26T01:08:22.162162",
          "score": 0.5706444410713221
         },
         {
          "date": "2017-07-30T11:14:29.729730",
          "score": 0.5716133466951975
         },
         {
          "date": "2017-08-03T21:20:37.297297",
          "score": 0.5725805423179313
         },
         {
          "date": "2017-08-08T07:26:44.864865",
          "score": 0.5735460250461242
         },
         {
          "date": "2017-08-12T17:32:52.432432",
          "score": 0.5745097919915015
         },
         {
          "date": "2017-08-17T03:39:00",
          "score": 0.5754718402709208
         },
         {
          "date": "2017-08-21T13:45:07.567568",
          "score": 0.5764321670063811
         },
         {
          "date": "2017-08-25T23:51:15.135135",
          "score": 0.5773907693250321
         },
         {
          "date": "2017-08-30T09:57:22.702703",
          "score": 0.5783476443591813
         },
         {
          "date": "2017-09-03T20:03:30.270270",
          "score": 0.5793027892463041
         },
         {
          "date": "2017-09-08T06:09:37.837838",
          "score": 0.5802562011290516
         },
         {
          "date": "2017-09-12T16:15:45.405406",
          "score": 0.5812078771552588
         },
         {
          "date": "2017-09-17T02:21:52.972973",
          "score": 0.5821578144779535
         },
         {
          "date": "2017-09-21T12:28:00.540540",
          "score": 0.5831060102553662
         },
         {
          "date": "2017-09-25T22:34:08.108108",
          "score": 0.5840524616509359
         },
         {
          "date": "2017-09-30T08:40:15.675676",
          "score": 0.5849971658333208
         },
         {
          "date": "2017-10-04T18:46:23.243243",
          "score": 0.5859401199764053
         },
         {
          "date": "2017-10-09T04:52:30.810811",
          "score": 0.586881321259309
         },
         {
          "date": "2017-10-13T14:58:38.378378",
          "score": 0.5878207668663962
         },
         {
          "date": "2017-10-18T01:04:45.945946",
          "score": 0.5887584539872825
         },
         {
          "date": "2017-10-22T11:10:53.513514",
          "score": 0.5896943798168447
         },
         {
          "date": "2017-10-26T21:17:01.081081",
          "score": 0.5906285415552278
         },
         {
          "date": "2017-10-31T06:23:08.648649",
          "score": 0.5915609364078549
         },
         {
          "date": "2017-11-04T16:29:16.216216",
          "score": 0.5924915615854339
         },
         {
          "date": "2017-11-09T02:35:23.783784",
          "score": 0.5934204143039689
         },
         {
          "date": "2017-11-13T12:41:31.351351",
          "score": 0.5943474917847623
         },
         {
          "date": "2017-11-17T22:47:38.918919",
          "score": 0.5952727912544319
         },
         {
          "date": "2017-11-22T08:53:46.486486",
          "score": 0.5961963099449114
         },
         {
          "date": "2017-11-26T18:59:54.054054",
          "score": 0.5971180450934624
         },
         {
          "date": "2017-12-01T05:06:01.621622",
          "score": 0.5980379939426826
         },
         {
          "date": "2017-12-05T15:12:09.189189",
          "score": 0.598956153740513
         },
         {
          "date": "2017-12-10T01:18:16.756757",
          "score": 0.599872521740247
         },
         {
          "date": "2017-12-14T11:24:24.324324",
          "score": 0.6007870952005376
         },
         {
          "date": "2017-12-18T21:30:31.891892",
          "score": 0.6016998713854066
         },
         {
          "date": "2017-12-23T07:36:39.459460",
          "score": 0.6026108475642528
         },
         {
          "date": "2017-12-27T17:42:47.027027",
          "score": 0.6035200210118589
         },
         {
          "date": "2018-01-01T03:48:54.594594",
          "score": 0.6044273890084007
         },
         {
          "date": "2018-01-05T13:55:02.162162",
          "score": 0.6053329488394564
         },
         {
          "date": "2018-01-10T00:01:09.729730",
          "score": 0.6062366977960119
         },
         {
          "date": "2018-01-14T10:07:17.297297",
          "score": 0.6071386331744709
         },
         {
          "date": "2018-01-18T20:13:24.864865",
          "score": 0.6080387522766622
         },
         {
          "date": "2018-01-23T06:19:32.432432",
          "score": 0.6089370524098487
         },
         {
          "date": "2018-01-27T16:25:40",
          "score": 0.6098335308867342
         },
         {
          "date": "2018-02-01T02:31:47.567568",
          "score": 0.6107281850254722
         },
         {
          "date": "2018-02-05T12:37:55.135135",
          "score": 0.611621012149674
         },
         {
          "date": "2018-02-09T22:44:02.702703",
          "score": 0.612512009588416
         },
         {
          "date": "2018-02-14T08:50:10.270270",
          "score": 0.613401174676249
         },
         {
          "date": "2018-02-18T18:56:17.837838",
          "score": 0.6142885047532042
         },
         {
          "date": "2018-02-23T05:02:25.405406",
          "score": 0.6151739971648034
         },
         {
          "date": "2018-02-27T15:08:32.972973",
          "score": 0.6160576492620645
         },
         {
          "date": "2018-03-04T01:14:40.540540",
          "score": 0.6169394584015131
         },
         {
          "date": "2018-03-08T11:20:48.108108",
          "score": 0.6178194219451855
         },
         {
          "date": "2018-03-12T21:26:55.675676",
          "score": 0.6186975372606406
         },
         {
          "date": "2018-03-17T07:33:03.243243",
          "score": 0.6195738017209659
         },
         {
          "date": "2018-03-21T17:39:10.810811",
          "score": 0.6204482127047861
         },
         {
          "date": "2018-03-26T04:45:18.378378",
          "score": 0.6213207675962701
         },
         {
          "date": "2018-03-30T14:51:25.945946",
          "score": 0.6221914637851398
         },
         {
          "date": "2018-04-04T00:57:33.513514",
          "score": 0.6230602986666776
         },
         {
          "date": "2018-04-08T11:03:41.081081",
          "score": 0.6239272696417336
         },
         {
          "date": "2018-04-12T21:09:48.648649",
          "score": 0.624792374116734
         },
         {
          "date": "2018-04-17T07:15:56.216216",
          "score": 0.6256556095036885
         },
         {
          "date": "2018-04-21T17:22:03.783784",
          "score": 0.6265169732202
         },
         {
          "date": "2018-04-26T03:28:11.351351",
          "score": 0.6273764626894669
         },
         {
          "date": "2018-04-30T13:34:18.918919",
          "score": 0.6282340753402982
         },
         {
          "date": "2018-05-04T23:40:26.486486",
          "score": 0.6290898086071155
         },
         {
          "date": "2018-05-09T09:46:34.054054",
          "score": 0.6299436599299632
         },
         {
          "date": "2018-05-13T19:52:41.621622",
          "score": 0.6307956267545151
         },
         {
          "date": "2018-05-18T05:58:49.189189",
          "score": 0.6316457065320832
         },
         {
          "date": "2018-05-22T16:04:56.756757",
          "score": 0.6324938967196244
         },
         {
          "date": "2018-05-27T02:11:04.324324",
          "score": 0.6333401947797483
         },
         {
          "date": "2018-05-31T12:17:11.891892",
          "score": 0.6341845981807248
         },
         {
          "date": "2018-06-04T22:23:19.459460",
          "score": 0.6350271043964919
         },
         {
          "date": "2018-06-09T08:29:27.027027",
          "score": 0.6358677109066632
         },
         {
          "date": "2018-06-13T18:35:34.594594",
          "score": 0.6367064151965344
         },
         {
          "date": "2018-06-18T04:41:42.162162",
          "score": 0.6375432147570939
         },
         {
          "date": "2018-06-22T14:47:49.729730",
          "score": 0.6383781070850258
         },
         {
          "date": "2018-06-27T00:53:57.297297",
          "score": 0.6392110896827214
         },
         {
          "date": "2018-07-01T11:00:04.864865",
          "score": 0.6400421600582838
         },
         {
          "date": "2018-07-05T21:06:12.432432",
          "score": 0.6408713157255378
         },
         {
          "date": "2018-07-10T07:12:20",
          "score": 0.6416985542040348
         },
         {
          "date": "2018-07-14T17:18:27.567568",
          "score": 0.6425238730190627
         },
         {
          "date": "2018-07-19T03:24:35.135135",
          "score": 0.6433472697016515
         },
         {
          "date": "2018-07-23T13:30:42.702703",
          "score": 0.6441687417885812
         },
         {
          "date": "2018-07-27T23:36:50.270270",
          "score": 0.6449882868223901
         },
         {
          "date": "2018-08-01T09:42:57.837838",
          "score": 0.6458059023513805
         },
         {
          "date": "2018-08-05T19:49:05.405406",
          "score": 0.646621585929627
         },
         {
          "date": "2018-08-10T05:55:12.972973",
          "score": 0.6474353351169839
         },
         {
          "date": "2018-08-14T16:01:20.540540",
          "score": 0.6482471474790928
         },
         {
          "date": "2018-08-19T02:07:28.108108",
          "score": 0.649057020587389
         },
         {
          "date": "2018-08-23T12:13:35.675676",
          "score": 0.6498649520191085
         },
         {
          "date": "2018-08-27T22:19:43.243243",
          "score": 0.6506709393572965
         },
         {
          "date": "2018-09-01T08:25:50.810811",
          "score": 0.6514749801908141
         },
         {
          "date": "2018-09-05T18:31:58.378378",
          "score": 0.6522770721143452
         },
         {
          "date": "2018-09-10T04:38:05.945946",
          "score": 0.6530772127284038
         },
         {
          "date": "2018-09-14T14:44:13.513514",
          "score": 0.6538753996393419
         },
         {
          "date": "2018-09-19T00:50:21.081081",
          "score": 0.6546716304593555
         },
         {
          "date": "2018-09-23T10:56:28.648649",
          "score": 0.6554659028064923
         },
         {
          "date": "2018-09-27T21:02:36.216216",
          "score": 0.6562582143046589
         },
         {
          "date": "2018-10-02T07:08:43.783784",
          "score": 0.6570485625836292
         },
         {
          "date": "2018-10-06T17:14:51.351351",
          "score": 0.6578369452790472
         },
         {
          "date": "2018-10-11T03:20:58.918919",
          "score": 0.65862336003244
         },
         {
          "date": "2018-10-15T13:27:06.486486",
          "score": 0.65940780449122
         },
         {
          "date": "2018-10-19T23:33:14.054054",
          "score": 0.6601902763086949
         },
         {
          "date": "2018-10-24T09:39:21.621622",
          "score": 0.6609707731440728
         },
         {
          "date": "2018-10-28T18:45:29.189189",
          "score": 0.6617492926624704
         },
         {
          "date": "2018-11-02T04:51:36.756757",
          "score": 0.6625258325349194
         },
         {
          "date": "2018-11-06T14:57:44.324324",
          "score": 0.6633003904383742
         },
         {
          "date": "2018-11-11T01:03:51.891892",
          "score": 0.6640729640557176
         },
         {
          "date": "2018-11-15T11:09:59.459460",
          "score": 0.6648435510757692
         },
         {
          "date": "2018-11-19T21:16:07.027027",
          "score": 0.6656121491932909
         },
         {
          "date": "2018-11-24T07:22:14.594594",
          "score": 0.6663787561089947
         },
         {
          "date": "2018-11-28T17:28:22.162162",
          "score": 0.66714336952955
         },
         {
          "date": "2018-12-03T03:34:29.729730",
          "score": 0.6679059871675889
         },
         {
          "date": "2018-12-07T13:40:37.297297",
          "score": 0.6686666067417144
         },
         {
          "date": "2018-12-11T23:46:44.864865",
          "score": 0.6694252259765064
         },
         {
          "date": "2018-12-16T09:52:52.432432",
          "score": 0.6701818426025298
         },
         {
          "date": "2018-12-20T19:59:00",
          "score": 0.6709364543563391
         },
         {
          "date": "2018-12-25T06:05:07.567568",
          "score": 0.6716890589804874
         },
         {
          "date": "2018-12-29T16:11:15.135135",
          "score": 0.6724396542235315
         },
         {
          "date": "2019-01-03T02:17:22.702703",
          "score": 0.6734240930896966
         },
         {
          "date": "2019-01-07T12:23:30.270270",
          "score": 0.6751219389847439
         },
         {
          "date": "2019-01-11T22:29:37.837838",
          "score": 0.6768177419234519
         },
         {
          "date": "2019-01-16T08:35:45.405406",
          "score": 0.6785114781579276
         },
         {
          "date": "2019-01-20T18:41:52.972973",
          "score": 0.6802031239474098
         },
         {
          "date": "2019-01-25T04:48:00.540540",
          "score": 0.6818926555587651
         },
         {
          "date": "2019-01-29T14:54:08.108108",
          "score": 0.6835800492669778
         },
         {
          "date": "2019-02-03T01:00:15.675676",
          "score": 0.6852652813556446
         },
         {
          "date": "2019-02-07T11:06:23.243243",
          "score": 0.686948328117469
         },
         {
          "date": "2019-02-11T21:12:30.810811",
          "score": 0.688629165854753
         },
         {
          "date": "2019-02-16T07:18:38.378378",
          "score": 0.6903077708798915
         },
         {
          "date": "2019-02-20T17:24:45.945946",
          "score": 0.6919841195158641
         },
         {
          "date": "2019-02-25T03:30:53.513514",
          "score": 0.6936581880967291
         },
         {
          "date": "2019-03-01T13:37:01.081081",
          "score": 0.6953299529681148
         },
         {
          "date": "2019-03-05T23:43:08.648649",
          "score": 0.6969993904877143
         },
         {
          "date": "2019-03-10T09:49:16.216216",
          "score": 0.6986664770257746
         },
         {
          "date": "2019-03-14T19:55:23.783784",
          "score": 0.7003311889655954
         },
         {
          "date": "2019-03-19T06:01:31.351351",
          "score": 0.7019935027040093
         },
         {
          "date": "2019-03-23T16:07:38.918919",
          "score": 0.7036533946518891
         },
         {
          "date": "2019-03-28T02:13:46.486486",
          "score": 0.7053108412346268
         },
         {
          "date": "2019-04-01T13:19:54.054054",
          "score": 0.7069658188926314
         },
         {
          "date": "2019-04-05T23:26:01.621622",
          "score": 0.7086183040818181
         },
         {
          "date": "2019-04-10T09:32:09.189189",
          "score": 0.7102682732741012
         },
         {
          "date": "2019-04-14T19:38:16.756757",
          "score": 0.7119157029578828
         },
         {
          "date": "2019-04-19T05:44:24.324324",
          "score": 0.7135605696385441
         },
         {
          "date": "2019-04-23T15:50:31.891892",
          "score": 0.7152028498389373
         },
         {
          "date": "2019-04-28T01:56:39.459460",
          "score": 0.7168425200998727
         },
         {
          "date": "2019-05-02T12:02:47.027027",
          "score": 0.7184795569806114
         },
         {
          "date": "2019-05-06T22:08:54.594594",
          "score": 0.7201139370593514
         },
         {
          "date": "2019-05-11T08:15:02.162162",
          "score": 0.7217456369337226
         },
         {
          "date": "2019-05-15T18:21:09.729730",
          "score": 0.7233746332212682
         },
         {
          "date": "2019-05-20T04:27:17.297297",
          "score": 0.7250009025599382
         },
         {
          "date": "2019-05-24T14:33:24.864865",
          "score": 0.7266244216085758
         },
         {
          "date": "2019-05-29T00:39:32.432432",
          "score": 0.7282451670474063
         },
         {
          "date": "2019-06-02T10:45:40",
          "score": 0.7298631155785232
         },
         {
          "date": "2019-06-06T20:51:47.567568",
          "score": 0.7314782439263764
         },
         {
          "date": "2019-06-11T06:57:55.135135",
          "score": 0.7330905288382581
         },
         {
          "date": "2019-06-15T17:04:02.702703",
          "score": 0.7346999470847895
         },
         {
          "date": "2019-06-20T03:10:10.270270",
          "score": 0.7363064754604073
         },
         {
          "date": "2019-06-24T13:16:17.837838",
          "score": 0.7379100907838467
         },
         {
          "date": "2019-06-28T23:22:25.405406",
          "score": 0.7395107698986328
         },
         {
          "date": "2019-07-03T09:28:32.972973",
          "score": 0.7411084896735537
         },
         {
          "date": "2019-07-07T19:34:40.540540",
          "score": 0.7427032270031586
         },
         {
          "date": "2019-07-12T05:40:48.108108",
          "score": 0.7442949588082308
         },
         {
          "date": "2019-07-16T15:46:55.675676",
          "score": 0.7458836620362755
         },
         {
          "date": "2019-07-21T01:53:03.243243",
          "score": 0.747469313662002
         },
         {
          "date": "2019-07-25T11:59:10.810811",
          "score": 0.749051890687806
         },
         {
          "date": "2019-07-29T22:05:18.378378",
          "score": 0.7506313701442505
         },
         {
          "date": "2019-08-03T08:11:25.945946",
          "score": 0.7522077290905486
         },
         {
          "date": "2019-08-07T18:17:33.513514",
          "score": 0.7537809446150429
         },
         {
          "date": "2019-08-12T04:23:41.081081",
          "score": 0.755350993835686
         },
         {
          "date": "2019-08-16T14:29:48.648649",
          "score": 0.7569178539005208
         },
         {
          "date": "2019-08-21T00:35:56.216216",
          "score": 0.7584815019881573
         },
         {
          "date": "2019-08-25T10:42:03.783784",
          "score": 0.7600419153082582
         },
         {
          "date": "2019-08-29T20:48:11.351351",
          "score": 0.7615990711020031
         },
         {
          "date": "2019-09-03T06:54:18.918919",
          "score": 0.7631529466425823
         },
         {
          "date": "2019-09-07T17:00:26.486486",
          "score": 0.7647035192356612
         },
         {
          "date": "2019-09-12T03:06:34.054054",
          "score": 0.7662507662198621
         },
         {
          "date": "2019-09-16T13:12:41.621622",
          "score": 0.7677946649672381
         },
         {
          "date": "2019-09-20T23:18:49.189189",
          "score": 0.7693351928837491
         },
         {
          "date": "2019-09-25T09:24:56.756757",
          "score": 0.7708723274097343
         },
         {
          "date": "2019-09-29T19:31:04.324324",
          "score": 0.7724060460203875
         },
         {
          "date": "2019-10-04T05:37:11.891892",
          "score": 0.7739363262262293
         },
         {
          "date": "2019-10-08T15:43:19.459460",
          "score": 0.7754631455735793
         },
         {
          "date": "2019-10-13T01:49:27.027027",
          "score": 0.7769864816450279
         },
         {
          "date": "2019-10-17T11:55:34.594594",
          "score": 0.7785063120599061
         },
         {
          "date": "2019-10-21T22:01:42.162162",
          "score": 0.7800226144747606
         },
         {
          "date": "2019-10-26T08:07:49.729730",
          "score": 0.7815353665838126
         },
         {
          "date": "2019-10-30T17:13:57.297297",
          "score": 0.7830445461194401
         },
         {
          "date": "2019-11-04T03:20:04.864865",
          "score": 0.784550130852635
         },
         {
          "date": "2019-11-08T13:26:12.432432",
          "score": 0.7860520985934756
         },
         {
          "date": "2019-11-12T23:32:20",
          "score": 0.7875504271915923
         },
         {
          "date": "2019-11-17T09:38:27.567568",
          "score": 0.7890450945366322
         },
         {
          "date": "2019-11-21T19:44:35.135135",
          "score": 0.7905360785587257
         },
         {
          "date": "2019-11-26T05:50:42.702703",
          "score": 0.7920233572289488
         },
         {
          "date": "2019-11-30T15:56:50.270270",
          "score": 0.7935069085597887
         },
         {
          "date": "2019-12-05T02:02:57.837838",
          "score": 0.7949867106056033
         },
         {
          "date": "2019-12-09T12:09:05.405406",
          "score": 0.7964627414630885
         },
         {
          "date": "2019-12-13T22:15:12.972973",
          "score": 0.7979349792717294
         },
         {
          "date": "2019-12-18T08:21:20.540540",
          "score": 0.7994034022142722
         },
         {
          "date": "2019-12-22T18:27:28.108108",
          "score": 0.8008679885171741
         },
         {
          "date": "2019-12-27T04:33:35.675676",
          "score": 0.8023287164510658
         },
         {
          "date": "2019-12-31T14:39:43.243243",
          "score": 0.8037855643312088
         },
         {
          "date": "2020-01-05T00:45:50.810811",
          "score": 0.8052385105179507
         },
         {
          "date": "2020-01-09T10:51:58.378378",
          "score": 0.806687533417182
         },
         {
          "date": "2020-01-13T20:58:05.945946",
          "score": 0.8081326114807905
         },
         {
          "date": "2020-01-18T07:04:13.513514",
          "score": 0.8095737232071154
         },
         {
          "date": "2020-01-22T17:10:21.081081",
          "score": 0.8110108471413998
         },
         {
          "date": "2020-01-27T03:16:28.648649",
          "score": 0.8124439618762431
         },
         {
          "date": "2020-01-31T13:22:36.216216",
          "score": 0.813873046052051
         },
         {
          "date": "2020-02-04T23:28:43.783784",
          "score": 0.8152980783574907
         },
         {
          "date": "2020-02-09T09:34:51.351351",
          "score": 0.8167190375299291
         },
         {
          "date": "2020-02-13T19:40:58.918919",
          "score": 0.8181359023558947
         },
         {
          "date": "2020-02-18T05:47:06.486486",
          "score": 0.819548651671514
         },
         {
          "date": "2020-02-22T15:53:14.054054",
          "score": 0.8209572643629627
         },
         {
          "date": "2020-02-27T01:59:21.621622",
          "score": 0.8223617193669105
         },
         {
          "date": "2020-03-02T12:05:29.189189",
          "score": 0.8237619956709642
         },
         {
          "date": "2020-03-06T22:11:36.756757",
          "score": 0.8251580723141114
         },
         {
          "date": "2020-03-11T08:17:44.324324",
          "score": 0.826549928387163
         },
         {
          "date": "2020-03-15T18:23:51.891892",
          "score": 0.827937543033194
         },
         {
          "date": "2020-03-20T04:29:59.459460",
          "score": 0.8293208954479833
         },
         {
          "date": "2020-03-24T14:36:07.027027",
          "score": 0.8306999648804532
         },
         {
          "date": "2020-03-29T00:42:14.594594",
          "score": 0.8320747306331056
         },
         {
          "date": "2020-04-02T11:48:22.162162",
          "score": 0.8334451720624645
         },
         {
          "date": "2020-04-06T21:54:29.729730",
          "score": 0.834811268579501
         },
         {
          "date": "2020-04-11T08:00:37.297297",
          "score": 0.8361729996500809
         },
         {
          "date": "2020-04-15T18:06:44.864865",
          "score": 0.8375303447953876
         },
         {
          "date": "2020-04-20T04:12:52.432432",
          "score": 0.8388832835923603
         },
         {
          "date": "2020-04-24T14:19:00",
          "score": 0.8402317956741232
         },
         {
          "date": "2020-04-29T00:25:07.567568",
          "score": 0.8415758607304163
         },
         {
          "date": "2020-05-03T10:31:15.135135",
          "score": 0.8429154585080242
         },
         {
          "date": "2020-05-07T20:37:22.702703",
          "score": 0.8442505688112036
         },
         {
          "date": "2020-05-12T06:43:30.270270",
          "score": 0.8455811715021104
         },
         {
          "date": "2020-05-16T16:49:37.837838",
          "score": 0.8469072465012245
         },
         {
          "date": "2020-05-21T02:55:45.405406",
          "score": 0.8482287737877775
         },
         {
          "date": "2020-05-25T13:01:52.972973",
          "score": 0.8495457334001668
         },
         {
          "date": "2020-05-29T23:08:00.540540",
          "score": 0.8508581054363905
         },
         {
          "date": "2020-06-03T09:14:08.108108",
          "score": 0.8521658700544564
         },
         {
          "date": "2020-06-07T19:20:15.675676",
          "score": 0.8534690074728082
         },
         {
          "date": "2020-06-12T05:26:23.243243",
          "score": 0.8547674979707408
         },
         {
          "date": "2020-06-16T15:32:30.810811",
          "score": 0.8560613218888182
         },
         {
          "date": "2020-06-21T01:38:38.378378",
          "score": 0.8573504596292894
         },
         {
          "date": "2020-06-25T11:44:45.945946",
          "score": 0.8586348916565026
         },
         {
          "date": "2020-06-29T21:50:53.513514",
          "score": 0.8599145984973178
         },
         {
          "date": "2020-07-04T07:57:01.081081",
          "score": 0.8611895607415195
         },
         {
          "date": "2020-07-08T18:03:08.648649",
          "score": 0.8624597590422268
         },
         {
          "date": "2020-07-13T04:09:16.216216",
          "score": 0.8637251741163023
         },
         {
          "date": "2020-07-17T14:15:23.783784",
          "score": 0.8649857867447632
         },
         {
          "date": "2020-07-22T00:21:31.351351",
          "score": 0.8662415777731808
         },
         {
          "date": "2020-07-26T10:27:38.918919",
          "score": 0.8674925281120944
         },
         {
          "date": "2020-07-30T20:33:46.486486",
          "score": 0.8687386187374095
         },
         {
          "date": "2020-08-04T06:39:54.054054",
          "score": 0.8699798306908024
         },
         {
          "date": "2020-08-08T16:46:01.621622",
          "score": 0.8712161450801211
         },
         {
          "date": "2020-08-13T02:52:09.189189",
          "score": 0.8724475430797858
         },
         {
          "date": "2020-08-17T12:58:16.756757",
          "score": 0.8736740059311866
         },
         {
          "date": "2020-08-21T23:04:24.324324",
          "score": 0.8748955149430815
         },
         {
          "date": "2020-08-26T09:10:31.891892",
          "score": 0.8761120514919916
         },
         {
          "date": "2020-08-30T19:16:39.459460",
          "score": 0.8773235970225954
         },
         {
          "date": "2020-09-04T05:22:47.027027",
          "score": 0.8785301330481227
         },
         {
          "date": "2020-09-08T15:28:54.594594",
          "score": 0.8797316411507439
         },
         {
          "date": "2020-09-13T01:35:02.162162",
          "score": 0.8809281029819652
         },
         {
          "date": "2020-09-17T11:41:09.729730",
          "score": 0.882119500263008
         },
         {
          "date": "2020-09-21T21:47:17.297297",
          "score": 0.8833058147852075
         },
         {
          "date": "2020-09-26T07:53:24.864865",
          "score": 0.88448702841039
         },
         {
          "date": "2020-09-30T17:59:32.432432",
          "score": 0.8856631230712603
         },
         {
          "date": "2020-10-05T04:05:40",
          "score": 0.8868340807717846
         },
         {
          "date": "2020-10-09T14:11:47.567568",
          "score": 0.8879998835875719
         },
         {
          "date": "2020-10-14T00:17:55.135135",
          "score": 0.8891605136662529
         },
         {
          "date": "2020-10-18T10:24:02.702703",
          "score": 0.8903159532278598
         },
         {
          "date": "2020-10-22T20:30:10.270270",
          "score": 0.8914661845652021
         },
         {
          "date": "2020-10-27T05:36:17.837838",
          "score": 0.8926111900442415
         },
         {
          "date": "2020-10-31T15:42:25.405406",
          "score": 0.8937509521044692
         },
         {
          "date": "2020-11-05T01:48:32.972973",
          "score": 0.8948854532592715
         },
         {
          "date": "2020-11-09T11:54:40.540540",
          "score": 0.8960146760963088
         },
         {
          "date": "2020-11-13T22:00:48.108108",
          "score": 0.8971386032778783
         },
         {
          "date": "2020-11-18T08:06:55.675676",
          "score": 0.8982572175412845
         },
         {
          "date": "2020-11-22T18:13:03.243243",
          "score": 0.8993705016992052
         },
         {
          "date": "2020-11-27T04:19:10.810811",
          "score": 0.9004784386400556
         },
         {
          "date": "2020-12-01T14:25:18.378378",
          "score": 0.9015810113283516
         },
         {
          "date": "2020-12-06T00:31:25.945946",
          "score": 0.9026782028050704
         },
         {
          "date": "2020-12-10T10:37:33.513514",
          "score": 0.9037699961880117
         },
         {
          "date": "2020-12-14T20:43:41.081081",
          "score": 0.9048563746721544
         },
         {
          "date": "2020-12-19T06:49:48.648649",
          "score": 0.9059373215300146
         },
         {
          "date": "2020-12-23T16:55:56.216216",
          "score": 0.9070128201119981
         },
         {
          "date": "2020-12-28T03:02:03.783784",
          "score": 0.9080828538467589
         },
         {
          "date": "2021-01-01T13:08:11.351351",
          "score": 0.9091474062415423
         },
         {
          "date": "2021-01-05T23:14:18.918919",
          "score": 0.9102064608825448
         },
         {
          "date": "2021-01-10T09:20:26.486486",
          "score": 0.9112600014352555
         },
         {
          "date": "2021-01-14T19:26:34.054054",
          "score": 0.9123080116448047
         },
         {
          "date": "2021-01-19T05:32:41.621622",
          "score": 0.9133504753363103
         },
         {
          "date": "2021-01-23T15:38:49.189189",
          "score": 0.9143873764152197
         },
         {
          "date": "2021-01-28T01:44:56.756757",
          "score": 0.9154186988676523
         },
         {
          "date": "2021-02-01T11:51:04.324324",
          "score": 0.916444426760739
         },
         {
          "date": "2021-02-05T21:57:11.891892",
          "score": 0.9174645442429609
         },
         {
          "date": "2021-02-10T08:03:19.459460",
          "score": 0.918479035544486
         },
         {
          "date": "2021-02-14T18:09:27.027027",
          "score": 0.9194878849775031
         },
         {
          "date": "2021-02-19T04:15:34.594594",
          "score": 0.9204910769365563
         },
         {
          "date": "2021-02-23T14:21:42.162162",
          "score": 0.921488595898877
         },
         {
          "date": "2021-02-28T00:27:49.729730",
          "score": 0.92248042642471
         },
         {
          "date": "2021-03-04T10:33:57.297297",
          "score": 0.9234665531576465
         },
         {
          "date": "2021-03-08T20:40:04.864865",
          "score": 0.9244469608249464
         },
         {
          "date": "2021-03-13T06:46:12.432432",
          "score": 0.9254216342378652
         },
         {
          "date": "2021-03-17T16:52:20",
          "score": 0.9263905582919746
         },
         {
          "date": "2021-03-22T02:58:27.567568",
          "score": 0.9273537179674853
         },
         {
          "date": "2021-03-26T13:04:35.135135",
          "score": 0.9283110983295655
         },
         {
          "date": "2021-03-31T00:10:42.702703",
          "score": 0.9292626845286575
         },
         {
          "date": "2021-04-04T10:16:50.270270",
          "score": 0.9302084618007946
         },
         {
          "date": "2021-04-08T20:22:57.837838",
          "score": 0.9311484154679138
         },
         {
          "date": "2021-04-13T06:29:05.405406",
          "score": 0.93208253093817
         },
         {
          "date": "2021-04-17T16:35:12.972973",
          "score": 0.9330107937062401
         },
         {
          "date": "2021-04-22T02:41:20.540540",
          "score": 0.9339331893536407
         },
         {
          "date": "2021-04-26T12:47:28.108108",
          "score": 0.9348497035490261
         },
         {
          "date": "2021-04-30T22:53:35.675676",
          "score": 0.9357603220484979
         },
         {
          "date": "2021-05-05T08:59:43.243243",
          "score": 0.9366650306959055
         },
         {
          "date": "2021-05-09T19:05:50.810811",
          "score": 0.9375638154231479
         },
         {
          "date": "2021-05-14T05:11:58.378378",
          "score": 0.9384566622504734
         },
         {
          "date": "2021-05-18T15:18:05.945946",
          "score": 0.9393435572867763
         },
         {
          "date": "2021-05-23T01:24:13.513514",
          "score": 0.9402244867298915
         },
         {
          "date": "2021-05-27T11:30:21.081081",
          "score": 0.9410994368668891
         },
         {
          "date": "2021-05-31T21:36:28.648649",
          "score": 0.9419683940743663
         },
         {
          "date": "2021-06-05T07:42:36.216216",
          "score": 0.9428313448187351
         },
         {
          "date": "2021-06-09T17:48:43.783784",
          "score": 0.9436882756565145
         },
         {
          "date": "2021-06-14T03:54:51.351351",
          "score": 0.9445391732346096
         },
         {
          "date": "2021-06-18T14:00:58.918919",
          "score": 0.9453840242906031
         },
         {
          "date": "2021-06-23T00:07:06.486486",
          "score": 0.9462228156530319
         },
         {
          "date": "2021-06-27T10:13:14.054054",
          "score": 0.9470555342416703
         },
         {
          "date": "2021-07-01T20:19:21.621622",
          "score": 0.9478821670678069
         },
         {
          "date": "2021-07-06T06:25:29.189189",
          "score": 0.9487027012345214
         },
         {
          "date": "2021-07-10T16:31:36.756757",
          "score": 0.9495171239369592
         },
         {
          "date": "2021-07-15T02:37:44.324324",
          "score": 0.9503254224626034
         },
         {
          "date": "2021-07-19T12:43:51.891892",
          "score": 0.9511275841915456
         },
         {
          "date": "2021-07-23T22:49:59.459460",
          "score": 0.9519235965967551
         },
         {
          "date": "2021-07-28T08:56:07.027027",
          "score": 0.9527134472443435
         },
         {
          "date": "2021-08-01T19:02:14.594594",
          "score": 0.953497123793831
         },
         {
          "date": "2021-08-06T05:08:22.162162",
          "score": 0.9542746139984107
         },
         {
          "date": "2021-08-10T15:14:29.729730",
          "score": 0.9550459057052035
         },
         {
          "date": "2021-08-15T01:20:37.297297",
          "score": 0.9558109868555241
         },
         {
          "date": "2021-08-19T11:26:44.864865",
          "score": 0.9565698454851319
         },
         {
          "date": "2021-08-23T21:32:52.432432",
          "score": 0.9573224697244886
         },
         {
          "date": "2021-08-28T07:39:00",
          "score": 0.9580688477990102
         },
         {
          "date": "2021-09-01T17:45:07.567568",
          "score": 0.9588089680293174
         },
         {
          "date": "2021-09-06T03:51:15.135135",
          "score": 0.9595428188314844
         },
         {
          "date": "2021-09-10T13:57:22.702703",
          "score": 0.9602703887172861
         },
         {
          "date": "2021-09-15T00:03:30.270270",
          "score": 0.960991666294442
         },
         {
          "date": "2021-09-19T10:09:37.837838",
          "score": 0.9617066402668581
         },
         {
          "date": "2021-09-23T20:15:45.405406",
          "score": 0.9624152994348706
         },
         {
          "date": "2021-09-28T06:21:52.972973",
          "score": 0.9631176326954791
         },
         {
          "date": "2021-10-02T16:28:00.540541",
          "score": 0.963813629042589
         },
         {
          "date": "2021-10-07T02:34:08.108108",
          "score": 0.9645032775672402
         },
         {
          "date": "2021-10-11T12:40:15.675676",
          "score": 0.9651865674578444
         },
         {
          "date": "2021-10-15T22:46:23.243243",
          "score": 0.965863488000412
         },
         {
          "date": "2021-10-20T08:52:30.810811",
          "score": 0.9665340285787816
         },
         {
          "date": "2021-10-24T18:58:38.378378",
          "score": 0.967198178674846
         },
         {
          "date": "2021-10-29T05:04:45.945946",
          "score": 0.9678559278687764
         },
         {
          "date": "2021-11-02T14:10:53.513514",
          "score": 0.968507265839244
         },
         {
          "date": "2021-11-07T00:17:01.081081",
          "score": 0.9691521823636394
         },
         {
          "date": "2021-11-11T10:23:08.648649",
          "score": 0.9697906673182922
         },
         {
          "date": "2021-11-15T20:29:16.216216",
          "score": 0.9704227106786839
         },
         {
          "date": "2021-11-20T06:35:23.783784",
          "score": 0.9710483025196653
         },
         {
          "date": "2021-11-24T16:41:31.351351",
          "score": 0.9716674330156629
         },
         {
          "date": "2021-11-29T02:47:38.918919",
          "score": 0.9722800924408931
         },
         {
          "date": "2021-12-03T12:53:46.486486",
          "score": 0.9728862711695664
         },
         {
          "date": "2021-12-07T22:59:54.054054",
          "score": 0.973485959676094
         },
         {
          "date": "2021-12-12T09:06:01.621622",
          "score": 0.9740791485352893
         },
         {
          "date": "2021-12-16T19:12:09.189189",
          "score": 0.9746658284225704
         },
         {
          "date": "2021-12-21T05:18:16.756757",
          "score": 0.9752459901141582
         },
         {
          "date": "2021-12-25T15:24:24.324324",
          "score": 0.9758196244872719
         },
         {
          "date": "2021-12-30T01:30:31.891892",
          "score": 0.9763867225203255
         },
         {
          "date": "2022-01-03T11:36:39.459460",
          "score": 0.976947275293118
         },
         {
          "date": "2022-01-07T21:42:47.027027",
          "score": 0.9775012739870246
         },
         {
          "date": "2022-01-12T07:48:54.594594",
          "score": 0.9780487098851844
         },
         {
          "date": "2022-01-16T17:55:02.162162",
          "score": 0.9785895743726876
         },
         {
          "date": "2022-01-21T04:01:09.729730",
          "score": 0.9791238589367547
         },
         {
          "date": "2022-01-25T14:07:17.297297",
          "score": 0.9796515551669243
         },
         {
          "date": "2022-01-30T00:13:24.864865",
          "score": 0.980172654755227
         },
         {
          "date": "2022-02-03T10:19:32.432432",
          "score": 0.9806871494963655
         },
         {
          "date": "2022-02-07T20:25:40",
          "score": 0.9811950312878882
         },
         {
          "date": "2022-02-12T06:31:47.567568",
          "score": 0.9816962921303628
         },
         {
          "date": "2022-02-16T16:37:55.135135",
          "score": 0.9821909241275455
         },
         {
          "date": "2022-02-21T02:44:02.702703",
          "score": 0.982678919486551
         },
         {
          "date": "2022-02-25T12:50:10.270270",
          "score": 0.9831602705180175
         },
         {
          "date": "2022-03-01T22:56:17.837838",
          "score": 0.9836349696362705
         },
         {
          "date": "2022-03-06T09:02:25.405406",
          "score": 0.9841030093594866
         },
         {
          "date": "2022-03-10T19:08:32.972973",
          "score": 0.9845643823098489
         },
         {
          "date": "2022-03-15T05:14:40.540541",
          "score": 0.9850190812137094
         },
         {
          "date": "2022-03-19T15:20:48.108108",
          "score": 0.9854670989017392
         },
         {
          "date": "2022-03-24T01:26:55.675676",
          "score": 0.9859084283090859
         },
         {
          "date": "2022-03-28T12:33:03.243243",
          "score": 0.9863430624755201
         },
         {
          "date": "2022-04-01T22:39:10.810811",
          "score": 0.9867709945455867
         },
         {
          "date": "2022-04-06T08:45:18.378378",
          "score": 0.9871922177687501
         },
         {
          "date": "2022-04-10T18:51:25.945946",
          "score": 0.9876067254995379
         },
         {
          "date": "2022-04-15T04:57:33.513514",
          "score": 0.9880145111976832
         },
         {
          "date": "2022-04-19T15:03:41.081081",
          "score": 0.9884155684282635
         },
         {
          "date": "2022-04-24T01:09:48.648649",
          "score": 0.9888098908618381
         },
         {
          "date": "2022-04-28T11:15:56.216216",
          "score": 0.9891974722745833
         },
         {
          "date": "2022-05-02T21:22:03.783784",
          "score": 0.9895783065484258
         },
         {
          "date": "2022-05-07T07:28:11.351351",
          "score": 0.9899523876711709
         },
         {
          "date": "2022-05-11T17:34:18.918919",
          "score": 0.9903197097366335
         },
         {
          "date": "2022-05-16T03:40:26.486486",
          "score": 0.9906802669447622
         },
         {
          "date": "2022-05-20T13:46:34.054054",
          "score": 0.9910340536017637
         },
         {
          "date": "2022-05-24T23:52:41.621622",
          "score": 0.9913810641202244
         },
         {
          "date": "2022-05-29T09:58:49.189189",
          "score": 0.9917212930192288
         },
         {
          "date": "2022-06-02T20:04:56.756757",
          "score": 0.9920547349244774
         },
         {
          "date": "2022-06-07T06:11:04.324324",
          "score": 0.9923813845684007
         },
         {
          "date": "2022-06-11T16:17:11.891892",
          "score": 0.9927012367902722
         },
         {
          "date": "2022-06-16T02:23:19.459460",
          "score": 0.9930142865363172
         },
         {
          "date": "2022-06-20T12:29:27.027027",
          "score": 0.9933205288598216
         },
         {
          "date": "2022-06-24T22:35:34.594594",
          "score": 0.9936199589212378
         },
         {
          "date": "2022-06-29T08:41:42.162162",
          "score": 0.9939125719882872
         },
         {
          "date": "2022-07-03T18:47:49.729730",
          "score": 0.9941983634360607
         },
         {
          "date": "2022-07-08T04:53:57.297297",
          "score": 0.9944773287471194
         },
         {
          "date": "2022-07-12T15:00:04.864865",
          "score": 0.9947494635115878
         },
         {
          "date": "2022-07-17T01:06:12.432432",
          "score": 0.995014763427251
         },
         {
          "date": "2022-07-21T11:12:20",
          "score": 0.9952732242996447
         },
         {
          "date": "2022-07-25T21:18:27.567568",
          "score": 0.9955248420421449
         },
         {
          "date": "2022-07-30T07:24:35.135135",
          "score": 0.9957696126760557
         },
         {
          "date": "2022-08-03T17:30:42.702703",
          "score": 0.9960075323306935
         },
         {
          "date": "2022-08-08T03:36:50.270270",
          "score": 0.99623859724347
         },
         {
          "date": "2022-08-12T13:42:57.837838",
          "score": 0.9964628037599725
         },
         {
          "date": "2022-08-16T23:49:05.405406",
          "score": 0.9966801483340416
         },
         {
          "date": "2022-08-21T09:55:12.972973",
          "score": 0.9968906275278465
         },
         {
          "date": "2022-08-25T20:01:20.540541",
          "score": 0.9970942380119601
         },
         {
          "date": "2022-08-30T06:07:28.108108",
          "score": 0.9972909765654271
         },
         {
          "date": "2022-09-03T16:13:35.675676",
          "score": 0.9974808400758359
         },
         {
          "date": "2022-09-08T02:19:43.243243",
          "score": 0.9976638255393828
         },
         {
          "date": "2022-09-12T12:25:50.810811",
          "score": 0.9978399300609366
         },
         {
          "date": "2022-09-16T22:31:58.378378",
          "score": 0.9980091508541012
         },
         {
          "date": "2022-09-21T08:38:05.945946",
          "score": 0.9981714852412736
         },
         {
          "date": "2022-09-25T18:44:13.513514",
          "score": 0.9983269306537027
         },
         {
          "date": "2022-09-30T04:50:21.081081",
          "score": 0.9984754846315431
         },
         {
          "date": "2022-10-04T14:56:28.648649",
          "score": 0.9986171448239072
         },
         {
          "date": "2022-10-09T01:02:36.216216",
          "score": 0.9987519089889162
         },
         {
          "date": "2022-10-13T11:08:43.783784",
          "score": 0.9988797749937482
         },
         {
          "date": "2022-10-17T21:14:51.351351",
          "score": 0.9990007408146826
         },
         {
          "date": "2022-10-22T07:20:58.918919",
          "score": 0.9991148045371439
         },
         {
          "date": "2022-10-26T17:27:06.486486",
          "score": 0.9992219643557427
         },
         {
          "date": "2022-10-31T02:33:14.054054",
          "score": 0.9993222185743141
         },
         {
          "date": "2022-11-04T12:39:21.621622",
          "score": 0.9994155656059538
         },
         {
          "date": "2022-11-08T22:45:29.189189",
          "score": 0.9995020039730516
         },
         {
          "date": "2022-11-13T08:51:36.756757",
          "score": 0.9995815323073236
         },
         {
          "date": "2022-11-17T18:57:44.324324",
          "score": 0.9996541493498414
         },
         {
          "date": "2022-11-22T05:03:51.891892",
          "score": 0.9997198539510584
         },
         {
          "date": "2022-11-26T15:09:59.459460",
          "score": 0.9997786450708347
         },
         {
          "date": "2022-12-01T01:16:07.027027",
          "score": 0.9998305217784593
         },
         {
          "date": "2022-12-05T11:22:14.594594",
          "score": 0.9998754832526698
         },
         {
          "date": "2022-12-09T21:28:22.162162",
          "score": 0.9999135287816698
         },
         {
          "date": "2022-12-14T07:34:29.729730",
          "score": 0.9999446577631447
         },
         {
          "date": "2022-12-18T17:40:37.297297",
          "score": 0.9999688697042738
         },
         {
          "date": "2022-12-23T03:46:44.864865",
          "score": 0.9999861642217415
         },
         {
          "date": "2022-12-27T13:52:52.432432",
          "score": 0.9999965410417448
         },
         {
          "date": "2022-12-31T23:59:00",
          "score": 0.9999999999999999
         }
        ]
       },
       "encoding": {
        "tooltip": [
         {
          "field": "date",
          "type": "temporal"
         }
        ],
        "x": {
         "field": "date",
         "title": "Date",
         "type": "temporal"
        },
        "y": {
         "field": "score",
         "title": "Recency score",
         "type": "quantitative"
        }
       },
       "height": 380,
       "mark": {
        "color": "black",
        "filled": true,
        "size": 10,
        "type": "point"
       },
       "title": "Recency scores (unit weight)",
       "width": 500
      },
      "text/plain": [
       "<VegaLite 5 object>\n",
       "\n",
       "If you see this message, it means the renderer has not been properly enabled\n",
       "for the frontend that you are using. For more information, see\n",
       "https://altair-viz.github.io/user_guide/display_frontends.html#troubleshooting\n"
      ]
     },
     "execution_count": 17,
     "metadata": {},
     "output_type": "execute_result"
    }
   ],
   "source": [
    "recency_plotter = sl.RecencyPlotter(recency_space, context_data=EXECUTOR_DATA)\n",
    "recency_plotter.plot_recency_curve()"
   ]
  },
  {
   "cell_type": "markdown",
   "id": "e5213ec8-93aa-4e30-91e5-108afe8bac4d",
   "metadata": {},
   "source": [
    "## Queries"
   ]
  },
  {
   "cell_type": "markdown",
   "id": "fdd3e696-0613-425e-a750-70f70f679824",
   "metadata": {},
   "source": [
    "Let's search for one of the biggest acquisitions of the last decade! We are going to set recency's weight to 0 as it does not matter at this point."
   ]
  },
  {
   "cell_type": "code",
   "execution_count": null,
   "id": "5528c3af-67de-4e31-9cfd-c8a8c080cd29",
   "metadata": {
    "scrolled": true
   },
   "outputs": [
    {
     "data": {
      "text/html": [
       "<div>\n",
       "<style scoped>\n",
       "    .dataframe tbody tr th:only-of-type {\n",
       "        vertical-align: middle;\n",
       "    }\n",
       "\n",
       "    .dataframe tbody tr th {\n",
       "        vertical-align: top;\n",
       "    }\n",
       "\n",
       "    .dataframe thead th {\n",
       "        text-align: right;\n",
       "    }\n",
       "</style>\n",
       "<table border=\"1\" class=\"dataframe\">\n",
       "  <thead>\n",
       "    <tr style=\"text-align: right;\">\n",
       "      <th></th>\n",
       "      <th>description</th>\n",
       "      <th>headline</th>\n",
       "      <th>id</th>\n",
       "      <th>similarity_score</th>\n",
       "      <th>release_date</th>\n",
       "    </tr>\n",
       "  </thead>\n",
       "  <tbody>\n",
       "    <tr>\n",
       "      <th>0</th>\n",
       "      <td>(Reuters) - Microsoft Corp  agreed to buy LinkedIn Corp  for $26.2 billion in cash, the companies said in</td>\n",
       "      <td>Microsoft Agrees To Acquire LinkedIn For $26.2 Billion</td>\n",
       "      <td>64890</td>\n",
       "      <td>0.879656</td>\n",
       "      <td>2016-06-13</td>\n",
       "    </tr>\n",
       "    <tr>\n",
       "      <th>1</th>\n",
       "      <td>Without question, LinkedIn has forever altered the business landscape -- both digitally and in the physical world. Nowadays, so much of what we call business or career development is car...</td>\n",
       "      <td>The LinkedIn of Things</td>\n",
       "      <td>110756</td>\n",
       "      <td>0.526925</td>\n",
       "      <td>2015-01-06</td>\n",
       "    </tr>\n",
       "    <tr>\n",
       "      <th>2</th>\n",
       "      <td>LinkedIn works very well for the millions of people who make the effort to understand how to leverage it effectively. And those people are very likely not spending more than fifteen a mi...</td>\n",
       "      <td>The 7 LinkedIn Job Search Mistakes That Might Be Costing You a Job</td>\n",
       "      <td>127772</td>\n",
       "      <td>0.422179</td>\n",
       "      <td>2014-06-26</td>\n",
       "    </tr>\n",
       "    <tr>\n",
       "      <th>3</th>\n",
       "      <td>Although under-used by average LinkedIn members, LinkedIn Groups can be critical to a successful job search because they enable you to communicate directly with recruiters. And vice versa.</td>\n",
       "      <td>Get LinkedIn to Recruiters for Your Job Search</td>\n",
       "      <td>126794</td>\n",
       "      <td>0.366359</td>\n",
       "      <td>2014-07-07</td>\n",
       "    </tr>\n",
       "    <tr>\n",
       "      <th>4</th>\n",
       "      <td>NEW YORK (AP) — Anthem is buying rival Cigna for $48 billion in a deal that would create the nation's largest health insurer</td>\n",
       "      <td>MEGA-MERGER: Anthem To Buy Cigna For $54 Billion</td>\n",
       "      <td>93451</td>\n",
       "      <td>0.346358</td>\n",
       "      <td>2015-07-24</td>\n",
       "    </tr>\n",
       "    <tr>\n",
       "      <th>5</th>\n",
       "      <td>The struggling social network is looking for a buyer.</td>\n",
       "      <td>Twitter Is Reportedly In Sales Talks With Google And Salesforce</td>\n",
       "      <td>55880</td>\n",
       "      <td>0.326202</td>\n",
       "      <td>2016-09-23</td>\n",
       "    </tr>\n",
       "    <tr>\n",
       "      <th>6</th>\n",
       "      <td>The company's value has soared in the last five years and it has more users than Twitter.</td>\n",
       "      <td>Snapchat Is Reportedly Planning A $25 Billion IPO</td>\n",
       "      <td>54727</td>\n",
       "      <td>0.324640</td>\n",
       "      <td>2016-10-06</td>\n",
       "    </tr>\n",
       "    <tr>\n",
       "      <th>7</th>\n",
       "      <td>If failed corporate mergers teach us anything about business, it's that bigger is not always better. Yep, with a 70 to 90</td>\n",
       "      <td>9 Mergers That Epically Failed</td>\n",
       "      <td>173078</td>\n",
       "      <td>0.323164</td>\n",
       "      <td>2013-02-23</td>\n",
       "    </tr>\n",
       "    <tr>\n",
       "      <th>8</th>\n",
       "      <td>“With the Snap investment, we have invested over $1.5 billion in promising digital businesses in the last eighteen months.”</td>\n",
       "      <td>NBCUniversal Invested $500 Million In Snap Inc As Part Of IPO</td>\n",
       "      <td>41556</td>\n",
       "      <td>0.314068</td>\n",
       "      <td>2017-03-03</td>\n",
       "    </tr>\n",
       "    <tr>\n",
       "      <th>9</th>\n",
       "      <td>Another day, another merger. Telephone companies, drug companies, drugstores, airlines, hospitals, retail stores and beer. Why?</td>\n",
       "      <td>The Great Remix: Why Mergers Are Booming</td>\n",
       "      <td>84610</td>\n",
       "      <td>0.313754</td>\n",
       "      <td>2015-11-01</td>\n",
       "    </tr>\n",
       "  </tbody>\n",
       "</table>\n",
       "</div>"
      ],
      "text/plain": [
       "                                                                                                                                                                                     description  \\\n",
       "0                                                                                      (Reuters) - Microsoft Corp  agreed to buy LinkedIn Corp  for $26.2 billion in cash, the companies said in   \n",
       "1  Without question, LinkedIn has forever altered the business landscape -- both digitally and in the physical world. Nowadays, so much of what we call business or career development is car...   \n",
       "2  LinkedIn works very well for the millions of people who make the effort to understand how to leverage it effectively. And those people are very likely not spending more than fifteen a mi...   \n",
       "3   Although under-used by average LinkedIn members, LinkedIn Groups can be critical to a successful job search because they enable you to communicate directly with recruiters. And vice versa.   \n",
       "4                                                                   NEW YORK (AP) — Anthem is buying rival Cigna for $48 billion in a deal that would create the nation's largest health insurer   \n",
       "5                                                                                                                                          The struggling social network is looking for a buyer.   \n",
       "6                                                                                                      The company's value has soared in the last five years and it has more users than Twitter.   \n",
       "7                                                                      If failed corporate mergers teach us anything about business, it's that bigger is not always better. Yep, with a 70 to 90   \n",
       "8                                                                    “With the Snap investment, we have invested over $1.5 billion in promising digital businesses in the last eighteen months.”   \n",
       "9                                                                Another day, another merger. Telephone companies, drug companies, drugstores, airlines, hospitals, retail stores and beer. Why?   \n",
       "\n",
       "                                                             headline      id  \\\n",
       "0              Microsoft Agrees To Acquire LinkedIn For $26.2 Billion   64890   \n",
       "1                                              The LinkedIn of Things  110756   \n",
       "2  The 7 LinkedIn Job Search Mistakes That Might Be Costing You a Job  127772   \n",
       "3                      Get LinkedIn to Recruiters for Your Job Search  126794   \n",
       "4                    MEGA-MERGER: Anthem To Buy Cigna For $54 Billion   93451   \n",
       "5     Twitter Is Reportedly In Sales Talks With Google And Salesforce   55880   \n",
       "6                   Snapchat Is Reportedly Planning A $25 Billion IPO   54727   \n",
       "7                                      9 Mergers That Epically Failed  173078   \n",
       "8       NBCUniversal Invested $500 Million In Snap Inc As Part Of IPO   41556   \n",
       "9                            The Great Remix: Why Mergers Are Booming   84610   \n",
       "\n",
       "   similarity_score release_date  \n",
       "0          0.879656   2016-06-13  \n",
       "1          0.526925   2015-01-06  \n",
       "2          0.422179   2014-06-26  \n",
       "3          0.366359   2014-07-07  \n",
       "4          0.346358   2015-07-24  \n",
       "5          0.326202   2016-09-23  \n",
       "6          0.324640   2016-10-06  \n",
       "7          0.323164   2013-02-23  \n",
       "8          0.314068   2017-03-03  \n",
       "9          0.313754   2015-11-01  "
      ]
     },
     "execution_count": 20,
     "metadata": {},
     "output_type": "execute_result"
    }
   ],
   "source": [
    "result = app.query(\n",
    "    simple_query,\n",
    "    query_text=\"Microsoft acquires LinkedIn\",\n",
    "    description_weight=1,\n",
    "    headline_weight=1,\n",
    "    limit=TOP_N,\n",
    ")\n",
    "\n",
    "df = sl.PandasConverter.to_pandas(result)\n",
    "sl.PandasConverter.format_date_column(df, \"release_timestamp\", \"release_date\")"
   ]
  },
  {
   "cell_type": "markdown",
   "id": "6d74b0af-42df-4166-aa6f-c57676b4b19c",
   "metadata": {},
   "source": [
    "The first result is about the deal, others are related to some aspect of the query. Let's try upweighting recency to see a recent big acquisition jump to the second place."
   ]
  },
  {
   "cell_type": "code",
   "execution_count": 21,
   "id": "3d45edfa-d92f-4196-93e7-a2e91743ffba",
   "metadata": {},
   "outputs": [
    {
     "data": {
      "text/html": [
       "<div>\n",
       "<style scoped>\n",
       "    .dataframe tbody tr th:only-of-type {\n",
       "        vertical-align: middle;\n",
       "    }\n",
       "\n",
       "    .dataframe tbody tr th {\n",
       "        vertical-align: top;\n",
       "    }\n",
       "\n",
       "    .dataframe thead th {\n",
       "        text-align: right;\n",
       "    }\n",
       "</style>\n",
       "<table border=\"1\" class=\"dataframe\">\n",
       "  <thead>\n",
       "    <tr style=\"text-align: right;\">\n",
       "      <th></th>\n",
       "      <th>description</th>\n",
       "      <th>headline</th>\n",
       "      <th>id</th>\n",
       "      <th>similarity_score</th>\n",
       "      <th>release_date</th>\n",
       "    </tr>\n",
       "  </thead>\n",
       "  <tbody>\n",
       "    <tr>\n",
       "      <th>0</th>\n",
       "      <td>(Reuters) - Microsoft Corp  agreed to buy LinkedIn Corp  for $26.2 billion in cash, the companies said in</td>\n",
       "      <td>Microsoft Agrees To Acquire LinkedIn For $26.2 Billion</td>\n",
       "      <td>64890</td>\n",
       "      <td>0.744531</td>\n",
       "      <td>2016-06-13</td>\n",
       "    </tr>\n",
       "    <tr>\n",
       "      <th>1</th>\n",
       "      <td>“My offer is my best and final offer and if it is not accepted, I would need to reconsider my position as a shareholder,” Musk said in a filing.</td>\n",
       "      <td>Elon Musk Offers To Buy 100% Of Twitter</td>\n",
       "      <td>849</td>\n",
       "      <td>0.531720</td>\n",
       "      <td>2022-04-14</td>\n",
       "    </tr>\n",
       "    <tr>\n",
       "      <th>2</th>\n",
       "      <td>Starbucks' move follows McDonald's exit from the Russian market last week.</td>\n",
       "      <td>Starbucks Leaving Russian Market, Shutting 130 Stores</td>\n",
       "      <td>632</td>\n",
       "      <td>0.490162</td>\n",
       "      <td>2022-05-23</td>\n",
       "    </tr>\n",
       "    <tr>\n",
       "      <th>3</th>\n",
       "      <td>Without question, LinkedIn has forever altered the business landscape -- both digitally and in the physical world. Nowadays, so much of what we call business or career development is car...</td>\n",
       "      <td>The LinkedIn of Things</td>\n",
       "      <td>110756</td>\n",
       "      <td>0.462349</td>\n",
       "      <td>2015-01-06</td>\n",
       "    </tr>\n",
       "    <tr>\n",
       "      <th>4</th>\n",
       "      <td>Delaware Chancery Judge Kathaleen McCormick dealt the world's richest person a setback in ordering a speedy trial on his abandoned deal to buy Twitter.</td>\n",
       "      <td>Twitter Lawyer Calls Elon Musk 'Committed Enemy' As Judge Sets October Trial</td>\n",
       "      <td>353</td>\n",
       "      <td>0.455940</td>\n",
       "      <td>2022-07-20</td>\n",
       "    </tr>\n",
       "    <tr>\n",
       "      <th>5</th>\n",
       "      <td>The decision comes as surging oil prices have been rattling global markets and after Ukraine’s foreign minister criticized Shell for continuing to buy Russian oil.</td>\n",
       "      <td>Shell Says It Will Stop Buying Russian Oil, Natural Gas</td>\n",
       "      <td>1054</td>\n",
       "      <td>0.452030</td>\n",
       "      <td>2022-03-08</td>\n",
       "    </tr>\n",
       "    <tr>\n",
       "      <th>6</th>\n",
       "      <td>That makes seven Starbucks stores that have voted to unionize in a matter of months.</td>\n",
       "      <td>Starbucks Workers In Seattle Vote To Form Union</td>\n",
       "      <td>967</td>\n",
       "      <td>0.449442</td>\n",
       "      <td>2022-03-23</td>\n",
       "    </tr>\n",
       "    <tr>\n",
       "      <th>7</th>\n",
       "      <td>Recent statements by CEO Howard Schultz offer a glimpse of some of the hardball tactics that might lay ahead.</td>\n",
       "      <td>For The Starbucks Union Campaign, A Bruising Contract Fight Is Just Beginning</td>\n",
       "      <td>837</td>\n",
       "      <td>0.438460</td>\n",
       "      <td>2022-04-16</td>\n",
       "    </tr>\n",
       "    <tr>\n",
       "      <th>8</th>\n",
       "      <td>Android creator Andy Rubin, accused of sexual harassment, was given a severance package worth $240 million, according to the lawsuit.</td>\n",
       "      <td>Google's Alphabet Settles With Shareholders Over Payoffs To Execs Accused Of Harassment</td>\n",
       "      <td>4025</td>\n",
       "      <td>0.426013</td>\n",
       "      <td>2020-09-26</td>\n",
       "    </tr>\n",
       "    <tr>\n",
       "      <th>9</th>\n",
       "      <td>The store in Arizona joins two in New York as the only corporate Starbucks stores with a union.</td>\n",
       "      <td>Another Starbucks Store Votes To Unionize</td>\n",
       "      <td>1117</td>\n",
       "      <td>0.425772</td>\n",
       "      <td>2022-02-25</td>\n",
       "    </tr>\n",
       "  </tbody>\n",
       "</table>\n",
       "</div>"
      ],
      "text/plain": [
       "                                                                                                                                                                                     description  \\\n",
       "0                                                                                      (Reuters) - Microsoft Corp  agreed to buy LinkedIn Corp  for $26.2 billion in cash, the companies said in   \n",
       "1                                               “My offer is my best and final offer and if it is not accepted, I would need to reconsider my position as a shareholder,” Musk said in a filing.   \n",
       "2                                                                                                                     Starbucks' move follows McDonald's exit from the Russian market last week.   \n",
       "3  Without question, LinkedIn has forever altered the business landscape -- both digitally and in the physical world. Nowadays, so much of what we call business or career development is car...   \n",
       "4                                        Delaware Chancery Judge Kathaleen McCormick dealt the world's richest person a setback in ordering a speedy trial on his abandoned deal to buy Twitter.   \n",
       "5                            The decision comes as surging oil prices have been rattling global markets and after Ukraine’s foreign minister criticized Shell for continuing to buy Russian oil.   \n",
       "6                                                                                                           That makes seven Starbucks stores that have voted to unionize in a matter of months.   \n",
       "7                                                                                  Recent statements by CEO Howard Schultz offer a glimpse of some of the hardball tactics that might lay ahead.   \n",
       "8                                                          Android creator Andy Rubin, accused of sexual harassment, was given a severance package worth $240 million, according to the lawsuit.   \n",
       "9                                                                                                The store in Arizona joins two in New York as the only corporate Starbucks stores with a union.   \n",
       "\n",
       "                                                                                  headline  \\\n",
       "0                                   Microsoft Agrees To Acquire LinkedIn For $26.2 Billion   \n",
       "1                                                  Elon Musk Offers To Buy 100% Of Twitter   \n",
       "2                                    Starbucks Leaving Russian Market, Shutting 130 Stores   \n",
       "3                                                                   The LinkedIn of Things   \n",
       "4             Twitter Lawyer Calls Elon Musk 'Committed Enemy' As Judge Sets October Trial   \n",
       "5                                  Shell Says It Will Stop Buying Russian Oil, Natural Gas   \n",
       "6                                          Starbucks Workers In Seattle Vote To Form Union   \n",
       "7            For The Starbucks Union Campaign, A Bruising Contract Fight Is Just Beginning   \n",
       "8  Google's Alphabet Settles With Shareholders Over Payoffs To Execs Accused Of Harassment   \n",
       "9                                                Another Starbucks Store Votes To Unionize   \n",
       "\n",
       "       id  similarity_score release_date  \n",
       "0   64890          0.744531   2016-06-13  \n",
       "1     849          0.531720   2022-04-14  \n",
       "2     632          0.490162   2022-05-23  \n",
       "3  110756          0.462349   2015-01-06  \n",
       "4     353          0.455940   2022-07-20  \n",
       "5    1054          0.452030   2022-03-08  \n",
       "6     967          0.449442   2022-03-23  \n",
       "7     837          0.438460   2022-04-16  \n",
       "8    4025          0.426013   2020-09-26  \n",
       "9    1117          0.425772   2022-02-25  "
      ]
     },
     "execution_count": 21,
     "metadata": {},
     "output_type": "execute_result"
    }
   ],
   "source": [
    "result = app.query(\n",
    "    simple_query,\n",
    "    query_text=\"Microsoft acquires LinkedIn\",\n",
    "    description_weight=1,\n",
    "    headline_weight=1,\n",
    "    recency_weight=1,\n",
    "    limit=TOP_N,\n",
    ")\n",
    "\n",
    "df = sl.PandasConverter.to_pandas(result)\n",
    "sl.PandasConverter.format_date_column(df, \"release_timestamp\", \"release_date\")"
   ]
  },
  {
   "cell_type": "markdown",
   "id": "cc510836-74f6-438d-9db2-e5bde54fe8c9",
   "metadata": {},
   "source": [
    "Subsequently we can also search with the news article about Elon Musk offering to buy Twitter. As the dataset is quite biased towards old articles, what we get back is news about either Elon Musk or Twitter."
   ]
  },
  {
   "cell_type": "code",
   "execution_count": 22,
   "id": "8d8db7ab-909e-49be-a7ab-81a0159c92ff",
   "metadata": {
    "scrolled": true
   },
   "outputs": [
    {
     "data": {
      "text/html": [
       "<div>\n",
       "<style scoped>\n",
       "    .dataframe tbody tr th:only-of-type {\n",
       "        vertical-align: middle;\n",
       "    }\n",
       "\n",
       "    .dataframe tbody tr th {\n",
       "        vertical-align: top;\n",
       "    }\n",
       "\n",
       "    .dataframe thead th {\n",
       "        text-align: right;\n",
       "    }\n",
       "</style>\n",
       "<table border=\"1\" class=\"dataframe\">\n",
       "  <thead>\n",
       "    <tr style=\"text-align: right;\">\n",
       "      <th></th>\n",
       "      <th>description</th>\n",
       "      <th>headline</th>\n",
       "      <th>id</th>\n",
       "      <th>similarity_score</th>\n",
       "      <th>release_date</th>\n",
       "    </tr>\n",
       "  </thead>\n",
       "  <tbody>\n",
       "    <tr>\n",
       "      <th>0</th>\n",
       "      <td>“My offer is my best and final offer and if it is not accepted, I would need to reconsider my position as a shareholder,” Musk said in a filing.</td>\n",
       "      <td>Elon Musk Offers To Buy 100% Of Twitter</td>\n",
       "      <td>849</td>\n",
       "      <td>0.998989</td>\n",
       "      <td>2022-04-14</td>\n",
       "    </tr>\n",
       "    <tr>\n",
       "      <th>1</th>\n",
       "      <td>The U.S. Securities and Exchange Commission filed a motion asking for the Tesla CEO to show why he shouldn't be held in contempt.</td>\n",
       "      <td>SEC Says Elon Musk Violated Fraud Settlement With Tweet</td>\n",
       "      <td>7191</td>\n",
       "      <td>0.568103</td>\n",
       "      <td>2019-02-26</td>\n",
       "    </tr>\n",
       "    <tr>\n",
       "      <th>2</th>\n",
       "      <td>Delaware Chancery Judge Kathaleen McCormick dealt the world's richest person a setback in ordering a speedy trial on his abandoned deal to buy Twitter.</td>\n",
       "      <td>Twitter Lawyer Calls Elon Musk 'Committed Enemy' As Judge Sets October Trial</td>\n",
       "      <td>353</td>\n",
       "      <td>0.562954</td>\n",
       "      <td>2022-07-20</td>\n",
       "    </tr>\n",
       "    <tr>\n",
       "      <th>3</th>\n",
       "      <td>Recent statements by CEO Howard Schultz offer a glimpse of some of the hardball tactics that might lay ahead.</td>\n",
       "      <td>For The Starbucks Union Campaign, A Bruising Contract Fight Is Just Beginning</td>\n",
       "      <td>837</td>\n",
       "      <td>0.494070</td>\n",
       "      <td>2022-04-16</td>\n",
       "    </tr>\n",
       "    <tr>\n",
       "      <th>4</th>\n",
       "      <td>Don't bet against Musk.</td>\n",
       "      <td>Why Elon Musk’s Plan To Merge Tesla With SolarCity Will Probably Work</td>\n",
       "      <td>59220</td>\n",
       "      <td>0.479866</td>\n",
       "      <td>2016-08-16</td>\n",
       "    </tr>\n",
       "    <tr>\n",
       "      <th>5</th>\n",
       "      <td>The decision comes as surging oil prices have been rattling global markets and after Ukraine’s foreign minister criticized Shell for continuing to buy Russian oil.</td>\n",
       "      <td>Shell Says It Will Stop Buying Russian Oil, Natural Gas</td>\n",
       "      <td>1054</td>\n",
       "      <td>0.478979</td>\n",
       "      <td>2022-03-08</td>\n",
       "    </tr>\n",
       "    <tr>\n",
       "      <th>6</th>\n",
       "      <td>Android creator Andy Rubin, accused of sexual harassment, was given a severance package worth $240 million, according to the lawsuit.</td>\n",
       "      <td>Google's Alphabet Settles With Shareholders Over Payoffs To Execs Accused Of Harassment</td>\n",
       "      <td>4025</td>\n",
       "      <td>0.478042</td>\n",
       "      <td>2020-09-26</td>\n",
       "    </tr>\n",
       "    <tr>\n",
       "      <th>7</th>\n",
       "      <td>Starbucks' move follows McDonald's exit from the Russian market last week.</td>\n",
       "      <td>Starbucks Leaving Russian Market, Shutting 130 Stores</td>\n",
       "      <td>632</td>\n",
       "      <td>0.467965</td>\n",
       "      <td>2022-05-23</td>\n",
       "    </tr>\n",
       "    <tr>\n",
       "      <th>8</th>\n",
       "      <td>Elon Musk's empire is consolidating.</td>\n",
       "      <td>Tesla Is Buying Sister Company SolarCity For $2.6 Billion</td>\n",
       "      <td>60483</td>\n",
       "      <td>0.465636</td>\n",
       "      <td>2016-08-01</td>\n",
       "    </tr>\n",
       "    <tr>\n",
       "      <th>9</th>\n",
       "      <td>The billionaire wants to marry Tesla and SolarCity. But he says SpaceX should remain a bachelor.</td>\n",
       "      <td>The One Company Elon Musk Wants To Keep Independent</td>\n",
       "      <td>60237</td>\n",
       "      <td>0.462553</td>\n",
       "      <td>2016-08-04</td>\n",
       "    </tr>\n",
       "  </tbody>\n",
       "</table>\n",
       "</div>"
      ],
      "text/plain": [
       "                                                                                                                                                           description  \\\n",
       "0                     “My offer is my best and final offer and if it is not accepted, I would need to reconsider my position as a shareholder,” Musk said in a filing.   \n",
       "1                                    The U.S. Securities and Exchange Commission filed a motion asking for the Tesla CEO to show why he shouldn't be held in contempt.   \n",
       "2              Delaware Chancery Judge Kathaleen McCormick dealt the world's richest person a setback in ordering a speedy trial on his abandoned deal to buy Twitter.   \n",
       "3                                                        Recent statements by CEO Howard Schultz offer a glimpse of some of the hardball tactics that might lay ahead.   \n",
       "4                                                                                                                                              Don't bet against Musk.   \n",
       "5  The decision comes as surging oil prices have been rattling global markets and after Ukraine’s foreign minister criticized Shell for continuing to buy Russian oil.   \n",
       "6                                Android creator Andy Rubin, accused of sexual harassment, was given a severance package worth $240 million, according to the lawsuit.   \n",
       "7                                                                                           Starbucks' move follows McDonald's exit from the Russian market last week.   \n",
       "8                                                                                                                                 Elon Musk's empire is consolidating.   \n",
       "9                                                                     The billionaire wants to marry Tesla and SolarCity. But he says SpaceX should remain a bachelor.   \n",
       "\n",
       "                                                                                  headline  \\\n",
       "0                                                  Elon Musk Offers To Buy 100% Of Twitter   \n",
       "1                                  SEC Says Elon Musk Violated Fraud Settlement With Tweet   \n",
       "2             Twitter Lawyer Calls Elon Musk 'Committed Enemy' As Judge Sets October Trial   \n",
       "3            For The Starbucks Union Campaign, A Bruising Contract Fight Is Just Beginning   \n",
       "4                    Why Elon Musk’s Plan To Merge Tesla With SolarCity Will Probably Work   \n",
       "5                                  Shell Says It Will Stop Buying Russian Oil, Natural Gas   \n",
       "6  Google's Alphabet Settles With Shareholders Over Payoffs To Execs Accused Of Harassment   \n",
       "7                                    Starbucks Leaving Russian Market, Shutting 130 Stores   \n",
       "8                                Tesla Is Buying Sister Company SolarCity For $2.6 Billion   \n",
       "9                                      The One Company Elon Musk Wants To Keep Independent   \n",
       "\n",
       "      id  similarity_score release_date  \n",
       "0    849          0.998989   2022-04-14  \n",
       "1   7191          0.568103   2019-02-26  \n",
       "2    353          0.562954   2022-07-20  \n",
       "3    837          0.494070   2022-04-16  \n",
       "4  59220          0.479866   2016-08-16  \n",
       "5   1054          0.478979   2022-03-08  \n",
       "6   4025          0.478042   2020-09-26  \n",
       "7    632          0.467965   2022-05-23  \n",
       "8  60483          0.465636   2016-08-01  \n",
       "9  60237          0.462553   2016-08-04  "
      ]
     },
     "execution_count": 22,
     "metadata": {},
     "output_type": "execute_result"
    }
   ],
   "source": [
    "result = app.query(\n",
    "    news_query,\n",
    "    description_weight=1,\n",
    "    headline_weight=1,\n",
    "    news_id=\"849\",\n",
    "    limit=TOP_N,\n",
    ")\n",
    "\n",
    "df = sl.PandasConverter.to_pandas(result)\n",
    "sl.PandasConverter.format_date_column(df, \"release_timestamp\", \"release_date\")"
   ]
  },
  {
   "cell_type": "markdown",
   "id": "b91aef71-921a-48cf-ba4b-3751b594fa35",
   "metadata": {},
   "source": [
    "That we can start biasing towards recency, navigating the tradeoff of letting less connected but recent news into the mix. "
   ]
  },
  {
   "cell_type": "code",
   "execution_count": 23,
   "id": "9740a69d-b11b-4f63-b13a-8230565f85b7",
   "metadata": {},
   "outputs": [
    {
     "data": {
      "text/html": [
       "<div>\n",
       "<style scoped>\n",
       "    .dataframe tbody tr th:only-of-type {\n",
       "        vertical-align: middle;\n",
       "    }\n",
       "\n",
       "    .dataframe tbody tr th {\n",
       "        vertical-align: top;\n",
       "    }\n",
       "\n",
       "    .dataframe thead th {\n",
       "        text-align: right;\n",
       "    }\n",
       "</style>\n",
       "<table border=\"1\" class=\"dataframe\">\n",
       "  <thead>\n",
       "    <tr style=\"text-align: right;\">\n",
       "      <th></th>\n",
       "      <th>description</th>\n",
       "      <th>headline</th>\n",
       "      <th>id</th>\n",
       "      <th>similarity_score</th>\n",
       "      <th>release_date</th>\n",
       "    </tr>\n",
       "  </thead>\n",
       "  <tbody>\n",
       "    <tr>\n",
       "      <th>0</th>\n",
       "      <td>“My offer is my best and final offer and if it is not accepted, I would need to reconsider my position as a shareholder,” Musk said in a filing.</td>\n",
       "      <td>Elon Musk Offers To Buy 100% Of Twitter</td>\n",
       "      <td>849</td>\n",
       "      <td>0.998989</td>\n",
       "      <td>2022-04-14</td>\n",
       "    </tr>\n",
       "    <tr>\n",
       "      <th>1</th>\n",
       "      <td>The U.S. Securities and Exchange Commission filed a motion asking for the Tesla CEO to show why he shouldn't be held in contempt.</td>\n",
       "      <td>SEC Says Elon Musk Violated Fraud Settlement With Tweet</td>\n",
       "      <td>7191</td>\n",
       "      <td>0.568103</td>\n",
       "      <td>2019-02-26</td>\n",
       "    </tr>\n",
       "    <tr>\n",
       "      <th>2</th>\n",
       "      <td>Delaware Chancery Judge Kathaleen McCormick dealt the world's richest person a setback in ordering a speedy trial on his abandoned deal to buy Twitter.</td>\n",
       "      <td>Twitter Lawyer Calls Elon Musk 'Committed Enemy' As Judge Sets October Trial</td>\n",
       "      <td>353</td>\n",
       "      <td>0.562954</td>\n",
       "      <td>2022-07-20</td>\n",
       "    </tr>\n",
       "    <tr>\n",
       "      <th>3</th>\n",
       "      <td>Recent statements by CEO Howard Schultz offer a glimpse of some of the hardball tactics that might lay ahead.</td>\n",
       "      <td>For The Starbucks Union Campaign, A Bruising Contract Fight Is Just Beginning</td>\n",
       "      <td>837</td>\n",
       "      <td>0.494070</td>\n",
       "      <td>2022-04-16</td>\n",
       "    </tr>\n",
       "    <tr>\n",
       "      <th>4</th>\n",
       "      <td>Don't bet against Musk.</td>\n",
       "      <td>Why Elon Musk’s Plan To Merge Tesla With SolarCity Will Probably Work</td>\n",
       "      <td>59220</td>\n",
       "      <td>0.479866</td>\n",
       "      <td>2016-08-16</td>\n",
       "    </tr>\n",
       "    <tr>\n",
       "      <th>5</th>\n",
       "      <td>The decision comes as surging oil prices have been rattling global markets and after Ukraine’s foreign minister criticized Shell for continuing to buy Russian oil.</td>\n",
       "      <td>Shell Says It Will Stop Buying Russian Oil, Natural Gas</td>\n",
       "      <td>1054</td>\n",
       "      <td>0.478979</td>\n",
       "      <td>2022-03-08</td>\n",
       "    </tr>\n",
       "    <tr>\n",
       "      <th>6</th>\n",
       "      <td>Android creator Andy Rubin, accused of sexual harassment, was given a severance package worth $240 million, according to the lawsuit.</td>\n",
       "      <td>Google's Alphabet Settles With Shareholders Over Payoffs To Execs Accused Of Harassment</td>\n",
       "      <td>4025</td>\n",
       "      <td>0.478042</td>\n",
       "      <td>2020-09-26</td>\n",
       "    </tr>\n",
       "    <tr>\n",
       "      <th>7</th>\n",
       "      <td>Starbucks' move follows McDonald's exit from the Russian market last week.</td>\n",
       "      <td>Starbucks Leaving Russian Market, Shutting 130 Stores</td>\n",
       "      <td>632</td>\n",
       "      <td>0.467965</td>\n",
       "      <td>2022-05-23</td>\n",
       "    </tr>\n",
       "    <tr>\n",
       "      <th>8</th>\n",
       "      <td>Elon Musk's empire is consolidating.</td>\n",
       "      <td>Tesla Is Buying Sister Company SolarCity For $2.6 Billion</td>\n",
       "      <td>60483</td>\n",
       "      <td>0.465636</td>\n",
       "      <td>2016-08-01</td>\n",
       "    </tr>\n",
       "    <tr>\n",
       "      <th>9</th>\n",
       "      <td>The billionaire wants to marry Tesla and SolarCity. But he says SpaceX should remain a bachelor.</td>\n",
       "      <td>The One Company Elon Musk Wants To Keep Independent</td>\n",
       "      <td>60237</td>\n",
       "      <td>0.462553</td>\n",
       "      <td>2016-08-04</td>\n",
       "    </tr>\n",
       "  </tbody>\n",
       "</table>\n",
       "</div>"
      ],
      "text/plain": [
       "                                                                                                                                                           description  \\\n",
       "0                     “My offer is my best and final offer and if it is not accepted, I would need to reconsider my position as a shareholder,” Musk said in a filing.   \n",
       "1                                    The U.S. Securities and Exchange Commission filed a motion asking for the Tesla CEO to show why he shouldn't be held in contempt.   \n",
       "2              Delaware Chancery Judge Kathaleen McCormick dealt the world's richest person a setback in ordering a speedy trial on his abandoned deal to buy Twitter.   \n",
       "3                                                        Recent statements by CEO Howard Schultz offer a glimpse of some of the hardball tactics that might lay ahead.   \n",
       "4                                                                                                                                              Don't bet against Musk.   \n",
       "5  The decision comes as surging oil prices have been rattling global markets and after Ukraine’s foreign minister criticized Shell for continuing to buy Russian oil.   \n",
       "6                                Android creator Andy Rubin, accused of sexual harassment, was given a severance package worth $240 million, according to the lawsuit.   \n",
       "7                                                                                           Starbucks' move follows McDonald's exit from the Russian market last week.   \n",
       "8                                                                                                                                 Elon Musk's empire is consolidating.   \n",
       "9                                                                     The billionaire wants to marry Tesla and SolarCity. But he says SpaceX should remain a bachelor.   \n",
       "\n",
       "                                                                                  headline  \\\n",
       "0                                                  Elon Musk Offers To Buy 100% Of Twitter   \n",
       "1                                  SEC Says Elon Musk Violated Fraud Settlement With Tweet   \n",
       "2             Twitter Lawyer Calls Elon Musk 'Committed Enemy' As Judge Sets October Trial   \n",
       "3            For The Starbucks Union Campaign, A Bruising Contract Fight Is Just Beginning   \n",
       "4                    Why Elon Musk’s Plan To Merge Tesla With SolarCity Will Probably Work   \n",
       "5                                  Shell Says It Will Stop Buying Russian Oil, Natural Gas   \n",
       "6  Google's Alphabet Settles With Shareholders Over Payoffs To Execs Accused Of Harassment   \n",
       "7                                    Starbucks Leaving Russian Market, Shutting 130 Stores   \n",
       "8                                Tesla Is Buying Sister Company SolarCity For $2.6 Billion   \n",
       "9                                      The One Company Elon Musk Wants To Keep Independent   \n",
       "\n",
       "      id  similarity_score release_date  \n",
       "0    849          0.998989   2022-04-14  \n",
       "1   7191          0.568103   2019-02-26  \n",
       "2    353          0.562954   2022-07-20  \n",
       "3    837          0.494070   2022-04-16  \n",
       "4  59220          0.479866   2016-08-16  \n",
       "5   1054          0.478979   2022-03-08  \n",
       "6   4025          0.478042   2020-09-26  \n",
       "7    632          0.467965   2022-05-23  \n",
       "8  60483          0.465636   2016-08-01  \n",
       "9  60237          0.462553   2016-08-04  "
      ]
     },
     "execution_count": 23,
     "metadata": {},
     "output_type": "execute_result"
    }
   ],
   "source": [
    "result = app.query(\n",
    "    news_query,\n",
    "    description_weight=1,\n",
    "    headline_weight=1,\n",
    "    recency_weight=1,\n",
    "    news_id=\"849\",\n",
    "    limit=TOP_N,\n",
    ")\n",
    "\n",
    "df = sl.PandasConverter.to_pandas(result)\n",
    "sl.PandasConverter.format_date_column(df, \"release_timestamp\", \"release_date\")"
   ]
  }
 ],
 "metadata": {
  "kernelspec": {
   "display_name": ".venv",
   "language": "python",
   "name": "python3"
  },
  "language_info": {
   "codemirror_mode": {
    "name": "ipython",
    "version": 3
   },
   "file_extension": ".py",
   "mimetype": "text/x-python",
   "name": "python",
   "nbconvert_exporter": "python",
   "pygments_lexer": "ipython3",
   "version": "3.11.5"
  }
 },
 "nbformat": 4,
 "nbformat_minor": 5
}
